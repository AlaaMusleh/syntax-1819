{
 "cells": [
  {
   "cell_type": "markdown",
   "metadata": {
    "slideshow": {
     "slide_type": "slide"
    }
   },
   "source": [
    "***Vorlesung 'Syntax natürlicher Sprachen', WS 2018/19***\n",
    "\n",
    "---\n",
    "# Übung 6"
   ]
  },
  {
   "cell_type": "code",
   "execution_count": 1,
   "metadata": {
    "slideshow": {
     "slide_type": "fragment"
    }
   },
   "outputs": [],
   "source": [
    "from exercises_6 import *\n",
    "from questions import aufgabe\n",
    "from nltk.tree import Tree\n",
    "from nltk import FeatStruct\n",
    "from sklearn.metrics import accuracy_score"
   ]
  },
  {
   "cell_type": "markdown",
   "metadata": {
    "slideshow": {
     "slide_type": "slide"
    }
   },
   "source": [
    "---\n",
    "## Aufgabe 1: Kongruenz 1.0\n",
    "#### Betrachten Sie die folgenden Sätze. Offensichtlich besteht zwischen Artikel und Nomen einer Nominalphrase Kongruenz im Genus.\n",
    "####  Nutzen Sie Merkmalstrukturen in einem Python-Skript zur Überprüfung dieser Kongruenz. Ihr Skript sollte alle untenstehenden Beispiele korrekt als grammatisch/ungrammatisch klassifizieren können."
   ]
  },
  {
   "cell_type": "markdown",
   "metadata": {
    "slideshow": {
     "slide_type": "subslide"
    }
   },
   "source": [
    "  \n",
    "1. - *Der Löffel ist aus Silber.*\n",
    "   - *&ast; Der Gabel ist aus Silber.*\n",
    "   - *&ast; Der Messer ist aus Silber.* <p>\n",
    "    \n",
    "2. - *&ast; Die Löffel ist aus Silber.* \n",
    "   - *Die Gabel ist aus Silber.*\n",
    "   - *&ast; Die Messer ist aus Silber.* <p>\n",
    "   \n",
    "3. - *&ast; Das Löffel ist aus Silber.*\n",
    "   - *&ast; Das Gabel ist aus Silber.*\n",
    "   - *Das Messer ist aus Silber.*"
   ]
  },
  {
   "cell_type": "code",
   "execution_count": 2,
   "metadata": {
    "slideshow": {
     "slide_type": "subslide"
    }
   },
   "outputs": [],
   "source": [
    "test_cases = [\n",
    "    (det, noun)\n",
    "    for det in [\"der\", \"die\", \"das\"]\n",
    "    for noun in [\"Löffel\", \"Gabel\", \"Messer\"]\n",
    "]\n",
    "truth = [\n",
    "    True, False, False,\n",
    "    False, True, False,\n",
    "    False, False, True\n",
    "]"
   ]
  },
  {
   "cell_type": "code",
   "execution_count": 3,
   "metadata": {
    "slideshow": {
     "slide_type": "fragment"
    }
   },
   "outputs": [
    {
     "data": {
      "text/plain": [
       "[('der', 'Löffel'),\n",
       " ('der', 'Gabel'),\n",
       " ('der', 'Messer'),\n",
       " ('die', 'Löffel'),\n",
       " ('die', 'Gabel'),\n",
       " ('die', 'Messer'),\n",
       " ('das', 'Löffel'),\n",
       " ('das', 'Gabel'),\n",
       " ('das', 'Messer')]"
      ]
     },
     "execution_count": 3,
     "metadata": {},
     "output_type": "execute_result"
    }
   ],
   "source": [
    "test_cases"
   ]
  },
  {
   "cell_type": "code",
   "execution_count": 4,
   "metadata": {
    "slideshow": {
     "slide_type": "subslide"
    }
   },
   "outputs": [],
   "source": [
    "def is_correct(det, noun):\n",
    "    # Baseline: Alles ist grammatisch!\n",
    "    return True"
   ]
  },
  {
   "cell_type": "code",
   "execution_count": 5,
   "metadata": {
    "scrolled": true,
    "slideshow": {
     "slide_type": "subslide"
    }
   },
   "outputs": [
    {
     "name": "stdout",
     "output_type": "stream",
     "text": [
      "Accuracy: 33.33 %\n"
     ]
    }
   ],
   "source": [
    "# Evaluation\n",
    "pred = []\n",
    "for nomPhr in test_cases:\n",
    "    pred.append(is_correct(*nomPhr))\n",
    "\n",
    "print(\"Accuracy: {:.2f} %\".format(accuracy_score(truth, pred)*100))"
   ]
  },
  {
   "cell_type": "markdown",
   "metadata": {
    "slideshow": {
     "slide_type": "slide"
    }
   },
   "source": [
    "---\n",
    "## Aufgabe 2: Semantische Merkmalstrukturen\n",
    "#### Implementieren Sie die folgenden Merkmalstrukturen als `nltk.FeatStruct` und schreiben Sie ein Programm, das für einen gegebenen Satz die richtige Merkmalstruktur aus dem Lexikon auswählt und die Lücken für Subjekt und Objekt des Satzes füllt. Geben Sie anschließend die vollständige Merkmalstruktur auf der Standardausgabe aus."
   ]
  },
  {
   "cell_type": "markdown",
   "metadata": {
    "slideshow": {
     "slide_type": "subslide"
    }
   },
   "source": [
    "$$\n",
    "\\left [ % draw the opening left bracket\n",
    "\\begin{array}{ll}   % begin a two column array\n",
    "   CAT & V \\\\\n",
    "   ORTH & \\text{folgt} \\\\\n",
    "   SYN &  \\left  [ \\begin{array}{ll}\n",
    "                        SBJ & \\boxed{1}\\\\\n",
    "                        OBJ & \\boxed{2} \\\\     \n",
    "                    \\end{array} \n",
    "           \\right  ]  \\\\\n",
    "   SEM   & \\left [ \\begin{array}{ll}\n",
    "                          AGT & \\boxed{1} \\\\\n",
    "                          PAT & \\boxed{2} \\\\\n",
    "                   \\end{array}\n",
    "           \\right ]\n",
    "\\end{array} % end the outer array\n",
    "\\right ]    % closing right bracket\n",
    "~~~~~~~~~~\n",
    "\\left [ % draw the opening left bracket\n",
    "\\begin{array}{ll}   % begin a two column array\n",
    "   CAT & V \\\\\n",
    "   ORTH & \\text{überraschte} \\\\\n",
    "   SYN &  \\left  [ \\begin{array}{ll}\n",
    "                        SBJ & \\boxed{1}\\\\\n",
    "                        OBJ & \\boxed{2} \\\\     \n",
    "                    \\end{array} \n",
    "           \\right  ]  \\\\\n",
    "   SEM   & \\left [ \\begin{array}{ll}\n",
    "                          SRC & \\boxed{1} \\\\\n",
    "                          EXP & \\boxed{2} \\\\\n",
    "                   \\end{array}\n",
    "           \\right ]\n",
    "\\end{array} % end the outer array\n",
    "\\right ]    % closing right bracket\n",
    "$$"
   ]
  },
  {
   "cell_type": "markdown",
   "metadata": {
    "slideshow": {
     "slide_type": "subslide"
    }
   },
   "source": [
    "#### _Anmerkung_: Sie dürfen annehmen, dass  wir es nur mit sehr einfachen Sätzen zu tun haben, in denen das Token direkt vor dem Verb dem Subjekt und das Token direkt danach dem Objekt entspricht.\n",
    "\n",
    "#### Testen Sie Ihr Programm mit den folgenden Sätzen:"
   ]
  },
  {
   "cell_type": "code",
   "execution_count": 6,
   "metadata": {
    "slideshow": {
     "slide_type": "fragment"
    }
   },
   "outputs": [],
   "source": [
    "sentences = [\n",
    "   \"@ARTEde folgt Dir jetzt!\",\n",
    "   \"Das überraschte mich doch sehr!\",\n",
    "   \"Wer folgt wem auf Twitter?\",\n",
    "   \"John überraschte Jane mit einer richtigen Antwort.\" \n",
    "]"
   ]
  },
  {
   "cell_type": "code",
   "execution_count": 7,
   "metadata": {
    "slideshow": {
     "slide_type": "subslide"
    }
   },
   "outputs": [],
   "source": [
    "lexicon = {\n",
    "    # feature structures go here\n",
    "}"
   ]
  },
  {
   "cell_type": "code",
   "execution_count": 8,
   "metadata": {
    "slideshow": {
     "slide_type": "subslide"
    }
   },
   "outputs": [],
   "source": [
    "#  In: sentence as a string\n",
    "# Out: semantic feature structure\n",
    "def semantic_parse(sentence):\n",
    "    pass"
   ]
  },
  {
   "cell_type": "code",
   "execution_count": 9,
   "metadata": {
    "slideshow": {
     "slide_type": "subslide"
    }
   },
   "outputs": [
    {
     "name": "stdout",
     "output_type": "stream",
     "text": [
      "\n",
      "@ARTEde folgt Dir jetzt!\n",
      "None\n",
      "\n",
      "Das überraschte mich doch sehr!\n",
      "None\n",
      "\n",
      "Wer folgt wem auf Twitter?\n",
      "None\n",
      "\n",
      "John überraschte Jane mit einer richtigen Antwort.\n",
      "None\n"
     ]
    }
   ],
   "source": [
    "for sent in sentences:\n",
    "    fs = semantic_parse(sent)\n",
    "    print()\n",
    "    print(sent)\n",
    "    print(fs)"
   ]
  },
  {
   "cell_type": "markdown",
   "metadata": {
    "slideshow": {
     "slide_type": "slide"
    }
   },
   "source": [
    "---\n",
    "## Aufgabe 3: Adjektivdeklination\n",
    "\n",
    "#### Die Adjektivdeklination im Deutschen bereitet vielen Deutschlernern Schwierigkeiten. Stellen Sie sich vor, Sie wollten einem Deutschlerner plausibel machen, dass die Adjektivdeklination keine reine Willkür ist.\n",
    "\n",
    "#### Wählen Sie zur Illustration *das alte Bier* und *altes Bier*, und deklinieren Sie diese Nominalphrasen in allen vier Kasus.\n",
    "\n",
    "#### Auf welche Gesetzmäßigkeiten würden Sie hinweisen? \n",
    "\n",
    "#### Beantworten Sie auch die folgenden Fragen!"
   ]
  },
  {
   "cell_type": "markdown",
   "metadata": {
    "slideshow": {
     "slide_type": "subslide"
    }
   },
   "source": [
    "| Nominativ | altes Bier | das alte Bier\n",
    "| ---------- | ----------------- | ----------------- | \n",
    "| Genitiv | ... | ... | \n",
    "| Dativ | ... | ... | \n",
    "| Akkusativ | ... | ... | "
   ]
  },
  {
   "cell_type": "code",
   "execution_count": 10,
   "metadata": {
    "scrolled": false,
    "slideshow": {
     "slide_type": "subslide"
    }
   },
   "outputs": [
    {
     "data": {
      "application/vnd.jupyter.widget-view+json": {
       "model_id": "8fcddbdc600b49f69b90fcd7c4a72bbb",
       "version_major": 2,
       "version_minor": 0
      },
      "text/plain": [
       "SingleChoice(children=(HTML(value='<h4 style=\"font-size:14px;\">Wie wird die Deklination der Nominalphrase <i>a…"
      ]
     },
     "metadata": {},
     "output_type": "display_data"
    },
    {
     "data": {
      "application/vnd.jupyter.widget-view+json": {
       "model_id": "6f5283b8beff402ea92e213fa077b5c8",
       "version_major": 2,
       "version_minor": 0
      },
      "text/plain": [
       "SingleChoice(children=(HTML(value='<h4 style=\"font-size:14px;\">Wie wird die Deklination der Nominalphrase <i>d…"
      ]
     },
     "metadata": {},
     "output_type": "display_data"
    },
    {
     "data": {
      "application/vnd.jupyter.widget-view+json": {
       "model_id": "1f0160707f52413c9a07bda05d1e7135",
       "version_major": 2,
       "version_minor": 0
      },
      "text/plain": [
       "SingleChoice(children=(HTML(value='<h4 style=\"font-size:14px;\">Für die Deklination ist hier relevant, ob das A…"
      ]
     },
     "metadata": {},
     "output_type": "display_data"
    },
    {
     "data": {
      "application/vnd.jupyter.widget-view+json": {
       "model_id": "793445aaa8594639b2efe040f26a18c9",
       "version_major": 2,
       "version_minor": 0
      },
      "text/plain": [
       "MultipleChoice(children=(HTML(value='<h4 style=\"font-size:14px;\">Welche Aussagen über Adjektive stimmen?</h4>'…"
      ]
     },
     "metadata": {},
     "output_type": "display_data"
    },
    {
     "data": {
      "application/vnd.jupyter.widget-view+json": {
       "model_id": "81fb47a5c0a34e3a9ea888d29f04e1ed",
       "version_major": 2,
       "version_minor": 0
      },
      "text/plain": [
       "MultipleChoice(children=(HTML(value='<h4 style=\"font-size:14px;\">Welche Aussagen gelten für Nominalphrasen mit…"
      ]
     },
     "metadata": {},
     "output_type": "display_data"
    },
    {
     "data": {
      "application/vnd.jupyter.widget-view+json": {
       "model_id": "1763cbfa7364459a9ca4e6327e195336",
       "version_major": 2,
       "version_minor": 0
      },
      "text/plain": [
       "MultipleChoice(children=(HTML(value='<h4 style=\"font-size:14px;\">Welche Aussagen gelten für den Fall, dass das…"
      ]
     },
     "metadata": {},
     "output_type": "display_data"
    }
   ],
   "source": [
    "aufgabe(blatt6_3)"
   ]
  },
  {
   "cell_type": "markdown",
   "metadata": {
    "slideshow": {
     "slide_type": "slide"
    }
   },
   "source": [
    "---\n",
    "## Aufgabe 4: Diathesen\n",
    "\n",
    "#### Erläutern Sie, welche syntaktischen und welche kommunikativ-funktionalen Unterschiede zwischen den folgenden beiden Sätzen bestehen.\n",
    "\n",
    "- *Hausmeister Meier ruft die Feuerwehr an.*\n",
    "- *Die Feuerwehr wird von Hausmeister Meier angerufen.*\n",
    "\n",
    "#### Beantworten Sie auch die folgenden Fragen."
   ]
  },
  {
   "cell_type": "code",
   "execution_count": 11,
   "metadata": {
    "slideshow": {
     "slide_type": "subslide"
    }
   },
   "outputs": [
    {
     "data": {
      "application/vnd.jupyter.widget-view+json": {
       "model_id": "c25537331acb48ceadd4b965b6283a49",
       "version_major": 2,
       "version_minor": 0
      },
      "text/plain": [
       "SingleChoice(children=(HTML(value='<h4 style=\"font-size:14px;\">Schildern beide Sätze denselben Sachverhalt?</h…"
      ]
     },
     "metadata": {},
     "output_type": "display_data"
    },
    {
     "data": {
      "application/vnd.jupyter.widget-view+json": {
       "model_id": "b00bdde1e66d4894abd4ff07c823a071",
       "version_major": 2,
       "version_minor": 0
      },
      "text/plain": [
       "MultipleChoice(children=(HTML(value='<h4 style=\"font-size:14px;\">Welche syntaktischen Unterschiede bestehen?</…"
      ]
     },
     "metadata": {},
     "output_type": "display_data"
    },
    {
     "data": {
      "application/vnd.jupyter.widget-view+json": {
       "model_id": "526ecbb3ebc6479e965ee65206843c16",
       "version_major": 2,
       "version_minor": 0
      },
      "text/plain": [
       "MultipleChoice(children=(HTML(value='<h4 style=\"font-size:14px;\">Welche kommunikativ-funktionalen Unterschiede…"
      ]
     },
     "metadata": {},
     "output_type": "display_data"
    }
   ],
   "source": [
    "aufgabe(blatt6_4)"
   ]
  },
  {
   "cell_type": "markdown",
   "metadata": {
    "slideshow": {
     "slide_type": "slide"
    }
   },
   "source": [
    "---\n",
    "## Aufgabe 5: Semantische Hierarchie\n",
    "\n",
    "#### Vergleichen Sie die folgenden beiden Sätze:\n",
    "- *Peter zerreißt Paul die Hose*\n",
    "- *Die Hose zerreißt*\n",
    "\n",
    "#### Wie kann im Rahmen einer funktionalen Syntaxtheorie (vgl. die semantische Hierarchie <code> Ag > Pat > Rec > Ben > Instr > Loc > Time </code>) erklärt werden, dass hier im Subjekt jeweils eine andere semantische Funktion/Rolle steht?\n",
    "\n",
    "#### Beantworten Sie die folgenden Fragen."
   ]
  },
  {
   "cell_type": "code",
   "execution_count": 12,
   "metadata": {
    "slideshow": {
     "slide_type": "subslide"
    }
   },
   "outputs": [
    {
     "data": {
      "application/vnd.jupyter.widget-view+json": {
       "model_id": "7647f35103084cd788274f6133d3731e",
       "version_major": 2,
       "version_minor": 0
      },
      "text/plain": [
       "SingleChoice(children=(HTML(value='<h4 style=\"font-size:14px;\">Was ist der bevorzugte Kandidat zur Realisierun…"
      ]
     },
     "metadata": {},
     "output_type": "display_data"
    },
    {
     "data": {
      "application/vnd.jupyter.widget-view+json": {
       "model_id": "bd76b916129a4cc8b251e94fc21aa0a8",
       "version_major": 2,
       "version_minor": 0
      },
      "text/plain": [
       "MultipleChoice(children=(HTML(value='<h4 style=\"font-size:14px;\">Was passiert nach semantischer Hierarchie, we…"
      ]
     },
     "metadata": {},
     "output_type": "display_data"
    },
    {
     "data": {
      "application/vnd.jupyter.widget-view+json": {
       "model_id": "eb09d70b581e4c2384be093e989ac205",
       "version_major": 2,
       "version_minor": 0
      },
      "text/plain": [
       "SingleChoice(children=(HTML(value='<h4 style=\"font-size:14px;\">Was ist im zweiten Satz das Subjekt?</h4>', lay…"
      ]
     },
     "metadata": {},
     "output_type": "display_data"
    }
   ],
   "source": [
    "aufgabe(blatt6_5)"
   ]
  },
  {
   "cell_type": "markdown",
   "metadata": {
    "slideshow": {
     "slide_type": "slide"
    }
   },
   "source": [
    "---\n",
    "## Aufgabe 6: Topik-Fokus\n",
    "\n",
    "#### Konstruieren Sie einen Satz, in dem die fokussierte Information am Satzanfang steht. Stellen Sie diesen Satz in einen Minimalkontext, um nachzuweisen, dass das satzeinleitende Glied in der Tat im Fokus steht.\n",
    "\n",
    "#### Ihr Satz könnte die Wörter *Affe* und *Tisch* beinhalten."
   ]
  },
  {
   "cell_type": "markdown",
   "metadata": {
    "slideshow": {
     "slide_type": "fragment"
    }
   },
   "source": [
    "Hier fehlt Ihre Lösung."
   ]
  },
  {
   "cell_type": "markdown",
   "metadata": {
    "slideshow": {
     "slide_type": "slide"
    }
   },
   "source": [
    "--- \n",
    "# Hausaufgaben"
   ]
  },
  {
   "cell_type": "markdown",
   "metadata": {
    "slideshow": {
     "slide_type": "slide"
    }
   },
   "source": [
    "---\n",
    "## Aufgabe 7: Kongruenz 2.0\n",
    "\n",
    "#### Wie wir in Aufgabe 1 gesehen haben, besteht zwischen Artikel und Nomen einer Nominalphrase Kongruenz. Durch den Satzkontext haben wir erzwungen, dass Numerus und Kasus der Beispiele immer konstant waren (Singular, Nominativ). Lassen wir diese Einschränkung weg, ergeben sich noch weitere grammatische Kombinationsmöglichkeiten.\n",
    "\n",
    "| - | Messer | Gabel | Löffel\n",
    "| --- | ----------------- | ----------------- | ----------------- |\n",
    "| der | Pl. Gen. | Sg. Gen./Dat. | Sg. Nom./Pl. Gen. |\n",
    "| des | * | * | * |\n",
    "| dem | Sg. Dat. | * | Sg. Dat. |\n",
    "| den | * | * | Sg. Akk. |\n",
    "| die | Pl. Nom./Akk. | Sg. Nom./Akk. | Pl. Nom./Akk. |\n",
    "| das | Sg. Nom./Akk. | * | * |"
   ]
  },
  {
   "cell_type": "markdown",
   "metadata": {
    "slideshow": {
     "slide_type": "subslide"
    }
   },
   "source": [
    "#### Betrachten Sie das folgende mit Merkmalstrukturen implementierte Vollformlexikon. Schreiben Sie darauf aufbauend ein Programm, dass alle 18 Kombinationen aus obenstehender Tabelle als grammatisch oder ungrammatisch klassifiziert und im ersten Fall die unifizierte(n) Merkmalstruktur(en) ausgibt."
   ]
  },
  {
   "cell_type": "code",
   "execution_count": 13,
   "metadata": {
    "slideshow": {
     "slide_type": "subslide"
    }
   },
   "outputs": [],
   "source": [
    "lexicon = {\n",
    "    \"Messer\": [\n",
    "        FeatStruct(GEN=\"neu\", NUM=\"sg\", KAS=\"nom\"),\n",
    "        FeatStruct(GEN=\"neu\", NUM=\"sg\", KAS=\"akk\"),\n",
    "        FeatStruct(GEN=\"neu\", NUM=\"sg\", KAS=\"dat\"),\n",
    "        FeatStruct(GEN=\"neu\", NUM=\"pl\", KAS=\"nom\"),\n",
    "        FeatStruct(GEN=\"neu\", NUM=\"pl\", KAS=\"akk\"),\n",
    "        FeatStruct(GEN=\"neu\", NUM=\"pl\", KAS=\"gen\")\n",
    "    ],\n",
    "    \"Gabel\": [FeatStruct(NUM=\"sg\", GEN=\"fem\")],\n",
    "    \"Löffel\": [\n",
    "        FeatStruct(GEN=\"mas\", NUM=\"sg\", KAS=\"nom\"),\n",
    "        FeatStruct(GEN=\"mas\", NUM=\"sg\", KAS=\"akk\"),\n",
    "        FeatStruct(GEN=\"mas\", NUM=\"sg\", KAS=\"dat\"),\n",
    "        FeatStruct(GEN=\"mas\", NUM=\"pl\", KAS=\"nom\"),\n",
    "        FeatStruct(GEN=\"mas\", NUM=\"pl\", KAS=\"akk\"),\n",
    "        FeatStruct(GEN=\"mas\", NUM=\"pl\", KAS=\"gen\"),\n",
    "    ],\n",
    "\n",
    "    \"der\": [\n",
    "        FeatStruct(NUM=\"sg\", GEN=\"mas\", KAS=\"nom\"),\n",
    "        FeatStruct(NUM=\"sg\", GEN=\"fem\", KAS=\"dat\"),\n",
    "        FeatStruct(NUM=\"sg\", GEN=\"fem\", KAS=\"gen\"),\n",
    "        FeatStruct(NUM=\"pl\", KAS=\"gen\")\n",
    "    ],\n",
    "    \"des\": [\n",
    "        FeatStruct(NUM=\"sg\", GEN=\"mas\", KAS=\"gen\"),\n",
    "        FeatStruct(NUM=\"sg\", GEN=\"neu\", KAS=\"gen\")\n",
    "    ],\n",
    "    \"dem\": [\n",
    "        FeatStruct(NUM=\"sg\", GEN=\"mas\", KAS=\"dat\"),\n",
    "        FeatStruct(NUM=\"sg\", GEN=\"neu\", KAS=\"dat\"),\n",
    "    ],\n",
    "    \"den\": [\n",
    "        FeatStruct(NUM=\"sg\", GEN=\"mas\", KAS=\"akk\"),\n",
    "        FeatStruct(NUM=\"pl\", KAS=\"dat\"),\n",
    "    ],\n",
    "    \"die\": [\n",
    "        FeatStruct(NUM=\"sg\", GEN=\"fem\", KAS=\"nom\"),\n",
    "        FeatStruct(NUM=\"sg\", GEN=\"fem\", KAS=\"akk\"),\n",
    "        FeatStruct(NUM=\"pl\", KAS=\"nom\"),\n",
    "        FeatStruct(NUM=\"pl\", KAS=\"akk\")\n",
    "    ],\n",
    "    \"das\": [\n",
    "        FeatStruct(NUM=\"sg\", GEN=\"neu\", KAS=\"nom\"),\n",
    "        FeatStruct(NUM=\"sg\", GEN=\"neu\", KAS=\"akk\"),\n",
    "    ]\n",
    "}"
   ]
  },
  {
   "cell_type": "code",
   "execution_count": 14,
   "metadata": {
    "slideshow": {
     "slide_type": "subslide"
    }
   },
   "outputs": [],
   "source": [
    "def predict(artikel, nomen):\n",
    "    return True\n",
    "    # == your code goes here == #"
   ]
  },
  {
   "cell_type": "code",
   "execution_count": 15,
   "metadata": {
    "slideshow": {
     "slide_type": "subslide"
    }
   },
   "outputs": [
    {
     "name": "stdout",
     "output_type": "stream",
     "text": [
      "Accuracy: 56%\n"
     ]
    }
   ],
   "source": [
    "test_cases = [\n",
    "    (det, noun)\n",
    "    for det in [\"der\", \"des\", \"dem\", \"den\", \"die\", \"das\"]\n",
    "    for noun in [\"Messer\", \"Löffel\", \"Gabel\"]\n",
    "]\n",
    "truth = [\n",
    "    True, True, True,\n",
    "    False, False, False,\n",
    "    True, True, False,\n",
    "    False, True, False,\n",
    "    True, True, True,\n",
    "    True, False, False\n",
    "]\n",
    "\n",
    "predictions = []\n",
    "for artikel, nomen in test_cases:\n",
    "    predictions.append(predict(artikel, nomen))\n",
    "\n",
    "print(\n",
    "    \"Accuracy: {:.0f}%\".format(\n",
    "        accuracy_score(truth, predictions)*100\n",
    "    )\n",
    ")"
   ]
  },
  {
   "cell_type": "markdown",
   "metadata": {
    "slideshow": {
     "slide_type": "slide"
    }
   },
   "source": [
    "---\n",
    "## Aufgabe 8: Deklinationsmuster\n",
    "\n",
    "#### Nach welchem Deklinationsmuster wurde in den folgenden Beispielen das Adjektiv dekliniert?\n",
    "\n",
    "- *du blöder Kerl*\n",
    "- *du dumme Gans*\n",
    "- *du albernes Huhn*\n",
    "\n",
    "#### Beantworten Sie auch die folgenden Fragen."
   ]
  },
  {
   "cell_type": "code",
   "execution_count": 16,
   "metadata": {
    "slideshow": {
     "slide_type": "subslide"
    }
   },
   "outputs": [
    {
     "data": {
      "application/vnd.jupyter.widget-view+json": {
       "model_id": "6852daf739a54c9a9dec9652519e8e7c",
       "version_major": 2,
       "version_minor": 0
      },
      "text/plain": [
       "Lueckentext(children=(HTML(value='<i>Vervollständigen Sie den Lückentext: </i>', layout=Layout(justify_content…"
      ]
     },
     "metadata": {},
     "output_type": "display_data"
    }
   ],
   "source": [
    "aufgabe(blatt6_8)"
   ]
  },
  {
   "cell_type": "markdown",
   "metadata": {
    "slideshow": {
     "slide_type": "slide"
    }
   },
   "source": [
    "---\n",
    "## Aufgabe 9: Fragen zu NLTK-Kapitel 9.1\n",
    "\n",
    "#### Lesen Sie das NLTK-Teilkapitel 9.1 (’Grammatical Features’).\n",
    "#### Beantworten Sie insbesondere folgende Fragen:"
   ]
  },
  {
   "cell_type": "markdown",
   "metadata": {
    "slideshow": {
     "slide_type": "subslide"
    }
   },
   "source": [
    "---\n",
    "### Aufgabe 9 a:\n",
    "\n",
    "#### Worin besteht der Unterschied zwischen dem Einsatz von *Features* im POS-Tagging gegenüber dem Einsatz von *Features* in formalen Grammatiken?"
   ]
  },
  {
   "cell_type": "code",
   "execution_count": 17,
   "metadata": {
    "slideshow": {
     "slide_type": "fragment"
    }
   },
   "outputs": [
    {
     "data": {
      "application/vnd.jupyter.widget-view+json": {
       "model_id": "c4bf3a306d8440c0a29c1a5bb5cdcd2b",
       "version_major": 2,
       "version_minor": 0
      },
      "text/plain": [
       "MultipleChoice(children=(HTML(value='<h4 style=\"font-size:14px;\">Wie werden Features beim POS-Tagging verwende…"
      ]
     },
     "metadata": {},
     "output_type": "display_data"
    },
    {
     "data": {
      "application/vnd.jupyter.widget-view+json": {
       "model_id": "796ddb57fef44e018f0389267e060246",
       "version_major": 2,
       "version_minor": 0
      },
      "text/plain": [
       "MultipleChoice(children=(HTML(value='<h4 style=\"font-size:14px;\">Wie werden Features in formalen Grammatiken v…"
      ]
     },
     "metadata": {},
     "output_type": "display_data"
    }
   ],
   "source": [
    "aufgabe(blatt6_9a)"
   ]
  },
  {
   "cell_type": "markdown",
   "metadata": {
    "slideshow": {
     "slide_type": "subslide"
    }
   },
   "source": [
    "---\n",
    "### Aufgabe 9 b:"
   ]
  },
  {
   "cell_type": "code",
   "execution_count": 18,
   "metadata": {
    "slideshow": {
     "slide_type": "fragment"
    }
   },
   "outputs": [
    {
     "data": {
      "application/vnd.jupyter.widget-view+json": {
       "model_id": "747a8815d18540e9963268512c6d5461",
       "version_major": 2,
       "version_minor": 0
      },
      "text/plain": [
       "SingleChoice(children=(HTML(value='<h4 style=\"font-size:14px;\">Welche native python-Datenstruktur bietet sich …"
      ]
     },
     "metadata": {},
     "output_type": "display_data"
    }
   ],
   "source": [
    "aufgabe(blatt6_9b)"
   ]
  },
  {
   "cell_type": "markdown",
   "metadata": {
    "slideshow": {
     "slide_type": "subslide"
    }
   },
   "source": [
    "---\n",
    "### Aufgabe 9 c:"
   ]
  },
  {
   "cell_type": "code",
   "execution_count": 19,
   "metadata": {
    "scrolled": true,
    "slideshow": {
     "slide_type": "fragment"
    }
   },
   "outputs": [
    {
     "data": {
      "application/vnd.jupyter.widget-view+json": {
       "model_id": "bd7579f55c8a45b4903abd121c95fc37",
       "version_major": 2,
       "version_minor": 0
      },
      "text/plain": [
       "SelectionList(children=(HTML(value='<h4 style=\"font-size:14px;\">Um welchen Faktor erhöht sich die Regelanzahl,…"
      ]
     },
     "metadata": {},
     "output_type": "display_data"
    }
   ],
   "source": [
    "aufgabe(blatt6_9c)"
   ]
  },
  {
   "cell_type": "markdown",
   "metadata": {
    "slideshow": {
     "slide_type": "slide"
    }
   },
   "source": [
    "---\n",
    "## Aufgabe 10: Fragen zu NLTK-Kapitel 9.2\n",
    "\n",
    "#### Lesen Sie das NLTK-Teilkapitel 9.2 (’Processing Feature Structures’): http://www.nltk.org/book/ch09.html.\n",
    "\n",
    "#### Beantworten Sie insbesondere folgende Fragen:"
   ]
  },
  {
   "cell_type": "markdown",
   "metadata": {
    "slideshow": {
     "slide_type": "subslide"
    }
   },
   "source": [
    "---\n",
    "### Aufgabe 10 a:\n",
    "#### Welchen Wert hat der feature path <code>(’spouse’, ’address’, ’number’)</code> in (22):(http://www.nltk.org/book/ch09.html#ex-dag03) ? Geben Sie einen zu diesem Pfad äquivalenten Pfad an."
   ]
  },
  {
   "cell_type": "code",
   "execution_count": 20,
   "metadata": {
    "slideshow": {
     "slide_type": "subslide"
    }
   },
   "outputs": [
    {
     "data": {
      "application/vnd.jupyter.widget-view+json": {
       "model_id": "bcbe4ed1e5134ab0a6e153be7ac6e8b4",
       "version_major": 2,
       "version_minor": 0
      },
      "text/plain": [
       "MultipleChoice(children=(HTML(value='<h4 style=\"font-size:14px;\">Beantworten Sie die beiden obigen Fragen.</h4…"
      ]
     },
     "metadata": {},
     "output_type": "display_data"
    }
   ],
   "source": [
    "aufgabe(blatt6_10a)"
   ]
  },
  {
   "cell_type": "markdown",
   "metadata": {
    "slideshow": {
     "slide_type": "subslide"
    }
   },
   "source": [
    "---\n",
    "### Aufgabe 10 b:\n",
    "\n",
    "#### Geben Sie zwei linguistische Merkmalstrukturen FS<sub>0</sub> und FS<sub>1</sub> an, die in einer Subsumptionsbeziehung stehen (FS<sub>0</sub> ⊑ FS<sub>1</sub> ). Was kommt nach (26), Kapitel 9.2.1, dabei heraus, wenn man solche zwei Merkmalstrukturen unifiziert?"
   ]
  },
  {
   "cell_type": "code",
   "execution_count": 21,
   "metadata": {
    "slideshow": {
     "slide_type": "fragment"
    }
   },
   "outputs": [
    {
     "data": {
      "application/vnd.jupyter.widget-view+json": {
       "model_id": "86527d97a644478e9c448397b94751a3",
       "version_major": 2,
       "version_minor": 0
      },
      "text/plain": [
       "MultipleChoice(children=(HTML(value='<h4 style=\"font-size:14px;\">Welche Beispiele erfüllen die obige Subsumpti…"
      ]
     },
     "metadata": {},
     "output_type": "display_data"
    },
    {
     "data": {
      "application/vnd.jupyter.widget-view+json": {
       "model_id": "fb4aa1c202e04dc8944ada12d47d7c2d",
       "version_major": 2,
       "version_minor": 0
      },
      "text/plain": [
       "MultipleChoice(children=(HTML(value='<h4 style=\"font-size:14px;\">Was gilt immer für das Ergebnis der Unifikati…"
      ]
     },
     "metadata": {},
     "output_type": "display_data"
    }
   ],
   "source": [
    "aufgabe(blatt6_10b)"
   ]
  },
  {
   "cell_type": "markdown",
   "metadata": {
    "slideshow": {
     "slide_type": "subslide"
    }
   },
   "source": [
    "---\n",
    "### Aufgabe 10 c:\n",
    "\n",
    "#### Geben Sie eine Merkmalstruktur mit einer zu FS<sub>1</sub> inkompatiblen Merkmalsausprägung an."
   ]
  },
  {
   "cell_type": "code",
   "execution_count": 22,
   "metadata": {
    "slideshow": {
     "slide_type": "fragment"
    }
   },
   "outputs": [
    {
     "data": {
      "application/vnd.jupyter.widget-view+json": {
       "model_id": "731b25f157874e77b00f4888ff536287",
       "version_major": 2,
       "version_minor": 0
      },
      "text/plain": [
       "MultipleChoice(children=(HTML(value='<h4 style=\"font-size:14px;\">Welche der Beispiele erfüllen die Subsumption…"
      ]
     },
     "metadata": {},
     "output_type": "display_data"
    }
   ],
   "source": [
    "aufgabe(blatt6_10c)"
   ]
  },
  {
   "cell_type": "markdown",
   "metadata": {
    "slideshow": {
     "slide_type": "subslide"
    }
   },
   "source": [
    "---\n",
    "### Aufgabe 10 d:"
   ]
  },
  {
   "cell_type": "code",
   "execution_count": 23,
   "metadata": {
    "slideshow": {
     "slide_type": "fragment"
    }
   },
   "outputs": [
    {
     "data": {
      "application/vnd.jupyter.widget-view+json": {
       "model_id": "f18933f6cf0044b2a82d3c82857d1a43",
       "version_major": 2,
       "version_minor": 0
      },
      "text/plain": [
       "MultipleChoice(children=(HTML(value='<h4 style=\"font-size:14px;\">Im Falle, dass im Zuge einer Unifikation Info…"
      ]
     },
     "metadata": {},
     "output_type": "display_data"
    }
   ],
   "source": [
    "aufgabe(blatt6_10d)"
   ]
  },
  {
   "cell_type": "markdown",
   "metadata": {
    "slideshow": {
     "slide_type": "subslide"
    }
   },
   "source": [
    "---\n",
    "### Aufgabe 10 e:"
   ]
  },
  {
   "cell_type": "code",
   "execution_count": 24,
   "metadata": {
    "slideshow": {
     "slide_type": "fragment"
    }
   },
   "outputs": [
    {
     "data": {
      "application/vnd.jupyter.widget-view+json": {
       "model_id": "0480c8457233429facb20b414fcd3bea",
       "version_major": 2,
       "version_minor": 0
      },
      "text/plain": [
       "MultipleChoice(children=(HTML(value='<h4 style=\"font-size:14px;\">Wie läßt sich im NLTK ein äquivalenter Pfad d…"
      ]
     },
     "metadata": {},
     "output_type": "display_data"
    }
   ],
   "source": [
    "aufgabe(blatt6_10e)"
   ]
  }
 ],
 "metadata": {
  "kernelspec": {
   "display_name": "Python 3",
   "language": "python",
   "name": "python3"
  },
  "language_info": {
   "codemirror_mode": {
    "name": "ipython",
    "version": 3
   },
   "file_extension": ".py",
   "mimetype": "text/x-python",
   "name": "python",
   "nbconvert_exporter": "python",
   "pygments_lexer": "ipython3",
   "version": "3.6.6"
  },
  "widgets": {
   "application/vnd.jupyter.widget-state+json": {
    "state": {
     "0080a966b1214a428b81d8ad22ed47c8": {
      "model_module": "@jupyter-widgets/controls",
      "model_module_version": "1.4.0",
      "model_name": "DescriptionStyleModel",
      "state": {
       "description_width": ""
      }
     },
     "0190b8247b52420fb5ffc99db2221a37": {
      "model_module": "@jupyter-widgets/controls",
      "model_module_version": "1.4.0",
      "model_name": "DescriptionStyleModel",
      "state": {
       "description_width": ""
      }
     },
     "01cc6705582a4f259f902b8258e9861e": {
      "model_module": "@jupyter-widgets/controls",
      "model_module_version": "1.4.0",
      "model_name": "HTMLModel",
      "state": {
       "layout": "IPY_MODEL_5d2d47f1d2e24af4a56eb68de9f37101",
       "style": "IPY_MODEL_7c6ade083ac1466cae5ca6597b2fe690",
       "value": "<h4 style=\"font-size:14px;\">Wie werden Features beim POS-Tagging verwendet?</h4>"
      }
     },
     "01fdfe3b16f94b3b944db54494062ea1": {
      "model_module": "@jupyter-widgets/controls",
      "model_module_version": "1.4.0",
      "model_name": "DescriptionStyleModel",
      "state": {
       "description_width": "initial"
      }
     },
     "02106048c8784c4090a0a4b60f5d42cb": {
      "model_module": "@jupyter-widgets/base",
      "model_module_version": "1.1.0",
      "model_name": "LayoutModel",
      "state": {}
     },
     "027c3c519364415d9cae437f61618b5b": {
      "model_module": "@jupyter-widgets/controls",
      "model_module_version": "1.4.0",
      "model_name": "ButtonModel",
      "state": {
       "description": "Korrekt?",
       "layout": "IPY_MODEL_9a46906b92114b03a9d0b9887b90f635",
       "style": "IPY_MODEL_b56a6e4dc7e0480099148fc3a5efb35f"
      }
     },
     "02c693eaaa4b4e9bbbd5b76b7399c7d0": {
      "model_module": "@jupyter-widgets/base",
      "model_module_version": "1.1.0",
      "model_name": "LayoutModel",
      "state": {
       "width": "250px"
      }
     },
     "0302f9f8aea04ff0b4f279fedb3fc712": {
      "model_module": "@jupyter-widgets/base",
      "model_module_version": "1.1.0",
      "model_name": "LayoutModel",
      "state": {}
     },
     "030dfef2e8e746b8acbf31c366beff81": {
      "model_module": "@jupyter-widgets/controls",
      "model_module_version": "1.4.0",
      "model_name": "HTMLModel",
      "state": {
       "layout": "IPY_MODEL_37fd08f3dee041b9874c6780cdf20fc1",
       "style": "IPY_MODEL_77d5dac1e45543fc8b0c4a49fbfc9150",
       "value": "<i>Markieren Sie <ins>alle</ins> passenden Antworten: </i>"
      }
     },
     "030ebfce407b4d3dbff2bffee660e440": {
      "model_module": "@jupyter-widgets/base",
      "model_module_version": "1.1.0",
      "model_name": "LayoutModel",
      "state": {
       "width": "600px"
      }
     },
     "036ced8ff29d4ae8a2fa28f42dd498e5": {
      "model_module": "@jupyter-widgets/base",
      "model_module_version": "1.1.0",
      "model_name": "LayoutModel",
      "state": {}
     },
     "03a9415be6184ff7843da4ff5686a691": {
      "model_module": "@jupyter-widgets/controls",
      "model_module_version": "1.4.0",
      "model_name": "ButtonStyleModel",
      "state": {}
     },
     "0480c8457233429facb20b414fcd3bea": {
      "model_module": "@jupyter-widgets/controls",
      "model_module_version": "1.4.0",
      "model_name": "VBoxModel",
      "state": {
       "children": [
        "IPY_MODEL_1853e1beed4e4bb7aa9fa66c95f5fb5a",
        "IPY_MODEL_2d56e1808ef849c38ece5256048d29f2",
        "IPY_MODEL_dc9944864eec457eb5b9a673591ea102",
        "IPY_MODEL_ce1727f0c6414759a019323d0103de54"
       ],
       "layout": "IPY_MODEL_ef90910c49624fc8a3ca6308a31e1ab4"
      }
     },
     "04cd4bf7ae234ee1b4425cbf273ca42d": {
      "model_module": "@jupyter-widgets/controls",
      "model_module_version": "1.4.0",
      "model_name": "DescriptionStyleModel",
      "state": {
       "description_width": ""
      }
     },
     "0525287ce5b6468e8bf71761cd010525": {
      "model_module": "@jupyter-widgets/controls",
      "model_module_version": "1.4.0",
      "model_name": "CheckboxModel",
      "state": {
       "description": "Es übernimmt immer das Patiens die Subjektfunktion.",
       "disabled": false,
       "layout": "IPY_MODEL_7bc8dcc3a2f0434cbc13ea5d157eaacb",
       "style": "IPY_MODEL_38ac1e4f66034beebe50803bd0d9f596",
       "value": false
      }
     },
     "052e75bb23294d37a97778f6331fcb3f": {
      "model_module": "@jupyter-widgets/controls",
      "model_module_version": "1.4.0",
      "model_name": "DescriptionStyleModel",
      "state": {
       "description_width": "initial"
      }
     },
     "068ef3c76ee0464a973994830fc27867": {
      "model_module": "@jupyter-widgets/controls",
      "model_module_version": "1.4.0",
      "model_name": "CheckboxModel",
      "state": {
       "description": "Es ist undefiniert.",
       "disabled": false,
       "layout": "IPY_MODEL_9807f72b6ddd47079820ccb7fd141a9c",
       "style": "IPY_MODEL_4fc50f62441b49da846da9fe6f01f63d",
       "value": false
      }
     },
     "06fd49f4fa0e4613b9ec03c27318ac5c": {
      "model_module": "@jupyter-widgets/controls",
      "model_module_version": "1.4.0",
      "model_name": "DescriptionStyleModel",
      "state": {
       "description_width": ""
      }
     },
     "07a17051e4114cba91c12253780691a5": {
      "model_module": "@jupyter-widgets/base",
      "model_module_version": "1.1.0",
      "model_name": "LayoutModel",
      "state": {}
     },
     "07b375e2ed134ce5a2692a0c92cc21a6": {
      "model_module": "@jupyter-widgets/controls",
      "model_module_version": "1.4.0",
      "model_name": "DescriptionStyleModel",
      "state": {
       "description_width": ""
      }
     },
     "08026619e8774a3bb21ba4bc70872649": {
      "model_module": "@jupyter-widgets/controls",
      "model_module_version": "1.4.0",
      "model_name": "HBoxModel",
      "state": {
       "children": [
        "IPY_MODEL_a0ca5ca775cb4bf9b2696dd9ae94e2b3",
        "IPY_MODEL_97623e3f92a74c67a457ba7d1a0ff0e3"
       ],
       "layout": "IPY_MODEL_036ced8ff29d4ae8a2fa28f42dd498e5"
      }
     },
     "0851d18ada6440bda7e9ed77931249d6": {
      "model_module": "@jupyter-widgets/controls",
      "model_module_version": "1.4.0",
      "model_name": "ButtonStyleModel",
      "state": {}
     },
     "08988522806f470385f767eef033d079": {
      "model_module": "@jupyter-widgets/base",
      "model_module_version": "1.1.0",
      "model_name": "LayoutModel",
      "state": {
       "width": "600px"
      }
     },
     "08aa7f1e03b2464eb47d0b40580efd7f": {
      "model_module": "@jupyter-widgets/controls",
      "model_module_version": "1.4.0",
      "model_name": "CheckboxModel",
      "state": {
       "description": "Subjekt-Demotion zu Adverbial",
       "disabled": false,
       "layout": "IPY_MODEL_561b187fb4e3469caca45527b37cc50f",
       "style": "IPY_MODEL_5c8151f90eef4ec0943f17b1d2a54931",
       "value": false
      }
     },
     "093760c241c3448293f960e80dd4467c": {
      "model_module": "@jupyter-widgets/base",
      "model_module_version": "1.1.0",
      "model_name": "LayoutModel",
      "state": {
       "width": "250px"
      }
     },
     "0948636498d24fc68fcf1cf2cd72c115": {
      "model_module": "@jupyter-widgets/base",
      "model_module_version": "1.1.0",
      "model_name": "LayoutModel",
      "state": {
       "width": "250px"
      }
     },
     "097f671ce7664c58bce622f7a6232a19": {
      "model_module": "@jupyter-widgets/controls",
      "model_module_version": "1.4.0",
      "model_name": "CheckboxModel",
      "state": {
       "description": "FS0 = [CAT = N, GEN = MASK], FS1 = [CAT = N]",
       "disabled": false,
       "layout": "IPY_MODEL_8b147535945a427398374a4be8c2c318",
       "style": "IPY_MODEL_e28639b6da944220a4681367b77e4610",
       "value": false
      }
     },
     "0a68735dcc1241e282b02eaa5cc9fe70": {
      "model_module": "@jupyter-widgets/base",
      "model_module_version": "1.1.0",
      "model_name": "LayoutModel",
      "state": {}
     },
     "0abc4d9e2ec847efa9ac4c2d84cb871b": {
      "model_module": "@jupyter-widgets/controls",
      "model_module_version": "1.4.0",
      "model_name": "DescriptionStyleModel",
      "state": {
       "description_width": "initial"
      }
     },
     "0b2ece9d6ab2416a97ee79f3446e4c45": {
      "model_module": "@jupyter-widgets/base",
      "model_module_version": "1.1.0",
      "model_name": "LayoutModel",
      "state": {
       "width": "250px"
      }
     },
     "0b9a887974124b679f84dc3f2b480ccd": {
      "model_module": "@jupyter-widgets/controls",
      "model_module_version": "1.4.0",
      "model_name": "ButtonStyleModel",
      "state": {}
     },
     "0bb3062756084b95a63dc86870ce2a02": {
      "model_module": "@jupyter-widgets/controls",
      "model_module_version": "1.4.0",
      "model_name": "HTMLModel",
      "state": {
       "layout": "IPY_MODEL_1fc739251d624b02b96605f74692e833",
       "style": "IPY_MODEL_1986f7084c2843efb96de364258d3fb5",
       "value": "<i>Wählen Sie die <ins>eine</ins> korrekte Antwort aus: </i>"
      }
     },
     "0bcab597a264454a9852451f49f394e6": {
      "model_module": "@jupyter-widgets/base",
      "model_module_version": "1.1.0",
      "model_name": "LayoutModel",
      "state": {}
     },
     "0c646f6c714446cc9e4da30fc42b21d7": {
      "model_module": "@jupyter-widgets/controls",
      "model_module_version": "1.4.0",
      "model_name": "ButtonStyleModel",
      "state": {}
     },
     "0cae84e674bc47fbb41f6aaef89b7bba": {
      "model_module": "@jupyter-widgets/controls",
      "model_module_version": "1.4.0",
      "model_name": "VBoxModel",
      "state": {
       "children": [
        "IPY_MODEL_3bcd5904767745ac9e5b4d25c7bb434f",
        "IPY_MODEL_892df5efeb2a4442b19de776f8c4601f",
        "IPY_MODEL_a153042a9f394972abe6621d4044fa12"
       ],
       "layout": "IPY_MODEL_a129bf24c3454d8da66f9c31f0d1930f"
      }
     },
     "0d0194aa2e1546c8a3ad432d9852e7bd": {
      "model_module": "@jupyter-widgets/controls",
      "model_module_version": "1.4.0",
      "model_name": "CheckboxModel",
      "state": {
       "description": "Es ist die allgemeinere Merkmalsstruktur.",
       "disabled": false,
       "layout": "IPY_MODEL_da789aab0eaf45bcba3bf3072821e493",
       "style": "IPY_MODEL_533b602e764e4d248b363dcd2f78920f",
       "value": false
      }
     },
     "0d6e2dc8109e4ade9aedc7fa18677c62": {
      "model_module": "@jupyter-widgets/controls",
      "model_module_version": "1.4.0",
      "model_name": "DescriptionStyleModel",
      "state": {
       "description_width": "initial"
      }
     },
     "0d91a2e0589244929c963f76aa3466e9": {
      "model_module": "@jupyter-widgets/controls",
      "model_module_version": "1.4.0",
      "model_name": "VBoxModel",
      "state": {
       "children": [
        "IPY_MODEL_709855fccdcd4b82a4b6832deef3c202",
        "IPY_MODEL_e78c68215bce469dbcc544c9f7bb3002",
        "IPY_MODEL_83ba54bb19f540309543e73dc2c9a455",
        "IPY_MODEL_097f671ce7664c58bce622f7a6232a19",
        "IPY_MODEL_a1e6e37b2de045bdbea049439daf5b96"
       ],
       "layout": "IPY_MODEL_cbd4e639bee54e07aa23daf602bade35"
      }
     },
     "106076ad69694f7eadbf365894dfe19e": {
      "model_module": "@jupyter-widgets/base",
      "model_module_version": "1.1.0",
      "model_name": "LayoutModel",
      "state": {
       "width": "250px"
      }
     },
     "10c16b80c711439693812defd5cce921": {
      "model_module": "@jupyter-widgets/controls",
      "model_module_version": "1.4.0",
      "model_name": "CheckboxModel",
      "state": {
       "description": "Sie werden gelöscht.",
       "disabled": false,
       "layout": "IPY_MODEL_c72cec01a6bb45f584a85ca74e049436",
       "style": "IPY_MODEL_ec3fc235412a4b5cac1245104c4e9b14",
       "value": false
      }
     },
     "1120dc90d7a2431daa3c193d168e5d18": {
      "model_module": "@jupyter-widgets/controls",
      "model_module_version": "1.4.0",
      "model_name": "CheckboxModel",
      "state": {
       "description": "Variable: <- (1)",
       "disabled": false,
       "layout": "IPY_MODEL_fc1556edbe594dee854788056d35470e",
       "style": "IPY_MODEL_5f2097d6dfb44cbab93a7a36dfd53954",
       "value": false
      }
     },
     "1254ffd50eb94361a5f35eadd9504118": {
      "model_module": "@jupyter-widgets/controls",
      "model_module_version": "1.4.0",
      "model_name": "DescriptionStyleModel",
      "state": {
       "description_width": ""
      }
     },
     "129da1cfd15f4500af05ce4c3089f910": {
      "model_module": "@jupyter-widgets/controls",
      "model_module_version": "1.4.0",
      "model_name": "VBoxModel",
      "state": {
       "children": [
        "IPY_MODEL_8b765e7509d942baba1f35698be4271b",
        "IPY_MODEL_4b29a8597c7b48c1b9cf196351fc1352",
        "IPY_MODEL_15492ee8ddf84c64a0b9ba53c606b9ea"
       ],
       "layout": "IPY_MODEL_3da36e421c52427c8cd1113beb58251f"
      }
     },
     "12dee9159249416ab2f721a47291f2fe": {
      "model_module": "@jupyter-widgets/controls",
      "model_module_version": "1.4.0",
      "model_name": "ButtonStyleModel",
      "state": {}
     },
     "13d426bbff6e4553aa8fe42176818bea": {
      "model_module": "@jupyter-widgets/controls",
      "model_module_version": "1.4.0",
      "model_name": "DescriptionStyleModel",
      "state": {
       "description_width": "initial"
      }
     },
     "13dfafcdcffa488ca82ca45675b6124a": {
      "model_module": "@jupyter-widgets/controls",
      "model_module_version": "1.4.0",
      "model_name": "ButtonModel",
      "state": {
       "description": "Benefaktiv",
       "layout": "IPY_MODEL_8d9a1f8d9dbe44dd882b436efba5e4e0",
       "style": "IPY_MODEL_0b9a887974124b679f84dc3f2b480ccd"
      }
     },
     "14abedf8cb0f4f2cb9cfb855d609da43": {
      "model_module": "@jupyter-widgets/controls",
      "model_module_version": "1.4.0",
      "model_name": "HTMLModel",
      "state": {
       "layout": "IPY_MODEL_9fdb5f0e5c0f4f4b9810f50c0c5b228f",
       "style": "IPY_MODEL_3f1a7e94b4bf49aaa228597e03a32b84",
       "value": "<h4 style=\"font-size:14px;\">Welche Aussagen gelten für den Fall, dass das Adjektiv in einer NP ohne Artikel auftritt? (vgl. <i>altes Bier</i>)</h4>"
      }
     },
     "154785f879d34b9fbdb50764bdeece98": {
      "model_module": "@jupyter-widgets/controls",
      "model_module_version": "1.4.0",
      "model_name": "ButtonModel",
      "state": {
       "description": "Recipient",
       "layout": "IPY_MODEL_ff66d3efeeff46b7887c1d76e21306e0",
       "style": "IPY_MODEL_203a2cc3714a4b87a2d83035e8ca2ea2"
      }
     },
     "15492ee8ddf84c64a0b9ba53c606b9ea": {
      "model_module": "@jupyter-widgets/controls",
      "model_module_version": "1.4.0",
      "model_name": "CheckboxModel",
      "state": {
       "description": "Das Fehlen des Artikels hat keine Auswirkungen auf das Adjektiv.",
       "disabled": false,
       "layout": "IPY_MODEL_b5a74c49bd814131b12f44cca13c7f53",
       "style": "IPY_MODEL_556979fa1ba84a7380197cb96b0afbf5",
       "value": false
      }
     },
     "1551f787a8e24215bdfccf4edaf1d5f3": {
      "model_module": "@jupyter-widgets/controls",
      "model_module_version": "1.4.0",
      "model_name": "DescriptionStyleModel",
      "state": {
       "description_width": "initial"
      }
     },
     "1697e61a5afe48ae9b4ca784316a8e76": {
      "model_module": "@jupyter-widgets/controls",
      "model_module_version": "1.4.0",
      "model_name": "DescriptionStyleModel",
      "state": {
       "description_width": "initial"
      }
     },
     "16aae683b6f94b62911ef947d900163f": {
      "model_module": "@jupyter-widgets/base",
      "model_module_version": "1.1.0",
      "model_name": "LayoutModel",
      "state": {
       "justify_content": "center"
      }
     },
     "16caf918c6cb4a02924b0f48e6c54a72": {
      "model_module": "@jupyter-widgets/base",
      "model_module_version": "1.1.0",
      "model_name": "LayoutModel",
      "state": {
       "width": "250px"
      }
     },
     "1763cbfa7364459a9ca4e6327e195336": {
      "model_module": "@jupyter-widgets/controls",
      "model_module_version": "1.4.0",
      "model_name": "VBoxModel",
      "state": {
       "children": [
        "IPY_MODEL_14abedf8cb0f4f2cb9cfb855d609da43",
        "IPY_MODEL_2dfc292610d24f5fbacd3ffb120fd0c2",
        "IPY_MODEL_129da1cfd15f4500af05ce4c3089f910",
        "IPY_MODEL_2e4bd1937ec04696b0042b5e356639f0"
       ],
       "layout": "IPY_MODEL_07a17051e4114cba91c12253780691a5"
      }
     },
     "1853e1beed4e4bb7aa9fa66c95f5fb5a": {
      "model_module": "@jupyter-widgets/controls",
      "model_module_version": "1.4.0",
      "model_name": "HTMLModel",
      "state": {
       "layout": "IPY_MODEL_bee33489c1f94a13a5ee1bbca943db0f",
       "style": "IPY_MODEL_6736fdad05a6450e994330776649b455",
       "value": "<h4 style=\"font-size:14px;\">Wie läßt sich im NLTK ein äquivalenter Pfad definieren?</h4>"
      }
     },
     "18baca3540ce400bad74f031ed267248": {
      "model_module": "@jupyter-widgets/base",
      "model_module_version": "1.1.0",
      "model_name": "LayoutModel",
      "state": {
       "width": "600px"
      }
     },
     "1926ffed91284d46a806499507d507ad": {
      "model_module": "@jupyter-widgets/controls",
      "model_module_version": "1.4.0",
      "model_name": "ButtonStyleModel",
      "state": {}
     },
     "1930f66b328a49149e1981fb27f54b8c": {
      "model_module": "@jupyter-widgets/base",
      "model_module_version": "1.1.0",
      "model_name": "LayoutModel",
      "state": {
       "width": "250px"
      }
     },
     "1986f7084c2843efb96de364258d3fb5": {
      "model_module": "@jupyter-widgets/controls",
      "model_module_version": "1.4.0",
      "model_name": "DescriptionStyleModel",
      "state": {
       "description_width": ""
      }
     },
     "1a3c2d8149e74e18968beb5dc06f7b29": {
      "model_module": "@jupyter-widgets/controls",
      "model_module_version": "1.4.0",
      "model_name": "ButtonStyleModel",
      "state": {}
     },
     "1bc1e8f04d6a44f490e87b47e8c1839e": {
      "model_module": "@jupyter-widgets/controls",
      "model_module_version": "1.4.0",
      "model_name": "ButtonStyleModel",
      "state": {}
     },
     "1c70605f3a1248e88f2aee915a6e0183": {
      "model_module": "@jupyter-widgets/controls",
      "model_module_version": "1.4.0",
      "model_name": "DescriptionStyleModel",
      "state": {
       "description_width": "initial"
      }
     },
     "1c96bd1ea195458cbd52d4892c15cdc6": {
      "model_module": "@jupyter-widgets/controls",
      "model_module_version": "1.4.0",
      "model_name": "ButtonModel",
      "state": {
       "description": "starke Deklination",
       "layout": "IPY_MODEL_e451d14bba1d49058f22bf6f02295aea",
       "style": "IPY_MODEL_0c646f6c714446cc9e4da30fc42b21d7"
      }
     },
     "1ce7bf120779474dba958e12b4f03e38": {
      "model_module": "@jupyter-widgets/base",
      "model_module_version": "1.1.0",
      "model_name": "LayoutModel",
      "state": {}
     },
     "1d835c3a3e70413f86714efa95ccd4a7": {
      "model_module": "@jupyter-widgets/controls",
      "model_module_version": "1.4.0",
      "model_name": "HBoxModel",
      "state": {
       "children": [
        "IPY_MODEL_9c049d4f158e4e2fae664be351b1b1fc"
       ],
       "layout": "IPY_MODEL_cf2aa46596274a4092aa881b860173f9"
      }
     },
     "1df40cab9163456d828cbc38681d5bba": {
      "model_module": "@jupyter-widgets/controls",
      "model_module_version": "1.4.0",
      "model_name": "DescriptionStyleModel",
      "state": {
       "description_width": ""
      }
     },
     "1e37c9ae414e4178a229879279a2605f": {
      "model_module": "@jupyter-widgets/controls",
      "model_module_version": "1.4.0",
      "model_name": "DescriptionStyleModel",
      "state": {
       "description_width": "initial"
      }
     },
     "1e9a48e6ee4d4f34857c75f16f417b6d": {
      "model_module": "@jupyter-widgets/controls",
      "model_module_version": "1.4.0",
      "model_name": "ButtonModel",
      "state": {
       "description": "Korrekt?",
       "layout": "IPY_MODEL_c47f28dba26a46c4a96726c9a163f607",
       "style": "IPY_MODEL_57592277c3834c0cabc7a02bd0d2447f"
      }
     },
     "1eb5dbede0094d0caa81c6fb68e2878f": {
      "model_module": "@jupyter-widgets/controls",
      "model_module_version": "1.4.0",
      "model_name": "DescriptionStyleModel",
      "state": {
       "description_width": ""
      }
     },
     "1f0160707f52413c9a07bda05d1e7135": {
      "model_module": "@jupyter-widgets/controls",
      "model_module_version": "1.4.0",
      "model_name": "VBoxModel",
      "state": {
       "children": [
        "IPY_MODEL_30addaae1a154b7aae259da97d509577",
        "IPY_MODEL_d07bde74696d4e6799ffde83a03c12d2",
        "IPY_MODEL_9a9da604075a4607b84810453741fef4"
       ],
       "layout": "IPY_MODEL_aebd970794444c84880035ba5257077c"
      }
     },
     "1fc739251d624b02b96605f74692e833": {
      "model_module": "@jupyter-widgets/base",
      "model_module_version": "1.1.0",
      "model_name": "LayoutModel",
      "state": {
       "justify_content": "center"
      }
     },
     "203a2cc3714a4b87a2d83035e8ca2ea2": {
      "model_module": "@jupyter-widgets/controls",
      "model_module_version": "1.4.0",
      "model_name": "ButtonStyleModel",
      "state": {}
     },
     "212da42f6aa54b1f8dfb19ba7e6c2206": {
      "model_module": "@jupyter-widgets/controls",
      "model_module_version": "1.4.0",
      "model_name": "CheckboxModel",
      "state": {
       "description": "Der Artikel übernimmt die Genusmarkierung.",
       "disabled": false,
       "layout": "IPY_MODEL_c1c482b8bd904ee28114ebfa53aa6af5",
       "style": "IPY_MODEL_eecd118f6b974050b7677c5c9e13e74f",
       "value": false
      }
     },
     "21adc0931b484f829bfc96a53cef95e9": {
      "model_module": "@jupyter-widgets/controls",
      "model_module_version": "1.4.0",
      "model_name": "HTMLModel",
      "state": {
       "layout": "IPY_MODEL_fb38e109a3dd414fbe7611e2c69b01f9",
       "style": "IPY_MODEL_fb5791ba7f60461ebc2035315b24b880",
       "value": "<i>Wählen Sie die <ins>eine</ins> korrekte Antwort aus: </i>"
      }
     },
     "229a9c8d674a4a7bb4774b4128d7dbba": {
      "model_module": "@jupyter-widgets/controls",
      "model_module_version": "1.4.0",
      "model_name": "ButtonStyleModel",
      "state": {}
     },
     "236390ff12c848df8c087440ff486557": {
      "model_module": "@jupyter-widgets/base",
      "model_module_version": "1.1.0",
      "model_name": "LayoutModel",
      "state": {}
     },
     "23734104a2174d9db13637f4b8a49ed3": {
      "model_module": "@jupyter-widgets/controls",
      "model_module_version": "1.4.0",
      "model_name": "ButtonStyleModel",
      "state": {}
     },
     "23d3437076e24df48db116e8ae92a7d6": {
      "model_module": "@jupyter-widgets/base",
      "model_module_version": "1.1.0",
      "model_name": "LayoutModel",
      "state": {
       "width": "600px"
      }
     },
     "240564d302dc4f8eafdfc6c8e4c6afd8": {
      "model_module": "@jupyter-widgets/base",
      "model_module_version": "1.1.0",
      "model_name": "LayoutModel",
      "state": {
       "width": "600px"
      }
     },
     "241501392b8449998b3416c11aaad871": {
      "model_module": "@jupyter-widgets/base",
      "model_module_version": "1.1.0",
      "model_name": "LayoutModel",
      "state": {}
     },
     "24346899c81c4caba1ab10c0871ddd51": {
      "model_module": "@jupyter-widgets/base",
      "model_module_version": "1.1.0",
      "model_name": "LayoutModel",
      "state": {}
     },
     "247e0ba6e7f945639e2c50c32c65cd09": {
      "model_module": "@jupyter-widgets/base",
      "model_module_version": "1.1.0",
      "model_name": "LayoutModel",
      "state": {
       "width": "600px"
      }
     },
     "2484e64acb4c46a8bf8b15921f508186": {
      "model_module": "@jupyter-widgets/controls",
      "model_module_version": "1.4.0",
      "model_name": "DropdownModel",
      "state": {
       "_options_labels": [
        "Adverbiale",
        "Nomen",
        "Personalpronomina",
        " "
       ],
       "index": 3,
       "layout": "IPY_MODEL_78c06521032446eebe53fb80fcb0dd42",
       "style": "IPY_MODEL_9fc364d8cab24955b0d2006cf811024e"
      }
     },
     "24a293454914469ead9bd9b59b4ba6b7": {
      "model_module": "@jupyter-widgets/controls",
      "model_module_version": "1.4.0",
      "model_name": "DescriptionStyleModel",
      "state": {
       "description_width": ""
      }
     },
     "25085ccd032a46b7b89f291727a9a26d": {
      "model_module": "@jupyter-widgets/controls",
      "model_module_version": "1.4.0",
      "model_name": "CheckboxModel",
      "state": {
       "description": "74; ( 'number', 'address')",
       "disabled": false,
       "layout": "IPY_MODEL_6798f6a36372417793976c905bede56a",
       "style": "IPY_MODEL_a61eb1c0f33f497789d5b6b1429ef482",
       "value": false
      }
     },
     "251d628c02d74fda9160ce30af05bce8": {
      "model_module": "@jupyter-widgets/controls",
      "model_module_version": "1.4.0",
      "model_name": "DescriptionStyleModel",
      "state": {
       "description_width": ""
      }
     },
     "2525b669e24c43cdbf27346f0d76e707": {
      "model_module": "@jupyter-widgets/base",
      "model_module_version": "1.1.0",
      "model_name": "LayoutModel",
      "state": {
       "width": "250px"
      }
     },
     "2577587966d642088f7c9ae0492d8a91": {
      "model_module": "@jupyter-widgets/controls",
      "model_module_version": "1.4.0",
      "model_name": "ButtonStyleModel",
      "state": {}
     },
     "25ad8133812f44bba46712ac41be0d6c": {
      "model_module": "@jupyter-widgets/controls",
      "model_module_version": "1.4.0",
      "model_name": "DescriptionStyleModel",
      "state": {
       "description_width": ""
      }
     },
     "25b30a61b12e44139c83a8755a15bb33": {
      "model_module": "@jupyter-widgets/base",
      "model_module_version": "1.1.0",
      "model_name": "LayoutModel",
      "state": {
       "align_content": "stretch",
       "align_items": "stretch",
       "display": "inline-flex",
       "flex": "flex-grow",
       "flex_flow": "row wrap",
       "justify_content": "flex-start"
      }
     },
     "25e34d1815b8432fbdaa7a62959c8598": {
      "model_module": "@jupyter-widgets/base",
      "model_module_version": "1.1.0",
      "model_name": "LayoutModel",
      "state": {}
     },
     "263da48a9f3e4d8ebfca0564d058faf2": {
      "model_module": "@jupyter-widgets/base",
      "model_module_version": "1.1.0",
      "model_name": "LayoutModel",
      "state": {}
     },
     "27109f6f91dc486088a1c83a70811b49": {
      "model_module": "@jupyter-widgets/base",
      "model_module_version": "1.1.0",
      "model_name": "LayoutModel",
      "state": {
       "justify_content": "center"
      }
     },
     "27aae08649f049bd9916b39e824477a1": {
      "model_module": "@jupyter-widgets/base",
      "model_module_version": "1.1.0",
      "model_name": "LayoutModel",
      "state": {}
     },
     "27abe93ecd5c4ed39b87695a51cef0e7": {
      "model_module": "@jupyter-widgets/base",
      "model_module_version": "1.1.0",
      "model_name": "LayoutModel",
      "state": {}
     },
     "296dd18c18fa42ffa208cc76ee22dc27": {
      "model_module": "@jupyter-widgets/controls",
      "model_module_version": "1.4.0",
      "model_name": "CheckboxModel",
      "state": {
       "description": "x!",
       "disabled": false,
       "layout": "IPY_MODEL_d6156b60bef74166b521d9c18dafb9d0",
       "style": "IPY_MODEL_9499d465ac7848b9b1099f52d0fe8917",
       "value": false
      }
     },
     "29857bdfecf84ecbb4c9647feee6a07d": {
      "model_module": "@jupyter-widgets/controls",
      "model_module_version": "1.4.0",
      "model_name": "DescriptionStyleModel",
      "state": {
       "description_width": ""
      }
     },
     "29e518655cd84337876d5e87c1ff34f3": {
      "model_module": "@jupyter-widgets/controls",
      "model_module_version": "1.4.0",
      "model_name": "DescriptionStyleModel",
      "state": {
       "description_width": ""
      }
     },
     "2a1747e356eb45619088bde32e55e014": {
      "model_module": "@jupyter-widgets/controls",
      "model_module_version": "1.4.0",
      "model_name": "CheckboxModel",
      "state": {
       "description": "!x",
       "disabled": false,
       "layout": "IPY_MODEL_d4641712a5ea4c31acbbdda423521078",
       "style": "IPY_MODEL_a67fea0e5e3e405792fb62f76dc5a876",
       "value": false
      }
     },
     "2a1d42c9b46a469b98a880fde6424c7a": {
      "model_module": "@jupyter-widgets/base",
      "model_module_version": "1.1.0",
      "model_name": "LayoutModel",
      "state": {
       "justify_content": "center"
      }
     },
     "2ac07b8e86ee462c92d75e032a958f1a": {
      "model_module": "@jupyter-widgets/controls",
      "model_module_version": "1.4.0",
      "model_name": "DescriptionStyleModel",
      "state": {
       "description_width": ""
      }
     },
     "2b08f428e8894ffa8d7075c12097e4de": {
      "model_module": "@jupyter-widgets/controls",
      "model_module_version": "1.4.0",
      "model_name": "DescriptionStyleModel",
      "state": {
       "description_width": ""
      }
     },
     "2bcf6c8498684eccbbc30190918c9359": {
      "model_module": "@jupyter-widgets/controls",
      "model_module_version": "1.4.0",
      "model_name": "VBoxModel",
      "state": {
       "children": [
        "IPY_MODEL_34db522eb3484ae595ce7ade8890441c",
        "IPY_MODEL_10c16b80c711439693812defd5cce921",
        "IPY_MODEL_b8aa3152bd9040c6aa5253f969e38ef2"
       ],
       "layout": "IPY_MODEL_558a844205eb4cc2983d9186bbd37c6f"
      }
     },
     "2cd8f2fe15134ae7be36807a3af92494": {
      "model_module": "@jupyter-widgets/controls",
      "model_module_version": "1.4.0",
      "model_name": "DropdownModel",
      "state": {
       "_options_labels": [
        "1",
        "10",
        "2",
        "4",
        "6",
        "8",
        "Keine der Alternativen"
       ],
       "description": "Antwort:",
       "index": 0,
       "layout": "IPY_MODEL_bd2b2ffbbfc24762beb8dac532d09e80",
       "style": "IPY_MODEL_29857bdfecf84ecbb4c9647feee6a07d"
      }
     },
     "2d1495860fd94724b574012086f88896": {
      "model_module": "@jupyter-widgets/controls",
      "model_module_version": "1.4.0",
      "model_name": "CheckboxModel",
      "state": {
       "description": "Sie werden im Vorhinein deklariert (feature lexicon)",
       "disabled": false,
       "layout": "IPY_MODEL_6f25e45bec8c49b7a510270dde7a6af1",
       "style": "IPY_MODEL_689d3b10db1740a89aea1e128974e301",
       "value": false
      }
     },
     "2d56e1808ef849c38ece5256048d29f2": {
      "model_module": "@jupyter-widgets/controls",
      "model_module_version": "1.4.0",
      "model_name": "HTMLModel",
      "state": {
       "layout": "IPY_MODEL_edd9f0415d954b7fb1937d6129f6eebf",
       "style": "IPY_MODEL_2b08f428e8894ffa8d7075c12097e4de",
       "value": "<i>Markieren Sie <ins>alle</ins> passenden Antworten: </i>"
      }
     },
     "2db38a6e04904c76bc0180cf26fe4358": {
      "model_module": "@jupyter-widgets/base",
      "model_module_version": "1.1.0",
      "model_name": "LayoutModel",
      "state": {}
     },
     "2df0a7f1a3e84cc390bea57bcd33cd85": {
      "model_module": "@jupyter-widgets/controls",
      "model_module_version": "1.4.0",
      "model_name": "HTMLModel",
      "state": {
       "layout": "IPY_MODEL_31234b2c7bf84bcaacbe271748be50b1",
       "style": "IPY_MODEL_37dd3df180cd4b4a95780af2fd44d97d",
       "value": "<h4 style=\"font-size:14px;\">Welche kommunikativ-funktionalen Unterschiede bestehen?</h4>"
      }
     },
     "2dfc292610d24f5fbacd3ffb120fd0c2": {
      "model_module": "@jupyter-widgets/controls",
      "model_module_version": "1.4.0",
      "model_name": "HTMLModel",
      "state": {
       "layout": "IPY_MODEL_c2c640de14ae4065a39f8dd7187a8d0f",
       "style": "IPY_MODEL_4c2a090fec2d45308e7012d4b459c182",
       "value": "<i>Markieren Sie <ins>alle</ins> passenden Antworten: </i>"
      }
     },
     "2e4bd1937ec04696b0042b5e356639f0": {
      "model_module": "@jupyter-widgets/controls",
      "model_module_version": "1.4.0",
      "model_name": "ButtonModel",
      "state": {
       "description": "Korrekt?",
       "layout": "IPY_MODEL_fbeda6ff18754d5d8552778758f23c1b",
       "style": "IPY_MODEL_5fe47843afb846e39225c7edd750bcae"
      }
     },
     "2f6366744fac4fab807b98188ef39b81": {
      "model_module": "@jupyter-widgets/controls",
      "model_module_version": "1.4.0",
      "model_name": "CheckboxModel",
      "state": {
       "description": "Subjekt-Demotion zu Adverbial",
       "disabled": false,
       "layout": "IPY_MODEL_403af8bae6654492b36cc110558e1be7",
       "style": "IPY_MODEL_052e75bb23294d37a97778f6331fcb3f",
       "value": false
      }
     },
     "304aa20b08cc4dd094ec92edb8b05d27": {
      "model_module": "@jupyter-widgets/controls",
      "model_module_version": "1.4.0",
      "model_name": "CheckboxModel",
      "state": {
       "description": "Passivierung (Objekt-Promotion)",
       "disabled": false,
       "layout": "IPY_MODEL_e8000a42da234ceea35e7b2e69c25eee",
       "style": "IPY_MODEL_5b80883920394e4ab4bd3116930adf1d",
       "value": false
      }
     },
     "306fb4f6e36049b3bc5fa2e65a9dedfc": {
      "model_module": "@jupyter-widgets/base",
      "model_module_version": "1.1.0",
      "model_name": "LayoutModel",
      "state": {
       "width": "250px"
      }
     },
     "30addaae1a154b7aae259da97d509577": {
      "model_module": "@jupyter-widgets/controls",
      "model_module_version": "1.4.0",
      "model_name": "HTMLModel",
      "state": {
       "layout": "IPY_MODEL_95603e319f3a4308a0c34ea3e3981512",
       "style": "IPY_MODEL_0080a966b1214a428b81d8ad22ed47c8",
       "value": "<h4 style=\"font-size:14px;\">Für die Deklination ist hier relevant, ob das Adjektiv mit einem ____________ Artikel auftritt oder nicht.</h4>"
      }
     },
     "31234b2c7bf84bcaacbe271748be50b1": {
      "model_module": "@jupyter-widgets/base",
      "model_module_version": "1.1.0",
      "model_name": "LayoutModel",
      "state": {}
     },
     "31376298faf3460e91cca7fc87fc416c": {
      "model_module": "@jupyter-widgets/controls",
      "model_module_version": "1.4.0",
      "model_name": "HTMLModel",
      "state": {
       "layout": "IPY_MODEL_0a68735dcc1241e282b02eaa5cc9fe70",
       "style": "IPY_MODEL_b552ed3ea7914d90a8605f16f345cd24",
       "value": "<h4 style=\"font-size:14px;\">Im Falle, dass im Zuge einer Unifikation Informationen zum Wert eines Pfades x hinzugefügt werden, wie verändern sich die Werte aller zu x äquivalenten Pfade?</h4>"
      }
     },
     "3157fd83335f442d92776bc42ea563fa": {
      "model_module": "@jupyter-widgets/controls",
      "model_module_version": "1.4.0",
      "model_name": "DescriptionStyleModel",
      "state": {
       "description_width": "initial"
      }
     },
     "31a5275b6b064b4988bda9c581d1f6bc": {
      "model_module": "@jupyter-widgets/controls",
      "model_module_version": "1.4.0",
      "model_name": "HBoxModel",
      "state": {
       "children": [
        "IPY_MODEL_b5df91d04c1d42e1abb87c6b6b8b4c56",
        "IPY_MODEL_fcb53f3218d74ff08a1580ecc7e9ca0f"
       ],
       "layout": "IPY_MODEL_f343e9a046b24580b61d8213eb95a9a0"
      }
     },
     "320845e8c3924519bbc036659d6968d2": {
      "model_module": "@jupyter-widgets/base",
      "model_module_version": "1.1.0",
      "model_name": "LayoutModel",
      "state": {
       "justify_content": "center"
      }
     },
     "324420fc0bab4294abfd874a2ac2ddfa": {
      "model_module": "@jupyter-widgets/controls",
      "model_module_version": "1.4.0",
      "model_name": "ButtonStyleModel",
      "state": {}
     },
     "332b4eb619244d5aa1e4803a3f4e2c80": {
      "model_module": "@jupyter-widgets/base",
      "model_module_version": "1.1.0",
      "model_name": "LayoutModel",
      "state": {
       "width": "600px"
      }
     },
     "33eba43c8fad43d3bdf434d9d02bbc0a": {
      "model_module": "@jupyter-widgets/controls",
      "model_module_version": "1.4.0",
      "model_name": "DescriptionStyleModel",
      "state": {
       "description_width": ""
      }
     },
     "345c0df848f84aea8f8167af72260e38": {
      "model_module": "@jupyter-widgets/controls",
      "model_module_version": "1.4.0",
      "model_name": "ButtonModel",
      "state": {
       "description": "starke Deklination",
       "layout": "IPY_MODEL_16caf918c6cb4a02924b0f48e6c54a72",
       "style": "IPY_MODEL_698b83c6f8ad4ec6b646a5c707a5e49e"
      }
     },
     "34a8885d717343b0892d3c6eab084cd8": {
      "model_module": "@jupyter-widgets/base",
      "model_module_version": "1.1.0",
      "model_name": "LayoutModel",
      "state": {
       "width": "250px"
      }
     },
     "34c6698cf55f4340b7ba79cd6d285487": {
      "model_module": "@jupyter-widgets/controls",
      "model_module_version": "1.4.0",
      "model_name": "DescriptionStyleModel",
      "state": {
       "description_width": "initial"
      }
     },
     "34db522eb3484ae595ce7ade8890441c": {
      "model_module": "@jupyter-widgets/controls",
      "model_module_version": "1.4.0",
      "model_name": "CheckboxModel",
      "state": {
       "description": "Sie werden aktualisiert.",
       "disabled": false,
       "layout": "IPY_MODEL_4e6112394aff4dedb00c7646b7c79914",
       "style": "IPY_MODEL_13d426bbff6e4553aa8fe42176818bea",
       "value": false
      }
     },
     "35d823400d5743678dc3ac0849db84b5": {
      "model_module": "@jupyter-widgets/controls",
      "model_module_version": "1.4.0",
      "model_name": "CheckboxModel",
      "state": {
       "description": "Die Form des Adjektivs ist in jedem Kasus unterschiedlich.",
       "disabled": false,
       "layout": "IPY_MODEL_b145ac09570043f18c99c7162cedf747",
       "style": "IPY_MODEL_3157fd83335f442d92776bc42ea563fa",
       "value": false
      }
     },
     "37dd3df180cd4b4a95780af2fd44d97d": {
      "model_module": "@jupyter-widgets/controls",
      "model_module_version": "1.4.0",
      "model_name": "DescriptionStyleModel",
      "state": {
       "description_width": ""
      }
     },
     "37fd08f3dee041b9874c6780cdf20fc1": {
      "model_module": "@jupyter-widgets/base",
      "model_module_version": "1.1.0",
      "model_name": "LayoutModel",
      "state": {
       "justify_content": "center"
      }
     },
     "38ac1e4f66034beebe50803bd0d9f596": {
      "model_module": "@jupyter-widgets/controls",
      "model_module_version": "1.4.0",
      "model_name": "DescriptionStyleModel",
      "state": {
       "description_width": "initial"
      }
     },
     "38e57d1ccac741c7aefbe60ab204b459": {
      "model_module": "@jupyter-widgets/base",
      "model_module_version": "1.1.0",
      "model_name": "LayoutModel",
      "state": {}
     },
     "391301a5e7d74290a1463468f414ea43": {
      "model_module": "@jupyter-widgets/controls",
      "model_module_version": "1.4.0",
      "model_name": "HTMLModel",
      "state": {
       "layout": "IPY_MODEL_98b9e4752b6c40c59c82403b4c7b8fde",
       "style": "IPY_MODEL_d4cfae50a7804e89a5a3728b30ab9be0",
       "value": "<i>Wählen Sie die <ins>eine</ins> korrekte Antwort aus: </i>"
      }
     },
     "39cd13d1c4314644867ec7fc1375fc56": {
      "model_module": "@jupyter-widgets/base",
      "model_module_version": "1.1.0",
      "model_name": "LayoutModel",
      "state": {
       "justify_content": "center"
      }
     },
     "3a9e30b999d242bb858f6619f4254655": {
      "model_module": "@jupyter-widgets/base",
      "model_module_version": "1.1.0",
      "model_name": "LayoutModel",
      "state": {
       "width": "250px"
      }
     },
     "3b5c25186df144fdb53c32a37d48044c": {
      "model_module": "@jupyter-widgets/controls",
      "model_module_version": "1.4.0",
      "model_name": "CheckboxModel",
      "state": {
       "description": "Variable: -> (1)",
       "disabled": false,
       "layout": "IPY_MODEL_6bce79fc02aa499bba9bbdc96bac4edf",
       "style": "IPY_MODEL_f648dd97f31a4a7289304d9d3dbdecb1",
       "value": false
      }
     },
     "3b84c92322084de2afcee8c9f8c1e13b": {
      "model_module": "@jupyter-widgets/controls",
      "model_module_version": "1.4.0",
      "model_name": "ButtonModel",
      "state": {
       "description": "Agens",
       "layout": "IPY_MODEL_b17bf399a9db4a4297d9160fc49089d8",
       "style": "IPY_MODEL_bd76904315c14324b5eb93170974c06e"
      }
     },
     "3bcd5904767745ac9e5b4d25c7bb434f": {
      "model_module": "@jupyter-widgets/controls",
      "model_module_version": "1.4.0",
      "model_name": "CheckboxModel",
      "state": {
       "description": "Das Genus des Adjektivs ist lexikalisch fix definiert.",
       "disabled": false,
       "layout": "IPY_MODEL_c3f5d6567b7c49999c3e7388075455ee",
       "style": "IPY_MODEL_b2a13a75a3cd43a7907184837aec2526",
       "value": false
      }
     },
     "3be2560db93448ad9b4d8bdf6468c5f8": {
      "model_module": "@jupyter-widgets/controls",
      "model_module_version": "1.4.0",
      "model_name": "DescriptionStyleModel",
      "state": {
       "description_width": ""
      }
     },
     "3cef94ddb9614606a4681edbb20d9687": {
      "model_module": "@jupyter-widgets/base",
      "model_module_version": "1.1.0",
      "model_name": "LayoutModel",
      "state": {
       "width": "600px"
      }
     },
     "3d5c13a0296a4a9680ac5670d16a976b": {
      "model_module": "@jupyter-widgets/base",
      "model_module_version": "1.1.0",
      "model_name": "LayoutModel",
      "state": {}
     },
     "3da36e421c52427c8cd1113beb58251f": {
      "model_module": "@jupyter-widgets/base",
      "model_module_version": "1.1.0",
      "model_name": "LayoutModel",
      "state": {}
     },
     "3e1369edafb449b38202cd15553f4f34": {
      "model_module": "@jupyter-widgets/controls",
      "model_module_version": "1.4.0",
      "model_name": "DescriptionStyleModel",
      "state": {
       "description_width": "initial"
      }
     },
     "3f1a7e94b4bf49aaa228597e03a32b84": {
      "model_module": "@jupyter-widgets/controls",
      "model_module_version": "1.4.0",
      "model_name": "DescriptionStyleModel",
      "state": {
       "description_width": ""
      }
     },
     "3f83bbea3464472098f53112a3b83c1d": {
      "model_module": "@jupyter-widgets/controls",
      "model_module_version": "1.4.0",
      "model_name": "DescriptionStyleModel",
      "state": {
       "description_width": ""
      }
     },
     "3f8d666d37cf4978b87bd94b11929cef": {
      "model_module": "@jupyter-widgets/base",
      "model_module_version": "1.1.0",
      "model_name": "LayoutModel",
      "state": {
       "width": "600px"
      }
     },
     "403af8bae6654492b36cc110558e1be7": {
      "model_module": "@jupyter-widgets/base",
      "model_module_version": "1.1.0",
      "model_name": "LayoutModel",
      "state": {
       "width": "600px"
      }
     },
     "404e00eea05a4965af57846ddf91572e": {
      "model_module": "@jupyter-widgets/controls",
      "model_module_version": "1.4.0",
      "model_name": "CheckboxModel",
      "state": {
       "description": "Perspektivierung",
       "disabled": false,
       "layout": "IPY_MODEL_8a96cd05468d4babb8ac1db92c3f9d12",
       "style": "IPY_MODEL_6d3862f86a8d45fda278c6edbae6d3f3",
       "value": false
      }
     },
     "40b06800e059442aacffe0b7c3aeef52": {
      "model_module": "@jupyter-widgets/controls",
      "model_module_version": "1.4.0",
      "model_name": "HBoxModel",
      "state": {
       "children": [
        "IPY_MODEL_a5f5d9f2d23e4ecdbd10c19e43cd826c",
        "IPY_MODEL_1c96bd1ea195458cbd52d4892c15cdc6"
       ],
       "layout": "IPY_MODEL_38e57d1ccac741c7aefbe60ab204b459"
      }
     },
     "4173e9005baa43dbb0137b3a6bcbd062": {
      "model_module": "@jupyter-widgets/controls",
      "model_module_version": "1.4.0",
      "model_name": "ButtonModel",
      "state": {
       "description": "Ja",
       "layout": "IPY_MODEL_a4785ac030e3499199f437c20bcb9e8c",
       "style": "IPY_MODEL_4a687f0f213a48aa8b5ab439cd68c0ac"
      }
     },
     "4249f17068dd4bc59fab039bc2fc7410": {
      "model_module": "@jupyter-widgets/base",
      "model_module_version": "1.1.0",
      "model_name": "LayoutModel",
      "state": {
       "width": "250px"
      }
     },
     "4321f7fdbecc42048223310802ae43a3": {
      "model_module": "@jupyter-widgets/controls",
      "model_module_version": "1.4.0",
      "model_name": "DescriptionStyleModel",
      "state": {
       "description_width": "initial"
      }
     },
     "433f77bb12f84528b862ada48980d3f2": {
      "model_module": "@jupyter-widgets/controls",
      "model_module_version": "1.4.0",
      "model_name": "DescriptionStyleModel",
      "state": {
       "description_width": "initial"
      }
     },
     "43e4f29cdf4c46d0a65aa9c82c6a42dd": {
      "model_module": "@jupyter-widgets/controls",
      "model_module_version": "1.4.0",
      "model_name": "HTMLModel",
      "state": {
       "layout": "IPY_MODEL_610a126561824e47b19187a160f037d8",
       "style": "IPY_MODEL_c517eba44c22483c86ccf4159efe66ca",
       "value": "<i>Markieren Sie <ins>alle</ins> passenden Antworten: </i>"
      }
     },
     "4480606071a74ad69f5be4664454cfc7": {
      "model_module": "@jupyter-widgets/controls",
      "model_module_version": "1.4.0",
      "model_name": "HTMLModel",
      "state": {
       "layout": "IPY_MODEL_27109f6f91dc486088a1c83a70811b49",
       "style": "IPY_MODEL_1eb5dbede0094d0caa81c6fb68e2878f",
       "value": "<h4 style=\"font-size:14px;\">Was ist im zweiten Satz das Subjekt?</h4>"
      }
     },
     "44bf348c31c04e96b6bf85a357cd6c03": {
      "model_module": "@jupyter-widgets/base",
      "model_module_version": "1.1.0",
      "model_name": "LayoutModel",
      "state": {}
     },
     "465e503bb64d4e83a712e357766918a3": {
      "model_module": "@jupyter-widgets/controls",
      "model_module_version": "1.4.0",
      "model_name": "ButtonStyleModel",
      "state": {}
     },
     "468758e237d64356ad19bf3e15cde6f8": {
      "model_module": "@jupyter-widgets/controls",
      "model_module_version": "1.4.0",
      "model_name": "ButtonStyleModel",
      "state": {}
     },
     "473798f69fce4ec8b6d4a8aaad6f6fc7": {
      "model_module": "@jupyter-widgets/base",
      "model_module_version": "1.1.0",
      "model_name": "LayoutModel",
      "state": {
       "width": "600px"
      }
     },
     "479e36bed71d45cda4ff385b20797832": {
      "model_module": "@jupyter-widgets/controls",
      "model_module_version": "1.4.0",
      "model_name": "HTMLModel",
      "state": {
       "layout": "IPY_MODEL_aa703b6f4e234c4bb2d70bf8468639da",
       "style": "IPY_MODEL_fb410de8b973492d94825e99d8c1d8bb",
       "value": "<h4 style=\"font-size:14px;\">Wie wird die Deklination der Nominalphrase <i>das alte Bier</i> auch bezeichnet?</h4>"
      }
     },
     "49de25695a5f4818890f5831273ab3ba": {
      "model_module": "@jupyter-widgets/controls",
      "model_module_version": "1.4.0",
      "model_name": "CheckboxModel",
      "state": {
       "description": "74; ('address', 'number')",
       "disabled": false,
       "layout": "IPY_MODEL_3cef94ddb9614606a4681edbb20d9687",
       "style": "IPY_MODEL_9fe3bc025e9c462eaed524f35b53ea9a",
       "value": false
      }
     },
     "4a687f0f213a48aa8b5ab439cd68c0ac": {
      "model_module": "@jupyter-widgets/controls",
      "model_module_version": "1.4.0",
      "model_name": "ButtonStyleModel",
      "state": {}
     },
     "4ae234c5dd04432d89c9eb85eada8818": {
      "model_module": "@jupyter-widgets/controls",
      "model_module_version": "1.4.0",
      "model_name": "DescriptionStyleModel",
      "state": {
       "description_width": "initial"
      }
     },
     "4afa7c2995eb4fee93668a2c85ed9bef": {
      "model_module": "@jupyter-widgets/controls",
      "model_module_version": "1.4.0",
      "model_name": "BoxModel",
      "state": {
       "children": [
        "IPY_MODEL_4c6d85d962144d1ba97610ab6968340d",
        "IPY_MODEL_c9d38c82fe7e4ce78b472e6a141bac82",
        "IPY_MODEL_d9790c1100904d8da79ae3eb975e8d3a",
        "IPY_MODEL_5c52264b973e40e18f2c39eda1bc0c53",
        "IPY_MODEL_af08898f7a9847e2bdfe2f3ee74d9836",
        "IPY_MODEL_2484e64acb4c46a8bf8b15921f508186",
        "IPY_MODEL_5eeb98c70373460aa32641d8d69844d3",
        "IPY_MODEL_5af9c728859242689a414a7f5ffead01",
        "IPY_MODEL_80e98be1ffb442659fc26bb59f7c8013",
        "IPY_MODEL_9d613195d0034d9f8a1011f5a64761c6",
        "IPY_MODEL_f4d7cc37845349fcac22a48833d50dc3"
       ],
       "layout": "IPY_MODEL_25b30a61b12e44139c83a8755a15bb33"
      }
     },
     "4b29a8597c7b48c1b9cf196351fc1352": {
      "model_module": "@jupyter-widgets/controls",
      "model_module_version": "1.4.0",
      "model_name": "CheckboxModel",
      "state": {
       "description": "Das Adjektiv übernimmt die Genus- und z.T. die Kasusmarkierung.",
       "disabled": false,
       "layout": "IPY_MODEL_b20adbeaf5c14d188eb9d057a24d93e5",
       "style": "IPY_MODEL_80fefe84eeef436a86330fe2630634d2",
       "value": false
      }
     },
     "4bcff569aad5479abe734d4a566c1e66": {
      "model_module": "@jupyter-widgets/controls",
      "model_module_version": "1.4.0",
      "model_name": "HTMLModel",
      "state": {
       "layout": "IPY_MODEL_fa23f9497c734393b469e2c794d979a1",
       "style": "IPY_MODEL_63dfe308ffb04fe3b5c1c86385f3c9b7",
       "value": "<i>Markieren Sie <ins>alle</ins> passenden Antworten: </i>"
      }
     },
     "4c2a090fec2d45308e7012d4b459c182": {
      "model_module": "@jupyter-widgets/controls",
      "model_module_version": "1.4.0",
      "model_name": "DescriptionStyleModel",
      "state": {
       "description_width": ""
      }
     },
     "4c6d85d962144d1ba97610ab6968340d": {
      "model_module": "@jupyter-widgets/controls",
      "model_module_version": "1.4.0",
      "model_name": "HTMLModel",
      "state": {
       "layout": "IPY_MODEL_70eeca82021b49e4be8c72db543d5493",
       "style": "IPY_MODEL_5586577d96464debaa8cabbef6302bd5",
       "value": "<h4 style=\"font-size:14px;\">In Verbindung mit einem</h4>"
      }
     },
     "4c7dc66e29f64e7e80e8418df58e8f45": {
      "model_module": "@jupyter-widgets/controls",
      "model_module_version": "1.4.0",
      "model_name": "HTMLModel",
      "state": {
       "layout": "IPY_MODEL_f1585d38358a4598a097b80e8e3d0865",
       "style": "IPY_MODEL_07b375e2ed134ce5a2692a0c92cc21a6",
       "value": "<h4 style=\"font-size:14px;\">Wie werden Features in formalen Grammatiken verwendet?</h4>"
      }
     },
     "4c85dfedf2b84eafa02a089e98de4f6d": {
      "model_module": "@jupyter-widgets/base",
      "model_module_version": "1.1.0",
      "model_name": "LayoutModel",
      "state": {}
     },
     "4cdae430104446b29672bdb908605878": {
      "model_module": "@jupyter-widgets/base",
      "model_module_version": "1.1.0",
      "model_name": "LayoutModel",
      "state": {
       "width": "600px"
      }
     },
     "4cf27e4124eb4404a6a3282c8f1e42f4": {
      "model_module": "@jupyter-widgets/base",
      "model_module_version": "1.1.0",
      "model_name": "LayoutModel",
      "state": {
       "width": "250px"
      }
     },
     "4d23458bc4444ac6aa906b8297dd7184": {
      "model_module": "@jupyter-widgets/base",
      "model_module_version": "1.1.0",
      "model_name": "LayoutModel",
      "state": {}
     },
     "4e6112394aff4dedb00c7646b7c79914": {
      "model_module": "@jupyter-widgets/base",
      "model_module_version": "1.1.0",
      "model_name": "LayoutModel",
      "state": {
       "width": "600px"
      }
     },
     "4f6c0e85f8d5430e97150f17dabc56d5": {
      "model_module": "@jupyter-widgets/base",
      "model_module_version": "1.1.0",
      "model_name": "LayoutModel",
      "state": {
       "justify_content": "center"
      }
     },
     "4fc50f62441b49da846da9fe6f01f63d": {
      "model_module": "@jupyter-widgets/controls",
      "model_module_version": "1.4.0",
      "model_name": "DescriptionStyleModel",
      "state": {
       "description_width": "initial"
      }
     },
     "505f076f41984d0d9052bdba77746b86": {
      "model_module": "@jupyter-widgets/controls",
      "model_module_version": "1.4.0",
      "model_name": "HBoxModel",
      "state": {
       "children": [
        "IPY_MODEL_3b84c92322084de2afcee8c9f8c1e13b",
        "IPY_MODEL_7808dd28936344229c4cf012f3bc8b84"
       ],
       "layout": "IPY_MODEL_7bfc5452acd34b4888fa8b3d9f021f5e"
      }
     },
     "5079e8f7e7ed4340b6a6fa8971b2805f": {
      "model_module": "@jupyter-widgets/base",
      "model_module_version": "1.1.0",
      "model_name": "LayoutModel",
      "state": {
       "justify_content": "center"
      }
     },
     "50a0dbc26a374cf1bbba082dc74aaa40": {
      "model_module": "@jupyter-widgets/base",
      "model_module_version": "1.1.0",
      "model_name": "LayoutModel",
      "state": {
       "width": "150px"
      }
     },
     "51fff09f65b84478a9591c71aefb886f": {
      "model_module": "@jupyter-widgets/base",
      "model_module_version": "1.1.0",
      "model_name": "LayoutModel",
      "state": {
       "width": "250px"
      }
     },
     "52537bd3fc6a434db08d1ec54a2624bc": {
      "model_module": "@jupyter-widgets/controls",
      "model_module_version": "1.4.0",
      "model_name": "VBoxModel",
      "state": {
       "children": [
        "IPY_MODEL_688ce6d2967247c58b88194829179645",
        "IPY_MODEL_25085ccd032a46b7b89f291727a9a26d",
        "IPY_MODEL_49de25695a5f4818890f5831273ab3ba"
       ],
       "layout": "IPY_MODEL_0302f9f8aea04ff0b4f279fedb3fc712"
      }
     },
     "526ecbb3ebc6479e965ee65206843c16": {
      "model_module": "@jupyter-widgets/controls",
      "model_module_version": "1.4.0",
      "model_name": "VBoxModel",
      "state": {
       "children": [
        "IPY_MODEL_2df0a7f1a3e84cc390bea57bcd33cd85",
        "IPY_MODEL_c51bc8d395b749d5a31c9ab4b3b6421a",
        "IPY_MODEL_cacafa00dae148f3b8b568b011cab8ce",
        "IPY_MODEL_bd2e7f2ce17248268d71b1a143a5b87d"
       ],
       "layout": "IPY_MODEL_27abe93ecd5c4ed39b87695a51cef0e7"
      }
     },
     "52803b384ede4bb286ee71a01fe6d5a4": {
      "model_module": "@jupyter-widgets/controls",
      "model_module_version": "1.4.0",
      "model_name": "CheckboxModel",
      "state": {
       "description": "?x",
       "disabled": false,
       "layout": "IPY_MODEL_a854b572bd22420da3e5e4e258baf5d9",
       "style": "IPY_MODEL_433f77bb12f84528b862ada48980d3f2",
       "value": false
      }
     },
     "533b602e764e4d248b363dcd2f78920f": {
      "model_module": "@jupyter-widgets/controls",
      "model_module_version": "1.4.0",
      "model_name": "DescriptionStyleModel",
      "state": {
       "description_width": "initial"
      }
     },
     "53448ec42e204542bc88a3df2d00fb22": {
      "model_module": "@jupyter-widgets/controls",
      "model_module_version": "1.4.0",
      "model_name": "ButtonStyleModel",
      "state": {}
     },
     "538f73d7c1964c14811ef9fac1f4af4f": {
      "model_module": "@jupyter-widgets/controls",
      "model_module_version": "1.4.0",
      "model_name": "DescriptionStyleModel",
      "state": {
       "description_width": "initial"
      }
     },
     "54c08c77e4344df08327b01021a7d239": {
      "model_module": "@jupyter-widgets/controls",
      "model_module_version": "1.4.0",
      "model_name": "ButtonModel",
      "state": {
       "description": "tuple",
       "layout": "IPY_MODEL_68adff094c484208a3f309135ed9fc5b",
       "style": "IPY_MODEL_12dee9159249416ab2f721a47291f2fe"
      }
     },
     "556979fa1ba84a7380197cb96b0afbf5": {
      "model_module": "@jupyter-widgets/controls",
      "model_module_version": "1.4.0",
      "model_name": "DescriptionStyleModel",
      "state": {
       "description_width": "initial"
      }
     },
     "5584311cadf448d79d2b7e159fea077d": {
      "model_module": "@jupyter-widgets/controls",
      "model_module_version": "1.4.0",
      "model_name": "ButtonStyleModel",
      "state": {}
     },
     "5586577d96464debaa8cabbef6302bd5": {
      "model_module": "@jupyter-widgets/controls",
      "model_module_version": "1.4.0",
      "model_name": "DescriptionStyleModel",
      "state": {
       "description_width": ""
      }
     },
     "558a844205eb4cc2983d9186bbd37c6f": {
      "model_module": "@jupyter-widgets/base",
      "model_module_version": "1.1.0",
      "model_name": "LayoutModel",
      "state": {}
     },
     "561b187fb4e3469caca45527b37cc50f": {
      "model_module": "@jupyter-widgets/base",
      "model_module_version": "1.1.0",
      "model_name": "LayoutModel",
      "state": {
       "width": "600px"
      }
     },
     "56bdf1f711734be78367f08cc9f25b57": {
      "model_module": "@jupyter-widgets/base",
      "model_module_version": "1.1.0",
      "model_name": "LayoutModel",
      "state": {
       "width": "600px"
      }
     },
     "57592277c3834c0cabc7a02bd0d2447f": {
      "model_module": "@jupyter-widgets/controls",
      "model_module_version": "1.4.0",
      "model_name": "ButtonStyleModel",
      "state": {}
     },
     "5817db7f3dc64ddabdf3d478e3e0ad6e": {
      "model_module": "@jupyter-widgets/controls",
      "model_module_version": "1.4.0",
      "model_name": "CheckboxModel",
      "state": {
       "description": "Eine rangiedrigere Rolle übernimmt die Subjektfunktion.",
       "disabled": false,
       "layout": "IPY_MODEL_75e815bdc7f74163997ec84abf0eb647",
       "style": "IPY_MODEL_3e1369edafb449b38202cd15553f4f34",
       "value": false
      }
     },
     "5a5bc432cd4d4e3dbf047a53613b8b1f": {
      "model_module": "@jupyter-widgets/base",
      "model_module_version": "1.1.0",
      "model_name": "LayoutModel",
      "state": {
       "width": "150px"
      }
     },
     "5af9c728859242689a414a7f5ffead01": {
      "model_module": "@jupyter-widgets/controls",
      "model_module_version": "1.4.0",
      "model_name": "DropdownModel",
      "state": {
       "_options_labels": [
        "Genusmerkmale",
        "Kasusmerkmale",
        " "
       ],
       "index": 2,
       "layout": "IPY_MODEL_5a5bc432cd4d4e3dbf047a53613b8b1f",
       "style": "IPY_MODEL_982c53f61b07438ca13bffaa340b89ba"
      }
     },
     "5b80883920394e4ab4bd3116930adf1d": {
      "model_module": "@jupyter-widgets/controls",
      "model_module_version": "1.4.0",
      "model_name": "DescriptionStyleModel",
      "state": {
       "description_width": "initial"
      }
     },
     "5c19b6f7c9484f929ccf4680bb79eeb8": {
      "model_module": "@jupyter-widgets/controls",
      "model_module_version": "1.4.0",
      "model_name": "CheckboxModel",
      "state": {
       "description": "Das Adjektiv tritt nur in zwei verschiedenen Formen auf.",
       "disabled": false,
       "layout": "IPY_MODEL_f6c307ddf1ef4e8eaa742ea7bec95ac7",
       "style": "IPY_MODEL_952402641cac4a8d919d0421d94944f4",
       "value": false
      }
     },
     "5c52264b973e40e18f2c39eda1bc0c53": {
      "model_module": "@jupyter-widgets/controls",
      "model_module_version": "1.4.0",
      "model_name": "DropdownModel",
      "state": {
       "_options_labels": [
        "nicht",
        "schwach",
        "stark",
        " "
       ],
       "index": 3,
       "layout": "IPY_MODEL_884796c500904467afe2f515709e361c",
       "style": "IPY_MODEL_98fbf8cda26749ca883e77a940021970"
      }
     },
     "5c8151f90eef4ec0943f17b1d2a54931": {
      "model_module": "@jupyter-widgets/controls",
      "model_module_version": "1.4.0",
      "model_name": "DescriptionStyleModel",
      "state": {
       "description_width": "initial"
      }
     },
     "5d2d47f1d2e24af4a56eb68de9f37101": {
      "model_module": "@jupyter-widgets/base",
      "model_module_version": "1.1.0",
      "model_name": "LayoutModel",
      "state": {}
     },
     "5d8a1b2429a24fb1894634c408ddd7d7": {
      "model_module": "@jupyter-widgets/controls",
      "model_module_version": "1.4.0",
      "model_name": "CheckboxModel",
      "state": {
       "description": "Ausrichtung der Empathie",
       "disabled": false,
       "layout": "IPY_MODEL_8941ad3eb22e467abe6d1394a0f9022c",
       "style": "IPY_MODEL_8f04615fd3534978a4932385e9c8cb88",
       "value": false
      }
     },
     "5eeb98c70373460aa32641d8d69844d3": {
      "model_module": "@jupyter-widgets/controls",
      "model_module_version": "1.4.0",
      "model_name": "HTMLModel",
      "state": {
       "layout": "IPY_MODEL_69cca2e0275b471fba4df0438df7bc4d",
       "style": "IPY_MODEL_ef6a9ad2a4f14a9b9bee3023939e0035",
       "value": "<h4 style=\"font-size:14px;\">keine</h4>"
      }
     },
     "5f2097d6dfb44cbab93a7a36dfd53954": {
      "model_module": "@jupyter-widgets/controls",
      "model_module_version": "1.4.0",
      "model_name": "DescriptionStyleModel",
      "state": {
       "description_width": "initial"
      }
     },
     "5f3363d259d741ad8135f658249f21bd": {
      "model_module": "@jupyter-widgets/controls",
      "model_module_version": "1.4.0",
      "model_name": "DescriptionStyleModel",
      "state": {
       "description_width": ""
      }
     },
     "5f36fc3d467e4e70b4f71be7b278929e": {
      "model_module": "@jupyter-widgets/controls",
      "model_module_version": "1.4.0",
      "model_name": "ButtonStyleModel",
      "state": {}
     },
     "5fe47843afb846e39225c7edd750bcae": {
      "model_module": "@jupyter-widgets/controls",
      "model_module_version": "1.4.0",
      "model_name": "ButtonStyleModel",
      "state": {}
     },
     "60f8aa1082a749009a17e59651df3ca7": {
      "model_module": "@jupyter-widgets/controls",
      "model_module_version": "1.4.0",
      "model_name": "ButtonStyleModel",
      "state": {}
     },
     "610a126561824e47b19187a160f037d8": {
      "model_module": "@jupyter-widgets/base",
      "model_module_version": "1.1.0",
      "model_name": "LayoutModel",
      "state": {
       "justify_content": "center"
      }
     },
     "6194c3db1a414274b4ccf5420503ab99": {
      "model_module": "@jupyter-widgets/controls",
      "model_module_version": "1.4.0",
      "model_name": "HTMLModel",
      "state": {
       "layout": "IPY_MODEL_c91885b117894e1abf488f8a692c497f",
       "style": "IPY_MODEL_251d628c02d74fda9160ce30af05bce8",
       "value": "<h4 style=\"font-size:14px;\">Welche Aussagen gelten für Nominalphrasen mit bestimmtem Artikel?</h4>"
      }
     },
     "61ef30125e4b44e48c48beafdfa664e3": {
      "model_module": "@jupyter-widgets/base",
      "model_module_version": "1.1.0",
      "model_name": "LayoutModel",
      "state": {}
     },
     "625870c5d456435ea4f135ca6fa676fe": {
      "model_module": "@jupyter-widgets/controls",
      "model_module_version": "1.4.0",
      "model_name": "DescriptionStyleModel",
      "state": {
       "description_width": "initial"
      }
     },
     "628069bcc90648cfa7b16c309964c002": {
      "model_module": "@jupyter-widgets/controls",
      "model_module_version": "1.4.0",
      "model_name": "CheckboxModel",
      "state": {
       "description": "Die Endungen von Adjektiv und Artikel stimmen überein.",
       "disabled": false,
       "layout": "IPY_MODEL_473798f69fce4ec8b6d4a8aaad6f6fc7",
       "style": "IPY_MODEL_1697e61a5afe48ae9b4ca784316a8e76",
       "value": false
      }
     },
     "63dfe308ffb04fe3b5c1c86385f3c9b7": {
      "model_module": "@jupyter-widgets/controls",
      "model_module_version": "1.4.0",
      "model_name": "DescriptionStyleModel",
      "state": {
       "description_width": ""
      }
     },
     "63e59c60ee564e51aaa28ffad29c61eb": {
      "model_module": "@jupyter-widgets/controls",
      "model_module_version": "1.4.0",
      "model_name": "ButtonStyleModel",
      "state": {}
     },
     "64d40229afc04ce8ae88ab5a8fa26be4": {
      "model_module": "@jupyter-widgets/controls",
      "model_module_version": "1.4.0",
      "model_name": "HTMLModel",
      "state": {
       "layout": "IPY_MODEL_c83df081a7c84917a0b9cda085644fc0",
       "style": "IPY_MODEL_7be3cf31054b4b02a1ece39c71c9304a",
       "value": "<i>Wählen Sie die <ins>eine</ins> korrekte Antwort aus: </i>"
      }
     },
     "6501f995e4fe41888656c862c54d3efe": {
      "model_module": "@jupyter-widgets/base",
      "model_module_version": "1.1.0",
      "model_name": "LayoutModel",
      "state": {}
     },
     "65d21fc2cd624dd8983a310d0950b621": {
      "model_module": "@jupyter-widgets/controls",
      "model_module_version": "1.4.0",
      "model_name": "HTMLModel",
      "state": {
       "layout": "IPY_MODEL_cc475b8b767248d6a01769ff71c81c1c",
       "style": "IPY_MODEL_3be2560db93448ad9b4d8bdf6468c5f8",
       "value": "<h4 style=\"font-size:14px;\">Um welchen Faktor erhöht sich die Regelanzahl, wenn man Kongruenz (Agreement) in Numerus und Person durch Integration von Merkmalen in die Kategoriensymbole einer CFG modelliert (S → NP_1_SG VP_1_SG usw.)?</h4>"
      }
     },
     "6607ca202c1245f58da6fb73583c8686": {
      "model_module": "@jupyter-widgets/controls",
      "model_module_version": "1.4.0",
      "model_name": "ButtonModel",
      "state": {
       "description": "Korrekt?",
       "layout": "IPY_MODEL_3a9e30b999d242bb858f6619f4254655",
       "style": "IPY_MODEL_23734104a2174d9db13637f4b8a49ed3"
      }
     },
     "6687de57d19c47259cc10ac255e1f5e9": {
      "model_module": "@jupyter-widgets/controls",
      "model_module_version": "1.4.0",
      "model_name": "CheckboxModel",
      "state": {
       "description": "Perspektivierung",
       "disabled": false,
       "layout": "IPY_MODEL_56bdf1f711734be78367f08cc9f25b57",
       "style": "IPY_MODEL_eb9a508261214bb1b41897cbd65aa6cc",
       "value": false
      }
     },
     "66af4198dff74b4a84661d863c4fdb25": {
      "model_module": "@jupyter-widgets/base",
      "model_module_version": "1.1.0",
      "model_name": "LayoutModel",
      "state": {}
     },
     "6736fdad05a6450e994330776649b455": {
      "model_module": "@jupyter-widgets/controls",
      "model_module_version": "1.4.0",
      "model_name": "DescriptionStyleModel",
      "state": {
       "description_width": ""
      }
     },
     "6798f6a36372417793976c905bede56a": {
      "model_module": "@jupyter-widgets/base",
      "model_module_version": "1.1.0",
      "model_name": "LayoutModel",
      "state": {
       "width": "600px"
      }
     },
     "6852daf739a54c9a9dec9652519e8e7c": {
      "model_module": "@jupyter-widgets/controls",
      "model_module_version": "1.4.0",
      "model_name": "VBoxModel",
      "state": {
       "children": [
        "IPY_MODEL_6caa389f63884ccea409ee40fdf53861",
        "IPY_MODEL_4afa7c2995eb4fee93668a2c85ed9bef",
        "IPY_MODEL_ac5098c81f974df19ee2eca3c4fa92c9"
       ],
       "layout": "IPY_MODEL_dfcf50809cc44fc893417001eb56e22e"
      }
     },
     "688ce6d2967247c58b88194829179645": {
      "model_module": "@jupyter-widgets/controls",
      "model_module_version": "1.4.0",
      "model_name": "CheckboxModel",
      "state": {
       "description": "'rue Pascal'; ('spouse', 'address', 'street')",
       "disabled": false,
       "layout": "IPY_MODEL_eec46685b59646ff9fbdec6212a932da",
       "style": "IPY_MODEL_bfa6f8a9f7f94b7ead0e3dcc9cc13b04",
       "value": false
      }
     },
     "689d3b10db1740a89aea1e128974e301": {
      "model_module": "@jupyter-widgets/controls",
      "model_module_version": "1.4.0",
      "model_name": "DescriptionStyleModel",
      "state": {
       "description_width": "initial"
      }
     },
     "68adff094c484208a3f309135ed9fc5b": {
      "model_module": "@jupyter-widgets/base",
      "model_module_version": "1.1.0",
      "model_name": "LayoutModel",
      "state": {
       "width": "250px"
      }
     },
     "68e22c24f6c44837a378c5a3912a087a": {
      "model_module": "@jupyter-widgets/controls",
      "model_module_version": "1.4.0",
      "model_name": "ButtonStyleModel",
      "state": {}
     },
     "6961d182ef9341b7a9f9b1d7f8594839": {
      "model_module": "@jupyter-widgets/base",
      "model_module_version": "1.1.0",
      "model_name": "LayoutModel",
      "state": {
       "width": "600px"
      }
     },
     "698b83c6f8ad4ec6b646a5c707a5e49e": {
      "model_module": "@jupyter-widgets/controls",
      "model_module_version": "1.4.0",
      "model_name": "ButtonStyleModel",
      "state": {}
     },
     "69cca2e0275b471fba4df0438df7bc4d": {
      "model_module": "@jupyter-widgets/base",
      "model_module_version": "1.1.0",
      "model_name": "LayoutModel",
      "state": {}
     },
     "69efb8fe65cb4b178fc6b28b07eaa278": {
      "model_module": "@jupyter-widgets/controls",
      "model_module_version": "1.4.0",
      "model_name": "DescriptionStyleModel",
      "state": {
       "description_width": ""
      }
     },
     "69fcff8ee164406d9ae1be0101aa61ae": {
      "model_module": "@jupyter-widgets/controls",
      "model_module_version": "1.4.0",
      "model_name": "CheckboxModel",
      "state": {
       "description": "FS0 = [CAT = N], FS1 = [CAT = N, GEN = MASK]",
       "disabled": false,
       "layout": "IPY_MODEL_909dcda7d31c4ae6b08d0d1ba370b81d",
       "style": "IPY_MODEL_625870c5d456435ea4f135ca6fa676fe",
       "value": false
      }
     },
     "6acfee8e4b3d41798f770355f0ff9e7a": {
      "model_module": "@jupyter-widgets/controls",
      "model_module_version": "1.4.0",
      "model_name": "HTMLModel",
      "state": {
       "layout": "IPY_MODEL_a64fe018e143443da5e3f86c6c44694e",
       "style": "IPY_MODEL_9903ceb4e7674fceaa84959685cbcc43",
       "value": "<h4 style=\"font-size:14px;\">Was gilt immer für das Ergebnis der Unifikation solcher Merkmalstrukturen?</h4>"
      }
     },
     "6ade3a788bb34f09b2412d653d8780ba": {
      "model_module": "@jupyter-widgets/controls",
      "model_module_version": "1.4.0",
      "model_name": "HTMLModel",
      "state": {
       "layout": "IPY_MODEL_16aae683b6f94b62911ef947d900163f",
       "style": "IPY_MODEL_c896faf37cc4489baab08b6bb007814c",
       "value": "<i>Wählen Sie die <ins>eine</ins> korrekte Antwort aus: </i>"
      }
     },
     "6b503737190242239c82765ba8d64e10": {
      "model_module": "@jupyter-widgets/controls",
      "model_module_version": "1.4.0",
      "model_name": "VBoxModel",
      "state": {
       "children": [
        "IPY_MODEL_912ca843eaca4cb6a5ed406049092e4a",
        "IPY_MODEL_d8d7c5826d7b479eb5f084c60967c656",
        "IPY_MODEL_fbb528b2d70541dcaea872ba0d168099"
       ],
       "layout": "IPY_MODEL_9714edb815594dac807f6420e4e347dc"
      }
     },
     "6bce79fc02aa499bba9bbdc96bac4edf": {
      "model_module": "@jupyter-widgets/base",
      "model_module_version": "1.1.0",
      "model_name": "LayoutModel",
      "state": {
       "width": "600px"
      }
     },
     "6be43ba473dd41639bf0f40218469a4c": {
      "model_module": "@jupyter-widgets/controls",
      "model_module_version": "1.4.0",
      "model_name": "ButtonModel",
      "state": {
       "description": "Nein",
       "layout": "IPY_MODEL_fcce780baadb46f6b5c2e32256814b9b",
       "style": "IPY_MODEL_a0d444b4db6f4ade8e7c12be1a6365ad"
      }
     },
     "6caa389f63884ccea409ee40fdf53861": {
      "model_module": "@jupyter-widgets/controls",
      "model_module_version": "1.4.0",
      "model_name": "HTMLModel",
      "state": {
       "layout": "IPY_MODEL_71f1adef03504dacbbf7394ac6018cc5",
       "style": "IPY_MODEL_1df40cab9163456d828cbc38681d5bba",
       "value": "<i>Vervollständigen Sie den Lückentext: </i>"
      }
     },
     "6d3862f86a8d45fda278c6edbae6d3f3": {
      "model_module": "@jupyter-widgets/controls",
      "model_module_version": "1.4.0",
      "model_name": "DescriptionStyleModel",
      "state": {
       "description_width": "initial"
      }
     },
     "6d88bc315daf40ffb1a14de4a50a54b1": {
      "model_module": "@jupyter-widgets/base",
      "model_module_version": "1.1.0",
      "model_name": "LayoutModel",
      "state": {
       "justify_content": "center"
      }
     },
     "6dda94393de643eaa3c6abf9a9b23540": {
      "model_module": "@jupyter-widgets/base",
      "model_module_version": "1.1.0",
      "model_name": "LayoutModel",
      "state": {
       "justify_content": "center"
      }
     },
     "6ef0a147a42f41008b4905daf896b304": {
      "model_module": "@jupyter-widgets/controls",
      "model_module_version": "1.4.0",
      "model_name": "ButtonModel",
      "state": {
       "description": "list",
       "layout": "IPY_MODEL_1930f66b328a49149e1981fb27f54b8c",
       "style": "IPY_MODEL_dea5af59a0d2411cb348ec4846e3c5b6"
      }
     },
     "6f25e45bec8c49b7a510270dde7a6af1": {
      "model_module": "@jupyter-widgets/base",
      "model_module_version": "1.1.0",
      "model_name": "LayoutModel",
      "state": {
       "width": "600px"
      }
     },
     "6f37ef7359684a3392db1eb5a31f55ea": {
      "model_module": "@jupyter-widgets/controls",
      "model_module_version": "1.4.0",
      "model_name": "HTMLModel",
      "state": {
       "layout": "IPY_MODEL_78f69f07f8e546b386df52e7a3dac353",
       "style": "IPY_MODEL_1254ffd50eb94361a5f35eadd9504118",
       "value": "<i>Wählen Sie die <ins>eine</ins> korrekte Antwort aus: </i>"
      }
     },
     "6f5283b8beff402ea92e213fa077b5c8": {
      "model_module": "@jupyter-widgets/controls",
      "model_module_version": "1.4.0",
      "model_name": "VBoxModel",
      "state": {
       "children": [
        "IPY_MODEL_479e36bed71d45cda4ff385b20797832",
        "IPY_MODEL_391301a5e7d74290a1463468f414ea43",
        "IPY_MODEL_a61da3f8be0c4e4283d52a96dc3b824d",
        "IPY_MODEL_96305b60ade0460eb744011c8f080972"
       ],
       "layout": "IPY_MODEL_729c705515c1451ebe9318e28d928485"
      }
     },
     "6f5e847b0335472eac5ca357c2ae2db0": {
      "model_module": "@jupyter-widgets/controls",
      "model_module_version": "1.4.0",
      "model_name": "DescriptionStyleModel",
      "state": {
       "description_width": ""
      }
     },
     "6fe9785963cf42d5bc2021c65dcbb092": {
      "model_module": "@jupyter-widgets/controls",
      "model_module_version": "1.4.0",
      "model_name": "DescriptionStyleModel",
      "state": {
       "description_width": "initial"
      }
     },
     "7020907f3d394809a16e0af5c12a6d9f": {
      "model_module": "@jupyter-widgets/controls",
      "model_module_version": "1.4.0",
      "model_name": "ButtonModel",
      "state": {
       "description": "dictionary",
       "layout": "IPY_MODEL_cd3d36e745bf4795a3a650e8647d3a7e",
       "style": "IPY_MODEL_7f9457bc5ce2411e8e6b3e3eb42d7109"
      }
     },
     "709855fccdcd4b82a4b6832deef3c202": {
      "model_module": "@jupyter-widgets/controls",
      "model_module_version": "1.4.0",
      "model_name": "CheckboxModel",
      "state": {
       "description": "FS0 = [CAT = DET], FS1 = [CAT = N, GEN = MASK]",
       "disabled": false,
       "layout": "IPY_MODEL_08988522806f470385f767eef033d079",
       "style": "IPY_MODEL_4ae234c5dd04432d89c9eb85eada8818",
       "value": false
      }
     },
     "70eeca82021b49e4be8c72db543d5493": {
      "model_module": "@jupyter-widgets/base",
      "model_module_version": "1.1.0",
      "model_name": "LayoutModel",
      "state": {}
     },
     "71f1adef03504dacbbf7394ac6018cc5": {
      "model_module": "@jupyter-widgets/base",
      "model_module_version": "1.1.0",
      "model_name": "LayoutModel",
      "state": {
       "justify_content": "center"
      }
     },
     "729c705515c1451ebe9318e28d928485": {
      "model_module": "@jupyter-widgets/base",
      "model_module_version": "1.1.0",
      "model_name": "LayoutModel",
      "state": {}
     },
     "72c1111806a14d16b4dd05dc3f51fe89": {
      "model_module": "@jupyter-widgets/controls",
      "model_module_version": "1.4.0",
      "model_name": "DescriptionStyleModel",
      "state": {
       "description_width": "initial"
      }
     },
     "731b25f157874e77b00f4888ff536287": {
      "model_module": "@jupyter-widgets/controls",
      "model_module_version": "1.4.0",
      "model_name": "VBoxModel",
      "state": {
       "children": [
        "IPY_MODEL_f71408236e48441ba3a1bcf534ca06fb",
        "IPY_MODEL_83fea32496fb49e8ba9794c66a71e8cc",
        "IPY_MODEL_0d91a2e0589244929c963f76aa3466e9",
        "IPY_MODEL_027c3c519364415d9cae437f61618b5b"
       ],
       "layout": "IPY_MODEL_d5020ceb50774a9c9e8fecce3f08a4a4"
      }
     },
     "7375171ccb6b44b2b1c5c38428942753": {
      "model_module": "@jupyter-widgets/controls",
      "model_module_version": "1.4.0",
      "model_name": "DescriptionStyleModel",
      "state": {
       "description_width": ""
      }
     },
     "741ab6cdb509403fb4df6eddf4261cd4": {
      "model_module": "@jupyter-widgets/controls",
      "model_module_version": "1.4.0",
      "model_name": "HTMLModel",
      "state": {
       "layout": "IPY_MODEL_7cef1d5b9718467683cd83ab5f09065a",
       "style": "IPY_MODEL_04cd4bf7ae234ee1b4425cbf273ca42d",
       "value": "<h4 style=\"font-size:14px;\">Welche Aussagen über Adjektive stimmen?</h4>"
      }
     },
     "747a8815d18540e9963268512c6d5461": {
      "model_module": "@jupyter-widgets/controls",
      "model_module_version": "1.4.0",
      "model_name": "VBoxModel",
      "state": {
       "children": [
        "IPY_MODEL_bb5937f28fc2456d937f36283f4900e7",
        "IPY_MODEL_21adc0931b484f829bfc96a53cef95e9",
        "IPY_MODEL_dc9834955c464c899249b32b290ad148",
        "IPY_MODEL_d1b8f0c630e04e768422ee2f620240cd"
       ],
       "layout": "IPY_MODEL_02106048c8784c4090a0a4b60f5d42cb"
      }
     },
     "74c300f855614759b00e42ca822e9b95": {
      "model_module": "@jupyter-widgets/controls",
      "model_module_version": "1.4.0",
      "model_name": "DescriptionStyleModel",
      "state": {
       "description_width": ""
      }
     },
     "74f5ce5fba124894b2ab4d0c11f1bba7": {
      "model_module": "@jupyter-widgets/controls",
      "model_module_version": "1.4.0",
      "model_name": "HBoxModel",
      "state": {
       "children": [
        "IPY_MODEL_85cbb5bf3d2b49888e9fb51ba42bb68a",
        "IPY_MODEL_fbb5df824a2e47e5809906b5765c5489"
       ],
       "layout": "IPY_MODEL_a1ed68964da644d4bfb97a784e007cdd"
      }
     },
     "750f0a5375d84e65bc30b48b166a86ae": {
      "model_module": "@jupyter-widgets/controls",
      "model_module_version": "1.4.0",
      "model_name": "HTMLModel",
      "state": {
       "layout": "IPY_MODEL_f62d041b0f5842bc8e9c2d2838a8319f",
       "style": "IPY_MODEL_8cdd1433178b47a6a149385d1cf5fe84",
       "value": "<h4 style=\"font-size:14px;\">Beantworten Sie die beiden obigen Fragen.</h4>"
      }
     },
     "75e815bdc7f74163997ec84abf0eb647": {
      "model_module": "@jupyter-widgets/base",
      "model_module_version": "1.1.0",
      "model_name": "LayoutModel",
      "state": {
       "width": "600px"
      }
     },
     "7647f35103084cd788274f6133d3731e": {
      "model_module": "@jupyter-widgets/controls",
      "model_module_version": "1.4.0",
      "model_name": "VBoxModel",
      "state": {
       "children": [
        "IPY_MODEL_bcd3ac50b123457e962e073b9361514f",
        "IPY_MODEL_6f37ef7359684a3392db1eb5a31f55ea",
        "IPY_MODEL_505f076f41984d0d9052bdba77746b86",
        "IPY_MODEL_08026619e8774a3bb21ba4bc70872649",
        "IPY_MODEL_31a5275b6b064b4988bda9c581d1f6bc",
        "IPY_MODEL_d684666dbd7a464da4678594d5a3a924"
       ],
       "layout": "IPY_MODEL_241501392b8449998b3416c11aaad871"
      }
     },
     "769371de371a4b8ebab8b20b8a4c1a47": {
      "model_module": "@jupyter-widgets/base",
      "model_module_version": "1.1.0",
      "model_name": "LayoutModel",
      "state": {
       "justify_content": "center"
      }
     },
     "769556c29050468ea310be0538ff285f": {
      "model_module": "@jupyter-widgets/controls",
      "model_module_version": "1.4.0",
      "model_name": "ButtonStyleModel",
      "state": {}
     },
     "774ce1bb1e62471c9d92c875cfb9d1bc": {
      "model_module": "@jupyter-widgets/base",
      "model_module_version": "1.1.0",
      "model_name": "LayoutModel",
      "state": {
       "width": "600px"
      }
     },
     "779a441d725342f398800746c3c618c6": {
      "model_module": "@jupyter-widgets/controls",
      "model_module_version": "1.4.0",
      "model_name": "ButtonModel",
      "state": {
       "description": "schwache Deklination",
       "layout": "IPY_MODEL_eab0f9d1ab5a455291201459700fd8e6",
       "style": "IPY_MODEL_e7d4ed57330347c4b55b7e33e59b3cf1"
      }
     },
     "77d4ccc26555444d952ab6ff51bd399a": {
      "model_module": "@jupyter-widgets/base",
      "model_module_version": "1.1.0",
      "model_name": "LayoutModel",
      "state": {}
     },
     "77d5dac1e45543fc8b0c4a49fbfc9150": {
      "model_module": "@jupyter-widgets/controls",
      "model_module_version": "1.4.0",
      "model_name": "DescriptionStyleModel",
      "state": {
       "description_width": ""
      }
     },
     "7808dd28936344229c4cf012f3bc8b84": {
      "model_module": "@jupyter-widgets/controls",
      "model_module_version": "1.4.0",
      "model_name": "ButtonModel",
      "state": {
       "description": "Benefaktiv",
       "layout": "IPY_MODEL_a59bdc91e0384fac8004039eac616e99",
       "style": "IPY_MODEL_2577587966d642088f7c9ae0492d8a91"
      }
     },
     "78c06521032446eebe53fb80fcb0dd42": {
      "model_module": "@jupyter-widgets/base",
      "model_module_version": "1.1.0",
      "model_name": "LayoutModel",
      "state": {
       "width": "150px"
      }
     },
     "78f69f07f8e546b386df52e7a3dac353": {
      "model_module": "@jupyter-widgets/base",
      "model_module_version": "1.1.0",
      "model_name": "LayoutModel",
      "state": {
       "justify_content": "center"
      }
     },
     "793445aaa8594639b2efe040f26a18c9": {
      "model_module": "@jupyter-widgets/controls",
      "model_module_version": "1.4.0",
      "model_name": "VBoxModel",
      "state": {
       "children": [
        "IPY_MODEL_741ab6cdb509403fb4df6eddf4261cd4",
        "IPY_MODEL_43e4f29cdf4c46d0a65aa9c82c6a42dd",
        "IPY_MODEL_0cae84e674bc47fbb41f6aaef89b7bba",
        "IPY_MODEL_a2b995b31abf4d23b1ee4429132a9866"
       ],
       "layout": "IPY_MODEL_0bcab597a264454a9852451f49f394e6"
      }
     },
     "796ddb57fef44e018f0389267e060246": {
      "model_module": "@jupyter-widgets/controls",
      "model_module_version": "1.4.0",
      "model_name": "VBoxModel",
      "state": {
       "children": [
        "IPY_MODEL_4c7dc66e29f64e7e80e8418df58e8f45",
        "IPY_MODEL_fd3c7329040248d6afac85882cbcd629",
        "IPY_MODEL_ee0a839ce3f7429a9513a4bcb7bab850",
        "IPY_MODEL_f1d12802f81d4d7ba06933ed64c26233"
       ],
       "layout": "IPY_MODEL_90e7076e4a144ead8f83f7ee87a5b2c9"
      }
     },
     "7bc8dcc3a2f0434cbc13ea5d157eaacb": {
      "model_module": "@jupyter-widgets/base",
      "model_module_version": "1.1.0",
      "model_name": "LayoutModel",
      "state": {
       "width": "600px"
      }
     },
     "7be3cf31054b4b02a1ece39c71c9304a": {
      "model_module": "@jupyter-widgets/controls",
      "model_module_version": "1.4.0",
      "model_name": "DescriptionStyleModel",
      "state": {
       "description_width": ""
      }
     },
     "7bfc5452acd34b4888fa8b3d9f021f5e": {
      "model_module": "@jupyter-widgets/base",
      "model_module_version": "1.1.0",
      "model_name": "LayoutModel",
      "state": {}
     },
     "7c0bfe9294da4358a96664a2a31b4af5": {
      "model_module": "@jupyter-widgets/base",
      "model_module_version": "1.1.0",
      "model_name": "LayoutModel",
      "state": {}
     },
     "7c37bf91d20f4acd91ac70b94425a363": {
      "model_module": "@jupyter-widgets/controls",
      "model_module_version": "1.4.0",
      "model_name": "ButtonStyleModel",
      "state": {}
     },
     "7c4f955d7b63421d9fe3f7fc3862c313": {
      "model_module": "@jupyter-widgets/controls",
      "model_module_version": "1.4.0",
      "model_name": "CheckboxModel",
      "state": {
       "description": "Ausrichtung der Empathie",
       "disabled": false,
       "layout": "IPY_MODEL_dfc8a006bfe747858a741fb02bbef253",
       "style": "IPY_MODEL_538f73d7c1964c14811ef9fac1f4af4f",
       "value": false
      }
     },
     "7c6ade083ac1466cae5ca6597b2fe690": {
      "model_module": "@jupyter-widgets/controls",
      "model_module_version": "1.4.0",
      "model_name": "DescriptionStyleModel",
      "state": {
       "description_width": ""
      }
     },
     "7cef1d5b9718467683cd83ab5f09065a": {
      "model_module": "@jupyter-widgets/base",
      "model_module_version": "1.1.0",
      "model_name": "LayoutModel",
      "state": {}
     },
     "7d7a6f4627cc4348bc79e5a1b55ff3b5": {
      "model_module": "@jupyter-widgets/controls",
      "model_module_version": "1.4.0",
      "model_name": "DescriptionStyleModel",
      "state": {
       "description_width": ""
      }
     },
     "7f488f15b1514fd0855941454eff3b41": {
      "model_module": "@jupyter-widgets/base",
      "model_module_version": "1.1.0",
      "model_name": "LayoutModel",
      "state": {
       "width": "250px"
      }
     },
     "7f8e14c50b5d4dcf9cccb54add02ca96": {
      "model_module": "@jupyter-widgets/controls",
      "model_module_version": "1.4.0",
      "model_name": "HTMLModel",
      "state": {
       "layout": "IPY_MODEL_3d5c13a0296a4a9680ac5670d16a976b",
       "style": "IPY_MODEL_29e518655cd84337876d5e87c1ff34f3",
       "value": "<h4 style=\"font-size:14px;\">Welche syntaktischen Unterschiede bestehen?</h4>"
      }
     },
     "7f9457bc5ce2411e8e6b3e3eb42d7109": {
      "model_module": "@jupyter-widgets/controls",
      "model_module_version": "1.4.0",
      "model_name": "ButtonStyleModel",
      "state": {}
     },
     "7fc8e733badc467d94c7e5c96e9d8c1a": {
      "model_module": "@jupyter-widgets/base",
      "model_module_version": "1.1.0",
      "model_name": "LayoutModel",
      "state": {
       "width": "600px"
      }
     },
     "7fcf36d9159b4bbb8be536ca923826ad": {
      "model_module": "@jupyter-widgets/controls",
      "model_module_version": "1.4.0",
      "model_name": "DescriptionStyleModel",
      "state": {
       "description_width": ""
      }
     },
     "80d46f48b8724eccb5e8a0513f05352b": {
      "model_module": "@jupyter-widgets/controls",
      "model_module_version": "1.4.0",
      "model_name": "ButtonModel",
      "state": {
       "description": "Agens",
       "layout": "IPY_MODEL_34a8885d717343b0892d3c6eab084cd8",
       "style": "IPY_MODEL_53448ec42e204542bc88a3df2d00fb22"
      }
     },
     "80e98be1ffb442659fc26bb59f7c8013": {
      "model_module": "@jupyter-widgets/controls",
      "model_module_version": "1.4.0",
      "model_name": "HTMLModel",
      "state": {
       "layout": "IPY_MODEL_c3e8ce90e4284d19b368771736225b3a",
       "style": "IPY_MODEL_e5002423241a42139248a8ef294c5e65",
       "value": "<h4 style=\"font-size:14px;\">realisieren. Das Adjektiv muss also, wie auch beim Fehlen des bestimmten Artikels, die</h4>"
      }
     },
     "80fefe84eeef436a86330fe2630634d2": {
      "model_module": "@jupyter-widgets/controls",
      "model_module_version": "1.4.0",
      "model_name": "DescriptionStyleModel",
      "state": {
       "description_width": "initial"
      }
     },
     "81fb47a5c0a34e3a9ea888d29f04e1ed": {
      "model_module": "@jupyter-widgets/controls",
      "model_module_version": "1.4.0",
      "model_name": "VBoxModel",
      "state": {
       "children": [
        "IPY_MODEL_6194c3db1a414274b4ccf5420503ab99",
        "IPY_MODEL_4bcff569aad5479abe734d4a566c1e66",
        "IPY_MODEL_8657306cff954606817ed5bf54107116",
        "IPY_MODEL_cdc7e37bdcc14e8d9f70de6eb67c237b"
       ],
       "layout": "IPY_MODEL_66af4198dff74b4a84661d863c4fdb25"
      }
     },
     "8257aa26f1244e9da14456d4470635c4": {
      "model_module": "@jupyter-widgets/controls",
      "model_module_version": "1.4.0",
      "model_name": "ButtonModel",
      "state": {
       "description": "stack",
       "layout": "IPY_MODEL_2525b669e24c43cdbf27346f0d76e707",
       "style": "IPY_MODEL_91b81db9c70742d4b2443ac0c4d47e7a"
      }
     },
     "83700260b9b641f1af85d5415063843e": {
      "model_module": "@jupyter-widgets/base",
      "model_module_version": "1.1.0",
      "model_name": "LayoutModel",
      "state": {}
     },
     "83ba54bb19f540309543e73dc2c9a455": {
      "model_module": "@jupyter-widgets/controls",
      "model_module_version": "1.4.0",
      "model_name": "CheckboxModel",
      "state": {
       "description": "FS0 = [CAT = N, GEN = FEM], FS1 = [CAT = N, GEN = FEM]",
       "disabled": false,
       "layout": "IPY_MODEL_6961d182ef9341b7a9f9b1d7f8594839",
       "style": "IPY_MODEL_34c6698cf55f4340b7ba79cd6d285487",
       "value": false
      }
     },
     "83fea32496fb49e8ba9794c66a71e8cc": {
      "model_module": "@jupyter-widgets/controls",
      "model_module_version": "1.4.0",
      "model_name": "HTMLModel",
      "state": {
       "layout": "IPY_MODEL_320845e8c3924519bbc036659d6968d2",
       "style": "IPY_MODEL_06fd49f4fa0e4613b9ec03c27318ac5c",
       "value": "<i>Markieren Sie <ins>alle</ins> passenden Antworten: </i>"
      }
     },
     "846e6125797843beb315f3f90fa006a0": {
      "model_module": "@jupyter-widgets/base",
      "model_module_version": "1.1.0",
      "model_name": "LayoutModel",
      "state": {
       "width": "250px"
      }
     },
     "852d23e1ac614b058a13fe9c038f589a": {
      "model_module": "@jupyter-widgets/base",
      "model_module_version": "1.1.0",
      "model_name": "LayoutModel",
      "state": {}
     },
     "85cbb5bf3d2b49888e9fb51ba42bb68a": {
      "model_module": "@jupyter-widgets/controls",
      "model_module_version": "1.4.0",
      "model_name": "ButtonModel",
      "state": {
       "description": "Instrument",
       "layout": "IPY_MODEL_f5a060e89037482190d828571b8aba74",
       "style": "IPY_MODEL_c8855d0e965447638bc845e9304a379a"
      }
     },
     "86527d97a644478e9c448397b94751a3": {
      "model_module": "@jupyter-widgets/controls",
      "model_module_version": "1.4.0",
      "model_name": "VBoxModel",
      "state": {
       "children": [
        "IPY_MODEL_fe0e6704ec2f479f8e4cbe838a1570e7",
        "IPY_MODEL_ad874f9011e34933bf729e4670d4a31c",
        "IPY_MODEL_cbc5e1886e494434be6317e9a466983a",
        "IPY_MODEL_be983c8c7a1c48099d0f4ceaa18f7eb5"
       ],
       "layout": "IPY_MODEL_e8f20e7cfd5a44e4b34b948a38ffd07f"
      }
     },
     "8657306cff954606817ed5bf54107116": {
      "model_module": "@jupyter-widgets/controls",
      "model_module_version": "1.4.0",
      "model_name": "VBoxModel",
      "state": {
       "children": [
        "IPY_MODEL_5c19b6f7c9484f929ccf4680bb79eeb8",
        "IPY_MODEL_212da42f6aa54b1f8dfb19ba7e6c2206",
        "IPY_MODEL_a2e35eb960ad41afb04a47e3074fc55c",
        "IPY_MODEL_628069bcc90648cfa7b16c309964c002",
        "IPY_MODEL_35d823400d5743678dc3ac0849db84b5"
       ],
       "layout": "IPY_MODEL_6501f995e4fe41888656c862c54d3efe"
      }
     },
     "8667f97c1dd54e57b1f46edb010fdd7a": {
      "model_module": "@jupyter-widgets/base",
      "model_module_version": "1.1.0",
      "model_name": "LayoutModel",
      "state": {
       "justify_content": "center"
      }
     },
     "884796c500904467afe2f515709e361c": {
      "model_module": "@jupyter-widgets/base",
      "model_module_version": "1.1.0",
      "model_name": "LayoutModel",
      "state": {
       "width": "150px"
      }
     },
     "892df5efeb2a4442b19de776f8c4601f": {
      "model_module": "@jupyter-widgets/controls",
      "model_module_version": "1.4.0",
      "model_name": "CheckboxModel",
      "state": {
       "description": "Die Form des Adjektivs richtet sich nach dem Genus des Substantivs.",
       "disabled": false,
       "layout": "IPY_MODEL_030ebfce407b4d3dbff2bffee660e440",
       "style": "IPY_MODEL_fb43f940bae04225a5fa6e0cc96a92a6",
       "value": false
      }
     },
     "8941ad3eb22e467abe6d1394a0f9022c": {
      "model_module": "@jupyter-widgets/base",
      "model_module_version": "1.1.0",
      "model_name": "LayoutModel",
      "state": {
       "width": "600px"
      }
     },
     "89ad4b50edc94058ad1feffaa32e9b9e": {
      "model_module": "@jupyter-widgets/base",
      "model_module_version": "1.1.0",
      "model_name": "LayoutModel",
      "state": {}
     },
     "8a96cd05468d4babb8ac1db92c3f9d12": {
      "model_module": "@jupyter-widgets/base",
      "model_module_version": "1.1.0",
      "model_name": "LayoutModel",
      "state": {
       "width": "600px"
      }
     },
     "8b147535945a427398374a4be8c2c318": {
      "model_module": "@jupyter-widgets/base",
      "model_module_version": "1.1.0",
      "model_name": "LayoutModel",
      "state": {
       "width": "600px"
      }
     },
     "8b765e7509d942baba1f35698be4271b": {
      "model_module": "@jupyter-widgets/controls",
      "model_module_version": "1.4.0",
      "model_name": "CheckboxModel",
      "state": {
       "description": "Das Adjektiv übernimmt die Endungen des Artikels.",
       "disabled": false,
       "layout": "IPY_MODEL_8d51dc5beab54c84a9e97fac2f5633b6",
       "style": "IPY_MODEL_afe04f3d300049849538f80059651464",
       "value": false
      }
     },
     "8cdd1433178b47a6a149385d1cf5fe84": {
      "model_module": "@jupyter-widgets/controls",
      "model_module_version": "1.4.0",
      "model_name": "DescriptionStyleModel",
      "state": {
       "description_width": ""
      }
     },
     "8d51dc5beab54c84a9e97fac2f5633b6": {
      "model_module": "@jupyter-widgets/base",
      "model_module_version": "1.1.0",
      "model_name": "LayoutModel",
      "state": {
       "width": "600px"
      }
     },
     "8d9a1f8d9dbe44dd882b436efba5e4e0": {
      "model_module": "@jupyter-widgets/base",
      "model_module_version": "1.1.0",
      "model_name": "LayoutModel",
      "state": {
       "width": "250px"
      }
     },
     "8e04c36a80b74d2aa35d8c5e83ad632f": {
      "model_module": "@jupyter-widgets/controls",
      "model_module_version": "1.4.0",
      "model_name": "ButtonModel",
      "state": {
       "description": "Korrekt?",
       "layout": "IPY_MODEL_95214d14c3f04651bbd55efec7d4415f",
       "style": "IPY_MODEL_7c37bf91d20f4acd91ac70b94425a363"
      }
     },
     "8e56d486ecbf4ea599e45683951b0c46": {
      "model_module": "@jupyter-widgets/base",
      "model_module_version": "1.1.0",
      "model_name": "LayoutModel",
      "state": {
       "width": "600px"
      }
     },
     "8e6e5602f78c4cbf9eec55df2218920a": {
      "model_module": "@jupyter-widgets/controls",
      "model_module_version": "1.4.0",
      "model_name": "DescriptionStyleModel",
      "state": {
       "description_width": "initial"
      }
     },
     "8f04615fd3534978a4932385e9c8cb88": {
      "model_module": "@jupyter-widgets/controls",
      "model_module_version": "1.4.0",
      "model_name": "DescriptionStyleModel",
      "state": {
       "description_width": "initial"
      }
     },
     "8fcddbdc600b49f69b90fcd7c4a72bbb": {
      "model_module": "@jupyter-widgets/controls",
      "model_module_version": "1.4.0",
      "model_name": "VBoxModel",
      "state": {
       "children": [
        "IPY_MODEL_f51c7e47ebef44a1ab22b8daab6cbd26",
        "IPY_MODEL_dc5d0a98ed7949c8a4baa5215e90dd5d",
        "IPY_MODEL_40b06800e059442aacffe0b7c3aeef52",
        "IPY_MODEL_96bec54dfb6a483887112ba16bf7b8a0"
       ],
       "layout": "IPY_MODEL_cd81edbb70e941d794ff801c32784a4f"
      }
     },
     "909dcda7d31c4ae6b08d0d1ba370b81d": {
      "model_module": "@jupyter-widgets/base",
      "model_module_version": "1.1.0",
      "model_name": "LayoutModel",
      "state": {
       "width": "600px"
      }
     },
     "90e7076e4a144ead8f83f7ee87a5b2c9": {
      "model_module": "@jupyter-widgets/base",
      "model_module_version": "1.1.0",
      "model_name": "LayoutModel",
      "state": {}
     },
     "912ca843eaca4cb6a5ed406049092e4a": {
      "model_module": "@jupyter-widgets/controls",
      "model_module_version": "1.4.0",
      "model_name": "CheckboxModel",
      "state": {
       "description": "Keine der Alternativen",
       "disabled": false,
       "layout": "IPY_MODEL_23d3437076e24df48db116e8ae92a7d6",
       "style": "IPY_MODEL_72c1111806a14d16b4dd05dc3f51fe89",
       "value": false
      }
     },
     "9136ecb5aa4441b29c72ac55cfdb638f": {
      "model_module": "@jupyter-widgets/controls",
      "model_module_version": "1.4.0",
      "model_name": "DescriptionStyleModel",
      "state": {
       "description_width": ""
      }
     },
     "91546c47258540a0a33458fc3b916c31": {
      "model_module": "@jupyter-widgets/controls",
      "model_module_version": "1.4.0",
      "model_name": "ButtonStyleModel",
      "state": {}
     },
     "91b81db9c70742d4b2443ac0c4d47e7a": {
      "model_module": "@jupyter-widgets/controls",
      "model_module_version": "1.4.0",
      "model_name": "ButtonStyleModel",
      "state": {}
     },
     "9499d465ac7848b9b1099f52d0fe8917": {
      "model_module": "@jupyter-widgets/controls",
      "model_module_version": "1.4.0",
      "model_name": "DescriptionStyleModel",
      "state": {
       "description_width": "initial"
      }
     },
     "94bc0909ceb04b728735f23f8ae239c0": {
      "model_module": "@jupyter-widgets/controls",
      "model_module_version": "1.4.0",
      "model_name": "DescriptionStyleModel",
      "state": {
       "description_width": ""
      }
     },
     "95214d14c3f04651bbd55efec7d4415f": {
      "model_module": "@jupyter-widgets/base",
      "model_module_version": "1.1.0",
      "model_name": "LayoutModel",
      "state": {
       "width": "250px"
      }
     },
     "952402641cac4a8d919d0421d94944f4": {
      "model_module": "@jupyter-widgets/controls",
      "model_module_version": "1.4.0",
      "model_name": "DescriptionStyleModel",
      "state": {
       "description_width": "initial"
      }
     },
     "952fa13e699143d0b3084915a2f6a963": {
      "model_module": "@jupyter-widgets/controls",
      "model_module_version": "1.4.0",
      "model_name": "HBoxModel",
      "state": {
       "children": [
        "IPY_MODEL_80d46f48b8724eccb5e8a0513f05352b",
        "IPY_MODEL_13dfafcdcffa488ca82ca45675b6124a"
       ],
       "layout": "IPY_MODEL_263da48a9f3e4d8ebfca0564d058faf2"
      }
     },
     "95603e319f3a4308a0c34ea3e3981512": {
      "model_module": "@jupyter-widgets/base",
      "model_module_version": "1.1.0",
      "model_name": "LayoutModel",
      "state": {
       "justify_content": "center"
      }
     },
     "95a08033249e447d8bec5bd0a8460255": {
      "model_module": "@jupyter-widgets/base",
      "model_module_version": "1.1.0",
      "model_name": "LayoutModel",
      "state": {}
     },
     "96305b60ade0460eb744011c8f080972": {
      "model_module": "@jupyter-widgets/controls",
      "model_module_version": "1.4.0",
      "model_name": "HBoxModel",
      "state": {
       "children": [
        "IPY_MODEL_ed7f4616965c4a5bacd6a0faf419189b"
       ],
       "layout": "IPY_MODEL_bc071c7fd172465ab309e9b87c0068e5"
      }
     },
     "96bec54dfb6a483887112ba16bf7b8a0": {
      "model_module": "@jupyter-widgets/controls",
      "model_module_version": "1.4.0",
      "model_name": "HBoxModel",
      "state": {
       "children": [
        "IPY_MODEL_e30c5c1a00014096a7ac86ce125fb86d"
       ],
       "layout": "IPY_MODEL_f86a40ae3f33439d964e83e5433549a7"
      }
     },
     "9714edb815594dac807f6420e4e347dc": {
      "model_module": "@jupyter-widgets/base",
      "model_module_version": "1.1.0",
      "model_name": "LayoutModel",
      "state": {}
     },
     "97623e3f92a74c67a457ba7d1a0ff0e3": {
      "model_module": "@jupyter-widgets/controls",
      "model_module_version": "1.4.0",
      "model_name": "ButtonModel",
      "state": {
       "description": "Locative",
       "layout": "IPY_MODEL_c23b9748cc004410af72b181810bb6d1",
       "style": "IPY_MODEL_998bf79bc8eb4e9e8efe4bbf07f0934f"
      }
     },
     "97d8af74cd544558b079daaab5cdbb3d": {
      "model_module": "@jupyter-widgets/controls",
      "model_module_version": "1.4.0",
      "model_name": "CheckboxModel",
      "state": {
       "description": "x?",
       "disabled": false,
       "layout": "IPY_MODEL_d479e9acb21f4a788931446b66d876b0",
       "style": "IPY_MODEL_01fdfe3b16f94b3b944db54494062ea1",
       "value": false
      }
     },
     "9807f72b6ddd47079820ccb7fd141a9c": {
      "model_module": "@jupyter-widgets/base",
      "model_module_version": "1.1.0",
      "model_name": "LayoutModel",
      "state": {
       "width": "600px"
      }
     },
     "982c53f61b07438ca13bffaa340b89ba": {
      "model_module": "@jupyter-widgets/controls",
      "model_module_version": "1.4.0",
      "model_name": "DescriptionStyleModel",
      "state": {
       "description_width": ""
      }
     },
     "988df82cb7654c5087b51c41ab4bdd85": {
      "model_module": "@jupyter-widgets/base",
      "model_module_version": "1.1.0",
      "model_name": "LayoutModel",
      "state": {
       "width": "600px"
      }
     },
     "98b9e4752b6c40c59c82403b4c7b8fde": {
      "model_module": "@jupyter-widgets/base",
      "model_module_version": "1.1.0",
      "model_name": "LayoutModel",
      "state": {
       "justify_content": "center"
      }
     },
     "98fbf8cda26749ca883e77a940021970": {
      "model_module": "@jupyter-widgets/controls",
      "model_module_version": "1.4.0",
      "model_name": "DescriptionStyleModel",
      "state": {
       "description_width": ""
      }
     },
     "9903ceb4e7674fceaa84959685cbcc43": {
      "model_module": "@jupyter-widgets/controls",
      "model_module_version": "1.4.0",
      "model_name": "DescriptionStyleModel",
      "state": {
       "description_width": ""
      }
     },
     "998bf79bc8eb4e9e8efe4bbf07f0934f": {
      "model_module": "@jupyter-widgets/controls",
      "model_module_version": "1.4.0",
      "model_name": "ButtonStyleModel",
      "state": {}
     },
     "9a03fcd2398e47889ded66b0a77566df": {
      "model_module": "@jupyter-widgets/base",
      "model_module_version": "1.1.0",
      "model_name": "LayoutModel",
      "state": {
       "width": "250px"
      }
     },
     "9a46906b92114b03a9d0b9887b90f635": {
      "model_module": "@jupyter-widgets/base",
      "model_module_version": "1.1.0",
      "model_name": "LayoutModel",
      "state": {
       "width": "250px"
      }
     },
     "9a9da604075a4607b84810453741fef4": {
      "model_module": "@jupyter-widgets/controls",
      "model_module_version": "1.4.0",
      "model_name": "HBoxModel",
      "state": {
       "children": [
        "IPY_MODEL_d71d7b46aa6e400782a49ee19c5702bd",
        "IPY_MODEL_ef42906d9c9343548afe94932c9e620f"
       ],
       "layout": "IPY_MODEL_7c0bfe9294da4358a96664a2a31b4af5"
      }
     },
     "9b23a83fe6b94d46a4753159c9bfef17": {
      "model_module": "@jupyter-widgets/controls",
      "model_module_version": "1.4.0",
      "model_name": "ButtonModel",
      "state": {
       "description": "Time",
       "layout": "IPY_MODEL_9a03fcd2398e47889ded66b0a77566df",
       "style": "IPY_MODEL_c4ebcbeebc79449688907e0e8895ac92"
      }
     },
     "9c049d4f158e4e2fae664be351b1b1fc": {
      "model_module": "@jupyter-widgets/controls",
      "model_module_version": "1.4.0",
      "model_name": "ButtonModel",
      "state": {
       "description": "Zeitangabe",
       "layout": "IPY_MODEL_c0cdea57ef7f4ee3abc39ebc37c10ae4",
       "style": "IPY_MODEL_d586f051fbe94f62aa53312c650368d2"
      }
     },
     "9c84fa49b7a146b58751489eadd203dc": {
      "model_module": "@jupyter-widgets/base",
      "model_module_version": "1.1.0",
      "model_name": "LayoutModel",
      "state": {}
     },
     "9d613195d0034d9f8a1011f5a64761c6": {
      "model_module": "@jupyter-widgets/controls",
      "model_module_version": "1.4.0",
      "model_name": "DropdownModel",
      "state": {
       "_options_labels": [
        "Genusmarkierung",
        "Kasusmarkierung",
        " "
       ],
       "index": 2,
       "layout": "IPY_MODEL_e0ba272c0d5545f3b8c4501054c7d1f6",
       "style": "IPY_MODEL_74c300f855614759b00e42ca822e9b95"
      }
     },
     "9eca3d9e47bd4026abb3dfd61d521d74": {
      "model_module": "@jupyter-widgets/controls",
      "model_module_version": "1.4.0",
      "model_name": "CheckboxModel",
      "state": {
       "description": "FS0 = [CAT = N, GEN = FEM], FS1 = [CAT = N, GEN = FEM]",
       "disabled": false,
       "layout": "IPY_MODEL_332b4eb619244d5aa1e4803a3f4e2c80",
       "style": "IPY_MODEL_edafd58deadc436e9e4dbb2ecb007d17",
       "value": false
      }
     },
     "9f682990588c4615967a5310f6d48c81": {
      "model_module": "@jupyter-widgets/controls",
      "model_module_version": "1.4.0",
      "model_name": "CheckboxModel",
      "state": {
       "description": "FS0 = [CAT = N, GEN = FEM], FS1 = [CAT = DET, GEN = FEM]",
       "disabled": false,
       "layout": "IPY_MODEL_774ce1bb1e62471c9d92c875cfb9d1bc",
       "style": "IPY_MODEL_0d6e2dc8109e4ade9aedc7fa18677c62",
       "value": false
      }
     },
     "9fc364d8cab24955b0d2006cf811024e": {
      "model_module": "@jupyter-widgets/controls",
      "model_module_version": "1.4.0",
      "model_name": "DescriptionStyleModel",
      "state": {
       "description_width": ""
      }
     },
     "9fdb5f0e5c0f4f4b9810f50c0c5b228f": {
      "model_module": "@jupyter-widgets/base",
      "model_module_version": "1.1.0",
      "model_name": "LayoutModel",
      "state": {}
     },
     "9fe3bc025e9c462eaed524f35b53ea9a": {
      "model_module": "@jupyter-widgets/controls",
      "model_module_version": "1.4.0",
      "model_name": "DescriptionStyleModel",
      "state": {
       "description_width": "initial"
      }
     },
     "a0ca5ca775cb4bf9b2696dd9ae94e2b3": {
      "model_module": "@jupyter-widgets/controls",
      "model_module_version": "1.4.0",
      "model_name": "ButtonModel",
      "state": {
       "description": "Instrument",
       "layout": "IPY_MODEL_ec6241723cdb44b4822dd7b5311540aa",
       "style": "IPY_MODEL_ce7547ff3d0e44c09906fd04f3eded96"
      }
     },
     "a0d444b4db6f4ade8e7c12be1a6365ad": {
      "model_module": "@jupyter-widgets/controls",
      "model_module_version": "1.4.0",
      "model_name": "ButtonStyleModel",
      "state": {}
     },
     "a0e8c87ea61149f291e556583c9c0eab": {
      "model_module": "@jupyter-widgets/controls",
      "model_module_version": "1.4.0",
      "model_name": "DescriptionStyleModel",
      "state": {
       "description_width": ""
      }
     },
     "a129bf24c3454d8da66f9c31f0d1930f": {
      "model_module": "@jupyter-widgets/base",
      "model_module_version": "1.1.0",
      "model_name": "LayoutModel",
      "state": {}
     },
     "a153042a9f394972abe6621d4044fa12": {
      "model_module": "@jupyter-widgets/controls",
      "model_module_version": "1.4.0",
      "model_name": "CheckboxModel",
      "state": {
       "description": "Die Form vom Adjektiven hängt niemals von irgendeinem Genus ab.",
       "disabled": false,
       "layout": "IPY_MODEL_7fc8e733badc467d94c7e5c96e9d8c1a",
       "style": "IPY_MODEL_e60baf57806345f5aa992fcbec4c6f8b",
       "value": false
      }
     },
     "a1e6e37b2de045bdbea049439daf5b96": {
      "model_module": "@jupyter-widgets/controls",
      "model_module_version": "1.4.0",
      "model_name": "CheckboxModel",
      "state": {
       "description": "FS0 = [CAT = N], FS1 = [CAT = N, GEN = MASK]",
       "disabled": false,
       "layout": "IPY_MODEL_e33c52226d304b918373e712538eb36c",
       "style": "IPY_MODEL_1c70605f3a1248e88f2aee915a6e0183",
       "value": false
      }
     },
     "a1ed68964da644d4bfb97a784e007cdd": {
      "model_module": "@jupyter-widgets/base",
      "model_module_version": "1.1.0",
      "model_name": "LayoutModel",
      "state": {}
     },
     "a2689e787f054754ae2f915f0670f7bc": {
      "model_module": "@jupyter-widgets/controls",
      "model_module_version": "1.4.0",
      "model_name": "CheckboxModel",
      "state": {
       "description": "Es muss immer ein Agens vorhanden sein.",
       "disabled": false,
       "layout": "IPY_MODEL_b4796a215f464e2e90c22b63ca143577",
       "style": "IPY_MODEL_1e37c9ae414e4178a229879279a2605f",
       "value": false
      }
     },
     "a2b76c2d76434318932d4b6a9c9e532a": {
      "model_module": "@jupyter-widgets/controls",
      "model_module_version": "1.4.0",
      "model_name": "VBoxModel",
      "state": {
       "children": [
        "IPY_MODEL_7c4f955d7b63421d9fe3f7fc3862c313",
        "IPY_MODEL_304aa20b08cc4dd094ec92edb8b05d27",
        "IPY_MODEL_404e00eea05a4965af57846ddf91572e",
        "IPY_MODEL_2f6366744fac4fab807b98188ef39b81"
       ],
       "layout": "IPY_MODEL_44bf348c31c04e96b6bf85a357cd6c03"
      }
     },
     "a2b995b31abf4d23b1ee4429132a9866": {
      "model_module": "@jupyter-widgets/controls",
      "model_module_version": "1.4.0",
      "model_name": "ButtonModel",
      "state": {
       "description": "Korrekt?",
       "layout": "IPY_MODEL_fefaf84e5095428cbf842e25cf9d72dc",
       "style": "IPY_MODEL_0851d18ada6440bda7e9ed77931249d6"
      }
     },
     "a2e35eb960ad41afb04a47e3074fc55c": {
      "model_module": "@jupyter-widgets/controls",
      "model_module_version": "1.4.0",
      "model_name": "CheckboxModel",
      "state": {
       "description": "Der Artikel übernimmt z. T. die Kasusmarkierung.",
       "disabled": false,
       "layout": "IPY_MODEL_a31c7609a7904bd89db56cc7cf2987df",
       "style": "IPY_MODEL_ef07fb7b2ef24da18499168aac68c326",
       "value": false
      }
     },
     "a31c7609a7904bd89db56cc7cf2987df": {
      "model_module": "@jupyter-widgets/base",
      "model_module_version": "1.1.0",
      "model_name": "LayoutModel",
      "state": {
       "width": "600px"
      }
     },
     "a372af99d6ce41369e8e9368b63466f6": {
      "model_module": "@jupyter-widgets/base",
      "model_module_version": "1.1.0",
      "model_name": "LayoutModel",
      "state": {
       "width": "250px"
      }
     },
     "a4785ac030e3499199f437c20bcb9e8c": {
      "model_module": "@jupyter-widgets/base",
      "model_module_version": "1.1.0",
      "model_name": "LayoutModel",
      "state": {
       "width": "250px"
      }
     },
     "a59bdc91e0384fac8004039eac616e99": {
      "model_module": "@jupyter-widgets/base",
      "model_module_version": "1.1.0",
      "model_name": "LayoutModel",
      "state": {
       "width": "250px"
      }
     },
     "a5d6e29320f545b7ab6e2fcdc1dc88f1": {
      "model_module": "@jupyter-widgets/base",
      "model_module_version": "1.1.0",
      "model_name": "LayoutModel",
      "state": {
       "width": "600px"
      }
     },
     "a5f5d9f2d23e4ecdbd10c19e43cd826c": {
      "model_module": "@jupyter-widgets/controls",
      "model_module_version": "1.4.0",
      "model_name": "ButtonModel",
      "state": {
       "description": "schwache Deklination",
       "layout": "IPY_MODEL_02c693eaaa4b4e9bbbd5b76b7399c7d0",
       "style": "IPY_MODEL_63e59c60ee564e51aaa28ffad29c61eb"
      }
     },
     "a61da3f8be0c4e4283d52a96dc3b824d": {
      "model_module": "@jupyter-widgets/controls",
      "model_module_version": "1.4.0",
      "model_name": "HBoxModel",
      "state": {
       "children": [
        "IPY_MODEL_779a441d725342f398800746c3c618c6",
        "IPY_MODEL_345c0df848f84aea8f8167af72260e38"
       ],
       "layout": "IPY_MODEL_dccd48cf45294e8896b2c8c443353358"
      }
     },
     "a61eb1c0f33f497789d5b6b1429ef482": {
      "model_module": "@jupyter-widgets/controls",
      "model_module_version": "1.4.0",
      "model_name": "DescriptionStyleModel",
      "state": {
       "description_width": "initial"
      }
     },
     "a64fe018e143443da5e3f86c6c44694e": {
      "model_module": "@jupyter-widgets/base",
      "model_module_version": "1.1.0",
      "model_name": "LayoutModel",
      "state": {}
     },
     "a67fea0e5e3e405792fb62f76dc5a876": {
      "model_module": "@jupyter-widgets/controls",
      "model_module_version": "1.4.0",
      "model_name": "DescriptionStyleModel",
      "state": {
       "description_width": "initial"
      }
     },
     "a6d6bd3d15714560ae86f315dbd17d22": {
      "model_module": "@jupyter-widgets/controls",
      "model_module_version": "1.4.0",
      "model_name": "HBoxModel",
      "state": {
       "children": [
        "IPY_MODEL_c83869c7472e4c4fb6b70eaf9cdf56b0",
        "IPY_MODEL_154785f879d34b9fbdb50764bdeece98"
       ],
       "layout": "IPY_MODEL_4c85dfedf2b84eafa02a089e98de4f6d"
      }
     },
     "a80e16affcb6433daaa94cdf43c77f91": {
      "model_module": "@jupyter-widgets/controls",
      "model_module_version": "1.4.0",
      "model_name": "CheckboxModel",
      "state": {
       "description": "Sie werden aus der Eingabe extrahiert (feature extraction)",
       "disabled": false,
       "layout": "IPY_MODEL_4cdae430104446b29672bdb908605878",
       "style": "IPY_MODEL_0abc4d9e2ec847efa9ac4c2d84cb871b",
       "value": false
      }
     },
     "a854b572bd22420da3e5e4e258baf5d9": {
      "model_module": "@jupyter-widgets/base",
      "model_module_version": "1.1.0",
      "model_name": "LayoutModel",
      "state": {
       "width": "600px"
      }
     },
     "a8e871c8b57043cdbf0ec191222169fc": {
      "model_module": "@jupyter-widgets/base",
      "model_module_version": "1.1.0",
      "model_name": "LayoutModel",
      "state": {}
     },
     "aa0558249df6425799380608bb1be1ef": {
      "model_module": "@jupyter-widgets/controls",
      "model_module_version": "1.4.0",
      "model_name": "DescriptionStyleModel",
      "state": {
       "description_width": "initial"
      }
     },
     "aa703b6f4e234c4bb2d70bf8468639da": {
      "model_module": "@jupyter-widgets/base",
      "model_module_version": "1.1.0",
      "model_name": "LayoutModel",
      "state": {
       "justify_content": "center"
      }
     },
     "ac5098c81f974df19ee2eca3c4fa92c9": {
      "model_module": "@jupyter-widgets/controls",
      "model_module_version": "1.4.0",
      "model_name": "ButtonModel",
      "state": {
       "description": "Korrekt?",
       "layout": "IPY_MODEL_ac8d4f0754f54e0ba763b429ec7ca717",
       "style": "IPY_MODEL_1926ffed91284d46a806499507d507ad"
      }
     },
     "ac8d4f0754f54e0ba763b429ec7ca717": {
      "model_module": "@jupyter-widgets/base",
      "model_module_version": "1.1.0",
      "model_name": "LayoutModel",
      "state": {
       "width": "250px"
      }
     },
     "ad874f9011e34933bf729e4670d4a31c": {
      "model_module": "@jupyter-widgets/controls",
      "model_module_version": "1.4.0",
      "model_name": "HTMLModel",
      "state": {
       "layout": "IPY_MODEL_b2b289f66c414e33940fcd6d19649191",
       "style": "IPY_MODEL_0190b8247b52420fb5ffc99db2221a37",
       "value": "<i>Markieren Sie <ins>alle</ins> passenden Antworten: </i>"
      }
     },
     "ae61add05c4e4e01a985ab0e02e1ef4c": {
      "model_module": "@jupyter-widgets/controls",
      "model_module_version": "1.4.0",
      "model_name": "DescriptionStyleModel",
      "state": {
       "description_width": "initial"
      }
     },
     "aebd970794444c84880035ba5257077c": {
      "model_module": "@jupyter-widgets/base",
      "model_module_version": "1.1.0",
      "model_name": "LayoutModel",
      "state": {}
     },
     "af08898f7a9847e2bdfe2f3ee74d9836": {
      "model_module": "@jupyter-widgets/controls",
      "model_module_version": "1.4.0",
      "model_name": "HTMLModel",
      "state": {
       "layout": "IPY_MODEL_9c84fa49b7a146b58751489eadd203dc",
       "style": "IPY_MODEL_3f83bbea3464472098f53112a3b83c1d",
       "value": "<h4 style=\"font-size:14px;\">dekliniert. Dies mag daran liegen, dass die</h4>"
      }
     },
     "afe04f3d300049849538f80059651464": {
      "model_module": "@jupyter-widgets/controls",
      "model_module_version": "1.4.0",
      "model_name": "DescriptionStyleModel",
      "state": {
       "description_width": "initial"
      }
     },
     "b00bdde1e66d4894abd4ff07c823a071": {
      "model_module": "@jupyter-widgets/controls",
      "model_module_version": "1.4.0",
      "model_name": "VBoxModel",
      "state": {
       "children": [
        "IPY_MODEL_7f8e14c50b5d4dcf9cccb54add02ca96",
        "IPY_MODEL_d7cac1cd3dd44e08847f8036af4e6184",
        "IPY_MODEL_a2b76c2d76434318932d4b6a9c9e532a",
        "IPY_MODEL_f4a4a02a328b4bd1b3e7d7a44557d404"
       ],
       "layout": "IPY_MODEL_d1b54da0406e4d79a61325a7add3b1e2"
      }
     },
     "b06175ea1be54cf6a477055cc7a23cde": {
      "model_module": "@jupyter-widgets/base",
      "model_module_version": "1.1.0",
      "model_name": "LayoutModel",
      "state": {}
     },
     "b145ac09570043f18c99c7162cedf747": {
      "model_module": "@jupyter-widgets/base",
      "model_module_version": "1.1.0",
      "model_name": "LayoutModel",
      "state": {
       "width": "600px"
      }
     },
     "b17bf399a9db4a4297d9160fc49089d8": {
      "model_module": "@jupyter-widgets/base",
      "model_module_version": "1.1.0",
      "model_name": "LayoutModel",
      "state": {
       "width": "250px"
      }
     },
     "b20adbeaf5c14d188eb9d057a24d93e5": {
      "model_module": "@jupyter-widgets/base",
      "model_module_version": "1.1.0",
      "model_name": "LayoutModel",
      "state": {
       "width": "600px"
      }
     },
     "b2a13a75a3cd43a7907184837aec2526": {
      "model_module": "@jupyter-widgets/controls",
      "model_module_version": "1.4.0",
      "model_name": "DescriptionStyleModel",
      "state": {
       "description_width": "initial"
      }
     },
     "b2b289f66c414e33940fcd6d19649191": {
      "model_module": "@jupyter-widgets/base",
      "model_module_version": "1.1.0",
      "model_name": "LayoutModel",
      "state": {
       "justify_content": "center"
      }
     },
     "b323b4cb7cdf437388cc27d9c795fb8e": {
      "model_module": "@jupyter-widgets/controls",
      "model_module_version": "1.4.0",
      "model_name": "DescriptionStyleModel",
      "state": {
       "description_width": "initial"
      }
     },
     "b3ffd300ec4d428ab5624883f5a585c5": {
      "model_module": "@jupyter-widgets/controls",
      "model_module_version": "1.4.0",
      "model_name": "ButtonModel",
      "state": {
       "description": "Korrekt?",
       "layout": "IPY_MODEL_d9a4986c4d034f488f54aec89fd8fb2f",
       "style": "IPY_MODEL_91546c47258540a0a33458fc3b916c31"
      }
     },
     "b4796a215f464e2e90c22b63ca143577": {
      "model_module": "@jupyter-widgets/base",
      "model_module_version": "1.1.0",
      "model_name": "LayoutModel",
      "state": {
       "width": "600px"
      }
     },
     "b4ddf0c03b6e4f898784d450d2e63250": {
      "model_module": "@jupyter-widgets/controls",
      "model_module_version": "1.4.0",
      "model_name": "CheckboxModel",
      "state": {
       "description": "Keine der Alternativen",
       "disabled": false,
       "layout": "IPY_MODEL_240564d302dc4f8eafdfc6c8e4c6afd8",
       "style": "IPY_MODEL_ae61add05c4e4e01a985ab0e02e1ef4c",
       "value": false
      }
     },
     "b552ed3ea7914d90a8605f16f345cd24": {
      "model_module": "@jupyter-widgets/controls",
      "model_module_version": "1.4.0",
      "model_name": "DescriptionStyleModel",
      "state": {
       "description_width": ""
      }
     },
     "b56a6e4dc7e0480099148fc3a5efb35f": {
      "model_module": "@jupyter-widgets/controls",
      "model_module_version": "1.4.0",
      "model_name": "ButtonStyleModel",
      "state": {}
     },
     "b5a74c49bd814131b12f44cca13c7f53": {
      "model_module": "@jupyter-widgets/base",
      "model_module_version": "1.1.0",
      "model_name": "LayoutModel",
      "state": {
       "width": "600px"
      }
     },
     "b5df91d04c1d42e1abb87c6b6b8b4c56": {
      "model_module": "@jupyter-widgets/controls",
      "model_module_version": "1.4.0",
      "model_name": "ButtonModel",
      "state": {
       "description": "Patiens",
       "layout": "IPY_MODEL_106076ad69694f7eadbf365894dfe19e",
       "style": "IPY_MODEL_5584311cadf448d79d2b7e159fea077d"
      }
     },
     "b881f868c51049f393f980409b95253c": {
      "model_module": "@jupyter-widgets/controls",
      "model_module_version": "1.4.0",
      "model_name": "DescriptionStyleModel",
      "state": {
       "description_width": ""
      }
     },
     "b8aa3152bd9040c6aa5253f969e38ef2": {
      "model_module": "@jupyter-widgets/controls",
      "model_module_version": "1.4.0",
      "model_name": "CheckboxModel",
      "state": {
       "description": "Sie werden neu eingefügt.",
       "disabled": false,
       "layout": "IPY_MODEL_18baca3540ce400bad74f031ed267248",
       "style": "IPY_MODEL_d419c1918e3d46e08ea99be798196971",
       "value": false
      }
     },
     "b98252b6dc2a45fc986a4ead61e39826": {
      "model_module": "@jupyter-widgets/base",
      "model_module_version": "1.1.0",
      "model_name": "LayoutModel",
      "state": {
       "justify_content": "center"
      }
     },
     "ba6f32de189f4e0f9f6ff3bea2a58d5d": {
      "model_module": "@jupyter-widgets/controls",
      "model_module_version": "1.4.0",
      "model_name": "ButtonModel",
      "state": {
       "description": "Korrekt?",
       "layout": "IPY_MODEL_7f488f15b1514fd0855941454eff3b41",
       "style": "IPY_MODEL_68e22c24f6c44837a378c5a3912a087a"
      }
     },
     "bb5937f28fc2456d937f36283f4900e7": {
      "model_module": "@jupyter-widgets/controls",
      "model_module_version": "1.4.0",
      "model_name": "HTMLModel",
      "state": {
       "layout": "IPY_MODEL_6dda94393de643eaa3c6abf9a9b23540",
       "style": "IPY_MODEL_94bc0909ceb04b728735f23f8ae239c0",
       "value": "<h4 style=\"font-size:14px;\">Welche native python-Datenstruktur bietet sich für die Deklaration von Merkmalstrukturen als Menge von Attribut-Wert-Paaren an?</h4>"
      }
     },
     "bc071c7fd172465ab309e9b87c0068e5": {
      "model_module": "@jupyter-widgets/base",
      "model_module_version": "1.1.0",
      "model_name": "LayoutModel",
      "state": {}
     },
     "bcbe4ed1e5134ab0a6e153be7ac6e8b4": {
      "model_module": "@jupyter-widgets/controls",
      "model_module_version": "1.4.0",
      "model_name": "VBoxModel",
      "state": {
       "children": [
        "IPY_MODEL_750f0a5375d84e65bc30b48b166a86ae",
        "IPY_MODEL_dffa5f2667c74a21a1aa8efb46f65f16",
        "IPY_MODEL_52537bd3fc6a434db08d1ec54a2624bc",
        "IPY_MODEL_ba6f32de189f4e0f9f6ff3bea2a58d5d"
       ],
       "layout": "IPY_MODEL_27aae08649f049bd9916b39e824477a1"
      }
     },
     "bcd3ac50b123457e962e073b9361514f": {
      "model_module": "@jupyter-widgets/controls",
      "model_module_version": "1.4.0",
      "model_name": "HTMLModel",
      "state": {
       "layout": "IPY_MODEL_5079e8f7e7ed4340b6a6fa8971b2805f",
       "style": "IPY_MODEL_33eba43c8fad43d3bdf434d9d02bbc0a",
       "value": "<h4 style=\"font-size:14px;\">Was ist der bevorzugte Kandidat zur Realisierung im Subjekt?</h4>"
      }
     },
     "bd2b2ffbbfc24762beb8dac532d09e80": {
      "model_module": "@jupyter-widgets/base",
      "model_module_version": "1.1.0",
      "model_name": "LayoutModel",
      "state": {
       "width": "500px"
      }
     },
     "bd2e7f2ce17248268d71b1a143a5b87d": {
      "model_module": "@jupyter-widgets/controls",
      "model_module_version": "1.4.0",
      "model_name": "ButtonModel",
      "state": {
       "description": "Korrekt?",
       "layout": "IPY_MODEL_e54e33bc3dc9486083a17df62266e85f",
       "style": "IPY_MODEL_f4406d2f108349cbbe4bc1ba49f31ba5"
      }
     },
     "bd7579f55c8a45b4903abd121c95fc37": {
      "model_module": "@jupyter-widgets/controls",
      "model_module_version": "1.4.0",
      "model_name": "VBoxModel",
      "state": {
       "children": [
        "IPY_MODEL_65d21fc2cd624dd8983a310d0950b621",
        "IPY_MODEL_c773d6d496514d17861510a51c2ebf99",
        "IPY_MODEL_2cd8f2fe15134ae7be36807a3af92494",
        "IPY_MODEL_b3ffd300ec4d428ab5624883f5a585c5"
       ],
       "layout": "IPY_MODEL_e70c0e8d5ec240fa946a8ee28cd36353"
      }
     },
     "bd76904315c14324b5eb93170974c06e": {
      "model_module": "@jupyter-widgets/controls",
      "model_module_version": "1.4.0",
      "model_name": "ButtonStyleModel",
      "state": {}
     },
     "bd76b916129a4cc8b251e94fc21aa0a8": {
      "model_module": "@jupyter-widgets/controls",
      "model_module_version": "1.4.0",
      "model_name": "VBoxModel",
      "state": {
       "children": [
        "IPY_MODEL_c1b5636da5724969877076cc86874d53",
        "IPY_MODEL_030dfef2e8e746b8acbf31c366beff81",
        "IPY_MODEL_dc60040974b442bdaaa33ba639b29c0c",
        "IPY_MODEL_1e9a48e6ee4d4f34857c75f16f417b6d"
       ],
       "layout": "IPY_MODEL_89ad4b50edc94058ad1feffaa32e9b9e"
      }
     },
     "be26f929e4044554afc3fc7d43f0bd69": {
      "model_module": "@jupyter-widgets/base",
      "model_module_version": "1.1.0",
      "model_name": "LayoutModel",
      "state": {
       "justify_content": "center"
      }
     },
     "be983c8c7a1c48099d0f4ceaa18f7eb5": {
      "model_module": "@jupyter-widgets/controls",
      "model_module_version": "1.4.0",
      "model_name": "ButtonModel",
      "state": {
       "description": "Korrekt?",
       "layout": "IPY_MODEL_4249f17068dd4bc59fab039bc2fc7410",
       "style": "IPY_MODEL_1bc1e8f04d6a44f490e87b47e8c1839e"
      }
     },
     "bee33489c1f94a13a5ee1bbca943db0f": {
      "model_module": "@jupyter-widgets/base",
      "model_module_version": "1.1.0",
      "model_name": "LayoutModel",
      "state": {}
     },
     "bfa6f8a9f7f94b7ead0e3dcc9cc13b04": {
      "model_module": "@jupyter-widgets/controls",
      "model_module_version": "1.4.0",
      "model_name": "DescriptionStyleModel",
      "state": {
       "description_width": "initial"
      }
     },
     "c0cdea57ef7f4ee3abc39ebc37c10ae4": {
      "model_module": "@jupyter-widgets/base",
      "model_module_version": "1.1.0",
      "model_name": "LayoutModel",
      "state": {
       "width": "250px"
      }
     },
     "c1b5636da5724969877076cc86874d53": {
      "model_module": "@jupyter-widgets/controls",
      "model_module_version": "1.4.0",
      "model_name": "HTMLModel",
      "state": {
       "layout": "IPY_MODEL_c39f349d0e114305aafa01866fabaa4b",
       "style": "IPY_MODEL_24a293454914469ead9bd9b59b4ba6b7",
       "value": "<h4 style=\"font-size:14px;\">Was passiert nach semantischer Hierarchie, wenn kein Agens vorhanden ist?</h4>"
      }
     },
     "c1c482b8bd904ee28114ebfa53aa6af5": {
      "model_module": "@jupyter-widgets/base",
      "model_module_version": "1.1.0",
      "model_name": "LayoutModel",
      "state": {
       "width": "600px"
      }
     },
     "c23b9748cc004410af72b181810bb6d1": {
      "model_module": "@jupyter-widgets/base",
      "model_module_version": "1.1.0",
      "model_name": "LayoutModel",
      "state": {
       "width": "250px"
      }
     },
     "c25537331acb48ceadd4b965b6283a49": {
      "model_module": "@jupyter-widgets/controls",
      "model_module_version": "1.4.0",
      "model_name": "VBoxModel",
      "state": {
       "children": [
        "IPY_MODEL_c2c80f4f3b5c4fd2a1ea4715397a69f6",
        "IPY_MODEL_64d40229afc04ce8ae88ab5a8fa26be4",
        "IPY_MODEL_ea9ce2c06ba84b48bc232e3fc795e4a1"
       ],
       "layout": "IPY_MODEL_1ce7bf120779474dba958e12b4f03e38"
      }
     },
     "c2c640de14ae4065a39f8dd7187a8d0f": {
      "model_module": "@jupyter-widgets/base",
      "model_module_version": "1.1.0",
      "model_name": "LayoutModel",
      "state": {
       "justify_content": "center"
      }
     },
     "c2c80f4f3b5c4fd2a1ea4715397a69f6": {
      "model_module": "@jupyter-widgets/controls",
      "model_module_version": "1.4.0",
      "model_name": "HTMLModel",
      "state": {
       "layout": "IPY_MODEL_39cd13d1c4314644867ec7fc1375fc56",
       "style": "IPY_MODEL_7d7a6f4627cc4348bc79e5a1b55ff3b5",
       "value": "<h4 style=\"font-size:14px;\">Schildern beide Sätze denselben Sachverhalt?</h4>"
      }
     },
     "c39f349d0e114305aafa01866fabaa4b": {
      "model_module": "@jupyter-widgets/base",
      "model_module_version": "1.1.0",
      "model_name": "LayoutModel",
      "state": {}
     },
     "c3e8ce90e4284d19b368771736225b3a": {
      "model_module": "@jupyter-widgets/base",
      "model_module_version": "1.1.0",
      "model_name": "LayoutModel",
      "state": {}
     },
     "c3f5d6567b7c49999c3e7388075455ee": {
      "model_module": "@jupyter-widgets/base",
      "model_module_version": "1.1.0",
      "model_name": "LayoutModel",
      "state": {
       "width": "600px"
      }
     },
     "c47f28dba26a46c4a96726c9a163f607": {
      "model_module": "@jupyter-widgets/base",
      "model_module_version": "1.1.0",
      "model_name": "LayoutModel",
      "state": {
       "width": "250px"
      }
     },
     "c4bf3a306d8440c0a29c1a5bb5cdcd2b": {
      "model_module": "@jupyter-widgets/controls",
      "model_module_version": "1.4.0",
      "model_name": "VBoxModel",
      "state": {
       "children": [
        "IPY_MODEL_01cc6705582a4f259f902b8258e9861e",
        "IPY_MODEL_f0ec2a3250cc49dd99013eaf65839bb1",
        "IPY_MODEL_6b503737190242239c82765ba8d64e10",
        "IPY_MODEL_6607ca202c1245f58da6fb73583c8686"
       ],
       "layout": "IPY_MODEL_b06175ea1be54cf6a477055cc7a23cde"
      }
     },
     "c4ebcbeebc79449688907e0e8895ac92": {
      "model_module": "@jupyter-widgets/controls",
      "model_module_version": "1.4.0",
      "model_name": "ButtonStyleModel",
      "state": {}
     },
     "c4ecffd6fdaf4559b853526e170fdfcc": {
      "model_module": "@jupyter-widgets/controls",
      "model_module_version": "1.4.0",
      "model_name": "ButtonModel",
      "state": {
       "description": "Korrekt?",
       "layout": "IPY_MODEL_d21f918d0ed147c7801a725f667bc7dc",
       "style": "IPY_MODEL_1a3c2d8149e74e18968beb5dc06f7b29"
      }
     },
     "c517eba44c22483c86ccf4159efe66ca": {
      "model_module": "@jupyter-widgets/controls",
      "model_module_version": "1.4.0",
      "model_name": "DescriptionStyleModel",
      "state": {
       "description_width": ""
      }
     },
     "c51bc8d395b749d5a31c9ab4b3b6421a": {
      "model_module": "@jupyter-widgets/controls",
      "model_module_version": "1.4.0",
      "model_name": "HTMLModel",
      "state": {
       "layout": "IPY_MODEL_d299ee4875074b6490be93b3f47c511e",
       "style": "IPY_MODEL_e6d152da47214dfa97be78ae129fdfb5",
       "value": "<i>Markieren Sie <ins>alle</ins> passenden Antworten: </i>"
      }
     },
     "c72cec01a6bb45f584a85ca74e049436": {
      "model_module": "@jupyter-widgets/base",
      "model_module_version": "1.1.0",
      "model_name": "LayoutModel",
      "state": {
       "width": "600px"
      }
     },
     "c773d6d496514d17861510a51c2ebf99": {
      "model_module": "@jupyter-widgets/controls",
      "model_module_version": "1.4.0",
      "model_name": "HTMLModel",
      "state": {
       "layout": "IPY_MODEL_4f6c0e85f8d5430e97150f17dabc56d5",
       "style": "IPY_MODEL_6f5e847b0335472eac5ca357c2ae2db0",
       "value": "<i>Wählen Sie die <ins>eine</ins> korrekte Antwort aus: </i>"
      }
     },
     "c83869c7472e4c4fb6b70eaf9cdf56b0": {
      "model_module": "@jupyter-widgets/controls",
      "model_module_version": "1.4.0",
      "model_name": "ButtonModel",
      "state": {
       "description": "Patiens",
       "layout": "IPY_MODEL_f9b9d285858842e98b37dc2091727c48",
       "style": "IPY_MODEL_f37ad0d5415e4d30bb724aab8c2cbbdc"
      }
     },
     "c83df081a7c84917a0b9cda085644fc0": {
      "model_module": "@jupyter-widgets/base",
      "model_module_version": "1.1.0",
      "model_name": "LayoutModel",
      "state": {
       "justify_content": "center"
      }
     },
     "c8855d0e965447638bc845e9304a379a": {
      "model_module": "@jupyter-widgets/controls",
      "model_module_version": "1.4.0",
      "model_name": "ButtonStyleModel",
      "state": {}
     },
     "c896faf37cc4489baab08b6bb007814c": {
      "model_module": "@jupyter-widgets/controls",
      "model_module_version": "1.4.0",
      "model_name": "DescriptionStyleModel",
      "state": {
       "description_width": ""
      }
     },
     "c91885b117894e1abf488f8a692c497f": {
      "model_module": "@jupyter-widgets/base",
      "model_module_version": "1.1.0",
      "model_name": "LayoutModel",
      "state": {}
     },
     "c9d38c82fe7e4ce78b472e6a141bac82": {
      "model_module": "@jupyter-widgets/controls",
      "model_module_version": "1.4.0",
      "model_name": "DropdownModel",
      "state": {
       "_options_labels": [
        "Adverbial",
        "Nomen",
        "Personalpronomen",
        " "
       ],
       "index": 3,
       "layout": "IPY_MODEL_50a0dbc26a374cf1bbba082dc74aaa40",
       "style": "IPY_MODEL_f741e8ec87024bb592b24066d2d3916e"
      }
     },
     "cacafa00dae148f3b8b568b011cab8ce": {
      "model_module": "@jupyter-widgets/controls",
      "model_module_version": "1.4.0",
      "model_name": "VBoxModel",
      "state": {
       "children": [
        "IPY_MODEL_5d8a1b2429a24fb1894634c408ddd7d7",
        "IPY_MODEL_d99fcfe7f7ba49f281198c08903d4527",
        "IPY_MODEL_6687de57d19c47259cc10ac255e1f5e9",
        "IPY_MODEL_08aa7f1e03b2464eb47d0b40580efd7f"
       ],
       "layout": "IPY_MODEL_e35fb9fa85a941dd88c581fa87403500"
      }
     },
     "cad86ba430da4704a800227111503fea": {
      "model_module": "@jupyter-widgets/base",
      "model_module_version": "1.1.0",
      "model_name": "LayoutModel",
      "state": {
       "width": "250px"
      }
     },
     "cbc5e1886e494434be6317e9a466983a": {
      "model_module": "@jupyter-widgets/controls",
      "model_module_version": "1.4.0",
      "model_name": "VBoxModel",
      "state": {
       "children": [
        "IPY_MODEL_9f682990588c4615967a5310f6d48c81",
        "IPY_MODEL_9eca3d9e47bd4026abb3dfd61d521d74",
        "IPY_MODEL_eb534249ec634da89e3590c5bb423cbc",
        "IPY_MODEL_69fcff8ee164406d9ae1be0101aa61ae"
       ],
       "layout": "IPY_MODEL_77d4ccc26555444d952ab6ff51bd399a"
      }
     },
     "cbd4e639bee54e07aa23daf602bade35": {
      "model_module": "@jupyter-widgets/base",
      "model_module_version": "1.1.0",
      "model_name": "LayoutModel",
      "state": {}
     },
     "cc475b8b767248d6a01769ff71c81c1c": {
      "model_module": "@jupyter-widgets/base",
      "model_module_version": "1.1.0",
      "model_name": "LayoutModel",
      "state": {}
     },
     "cd3d36e745bf4795a3a650e8647d3a7e": {
      "model_module": "@jupyter-widgets/base",
      "model_module_version": "1.1.0",
      "model_name": "LayoutModel",
      "state": {
       "width": "250px"
      }
     },
     "cd81edbb70e941d794ff801c32784a4f": {
      "model_module": "@jupyter-widgets/base",
      "model_module_version": "1.1.0",
      "model_name": "LayoutModel",
      "state": {}
     },
     "cdc7e37bdcc14e8d9f70de6eb67c237b": {
      "model_module": "@jupyter-widgets/controls",
      "model_module_version": "1.4.0",
      "model_name": "ButtonModel",
      "state": {
       "description": "Korrekt?",
       "layout": "IPY_MODEL_4cf27e4124eb4404a6a3282c8f1e42f4",
       "style": "IPY_MODEL_03a9415be6184ff7843da4ff5686a691"
      }
     },
     "ce1727f0c6414759a019323d0103de54": {
      "model_module": "@jupyter-widgets/controls",
      "model_module_version": "1.4.0",
      "model_name": "ButtonModel",
      "state": {
       "description": "Korrekt?",
       "layout": "IPY_MODEL_51fff09f65b84478a9591c71aefb886f",
       "style": "IPY_MODEL_f3af159a2d874255abbd3111c7c47d1d"
      }
     },
     "ce7547ff3d0e44c09906fd04f3eded96": {
      "model_module": "@jupyter-widgets/controls",
      "model_module_version": "1.4.0",
      "model_name": "ButtonStyleModel",
      "state": {}
     },
     "cea1c131ee8e46e0aa3ca6c53ada0058": {
      "model_module": "@jupyter-widgets/base",
      "model_module_version": "1.1.0",
      "model_name": "LayoutModel",
      "state": {
       "width": "600px"
      }
     },
     "cf2aa46596274a4092aa881b860173f9": {
      "model_module": "@jupyter-widgets/base",
      "model_module_version": "1.1.0",
      "model_name": "LayoutModel",
      "state": {}
     },
     "d006557785f04e8facf08c300e44079c": {
      "model_module": "@jupyter-widgets/controls",
      "model_module_version": "1.4.0",
      "model_name": "DescriptionStyleModel",
      "state": {
       "description_width": ""
      }
     },
     "d07bde74696d4e6799ffde83a03c12d2": {
      "model_module": "@jupyter-widgets/controls",
      "model_module_version": "1.4.0",
      "model_name": "HTMLModel",
      "state": {
       "layout": "IPY_MODEL_769371de371a4b8ebab8b20b8a4c1a47",
       "style": "IPY_MODEL_9136ecb5aa4441b29c72ac55cfdb638f",
       "value": "<i>Wählen Sie die <ins>eine</ins> korrekte Antwort aus: </i>"
      }
     },
     "d1b54da0406e4d79a61325a7add3b1e2": {
      "model_module": "@jupyter-widgets/base",
      "model_module_version": "1.1.0",
      "model_name": "LayoutModel",
      "state": {}
     },
     "d1b8f0c630e04e768422ee2f620240cd": {
      "model_module": "@jupyter-widgets/controls",
      "model_module_version": "1.4.0",
      "model_name": "HBoxModel",
      "state": {
       "children": [
        "IPY_MODEL_8257aa26f1244e9da14456d4470635c4",
        "IPY_MODEL_54c08c77e4344df08327b01021a7d239"
       ],
       "layout": "IPY_MODEL_dd25332f57c34a4bb0ae453746f84486"
      }
     },
     "d1c1e95e06594f0fa7e522a4cc1b5199": {
      "model_module": "@jupyter-widgets/controls",
      "model_module_version": "1.4.0",
      "model_name": "ButtonStyleModel",
      "state": {}
     },
     "d21f918d0ed147c7801a725f667bc7dc": {
      "model_module": "@jupyter-widgets/base",
      "model_module_version": "1.1.0",
      "model_name": "LayoutModel",
      "state": {
       "width": "250px"
      }
     },
     "d299ee4875074b6490be93b3f47c511e": {
      "model_module": "@jupyter-widgets/base",
      "model_module_version": "1.1.0",
      "model_name": "LayoutModel",
      "state": {
       "justify_content": "center"
      }
     },
     "d419c1918e3d46e08ea99be798196971": {
      "model_module": "@jupyter-widgets/controls",
      "model_module_version": "1.4.0",
      "model_name": "DescriptionStyleModel",
      "state": {
       "description_width": "initial"
      }
     },
     "d4641712a5ea4c31acbbdda423521078": {
      "model_module": "@jupyter-widgets/base",
      "model_module_version": "1.1.0",
      "model_name": "LayoutModel",
      "state": {
       "width": "600px"
      }
     },
     "d479e9acb21f4a788931446b66d876b0": {
      "model_module": "@jupyter-widgets/base",
      "model_module_version": "1.1.0",
      "model_name": "LayoutModel",
      "state": {
       "width": "600px"
      }
     },
     "d4cfae50a7804e89a5a3728b30ab9be0": {
      "model_module": "@jupyter-widgets/controls",
      "model_module_version": "1.4.0",
      "model_name": "DescriptionStyleModel",
      "state": {
       "description_width": ""
      }
     },
     "d5020ceb50774a9c9e8fecce3f08a4a4": {
      "model_module": "@jupyter-widgets/base",
      "model_module_version": "1.1.0",
      "model_name": "LayoutModel",
      "state": {}
     },
     "d586f051fbe94f62aa53312c650368d2": {
      "model_module": "@jupyter-widgets/controls",
      "model_module_version": "1.4.0",
      "model_name": "ButtonStyleModel",
      "state": {}
     },
     "d6156b60bef74166b521d9c18dafb9d0": {
      "model_module": "@jupyter-widgets/base",
      "model_module_version": "1.1.0",
      "model_name": "LayoutModel",
      "state": {
       "width": "600px"
      }
     },
     "d684666dbd7a464da4678594d5a3a924": {
      "model_module": "@jupyter-widgets/controls",
      "model_module_version": "1.4.0",
      "model_name": "HBoxModel",
      "state": {
       "children": [
        "IPY_MODEL_9b23a83fe6b94d46a4753159c9bfef17"
       ],
       "layout": "IPY_MODEL_4d23458bc4444ac6aa906b8297dd7184"
      }
     },
     "d71d7b46aa6e400782a49ee19c5702bd": {
      "model_module": "@jupyter-widgets/controls",
      "model_module_version": "1.4.0",
      "model_name": "ButtonModel",
      "state": {
       "description": "bestimmten",
       "layout": "IPY_MODEL_cad86ba430da4704a800227111503fea",
       "style": "IPY_MODEL_465e503bb64d4e83a712e357766918a3"
      }
     },
     "d7cac1cd3dd44e08847f8036af4e6184": {
      "model_module": "@jupyter-widgets/controls",
      "model_module_version": "1.4.0",
      "model_name": "HTMLModel",
      "state": {
       "layout": "IPY_MODEL_6d88bc315daf40ffb1a14de4a50a54b1",
       "style": "IPY_MODEL_5f3363d259d741ad8135f658249f21bd",
       "value": "<i>Markieren Sie <ins>alle</ins> passenden Antworten: </i>"
      }
     },
     "d8490d622d2945f883c9bd4b5517f9a5": {
      "model_module": "@jupyter-widgets/controls",
      "model_module_version": "1.4.0",
      "model_name": "VBoxModel",
      "state": {
       "children": [
        "IPY_MODEL_0d0194aa2e1546c8a3ad432d9852e7bd",
        "IPY_MODEL_e611118c96054facab2100d8a8907d55",
        "IPY_MODEL_068ef3c76ee0464a973994830fc27867"
       ],
       "layout": "IPY_MODEL_a8e871c8b57043cdbf0ec191222169fc"
      }
     },
     "d8d7c5826d7b479eb5f084c60967c656": {
      "model_module": "@jupyter-widgets/controls",
      "model_module_version": "1.4.0",
      "model_name": "CheckboxModel",
      "state": {
       "description": "Sie werden aus der Eingabe extrahiert (feature extraction)",
       "disabled": false,
       "layout": "IPY_MODEL_3f8d666d37cf4978b87bd94b11929cef",
       "style": "IPY_MODEL_4321f7fdbecc42048223310802ae43a3",
       "value": false
      }
     },
     "d9790c1100904d8da79ae3eb975e8d3a": {
      "model_module": "@jupyter-widgets/controls",
      "model_module_version": "1.4.0",
      "model_name": "HTMLModel",
      "state": {
       "layout": "IPY_MODEL_2db38a6e04904c76bc0180cf26fe4358",
       "style": "IPY_MODEL_69efb8fe65cb4b178fc6b28b07eaa278",
       "value": "<h4 style=\"font-size:14px;\">wird das Adjektiv hier</h4>"
      }
     },
     "d9974b620f434f749e7248c77e8a9b19": {
      "model_module": "@jupyter-widgets/controls",
      "model_module_version": "1.4.0",
      "model_name": "HTMLModel",
      "state": {
       "layout": "IPY_MODEL_fc95c52271f44a35a58135d11101aa39",
       "style": "IPY_MODEL_df1a58136da64bb085a923260f190dcd",
       "value": "<i>Wählen Sie die <ins>eine</ins> korrekte Antwort aus: </i>"
      }
     },
     "d99fcfe7f7ba49f281198c08903d4527": {
      "model_module": "@jupyter-widgets/controls",
      "model_module_version": "1.4.0",
      "model_name": "CheckboxModel",
      "state": {
       "description": "Passivierung (Objekt-Promotion)",
       "disabled": false,
       "layout": "IPY_MODEL_a5d6e29320f545b7ab6e2fcdc1dc88f1",
       "style": "IPY_MODEL_1551f787a8e24215bdfccf4edaf1d5f3",
       "value": false
      }
     },
     "d9a4986c4d034f488f54aec89fd8fb2f": {
      "model_module": "@jupyter-widgets/base",
      "model_module_version": "1.1.0",
      "model_name": "LayoutModel",
      "state": {
       "width": "250px"
      }
     },
     "da789aab0eaf45bcba3bf3072821e493": {
      "model_module": "@jupyter-widgets/base",
      "model_module_version": "1.1.0",
      "model_name": "LayoutModel",
      "state": {
       "width": "600px"
      }
     },
     "dc5d0a98ed7949c8a4baa5215e90dd5d": {
      "model_module": "@jupyter-widgets/controls",
      "model_module_version": "1.4.0",
      "model_name": "HTMLModel",
      "state": {
       "layout": "IPY_MODEL_8667f97c1dd54e57b1f46edb010fdd7a",
       "style": "IPY_MODEL_7fcf36d9159b4bbb8be536ca923826ad",
       "value": "<i>Wählen Sie die <ins>eine</ins> korrekte Antwort aus: </i>"
      }
     },
     "dc60040974b442bdaaa33ba639b29c0c": {
      "model_module": "@jupyter-widgets/controls",
      "model_module_version": "1.4.0",
      "model_name": "VBoxModel",
      "state": {
       "children": [
        "IPY_MODEL_5817db7f3dc64ddabdf3d478e3e0ad6e",
        "IPY_MODEL_a2689e787f054754ae2f915f0670f7bc",
        "IPY_MODEL_0525287ce5b6468e8bf71761cd010525"
       ],
       "layout": "IPY_MODEL_95a08033249e447d8bec5bd0a8460255"
      }
     },
     "dc9834955c464c899249b32b290ad148": {
      "model_module": "@jupyter-widgets/controls",
      "model_module_version": "1.4.0",
      "model_name": "HBoxModel",
      "state": {
       "children": [
        "IPY_MODEL_7020907f3d394809a16e0af5c12a6d9f",
        "IPY_MODEL_6ef0a147a42f41008b4905daf896b304"
       ],
       "layout": "IPY_MODEL_83700260b9b641f1af85d5415063843e"
      }
     },
     "dc9944864eec457eb5b9a673591ea102": {
      "model_module": "@jupyter-widgets/controls",
      "model_module_version": "1.4.0",
      "model_name": "VBoxModel",
      "state": {
       "children": [
        "IPY_MODEL_2a1747e356eb45619088bde32e55e014",
        "IPY_MODEL_52803b384ede4bb286ee71a01fe6d5a4",
        "IPY_MODEL_3b5c25186df144fdb53c32a37d48044c",
        "IPY_MODEL_1120dc90d7a2431daa3c193d168e5d18",
        "IPY_MODEL_296dd18c18fa42ffa208cc76ee22dc27",
        "IPY_MODEL_97d8af74cd544558b079daaab5cdbb3d"
       ],
       "layout": "IPY_MODEL_24346899c81c4caba1ab10c0871ddd51"
      }
     },
     "dccd48cf45294e8896b2c8c443353358": {
      "model_module": "@jupyter-widgets/base",
      "model_module_version": "1.1.0",
      "model_name": "LayoutModel",
      "state": {}
     },
     "dcedb69cb55a43d9ac5b5844d7101079": {
      "model_module": "@jupyter-widgets/base",
      "model_module_version": "1.1.0",
      "model_name": "LayoutModel",
      "state": {}
     },
     "dd25332f57c34a4bb0ae453746f84486": {
      "model_module": "@jupyter-widgets/base",
      "model_module_version": "1.1.0",
      "model_name": "LayoutModel",
      "state": {}
     },
     "dea5af59a0d2411cb348ec4846e3c5b6": {
      "model_module": "@jupyter-widgets/controls",
      "model_module_version": "1.4.0",
      "model_name": "ButtonStyleModel",
      "state": {}
     },
     "df1a58136da64bb085a923260f190dcd": {
      "model_module": "@jupyter-widgets/controls",
      "model_module_version": "1.4.0",
      "model_name": "DescriptionStyleModel",
      "state": {
       "description_width": ""
      }
     },
     "dfc8a006bfe747858a741fb02bbef253": {
      "model_module": "@jupyter-widgets/base",
      "model_module_version": "1.1.0",
      "model_name": "LayoutModel",
      "state": {
       "width": "600px"
      }
     },
     "dfcf50809cc44fc893417001eb56e22e": {
      "model_module": "@jupyter-widgets/base",
      "model_module_version": "1.1.0",
      "model_name": "LayoutModel",
      "state": {}
     },
     "dffa5f2667c74a21a1aa8efb46f65f16": {
      "model_module": "@jupyter-widgets/controls",
      "model_module_version": "1.4.0",
      "model_name": "HTMLModel",
      "state": {
       "layout": "IPY_MODEL_2a1d42c9b46a469b98a880fde6424c7a",
       "style": "IPY_MODEL_7375171ccb6b44b2b1c5c38428942753",
       "value": "<i>Wählen Sie die <ins>eine</ins> korrekte Antwort aus: </i>"
      }
     },
     "e0ba272c0d5545f3b8c4501054c7d1f6": {
      "model_module": "@jupyter-widgets/base",
      "model_module_version": "1.1.0",
      "model_name": "LayoutModel",
      "state": {
       "width": "150px"
      }
     },
     "e22282d13481494d934c58a619bae7aa": {
      "model_module": "@jupyter-widgets/base",
      "model_module_version": "1.1.0",
      "model_name": "LayoutModel",
      "state": {}
     },
     "e28639b6da944220a4681367b77e4610": {
      "model_module": "@jupyter-widgets/controls",
      "model_module_version": "1.4.0",
      "model_name": "DescriptionStyleModel",
      "state": {
       "description_width": "initial"
      }
     },
     "e30c5c1a00014096a7ac86ce125fb86d": {
      "model_module": "@jupyter-widgets/controls",
      "model_module_version": "1.4.0",
      "model_name": "ButtonModel",
      "state": {
       "description": "Keine der anderen Möglichkeiten",
       "layout": "IPY_MODEL_a372af99d6ce41369e8e9368b63466f6",
       "style": "IPY_MODEL_769556c29050468ea310be0538ff285f"
      }
     },
     "e33c52226d304b918373e712538eb36c": {
      "model_module": "@jupyter-widgets/base",
      "model_module_version": "1.1.0",
      "model_name": "LayoutModel",
      "state": {
       "width": "600px"
      }
     },
     "e35465f77e204b02aef1d7ff08becac1": {
      "model_module": "@jupyter-widgets/base",
      "model_module_version": "1.1.0",
      "model_name": "LayoutModel",
      "state": {}
     },
     "e35fb9fa85a941dd88c581fa87403500": {
      "model_module": "@jupyter-widgets/base",
      "model_module_version": "1.1.0",
      "model_name": "LayoutModel",
      "state": {}
     },
     "e451d14bba1d49058f22bf6f02295aea": {
      "model_module": "@jupyter-widgets/base",
      "model_module_version": "1.1.0",
      "model_name": "LayoutModel",
      "state": {
       "width": "250px"
      }
     },
     "e5002423241a42139248a8ef294c5e65": {
      "model_module": "@jupyter-widgets/controls",
      "model_module_version": "1.4.0",
      "model_name": "DescriptionStyleModel",
      "state": {
       "description_width": ""
      }
     },
     "e54e33bc3dc9486083a17df62266e85f": {
      "model_module": "@jupyter-widgets/base",
      "model_module_version": "1.1.0",
      "model_name": "LayoutModel",
      "state": {
       "width": "250px"
      }
     },
     "e60baf57806345f5aa992fcbec4c6f8b": {
      "model_module": "@jupyter-widgets/controls",
      "model_module_version": "1.4.0",
      "model_name": "DescriptionStyleModel",
      "state": {
       "description_width": "initial"
      }
     },
     "e611118c96054facab2100d8a8907d55": {
      "model_module": "@jupyter-widgets/controls",
      "model_module_version": "1.4.0",
      "model_name": "CheckboxModel",
      "state": {
       "description": "Es ist die spezifischere Merkmalsstruktur.",
       "disabled": false,
       "layout": "IPY_MODEL_247e0ba6e7f945639e2c50c32c65cd09",
       "style": "IPY_MODEL_6fe9785963cf42d5bc2021c65dcbb092",
       "value": false
      }
     },
     "e6d152da47214dfa97be78ae129fdfb5": {
      "model_module": "@jupyter-widgets/controls",
      "model_module_version": "1.4.0",
      "model_name": "DescriptionStyleModel",
      "state": {
       "description_width": ""
      }
     },
     "e70c0e8d5ec240fa946a8ee28cd36353": {
      "model_module": "@jupyter-widgets/base",
      "model_module_version": "1.1.0",
      "model_name": "LayoutModel",
      "state": {}
     },
     "e78c68215bce469dbcc544c9f7bb3002": {
      "model_module": "@jupyter-widgets/controls",
      "model_module_version": "1.4.0",
      "model_name": "CheckboxModel",
      "state": {
       "description": "FS0 = [CAT = N, GEN = FEM], FS1 = [CAT = DET, GEN = FEM]",
       "disabled": false,
       "layout": "IPY_MODEL_cea1c131ee8e46e0aa3ca6c53ada0058",
       "style": "IPY_MODEL_aa0558249df6425799380608bb1be1ef",
       "value": false
      }
     },
     "e7d4ed57330347c4b55b7e33e59b3cf1": {
      "model_module": "@jupyter-widgets/controls",
      "model_module_version": "1.4.0",
      "model_name": "ButtonStyleModel",
      "state": {}
     },
     "e8000a42da234ceea35e7b2e69c25eee": {
      "model_module": "@jupyter-widgets/base",
      "model_module_version": "1.1.0",
      "model_name": "LayoutModel",
      "state": {
       "width": "600px"
      }
     },
     "e8f20e7cfd5a44e4b34b948a38ffd07f": {
      "model_module": "@jupyter-widgets/base",
      "model_module_version": "1.1.0",
      "model_name": "LayoutModel",
      "state": {}
     },
     "ea9ce2c06ba84b48bc232e3fc795e4a1": {
      "model_module": "@jupyter-widgets/controls",
      "model_module_version": "1.4.0",
      "model_name": "HBoxModel",
      "state": {
       "children": [
        "IPY_MODEL_4173e9005baa43dbb0137b3a6bcbd062",
        "IPY_MODEL_6be43ba473dd41639bf0f40218469a4c"
       ],
       "layout": "IPY_MODEL_e22282d13481494d934c58a619bae7aa"
      }
     },
     "eab0f9d1ab5a455291201459700fd8e6": {
      "model_module": "@jupyter-widgets/base",
      "model_module_version": "1.1.0",
      "model_name": "LayoutModel",
      "state": {
       "width": "250px"
      }
     },
     "eb09d70b581e4c2384be093e989ac205": {
      "model_module": "@jupyter-widgets/controls",
      "model_module_version": "1.4.0",
      "model_name": "VBoxModel",
      "state": {
       "children": [
        "IPY_MODEL_4480606071a74ad69f5be4664454cfc7",
        "IPY_MODEL_d9974b620f434f749e7248c77e8a9b19",
        "IPY_MODEL_952fa13e699143d0b3084915a2f6a963",
        "IPY_MODEL_74f5ce5fba124894b2ab4d0c11f1bba7",
        "IPY_MODEL_a6d6bd3d15714560ae86f315dbd17d22",
        "IPY_MODEL_1d835c3a3e70413f86714efa95ccd4a7"
       ],
       "layout": "IPY_MODEL_ebfa3d35a20348f1b2b3d826578b8b4a"
      }
     },
     "eb534249ec634da89e3590c5bb423cbc": {
      "model_module": "@jupyter-widgets/controls",
      "model_module_version": "1.4.0",
      "model_name": "CheckboxModel",
      "state": {
       "description": "FS0 = [CAT = N, GEN = MASK], FS1 = [CAT = N]",
       "disabled": false,
       "layout": "IPY_MODEL_988df82cb7654c5087b51c41ab4bdd85",
       "style": "IPY_MODEL_8e6e5602f78c4cbf9eec55df2218920a",
       "value": false
      }
     },
     "eb9a508261214bb1b41897cbd65aa6cc": {
      "model_module": "@jupyter-widgets/controls",
      "model_module_version": "1.4.0",
      "model_name": "DescriptionStyleModel",
      "state": {
       "description_width": "initial"
      }
     },
     "ebfa3d35a20348f1b2b3d826578b8b4a": {
      "model_module": "@jupyter-widgets/base",
      "model_module_version": "1.1.0",
      "model_name": "LayoutModel",
      "state": {}
     },
     "ec3fc235412a4b5cac1245104c4e9b14": {
      "model_module": "@jupyter-widgets/controls",
      "model_module_version": "1.4.0",
      "model_name": "DescriptionStyleModel",
      "state": {
       "description_width": "initial"
      }
     },
     "ec6241723cdb44b4822dd7b5311540aa": {
      "model_module": "@jupyter-widgets/base",
      "model_module_version": "1.1.0",
      "model_name": "LayoutModel",
      "state": {
       "width": "250px"
      }
     },
     "ece801885fc74e1cbe79a8d13fe4631e": {
      "model_module": "@jupyter-widgets/base",
      "model_module_version": "1.1.0",
      "model_name": "LayoutModel",
      "state": {
       "width": "250px"
      }
     },
     "ed7f4616965c4a5bacd6a0faf419189b": {
      "model_module": "@jupyter-widgets/controls",
      "model_module_version": "1.4.0",
      "model_name": "ButtonModel",
      "state": {
       "description": "Keine der anderen Möglichkeiten",
       "layout": "IPY_MODEL_093760c241c3448293f960e80dd4467c",
       "style": "IPY_MODEL_d1c1e95e06594f0fa7e522a4cc1b5199"
      }
     },
     "eda50f9751c04a00b8a4f1a34d85f349": {
      "model_module": "@jupyter-widgets/controls",
      "model_module_version": "1.4.0",
      "model_name": "DescriptionStyleModel",
      "state": {
       "description_width": ""
      }
     },
     "edafd58deadc436e9e4dbb2ecb007d17": {
      "model_module": "@jupyter-widgets/controls",
      "model_module_version": "1.4.0",
      "model_name": "DescriptionStyleModel",
      "state": {
       "description_width": "initial"
      }
     },
     "edd9f0415d954b7fb1937d6129f6eebf": {
      "model_module": "@jupyter-widgets/base",
      "model_module_version": "1.1.0",
      "model_name": "LayoutModel",
      "state": {
       "justify_content": "center"
      }
     },
     "ee0a839ce3f7429a9513a4bcb7bab850": {
      "model_module": "@jupyter-widgets/controls",
      "model_module_version": "1.4.0",
      "model_name": "VBoxModel",
      "state": {
       "children": [
        "IPY_MODEL_b4ddf0c03b6e4f898784d450d2e63250",
        "IPY_MODEL_a80e16affcb6433daaa94cdf43c77f91",
        "IPY_MODEL_2d1495860fd94724b574012086f88896"
       ],
       "layout": "IPY_MODEL_dcedb69cb55a43d9ac5b5844d7101079"
      }
     },
     "eec46685b59646ff9fbdec6212a932da": {
      "model_module": "@jupyter-widgets/base",
      "model_module_version": "1.1.0",
      "model_name": "LayoutModel",
      "state": {
       "width": "600px"
      }
     },
     "eecd118f6b974050b7677c5c9e13e74f": {
      "model_module": "@jupyter-widgets/controls",
      "model_module_version": "1.4.0",
      "model_name": "DescriptionStyleModel",
      "state": {
       "description_width": "initial"
      }
     },
     "ef07fb7b2ef24da18499168aac68c326": {
      "model_module": "@jupyter-widgets/controls",
      "model_module_version": "1.4.0",
      "model_name": "DescriptionStyleModel",
      "state": {
       "description_width": "initial"
      }
     },
     "ef42906d9c9343548afe94932c9e620f": {
      "model_module": "@jupyter-widgets/controls",
      "model_module_version": "1.4.0",
      "model_name": "ButtonModel",
      "state": {
       "description": "unbestimmten",
       "layout": "IPY_MODEL_0b2ece9d6ab2416a97ee79f3446e4c45",
       "style": "IPY_MODEL_324420fc0bab4294abfd874a2ac2ddfa"
      }
     },
     "ef6a9ad2a4f14a9b9bee3023939e0035": {
      "model_module": "@jupyter-widgets/controls",
      "model_module_version": "1.4.0",
      "model_name": "DescriptionStyleModel",
      "state": {
       "description_width": ""
      }
     },
     "ef90910c49624fc8a3ca6308a31e1ab4": {
      "model_module": "@jupyter-widgets/base",
      "model_module_version": "1.1.0",
      "model_name": "LayoutModel",
      "state": {}
     },
     "f0ec2a3250cc49dd99013eaf65839bb1": {
      "model_module": "@jupyter-widgets/controls",
      "model_module_version": "1.4.0",
      "model_name": "HTMLModel",
      "state": {
       "layout": "IPY_MODEL_b98252b6dc2a45fc986a4ead61e39826",
       "style": "IPY_MODEL_25ad8133812f44bba46712ac41be0d6c",
       "value": "<i>Wählen Sie die <ins>eine</ins> korrekte Antwort aus: </i>"
      }
     },
     "f1585d38358a4598a097b80e8e3d0865": {
      "model_module": "@jupyter-widgets/base",
      "model_module_version": "1.1.0",
      "model_name": "LayoutModel",
      "state": {}
     },
     "f18933f6cf0044b2a82d3c82857d1a43": {
      "model_module": "@jupyter-widgets/controls",
      "model_module_version": "1.4.0",
      "model_name": "VBoxModel",
      "state": {
       "children": [
        "IPY_MODEL_31376298faf3460e91cca7fc87fc416c",
        "IPY_MODEL_0bb3062756084b95a63dc86870ce2a02",
        "IPY_MODEL_2bcf6c8498684eccbbc30190918c9359",
        "IPY_MODEL_8e04c36a80b74d2aa35d8c5e83ad632f"
       ],
       "layout": "IPY_MODEL_236390ff12c848df8c087440ff486557"
      }
     },
     "f1d12802f81d4d7ba06933ed64c26233": {
      "model_module": "@jupyter-widgets/controls",
      "model_module_version": "1.4.0",
      "model_name": "ButtonModel",
      "state": {
       "description": "Korrekt?",
       "layout": "IPY_MODEL_ece801885fc74e1cbe79a8d13fe4631e",
       "style": "IPY_MODEL_229a9c8d674a4a7bb4774b4128d7dbba"
      }
     },
     "f343e9a046b24580b61d8213eb95a9a0": {
      "model_module": "@jupyter-widgets/base",
      "model_module_version": "1.1.0",
      "model_name": "LayoutModel",
      "state": {}
     },
     "f37ad0d5415e4d30bb724aab8c2cbbdc": {
      "model_module": "@jupyter-widgets/controls",
      "model_module_version": "1.4.0",
      "model_name": "ButtonStyleModel",
      "state": {}
     },
     "f3af159a2d874255abbd3111c7c47d1d": {
      "model_module": "@jupyter-widgets/controls",
      "model_module_version": "1.4.0",
      "model_name": "ButtonStyleModel",
      "state": {}
     },
     "f4406d2f108349cbbe4bc1ba49f31ba5": {
      "model_module": "@jupyter-widgets/controls",
      "model_module_version": "1.4.0",
      "model_name": "ButtonStyleModel",
      "state": {}
     },
     "f4a4a02a328b4bd1b3e7d7a44557d404": {
      "model_module": "@jupyter-widgets/controls",
      "model_module_version": "1.4.0",
      "model_name": "ButtonModel",
      "state": {
       "description": "Korrekt?",
       "layout": "IPY_MODEL_846e6125797843beb315f3f90fa006a0",
       "style": "IPY_MODEL_468758e237d64356ad19bf3e15cde6f8"
      }
     },
     "f4d7cc37845349fcac22a48833d50dc3": {
      "model_module": "@jupyter-widgets/controls",
      "model_module_version": "1.4.0",
      "model_name": "HTMLModel",
      "state": {
       "layout": "IPY_MODEL_e35465f77e204b02aef1d7ff08becac1",
       "style": "IPY_MODEL_d006557785f04e8facf08c300e44079c",
       "value": "<h4 style=\"font-size:14px;\">übernehmen.</h4>"
      }
     },
     "f51c7e47ebef44a1ab22b8daab6cbd26": {
      "model_module": "@jupyter-widgets/controls",
      "model_module_version": "1.4.0",
      "model_name": "HTMLModel",
      "state": {
       "layout": "IPY_MODEL_be26f929e4044554afc3fc7d43f0bd69",
       "style": "IPY_MODEL_a0e8c87ea61149f291e556583c9c0eab",
       "value": "<h4 style=\"font-size:14px;\">Wie wird die Deklination der Nominalphrase <i>altes Bier</i> auch bezeichnet?</h4>"
      }
     },
     "f5718d4ec0164a7897f26678cf234757": {
      "model_module": "@jupyter-widgets/base",
      "model_module_version": "1.1.0",
      "model_name": "LayoutModel",
      "state": {
       "justify_content": "center"
      }
     },
     "f5a060e89037482190d828571b8aba74": {
      "model_module": "@jupyter-widgets/base",
      "model_module_version": "1.1.0",
      "model_name": "LayoutModel",
      "state": {
       "width": "250px"
      }
     },
     "f62d041b0f5842bc8e9c2d2838a8319f": {
      "model_module": "@jupyter-widgets/base",
      "model_module_version": "1.1.0",
      "model_name": "LayoutModel",
      "state": {}
     },
     "f648dd97f31a4a7289304d9d3dbdecb1": {
      "model_module": "@jupyter-widgets/controls",
      "model_module_version": "1.4.0",
      "model_name": "DescriptionStyleModel",
      "state": {
       "description_width": "initial"
      }
     },
     "f6c307ddf1ef4e8eaa742ea7bec95ac7": {
      "model_module": "@jupyter-widgets/base",
      "model_module_version": "1.1.0",
      "model_name": "LayoutModel",
      "state": {
       "width": "600px"
      }
     },
     "f71408236e48441ba3a1bcf534ca06fb": {
      "model_module": "@jupyter-widgets/controls",
      "model_module_version": "1.4.0",
      "model_name": "HTMLModel",
      "state": {
       "layout": "IPY_MODEL_852d23e1ac614b058a13fe9c038f589a",
       "style": "IPY_MODEL_2ac07b8e86ee462c92d75e032a958f1a",
       "value": "<h4 style=\"font-size:14px;\">Welche der Beispiele erfüllen die Subsumptionsbeziehung aus 10b nicht?</h4>"
      }
     },
     "f741e8ec87024bb592b24066d2d3916e": {
      "model_module": "@jupyter-widgets/controls",
      "model_module_version": "1.4.0",
      "model_name": "DescriptionStyleModel",
      "state": {
       "description_width": ""
      }
     },
     "f86a40ae3f33439d964e83e5433549a7": {
      "model_module": "@jupyter-widgets/base",
      "model_module_version": "1.1.0",
      "model_name": "LayoutModel",
      "state": {}
     },
     "f9b9d285858842e98b37dc2091727c48": {
      "model_module": "@jupyter-widgets/base",
      "model_module_version": "1.1.0",
      "model_name": "LayoutModel",
      "state": {
       "width": "250px"
      }
     },
     "fa23f9497c734393b469e2c794d979a1": {
      "model_module": "@jupyter-widgets/base",
      "model_module_version": "1.1.0",
      "model_name": "LayoutModel",
      "state": {
       "justify_content": "center"
      }
     },
     "fb38e109a3dd414fbe7611e2c69b01f9": {
      "model_module": "@jupyter-widgets/base",
      "model_module_version": "1.1.0",
      "model_name": "LayoutModel",
      "state": {
       "justify_content": "center"
      }
     },
     "fb410de8b973492d94825e99d8c1d8bb": {
      "model_module": "@jupyter-widgets/controls",
      "model_module_version": "1.4.0",
      "model_name": "DescriptionStyleModel",
      "state": {
       "description_width": ""
      }
     },
     "fb43f940bae04225a5fa6e0cc96a92a6": {
      "model_module": "@jupyter-widgets/controls",
      "model_module_version": "1.4.0",
      "model_name": "DescriptionStyleModel",
      "state": {
       "description_width": "initial"
      }
     },
     "fb4aa1c202e04dc8944ada12d47d7c2d": {
      "model_module": "@jupyter-widgets/controls",
      "model_module_version": "1.4.0",
      "model_name": "VBoxModel",
      "state": {
       "children": [
        "IPY_MODEL_6acfee8e4b3d41798f770355f0ff9e7a",
        "IPY_MODEL_6ade3a788bb34f09b2412d653d8780ba",
        "IPY_MODEL_d8490d622d2945f883c9bd4b5517f9a5",
        "IPY_MODEL_c4ecffd6fdaf4559b853526e170fdfcc"
       ],
       "layout": "IPY_MODEL_25e34d1815b8432fbdaa7a62959c8598"
      }
     },
     "fb5791ba7f60461ebc2035315b24b880": {
      "model_module": "@jupyter-widgets/controls",
      "model_module_version": "1.4.0",
      "model_name": "DescriptionStyleModel",
      "state": {
       "description_width": ""
      }
     },
     "fbb528b2d70541dcaea872ba0d168099": {
      "model_module": "@jupyter-widgets/controls",
      "model_module_version": "1.4.0",
      "model_name": "CheckboxModel",
      "state": {
       "description": "Sie werden im Vorhinein deklariert (feature lexicon)",
       "disabled": false,
       "layout": "IPY_MODEL_8e56d486ecbf4ea599e45683951b0c46",
       "style": "IPY_MODEL_b323b4cb7cdf437388cc27d9c795fb8e",
       "value": false
      }
     },
     "fbb5df824a2e47e5809906b5765c5489": {
      "model_module": "@jupyter-widgets/controls",
      "model_module_version": "1.4.0",
      "model_name": "ButtonModel",
      "state": {
       "description": "Lokativ",
       "layout": "IPY_MODEL_0948636498d24fc68fcf1cf2cd72c115",
       "style": "IPY_MODEL_5f36fc3d467e4e70b4f71be7b278929e"
      }
     },
     "fbeda6ff18754d5d8552778758f23c1b": {
      "model_module": "@jupyter-widgets/base",
      "model_module_version": "1.1.0",
      "model_name": "LayoutModel",
      "state": {
       "width": "250px"
      }
     },
     "fc1556edbe594dee854788056d35470e": {
      "model_module": "@jupyter-widgets/base",
      "model_module_version": "1.1.0",
      "model_name": "LayoutModel",
      "state": {
       "width": "600px"
      }
     },
     "fc95c52271f44a35a58135d11101aa39": {
      "model_module": "@jupyter-widgets/base",
      "model_module_version": "1.1.0",
      "model_name": "LayoutModel",
      "state": {
       "justify_content": "center"
      }
     },
     "fcb53f3218d74ff08a1580ecc7e9ca0f": {
      "model_module": "@jupyter-widgets/controls",
      "model_module_version": "1.4.0",
      "model_name": "ButtonModel",
      "state": {
       "description": "Recipient",
       "layout": "IPY_MODEL_306fb4f6e36049b3bc5fa2e65a9dedfc",
       "style": "IPY_MODEL_60f8aa1082a749009a17e59651df3ca7"
      }
     },
     "fcce780baadb46f6b5c2e32256814b9b": {
      "model_module": "@jupyter-widgets/base",
      "model_module_version": "1.1.0",
      "model_name": "LayoutModel",
      "state": {
       "width": "250px"
      }
     },
     "fd3c7329040248d6afac85882cbcd629": {
      "model_module": "@jupyter-widgets/controls",
      "model_module_version": "1.4.0",
      "model_name": "HTMLModel",
      "state": {
       "layout": "IPY_MODEL_f5718d4ec0164a7897f26678cf234757",
       "style": "IPY_MODEL_b881f868c51049f393f980409b95253c",
       "value": "<i>Wählen Sie die <ins>eine</ins> korrekte Antwort aus: </i>"
      }
     },
     "fe0e6704ec2f479f8e4cbe838a1570e7": {
      "model_module": "@jupyter-widgets/controls",
      "model_module_version": "1.4.0",
      "model_name": "HTMLModel",
      "state": {
       "layout": "IPY_MODEL_61ef30125e4b44e48c48beafdfa664e3",
       "style": "IPY_MODEL_eda50f9751c04a00b8a4f1a34d85f349",
       "value": "<h4 style=\"font-size:14px;\">Welche Beispiele erfüllen die obige Subsumptionsbeziehung?</h4>"
      }
     },
     "fefaf84e5095428cbf842e25cf9d72dc": {
      "model_module": "@jupyter-widgets/base",
      "model_module_version": "1.1.0",
      "model_name": "LayoutModel",
      "state": {
       "width": "250px"
      }
     },
     "ff66d3efeeff46b7887c1d76e21306e0": {
      "model_module": "@jupyter-widgets/base",
      "model_module_version": "1.1.0",
      "model_name": "LayoutModel",
      "state": {
       "width": "250px"
      }
     }
    },
    "version_major": 2,
    "version_minor": 0
   }
  }
 },
 "nbformat": 4,
 "nbformat_minor": 2
}
