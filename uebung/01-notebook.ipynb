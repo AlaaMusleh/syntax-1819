{
 "cells": [
  {
   "cell_type": "markdown",
   "metadata": {},
   "source": [
    "***Vorlesung 'Syntax natürlicher Sprachen', WS 2018/19***\n",
    "\n",
    "---\n",
    "# Übung 1"
   ]
  },
  {
   "cell_type": "markdown",
   "metadata": {},
   "source": [
    "---\n",
    "## Aufgabe 1: Installation NLTK\n",
    "\n",
    "Für die weiteren Übungen werden wir das **Natural Language Toolkit (NLTK)** für Python verwenden. Falls es nicht schon installiert ist, installieren Sie es jetzt."
   ]
  },
  {
   "cell_type": "markdown",
   "metadata": {},
   "source": [
    "### UNIX (Linux oder Mac)\n",
    "\n",
    "Auf UNIX-Systemen ist Python, sowie der Paketmanager `pip`, in der Regel bereits installiert. Sie können also das NLTK einfach mittels Kommandozeile installieren.\n",
    "\n",
    "Zunächst sollten Sie sicherstellen, dass Ihre Version von `pip` auf dem neuesten Stand ist:\n",
    "\n",
    "``sudo -H pip3 install -U pip``"
   ]
  },
  {
   "cell_type": "markdown",
   "metadata": {},
   "source": [
    "Dann führen Sie die eigentliche Installation folgendermaßen aus:\n",
    "\n",
    "Systemweit:\n",
    "\n",
    "``sudo -H pip3 install -U nltk``\n",
    "\n",
    "Lokal:\n",
    "\n",
    "``pip3 install --user -U nltk``\n",
    "\n",
    "Beachten Sie, dass Sie alternativ auch die Python-Distribution `Anaconda` installieren können. Dort ist das NLTK zusammen mit weiteren praktischen Paketen bereits vorinstalliert.\n"
   ]
  },
  {
   "cell_type": "markdown",
   "metadata": {},
   "source": [
    "### Windows\n",
    "\n",
    "  Falls Sie Windows verwenden, müssen Sie zunächst sicherstellen, dass Sie Python installiert haben und anschließend das NLTK installieren.\n",
    "    Am einfachsten geht dies, indem Sie die Python-Distribution `Anaconda` herunterladen und installieren (Link s.u.). Diese enthält Python, das NLTK, sowie weitere nützliche Pakete für den Umgang mit Daten.\n",
    "\n",
    "  Falls Sie es bevorzugen, nur das absolut Nötige zu installieren, empfiehlt sich ein Blick auf `Miniconda`. Diese Distribution enthält nur Python und `Anaconda` selbst. Das NLTK installieren Sie dann mithilfe des folgenden Befehls im `Anaconda Command Prompt`:\n",
    "  \n",
    "  ``C:\\Users\\nutzer\\Anaconda>conda install nltk``"
   ]
  },
  {
   "cell_type": "markdown",
   "metadata": {},
   "source": [
    "Für weiter Informationen siehe:\n",
    "\n",
    "\n",
    "- Installation des `NLTK`:  http://www.nltk.org/install.html\n",
    "  \n",
    "- Der Paketmanager `pip`: https://packaging.python.org/tutorials/installing-packages/ \n",
    "\n",
    "- Installation von `Anaconda`: https://www.anaconda.com/download/\n",
    "\n",
    "- Leichtgewichtige Anaconda-Alternative `Miniconda`: https://conda.io/miniconda.html\n"
   ]
  },
  {
   "cell_type": "markdown",
   "metadata": {},
   "source": [
    "---\n",
    "## Aufgabe 2: Test der Installation, Herunterladen von Ressourcen"
   ]
  },
  {
   "cell_type": "markdown",
   "metadata": {},
   "source": [
    " Vergewissern Sie sich, dass die Installation ordnungsgemäß funktioniert hat, indem Sie versuchen das NLTK in einer interaktiven Pythonsession zu importieren:\n",
    " \n",
    " ``python3``"
   ]
  },
  {
   "cell_type": "code",
   "execution_count": 1,
   "metadata": {},
   "outputs": [],
   "source": [
    "import nltk"
   ]
  },
  {
   "cell_type": "markdown",
   "metadata": {},
   "source": [
    "Mit dem folgenden Befehl können Sie dann Korpora und andere Ressourcen herunterladen und in NLTK integrieren:"
   ]
  },
  {
   "cell_type": "code",
   "execution_count": 2,
   "metadata": {},
   "outputs": [],
   "source": [
    "#nltk.download()"
   ]
  },
  {
   "cell_type": "markdown",
   "metadata": {},
   "source": [
    " Die Ressource `book` enthält alle Beispiele aus dem NLTK-Buch, d.h. weit mehr als wir benötigen werden. Sie können die Ressource entweder jetzt herunterladen oder im Laufe des Kurses ab und an den Download-Dialog erneut öffnen und nur die benötigten Daten einzeln laden."
   ]
  },
  {
   "cell_type": "markdown",
   "metadata": {},
   "source": [
    "---\n",
    "## Aufgabe 3: Installation  tk"
   ]
  },
  {
   "cell_type": "markdown",
   "metadata": {},
   "source": [
    "Wir werden im Laufe der Übung einige Graphen, z.B. Syntaxbäume, visualisieren wollen. Dafür eignet sich sehr gut das `tk`-Paket.\n",
    "Falls es nicht schon installiert ist, installieren Sie es nun:\n",
    "\n",
    "\n",
    "  \n"
   ]
  },
  {
   "cell_type": "markdown",
   "metadata": {},
   "source": [
    "Anaconda: bereits installiert"
   ]
  },
  {
   "cell_type": "markdown",
   "metadata": {},
   "source": [
    "Miniconda:\n",
    "\n",
    "``conda install -c anaconda tk``"
   ]
  },
  {
   "cell_type": "markdown",
   "metadata": {},
   "source": [
    "Debian/Ubuntu:\n",
    "\n",
    "``sudo apt-get install python3-tk``"
   ]
  },
  {
   "cell_type": "markdown",
   "metadata": {},
   "source": [
    "OpenSUSE:\n",
    "\n",
    "``sudo zypper install python3-tk``\n"
   ]
  },
  {
   "cell_type": "markdown",
   "metadata": {},
   "source": [
    "---\n",
    "## Aufgabe 4: Test - Syntaxbäume zeichnen\n",
    "\n",
    "Zunächst konstruieren wir manuell einen Baum:"
   ]
  },
  {
   "cell_type": "code",
   "execution_count": 3,
   "metadata": {},
   "outputs": [],
   "source": [
    "from nltk.tree import Tree\n",
    "\n",
    "np1 = Tree('NP', [Tree('ART', ['der']), Tree('N', ['Hund'])])\n",
    "np2 = Tree('NP', [Tree('ART', ['die']), Tree('N', ['Katze'])])\n",
    "vp = Tree('VP', [Tree('V', ['jagt']), np2])"
   ]
  },
  {
   "cell_type": "markdown",
   "metadata": {},
   "source": [
    "Um ihn anzuzeigen, genügt es, die Variable alleine in die letzte Zeile einer Zelle zu schreiben."
   ]
  },
  {
   "cell_type": "code",
   "execution_count": 4,
   "metadata": {},
   "outputs": [
    {
     "data": {
      "image/png": "[encoded data removed]",
      "text/plain": [
       "Tree('VP', [Tree('V', ['jagt']), Tree('NP', [Tree('ART', ['die']), Tree('N', ['Katze'])])])"
      ]
     },
     "execution_count": 4,
     "metadata": {},
     "output_type": "execute_result"
    }
   ],
   "source": [
    "vp"
   ]
  },
  {
   "cell_type": "markdown",
   "metadata": {},
   "source": [
    "Möchte man mehr als nur einen Baum in derselben Zelle anzeigen, bietet `display` mehr Flexibilität."
   ]
  },
  {
   "cell_type": "code",
   "execution_count": 5,
   "metadata": {},
   "outputs": [
    {
     "data": {
      "image/png": "[encoded data removed]",
      "text/plain": [
       "Tree('NP', [Tree('ART', ['der']), Tree('N', ['Hund'])])"
      ]
     },
     "metadata": {},
     "output_type": "display_data"
    },
    {
     "data": {
      "image/png": "[encoded data removed]",
      "text/plain": [
       "Tree('NP', [Tree('ART', ['die']), Tree('N', ['Katze'])])"
      ]
     },
     "metadata": {},
     "output_type": "display_data"
    }
   ],
   "source": [
    "from IPython.display import display\n",
    "\n",
    "display(np1)\n",
    "display(np2)"
   ]
  },
  {
   "cell_type": "markdown",
   "metadata": {},
   "source": [
    "Für eine Darstellung in der Konsole gibt es zwei Möglichkeiten:"
   ]
  },
  {
   "cell_type": "code",
   "execution_count": 6,
   "metadata": {},
   "outputs": [
    {
     "name": "stdout",
     "output_type": "stream",
     "text": [
      "(VP (V jagt) (NP (ART die) (N Katze)))\n"
     ]
    }
   ],
   "source": [
    "print(vp)"
   ]
  },
  {
   "cell_type": "code",
   "execution_count": 7,
   "metadata": {},
   "outputs": [
    {
     "name": "stdout",
     "output_type": "stream",
     "text": [
      "      VP          \n",
      " ┌────┴───┐        \n",
      " │        NP      \n",
      " │    ┌───┴────┐   \n",
      " V   ART       N  \n",
      " │    │        │   \n",
      "jagt die     Katze\n",
      "\n"
     ]
    }
   ],
   "source": [
    "vp.pretty_print(unicodelines=True)"
   ]
  },
  {
   "cell_type": "markdown",
   "metadata": {},
   "source": [
    "---\n",
    "## Aufgabe 5: Installation Jupyter Notebooks"
   ]
  },
  {
   "cell_type": "markdown",
   "metadata": {},
   "source": [
    "Parallel zu den Übungsblättern werden zu jeder Übung `Jupyter Notebooks` gleichen Inhalts angeboten werden. Jupyter Notebooks sind interaktive, aus einer Mischung aus Text, Code und Diagrammen bestehende Web-Dokumente, in denen Sie die Präsenzaufgaben lösen, sich Notizen machen und bequem experimentieren können.\n",
    "\n",
    "Wollen Sie dieses Zusatzangebot nutzen, müssen Sie die Software zur Ausführung von `Jupyter Notebooks` installieren:\n",
    "\n",
    "Anaconda: bereits installiert\n",
    "\n",
    "Miniconda:\n",
    "``conda install jupyter``\n",
    "\n",
    "pip:\n",
    "``pip3 install jupyter``\n"
   ]
  },
  {
   "cell_type": "markdown",
   "metadata": {},
   "source": [
    "---\n",
    "## Aufgabe 6: Installation Jupyter Widgets"
   ]
  },
  {
   "cell_type": "markdown",
   "metadata": {},
   "source": [
    "Die Übungsblätter beinhalten interaktiv aufbereitete Aufgabentypen, insbesondere Multiple-Choice-Fragen. Hierfür wird die Erweiterung `ipywidgets` verwendet, die Sie folgendermaßen installieren:\n",
    "\n",
    "``pip3 install ipywidgets\n",
    "jupyter nbextension enable --py --sys-prefix widgetsnbextension\n",
    "``\n",
    "\n",
    "Falls Probleme auftreten, muss ggf. `widgetsnbextension` deinstalliert und wie beschreiben erneut installiert werden.\n",
    "\n",
    "``pip3 uninstall ipywidgets widgetsnbextension``\n",
    "\n"
   ]
  },
  {
   "cell_type": "markdown",
   "metadata": {},
   "source": [
    "---\n",
    "## Aufgabe 7: Test der Jupyter-Installation"
   ]
  },
  {
   "cell_type": "markdown",
   "metadata": {},
   "source": [
    "Zum Testen, ob Jupyter und die Widgets erfolgreich installiert wurden, laden Sie das Notebook zur ersten Übung (01-notebook.ipynb) herunter, wechseln Sie mit `cd` zu dem Downloadordner und führen Sie folgenden Befehl aus: \n",
    "\n",
    "``jupyter notebook``\n",
    "\n",
    "Wählen Sie in der sich öffnenden Jupyter-Browsersitzung die 01-notebook.ipynb-Datei aus und führen Sie im Notebook folgenden Codeblock aus, um die Installation der Widgets zu testen:\n"
   ]
  },
  {
   "cell_type": "code",
   "execution_count": 1,
   "metadata": {},
   "outputs": [
    {
     "data": {
      "application/vnd.jupyter.widget-view+json": {
       "model_id": "cb4a4abdac584f78ac3b37579ac33b10",
       "version_major": 2,
       "version_minor": 0
      },
      "text/plain": [
       "IntSlider(value=0)"
      ]
     },
     "metadata": {},
     "output_type": "display_data"
    }
   ],
   "source": [
    "from ipywidgets import widgets\n",
    "widgets.IntSlider()"
   ]
  },
  {
   "cell_type": "markdown",
   "metadata": {},
   "source": [
    "---\n",
    "## Aufgabe 8: Installation Stanford Parser"
   ]
  },
  {
   "cell_type": "markdown",
   "metadata": {},
   "source": [
    "In der Veranstaltung werden u.a. die Java-basierten Parser und Modelle der Stanford-NLP-Tools über das entsprechende NLTK-Interface verwendet. Das Stanford-CoreNLP-Paket beinhaltet (neben Modulen wie POS-tagger, NER, IE, coreference resolution) verschiedene Parser (insbesondere Dependenzparsing) und unterstützt viele verschiedene Sprachen. Das englische Modell ist im CoreNLP-Paket enthalten, Modelle für die anderen Sprachen können separat heruntergeladen werden.\n",
    "\n",
    "  - Stanford CoreNLP: https://stanfordnlp.github.io/CoreNLP/download.html\n",
    "  - Stanford german model: https://stanfordnlp.github.io/CoreNLP/download.html\n",
    "\n",
    "Downloaden Sie dort `stanford-corenlp-full-2018-10-05.zip` sowie `stanford-german-corenlp-2018-10-05-models.jar` (Version 3.9.2).\n",
    "Entpacken Sie die zip-Datei und merken Sie sich gut den Pfad des extrahierten Ordners sowie des deutschen Modells.\n"
   ]
  },
  {
   "cell_type": "markdown",
   "metadata": {},
   "source": [
    "Installieren Sie die aktuellste Java-Version (1.8 ist Voraussetzung für den Stanford Parser; Mac: Java 8 JDK).\n",
    "\n",
    "- Java 1.8: installieren/Version überprüfen: ``java -version``\n",
    "\n",
    "Sie müssen evtl. die Umgebungsvariable `JAVAHOME` anpassen.\n"
   ]
  },
  {
   "cell_type": "markdown",
   "metadata": {},
   "source": [
    "Für weitere Informationen siehe:\n",
    "\n",
    "https://nlp.stanford.edu/software/lex-parser.shtml\n",
    "\n",
    "http://www.nltk.org/_modules/nltk/parse/stanford.html\n",
    "\n",
    "\n",
    "Den Stanford Parser gibt es auch als Webservice (inkl. Visualisierung):\n",
    "\n",
    "http://nlp.stanford.edu:8080/parser/\n",
    "\n",
    "http://nlp.stanford.edu:8080/corenlp/process\n"
   ]
  },
  {
   "cell_type": "markdown",
   "metadata": {},
   "source": [
    "---\n",
    "## Aufgabe 9: Test - Stanford Parser\n",
    "\n",
    "Zum Testen, ob der Stanford-Parser erfolgreich installiert wurden, führen Sie folgende Befehle aus:"
   ]
  },
  {
   "cell_type": "code",
   "execution_count": 13,
   "metadata": {},
   "outputs": [],
   "source": [
    "from nltk.parse.stanford import StanfordParser, StanfordDependencyParser\n",
    "import os"
   ]
  },
  {
   "cell_type": "markdown",
   "metadata": {},
   "source": [
    "### Deutsche Konstituentenbäume\n",
    "Zunächst müssen die Pfade korrekt gesetzt werden.\n",
    "\n",
    "`PATH_TO_CORE` : Pfad zum CoreNLP\n",
    "\n",
    "`PATH_TO_GER_MODEL` : Pfad zum deutschen Modell\n",
    "\n",
    "Verwenden Sie am besten voll ausgeschriebene absolute Pfade."
   ]
  },
  {
   "cell_type": "code",
   "execution_count": 29,
   "metadata": {},
   "outputs": [],
   "source": [
    "PATH_TO_CORE = os.getenv(\"HOME\") + \"/stanford-corenlp-full-2018-10-05\"\n",
    "PATH_TO_GER_MODEL = os.getenv(\"HOME\") + \"/stanford-models-2018-10-05\""
   ]
  },
  {
   "cell_type": "code",
   "execution_count": 18,
   "metadata": {},
   "outputs": [],
   "source": [
    "jar = os.path.join(\n",
    "    PATH_TO_CORE,\n",
    "    \"stanford-corenlp-3.9.2.jar\"\n",
    ")\n",
    "ger_model = os.path.join(\n",
    "    PATH_TO_GER_MODEL,\n",
    "    \"stanford-german-corenlp-2018-10-05-models.jar\"\n",
    ")"
   ]
  },
  {
   "cell_type": "markdown",
   "metadata": {},
   "source": [
    "Anschließend kann der `StanfordParser` damit geladen werden."
   ]
  },
  {
   "cell_type": "code",
   "execution_count": 21,
   "metadata": {},
   "outputs": [],
   "source": [
    "parser = StanfordParser(\n",
    "    jar, ger_model,\n",
    "    model_path=\"edu/stanford/nlp/models/lexparser/\" + \n",
    "        \"germanPCFG.ser.gz\"\n",
    ")"
   ]
  },
  {
   "cell_type": "markdown",
   "metadata": {},
   "source": [
    "Für eine syntaktische Analyse verwenden Sie einfach `raw_parse`."
   ]
  },
  {
   "cell_type": "markdown",
   "metadata": {},
   "source": [
    "Sie sollten folgenden Output erhalten:\n",
    "\n",
    "```\n",
    "            ROOT                 \n",
    "             │                    \n",
    "             S                   \n",
    " ┌─────┬─────┴──────┬──────────┐  \n",
    " │     │            NP         │ \n",
    " │     │     ┌──────┼─────┐    │  \n",
    "PDS  VAFIN PPOSAT  ADJA   NN   $.\n",
    " │     │     │      │     │    │  \n",
    "Dies  ist   mein  erster Satz  . \n",
    "\n",
    "```"
   ]
  },
  {
   "cell_type": "code",
   "execution_count": null,
   "metadata": {
    "scrolled": false
   },
   "outputs": [],
   "source": [
    "tree_list = list(parser.raw_parse('Dies ist mein erster Satz.'))\n",
    "tree_list[0].pretty_print(unicodelines=True)"
   ]
  },
  {
   "cell_type": "markdown",
   "metadata": {},
   "source": [
    "### Englische Dependenzbäume\n",
    "Dieses zweite Beispiel zeigt die Funktionsweise des Dependenzparsers und die des englischen Modells.\n",
    "\n",
    "Analog müssen die Pfade zu CoreNLP und Modell definiert werden:"
   ]
  },
  {
   "cell_type": "code",
   "execution_count": 25,
   "metadata": {},
   "outputs": [],
   "source": [
    "jar = os.path.join(\n",
    "    PATH_TO_CORE,\n",
    "    \"stanford-corenlp-3.9.2.jar\"\n",
    ")\n",
    "model = os.path.join(\n",
    "    PATH_TO_CORE,\n",
    "    \"stanford-corenlp-3.9.2-models.jar\"\n",
    ")"
   ]
  },
  {
   "cell_type": "markdown",
   "metadata": {},
   "source": [
    "Damit wird dann der Parser (ein `StanfordDependencyParser` in diesem Fall) initialisiert."
   ]
  },
  {
   "cell_type": "code",
   "execution_count": 26,
   "metadata": {},
   "outputs": [],
   "source": [
    "dep_parser = StanfordDependencyParser(\n",
    "    jar, model,\n",
    "    model_path=\"edu/stanford/nlp/models/lexparser/\" + \n",
    "    \"englishPCFG.ser.gz\"\n",
    ")"
   ]
  },
  {
   "cell_type": "markdown",
   "metadata": {},
   "source": [
    "Das Parsing geschieht wieder mittels `raw_parse`."
   ]
  },
  {
   "cell_type": "markdown",
   "metadata": {},
   "source": [
    "Sie sollten in etwa folgenden Output  erhalten:\n",
    "```\n",
    "digraph G{\n",
    "edge [dir=forward]\n",
    "node [shape=plaintext]\n",
    "\n",
    "0 [label=\"0 (None)\"]\n",
    "0 -> 2 [label=\"root\"]\n",
    "1 [label=\"1 (I)\"]\n",
    "2 [label=\"2 (saw)\"]\n",
    "2 -> 1 [label=\"nsubj\"]\n",
    "2 -> 4 [label=\"dobj\"]\n",
    "3 [label=\"3 (an)\"]\n",
    "4 [label=\"4 (elephant)\"]\n",
    "4 -> 3 [label=\"det\"]\n",
    "}\n",
    "```"
   ]
  },
  {
   "cell_type": "code",
   "execution_count": null,
   "metadata": {
    "scrolled": true
   },
   "outputs": [],
   "source": [
    "result = dep_parser.raw_parse('I saw an elephant')\n",
    "for parse in result:\n",
    "    print(parse.to_dot())"
   ]
  },
  {
   "cell_type": "markdown",
   "metadata": {},
   "source": [
    "Probieren Sie auch die Default-Darstellung dieser Dependency-Graphen in Jupyter aus.\n",
    "(Sie müssen dafür evtl. [graphviz](http://www.graphviz.org/) installieren.)"
   ]
  },
  {
   "cell_type": "code",
   "execution_count": 28,
   "metadata": {
    "scrolled": false
   },
   "outputs": [
    {
     "data": {
      "image/svg+xml": [
       "<?xml version=\"1.0\" encoding=\"UTF-8\" standalone=\"no\"?>\n",
       "<!DOCTYPE svg PUBLIC \"-//W3C//DTD SVG 1.1//EN\"\n",
       " \"http://www.w3.org/Graphics/SVG/1.1/DTD/svg11.dtd\">\n",
       "<!-- Generated by graphviz version 2.40.1 (20161225.0304)\n",
       " -->\n",
       "<!-- Title: G Pages: 1 -->\n",
       "<svg width=\"164pt\" height=\"302pt\"\n",
       " viewBox=\"0.00 0.00 163.62 302.00\" xmlns=\"http://www.w3.org/2000/svg\" xmlns:xlink=\"http://www.w3.org/1999/xlink\">\n",
       "<g id=\"graph0\" class=\"graph\" transform=\"scale(1 1) rotate(0) translate(4 298)\">\n",
       "<title>G</title>\n",
       "<polygon fill=\"#ffffff\" stroke=\"transparent\" points=\"-4,4 -4,-298 159.6226,-298 159.6226,4 -4,4\"/>\n",
       "<!-- 0 -->\n",
       "<g id=\"node1\" class=\"node\">\n",
       "<title>0</title>\n",
       "<text text-anchor=\"middle\" x=\"53\" y=\"-271.8\" font-family=\"Times,serif\" font-size=\"14.00\" fill=\"#000000\">0 (None)</text>\n",
       "</g>\n",
       "<!-- 2 -->\n",
       "<g id=\"node2\" class=\"node\">\n",
       "<title>2</title>\n",
       "<text text-anchor=\"middle\" x=\"53\" y=\"-185.8\" font-family=\"Times,serif\" font-size=\"14.00\" fill=\"#000000\">2 (saw)</text>\n",
       "</g>\n",
       "<!-- 0&#45;&gt;2 -->\n",
       "<g id=\"edge1\" class=\"edge\">\n",
       "<title>0&#45;&gt;2</title>\n",
       "<path fill=\"none\" stroke=\"#000000\" d=\"M53,-257.7616C53,-246.3597 53,-231.4342 53,-218.494\"/>\n",
       "<polygon fill=\"#000000\" stroke=\"#000000\" points=\"56.5001,-218.2121 53,-208.2121 49.5001,-218.2121 56.5001,-218.2121\"/>\n",
       "<text text-anchor=\"middle\" x=\"64.2759\" y=\"-228.8\" font-family=\"Times,serif\" font-size=\"14.00\" fill=\"#000000\">root</text>\n",
       "</g>\n",
       "<!-- 1 -->\n",
       "<g id=\"node3\" class=\"node\">\n",
       "<title>1</title>\n",
       "<text text-anchor=\"middle\" x=\"27\" y=\"-99.8\" font-family=\"Times,serif\" font-size=\"14.00\" fill=\"#000000\">1 (I)</text>\n",
       "</g>\n",
       "<!-- 2&#45;&gt;1 -->\n",
       "<g id=\"edge2\" class=\"edge\">\n",
       "<title>2&#45;&gt;1</title>\n",
       "<path fill=\"none\" stroke=\"#000000\" d=\"M47.4861,-171.7616C44.0045,-160.2456 39.4363,-145.1353 35.4973,-132.1064\"/>\n",
       "<polygon fill=\"#000000\" stroke=\"#000000\" points=\"38.7502,-130.7713 32.506,-122.2121 32.0497,-132.7971 38.7502,-130.7713\"/>\n",
       "<text text-anchor=\"middle\" x=\"57.1689\" y=\"-142.8\" font-family=\"Times,serif\" font-size=\"14.00\" fill=\"#000000\">nsubj</text>\n",
       "</g>\n",
       "<!-- 4 -->\n",
       "<g id=\"node4\" class=\"node\">\n",
       "<title>4</title>\n",
       "<text text-anchor=\"middle\" x=\"114\" y=\"-99.8\" font-family=\"Times,serif\" font-size=\"14.00\" fill=\"#000000\">4 (elephant)</text>\n",
       "</g>\n",
       "<!-- 2&#45;&gt;4 -->\n",
       "<g id=\"edge3\" class=\"edge\">\n",
       "<title>2&#45;&gt;4</title>\n",
       "<path fill=\"none\" stroke=\"#000000\" d=\"M65.9365,-171.7616C74.4283,-159.7896 85.6756,-143.9328 95.1549,-130.5685\"/>\n",
       "<polygon fill=\"#000000\" stroke=\"#000000\" points=\"98.1514,-132.3935 101.0821,-122.2121 92.4419,-128.3437 98.1514,-132.3935\"/>\n",
       "<text text-anchor=\"middle\" x=\"99.4448\" y=\"-142.8\" font-family=\"Times,serif\" font-size=\"14.00\" fill=\"#000000\">dobj</text>\n",
       "</g>\n",
       "<!-- 3 -->\n",
       "<g id=\"node5\" class=\"node\">\n",
       "<title>3</title>\n",
       "<text text-anchor=\"middle\" x=\"114\" y=\"-13.8\" font-family=\"Times,serif\" font-size=\"14.00\" fill=\"#000000\">3 (an)</text>\n",
       "</g>\n",
       "<!-- 4&#45;&gt;3 -->\n",
       "<g id=\"edge4\" class=\"edge\">\n",
       "<title>4&#45;&gt;3</title>\n",
       "<path fill=\"none\" stroke=\"#000000\" d=\"M114,-85.7616C114,-74.3597 114,-59.4342 114,-46.494\"/>\n",
       "<polygon fill=\"#000000\" stroke=\"#000000\" points=\"117.5001,-46.2121 114,-36.2121 110.5001,-46.2121 117.5001,-46.2121\"/>\n",
       "<text text-anchor=\"middle\" x=\"122.5518\" y=\"-56.8\" font-family=\"Times,serif\" font-size=\"14.00\" fill=\"#000000\">det</text>\n",
       "</g>\n",
       "</g>\n",
       "</svg>\n"
      ],
      "text/plain": [
       "<DependencyGraph with 5 nodes>"
      ]
     },
     "execution_count": 28,
     "metadata": {},
     "output_type": "execute_result"
    }
   ],
   "source": [
    "parse"
   ]
  },
  {
   "cell_type": "markdown",
   "metadata": {},
   "source": [
    "---\n",
    "# Hausaufgabe"
   ]
  },
  {
   "cell_type": "markdown",
   "metadata": {},
   "source": [
    "---\n",
    "## Aufgabe 10: Troubleshooting\n",
    "\n",
    "Vergewissern Sie sich, dass Sie für das nächste Mal eine funktionierende Installation zur Verfügung haben, und betreiben Sie ggf. Troubleshooting. \n",
    "\n",
    "Informieren Sie sich auch im NLTK-Kapitel 1.2 ('Getting Started with NLTK'):\n",
    "- http://www.nltk.org/book/ch01.html\n",
    "\n",
    "sowie im Vorwort:\n",
    "- http://www.nltk.org/book/ch00.html ('Software Requirements', etc.).\n"
   ]
  },
  {
   "cell_type": "markdown",
   "metadata": {},
   "source": [
    "---\n",
    "## Aufgabe 11:  Verwendung git\n",
    "\n",
    "Die Inhalte von Vorlesung und Übung werden über Github zur Verfügung gestellt und können über die Weboberfläche eingesehen und heruntergeladen werden. Ein lokales Klonen und regelmäßiges Updaten mit git erleichtert aber das Beziehen der Dateien, insbesondere bzgl. der interaktiven Aufgaben, da diese zusätzliche Konfigurationsdateien benötigen, die so automatisch heruntergeladen werden.\n",
    "\n",
    "Machen Sie sich mit der Verwendung von git vertraut und installieren Sie ggf. einen git-Client.\n"
   ]
  }
 ],
 "metadata": {
  "kernelspec": {
   "display_name": "Python 3",
   "language": "python",
   "name": "python3"
  },
  "language_info": {
   "codemirror_mode": {
    "name": "ipython",
    "version": 3
   },
   "file_extension": ".py",
   "mimetype": "text/x-python",
   "name": "python",
   "nbconvert_exporter": "python",
   "pygments_lexer": "ipython3",
   "version": "3.6.1"
  },
  "widgets": {
   "application/vnd.jupyter.widget-state+json": {
    "state": {
     "993ec756027845c19085347ca5f9f6ce": {
      "model_module": "@jupyter-widgets/controls",
      "model_module_version": "1.2.0",
      "model_name": "SliderStyleModel",
      "state": {
       "description_width": ""
      }
     },
     "cb4a4abdac584f78ac3b37579ac33b10": {
      "model_module": "@jupyter-widgets/controls",
      "model_module_version": "1.2.0",
      "model_name": "IntSliderModel",
      "state": {
       "layout": "IPY_MODEL_f25c2eb22704411b9981f8047a2c0182",
       "style": "IPY_MODEL_993ec756027845c19085347ca5f9f6ce",
       "value": 50
      }
     },
     "f25c2eb22704411b9981f8047a2c0182": {
      "model_module": "@jupyter-widgets/base",
      "model_module_version": "1.0.0",
      "model_name": "LayoutModel",
      "state": {}
     }
    },
    "version_major": 2,
    "version_minor": 0
   }
  }
 },
 "nbformat": 4,
 "nbformat_minor": 2
}
