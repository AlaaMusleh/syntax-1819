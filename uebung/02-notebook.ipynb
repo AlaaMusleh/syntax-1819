{
 "cells": [
  {
   "cell_type": "markdown",
   "metadata": {},
   "source": [
    "***Vorlesung 'Syntax natürlicher Sprachen', WS 2018/19***\n",
    "\n",
    "---\n",
    "# Übung 2"
   ]
  },
  {
   "cell_type": "code",
   "execution_count": 1,
   "metadata": {},
   "outputs": [],
   "source": [
    "from IPython.display import display\n",
    "from excercises_2 import *\n",
    "from questions import aufgabe"
   ]
  },
  {
   "cell_type": "markdown",
   "metadata": {},
   "source": [
    "---\n",
    "## Aufgabe 1:  Eine erste syntaktische Analyse\n",
    "\n",
    "#### Kreieren Sie Ihre ersten Syntaxbäume, indem Sie das folgende Python-Skript ausführen. Beantworten Sie im Anschluss die zugehörigen Fragen!"
   ]
  },
  {
   "cell_type": "code",
   "execution_count": 2,
   "metadata": {},
   "outputs": [
    {
     "name": "stdout",
     "output_type": "stream",
     "text": [
      "(S\n",
      "  (NP I)\n",
      "  (VP\n",
      "    (VP (V shot) (NP (Det an) (N elephant)))\n",
      "    (PP (P in) (NP (Det my) (N pajamas)))))\n"
     ]
    },
    {
     "data": {
      "image/png": "[encoded data removed]",
      "text/plain": [
       "Tree('S', [Tree('NP', ['I']), Tree('VP', [Tree('VP', [Tree('V', ['shot']), Tree('NP', [Tree('Det', ['an']), Tree('N', ['elephant'])])]), Tree('PP', [Tree('P', ['in']), Tree('NP', [Tree('Det', ['my']), Tree('N', ['pajamas'])])])])])"
      ]
     },
     "metadata": {},
     "output_type": "display_data"
    },
    {
     "name": "stdout",
     "output_type": "stream",
     "text": [
      "(S\n",
      "  (NP I)\n",
      "  (VP\n",
      "    (V shot)\n",
      "    (NP (Det an) (N elephant) (PP (P in) (NP (Det my) (N pajamas))))))\n"
     ]
    },
    {
     "data": {
      "image/png": "[encoded data removed]",
      "text/plain": [
       "Tree('S', [Tree('NP', ['I']), Tree('VP', [Tree('V', ['shot']), Tree('NP', [Tree('Det', ['an']), Tree('N', ['elephant']), Tree('PP', [Tree('P', ['in']), Tree('NP', [Tree('Det', ['my']), Tree('N', ['pajamas'])])])])])])"
      ]
     },
     "metadata": {},
     "output_type": "display_data"
    }
   ],
   "source": [
    "import nltk\n",
    "\n",
    "grammar = nltk.CFG.fromstring(\"\"\"\n",
    "    S -> NP VP\n",
    "    PP -> P NP\n",
    "    NP -> Det N | Det N PP | 'I'\n",
    "    VP -> V NP | VP PP\n",
    "    Det -> 'an' | 'my'\n",
    "    N -> 'elephant' | 'pajamas'\n",
    "    V -> 'shot'\n",
    "    P -> 'in'\n",
    "\"\"\")\n",
    "\n",
    "parser = nltk.ChartParser(grammar)\n",
    "sent = \"I shot an elephant in my pajamas\".split()\n",
    "for tree in parser.parse(sent):\n",
    "    print(tree)\n",
    "    display(tree)"
   ]
  },
  {
   "cell_type": "markdown",
   "metadata": {},
   "source": [
    "---\n",
    "###  Aufgabe 1 a:"
   ]
  },
  {
   "cell_type": "code",
   "execution_count": 3,
   "metadata": {},
   "outputs": [
    {
     "data": {
      "application/vnd.jupyter.widget-view+json": {
       "model_id": "82edb79d2dd44ffb9a004ef518c94c07",
       "version_major": 2,
       "version_minor": 0
      },
      "text/plain": [
       "SingleChoice(children=(HTML(value='<h4 style=\"font-size:14px;\">Warum gibt die parse-Funktion des Skripts vermu…"
      ]
     },
     "metadata": {},
     "output_type": "display_data"
    },
    {
     "data": {
      "application/vnd.jupyter.widget-view+json": {
       "model_id": "6d206d4ee50e48288014c577b7e13a98",
       "version_major": 2,
       "version_minor": 0
      },
      "text/plain": [
       "SingleChoice(children=(HTML(value='<h4 style=\"font-size:14px;\">Die Alternative <code>tree = parser.parse(sent)…"
      ]
     },
     "metadata": {},
     "output_type": "display_data"
    }
   ],
   "source": [
    "aufgabe(blatt2_1a)"
   ]
  },
  {
   "cell_type": "markdown",
   "metadata": {},
   "source": [
    "---\n",
    "###  Aufgabe 1 b:\n",
    "\n",
    "#### Worin liegen die Unterschiede zwischen den ausgegebenen Bäumen? Beantworten Sie dazu folgende Frage."
   ]
  },
  {
   "cell_type": "code",
   "execution_count": 4,
   "metadata": {
    "scrolled": true
   },
   "outputs": [
    {
     "data": {
      "application/vnd.jupyter.widget-view+json": {
       "model_id": "a07241bbee774d958e34b8842c5726f0",
       "version_major": 2,
       "version_minor": 0
      },
      "text/plain": [
       "MultipleChoice(children=(HTML(value='<h4 style=\"font-size:14px;\">Zu welcher Phrase kann die Präpositionalphras…"
      ]
     },
     "metadata": {},
     "output_type": "display_data"
    }
   ],
   "source": [
    "aufgabe(blatt2_1b)"
   ]
  },
  {
   "cell_type": "markdown",
   "metadata": {},
   "source": [
    "___\n",
    "### Aufgabe 1 c:\n",
    "\n",
    "#### Warum ist der gegebene Satz \"I shot an elephant in my pajamas\" syntaktisch ambig? Beantworten Sie dazu folgende Fragen."
   ]
  },
  {
   "cell_type": "code",
   "execution_count": 5,
   "metadata": {
    "scrolled": true
   },
   "outputs": [
    {
     "data": {
      "application/vnd.jupyter.widget-view+json": {
       "model_id": "5f9ff872fe3a4f6da68cdc6bbb424680",
       "version_major": 2,
       "version_minor": 0
      },
      "text/plain": [
       "SelectionList(children=(HTML(value='<h4 style=\"font-size:14px;\">Was ist der Fall, wenn die PP ein Adverbial is…"
      ]
     },
     "metadata": {},
     "output_type": "display_data"
    },
    {
     "data": {
      "application/vnd.jupyter.widget-view+json": {
       "model_id": "1738b8b99e214e8ba2378aa5543cfedf",
       "version_major": 2,
       "version_minor": 0
      },
      "text/plain": [
       "SelectionList(children=(HTML(value='<h4 style=\"font-size:14px;\">Was ist der Fall, wenn die PP ein Attribut ist…"
      ]
     },
     "metadata": {},
     "output_type": "display_data"
    }
   ],
   "source": [
    "aufgabe(blatt2_1c)"
   ]
  },
  {
   "cell_type": "markdown",
   "metadata": {},
   "source": [
    "---\n",
    "## Aufgabe 2: Was ist Grammatik?\n",
    "\n",
    "#### Gegeben sind folgende Sätze:\n",
    "1. Die Grammatik des Lateinischen ist schwer. Vor allem die Syntax bereitet Schwierigkeiten.\n",
    "2. Der Duden ist eine Grammatik.\n",
    "3. Der Begründer der Dependenzgrammatik ist Lucien Tesnière.\n"
   ]
  },
  {
   "cell_type": "markdown",
   "metadata": {},
   "source": [
    "---\n",
    "### Aufgabe 2 a:\n",
    "\n",
    "#### Erläutern Sie die drei Grammatikbegriffe, die den folgenden Sätzen zugrunde liegen. Beantworten Sie dazu folgende Fragen."
   ]
  },
  {
   "cell_type": "code",
   "execution_count": 6,
   "metadata": {},
   "outputs": [
    {
     "data": {
      "application/vnd.jupyter.widget-view+json": {
       "model_id": "8f98ea1053f4427ba7a031f444675be4",
       "version_major": 2,
       "version_minor": 0
      },
      "text/plain": [
       "SingleChoice(children=(HTML(value='<h4 style=\"font-size:14px;\">Welcher Grammatikbegriff liegt Satz 1 zugrunde?…"
      ]
     },
     "metadata": {},
     "output_type": "display_data"
    },
    {
     "data": {
      "application/vnd.jupyter.widget-view+json": {
       "model_id": "db7799be47244a4fac0525c45eceac80",
       "version_major": 2,
       "version_minor": 0
      },
      "text/plain": [
       "SingleChoice(children=(HTML(value='<h4 style=\"font-size:14px;\">Welcher Grammatikbegriff liegt Satz 2 zugrunde?…"
      ]
     },
     "metadata": {},
     "output_type": "display_data"
    },
    {
     "data": {
      "application/vnd.jupyter.widget-view+json": {
       "model_id": "5fbf8381b76b43ed89d821262a54e39d",
       "version_major": 2,
       "version_minor": 0
      },
      "text/plain": [
       "SingleChoice(children=(HTML(value='<h4 style=\"font-size:14px;\">Welcher Grammatikbegriff liegt Satz 3 zugrunde?…"
      ]
     },
     "metadata": {},
     "output_type": "display_data"
    }
   ],
   "source": [
    "aufgabe(blatt2_2a)"
   ]
  },
  {
   "cell_type": "markdown",
   "metadata": {},
   "source": [
    "---\n",
    "### Aufgabe 2 b:\n",
    "\n",
    "#### Zeigen Sie am Beispiel von Satz 1 den Unterschied zwischen Grammatik und Syntax auf.  Beantworten Sie dazu folgende Fragen."
   ]
  },
  {
   "cell_type": "code",
   "execution_count": 7,
   "metadata": {},
   "outputs": [
    {
     "data": {
      "application/vnd.jupyter.widget-view+json": {
       "model_id": "34a320ab5f6c4005967bbc8f90fa5a77",
       "version_major": 2,
       "version_minor": 0
      },
      "text/plain": [
       "MultipleChoice(children=(HTML(value='<h4 style=\"font-size:14px;\">Welche Gesetzmäßigkeiten umfasst die Grammati…"
      ]
     },
     "metadata": {},
     "output_type": "display_data"
    },
    {
     "data": {
      "application/vnd.jupyter.widget-view+json": {
       "model_id": "5e2d30c9bd214dd68d7b5c2eeed0f46c",
       "version_major": 2,
       "version_minor": 0
      },
      "text/plain": [
       "Lueckentext(children=(HTML(value='<i>Vervollständigen Sie den Lückentext: </i>', layout=Layout(justify_content…"
      ]
     },
     "metadata": {},
     "output_type": "display_data"
    }
   ],
   "source": [
    "aufgabe(blatt2_2b)"
   ]
  },
  {
   "cell_type": "markdown",
   "metadata": {},
   "source": [
    "---\n",
    "## Aufgabe 3: Linguistische Strukturbeschreibung"
   ]
  },
  {
   "cell_type": "markdown",
   "metadata": {},
   "source": [
    "---\n",
    "### Aufgabe 3 a:\n"
   ]
  },
  {
   "cell_type": "code",
   "execution_count": 8,
   "metadata": {
    "scrolled": false
   },
   "outputs": [
    {
     "data": {
      "application/vnd.jupyter.widget-view+json": {
       "model_id": "00ed97cae7b14c4e8534d053277a30ef",
       "version_major": 2,
       "version_minor": 0
      },
      "text/plain": [
       "MultipleChoice(children=(HTML(value='<h4 style=\"font-size:14px;\">Welche Hierachie-Ebenen lassen sich in der Be…"
      ]
     },
     "metadata": {},
     "output_type": "display_data"
    }
   ],
   "source": [
    "aufgabe(blatt2_3a)"
   ]
  },
  {
   "cell_type": "markdown",
   "metadata": {},
   "source": [
    "---\n",
    "### Aufgabe 3 b:\n",
    "\n",
    "#### Wo liegt der Unterschied zwischen dem Wortbegriff einer natürlichen Sprache und dem Wortbegriff einer formalen Sprache?\n",
    "(Was sind die Blätter des Syntaxbaums einer Ableitung eines natürlichsprachlichen Satzes in einer die Sprache modellierenden formalen Grammatik?)"
   ]
  },
  {
   "cell_type": "code",
   "execution_count": 9,
   "metadata": {
    "scrolled": true
   },
   "outputs": [
    {
     "data": {
      "application/vnd.jupyter.widget-view+json": {
       "model_id": "e5204e132ec44fcba6bfae258dc65e35",
       "version_major": 2,
       "version_minor": 0
      },
      "text/plain": [
       "Lueckentext(children=(HTML(value='<i>Vervollständigen Sie den Lückentext: </i>', layout=Layout(justify_content…"
      ]
     },
     "metadata": {},
     "output_type": "display_data"
    }
   ],
   "source": [
    "aufgabe(blatt2_3b)"
   ]
  },
  {
   "cell_type": "markdown",
   "metadata": {},
   "source": [
    "---\n",
    "## Aufgabe 4: Darstellung syntaktischer Strukturen"
   ]
  },
  {
   "cell_type": "markdown",
   "metadata": {},
   "source": [
    "---\n",
    "### Aufgabe 4 a:"
   ]
  },
  {
   "cell_type": "code",
   "execution_count": 10,
   "metadata": {
    "scrolled": false
   },
   "outputs": [
    {
     "data": {
      "application/vnd.jupyter.widget-view+json": {
       "model_id": "9005a03bd7f64824ab4636c5d1c79115",
       "version_major": 2,
       "version_minor": 0
      },
      "text/plain": [
       "MultipleChoice(children=(HTML(value='<h4 style=\"font-size:14px;\">Welche formalen Repräsentationen der syntakti…"
      ]
     },
     "metadata": {},
     "output_type": "display_data"
    }
   ],
   "source": [
    "aufgabe(blatt2_4a)"
   ]
  },
  {
   "cell_type": "markdown",
   "metadata": {},
   "source": [
    "---\n",
    "### Aufgabe 4 b:\n",
    "\n",
    "#### Wie kann eine solche Struktur dargestellt werden? Beantworten Sie dazu folgende Fragen."
   ]
  },
  {
   "cell_type": "code",
   "execution_count": 11,
   "metadata": {},
   "outputs": [
    {
     "data": {
      "application/vnd.jupyter.widget-view+json": {
       "model_id": "398a3a24a9074e209da0ea56b9bf90b6",
       "version_major": 2,
       "version_minor": 0
      },
      "text/plain": [
       "SingleChoice(children=(HTML(value='<h4 style=\"font-size:14px;\">In welcher Form wird die syntaktische Struktur …"
      ]
     },
     "metadata": {},
     "output_type": "display_data"
    },
    {
     "data": {
      "application/vnd.jupyter.widget-view+json": {
       "model_id": "8d9df0cc89c64ed0ae9f2e034ea4f361",
       "version_major": 2,
       "version_minor": 0
      },
      "text/plain": [
       "SingleChoice(children=(HTML(value='<h4 style=\"font-size:14px;\">In welcher Form wird die syntaktische Struktur …"
      ]
     },
     "metadata": {},
     "output_type": "display_data"
    }
   ],
   "source": [
    "aufgabe(blatt2_4b)"
   ]
  },
  {
   "cell_type": "markdown",
   "metadata": {},
   "source": [
    "---\n",
    "### Aufgabe 4 c:\n",
    " \n",
    "#### Geben Sie zu folgendem Syntaxbaum den Klammerausdruck an (für den Fall, dass der Elefant den Pyjama trägt):"
   ]
  },
  {
   "cell_type": "code",
   "execution_count": 12,
   "metadata": {
    "scrolled": true
   },
   "outputs": [
    {
     "name": "stdout",
     "output_type": "stream",
     "text": [
      "         I-shot-an-elepha                                                \n",
      "         nt-in-my-pajamas                                                \n",
      " ┌──────────────┴─────────────────┐                                       \n",
      " │                        shot-an-elephant-                              \n",
      " │                          in-my-pajamas                                \n",
      " │   ┌────────────────────────────┴────────────────┐                      \n",
      " │   │                                      an-elephant-in-              \n",
      " │   │                                         my-pajamas                \n",
      " │   │                            ┌────────────────┴──────────────┐       \n",
      " I  shot                     an-elephant                    in-my-pajamas\n",
      "\n"
     ]
    }
   ],
   "source": [
    "from nltk import Tree\n",
    "tree = Tree.fromstring(blatt2_4c_tree)\n",
    "tree.pretty_print(unicodelines=True)"
   ]
  },
  {
   "cell_type": "code",
   "execution_count": 13,
   "metadata": {},
   "outputs": [
    {
     "name": "stdout",
     "output_type": "stream",
     "text": [
      "     X     \n",
      " ┌───┴───┐  \n",
      " Y       Z \n",
      "\n"
     ]
    }
   ],
   "source": [
    "tree = Tree.fromstring(\"\"\"\n",
    "(X\n",
    "  Y\n",
    "  Z\n",
    ")\n",
    "\"\"\")\n",
    "\n",
    "tree.pretty_print(unicodelines=True)"
   ]
  },
  {
   "cell_type": "markdown",
   "metadata": {},
   "source": [
    "---\n",
    "### Aufgabe 4 d:\n",
    "\n",
    "#### Geben Sie zu folgendem Klammerausdruck den Syntaxbaum an (wer trägt hier den Pyjama?)\n",
    "\n",
    "*[ [I] [ [ [shot] [an elephant] ] [in my pajamas] ] ]*"
   ]
  },
  {
   "cell_type": "code",
   "execution_count": 14,
   "metadata": {},
   "outputs": [
    {
     "name": "stdout",
     "output_type": "stream",
     "text": [
      "     X     \n",
      " ┌───┴───┐  \n",
      " Y       Z \n",
      "\n"
     ]
    }
   ],
   "source": [
    "tree = Tree.fromstring(\"\"\"\n",
    "(X\n",
    "  Y\n",
    "  Z\n",
    ")\n",
    "\"\"\")\n",
    "\n",
    "tree.pretty_print(unicodelines=True)"
   ]
  },
  {
   "cell_type": "markdown",
   "metadata": {},
   "source": [
    "--- \n",
    "# Hausaufgaben"
   ]
  },
  {
   "cell_type": "markdown",
   "metadata": {},
   "source": [
    "---\n",
    "## Aufgabe 5: Ambiguität\n",
    "\n",
    "\n",
    "#### Sehen Sie sich die folgenden englischen Sätze an. Können Sie sich jeweils zwei unterschiedliche Interpretationen vorstellen?\n",
    "\n",
    "- *Fighting animals could be dangerous.*\n",
    "- *Visiting relatives can be tiresome.*\n",
    "\n",
    "#### Beantworten Sie insbesondere die Frage nach dem Ursprung der Ambiguität:\n",
    "- Lexikalische Ambiguität der einzelnen Wörter?\n",
    "- Morphologisch ambige Formen?\n",
    "- Andere Gründe?\n"
   ]
  },
  {
   "cell_type": "code",
   "execution_count": 15,
   "metadata": {
    "scrolled": false
   },
   "outputs": [
    {
     "data": {
      "application/vnd.jupyter.widget-view+json": {
       "model_id": "a2af4e3cdb76453c82ba3be6136a83bf",
       "version_major": 2,
       "version_minor": 0
      },
      "text/plain": [
       "SingleChoice(children=(HTML(value='<h4 style=\"font-size:14px;\">Was ist der Ursprung der Ambiguität?</h4>', lay…"
      ]
     },
     "metadata": {},
     "output_type": "display_data"
    },
    {
     "data": {
      "application/vnd.jupyter.widget-view+json": {
       "model_id": "63e868c2d905492a83b1f8bf65d10e2e",
       "version_major": 2,
       "version_minor": 0
      },
      "text/plain": [
       "MultipleChoice(children=(HTML(value='<h4 style=\"font-size:14px;\">In Bezug auf das Gerundium, welche Funktion k…"
      ]
     },
     "metadata": {},
     "output_type": "display_data"
    }
   ],
   "source": [
    "aufgabe(blatt2_5)"
   ]
  },
  {
   "cell_type": "markdown",
   "metadata": {},
   "source": [
    "---\n",
    "## Aufgabe 6: Fragen zu NLTK-Kapitel 8.1\n",
    "\n",
    "#### Lesen Sie das Vorwort von NLTK-Kapitel 8 sowie das Kapitel 8.1 (’Some Grammatical Dilemmas’):  http://www.nltk.org/book/ch08.html\n",
    "\n",
    "#### Beantworten sie insbesondere folgende Fragen: "
   ]
  },
  {
   "cell_type": "markdown",
   "metadata": {},
   "source": [
    "---\n",
    "### Aufgabe 6 a:\n"
   ]
  },
  {
   "cell_type": "code",
   "execution_count": 16,
   "metadata": {
    "scrolled": false
   },
   "outputs": [
    {
     "data": {
      "application/vnd.jupyter.widget-view+json": {
       "model_id": "df3c3560152a465fb26d2572156d4ef6",
       "version_major": 2,
       "version_minor": 0
      },
      "text/plain": [
       "MultipleChoice(children=(HTML(value='<h4 style=\"font-size:14px;\">Hinsichtlich welcher syntaktischen Grundprinz…"
      ]
     },
     "metadata": {},
     "output_type": "display_data"
    },
    {
     "data": {
      "application/vnd.jupyter.widget-view+json": {
       "model_id": "fe6a156d1fec4e9ea5a5a7edcb2dee77",
       "version_major": 2,
       "version_minor": 0
      },
      "text/plain": [
       "SingleChoice(children=(HTML(value='<h4 style=\"font-size:14px;\">Konstituenz ist synonym zu:</h4>', layout=Layou…"
      ]
     },
     "metadata": {},
     "output_type": "display_data"
    },
    {
     "data": {
      "application/vnd.jupyter.widget-view+json": {
       "model_id": "065eef8c51684ea280c89d59e3af3b86",
       "version_major": 2,
       "version_minor": 0
      },
      "text/plain": [
       "SingleChoice(children=(HTML(value='<h4 style=\"font-size:14px;\">Dependenz ist synonym zu:</h4>', layout=Layout(…"
      ]
     },
     "metadata": {},
     "output_type": "display_data"
    }
   ],
   "source": [
    "aufgabe(blatt2_6a)"
   ]
  },
  {
   "cell_type": "markdown",
   "metadata": {},
   "source": [
    "---\n",
    "### Aufgabe 6 b:"
   ]
  },
  {
   "cell_type": "code",
   "execution_count": 17,
   "metadata": {
    "scrolled": false
   },
   "outputs": [
    {
     "data": {
      "application/vnd.jupyter.widget-view+json": {
       "model_id": "2f4cca115cda48209b15445f98eed4f7",
       "version_major": 2,
       "version_minor": 0
      },
      "text/plain": [
       "MultipleChoice(children=(HTML(value='<h4 style=\"font-size:14px;\">Mit welchen Mitteln werden natürliche Sprache…"
      ]
     },
     "metadata": {},
     "output_type": "display_data"
    }
   ],
   "source": [
    "aufgabe(blatt2_6b)"
   ]
  },
  {
   "cell_type": "markdown",
   "metadata": {},
   "source": [
    "---\n",
    "### Aufgabe 6 c:\n"
   ]
  },
  {
   "cell_type": "code",
   "execution_count": 18,
   "metadata": {
    "scrolled": false
   },
   "outputs": [
    {
     "data": {
      "application/vnd.jupyter.widget-view+json": {
       "model_id": "b8e2eb2b43134d619a7c621da731a2ad",
       "version_major": 2,
       "version_minor": 0
      },
      "text/plain": [
       "SingleChoice(children=(HTML(value='<h4 style=\"font-size:14px;\">Bei einer solchen Analyse wird welche ja/nein-E…"
      ]
     },
     "metadata": {},
     "output_type": "display_data"
    }
   ],
   "source": [
    "aufgabe(blatt2_6c)"
   ]
  },
  {
   "cell_type": "markdown",
   "metadata": {},
   "source": [
    "---\n",
    "### Aufgabe 6 d:\n"
   ]
  },
  {
   "cell_type": "code",
   "execution_count": 19,
   "metadata": {
    "scrolled": false
   },
   "outputs": [
    {
     "data": {
      "application/vnd.jupyter.widget-view+json": {
       "model_id": "869e393f94754ffd8827196aafc56623",
       "version_major": 2,
       "version_minor": 0
      },
      "text/plain": [
       "MultipleChoice(children=(HTML(value='<h4 style=\"font-size:14px;\">Welche Vorteile hat die Modellierung der Satz…"
      ]
     },
     "metadata": {},
     "output_type": "display_data"
    }
   ],
   "source": [
    "aufgabe(blatt2_6d)"
   ]
  }
 ],
 "metadata": {
  "kernelspec": {
   "display_name": "Python 3",
   "language": "python",
   "name": "python3"
  },
  "language_info": {
   "codemirror_mode": {
    "name": "ipython",
    "version": 3
   },
   "file_extension": ".py",
   "mimetype": "text/x-python",
   "name": "python",
   "nbconvert_exporter": "python",
   "pygments_lexer": "ipython3",
   "version": "3.6.1"
  },
  "widgets": {
   "application/vnd.jupyter.widget-state+json": {
    "state": {
     "003d4fa1ce2648e99bb1ab95d0b41f9b": {
      "model_module": "@jupyter-widgets/controls",
      "model_module_version": "1.2.0",
      "model_name": "VBoxModel",
      "state": {
       "children": [
        "IPY_MODEL_f3825f0cf20745da97cc43219325cc05",
        "IPY_MODEL_3470c8f8437648909a38fb190f8227dd",
        "IPY_MODEL_c5965b60e6834041b4babe0025f3362f",
        "IPY_MODEL_b7ae77b85fce48c1b0113efb2246dcab"
       ],
       "layout": "IPY_MODEL_213df333e0774846be32f14a830ae67e"
      }
     },
     "007cdb5e40b24970915e651c22cf2808": {
      "model_module": "@jupyter-widgets/controls",
      "model_module_version": "1.2.0",
      "model_name": "ButtonStyleModel",
      "state": {}
     },
     "0084601013a34463bc25f516954db024": {
      "model_module": "@jupyter-widgets/base",
      "model_module_version": "1.0.0",
      "model_name": "LayoutModel",
      "state": {}
     },
     "00bc5da4c6f14f1383dd513814edf6cb": {
      "model_module": "@jupyter-widgets/base",
      "model_module_version": "1.0.0",
      "model_name": "LayoutModel",
      "state": {
       "width": "250px"
      }
     },
     "00d244c9c1e1491fb857e449f6c014ac": {
      "model_module": "@jupyter-widgets/base",
      "model_module_version": "1.0.0",
      "model_name": "LayoutModel",
      "state": {}
     },
     "00ed97cae7b14c4e8534d053277a30ef": {
      "model_module": "@jupyter-widgets/controls",
      "model_module_version": "1.2.0",
      "model_name": "VBoxModel",
      "state": {
       "children": [
        "IPY_MODEL_dcf91dc3b03947df996f1eb98644bc2b",
        "IPY_MODEL_fcfb3d8cd5c4461a85a8b46576c2e0f5",
        "IPY_MODEL_b563d5a3f1da4b7f8a0b443812220ff5",
        "IPY_MODEL_9439e7ce21ae45008e2616e29672df14"
       ],
       "layout": "IPY_MODEL_881fb7267fbd40b182a02b97e813145d"
      }
     },
     "013a5bd3412d4324b638d46533764bcb": {
      "model_module": "@jupyter-widgets/controls",
      "model_module_version": "1.2.0",
      "model_name": "ButtonStyleModel",
      "state": {}
     },
     "0146e723906346238c6e8b613b5c34c3": {
      "model_module": "@jupyter-widgets/base",
      "model_module_version": "1.0.0",
      "model_name": "LayoutModel",
      "state": {
       "justify_content": "center"
      }
     },
     "018523ab421a48db83a1fb3d1b634e68": {
      "model_module": "@jupyter-widgets/controls",
      "model_module_version": "1.2.0",
      "model_name": "DescriptionStyleModel",
      "state": {
       "description_width": ""
      }
     },
     "018d2e35dd7e49d588fb55d416161f70": {
      "model_module": "@jupyter-widgets/base",
      "model_module_version": "1.0.0",
      "model_name": "LayoutModel",
      "state": {}
     },
     "01ddb0823dcf47348f1f9b64192b1adc": {
      "model_module": "@jupyter-widgets/controls",
      "model_module_version": "1.2.0",
      "model_name": "ButtonStyleModel",
      "state": {}
     },
     "01de99a656784ae797de2a2380d5d8fa": {
      "model_module": "@jupyter-widgets/base",
      "model_module_version": "1.0.0",
      "model_name": "LayoutModel",
      "state": {
       "width": "600px"
      }
     },
     "020c5c1b6fb54d73a745f490c8ae11f0": {
      "model_module": "@jupyter-widgets/base",
      "model_module_version": "1.0.0",
      "model_name": "LayoutModel",
      "state": {}
     },
     "0262a81474684033bbb17d24a68b9c96": {
      "model_module": "@jupyter-widgets/controls",
      "model_module_version": "1.2.0",
      "model_name": "DescriptionStyleModel",
      "state": {
       "description_width": ""
      }
     },
     "02638a691d5542f2a05dcec61e216c33": {
      "model_module": "@jupyter-widgets/controls",
      "model_module_version": "1.2.0",
      "model_name": "VBoxModel",
      "state": {
       "children": [
        "IPY_MODEL_77939b79fe43451c8470216bb9d910f0",
        "IPY_MODEL_f8e1a14041744a9d9abc2bbfafc9a172",
        "IPY_MODEL_1cb4f7a438204af2bdf35c38d726451b",
        "IPY_MODEL_a1d6c15a64574ff2adcaf9825dca84e7"
       ],
       "layout": "IPY_MODEL_1d0d00e94b374e65958d9b673d743f52"
      }
     },
     "02ec9311409d478e8f4dc9001fd31ffc": {
      "model_module": "@jupyter-widgets/controls",
      "model_module_version": "1.2.0",
      "model_name": "CheckboxModel",
      "state": {
       "description": "formale Grammatik",
       "disabled": false,
       "layout": "IPY_MODEL_8cb003ef701f4577b58b5068e51e6405",
       "style": "IPY_MODEL_36125bcdd3384446bd7c16f0480fefe5",
       "value": false
      }
     },
     "02ef5018a3654ba1912ee2e5ca9e7949": {
      "model_module": "@jupyter-widgets/controls",
      "model_module_version": "1.2.0",
      "model_name": "HTMLModel",
      "state": {
       "layout": "IPY_MODEL_2eec6b458b2f4aa7978d6d8f425ceacf",
       "style": "IPY_MODEL_f2145d034e7d45ec9499785a5fcee81b",
       "value": "<i>Markieren Sie <ins>alle</ins> passenden Antworten: </i>"
      }
     },
     "0346e2e27703482d8f0050697b6b9347": {
      "model_module": "@jupyter-widgets/base",
      "model_module_version": "1.0.0",
      "model_name": "LayoutModel",
      "state": {
       "justify_content": "center"
      }
     },
     "03472bdc5e144c3ea894eff78346a77b": {
      "model_module": "@jupyter-widgets/controls",
      "model_module_version": "1.2.0",
      "model_name": "HBoxModel",
      "state": {
       "children": [
        "IPY_MODEL_2c7864987cd34a2fb10d37450a61e4f2",
        "IPY_MODEL_27fa7231bd4342958f3130d08e31b1e5"
       ],
       "layout": "IPY_MODEL_3456c2e1754647888b4d91328d75d578"
      }
     },
     "036a45e6023447f6aefafc7c468115a2": {
      "model_module": "@jupyter-widgets/controls",
      "model_module_version": "1.2.0",
      "model_name": "CheckboxModel",
      "state": {
       "description": "Dependenzgraph",
       "disabled": false,
       "layout": "IPY_MODEL_d995338a57d044ab87750063a11df6aa",
       "style": "IPY_MODEL_b45b5e318e5a4d0fb8c66c12c96d60a9",
       "value": false
      }
     },
     "036fc419752849eda395c3cf212f343c": {
      "model_module": "@jupyter-widgets/base",
      "model_module_version": "1.0.0",
      "model_name": "LayoutModel",
      "state": {}
     },
     "03eeb8b0b76445fc8501fe8a3457015e": {
      "model_module": "@jupyter-widgets/base",
      "model_module_version": "1.0.0",
      "model_name": "LayoutModel",
      "state": {
       "justify_content": "center"
      }
     },
     "04ba59675abd491e9aa77360a5aa5c0b": {
      "model_module": "@jupyter-widgets/controls",
      "model_module_version": "1.2.0",
      "model_name": "HTMLModel",
      "state": {
       "layout": "IPY_MODEL_975d42c91a764abb8f2076a1cea440e1",
       "style": "IPY_MODEL_3a9ab830027e4a46853ac29f8f720a95",
       "value": "<i>Wählen Sie die <ins>eine</ins> korrekte Antwort aus: </i>"
      }
     },
     "053dbeb6999447d4beb68647b9fc1d45": {
      "model_module": "@jupyter-widgets/controls",
      "model_module_version": "1.2.0",
      "model_name": "ButtonModel",
      "state": {
       "description": "Regelbuch",
       "layout": "IPY_MODEL_e70b73df3f8f4858a281172e8bf16aa6",
       "style": "IPY_MODEL_dd11b60145e24bf6b06c052f18d1f870"
      }
     },
     "0589bc78a52a4caca0e7bad7da67730a": {
      "model_module": "@jupyter-widgets/controls",
      "model_module_version": "1.2.0",
      "model_name": "ButtonModel",
      "state": {
       "description": "morphologisch ambige Formen",
       "layout": "IPY_MODEL_89e2372ac87b40ccaf46da9959e620d7",
       "style": "IPY_MODEL_f489e8ff9ea44c30a2775c2cec0fa0e7"
      }
     },
     "05a285cf900f4abe92f2dc6d6dc89136": {
      "model_module": "@jupyter-widgets/base",
      "model_module_version": "1.0.0",
      "model_name": "LayoutModel",
      "state": {
       "justify_content": "center"
      }
     },
     "05a71a705cfb4446a66f0dd97bcd58fc": {
      "model_module": "@jupyter-widgets/controls",
      "model_module_version": "1.2.0",
      "model_name": "ButtonModel",
      "state": {
       "description": "Konstituenz",
       "layout": "IPY_MODEL_529503cd523749308f05fb5477e77dcd",
       "style": "IPY_MODEL_99916180b0c740fd89ab3f8041e49f14"
      }
     },
     "05ad3323bee94d59bddcfb2cf53a1ebc": {
      "model_module": "@jupyter-widgets/controls",
      "model_module_version": "1.2.0",
      "model_name": "ButtonStyleModel",
      "state": {}
     },
     "061e61d052954b07898fcdcb1e499ae4": {
      "model_module": "@jupyter-widgets/controls",
      "model_module_version": "1.2.0",
      "model_name": "DescriptionStyleModel",
      "state": {
       "description_width": ""
      }
     },
     "0643aca4d9f64ea9b38e132be96e6851": {
      "model_module": "@jupyter-widgets/base",
      "model_module_version": "1.0.0",
      "model_name": "LayoutModel",
      "state": {
       "justify_content": "center"
      }
     },
     "065eef8c51684ea280c89d59e3af3b86": {
      "model_module": "@jupyter-widgets/controls",
      "model_module_version": "1.2.0",
      "model_name": "VBoxModel",
      "state": {
       "children": [
        "IPY_MODEL_98dc149263a64c79abf10e1db8305402",
        "IPY_MODEL_4c8ae3eef15e45fa8beb4e159a15d9c8",
        "IPY_MODEL_72a7dadefd4f49888ac8a128a1577f8e",
        "IPY_MODEL_e05e25653b244775ab9d781a6a118dc8",
        "IPY_MODEL_d896eaef51d84c8f8d95252198649705"
       ],
       "layout": "IPY_MODEL_a7604e7927984edf92937e3259d0c21d"
      }
     },
     "068a831961144acaa077267e01b4f000": {
      "model_module": "@jupyter-widgets/base",
      "model_module_version": "1.0.0",
      "model_name": "LayoutModel",
      "state": {
       "width": "600px"
      }
     },
     "07213d66d02f4fe0930bd23112527194": {
      "model_module": "@jupyter-widgets/base",
      "model_module_version": "1.0.0",
      "model_name": "LayoutModel",
      "state": {
       "width": "600px"
      }
     },
     "07328ea108794e499405a9d69a382ffe": {
      "model_module": "@jupyter-widgets/controls",
      "model_module_version": "1.2.0",
      "model_name": "HTMLModel",
      "state": {
       "layout": "IPY_MODEL_b757279637484e37bbce3d9cbddbfe91",
       "style": "IPY_MODEL_776e5aab887f4fbbae8329fc7de6111c",
       "value": "<h4 style=\"font-size:14px;\">Konstituenz ist synonym zu:</h4>"
      }
     },
     "0757ccfd8fad4a928faf1c6786194b68": {
      "model_module": "@jupyter-widgets/controls",
      "model_module_version": "1.2.0",
      "model_name": "ButtonModel",
      "state": {
       "description": "Keine der anderen Möglichkeiten",
       "layout": "IPY_MODEL_e53221c9d3df4ee48d378951cd3cc854",
       "style": "IPY_MODEL_f5bd20784c894cefbb56372e0a569575"
      }
     },
     "07649b8d1d9b4496b7f10ed36d98e468": {
      "model_module": "@jupyter-widgets/controls",
      "model_module_version": "1.2.0",
      "model_name": "ButtonStyleModel",
      "state": {}
     },
     "0825156eab864d8f9ba4d47e2981ade0": {
      "model_module": "@jupyter-widgets/base",
      "model_module_version": "1.0.0",
      "model_name": "LayoutModel",
      "state": {
       "width": "250px"
      }
     },
     "0838b6fe8b9748cfb7a0d480a38bd116": {
      "model_module": "@jupyter-widgets/base",
      "model_module_version": "1.0.0",
      "model_name": "LayoutModel",
      "state": {}
     },
     "0876f60d07f2452696b9cb535da7318f": {
      "model_module": "@jupyter-widgets/base",
      "model_module_version": "1.0.0",
      "model_name": "LayoutModel",
      "state": {
       "width": "150px"
      }
     },
     "08a312aa43f3411781b92559b99372b3": {
      "model_module": "@jupyter-widgets/controls",
      "model_module_version": "1.2.0",
      "model_name": "ButtonModel",
      "state": {
       "description": "Phrasenstruktur",
       "layout": "IPY_MODEL_298a7a5a03834feeb426c13045125f13",
       "style": "IPY_MODEL_c7a5234a5a354316892224114a004b76"
      }
     },
     "092a6e3fab934c9a978e2521bb5f6249": {
      "model_module": "@jupyter-widgets/controls",
      "model_module_version": "1.2.0",
      "model_name": "DescriptionStyleModel",
      "state": {
       "description_width": ""
      }
     },
     "094599f0a30049fbaf0b8cc21fb5816e": {
      "model_module": "@jupyter-widgets/base",
      "model_module_version": "1.0.0",
      "model_name": "LayoutModel",
      "state": {
       "width": "500px"
      }
     },
     "097baa259ff44d189135aece2685903c": {
      "model_module": "@jupyter-widgets/controls",
      "model_module_version": "1.2.0",
      "model_name": "DescriptionStyleModel",
      "state": {
       "description_width": "initial"
      }
     },
     "099655e2b0e84767804f32b3fbd09fa0": {
      "model_module": "@jupyter-widgets/controls",
      "model_module_version": "1.2.0",
      "model_name": "DescriptionStyleModel",
      "state": {
       "description_width": ""
      }
     },
     "099f4d1c8a764af28aac79d2bcd3d239": {
      "model_module": "@jupyter-widgets/controls",
      "model_module_version": "1.2.0",
      "model_name": "DropdownModel",
      "state": {
       "_options_labels": [
        "Oberbegriff",
        "Synonym",
        "Teilbereich",
        " "
       ],
       "index": 3,
       "layout": "IPY_MODEL_229d34d75a034e8dad9b7aee5e858ba8",
       "style": "IPY_MODEL_b5e013f854164e5d8e786b33b7530909"
      }
     },
     "0a2bf6dfc7e648879adfbde3f69d1d48": {
      "model_module": "@jupyter-widgets/base",
      "model_module_version": "1.0.0",
      "model_name": "LayoutModel",
      "state": {}
     },
     "0a4bd3d446b04dc6a5b6a9761b67c8f6": {
      "model_module": "@jupyter-widgets/base",
      "model_module_version": "1.0.0",
      "model_name": "LayoutModel",
      "state": {}
     },
     "0a705da749cd4344a42b121ae2928c9a": {
      "model_module": "@jupyter-widgets/base",
      "model_module_version": "1.0.0",
      "model_name": "LayoutModel",
      "state": {
       "width": "150px"
      }
     },
     "0a8929b8aafc40e89379bebea27450a3": {
      "model_module": "@jupyter-widgets/controls",
      "model_module_version": "1.2.0",
      "model_name": "DescriptionStyleModel",
      "state": {
       "description_width": ""
      }
     },
     "0a9782fa9e4645939162b684d3fdb758": {
      "model_module": "@jupyter-widgets/base",
      "model_module_version": "1.0.0",
      "model_name": "LayoutModel",
      "state": {}
     },
     "0acf9d656d464ae6a6101e1a12c56f23": {
      "model_module": "@jupyter-widgets/controls",
      "model_module_version": "1.2.0",
      "model_name": "ButtonStyleModel",
      "state": {}
     },
     "0adcf60bdbe04a9cb425ff86bf277a30": {
      "model_module": "@jupyter-widgets/base",
      "model_module_version": "1.0.0",
      "model_name": "LayoutModel",
      "state": {}
     },
     "0ae13bc6711e4cc2a769484bd4b2dc76": {
      "model_module": "@jupyter-widgets/controls",
      "model_module_version": "1.2.0",
      "model_name": "ButtonModel",
      "state": {
       "description": "Keine der anderen Möglichkeiten",
       "layout": "IPY_MODEL_1d4a5fc1d4e14dbcbe9023277a0cbb30",
       "style": "IPY_MODEL_ef6b343dc83a4e67bc62dc3a8e48d447"
      }
     },
     "0b0e4a0096bc4cbbb51cd0361ac61eea": {
      "model_module": "@jupyter-widgets/base",
      "model_module_version": "1.0.0",
      "model_name": "LayoutModel",
      "state": {
       "width": "600px"
      }
     },
     "0b6f6c996d474af199dd553691561b6d": {
      "model_module": "@jupyter-widgets/controls",
      "model_module_version": "1.2.0",
      "model_name": "DescriptionStyleModel",
      "state": {
       "description_width": ""
      }
     },
     "0b9f14e5f6454e588fc269457e578dd6": {
      "model_module": "@jupyter-widgets/base",
      "model_module_version": "1.0.0",
      "model_name": "LayoutModel",
      "state": {}
     },
     "0ba967c2b3504c5e85c5de74fa0ad6e1": {
      "model_module": "@jupyter-widgets/controls",
      "model_module_version": "1.2.0",
      "model_name": "DescriptionStyleModel",
      "state": {
       "description_width": ""
      }
     },
     "0c0978d3259242ffb820bef17838faa7": {
      "model_module": "@jupyter-widgets/controls",
      "model_module_version": "1.2.0",
      "model_name": "ButtonModel",
      "state": {
       "description": "Wohlgeformtheit",
       "layout": "IPY_MODEL_6ce66cfa869b4fc580fe01c73384d6c9",
       "style": "IPY_MODEL_b8f6f411a7574cfe8670670f9472eff4"
      }
     },
     "0c0af69c11a34b6982e1096fb4430f2c": {
      "model_module": "@jupyter-widgets/base",
      "model_module_version": "1.0.0",
      "model_name": "LayoutModel",
      "state": {}
     },
     "0c92e2c5a77b48dcbc2711f7691558b0": {
      "model_module": "@jupyter-widgets/base",
      "model_module_version": "1.0.0",
      "model_name": "LayoutModel",
      "state": {}
     },
     "0cae697034874efca3ce72f27101252b": {
      "model_module": "@jupyter-widgets/base",
      "model_module_version": "1.0.0",
      "model_name": "LayoutModel",
      "state": {
       "width": "600px"
      }
     },
     "0d8ea5cfecf549f28a850cfdaef536c1": {
      "model_module": "@jupyter-widgets/controls",
      "model_module_version": "1.2.0",
      "model_name": "DescriptionStyleModel",
      "state": {
       "description_width": "initial"
      }
     },
     "0da3bcc01b8b48afbce0b2ba642a797e": {
      "model_module": "@jupyter-widgets/controls",
      "model_module_version": "1.2.0",
      "model_name": "HTMLModel",
      "state": {
       "layout": "IPY_MODEL_25b6a971a9a94144abbac88e10889141",
       "style": "IPY_MODEL_8dc68a551c6f4ea9983e2b46abbb6fa5",
       "value": "<i>Markieren Sie <ins>alle</ins> passenden Antworten: </i>"
      }
     },
     "0db53e841e9b473a88f622f8796ee9ca": {
      "model_module": "@jupyter-widgets/base",
      "model_module_version": "1.0.0",
      "model_name": "LayoutModel",
      "state": {
       "width": "250px"
      }
     },
     "0e19b66604a44e18844b15ef8e3fd9fb": {
      "model_module": "@jupyter-widgets/controls",
      "model_module_version": "1.2.0",
      "model_name": "DescriptionStyleModel",
      "state": {
       "description_width": ""
      }
     },
     "0e301134235648d9ada892eec85b25a1": {
      "model_module": "@jupyter-widgets/base",
      "model_module_version": "1.0.0",
      "model_name": "LayoutModel",
      "state": {}
     },
     "0e618aa67ec84efda62413814e954231": {
      "model_module": "@jupyter-widgets/controls",
      "model_module_version": "1.2.0",
      "model_name": "VBoxModel",
      "state": {
       "children": [
        "IPY_MODEL_865b0af7ff214064a79c2ae1443c829a",
        "IPY_MODEL_35e7d5ae14bb41349403e5810fd6e37d",
        "IPY_MODEL_1ec7e6de753d4645a9a21e1ef2702ce6",
        "IPY_MODEL_ad8e6b8847204cefb6090a5ba55953df",
        "IPY_MODEL_563227cf34a24ba1a3c2123c0c178724"
       ],
       "layout": "IPY_MODEL_2a9148de73c546e7a5eae4cd39f0a305"
      }
     },
     "0e6fa432d4164bca93cc26e7e28b1469": {
      "model_module": "@jupyter-widgets/controls",
      "model_module_version": "1.2.0",
      "model_name": "HTMLModel",
      "state": {
       "layout": "IPY_MODEL_76bfa9991f05470ebb3a6f91bd6ba187",
       "style": "IPY_MODEL_75acb82d9f4f4235b368364ddf422274",
       "value": "<i>Wählen Sie die <ins>eine</ins> korrekte Antwort aus: </i>"
      }
     },
     "0e818688742a492b95bd229f496518fb": {
      "model_module": "@jupyter-widgets/controls",
      "model_module_version": "1.2.0",
      "model_name": "DescriptionStyleModel",
      "state": {
       "description_width": ""
      }
     },
     "0e8dcf7530344242a636aa373b71f57b": {
      "model_module": "@jupyter-widgets/controls",
      "model_module_version": "1.2.0",
      "model_name": "ButtonStyleModel",
      "state": {}
     },
     "0f025d9189554156a3b4dcc44950db5a": {
      "model_module": "@jupyter-widgets/controls",
      "model_module_version": "1.2.0",
      "model_name": "CheckboxModel",
      "state": {
       "description": "direktes Objekt",
       "disabled": false,
       "layout": "IPY_MODEL_cc69d1d088094f0fb082123d613d877a",
       "style": "IPY_MODEL_83efd787fc614418928e81ceb3eb1c14",
       "value": false
      }
     },
     "0f34a2e26bb64306bcfe3332397fe907": {
      "model_module": "@jupyter-widgets/base",
      "model_module_version": "1.0.0",
      "model_name": "LayoutModel",
      "state": {
       "width": "250px"
      }
     },
     "0f7097adaf584af18cc145d32ea0ed76": {
      "model_module": "@jupyter-widgets/controls",
      "model_module_version": "1.2.0",
      "model_name": "VBoxModel",
      "state": {
       "children": [
        "IPY_MODEL_dc42b775b4544524b6a813c438e26da8",
        "IPY_MODEL_586a1a40bdd64dea99bc180b854f9ceb",
        "IPY_MODEL_5159a7e5fc824a129e05ee017d620308",
        "IPY_MODEL_95ca31e7be94482f89da65bfa560191b"
       ],
       "layout": "IPY_MODEL_ec34d14c43594128a7c592416729c987"
      }
     },
     "0f756934a8d44e11872561a90cefb62e": {
      "model_module": "@jupyter-widgets/controls",
      "model_module_version": "1.2.0",
      "model_name": "DescriptionStyleModel",
      "state": {
       "description_width": "initial"
      }
     },
     "0f7e14c837914b1e85b3da061b9222cb": {
      "model_module": "@jupyter-widgets/base",
      "model_module_version": "1.0.0",
      "model_name": "LayoutModel",
      "state": {
       "align_content": "stretch",
       "align_items": "stretch",
       "display": "inline-flex",
       "flex": "flex-grow",
       "flex_flow": "row wrap",
       "justify_content": "flex-start"
      }
     },
     "0fb67ee08b844712895d693a056919e4": {
      "model_module": "@jupyter-widgets/base",
      "model_module_version": "1.0.0",
      "model_name": "LayoutModel",
      "state": {
       "width": "250px"
      }
     },
     "10013176c692436cb65c1dc6ee7fd67c": {
      "model_module": "@jupyter-widgets/base",
      "model_module_version": "1.0.0",
      "model_name": "LayoutModel",
      "state": {}
     },
     "1014db22bad2416996a4f6e8a885ea23": {
      "model_module": "@jupyter-widgets/controls",
      "model_module_version": "1.2.0",
      "model_name": "VBoxModel",
      "state": {
       "children": [
        "IPY_MODEL_3fd5538c8d8643a5a08200456ad2aa0b",
        "IPY_MODEL_beb5030fa9594f05b18bcae6fedc972c",
        "IPY_MODEL_34986ad019d241f9b4b476cf59e81792",
        "IPY_MODEL_02ec9311409d478e8f4dc9001fd31ffc"
       ],
       "layout": "IPY_MODEL_0adcf60bdbe04a9cb425ff86bf277a30"
      }
     },
     "1020abd3cf6a4d9da67160b6b5b9bba4": {
      "model_module": "@jupyter-widgets/base",
      "model_module_version": "1.0.0",
      "model_name": "LayoutModel",
      "state": {}
     },
     "1042a46187144f8aaceab33c0a6afbab": {
      "model_module": "@jupyter-widgets/base",
      "model_module_version": "1.0.0",
      "model_name": "LayoutModel",
      "state": {}
     },
     "105f27c111e84eeaa3be35aeefb58082": {
      "model_module": "@jupyter-widgets/base",
      "model_module_version": "1.0.0",
      "model_name": "LayoutModel",
      "state": {
       "width": "250px"
      }
     },
     "1073b26e903f4cae8236e86dab6f34f3": {
      "model_module": "@jupyter-widgets/base",
      "model_module_version": "1.0.0",
      "model_name": "LayoutModel",
      "state": {}
     },
     "10a8df9d954d4c8fa76914f90532df1e": {
      "model_module": "@jupyter-widgets/controls",
      "model_module_version": "1.2.0",
      "model_name": "DescriptionStyleModel",
      "state": {
       "description_width": "initial"
      }
     },
     "10c61940e18d417ca6b7c92e19df1c2b": {
      "model_module": "@jupyter-widgets/controls",
      "model_module_version": "1.2.0",
      "model_name": "HBoxModel",
      "state": {
       "children": [
        "IPY_MODEL_08a312aa43f3411781b92559b99372b3",
        "IPY_MODEL_acd4c41bbb0f41258bc26c32bff86093"
       ],
       "layout": "IPY_MODEL_ca1693655aea4efaa35bc3d17a1c593f"
      }
     },
     "119ef0346eef461497a084756edf7eda": {
      "model_module": "@jupyter-widgets/base",
      "model_module_version": "1.0.0",
      "model_name": "LayoutModel",
      "state": {}
     },
     "11b00b1494194d18807a49f5b08a72ae": {
      "model_module": "@jupyter-widgets/base",
      "model_module_version": "1.0.0",
      "model_name": "LayoutModel",
      "state": {}
     },
     "11f2078bc88e441b99108b4906102698": {
      "model_module": "@jupyter-widgets/base",
      "model_module_version": "1.0.0",
      "model_name": "LayoutModel",
      "state": {
       "width": "600px"
      }
     },
     "121e223f56d140cdac929891460e1950": {
      "model_module": "@jupyter-widgets/controls",
      "model_module_version": "1.2.0",
      "model_name": "ButtonModel",
      "state": {
       "description": "Korrekt?",
       "layout": "IPY_MODEL_c4133eac8217476c824f9c9e4b226037",
       "style": "IPY_MODEL_2ff17437b90f47c883de669fbca699f9"
      }
     },
     "12435bc35b8c4d658ec7368e596720c9": {
      "model_module": "@jupyter-widgets/base",
      "model_module_version": "1.0.0",
      "model_name": "LayoutModel",
      "state": {
       "width": "600px"
      }
     },
     "1245ff2214a043c8816f5c5f3c643469": {
      "model_module": "@jupyter-widgets/controls",
      "model_module_version": "1.2.0",
      "model_name": "DescriptionStyleModel",
      "state": {
       "description_width": "initial"
      }
     },
     "1253311e2cde4db5b14ce9586559a90c": {
      "model_module": "@jupyter-widgets/controls",
      "model_module_version": "1.2.0",
      "model_name": "ButtonStyleModel",
      "state": {}
     },
     "12da78b110cf41faa4b638228a42b9f8": {
      "model_module": "@jupyter-widgets/controls",
      "model_module_version": "1.2.0",
      "model_name": "DescriptionStyleModel",
      "state": {
       "description_width": "initial"
      }
     },
     "136a02994dd6442788ad890039846451": {
      "model_module": "@jupyter-widgets/controls",
      "model_module_version": "1.2.0",
      "model_name": "ButtonModel",
      "state": {
       "description": "Wissen um Sprachstruktur",
       "layout": "IPY_MODEL_9378fdaf8789438e9c2d3fdda53d0552",
       "style": "IPY_MODEL_78153bab293e4df2b4b049e1acb74c9e"
      }
     },
     "13bf5c4ef22f47a0acee07851f17987a": {
      "model_module": "@jupyter-widgets/controls",
      "model_module_version": "1.2.0",
      "model_name": "ButtonModel",
      "state": {
       "description": "kein",
       "layout": "IPY_MODEL_caf2ee4487464bea9f3fcf97e9ac3c13",
       "style": "IPY_MODEL_8d06d96e77784966821bd9627a0e6c7d"
      }
     },
     "143247a2a26746b7ab78a05d2b83928e": {
      "model_module": "@jupyter-widgets/base",
      "model_module_version": "1.0.0",
      "model_name": "LayoutModel",
      "state": {
       "width": "600px"
      }
     },
     "143d0832d55e422eaf7d3c7ba6b173c9": {
      "model_module": "@jupyter-widgets/controls",
      "model_module_version": "1.2.0",
      "model_name": "VBoxModel",
      "state": {
       "children": [
        "IPY_MODEL_96f8c3ac26c846a692c0380cefc84933",
        "IPY_MODEL_b0466c6c514d46b0b28ed8a44d632f80",
        "IPY_MODEL_d25d54bbc0bf4593b54d3d22319c5d1a",
        "IPY_MODEL_b09a4f4fee9446f7a1a17fa207e59fb8"
       ],
       "layout": "IPY_MODEL_9aaf50784e34473f8f5bcac34c87e26c"
      }
     },
     "146cd41ac1da492fa8134a076c0e0d19": {
      "model_module": "@jupyter-widgets/controls",
      "model_module_version": "1.2.0",
      "model_name": "ButtonModel",
      "state": {
       "description": "Dependenz",
       "layout": "IPY_MODEL_d621f40785fa410cbd84dfbd492a00cc",
       "style": "IPY_MODEL_2e2bf04ff86a4c0d8c85476d64e999fb"
      }
     },
     "14d837b4d561451a8842268c8f3fa083": {
      "model_module": "@jupyter-widgets/controls",
      "model_module_version": "1.2.0",
      "model_name": "HTMLModel",
      "state": {
       "layout": "IPY_MODEL_9393565f720340b08284235209c0eda7",
       "style": "IPY_MODEL_6b05546bca414aa1ad4b8ec33a530b08",
       "value": "<h4 style=\"font-size:14px;\">Zu welcher Phrase kann die Präpositionalphrase \"in my pajamas\" gehören?</h4>"
      }
     },
     "1506fb60c4d046edb6dc2c362f5540bb": {
      "model_module": "@jupyter-widgets/base",
      "model_module_version": "1.0.0",
      "model_name": "LayoutModel",
      "state": {}
     },
     "158667e0ab954c9f8eed922e55767905": {
      "model_module": "@jupyter-widgets/base",
      "model_module_version": "1.0.0",
      "model_name": "LayoutModel",
      "state": {
       "width": "250px"
      }
     },
     "15abb5f31d35404791a1562e34cbfdd9": {
      "model_module": "@jupyter-widgets/controls",
      "model_module_version": "1.2.0",
      "model_name": "DescriptionStyleModel",
      "state": {
       "description_width": "initial"
      }
     },
     "1630e1424fb94d83a4783bd92935e35e": {
      "model_module": "@jupyter-widgets/base",
      "model_module_version": "1.0.0",
      "model_name": "LayoutModel",
      "state": {
       "justify_content": "center"
      }
     },
     "1738b8b99e214e8ba2378aa5543cfedf": {
      "model_module": "@jupyter-widgets/controls",
      "model_module_version": "1.2.0",
      "model_name": "VBoxModel",
      "state": {
       "children": [
        "IPY_MODEL_7ca4cd260f234757bf48825bcc54e3c7",
        "IPY_MODEL_dcde80d04ee54ace93df472956af5f13",
        "IPY_MODEL_e8c839317ed04f6a86872acdbd9b9584",
        "IPY_MODEL_4f9b740b815940cfa5e69cc833afdb41"
       ],
       "layout": "IPY_MODEL_9a45e65943054472ba7dc7a9865cd503"
      }
     },
     "17dd3dba97a44c1da77a7d26ec851246": {
      "model_module": "@jupyter-widgets/base",
      "model_module_version": "1.0.0",
      "model_name": "LayoutModel",
      "state": {
       "width": "250px"
      }
     },
     "184217359e97419b9dc258aa9cad05ce": {
      "model_module": "@jupyter-widgets/controls",
      "model_module_version": "1.2.0",
      "model_name": "VBoxModel",
      "state": {
       "children": [
        "IPY_MODEL_5fdbdfe4d3624dde8141393eaad0854e",
        "IPY_MODEL_2779c91a74fa498cb6f068891f131e51",
        "IPY_MODEL_e4b9d28db14847a38cd15fb2afa5c03c",
        "IPY_MODEL_836a2ed404b54995983839a772d76587"
       ],
       "layout": "IPY_MODEL_3a9d9d22dc89461683bf663795acb40c"
      }
     },
     "18a875dd7f1f4846a96b835a4bc99d9a": {
      "model_module": "@jupyter-widgets/controls",
      "model_module_version": "1.2.0",
      "model_name": "DropdownModel",
      "state": {
       "_options_labels": [
        "Keine der Alternativen",
        "der Ort des Geschehens wird festgelegt",
        "die PP wird dem Substantiv beigefügt",
        "die im Verb ausgedrückte Tätigkeit wird modifiziert"
       ],
       "description": "Antwort:",
       "index": 0,
       "layout": "IPY_MODEL_7d15458b2f224775b193ce566fa6353c",
       "style": "IPY_MODEL_bc5d5da8eff14e7497f1bbaccd0dba11"
      }
     },
     "18f91689547b4d1e836bc934df0b322c": {
      "model_module": "@jupyter-widgets/controls",
      "model_module_version": "1.2.0",
      "model_name": "HTMLModel",
      "state": {
       "layout": "IPY_MODEL_559738a61a6047f9863d2af2f5e9db5a",
       "style": "IPY_MODEL_74397c48676348378721cb847a34b7c8",
       "value": "<h4 style=\"font-size:14px;\">Welche formalen Repräsentationen der syntaktischen Struktur eines natürlichsprachlichen Satzes haben Sie in der Vorlesung kennengelernt?</h4>"
      }
     },
     "18fab6b3d7724abeb29fc359dba6a55c": {
      "model_module": "@jupyter-widgets/controls",
      "model_module_version": "1.2.0",
      "model_name": "HTMLModel",
      "state": {
       "layout": "IPY_MODEL_fbf759d75d8444fa81569e0efcbd8327",
       "style": "IPY_MODEL_82cff0e888384f9fb4781e26154c4754",
       "value": "<i>Wählen Sie die <ins>eine</ins> korrekte Antwort aus: </i>"
      }
     },
     "19444a50986c4dfcacefca455d9a9578": {
      "model_module": "@jupyter-widgets/controls",
      "model_module_version": "1.2.0",
      "model_name": "CheckboxModel",
      "state": {
       "description": "Phrasenstruktur",
       "disabled": false,
       "layout": "IPY_MODEL_74d43f2d897742aebfce89928e17f122",
       "style": "IPY_MODEL_e58cf2cea3ee4b829f64bc7b1bdf2d3b",
       "value": false
      }
     },
     "19cb6491e7d4449a80e9b82bd82196d1": {
      "model_module": "@jupyter-widgets/base",
      "model_module_version": "1.0.0",
      "model_name": "LayoutModel",
      "state": {
       "justify_content": "center"
      }
     },
     "19e7bccc55d94307811e699fe7837e2e": {
      "model_module": "@jupyter-widgets/controls",
      "model_module_version": "1.2.0",
      "model_name": "ButtonStyleModel",
      "state": {}
     },
     "19faca5c8dc04cda9953b83c85a07472": {
      "model_module": "@jupyter-widgets/controls",
      "model_module_version": "1.2.0",
      "model_name": "DescriptionStyleModel",
      "state": {
       "description_width": ""
      }
     },
     "1a2ff921cd604037bde7345720e8e418": {
      "model_module": "@jupyter-widgets/base",
      "model_module_version": "1.0.0",
      "model_name": "LayoutModel",
      "state": {}
     },
     "1a7cb69b4c72493e851868b187a5871e": {
      "model_module": "@jupyter-widgets/base",
      "model_module_version": "1.0.0",
      "model_name": "LayoutModel",
      "state": {
       "width": "250px"
      }
     },
     "1a94ce5d9b0f44f4b8c77642b6bb123b": {
      "model_module": "@jupyter-widgets/base",
      "model_module_version": "1.0.0",
      "model_name": "LayoutModel",
      "state": {
       "width": "250px"
      }
     },
     "1aa6b286558943b8a5cd6997e825d75d": {
      "model_module": "@jupyter-widgets/base",
      "model_module_version": "1.0.0",
      "model_name": "LayoutModel",
      "state": {}
     },
     "1ab576ad04cd4b6fbcdcdc5a9a54cd83": {
      "model_module": "@jupyter-widgets/base",
      "model_module_version": "1.0.0",
      "model_name": "LayoutModel",
      "state": {
       "width": "600px"
      }
     },
     "1ab5b4259744429a8f6b52c765085b65": {
      "model_module": "@jupyter-widgets/controls",
      "model_module_version": "1.2.0",
      "model_name": "DescriptionStyleModel",
      "state": {
       "description_width": ""
      }
     },
     "1b29d5a9393147449d465d35a8872b16": {
      "model_module": "@jupyter-widgets/controls",
      "model_module_version": "1.2.0",
      "model_name": "DescriptionStyleModel",
      "state": {
       "description_width": ""
      }
     },
     "1b4060202ae741c1b1696e40bdba3f54": {
      "model_module": "@jupyter-widgets/controls",
      "model_module_version": "1.2.0",
      "model_name": "HTMLModel",
      "state": {
       "layout": "IPY_MODEL_9fd865cec82a4d289e4997df6d72f49c",
       "style": "IPY_MODEL_ed968ed3343b46ffa9c0dc05a4ac44d2",
       "value": "<h4 style=\"font-size:14px;\">Welche Vorteile hat die Modellierung der Satzstruktur mit Hilfe einer formalen Grammatik?</h4>"
      }
     },
     "1b597574647a465789ff8ab24afadbb7": {
      "model_module": "@jupyter-widgets/controls",
      "model_module_version": "1.2.0",
      "model_name": "ButtonModel",
      "state": {
       "description": "Wortstruktur",
       "layout": "IPY_MODEL_105f27c111e84eeaa3be35aeefb58082",
       "style": "IPY_MODEL_f61305e023de4ba189ce6baeb7ae405f"
      }
     },
     "1b670773b956403b94385e58401c0279": {
      "model_module": "@jupyter-widgets/controls",
      "model_module_version": "1.2.0",
      "model_name": "ButtonStyleModel",
      "state": {}
     },
     "1b67f6662b9c47569f1e649f4acefc42": {
      "model_module": "@jupyter-widgets/controls",
      "model_module_version": "1.2.0",
      "model_name": "HBoxModel",
      "state": {
       "children": [
        "IPY_MODEL_f8393af89f9a48be8fb719bb72c16414",
        "IPY_MODEL_f441ce845fb5483a8e66b83abe8a82fc"
       ],
       "layout": "IPY_MODEL_1506fb60c4d046edb6dc2c362f5540bb"
      }
     },
     "1b8e2becc13b4929a12cd975065f8cd6": {
      "model_module": "@jupyter-widgets/controls",
      "model_module_version": "1.2.0",
      "model_name": "ButtonModel",
      "state": {
       "description": "Korrekt?",
       "layout": "IPY_MODEL_a01147473b674b96ab746530bb4cc135",
       "style": "IPY_MODEL_c312e55a0d7345ff9a1c981ca3a47333"
      }
     },
     "1ba9bfc329a749e3a9322223e93c3b3e": {
      "model_module": "@jupyter-widgets/base",
      "model_module_version": "1.0.0",
      "model_name": "LayoutModel",
      "state": {}
     },
     "1bd3c454c4b0456ab9b68fa5a6bf1689": {
      "model_module": "@jupyter-widgets/base",
      "model_module_version": "1.0.0",
      "model_name": "LayoutModel",
      "state": {
       "width": "250px"
      }
     },
     "1be0d1476409476bbf1c09ff2ebf987e": {
      "model_module": "@jupyter-widgets/base",
      "model_module_version": "1.0.0",
      "model_name": "LayoutModel",
      "state": {}
     },
     "1be783c63eb24031876d0a8a1a356060": {
      "model_module": "@jupyter-widgets/controls",
      "model_module_version": "1.2.0",
      "model_name": "ButtonModel",
      "state": {
       "description": "Korrekt?",
       "layout": "IPY_MODEL_c169219159db44108c9f0db2e8f5c55d",
       "style": "IPY_MODEL_4aa123e31ea1403faddd7a82467851e4"
      }
     },
     "1be96e508e984b0f9b7bd4ffc4e6674e": {
      "model_module": "@jupyter-widgets/controls",
      "model_module_version": "1.2.0",
      "model_name": "ButtonModel",
      "state": {
       "description": "Abhängigkeitsstruktur",
       "layout": "IPY_MODEL_d241b75794cb4f0ca23ac3eb0b1f4539",
       "style": "IPY_MODEL_7ebc96d192e04dc3b211275b35f5faa5"
      }
     },
     "1c43c40373cc461e9095a953af747ae9": {
      "model_module": "@jupyter-widgets/controls",
      "model_module_version": "1.2.0",
      "model_name": "DescriptionStyleModel",
      "state": {
       "description_width": "initial"
      }
     },
     "1c5cbc6092a84aeeb051f07771345874": {
      "model_module": "@jupyter-widgets/controls",
      "model_module_version": "1.2.0",
      "model_name": "DescriptionStyleModel",
      "state": {
       "description_width": "initial"
      }
     },
     "1c79457dead84dfca0cc97eab2476487": {
      "model_module": "@jupyter-widgets/base",
      "model_module_version": "1.0.0",
      "model_name": "LayoutModel",
      "state": {
       "justify_content": "center"
      }
     },
     "1cb4f7a438204af2bdf35c38d726451b": {
      "model_module": "@jupyter-widgets/controls",
      "model_module_version": "1.2.0",
      "model_name": "VBoxModel",
      "state": {
       "children": [
        "IPY_MODEL_a78198ccfda54abeb161c41e029d1edd",
        "IPY_MODEL_f3e36488128a424592d245952abe037d",
        "IPY_MODEL_9a221a6ee1cf4b50920dc96b03c362e7",
        "IPY_MODEL_2bbfce2ae31e4ebcb790e9b4227fd5f1"
       ],
       "layout": "IPY_MODEL_a74efcd56e4c4415874fafcb76c05848"
      }
     },
     "1cfd0981b58e4f059e25d96d8df5586f": {
      "model_module": "@jupyter-widgets/controls",
      "model_module_version": "1.2.0",
      "model_name": "DescriptionStyleModel",
      "state": {
       "description_width": ""
      }
     },
     "1d0a3bf538fd4ece900bd8a0e3f98390": {
      "model_module": "@jupyter-widgets/controls",
      "model_module_version": "1.2.0",
      "model_name": "ButtonModel",
      "state": {
       "description": "Korrekt?",
       "layout": "IPY_MODEL_e5a0a0b70f4a40e58b40120b7dbf689e",
       "style": "IPY_MODEL_5fbb28ae6da94c078d89cd8a5b1eee69"
      }
     },
     "1d0d00e94b374e65958d9b673d743f52": {
      "model_module": "@jupyter-widgets/base",
      "model_module_version": "1.0.0",
      "model_name": "LayoutModel",
      "state": {}
     },
     "1d4a5fc1d4e14dbcbe9023277a0cbb30": {
      "model_module": "@jupyter-widgets/base",
      "model_module_version": "1.0.0",
      "model_name": "LayoutModel",
      "state": {
       "width": "250px"
      }
     },
     "1d9838b5d1d549afa2fc8b127720ec0d": {
      "model_module": "@jupyter-widgets/base",
      "model_module_version": "1.0.0",
      "model_name": "LayoutModel",
      "state": {
       "width": "250px"
      }
     },
     "1d9a7ca4cfdd472dab1296b93f65493d": {
      "model_module": "@jupyter-widgets/controls",
      "model_module_version": "1.2.0",
      "model_name": "ButtonStyleModel",
      "state": {}
     },
     "1dfd166745134199bbb406dcad41f849": {
      "model_module": "@jupyter-widgets/controls",
      "model_module_version": "1.2.0",
      "model_name": "DescriptionStyleModel",
      "state": {
       "description_width": "initial"
      }
     },
     "1e1bea4c1c434c3c8b1e5c8b0679c404": {
      "model_module": "@jupyter-widgets/controls",
      "model_module_version": "1.2.0",
      "model_name": "ButtonStyleModel",
      "state": {}
     },
     "1e54945717df495496d7a0064882b806": {
      "model_module": "@jupyter-widgets/base",
      "model_module_version": "1.0.0",
      "model_name": "LayoutModel",
      "state": {}
     },
     "1eab98086b6a487f8db6d03feafc33cb": {
      "model_module": "@jupyter-widgets/controls",
      "model_module_version": "1.2.0",
      "model_name": "VBoxModel",
      "state": {
       "children": [
        "IPY_MODEL_18f91689547b4d1e836bc934df0b322c",
        "IPY_MODEL_f9bbc9a137434829a372a3bfd76b89fb",
        "IPY_MODEL_a4270402fbd7469cb94aa4d4a4f92d03",
        "IPY_MODEL_fb7cc35a42bb452e94cdc0af1869bfb3"
       ],
       "layout": "IPY_MODEL_ca0df49e51f94a4383e09b6f35964cea"
      }
     },
     "1eabb17154144d2f8975e78d97d8f883": {
      "model_module": "@jupyter-widgets/controls",
      "model_module_version": "1.2.0",
      "model_name": "DescriptionStyleModel",
      "state": {
       "description_width": "initial"
      }
     },
     "1eb0fe1ee71a4eaca08dd3f9817ac533": {
      "model_module": "@jupyter-widgets/controls",
      "model_module_version": "1.2.0",
      "model_name": "HTMLModel",
      "state": {
       "layout": "IPY_MODEL_a6fd0167f4e6493f9ca252cd5fa8a2d7",
       "style": "IPY_MODEL_65c0a380ab9d496c85b8fb0fd34cb19d",
       "value": "<i>Markieren Sie <ins>alle</ins> passenden Antworten: </i>"
      }
     },
     "1eb2e80cb5774a3cba865b6b5624f2f1": {
      "model_module": "@jupyter-widgets/controls",
      "model_module_version": "1.2.0",
      "model_name": "ButtonModel",
      "state": {
       "description": "mehr als ein",
       "layout": "IPY_MODEL_f84a830ce021429da554330b0694141b",
       "style": "IPY_MODEL_fb9eaf34696346f0905004264db0d984"
      }
     },
     "1ec7e6de753d4645a9a21e1ef2702ce6": {
      "model_module": "@jupyter-widgets/controls",
      "model_module_version": "1.2.0",
      "model_name": "HBoxModel",
      "state": {
       "children": [
        "IPY_MODEL_bb5e12d2b0ca4bb1a78ad7defb09b6c1",
        "IPY_MODEL_d3325a694aac4c5c9abc97f4dbbc631b"
       ],
       "layout": "IPY_MODEL_30a9465e73da4a8bbc34f114d59af82d"
      }
     },
     "1f15318b65e247ae8a628d89b1ac0c6b": {
      "model_module": "@jupyter-widgets/controls",
      "model_module_version": "1.2.0",
      "model_name": "ButtonModel",
      "state": {
       "description": "Keine der anderen Möglichkeiten",
       "layout": "IPY_MODEL_0db53e841e9b473a88f622f8796ee9ca",
       "style": "IPY_MODEL_fe1f834fde5b4ffc9b14ac37d8f4a911"
      }
     },
     "1f4fd26e4513492d889af19a16320218": {
      "model_module": "@jupyter-widgets/base",
      "model_module_version": "1.0.0",
      "model_name": "LayoutModel",
      "state": {
       "justify_content": "center"
      }
     },
     "1f67b9826b114005a70934eff4a12f64": {
      "model_module": "@jupyter-widgets/controls",
      "model_module_version": "1.2.0",
      "model_name": "ButtonStyleModel",
      "state": {}
     },
     "1f831eab61494f09aa524213643fe40e": {
      "model_module": "@jupyter-widgets/base",
      "model_module_version": "1.0.0",
      "model_name": "LayoutModel",
      "state": {}
     },
     "1fba2f2910e64e44af1e2aa1e3aacf9d": {
      "model_module": "@jupyter-widgets/base",
      "model_module_version": "1.0.0",
      "model_name": "LayoutModel",
      "state": {
       "justify_content": "center"
      }
     },
     "205f968efe1e405e807c34e56290817a": {
      "model_module": "@jupyter-widgets/controls",
      "model_module_version": "1.2.0",
      "model_name": "HTMLModel",
      "state": {
       "layout": "IPY_MODEL_3366913d5e4f414cb8df4e2fd0297936",
       "style": "IPY_MODEL_0262a81474684033bbb17d24a68b9c96",
       "value": "<h4 style=\"font-size:14px;\">Was ist der Fall, wenn die PP ein Adverbial ist?</h4>"
      }
     },
     "206e22714eb24949826244c5b416896a": {
      "model_module": "@jupyter-widgets/controls",
      "model_module_version": "1.2.0",
      "model_name": "DescriptionStyleModel",
      "state": {
       "description_width": "initial"
      }
     },
     "21036e9751b24005b0ae9474c70abf22": {
      "model_module": "@jupyter-widgets/base",
      "model_module_version": "1.0.0",
      "model_name": "LayoutModel",
      "state": {
       "width": "600px"
      }
     },
     "213df333e0774846be32f14a830ae67e": {
      "model_module": "@jupyter-widgets/base",
      "model_module_version": "1.0.0",
      "model_name": "LayoutModel",
      "state": {}
     },
     "21acbdd6ffa348cb869aa94d049affb0": {
      "model_module": "@jupyter-widgets/controls",
      "model_module_version": "1.2.0",
      "model_name": "CheckboxModel",
      "state": {
       "description": "Morphemebene",
       "disabled": false,
       "layout": "IPY_MODEL_d413def1eb344e0f9c47633ed1c8f06f",
       "style": "IPY_MODEL_f2b9fb016bf74223847b693ae21b4a46",
       "value": false
      }
     },
     "21f2133b1c17479d8ad85eb0131ccb90": {
      "model_module": "@jupyter-widgets/controls",
      "model_module_version": "1.2.0",
      "model_name": "ButtonStyleModel",
      "state": {}
     },
     "227808b2b84b471685759fc728238a5a": {
      "model_module": "@jupyter-widgets/base",
      "model_module_version": "1.0.0",
      "model_name": "LayoutModel",
      "state": {
       "width": "600px"
      }
     },
     "229d34d75a034e8dad9b7aee5e858ba8": {
      "model_module": "@jupyter-widgets/base",
      "model_module_version": "1.0.0",
      "model_name": "LayoutModel",
      "state": {
       "width": "150px"
      }
     },
     "22ac5f05c74847b8873ded145348e77e": {
      "model_module": "@jupyter-widgets/base",
      "model_module_version": "1.0.0",
      "model_name": "LayoutModel",
      "state": {
       "width": "250px"
      }
     },
     "22b8416380824b6480bd859e36aa5d0b": {
      "model_module": "@jupyter-widgets/controls",
      "model_module_version": "1.2.0",
      "model_name": "HBoxModel",
      "state": {
       "children": [
        "IPY_MODEL_d290bbf6405d435091df29915b554aa9"
       ],
       "layout": "IPY_MODEL_75f55a414c4b43deb5972122fbe7ccf9"
      }
     },
     "22b844d1547a45558f9db6093f4bcc0c": {
      "model_module": "@jupyter-widgets/base",
      "model_module_version": "1.0.0",
      "model_name": "LayoutModel",
      "state": {
       "justify_content": "center"
      }
     },
     "22f5a0a606844d6791fe4b944eabf381": {
      "model_module": "@jupyter-widgets/base",
      "model_module_version": "1.0.0",
      "model_name": "LayoutModel",
      "state": {
       "width": "600px"
      }
     },
     "23164cd682014114836c3422e9381c1f": {
      "model_module": "@jupyter-widgets/controls",
      "model_module_version": "1.2.0",
      "model_name": "CheckboxModel",
      "state": {
       "description": "Syntaxbaum",
       "disabled": false,
       "layout": "IPY_MODEL_07213d66d02f4fe0930bd23112527194",
       "style": "IPY_MODEL_a53dac9fdf674cad8a09b227c26bae93",
       "value": false
      }
     },
     "233b956418be441e95b7ab37dbe4b535": {
      "model_module": "@jupyter-widgets/controls",
      "model_module_version": "1.2.0",
      "model_name": "DescriptionStyleModel",
      "state": {
       "description_width": ""
      }
     },
     "23c12bbfdf5840378c3250da842334c6": {
      "model_module": "@jupyter-widgets/controls",
      "model_module_version": "1.2.0",
      "model_name": "ButtonStyleModel",
      "state": {}
     },
     "240a7150c3fe4e5a86f35987d322e9ef": {
      "model_module": "@jupyter-widgets/controls",
      "model_module_version": "1.2.0",
      "model_name": "CheckboxModel",
      "state": {
       "description": "Keine der Alternativen",
       "disabled": false,
       "layout": "IPY_MODEL_5af507e9bc2d4cae8a0b0ac07682bc6a",
       "style": "IPY_MODEL_31ff11449373447a881edcf65c4cb42a",
       "value": false
      }
     },
     "240f9de6cc504a22a2fbb8dca06d9dfa": {
      "model_module": "@jupyter-widgets/base",
      "model_module_version": "1.0.0",
      "model_name": "LayoutModel",
      "state": {
       "width": "150px"
      }
     },
     "24454bc03613456fa45a534204f1cd53": {
      "model_module": "@jupyter-widgets/controls",
      "model_module_version": "1.2.0",
      "model_name": "ButtonStyleModel",
      "state": {}
     },
     "246d48089a21414ca9f07e1ae0fcda6f": {
      "model_module": "@jupyter-widgets/base",
      "model_module_version": "1.0.0",
      "model_name": "LayoutModel",
      "state": {}
     },
     "24c53abea300477e934195a6039f8bc7": {
      "model_module": "@jupyter-widgets/base",
      "model_module_version": "1.0.0",
      "model_name": "LayoutModel",
      "state": {}
     },
     "24db4fbebed542bab78e1ad3fcb5f57f": {
      "model_module": "@jupyter-widgets/controls",
      "model_module_version": "1.2.0",
      "model_name": "ButtonStyleModel",
      "state": {}
     },
     "24ebbef5acf94256a2bb80284edbc7fe": {
      "model_module": "@jupyter-widgets/base",
      "model_module_version": "1.0.0",
      "model_name": "LayoutModel",
      "state": {
       "justify_content": "center"
      }
     },
     "253f69f24d9543d8b69295309c3b9e5a": {
      "model_module": "@jupyter-widgets/base",
      "model_module_version": "1.0.0",
      "model_name": "LayoutModel",
      "state": {
       "width": "250px"
      }
     },
     "255ceed104c84a068b11363fefc61066": {
      "model_module": "@jupyter-widgets/controls",
      "model_module_version": "1.2.0",
      "model_name": "CheckboxModel",
      "state": {
       "description": "Konstituenz",
       "disabled": false,
       "layout": "IPY_MODEL_d97835b94c414b468dc6bfbb27514fa7",
       "style": "IPY_MODEL_e51422f3037442109d174e42cc3dfef9",
       "value": false
      }
     },
     "2562f045afb94a67ae0081db8c6f3835": {
      "model_module": "@jupyter-widgets/controls",
      "model_module_version": "1.2.0",
      "model_name": "ButtonStyleModel",
      "state": {}
     },
     "25aebc1757964f30b0dff87e444534e4": {
      "model_module": "@jupyter-widgets/controls",
      "model_module_version": "1.2.0",
      "model_name": "ButtonStyleModel",
      "state": {}
     },
     "25b6a971a9a94144abbac88e10889141": {
      "model_module": "@jupyter-widgets/base",
      "model_module_version": "1.0.0",
      "model_name": "LayoutModel",
      "state": {
       "justify_content": "center"
      }
     },
     "25c2ce14eabb4b54ae7e2f772f2d6169": {
      "model_module": "@jupyter-widgets/base",
      "model_module_version": "1.0.0",
      "model_name": "LayoutModel",
      "state": {
       "width": "250px"
      }
     },
     "25dbe33591a547f5a89c7e2fb7861afd": {
      "model_module": "@jupyter-widgets/base",
      "model_module_version": "1.0.0",
      "model_name": "LayoutModel",
      "state": {
       "justify_content": "center"
      }
     },
     "265c1ef479944bb38744c1c048a8c414": {
      "model_module": "@jupyter-widgets/controls",
      "model_module_version": "1.2.0",
      "model_name": "ButtonModel",
      "state": {
       "description": "Konstituenz",
       "layout": "IPY_MODEL_dd787b133a1b4832a3883c1cec4c6d50",
       "style": "IPY_MODEL_736cb75905cf4160915dcf4bc31926a8"
      }
     },
     "2682b6d5fdcf4b95890459f0478fd441": {
      "model_module": "@jupyter-widgets/controls",
      "model_module_version": "1.2.0",
      "model_name": "HTMLModel",
      "state": {
       "layout": "IPY_MODEL_49da942bcde24c4691c0b96b345d2a20",
       "style": "IPY_MODEL_f94ccfd9f52b4a9c96cf58a42a37a477",
       "value": "<i>Markieren Sie <ins>alle</ins> passenden Antworten: </i>"
      }
     },
     "27011ae2ca6b4be1aa677f9412ecc1c9": {
      "model_module": "@jupyter-widgets/controls",
      "model_module_version": "1.2.0",
      "model_name": "HTMLModel",
      "state": {
       "layout": "IPY_MODEL_a4151a32f27f4132b9a9ae8de84f3a52",
       "style": "IPY_MODEL_553ae24aaa5c4adf803bf7ccd3b42038",
       "value": "<i>Wählen Sie die <ins>eine</ins> korrekte Antwort aus: </i>"
      }
     },
     "2779c91a74fa498cb6f068891f131e51": {
      "model_module": "@jupyter-widgets/controls",
      "model_module_version": "1.2.0",
      "model_name": "HTMLModel",
      "state": {
       "layout": "IPY_MODEL_c121bc7732b941e98f38ad2542a64450",
       "style": "IPY_MODEL_3525fb3732234647b3ccc85f8e024b14",
       "value": "<i>Wählen Sie die <ins>eine</ins> korrekte Antwort aus: </i>"
      }
     },
     "27a047f3696f4d2fab8ea80d933dea1d": {
      "model_module": "@jupyter-widgets/controls",
      "model_module_version": "1.2.0",
      "model_name": "DescriptionStyleModel",
      "state": {
       "description_width": ""
      }
     },
     "27fa7231bd4342958f3130d08e31b1e5": {
      "model_module": "@jupyter-widgets/controls",
      "model_module_version": "1.2.0",
      "model_name": "ButtonModel",
      "state": {
       "description": "Klammernotation",
       "layout": "IPY_MODEL_1d9838b5d1d549afa2fc8b127720ec0d",
       "style": "IPY_MODEL_7c4cdf5c0c7a494fa6999702318ded8e"
      }
     },
     "281f4f38c4fe4699965e07235f329acc": {
      "model_module": "@jupyter-widgets/base",
      "model_module_version": "1.0.0",
      "model_name": "LayoutModel",
      "state": {
       "width": "600px"
      }
     },
     "2849c100b75d4f78b7ead9a13fa65967": {
      "model_module": "@jupyter-widgets/controls",
      "model_module_version": "1.2.0",
      "model_name": "HBoxModel",
      "state": {
       "children": [
        "IPY_MODEL_e8433bd8219942b4b4c4ec39cd1dad6b"
       ],
       "layout": "IPY_MODEL_930c1a5fd8de4607b4f6eed60873ae46"
      }
     },
     "285ff4434b1c405ab9671f2f7a44d91b": {
      "model_module": "@jupyter-widgets/base",
      "model_module_version": "1.0.0",
      "model_name": "LayoutModel",
      "state": {
       "width": "250px"
      }
     },
     "2887bd1e67eb4577b83c7ebde7be9345": {
      "model_module": "@jupyter-widgets/controls",
      "model_module_version": "1.2.0",
      "model_name": "DescriptionStyleModel",
      "state": {
       "description_width": "initial"
      }
     },
     "28c35ed73afa4b72a509b227081fd9ad": {
      "model_module": "@jupyter-widgets/controls",
      "model_module_version": "1.2.0",
      "model_name": "VBoxModel",
      "state": {
       "children": [
        "IPY_MODEL_5dc2d7c97b654ffebaccd69fd90c367c",
        "IPY_MODEL_3b27df5cefd34afabd75e04f05aaa689",
        "IPY_MODEL_799747a173a5406ca3f201305b50fb6d",
        "IPY_MODEL_cb077da902264ab38b9188a358713043",
        "IPY_MODEL_ff77445b4cf249df8f511fa66b2cad7d"
       ],
       "layout": "IPY_MODEL_99207c4573b6482c87fc6c806d48a63b"
      }
     },
     "28c9ad46144f4cc6ab4ae425fb10f770": {
      "model_module": "@jupyter-widgets/base",
      "model_module_version": "1.0.0",
      "model_name": "LayoutModel",
      "state": {
       "justify_content": "center"
      }
     },
     "28d2f27dd16746208d7728a5f58983a2": {
      "model_module": "@jupyter-widgets/base",
      "model_module_version": "1.0.0",
      "model_name": "LayoutModel",
      "state": {
       "justify_content": "center"
      }
     },
     "28d5872f200e4372b5d05e971c527c07": {
      "model_module": "@jupyter-widgets/base",
      "model_module_version": "1.0.0",
      "model_name": "LayoutModel",
      "state": {}
     },
     "29498fc6553a41529d498c6dcfe16e7a": {
      "model_module": "@jupyter-widgets/base",
      "model_module_version": "1.0.0",
      "model_name": "LayoutModel",
      "state": {
       "width": "500px"
      }
     },
     "296de51e5781414e93181ed19ebedf0c": {
      "model_module": "@jupyter-widgets/controls",
      "model_module_version": "1.2.0",
      "model_name": "DescriptionStyleModel",
      "state": {
       "description_width": ""
      }
     },
     "298a7a5a03834feeb426c13045125f13": {
      "model_module": "@jupyter-widgets/base",
      "model_module_version": "1.0.0",
      "model_name": "LayoutModel",
      "state": {
       "width": "250px"
      }
     },
     "298b549bd9ff4ea7ba5fe46b232ed033": {
      "model_module": "@jupyter-widgets/controls",
      "model_module_version": "1.2.0",
      "model_name": "DescriptionStyleModel",
      "state": {
       "description_width": ""
      }
     },
     "29a8b162a9b642a2835e1e4268406e94": {
      "model_module": "@jupyter-widgets/controls",
      "model_module_version": "1.2.0",
      "model_name": "DescriptionStyleModel",
      "state": {
       "description_width": "initial"
      }
     },
     "29b27d8af6d94ddbbd56b7e0620bac97": {
      "model_module": "@jupyter-widgets/controls",
      "model_module_version": "1.2.0",
      "model_name": "HTMLModel",
      "state": {
       "layout": "IPY_MODEL_19cb6491e7d4449a80e9b82bd82196d1",
       "style": "IPY_MODEL_472e464db24342549ab2f8d86369e819",
       "value": "<h4 style=\"font-size:14px;\">Warum gibt die parse-Funktion des Skripts vermutlich eine Sequenz zurück?</h4>"
      }
     },
     "29c151cba9314daabe166eb8c2de3db5": {
      "model_module": "@jupyter-widgets/base",
      "model_module_version": "1.0.0",
      "model_name": "LayoutModel",
      "state": {}
     },
     "29d7c3122d324b8d9667e9e4904795eb": {
      "model_module": "@jupyter-widgets/controls",
      "model_module_version": "1.2.0",
      "model_name": "DescriptionStyleModel",
      "state": {
       "description_width": "initial"
      }
     },
     "29e42cfb0b0348da8fdeaeb8cdacf23d": {
      "model_module": "@jupyter-widgets/base",
      "model_module_version": "1.0.0",
      "model_name": "LayoutModel",
      "state": {
       "width": "250px"
      }
     },
     "29ef96b85a88424ca328ca04a6decc74": {
      "model_module": "@jupyter-widgets/controls",
      "model_module_version": "1.2.0",
      "model_name": "ButtonStyleModel",
      "state": {}
     },
     "2a3d5cd45fc14a9ba995bc55c882ea41": {
      "model_module": "@jupyter-widgets/base",
      "model_module_version": "1.0.0",
      "model_name": "LayoutModel",
      "state": {
       "width": "600px"
      }
     },
     "2a9148de73c546e7a5eae4cd39f0a305": {
      "model_module": "@jupyter-widgets/base",
      "model_module_version": "1.0.0",
      "model_name": "LayoutModel",
      "state": {}
     },
     "2acf4831e48549e6b5c3040d9a47685c": {
      "model_module": "@jupyter-widgets/base",
      "model_module_version": "1.0.0",
      "model_name": "LayoutModel",
      "state": {
       "width": "250px"
      }
     },
     "2b2834e3348e4242bb42ead430ee5d9d": {
      "model_module": "@jupyter-widgets/base",
      "model_module_version": "1.0.0",
      "model_name": "LayoutModel",
      "state": {
       "width": "250px"
      }
     },
     "2b75d98f698d4291a87b44a1bd28ead7": {
      "model_module": "@jupyter-widgets/controls",
      "model_module_version": "1.2.0",
      "model_name": "ButtonStyleModel",
      "state": {}
     },
     "2b78b94a17ad4ff685ed80f14378207a": {
      "model_module": "@jupyter-widgets/controls",
      "model_module_version": "1.2.0",
      "model_name": "DescriptionStyleModel",
      "state": {
       "description_width": ""
      }
     },
     "2b919196aabb4e8bb11356a5601cb89b": {
      "model_module": "@jupyter-widgets/controls",
      "model_module_version": "1.2.0",
      "model_name": "VBoxModel",
      "state": {
       "children": [
        "IPY_MODEL_9b9a96188fd34382baa00989422edd26",
        "IPY_MODEL_8c1c66281d97471385f57dfdd705ca2e",
        "IPY_MODEL_58e61397a5e249c3b2dd020c75eee6ef",
        "IPY_MODEL_9dffafe618f24c86b706440d6440d8c1"
       ],
       "layout": "IPY_MODEL_020c5c1b6fb54d73a745f490c8ae11f0"
      }
     },
     "2bbfce2ae31e4ebcb790e9b4227fd5f1": {
      "model_module": "@jupyter-widgets/controls",
      "model_module_version": "1.2.0",
      "model_name": "CheckboxModel",
      "state": {
       "description": "Verbalphrase",
       "disabled": false,
       "layout": "IPY_MODEL_7a1b5ecd3b00428aab770ff707a9dc93",
       "style": "IPY_MODEL_0d8ea5cfecf549f28a850cfdaef536c1",
       "value": false
      }
     },
     "2c55b8d1fba8498abc018c8298115539": {
      "model_module": "@jupyter-widgets/controls",
      "model_module_version": "1.2.0",
      "model_name": "ButtonModel",
      "state": {
       "description": "Phrasenstruktur",
       "layout": "IPY_MODEL_2acf4831e48549e6b5c3040d9a47685c",
       "style": "IPY_MODEL_8605d44d8d174db69c55aaa7cc12ac80"
      }
     },
     "2c7864987cd34a2fb10d37450a61e4f2": {
      "model_module": "@jupyter-widgets/controls",
      "model_module_version": "1.2.0",
      "model_name": "ButtonModel",
      "state": {
       "description": "Baumdiagramm",
       "layout": "IPY_MODEL_1a94ce5d9b0f44f4b8c77642b6bb123b",
       "style": "IPY_MODEL_986d695add364f97bb0a9c661cc388a6"
      }
     },
     "2c822d3017044baf9e20c3b6ba20775d": {
      "model_module": "@jupyter-widgets/base",
      "model_module_version": "1.0.0",
      "model_name": "LayoutModel",
      "state": {
       "width": "600px"
      }
     },
     "2d0b9cc5e4ef4d2a908a798155f19444": {
      "model_module": "@jupyter-widgets/controls",
      "model_module_version": "1.2.0",
      "model_name": "ButtonModel",
      "state": {
       "description": "Abhängigkeitsstruktur",
       "layout": "IPY_MODEL_9d181fc6cf564b76822e5a1c15ae6ce6",
       "style": "IPY_MODEL_34e374997b7a407a94de0b87a3c7c8b1"
      }
     },
     "2d17cf03798d441caa1c17f4cfeba6d3": {
      "model_module": "@jupyter-widgets/base",
      "model_module_version": "1.0.0",
      "model_name": "LayoutModel",
      "state": {}
     },
     "2d85d2d62cc4431ca0a62c5ac41c997b": {
      "model_module": "@jupyter-widgets/controls",
      "model_module_version": "1.2.0",
      "model_name": "HTMLModel",
      "state": {
       "layout": "IPY_MODEL_28d5872f200e4372b5d05e971c527c07",
       "style": "IPY_MODEL_fad802b6e26d4b409c929b53be0f73b8",
       "value": "<h4 style=\"font-size:14px;\">der formalen Sprache.</h4>"
      }
     },
     "2de6784cc53242ec9b4980d62bc8d205": {
      "model_module": "@jupyter-widgets/controls",
      "model_module_version": "1.2.0",
      "model_name": "DescriptionStyleModel",
      "state": {
       "description_width": ""
      }
     },
     "2e2bf04ff86a4c0d8c85476d64e999fb": {
      "model_module": "@jupyter-widgets/controls",
      "model_module_version": "1.2.0",
      "model_name": "ButtonStyleModel",
      "state": {}
     },
     "2e5cdc9f87344189819fcb408495c77f": {
      "model_module": "@jupyter-widgets/controls",
      "model_module_version": "1.2.0",
      "model_name": "DescriptionStyleModel",
      "state": {
       "description_width": "initial"
      }
     },
     "2e7f862b989d4b3f8825f9458cccb2bd": {
      "model_module": "@jupyter-widgets/base",
      "model_module_version": "1.0.0",
      "model_name": "LayoutModel",
      "state": {
       "width": "600px"
      }
     },
     "2ee93e710a5f474cb03ad9eef347bca1": {
      "model_module": "@jupyter-widgets/base",
      "model_module_version": "1.0.0",
      "model_name": "LayoutModel",
      "state": {
       "width": "250px"
      }
     },
     "2eec6b458b2f4aa7978d6d8f425ceacf": {
      "model_module": "@jupyter-widgets/base",
      "model_module_version": "1.0.0",
      "model_name": "LayoutModel",
      "state": {
       "justify_content": "center"
      }
     },
     "2efcf563d0c54064a809f0cf3f528d6b": {
      "model_module": "@jupyter-widgets/controls",
      "model_module_version": "1.2.0",
      "model_name": "CheckboxModel",
      "state": {
       "description": "Wortebene",
       "disabled": false,
       "layout": "IPY_MODEL_ac8152d8d18a4a48b1b1b1808b63fdc6",
       "style": "IPY_MODEL_c666cbf13350414c8400f3a62359ceba",
       "value": false
      }
     },
     "2f30b48163f546659269a05c8c946f6a": {
      "model_module": "@jupyter-widgets/controls",
      "model_module_version": "1.2.0",
      "model_name": "DescriptionStyleModel",
      "state": {
       "description_width": ""
      }
     },
     "2f4cca115cda48209b15445f98eed4f7": {
      "model_module": "@jupyter-widgets/controls",
      "model_module_version": "1.2.0",
      "model_name": "VBoxModel",
      "state": {
       "children": [
        "IPY_MODEL_d049f0da80374db58403363434acbd92",
        "IPY_MODEL_5dfcc5a8463b4d9daa079a587fcf3cdb",
        "IPY_MODEL_fc05074f8ff845a2b18a5a75c46df512",
        "IPY_MODEL_34617d34d1eb4b96a38bdd4f0156ff30"
       ],
       "layout": "IPY_MODEL_9a2da0ddc53c4b92bec4e22288681d2c"
      }
     },
     "2f7ed9487303488a889f0846e72222f5": {
      "model_module": "@jupyter-widgets/controls",
      "model_module_version": "1.2.0",
      "model_name": "ButtonModel",
      "state": {
       "description": "Korrekt?",
       "layout": "IPY_MODEL_ac2f4bb099f440dabac95dde723309a0",
       "style": "IPY_MODEL_775ba5fea238465dbfda524ab5b9f5a5"
      }
     },
     "2ff17437b90f47c883de669fbca699f9": {
      "model_module": "@jupyter-widgets/controls",
      "model_module_version": "1.2.0",
      "model_name": "ButtonStyleModel",
      "state": {}
     },
     "3058650674c9472cad70135403f28cb4": {
      "model_module": "@jupyter-widgets/controls",
      "model_module_version": "1.2.0",
      "model_name": "ButtonStyleModel",
      "state": {}
     },
     "306b960c964e4d81982c5d407f529748": {
      "model_module": "@jupyter-widgets/base",
      "model_module_version": "1.0.0",
      "model_name": "LayoutModel",
      "state": {
       "width": "250px"
      }
     },
     "306efb276323493ca339517993399619": {
      "model_module": "@jupyter-widgets/controls",
      "model_module_version": "1.2.0",
      "model_name": "ButtonStyleModel",
      "state": {}
     },
     "309fb07638ea4db5a1c23f7939a22093": {
      "model_module": "@jupyter-widgets/controls",
      "model_module_version": "1.2.0",
      "model_name": "HBoxModel",
      "state": {
       "children": [
        "IPY_MODEL_0c0978d3259242ffb820bef17838faa7",
        "IPY_MODEL_e9b0e4bb13624b6b91e89d5245f8127d"
       ],
       "layout": "IPY_MODEL_1073b26e903f4cae8236e86dab6f34f3"
      }
     },
     "30a113e0d6b9401dba7260b8b02f016e": {
      "model_module": "@jupyter-widgets/controls",
      "model_module_version": "1.2.0",
      "model_name": "ButtonStyleModel",
      "state": {}
     },
     "30a9465e73da4a8bbc34f114d59af82d": {
      "model_module": "@jupyter-widgets/base",
      "model_module_version": "1.0.0",
      "model_name": "LayoutModel",
      "state": {}
     },
     "30af6bebc35d4f72b4b5aa8d4d434c40": {
      "model_module": "@jupyter-widgets/controls",
      "model_module_version": "1.2.0",
      "model_name": "CheckboxModel",
      "state": {
       "description": "Eine unendliche Menge an Sätzen kann mit endlichen Mitteln beschrieben werden.",
       "disabled": false,
       "layout": "IPY_MODEL_67bff4e00f134f65884c479fe0070f80",
       "style": "IPY_MODEL_1eabb17154144d2f8975e78d97d8f883",
       "value": false
      }
     },
     "310eb7666d554dfaa577510af42cb401": {
      "model_module": "@jupyter-widgets/controls",
      "model_module_version": "1.2.0",
      "model_name": "DescriptionStyleModel",
      "state": {
       "description_width": "initial"
      }
     },
     "3112a701d7ab43ed9de1409d43202bb1": {
      "model_module": "@jupyter-widgets/base",
      "model_module_version": "1.0.0",
      "model_name": "LayoutModel",
      "state": {}
     },
     "31335df183884c7cb57d248b242f9fcd": {
      "model_module": "@jupyter-widgets/controls",
      "model_module_version": "1.2.0",
      "model_name": "ButtonModel",
      "state": {
       "description": "Regelbuch",
       "layout": "IPY_MODEL_441804b24b0f485aa12554aa5857ce4d",
       "style": "IPY_MODEL_f9bbc49c4c574576ae1f3f1b5e29f501"
      }
     },
     "31b1486657964ad7b8dcf1f6dd58af38": {
      "model_module": "@jupyter-widgets/base",
      "model_module_version": "1.0.0",
      "model_name": "LayoutModel",
      "state": {
       "width": "250px"
      }
     },
     "31d9a7b0bc674fde802e7db26a3f2e33": {
      "model_module": "@jupyter-widgets/base",
      "model_module_version": "1.0.0",
      "model_name": "LayoutModel",
      "state": {
       "width": "600px"
      }
     },
     "31ff11449373447a881edcf65c4cb42a": {
      "model_module": "@jupyter-widgets/controls",
      "model_module_version": "1.2.0",
      "model_name": "DescriptionStyleModel",
      "state": {
       "description_width": "initial"
      }
     },
     "3203818fe91f4b4ba09f5b3901497e75": {
      "model_module": "@jupyter-widgets/base",
      "model_module_version": "1.0.0",
      "model_name": "LayoutModel",
      "state": {
       "width": "250px"
      }
     },
     "32754b5c2f07414698dc39622c2c983a": {
      "model_module": "@jupyter-widgets/controls",
      "model_module_version": "1.2.0",
      "model_name": "ButtonModel",
      "state": {
       "description": "Klammernotation",
       "layout": "IPY_MODEL_e2dc437fcc844f91936fdac857a1e097",
       "style": "IPY_MODEL_6f476c2eea5640cc9462f3872208e80f"
      }
     },
     "32780979b41a425f9ef5d3bd8d782733": {
      "model_module": "@jupyter-widgets/base",
      "model_module_version": "1.0.0",
      "model_name": "LayoutModel",
      "state": {
       "justify_content": "center"
      }
     },
     "327bd0fee4c24e799098e916597dc77e": {
      "model_module": "@jupyter-widgets/controls",
      "model_module_version": "1.2.0",
      "model_name": "ButtonModel",
      "state": {
       "description": "Regelsystem",
       "layout": "IPY_MODEL_36d43f32e21d47c09427441ebbb69f11",
       "style": "IPY_MODEL_575f25d961c242bca1815900b7288472"
      }
     },
     "3336eb6412c74823bf1236ff4887e137": {
      "model_module": "@jupyter-widgets/controls",
      "model_module_version": "1.2.0",
      "model_name": "ButtonModel",
      "state": {
       "description": "Keine der anderen Möglichkeiten",
       "layout": "IPY_MODEL_d0877d3521cb4655bee4d87bf6d86cb4",
       "style": "IPY_MODEL_25aebc1757964f30b0dff87e444534e4"
      }
     },
     "3366913d5e4f414cb8df4e2fd0297936": {
      "model_module": "@jupyter-widgets/base",
      "model_module_version": "1.0.0",
      "model_name": "LayoutModel",
      "state": {}
     },
     "33e4fe37c1cd4ecf9aa90214e2b789e3": {
      "model_module": "@jupyter-widgets/controls",
      "model_module_version": "1.2.0",
      "model_name": "ButtonModel",
      "state": {
       "description": "Korrekt?",
       "layout": "IPY_MODEL_ebc8cfd139bf428696f692b9cb4f3eb9",
       "style": "IPY_MODEL_7bd38ae3c26249af80c4e4030d24691a"
      }
     },
     "33fe63bef6f74dce9f9855d8dece6d8e": {
      "model_module": "@jupyter-widgets/controls",
      "model_module_version": "1.2.0",
      "model_name": "HTMLModel",
      "state": {
       "layout": "IPY_MODEL_4d5e888d1de4467cafa01cfccd9569b1",
       "style": "IPY_MODEL_b5687c8efeb544ea9c4ccb74a5225112",
       "value": "<i>Wählen Sie die <ins>eine</ins> korrekte Antwort aus: </i>"
      }
     },
     "3456c2e1754647888b4d91328d75d578": {
      "model_module": "@jupyter-widgets/base",
      "model_module_version": "1.0.0",
      "model_name": "LayoutModel",
      "state": {}
     },
     "34617d34d1eb4b96a38bdd4f0156ff30": {
      "model_module": "@jupyter-widgets/controls",
      "model_module_version": "1.2.0",
      "model_name": "ButtonModel",
      "state": {
       "description": "Korrekt?",
       "layout": "IPY_MODEL_c3d01b52a4bb43369633052330789c24",
       "style": "IPY_MODEL_bb806d71c39c491498c5e73d8734c882"
      }
     },
     "3470c8f8437648909a38fb190f8227dd": {
      "model_module": "@jupyter-widgets/controls",
      "model_module_version": "1.2.0",
      "model_name": "CheckboxModel",
      "state": {
       "description": "phonologische",
       "disabled": false,
       "layout": "IPY_MODEL_2e7f862b989d4b3f8825f9458cccb2bd",
       "style": "IPY_MODEL_0f756934a8d44e11872561a90cefb62e",
       "value": false
      }
     },
     "34986ad019d241f9b4b476cf59e81792": {
      "model_module": "@jupyter-widgets/controls",
      "model_module_version": "1.2.0",
      "model_name": "CheckboxModel",
      "state": {
       "description": "Parser",
       "disabled": false,
       "layout": "IPY_MODEL_cdb4972c55c7416dba9fbf7fb9e0d777",
       "style": "IPY_MODEL_15abb5f31d35404791a1562e34cbfdd9",
       "value": false
      }
     },
     "34a320ab5f6c4005967bbc8f90fa5a77": {
      "model_module": "@jupyter-widgets/controls",
      "model_module_version": "1.2.0",
      "model_name": "VBoxModel",
      "state": {
       "children": [
        "IPY_MODEL_5f1e250a18d94094b6885e56511605ab",
        "IPY_MODEL_7d86880918494fdb9f26cac2b4973c27",
        "IPY_MODEL_6a854a04677b4b7ea10b74a996aa31c2",
        "IPY_MODEL_fb03af33f3b6412baca2bf34fd9444c6"
       ],
       "layout": "IPY_MODEL_9e82dafb2d254f3e9fc9952bb68a91ab"
      }
     },
     "34e374997b7a407a94de0b87a3c7c8b1": {
      "model_module": "@jupyter-widgets/controls",
      "model_module_version": "1.2.0",
      "model_name": "ButtonStyleModel",
      "state": {}
     },
     "3520967b340f42f6ae3d5fb5c328a770": {
      "model_module": "@jupyter-widgets/controls",
      "model_module_version": "1.2.0",
      "model_name": "ButtonStyleModel",
      "state": {}
     },
     "3525fb3732234647b3ccc85f8e024b14": {
      "model_module": "@jupyter-widgets/controls",
      "model_module_version": "1.2.0",
      "model_name": "DescriptionStyleModel",
      "state": {
       "description_width": ""
      }
     },
     "352a4ea19a7545b58bc9de8d8bcb07fd": {
      "model_module": "@jupyter-widgets/base",
      "model_module_version": "1.0.0",
      "model_name": "LayoutModel",
      "state": {}
     },
     "355c1f53693d4e589c95c3c89fbed23e": {
      "model_module": "@jupyter-widgets/controls",
      "model_module_version": "1.2.0",
      "model_name": "ButtonModel",
      "state": {
       "description": "Baumdiagramm",
       "layout": "IPY_MODEL_fcc6ef917ab244e1a61bd37cb8368219",
       "style": "IPY_MODEL_bb37d9c5ce7a438593f3582c80ab16b2"
      }
     },
     "355fbf3333d142d6ae51809f86db6a52": {
      "model_module": "@jupyter-widgets/base",
      "model_module_version": "1.0.0",
      "model_name": "LayoutModel",
      "state": {}
     },
     "35740b079dd14006b783c15a33aff562": {
      "model_module": "@jupyter-widgets/controls",
      "model_module_version": "1.2.0",
      "model_name": "ButtonModel",
      "state": {
       "description": "genau ein",
       "layout": "IPY_MODEL_8d4308f6c67d4977924214f87d04b98a",
       "style": "IPY_MODEL_24454bc03613456fa45a534204f1cd53"
      }
     },
     "357913a66c1a42dc8aedda905e3a3efd": {
      "model_module": "@jupyter-widgets/controls",
      "model_module_version": "1.2.0",
      "model_name": "DescriptionStyleModel",
      "state": {
       "description_width": "initial"
      }
     },
     "35e7d5ae14bb41349403e5810fd6e37d": {
      "model_module": "@jupyter-widgets/controls",
      "model_module_version": "1.2.0",
      "model_name": "HTMLModel",
      "state": {
       "layout": "IPY_MODEL_1fba2f2910e64e44af1e2aa1e3aacf9d",
       "style": "IPY_MODEL_aba2730d3ba348958d5ed98ce4165e37",
       "value": "<i>Wählen Sie die <ins>eine</ins> korrekte Antwort aus: </i>"
      }
     },
     "36125bcdd3384446bd7c16f0480fefe5": {
      "model_module": "@jupyter-widgets/controls",
      "model_module_version": "1.2.0",
      "model_name": "DescriptionStyleModel",
      "state": {
       "description_width": "initial"
      }
     },
     "3618ebf98ff34a769f15e08a14aee167": {
      "model_module": "@jupyter-widgets/controls",
      "model_module_version": "1.2.0",
      "model_name": "CheckboxModel",
      "state": {
       "description": "formale Grammatik",
       "disabled": false,
       "layout": "IPY_MODEL_9c3cfb33fca041fc8450b35c98e24259",
       "style": "IPY_MODEL_8ad7724cbaa04e99b91f77243d232ff6",
       "value": false
      }
     },
     "36199a29f4a94a83ad4600809f205326": {
      "model_module": "@jupyter-widgets/controls",
      "model_module_version": "1.2.0",
      "model_name": "ButtonStyleModel",
      "state": {}
     },
     "3680b764db664b049f40d5454a4bb2df": {
      "model_module": "@jupyter-widgets/controls",
      "model_module_version": "1.2.0",
      "model_name": "DescriptionStyleModel",
      "state": {
       "description_width": "initial"
      }
     },
     "36b11295af3743f7a44ad22b401f35a2": {
      "model_module": "@jupyter-widgets/controls",
      "model_module_version": "1.2.0",
      "model_name": "DescriptionStyleModel",
      "state": {
       "description_width": "initial"
      }
     },
     "36d43f32e21d47c09427441ebbb69f11": {
      "model_module": "@jupyter-widgets/base",
      "model_module_version": "1.0.0",
      "model_name": "LayoutModel",
      "state": {
       "width": "250px"
      }
     },
     "3700065308174d81b1a747e5352b1a70": {
      "model_module": "@jupyter-widgets/controls",
      "model_module_version": "1.2.0",
      "model_name": "ButtonModel",
      "state": {
       "description": "Keine der anderen Möglichkeiten",
       "layout": "IPY_MODEL_706c4cdf43dd4f1faeb1262738900d09",
       "style": "IPY_MODEL_c320d39b410a45ada16002ea027f66ef"
      }
     },
     "3708a93ff6be4a3ca63858975d97450a": {
      "model_module": "@jupyter-widgets/base",
      "model_module_version": "1.0.0",
      "model_name": "LayoutModel",
      "state": {}
     },
     "3751c5592df049ebb2075f89c585be42": {
      "model_module": "@jupyter-widgets/controls",
      "model_module_version": "1.2.0",
      "model_name": "DescriptionStyleModel",
      "state": {
       "description_width": "initial"
      }
     },
     "379acf9df990486ca784cbfb01c3e0cb": {
      "model_module": "@jupyter-widgets/controls",
      "model_module_version": "1.2.0",
      "model_name": "ButtonStyleModel",
      "state": {}
     },
     "3829ca82418648729413e7c52981669d": {
      "model_module": "@jupyter-widgets/controls",
      "model_module_version": "1.2.0",
      "model_name": "DescriptionStyleModel",
      "state": {
       "description_width": ""
      }
     },
     "3895bbf686f144d1aed23a0fcce3a3eb": {
      "model_module": "@jupyter-widgets/controls",
      "model_module_version": "1.2.0",
      "model_name": "CheckboxModel",
      "state": {
       "description": "Eine unendliche Menge an Sätzen kann mit endlichen Mitteln beschrieben werden.",
       "disabled": false,
       "layout": "IPY_MODEL_929be88c4952409bad34ee3c9b549349",
       "style": "IPY_MODEL_5ac3962f98da4d60ac1ce246c590b9a7",
       "value": false
      }
     },
     "38cd5b7100954dba8e79cf73687dc066": {
      "model_module": "@jupyter-widgets/base",
      "model_module_version": "1.0.0",
      "model_name": "LayoutModel",
      "state": {}
     },
     "38f9dba8e3dd45b98ec8aa4dcc8b4086": {
      "model_module": "@jupyter-widgets/controls",
      "model_module_version": "1.2.0",
      "model_name": "ButtonModel",
      "state": {
       "description": "Wissen um Sprachstruktur",
       "layout": "IPY_MODEL_88291bcfa5b8413988475717014e68b0",
       "style": "IPY_MODEL_60e372fe1cd1470990a4f89e91b5e5b7"
      }
     },
     "394f166a57214141af276363d29f96cd": {
      "model_module": "@jupyter-widgets/controls",
      "model_module_version": "1.2.0",
      "model_name": "DescriptionStyleModel",
      "state": {
       "description_width": ""
      }
     },
     "3961b03eca60418abdc31797e6ae3ad5": {
      "model_module": "@jupyter-widgets/controls",
      "model_module_version": "1.2.0",
      "model_name": "HBoxModel",
      "state": {
       "children": [
        "IPY_MODEL_d2e53a5f22e541108c36be057c5e3d0f",
        "IPY_MODEL_a1688bb060b647e3b21c5462efe18541"
       ],
       "layout": "IPY_MODEL_4e7272f6f53d4b79b83720c292c1f877"
      }
     },
     "398a3a24a9074e209da0ea56b9bf90b6": {
      "model_module": "@jupyter-widgets/controls",
      "model_module_version": "1.2.0",
      "model_name": "VBoxModel",
      "state": {
       "children": [
        "IPY_MODEL_a633c0cab916440c866d6d44814b637a",
        "IPY_MODEL_da049ea1b105407fb1be24edc3d5c7be",
        "IPY_MODEL_42782c56ba3740019ce9ab157e1f2754",
        "IPY_MODEL_b5dcdfec435943e38310faa3b4243d31"
       ],
       "layout": "IPY_MODEL_e39f86fd42c54d859195ae2f03985bb7"
      }
     },
     "3990b96d2883407d9097f06405407dba": {
      "model_module": "@jupyter-widgets/controls",
      "model_module_version": "1.2.0",
      "model_name": "DescriptionStyleModel",
      "state": {
       "description_width": ""
      }
     },
     "3a16ed9ad1fc45b1be9c82f1f566ef58": {
      "model_module": "@jupyter-widgets/base",
      "model_module_version": "1.0.0",
      "model_name": "LayoutModel",
      "state": {
       "width": "600px"
      }
     },
     "3a9ab830027e4a46853ac29f8f720a95": {
      "model_module": "@jupyter-widgets/controls",
      "model_module_version": "1.2.0",
      "model_name": "DescriptionStyleModel",
      "state": {
       "description_width": ""
      }
     },
     "3a9d9d22dc89461683bf663795acb40c": {
      "model_module": "@jupyter-widgets/base",
      "model_module_version": "1.0.0",
      "model_name": "LayoutModel",
      "state": {}
     },
     "3ab6e6eae3ea44af9f28e7ae70e51e39": {
      "model_module": "@jupyter-widgets/controls",
      "model_module_version": "1.2.0",
      "model_name": "CheckboxModel",
      "state": {
       "description": "Präpositionalphrase",
       "disabled": false,
       "layout": "IPY_MODEL_ffdc25446e1b4d9bb6cf62759532de2a",
       "style": "IPY_MODEL_a360b6979c514447b34909f1376c9b36",
       "value": false
      }
     },
     "3af1f29115404762814a113022fb1011": {
      "model_module": "@jupyter-widgets/controls",
      "model_module_version": "1.2.0",
      "model_name": "VBoxModel",
      "state": {
       "children": [
        "IPY_MODEL_64432b8ae6f8442e874c41675e2a6024",
        "IPY_MODEL_0e6fa432d4164bca93cc26e7e28b1469",
        "IPY_MODEL_03472bdc5e144c3ea894eff78346a77b",
        "IPY_MODEL_85c48fc3654e4ebd91b7852ee8fc8aba"
       ],
       "layout": "IPY_MODEL_ee48aede38fa4b3e923bca1098eb5652"
      }
     },
     "3b27df5cefd34afabd75e04f05aaa689": {
      "model_module": "@jupyter-widgets/controls",
      "model_module_version": "1.2.0",
      "model_name": "CheckboxModel",
      "state": {
       "description": "Dependenzgraph",
       "disabled": false,
       "layout": "IPY_MODEL_068a831961144acaa077267e01b4f000",
       "style": "IPY_MODEL_af7fdcb72cdc494782672a0b643d6c0c",
       "value": false
      }
     },
     "3bc3a118148b46eeb957bcd19a5b1eca": {
      "model_module": "@jupyter-widgets/base",
      "model_module_version": "1.0.0",
      "model_name": "LayoutModel",
      "state": {}
     },
     "3c27e4586d624265a3d3c008eb769d4a": {
      "model_module": "@jupyter-widgets/controls",
      "model_module_version": "1.2.0",
      "model_name": "ButtonModel",
      "state": {
       "description": "Strukturelle Ambiguität",
       "layout": "IPY_MODEL_8f2a940ac0ac4410893532d00a7911c8",
       "style": "IPY_MODEL_05ad3323bee94d59bddcfb2cf53a1ebc"
      }
     },
     "3c4ef58da8df44cd8114f521c81842a4": {
      "model_module": "@jupyter-widgets/controls",
      "model_module_version": "1.2.0",
      "model_name": "DescriptionStyleModel",
      "state": {
       "description_width": ""
      }
     },
     "3d40aef961cf4ad29e32b259f1e8f9be": {
      "model_module": "@jupyter-widgets/controls",
      "model_module_version": "1.2.0",
      "model_name": "ButtonStyleModel",
      "state": {}
     },
     "3d4d43ef257f4de98cbe366344c734dc": {
      "model_module": "@jupyter-widgets/controls",
      "model_module_version": "1.2.0",
      "model_name": "DescriptionStyleModel",
      "state": {
       "description_width": ""
      }
     },
     "3d9bb6e1fe0542d8bb205622aeb38785": {
      "model_module": "@jupyter-widgets/base",
      "model_module_version": "1.0.0",
      "model_name": "LayoutModel",
      "state": {
       "width": "600px"
      }
     },
     "3dab512373d94a20acdc162296b6769f": {
      "model_module": "@jupyter-widgets/base",
      "model_module_version": "1.0.0",
      "model_name": "LayoutModel",
      "state": {
       "width": "250px"
      }
     },
     "3dc5fd05b1504a0eb5e26aae66d4b56a": {
      "model_module": "@jupyter-widgets/base",
      "model_module_version": "1.0.0",
      "model_name": "LayoutModel",
      "state": {
       "width": "250px"
      }
     },
     "3e46e7c77a1c4e49b0026172b27fcc00": {
      "model_module": "@jupyter-widgets/controls",
      "model_module_version": "1.2.0",
      "model_name": "ButtonStyleModel",
      "state": {}
     },
     "3e551fc65b4d491da0fca7fd1e8f9308": {
      "model_module": "@jupyter-widgets/base",
      "model_module_version": "1.0.0",
      "model_name": "LayoutModel",
      "state": {}
     },
     "3e659ca6b3564af189d7595e3d91d3f2": {
      "model_module": "@jupyter-widgets/base",
      "model_module_version": "1.0.0",
      "model_name": "LayoutModel",
      "state": {
       "width": "250px"
      }
     },
     "3e775acc3f554d209ea5759861607876": {
      "model_module": "@jupyter-widgets/controls",
      "model_module_version": "1.2.0",
      "model_name": "CheckboxModel",
      "state": {
       "description": "Ableitungsbaum",
       "disabled": false,
       "layout": "IPY_MODEL_11f2078bc88e441b99108b4906102698",
       "style": "IPY_MODEL_206e22714eb24949826244c5b416896a",
       "value": false
      }
     },
     "3eba6b4c44dd4b5793ac86aad440a11d": {
      "model_module": "@jupyter-widgets/controls",
      "model_module_version": "1.2.0",
      "model_name": "DescriptionStyleModel",
      "state": {
       "description_width": ""
      }
     },
     "3ed7c470217649509b30fe8aa8cb1ed6": {
      "model_module": "@jupyter-widgets/controls",
      "model_module_version": "1.2.0",
      "model_name": "CheckboxModel",
      "state": {
       "description": "Eine endliche Menge an Sätzen kann mit unendlichen Mitteln beschrieben werden.",
       "disabled": false,
       "layout": "IPY_MODEL_0b0e4a0096bc4cbbb51cd0361ac61eea",
       "style": "IPY_MODEL_5ae2f83f4e224ac18f863fa55175fae7",
       "value": false
      }
     },
     "3ef79472a6844148af2c46bc10e1f01d": {
      "model_module": "@jupyter-widgets/base",
      "model_module_version": "1.0.0",
      "model_name": "LayoutModel",
      "state": {
       "justify_content": "center"
      }
     },
     "3f4969efbffb46039c362f5afc9ad4f0": {
      "model_module": "@jupyter-widgets/base",
      "model_module_version": "1.0.0",
      "model_name": "LayoutModel",
      "state": {
       "justify_content": "center"
      }
     },
     "3f8094a8c3094fd5a7ce791db8c205ff": {
      "model_module": "@jupyter-widgets/controls",
      "model_module_version": "1.2.0",
      "model_name": "ButtonModel",
      "state": {
       "description": "lexikalische Ambiguität",
       "layout": "IPY_MODEL_a466a1016b2f45388c8d5df0131df014",
       "style": "IPY_MODEL_f76be0565c8a4d02a160cfcc57e8c510"
      }
     },
     "3f9148e0b99b4c1da4b95ffe71eb0e95": {
      "model_module": "@jupyter-widgets/base",
      "model_module_version": "1.0.0",
      "model_name": "LayoutModel",
      "state": {
       "width": "250px"
      }
     },
     "3fbcb3e26b18488db2402b1419ffcc51": {
      "model_module": "@jupyter-widgets/base",
      "model_module_version": "1.0.0",
      "model_name": "LayoutModel",
      "state": {
       "justify_content": "center"
      }
     },
     "3fc31c7fd19444a3a46dec69c446d4c5": {
      "model_module": "@jupyter-widgets/controls",
      "model_module_version": "1.2.0",
      "model_name": "DescriptionStyleModel",
      "state": {
       "description_width": "initial"
      }
     },
     "3fc5715b68b74e51a55f0cab457712e5": {
      "model_module": "@jupyter-widgets/controls",
      "model_module_version": "1.2.0",
      "model_name": "VBoxModel",
      "state": {
       "children": [
        "IPY_MODEL_1b4060202ae741c1b1696e40bdba3f54",
        "IPY_MODEL_4d0f7f96f5014bcfb0d16c4d45d8432d",
        "IPY_MODEL_ab07ca27cab04217a247c897ae0575b9",
        "IPY_MODEL_b255863a53b4468688ec04f2672afd8b"
       ],
       "layout": "IPY_MODEL_a5b1c5cd8e374ea7a681becbc1044233"
      }
     },
     "3fd5538c8d8643a5a08200456ad2aa0b": {
      "model_module": "@jupyter-widgets/controls",
      "model_module_version": "1.2.0",
      "model_name": "CheckboxModel",
      "state": {
       "description": "Bäume",
       "disabled": false,
       "layout": "IPY_MODEL_b1799af181784e1e83fcd9be1b124970",
       "style": "IPY_MODEL_467877e0216f4f16a07c6fa5c26f3854",
       "value": false
      }
     },
     "3fdc3b8d47ad4cea8e05e07ad23b8a98": {
      "model_module": "@jupyter-widgets/base",
      "model_module_version": "1.0.0",
      "model_name": "LayoutModel",
      "state": {
       "width": "250px"
      }
     },
     "409adcb42b364cf8a645a91778ac8087": {
      "model_module": "@jupyter-widgets/controls",
      "model_module_version": "1.2.0",
      "model_name": "ButtonModel",
      "state": {
       "description": "Theorie der Sprachstruktur",
       "layout": "IPY_MODEL_5769b89d46114a3fa2c944aee5ba5c78",
       "style": "IPY_MODEL_4f1fb960ad264fc79c3d68decfd6d966"
      }
     },
     "40d309ab08b9413c9579e669bc571211": {
      "model_module": "@jupyter-widgets/controls",
      "model_module_version": "1.2.0",
      "model_name": "CheckboxModel",
      "state": {
       "description": "Parsebaum",
       "disabled": false,
       "layout": "IPY_MODEL_143247a2a26746b7ab78a05d2b83928e",
       "style": "IPY_MODEL_9369e170af2946ccb559a37a6c01afaf",
       "value": false
      }
     },
     "40e5559a1cab47e9a05ec72ff43d69d8": {
      "model_module": "@jupyter-widgets/controls",
      "model_module_version": "1.2.0",
      "model_name": "VBoxModel",
      "state": {
       "children": [
        "IPY_MODEL_5b29671dd4d84445bca5c51356f6bd49",
        "IPY_MODEL_a75a4907b8904cb793ba565f31bf5885",
        "IPY_MODEL_e5ba30e187bf46d49ca992c9b17a6f37",
        "IPY_MODEL_1d0a3bf538fd4ece900bd8a0e3f98390"
       ],
       "layout": "IPY_MODEL_1be0d1476409476bbf1c09ff2ebf987e"
      }
     },
     "40efa21842234c37947149a8ad399a13": {
      "model_module": "@jupyter-widgets/base",
      "model_module_version": "1.0.0",
      "model_name": "LayoutModel",
      "state": {}
     },
     "4110acb3e1f8431183a184299155722f": {
      "model_module": "@jupyter-widgets/controls",
      "model_module_version": "1.2.0",
      "model_name": "DescriptionStyleModel",
      "state": {
       "description_width": ""
      }
     },
     "41161726161b459ea960f4b4e07959f9": {
      "model_module": "@jupyter-widgets/controls",
      "model_module_version": "1.2.0",
      "model_name": "ButtonModel",
      "state": {
       "description": "Korrektheit",
       "layout": "IPY_MODEL_6ec49b9e36ad40c5bae88d1134308ef1",
       "style": "IPY_MODEL_f88f66e7f03e4259a9e2a315af298052"
      }
     },
     "41435302563046108fe0c15bfe378952": {
      "model_module": "@jupyter-widgets/controls",
      "model_module_version": "1.2.0",
      "model_name": "HBoxModel",
      "state": {
       "children": [
        "IPY_MODEL_3336eb6412c74823bf1236ff4887e137"
       ],
       "layout": "IPY_MODEL_6599f444a1594db09fa8cbd8b4f4e965"
      }
     },
     "414e5c3f5be24b48b292741c5158936f": {
      "model_module": "@jupyter-widgets/base",
      "model_module_version": "1.0.0",
      "model_name": "LayoutModel",
      "state": {
       "width": "250px"
      }
     },
     "41b7649ed2034e3da23d45ab89c1d85d": {
      "model_module": "@jupyter-widgets/controls",
      "model_module_version": "1.2.0",
      "model_name": "CheckboxModel",
      "state": {
       "description": "Adverbialphrase",
       "disabled": false,
       "layout": "IPY_MODEL_b730bf2650cf4caabf4bb7e0dab63abf",
       "style": "IPY_MODEL_29d7c3122d324b8d9667e9e4904795eb",
       "value": false
      }
     },
     "422589e7784e4e49b7d6360a1b33fbc7": {
      "model_module": "@jupyter-widgets/controls",
      "model_module_version": "1.2.0",
      "model_name": "ButtonModel",
      "state": {
       "description": "Klammernotation",
       "layout": "IPY_MODEL_4bce39017472482297c63b7b159b56be",
       "style": "IPY_MODEL_a1d9555f34ff40d9b58f76bacab01db9"
      }
     },
     "4272178dd9a74470addb9bed65eccf17": {
      "model_module": "@jupyter-widgets/base",
      "model_module_version": "1.0.0",
      "model_name": "LayoutModel",
      "state": {
       "width": "250px"
      }
     },
     "42782c56ba3740019ce9ab157e1f2754": {
      "model_module": "@jupyter-widgets/controls",
      "model_module_version": "1.2.0",
      "model_name": "HBoxModel",
      "state": {
       "children": [
        "IPY_MODEL_355c1f53693d4e589c95c3c89fbed23e",
        "IPY_MODEL_48443f9382634f09b224307fe53493df"
       ],
       "layout": "IPY_MODEL_fd406862e8694d3f8f1ee3cd317884b5"
      }
     },
     "42a4dc646c034ba0b42a224d1f87f363": {
      "model_module": "@jupyter-widgets/controls",
      "model_module_version": "1.2.0",
      "model_name": "HTMLModel",
      "state": {
       "layout": "IPY_MODEL_95e74c7b71c54dfaa86c902355f7b310",
       "style": "IPY_MODEL_8c840a4ee4d145528c6fbbadc6d00ec1",
       "value": "<i>Wählen Sie die <ins>eine</ins> korrekte Antwort aus: </i>"
      }
     },
     "42a845148d484d3abc86366a2eb86858": {
      "model_module": "@jupyter-widgets/controls",
      "model_module_version": "1.2.0",
      "model_name": "ButtonStyleModel",
      "state": {}
     },
     "42d456608c734bce97381dd4db2e5389": {
      "model_module": "@jupyter-widgets/controls",
      "model_module_version": "1.2.0",
      "model_name": "VBoxModel",
      "state": {
       "children": [
        "IPY_MODEL_fbe4f8908c5f4dca89a7e9e0244169b3",
        "IPY_MODEL_87807a6ace1842b284bec7f4c9b6caa9",
        "IPY_MODEL_e400fc83742743bdaa390624f239c02d"
       ],
       "layout": "IPY_MODEL_fb2d4f4cb8044373ae7f69221fc0f70a"
      }
     },
     "43659e5704774d1986420bf587b282a0": {
      "model_module": "@jupyter-widgets/base",
      "model_module_version": "1.0.0",
      "model_name": "LayoutModel",
      "state": {
       "width": "150px"
      }
     },
     "43f2bcc9ad8b45829c298310b21ed956": {
      "model_module": "@jupyter-widgets/controls",
      "model_module_version": "1.2.0",
      "model_name": "HTMLModel",
      "state": {
       "layout": "IPY_MODEL_036fc419752849eda395c3cf212f343c",
       "style": "IPY_MODEL_d4a66bfcb3ce4e88a98ac5fb08d24b01",
       "value": "<h4 style=\"font-size:14px;\">Regularitäten bezieht.</h4>"
      }
     },
     "4408034cae934ceda5b3fe786f224259": {
      "model_module": "@jupyter-widgets/base",
      "model_module_version": "1.0.0",
      "model_name": "LayoutModel",
      "state": {
       "width": "600px"
      }
     },
     "441804b24b0f485aa12554aa5857ce4d": {
      "model_module": "@jupyter-widgets/base",
      "model_module_version": "1.0.0",
      "model_name": "LayoutModel",
      "state": {
       "width": "250px"
      }
     },
     "444a1ca2ceb4423e838271d9c08d7b1e": {
      "model_module": "@jupyter-widgets/base",
      "model_module_version": "1.0.0",
      "model_name": "LayoutModel",
      "state": {
       "width": "250px"
      }
     },
     "447369a367e4486d8ae40bbedcbbc6d3": {
      "model_module": "@jupyter-widgets/controls",
      "model_module_version": "1.2.0",
      "model_name": "DescriptionStyleModel",
      "state": {
       "description_width": ""
      }
     },
     "451643b72aa549578ed6be852315d502": {
      "model_module": "@jupyter-widgets/controls",
      "model_module_version": "1.2.0",
      "model_name": "ButtonModel",
      "state": {
       "description": "Theorie der Sprachstruktur",
       "layout": "IPY_MODEL_a2e8ce05c8ae4dabb2036689919f0dec",
       "style": "IPY_MODEL_fdf15b2e689b481689847e5991669955"
      }
     },
     "45b880a66d5f44e68f1d74e3d93d3cc9": {
      "model_module": "@jupyter-widgets/controls",
      "model_module_version": "1.2.0",
      "model_name": "HTMLModel",
      "state": {
       "layout": "IPY_MODEL_1042a46187144f8aaceab33c0a6afbab",
       "style": "IPY_MODEL_0e19b66604a44e18844b15ef8e3fd9fb",
       "value": "<h4 style=\"font-size:14px;\">In Bezug auf das Gerundium, welche Funktion können die Nomen haben?</h4>"
      }
     },
     "45dbfb92e1a84dce8556d847be83807d": {
      "model_module": "@jupyter-widgets/controls",
      "model_module_version": "1.2.0",
      "model_name": "DropdownModel",
      "state": {
       "_options_labels": [
        "Grundsymbole",
        "Nicht-Terminale",
        " "
       ],
       "index": 2,
       "layout": "IPY_MODEL_dc7c4b2889d8487a9dd902ac43e4b5c1",
       "style": "IPY_MODEL_56fee616ac8d469dbccab27fb5673d8c"
      }
     },
     "45eef451ec1d439d84f650bc82dff91f": {
      "model_module": "@jupyter-widgets/base",
      "model_module_version": "1.0.0",
      "model_name": "LayoutModel",
      "state": {
       "width": "600px"
      }
     },
     "45f147267df843b0b1a648835ed50b9c": {
      "model_module": "@jupyter-widgets/controls",
      "model_module_version": "1.2.0",
      "model_name": "DescriptionStyleModel",
      "state": {
       "description_width": ""
      }
     },
     "467877e0216f4f16a07c6fa5c26f3854": {
      "model_module": "@jupyter-widgets/controls",
      "model_module_version": "1.2.0",
      "model_name": "DescriptionStyleModel",
      "state": {
       "description_width": "initial"
      }
     },
     "46849d950c794234b150313148267f5a": {
      "model_module": "@jupyter-widgets/controls",
      "model_module_version": "1.2.0",
      "model_name": "HTMLModel",
      "state": {
       "layout": "IPY_MODEL_93c8d1139a294d4dbef8091ab94430a0",
       "style": "IPY_MODEL_2b78b94a17ad4ff685ed80f14378207a",
       "value": "<h4 style=\"font-size:14px;\">der formalen Sprache; ein analysierter natürlichsprachlicher Satz ist ein in der formalen Grammatik ableitbares</h4>"
      }
     },
     "46a184b1d7e04d84820085c2cf7bd04c": {
      "model_module": "@jupyter-widgets/controls",
      "model_module_version": "1.2.0",
      "model_name": "CheckboxModel",
      "state": {
       "description": "Nominalphrase",
       "disabled": false,
       "layout": "IPY_MODEL_6b9bac5ead9e4ab7814d6f4b8c875a9e",
       "style": "IPY_MODEL_12da78b110cf41faa4b638228a42b9f8",
       "value": false
      }
     },
     "46d129ec3cda468f841c32c33a608b90": {
      "model_module": "@jupyter-widgets/controls",
      "model_module_version": "1.2.0",
      "model_name": "ButtonStyleModel",
      "state": {}
     },
     "470d4c078dde460a82ed008261524496": {
      "model_module": "@jupyter-widgets/base",
      "model_module_version": "1.0.0",
      "model_name": "LayoutModel",
      "state": {}
     },
     "47206dfdb8e64267a164ba08c75995d9": {
      "model_module": "@jupyter-widgets/controls",
      "model_module_version": "1.2.0",
      "model_name": "HBoxModel",
      "state": {
       "children": [
        "IPY_MODEL_81579d994f9d478881115cbf0137deaf",
        "IPY_MODEL_1b597574647a465789ff8ab24afadbb7"
       ],
       "layout": "IPY_MODEL_64b9c2b5b7de48bbaf6e860960a02c56"
      }
     },
     "472c6118dc6943e0b76cf26796130279": {
      "model_module": "@jupyter-widgets/controls",
      "model_module_version": "1.2.0",
      "model_name": "ButtonStyleModel",
      "state": {}
     },
     "472e464db24342549ab2f8d86369e819": {
      "model_module": "@jupyter-widgets/controls",
      "model_module_version": "1.2.0",
      "model_name": "DescriptionStyleModel",
      "state": {
       "description_width": ""
      }
     },
     "4746a5e0bb6449cc88f5d32f7f647104": {
      "model_module": "@jupyter-widgets/base",
      "model_module_version": "1.0.0",
      "model_name": "LayoutModel",
      "state": {
       "justify_content": "center"
      }
     },
     "4799acf423a8476aaf1e0a93ed32553a": {
      "model_module": "@jupyter-widgets/controls",
      "model_module_version": "1.2.0",
      "model_name": "CheckboxModel",
      "state": {
       "description": "direktes Objekt",
       "disabled": false,
       "layout": "IPY_MODEL_22f5a0a606844d6791fe4b944eabf381",
       "style": "IPY_MODEL_929c1bc857e84ec8bebdb6abef03b4fe",
       "value": false
      }
     },
     "47af09ab1ac348bcae5bffa8556ae897": {
      "model_module": "@jupyter-widgets/base",
      "model_module_version": "1.0.0",
      "model_name": "LayoutModel",
      "state": {}
     },
     "48443f9382634f09b224307fe53493df": {
      "model_module": "@jupyter-widgets/controls",
      "model_module_version": "1.2.0",
      "model_name": "ButtonModel",
      "state": {
       "description": "Klammernotation",
       "layout": "IPY_MODEL_9affc0af4ed24ad69891d1d232fc0126",
       "style": "IPY_MODEL_7fccca3be1d9421290445ed3383f8f4a"
      }
     },
     "487d3b31a8d14feda2302f422525fc0d": {
      "model_module": "@jupyter-widgets/base",
      "model_module_version": "1.0.0",
      "model_name": "LayoutModel",
      "state": {
       "width": "250px"
      }
     },
     "488305007cf343c6b7a31aab09714c7c": {
      "model_module": "@jupyter-widgets/controls",
      "model_module_version": "1.2.0",
      "model_name": "HBoxModel",
      "state": {
       "children": [
        "IPY_MODEL_eca1c5793cbc4a10b4c58770c2dc3301",
        "IPY_MODEL_422589e7784e4e49b7d6360a1b33fbc7"
       ],
       "layout": "IPY_MODEL_5a4e6e70aeb54a20ac9b0a3b1cfbf79f"
      }
     },
     "48d7af92515943ef9199be689eb1bb49": {
      "model_module": "@jupyter-widgets/base",
      "model_module_version": "1.0.0",
      "model_name": "LayoutModel",
      "state": {
       "width": "250px"
      }
     },
     "48d9d38fdec84f8fb2b011fef65e5d22": {
      "model_module": "@jupyter-widgets/controls",
      "model_module_version": "1.2.0",
      "model_name": "DescriptionStyleModel",
      "state": {
       "description_width": "initial"
      }
     },
     "48fdfa05c2ef47ee98ec72668caaa038": {
      "model_module": "@jupyter-widgets/controls",
      "model_module_version": "1.2.0",
      "model_name": "HTMLModel",
      "state": {
       "layout": "IPY_MODEL_4befcb6d7dc6494fb4f4b82ffdadd48d",
       "style": "IPY_MODEL_4c9c49852662456d89bbe86cb0bea119",
       "value": "<i>Wählen Sie die <ins>eine</ins> korrekte Antwort aus: </i>"
      }
     },
     "4938b5d7e69c49ec81f29930ef224192": {
      "model_module": "@jupyter-widgets/controls",
      "model_module_version": "1.2.0",
      "model_name": "ButtonModel",
      "state": {
       "description": "Regelbuch",
       "layout": "IPY_MODEL_deadbf22517c45e4963695a401cf7241",
       "style": "IPY_MODEL_6f89d956295a4e0db78f47d9f495e242"
      }
     },
     "4952a4c9c2dd4b13842a29c4aea9b2eb": {
      "model_module": "@jupyter-widgets/controls",
      "model_module_version": "1.2.0",
      "model_name": "HTMLModel",
      "state": {
       "layout": "IPY_MODEL_bfc3c1a7de5d416c8c735d91214d9948",
       "style": "IPY_MODEL_018523ab421a48db83a1fb3d1b634e68",
       "value": "<h4 style=\"font-size:14px;\">In Bezug auf das Gerundium, welche Funktion können die Nomen haben?</h4>"
      }
     },
     "49b0983432054fafac6aea2f390e3268": {
      "model_module": "@jupyter-widgets/base",
      "model_module_version": "1.0.0",
      "model_name": "LayoutModel",
      "state": {}
     },
     "49da942bcde24c4691c0b96b345d2a20": {
      "model_module": "@jupyter-widgets/base",
      "model_module_version": "1.0.0",
      "model_name": "LayoutModel",
      "state": {
       "justify_content": "center"
      }
     },
     "49fd0ba0d498465aab97d6d9e2864264": {
      "model_module": "@jupyter-widgets/controls",
      "model_module_version": "1.2.0",
      "model_name": "DescriptionStyleModel",
      "state": {
       "description_width": "initial"
      }
     },
     "4a083cd39e884164bf1799992107a5e8": {
      "model_module": "@jupyter-widgets/controls",
      "model_module_version": "1.2.0",
      "model_name": "DescriptionStyleModel",
      "state": {
       "description_width": ""
      }
     },
     "4a4ebd4fc5c34fb5ae4c3189c99f7c36": {
      "model_module": "@jupyter-widgets/controls",
      "model_module_version": "1.2.0",
      "model_name": "ButtonStyleModel",
      "state": {}
     },
     "4a84bec8c27842029ce13103c7c91141": {
      "model_module": "@jupyter-widgets/controls",
      "model_module_version": "1.2.0",
      "model_name": "ButtonModel",
      "state": {
       "description": "Baumdiagramm",
       "layout": "IPY_MODEL_3e659ca6b3564af189d7595e3d91d3f2",
       "style": "IPY_MODEL_80b9144002af4e55a1e2ed3b73b608cd"
      }
     },
     "4aa123e31ea1403faddd7a82467851e4": {
      "model_module": "@jupyter-widgets/controls",
      "model_module_version": "1.2.0",
      "model_name": "ButtonStyleModel",
      "state": {}
     },
     "4ad648b9a83b4de9937f702e0cf148ef": {
      "model_module": "@jupyter-widgets/base",
      "model_module_version": "1.0.0",
      "model_name": "LayoutModel",
      "state": {
       "width": "600px"
      }
     },
     "4b09e60ea8964301b5d2ebd8480afe8b": {
      "model_module": "@jupyter-widgets/controls",
      "model_module_version": "1.2.0",
      "model_name": "ButtonStyleModel",
      "state": {}
     },
     "4b3e4590651a43349f6411e3ab997864": {
      "model_module": "@jupyter-widgets/controls",
      "model_module_version": "1.2.0",
      "model_name": "DescriptionStyleModel",
      "state": {
       "description_width": ""
      }
     },
     "4bb343b41d83496fa87f658f257c9931": {
      "model_module": "@jupyter-widgets/controls",
      "model_module_version": "1.2.0",
      "model_name": "DescriptionStyleModel",
      "state": {
       "description_width": ""
      }
     },
     "4bbdfdc77da74bd3af498c60458a6332": {
      "model_module": "@jupyter-widgets/controls",
      "model_module_version": "1.2.0",
      "model_name": "ButtonModel",
      "state": {
       "description": "Regelsystem",
       "layout": "IPY_MODEL_fb63b7a7ab1547fd8636d81ff6c73a46",
       "style": "IPY_MODEL_688a262a2dcd4543ae91a44de894fbf8"
      }
     },
     "4bc6b8d835ae4d6383e997c30b0275fd": {
      "model_module": "@jupyter-widgets/controls",
      "model_module_version": "1.2.0",
      "model_name": "ButtonStyleModel",
      "state": {}
     },
     "4bce39017472482297c63b7b159b56be": {
      "model_module": "@jupyter-widgets/base",
      "model_module_version": "1.0.0",
      "model_name": "LayoutModel",
      "state": {
       "width": "250px"
      }
     },
     "4bd7f5af42f7414db882fc2c2e818809": {
      "model_module": "@jupyter-widgets/base",
      "model_module_version": "1.0.0",
      "model_name": "LayoutModel",
      "state": {}
     },
     "4befcb6d7dc6494fb4f4b82ffdadd48d": {
      "model_module": "@jupyter-widgets/base",
      "model_module_version": "1.0.0",
      "model_name": "LayoutModel",
      "state": {
       "justify_content": "center"
      }
     },
     "4c0b474c8e7f450b89e5ad392fbd29a5": {
      "model_module": "@jupyter-widgets/controls",
      "model_module_version": "1.2.0",
      "model_name": "DescriptionStyleModel",
      "state": {
       "description_width": ""
      }
     },
     "4c0e751d0ea8424091241f5cda57c80b": {
      "model_module": "@jupyter-widgets/base",
      "model_module_version": "1.0.0",
      "model_name": "LayoutModel",
      "state": {
       "width": "250px"
      }
     },
     "4c3aff8b4a47434691bd59170d571958": {
      "model_module": "@jupyter-widgets/base",
      "model_module_version": "1.0.0",
      "model_name": "LayoutModel",
      "state": {
       "justify_content": "center"
      }
     },
     "4c6e367bc7724193b312d1899d9292dc": {
      "model_module": "@jupyter-widgets/controls",
      "model_module_version": "1.2.0",
      "model_name": "DescriptionStyleModel",
      "state": {
       "description_width": "initial"
      }
     },
     "4c8ae3eef15e45fa8beb4e159a15d9c8": {
      "model_module": "@jupyter-widgets/controls",
      "model_module_version": "1.2.0",
      "model_name": "HTMLModel",
      "state": {
       "layout": "IPY_MODEL_60473c73f46a4cfa845408559ca5d0bc",
       "style": "IPY_MODEL_934e2aeefa41461a8b56e634e31831e1",
       "value": "<i>Wählen Sie die <ins>eine</ins> korrekte Antwort aus: </i>"
      }
     },
     "4c9c49852662456d89bbe86cb0bea119": {
      "model_module": "@jupyter-widgets/controls",
      "model_module_version": "1.2.0",
      "model_name": "DescriptionStyleModel",
      "state": {
       "description_width": ""
      }
     },
     "4cd62ad72f7648b59d88b66d0c030d6c": {
      "model_module": "@jupyter-widgets/controls",
      "model_module_version": "1.2.0",
      "model_name": "CheckboxModel",
      "state": {
       "description": "Dependenzgraph",
       "disabled": false,
       "layout": "IPY_MODEL_94a1a84b1821408bb49f2e6e372a6682",
       "style": "IPY_MODEL_88402ddbbe51404ba20f4ca4146eec76",
       "value": false
      }
     },
     "4ce05517baa845eb96a4d1671f374071": {
      "model_module": "@jupyter-widgets/base",
      "model_module_version": "1.0.0",
      "model_name": "LayoutModel",
      "state": {}
     },
     "4cf12f0bca9c4887953cdb3db5fc0b34": {
      "model_module": "@jupyter-widgets/base",
      "model_module_version": "1.0.0",
      "model_name": "LayoutModel",
      "state": {
       "width": "600px"
      }
     },
     "4d0f7f96f5014bcfb0d16c4d45d8432d": {
      "model_module": "@jupyter-widgets/controls",
      "model_module_version": "1.2.0",
      "model_name": "HTMLModel",
      "state": {
       "layout": "IPY_MODEL_a1f9440cd6bf49fe98dec7aaf0bde91e",
       "style": "IPY_MODEL_298b549bd9ff4ea7ba5fe46b232ed033",
       "value": "<i>Markieren Sie <ins>alle</ins> passenden Antworten: </i>"
      }
     },
     "4d5e888d1de4467cafa01cfccd9569b1": {
      "model_module": "@jupyter-widgets/base",
      "model_module_version": "1.0.0",
      "model_name": "LayoutModel",
      "state": {
       "justify_content": "center"
      }
     },
     "4d8d99158d9d440a8de33f026a0d5996": {
      "model_module": "@jupyter-widgets/base",
      "model_module_version": "1.0.0",
      "model_name": "LayoutModel",
      "state": {
       "width": "600px"
      }
     },
     "4da645bce2714c80a0bb789c94482df9": {
      "model_module": "@jupyter-widgets/base",
      "model_module_version": "1.0.0",
      "model_name": "LayoutModel",
      "state": {}
     },
     "4dbcefc3ff1546a3ad9621790232ea94": {
      "model_module": "@jupyter-widgets/controls",
      "model_module_version": "1.2.0",
      "model_name": "HTMLModel",
      "state": {
       "layout": "IPY_MODEL_22b844d1547a45558f9db6093f4bcc0c",
       "style": "IPY_MODEL_092a6e3fab934c9a978e2521bb5f6249",
       "value": "<i>Wählen Sie die <ins>eine</ins> korrekte Antwort aus: </i>"
      }
     },
     "4dcfe84cabb844438af6be0e291b7fb3": {
      "model_module": "@jupyter-widgets/controls",
      "model_module_version": "1.2.0",
      "model_name": "HTMLModel",
      "state": {
       "layout": "IPY_MODEL_720fa9f42013404a9235bf6827d4416a",
       "style": "IPY_MODEL_664cd16d17014dc2a5f485a766eee5db",
       "value": "<i>Wählen Sie die <ins>eine</ins> korrekte Antwort aus: </i>"
      }
     },
     "4dfb7d9a6bb748a1a00580ec2375461f": {
      "model_module": "@jupyter-widgets/base",
      "model_module_version": "1.0.0",
      "model_name": "LayoutModel",
      "state": {}
     },
     "4e45944c7ee84af88891dc0cccc47395": {
      "model_module": "@jupyter-widgets/controls",
      "model_module_version": "1.2.0",
      "model_name": "DescriptionStyleModel",
      "state": {
       "description_width": ""
      }
     },
     "4e7272f6f53d4b79b83720c292c1f877": {
      "model_module": "@jupyter-widgets/base",
      "model_module_version": "1.0.0",
      "model_name": "LayoutModel",
      "state": {}
     },
     "4e9045210db145b4b76a93f36d31ca01": {
      "model_module": "@jupyter-widgets/base",
      "model_module_version": "1.0.0",
      "model_name": "LayoutModel",
      "state": {
       "width": "250px"
      }
     },
     "4ec034a93ded40b0abede3252a56f78e": {
      "model_module": "@jupyter-widgets/base",
      "model_module_version": "1.0.0",
      "model_name": "LayoutModel",
      "state": {
       "justify_content": "center"
      }
     },
     "4ed9b41e683a41518eee934e03715ad5": {
      "model_module": "@jupyter-widgets/controls",
      "model_module_version": "1.2.0",
      "model_name": "ButtonStyleModel",
      "state": {}
     },
     "4ee4cc52b3b2462b8b30173c04b29fcc": {
      "model_module": "@jupyter-widgets/controls",
      "model_module_version": "1.2.0",
      "model_name": "DescriptionStyleModel",
      "state": {
       "description_width": ""
      }
     },
     "4f1fb960ad264fc79c3d68decfd6d966": {
      "model_module": "@jupyter-widgets/controls",
      "model_module_version": "1.2.0",
      "model_name": "ButtonStyleModel",
      "state": {}
     },
     "4f48f61a2cef46ee84c8a1fd3fee4aa7": {
      "model_module": "@jupyter-widgets/controls",
      "model_module_version": "1.2.0",
      "model_name": "ButtonStyleModel",
      "state": {}
     },
     "4f7b2dbf3d824d64a2568e57e9a5780a": {
      "model_module": "@jupyter-widgets/controls",
      "model_module_version": "1.2.0",
      "model_name": "HTMLModel",
      "state": {
       "layout": "IPY_MODEL_4746a5e0bb6449cc88f5d32f7f647104",
       "style": "IPY_MODEL_2de6784cc53242ec9b4980d62bc8d205",
       "value": "<i>Wählen Sie die <ins>eine</ins> korrekte Antwort aus: </i>"
      }
     },
     "4f8622fd6da84299ba81c7200f5330d2": {
      "model_module": "@jupyter-widgets/base",
      "model_module_version": "1.0.0",
      "model_name": "LayoutModel",
      "state": {
       "width": "600px"
      }
     },
     "4f9b740b815940cfa5e69cc833afdb41": {
      "model_module": "@jupyter-widgets/controls",
      "model_module_version": "1.2.0",
      "model_name": "ButtonModel",
      "state": {
       "description": "Korrekt?",
       "layout": "IPY_MODEL_e92ef998fe36499da8e43ee5ea127b46",
       "style": "IPY_MODEL_797fd6425d3c49a39064dd3c52cb19c1"
      }
     },
     "5053610a9a054e84b80c543b6f369adc": {
      "model_module": "@jupyter-widgets/controls",
      "model_module_version": "1.2.0",
      "model_name": "HTMLModel",
      "state": {
       "layout": "IPY_MODEL_6abec17fc88240329c84f1b160c71353",
       "style": "IPY_MODEL_5c6cae5337de485c876db2a27738c0db",
       "value": "<h4 style=\"font-size:14px;\">In welcher Form wird die syntaktische Struktur eines Satzes beim Aufruf von NLTK print(tree) erstellt?</h4>"
      }
     },
     "506fad2ff5d74b4687187507a404f1f8": {
      "model_module": "@jupyter-widgets/controls",
      "model_module_version": "1.2.0",
      "model_name": "ButtonStyleModel",
      "state": {}
     },
     "508e0b5282a14dfb8164ca7136c072f2": {
      "model_module": "@jupyter-widgets/base",
      "model_module_version": "1.0.0",
      "model_name": "LayoutModel",
      "state": {
       "justify_content": "center"
      }
     },
     "50b312fc26b54d249ae0077e2826b8b9": {
      "model_module": "@jupyter-widgets/controls",
      "model_module_version": "1.2.0",
      "model_name": "DescriptionStyleModel",
      "state": {
       "description_width": ""
      }
     },
     "50c5e3e7293f441abb2cfaf11aad18bf": {
      "model_module": "@jupyter-widgets/controls",
      "model_module_version": "1.2.0",
      "model_name": "HTMLModel",
      "state": {
       "layout": "IPY_MODEL_8a2096aaa9224d0cb51bbe64c8605aba",
       "style": "IPY_MODEL_b32423f906a5405b9804222f3191300a",
       "value": "<h4 style=\"font-size:14px;\">Die Alternative <code>tree = parser.parse(sent)</code> ist weniger wünschenswert, da im Allgemeinen ________ Parse-Tree möglich ist.</h4>"
      }
     },
     "515479a602894195aafe4afa0414ba2a": {
      "model_module": "@jupyter-widgets/controls",
      "model_module_version": "1.2.0",
      "model_name": "VBoxModel",
      "state": {
       "children": [
        "IPY_MODEL_79fa76afa4854cb88ceda03f8034a907",
        "IPY_MODEL_6ae6c6fa08c94900933197f8375fa1bf",
        "IPY_MODEL_5a50ed1a028642059605056ad2e8b845",
        "IPY_MODEL_f4e42e7fff5947bda63664ca0423cbdf",
        "IPY_MODEL_22b8416380824b6480bd859e36aa5d0b"
       ],
       "layout": "IPY_MODEL_fdd88ba746b246c2b12887555ca0c69c"
      }
     },
     "5159a7e5fc824a129e05ee017d620308": {
      "model_module": "@jupyter-widgets/controls",
      "model_module_version": "1.2.0",
      "model_name": "HBoxModel",
      "state": {
       "children": [
        "IPY_MODEL_99eb585f386646c7ae9c8e3f0c0f0eac",
        "IPY_MODEL_9478ecb740c84a7abf3ad914e3c7fe43"
       ],
       "layout": "IPY_MODEL_c7972a5d21a441059d345f07950b7ea9"
      }
     },
     "5193177595f646f3afa39edbbeffd05e": {
      "model_module": "@jupyter-widgets/base",
      "model_module_version": "1.0.0",
      "model_name": "LayoutModel",
      "state": {
       "width": "600px"
      }
     },
     "5264105d27f04f93ae89290655cb2309": {
      "model_module": "@jupyter-widgets/controls",
      "model_module_version": "1.2.0",
      "model_name": "DescriptionStyleModel",
      "state": {
       "description_width": "initial"
      }
     },
     "5270c41ca1cc49ca890a6d1fc4675db6": {
      "model_module": "@jupyter-widgets/base",
      "model_module_version": "1.0.0",
      "model_name": "LayoutModel",
      "state": {}
     },
     "529503cd523749308f05fb5477e77dcd": {
      "model_module": "@jupyter-widgets/base",
      "model_module_version": "1.0.0",
      "model_name": "LayoutModel",
      "state": {
       "width": "250px"
      }
     },
     "52d7b60f868a49219a70b6375432fe9d": {
      "model_module": "@jupyter-widgets/controls",
      "model_module_version": "1.2.0",
      "model_name": "ButtonStyleModel",
      "state": {}
     },
     "530f10a31ff4484b846e39c8f7438ccf": {
      "model_module": "@jupyter-widgets/controls",
      "model_module_version": "1.2.0",
      "model_name": "DescriptionStyleModel",
      "state": {
       "description_width": ""
      }
     },
     "5388576391734e709715837bb0fa79d5": {
      "model_module": "@jupyter-widgets/controls",
      "model_module_version": "1.2.0",
      "model_name": "HTMLModel",
      "state": {
       "layout": "IPY_MODEL_05a285cf900f4abe92f2dc6d6dc89136",
       "style": "IPY_MODEL_8d0e58d3b9a24748a8ef6192ee1f7a1a",
       "value": "<i>Markieren Sie <ins>alle</ins> passenden Antworten: </i>"
      }
     },
     "53c4ca33f239436f959f189d0260c6bc": {
      "model_module": "@jupyter-widgets/base",
      "model_module_version": "1.0.0",
      "model_name": "LayoutModel",
      "state": {}
     },
     "53f7403e611b4e38be92deec54977ae4": {
      "model_module": "@jupyter-widgets/base",
      "model_module_version": "1.0.0",
      "model_name": "LayoutModel",
      "state": {
       "width": "600px"
      }
     },
     "54257c26f41944af81ab6f748d05da74": {
      "model_module": "@jupyter-widgets/controls",
      "model_module_version": "1.2.0",
      "model_name": "DescriptionStyleModel",
      "state": {
       "description_width": ""
      }
     },
     "5431458c8b864b1fb6bc3cb8433d9a9d": {
      "model_module": "@jupyter-widgets/base",
      "model_module_version": "1.0.0",
      "model_name": "LayoutModel",
      "state": {}
     },
     "54356b2c186e475eab4ffbdb0d0b9e60": {
      "model_module": "@jupyter-widgets/controls",
      "model_module_version": "1.2.0",
      "model_name": "DescriptionStyleModel",
      "state": {
       "description_width": "initial"
      }
     },
     "544d7de59f094b1c8e3d8422ebca16af": {
      "model_module": "@jupyter-widgets/controls",
      "model_module_version": "1.2.0",
      "model_name": "HTMLModel",
      "state": {
       "layout": "IPY_MODEL_9d6a9141a09b404cb392133ab7cc8178",
       "style": "IPY_MODEL_90776859bf394cd1b8174419a20244c0",
       "value": "<i>Wählen Sie die <ins>eine</ins> korrekte Antwort aus: </i>"
      }
     },
     "546f2d93e2e74235aa1e89b8af517208": {
      "model_module": "@jupyter-widgets/controls",
      "model_module_version": "1.2.0",
      "model_name": "DescriptionStyleModel",
      "state": {
       "description_width": ""
      }
     },
     "54a8d7f9735b47b9abc46405dd5aaa43": {
      "model_module": "@jupyter-widgets/controls",
      "model_module_version": "1.2.0",
      "model_name": "HTMLModel",
      "state": {
       "layout": "IPY_MODEL_25dbe33591a547f5a89c7e2fb7861afd",
       "style": "IPY_MODEL_0a8929b8aafc40e89379bebea27450a3",
       "value": "<h4 style=\"font-size:14px;\">Welcher Grammatikbegriff liegt Satz 2 zugrunde?</h4>"
      }
     },
     "54dcbc987fed4c46a0f9b9a9457215d0": {
      "model_module": "@jupyter-widgets/controls",
      "model_module_version": "1.2.0",
      "model_name": "HTMLModel",
      "state": {
       "layout": "IPY_MODEL_d67ed668ffc147a9af51a8efcf0c46ed",
       "style": "IPY_MODEL_4e45944c7ee84af88891dc0cccc47395",
       "value": "<h4 style=\"font-size:14px;\">Zu welcher Phrase kann die Präpositionalphrase \"in my pajamas\" gehören?</h4>"
      }
     },
     "54e8dcc8c72243698637909698ed4bec": {
      "model_module": "@jupyter-widgets/controls",
      "model_module_version": "1.2.0",
      "model_name": "HBoxModel",
      "state": {
       "children": [
        "IPY_MODEL_87081534965f4f90817b1ff7015cdd58"
       ],
       "layout": "IPY_MODEL_3e551fc65b4d491da0fca7fd1e8f9308"
      }
     },
     "553ae24aaa5c4adf803bf7ccd3b42038": {
      "model_module": "@jupyter-widgets/controls",
      "model_module_version": "1.2.0",
      "model_name": "DescriptionStyleModel",
      "state": {
       "description_width": ""
      }
     },
     "5586263bcffa4483b56c6d94c2e17831": {
      "model_module": "@jupyter-widgets/controls",
      "model_module_version": "1.2.0",
      "model_name": "ButtonStyleModel",
      "state": {}
     },
     "559738a61a6047f9863d2af2f5e9db5a": {
      "model_module": "@jupyter-widgets/base",
      "model_module_version": "1.0.0",
      "model_name": "LayoutModel",
      "state": {}
     },
     "559c6065af1343b697e6531695f57bd8": {
      "model_module": "@jupyter-widgets/controls",
      "model_module_version": "1.2.0",
      "model_name": "DescriptionStyleModel",
      "state": {
       "description_width": "initial"
      }
     },
     "55e838374b7a4cd4b9e79f7ab922e354": {
      "model_module": "@jupyter-widgets/controls",
      "model_module_version": "1.2.0",
      "model_name": "HBoxModel",
      "state": {
       "children": [
        "IPY_MODEL_64a63f85359d4eb58ec32fea61d1a65c",
        "IPY_MODEL_c15d644b2ed14aeda9d1363398ebefe3"
       ],
       "layout": "IPY_MODEL_add0116d9e264976bf0c3feadc22e95e"
      }
     },
     "560268eeea1d401f84c83103a2f5757b": {
      "model_module": "@jupyter-widgets/base",
      "model_module_version": "1.0.0",
      "model_name": "LayoutModel",
      "state": {
       "justify_content": "center"
      }
     },
     "563227cf34a24ba1a3c2123c0c178724": {
      "model_module": "@jupyter-widgets/controls",
      "model_module_version": "1.2.0",
      "model_name": "HBoxModel",
      "state": {
       "children": [
        "IPY_MODEL_f351a1940b884527950e86bdf82dd9c3"
       ],
       "layout": "IPY_MODEL_1f831eab61494f09aa524213643fe40e"
      }
     },
     "56376f4e4d814f88a60c4152ca46c698": {
      "model_module": "@jupyter-widgets/controls",
      "model_module_version": "1.2.0",
      "model_name": "DescriptionStyleModel",
      "state": {
       "description_width": ""
      }
     },
     "5691c54deb96478286195f7c6ee36c78": {
      "model_module": "@jupyter-widgets/base",
      "model_module_version": "1.0.0",
      "model_name": "LayoutModel",
      "state": {}
     },
     "569dbf6c78964bdf920eb748b0779ecb": {
      "model_module": "@jupyter-widgets/controls",
      "model_module_version": "1.2.0",
      "model_name": "HTMLModel",
      "state": {
       "layout": "IPY_MODEL_4c3aff8b4a47434691bd59170d571958",
       "style": "IPY_MODEL_2f30b48163f546659269a05c8c946f6a",
       "value": "<i>Wählen Sie die <ins>eine</ins> korrekte Antwort aus: </i>"
      }
     },
     "56b6b2c07e884aa8bfa892d43261bf36": {
      "model_module": "@jupyter-widgets/controls",
      "model_module_version": "1.2.0",
      "model_name": "DescriptionStyleModel",
      "state": {
       "description_width": ""
      }
     },
     "56eaacaad3834487b81ef40ef7edc80e": {
      "model_module": "@jupyter-widgets/base",
      "model_module_version": "1.0.0",
      "model_name": "LayoutModel",
      "state": {}
     },
     "56fee616ac8d469dbccab27fb5673d8c": {
      "model_module": "@jupyter-widgets/controls",
      "model_module_version": "1.2.0",
      "model_name": "DescriptionStyleModel",
      "state": {
       "description_width": ""
      }
     },
     "57085aaa621e4bcb9967b04141490238": {
      "model_module": "@jupyter-widgets/controls",
      "model_module_version": "1.2.0",
      "model_name": "DescriptionStyleModel",
      "state": {
       "description_width": ""
      }
     },
     "575f25d961c242bca1815900b7288472": {
      "model_module": "@jupyter-widgets/controls",
      "model_module_version": "1.2.0",
      "model_name": "ButtonStyleModel",
      "state": {}
     },
     "5769b89d46114a3fa2c944aee5ba5c78": {
      "model_module": "@jupyter-widgets/base",
      "model_module_version": "1.0.0",
      "model_name": "LayoutModel",
      "state": {
       "width": "250px"
      }
     },
     "57bdda6b7ff14fa49f03a157af2365c2": {
      "model_module": "@jupyter-widgets/controls",
      "model_module_version": "1.2.0",
      "model_name": "CheckboxModel",
      "state": {
       "description": "Parsebaum",
       "disabled": false,
       "layout": "IPY_MODEL_c122d10c44b04687af5b8d70a7b788bc",
       "style": "IPY_MODEL_10a8df9d954d4c8fa76914f90532df1e",
       "value": false
      }
     },
     "585fa4a4ed7b4f9887bb0ad48273e9c2": {
      "model_module": "@jupyter-widgets/controls",
      "model_module_version": "1.2.0",
      "model_name": "HBoxModel",
      "state": {
       "children": [
        "IPY_MODEL_7ad1058f283c449aae9fceed61759305",
        "IPY_MODEL_b846c41190d34188a623adea59f26778"
       ],
       "layout": "IPY_MODEL_911e88742d6349fa82b21bb8420858c5"
      }
     },
     "58673783cbe1496eb653032534fb29d4": {
      "model_module": "@jupyter-widgets/base",
      "model_module_version": "1.0.0",
      "model_name": "LayoutModel",
      "state": {}
     },
     "586a1a40bdd64dea99bc180b854f9ceb": {
      "model_module": "@jupyter-widgets/controls",
      "model_module_version": "1.2.0",
      "model_name": "HTMLModel",
      "state": {
       "layout": "IPY_MODEL_508e0b5282a14dfb8164ca7136c072f2",
       "style": "IPY_MODEL_546f2d93e2e74235aa1e89b8af517208",
       "value": "<i>Wählen Sie die <ins>eine</ins> korrekte Antwort aus: </i>"
      }
     },
     "58c555ff19064087ad48e3d12f0e3757": {
      "model_module": "@jupyter-widgets/controls",
      "model_module_version": "1.2.0",
      "model_name": "CheckboxModel",
      "state": {
       "description": "Subjekt",
       "disabled": false,
       "layout": "IPY_MODEL_5ebdb2a80dd74cdd9f9084c7e608ed87",
       "style": "IPY_MODEL_5264105d27f04f93ae89290655cb2309",
       "value": false
      }
     },
     "58ce1612c999401f85a26b104a975a4a": {
      "model_module": "@jupyter-widgets/controls",
      "model_module_version": "1.2.0",
      "model_name": "ButtonStyleModel",
      "state": {}
     },
     "58e61397a5e249c3b2dd020c75eee6ef": {
      "model_module": "@jupyter-widgets/controls",
      "model_module_version": "1.2.0",
      "model_name": "VBoxModel",
      "state": {
       "children": [
        "IPY_MODEL_d2a0134c8c514e7d9ed87c800f48bf1d",
        "IPY_MODEL_036a45e6023447f6aefafc7c468115a2",
        "IPY_MODEL_d1e23771027543539e4c39b4ee3a8536",
        "IPY_MODEL_57bdda6b7ff14fa49f03a157af2365c2",
        "IPY_MODEL_9a0171f1b7164dd8a280863bbcd0e7e9"
       ],
       "layout": "IPY_MODEL_87e33bc1f65841a6a586b0b6d26c85c9"
      }
     },
     "58fae21847e84905b6f8dbc81584ba5e": {
      "model_module": "@jupyter-widgets/controls",
      "model_module_version": "1.2.0",
      "model_name": "DescriptionStyleModel",
      "state": {
       "description_width": ""
      }
     },
     "5919129c542b42ed88c197be317df4c8": {
      "model_module": "@jupyter-widgets/controls",
      "model_module_version": "1.2.0",
      "model_name": "ButtonModel",
      "state": {
       "description": "kein",
       "layout": "IPY_MODEL_414e5c3f5be24b48b292741c5158936f",
       "style": "IPY_MODEL_85a87b4db2e040c999f7bcddd865df5a"
      }
     },
     "594132ed2c6d4f829e96918c9bbd4b55": {
      "model_module": "@jupyter-widgets/controls",
      "model_module_version": "1.2.0",
      "model_name": "HBoxModel",
      "state": {
       "children": [
        "IPY_MODEL_5c19a834525f46daac4cb45c136c8f35",
        "IPY_MODEL_13bf5c4ef22f47a0acee07851f17987a"
       ],
       "layout": "IPY_MODEL_bd0e126b563749fe97f86e98b9ee0aca"
      }
     },
     "5a04275e7d624ae6b0d774fbd6461bcf": {
      "model_module": "@jupyter-widgets/base",
      "model_module_version": "1.0.0",
      "model_name": "LayoutModel",
      "state": {
       "width": "250px"
      }
     },
     "5a4e6e70aeb54a20ac9b0a3b1cfbf79f": {
      "model_module": "@jupyter-widgets/base",
      "model_module_version": "1.0.0",
      "model_name": "LayoutModel",
      "state": {}
     },
     "5a50ed1a028642059605056ad2e8b845": {
      "model_module": "@jupyter-widgets/controls",
      "model_module_version": "1.2.0",
      "model_name": "HBoxModel",
      "state": {
       "children": [
        "IPY_MODEL_053dbeb6999447d4beb68647b9fc1d45",
        "IPY_MODEL_5cf17816b2a3470fb1d52c17a8aa06b4"
       ],
       "layout": "IPY_MODEL_0a2bf6dfc7e648879adfbde3f69d1d48"
      }
     },
     "5ac3962f98da4d60ac1ce246c590b9a7": {
      "model_module": "@jupyter-widgets/controls",
      "model_module_version": "1.2.0",
      "model_name": "DescriptionStyleModel",
      "state": {
       "description_width": "initial"
      }
     },
     "5ae2f83f4e224ac18f863fa55175fae7": {
      "model_module": "@jupyter-widgets/controls",
      "model_module_version": "1.2.0",
      "model_name": "DescriptionStyleModel",
      "state": {
       "description_width": "initial"
      }
     },
     "5af507e9bc2d4cae8a0b0ac07682bc6a": {
      "model_module": "@jupyter-widgets/base",
      "model_module_version": "1.0.0",
      "model_name": "LayoutModel",
      "state": {
       "width": "600px"
      }
     },
     "5b29671dd4d84445bca5c51356f6bd49": {
      "model_module": "@jupyter-widgets/controls",
      "model_module_version": "1.2.0",
      "model_name": "HTMLModel",
      "state": {
       "layout": "IPY_MODEL_2d17cf03798d441caa1c17f4cfeba6d3",
       "style": "IPY_MODEL_8a38f9e8fe8e4ecc85718ca87cb5d2da",
       "value": "<h4 style=\"font-size:14px;\">Was ist der Fall, wenn die PP ein Attribut ist?</h4>"
      }
     },
     "5b650d63703d44bd97340b4e481e5b7f": {
      "model_module": "@jupyter-widgets/base",
      "model_module_version": "1.0.0",
      "model_name": "LayoutModel",
      "state": {
       "width": "250px"
      }
     },
     "5ba5ff4445cf4f2492b8a1de8c170778": {
      "model_module": "@jupyter-widgets/controls",
      "model_module_version": "1.2.0",
      "model_name": "DescriptionStyleModel",
      "state": {
       "description_width": "initial"
      }
     },
     "5ba650c8a83d435780379aa31f6b09a3": {
      "model_module": "@jupyter-widgets/base",
      "model_module_version": "1.0.0",
      "model_name": "LayoutModel",
      "state": {
       "justify_content": "center"
      }
     },
     "5c19a834525f46daac4cb45c136c8f35": {
      "model_module": "@jupyter-widgets/controls",
      "model_module_version": "1.2.0",
      "model_name": "ButtonModel",
      "state": {
       "description": "genau ein",
       "layout": "IPY_MODEL_5f2859e8f2544e0fb18ae19bb4a34bc3",
       "style": "IPY_MODEL_0e8dcf7530344242a636aa373b71f57b"
      }
     },
     "5c68c0dac0d447828202fdac793b2983": {
      "model_module": "@jupyter-widgets/controls",
      "model_module_version": "1.2.0",
      "model_name": "HBoxModel",
      "state": {
       "children": [
        "IPY_MODEL_41161726161b459ea960f4b4e07959f9",
        "IPY_MODEL_e10224b8572d4ad695e3b3787e2c5330"
       ],
       "layout": "IPY_MODEL_7a054ae0cc75423990c58b395e054c53"
      }
     },
     "5c6cae5337de485c876db2a27738c0db": {
      "model_module": "@jupyter-widgets/controls",
      "model_module_version": "1.2.0",
      "model_name": "DescriptionStyleModel",
      "state": {
       "description_width": ""
      }
     },
     "5cf17816b2a3470fb1d52c17a8aa06b4": {
      "model_module": "@jupyter-widgets/controls",
      "model_module_version": "1.2.0",
      "model_name": "ButtonModel",
      "state": {
       "description": "Regelsystem",
       "layout": "IPY_MODEL_3dab512373d94a20acdc162296b6769f",
       "style": "IPY_MODEL_3520967b340f42f6ae3d5fb5c328a770"
      }
     },
     "5d5553fe9353466dafdfe52ea0aa9a05": {
      "model_module": "@jupyter-widgets/base",
      "model_module_version": "1.0.0",
      "model_name": "LayoutModel",
      "state": {
       "width": "250px"
      }
     },
     "5d6467e94db64053ad521141875c7955": {
      "model_module": "@jupyter-widgets/base",
      "model_module_version": "1.0.0",
      "model_name": "LayoutModel",
      "state": {}
     },
     "5dc2d7c97b654ffebaccd69fd90c367c": {
      "model_module": "@jupyter-widgets/controls",
      "model_module_version": "1.2.0",
      "model_name": "CheckboxModel",
      "state": {
       "description": "Ableitungsbaum",
       "disabled": false,
       "layout": "IPY_MODEL_c8cb8b0a54654186a9e02e596a413f95",
       "style": "IPY_MODEL_a31a8443aaf84a5c8fd467c067422a4e",
       "value": false
      }
     },
     "5dfcc5a8463b4d9daa079a587fcf3cdb": {
      "model_module": "@jupyter-widgets/controls",
      "model_module_version": "1.2.0",
      "model_name": "HTMLModel",
      "state": {
       "layout": "IPY_MODEL_8c46bcca93f6487286527ff679d780d7",
       "style": "IPY_MODEL_57085aaa621e4bcb9967b04141490238",
       "value": "<i>Markieren Sie <ins>alle</ins> passenden Antworten: </i>"
      }
     },
     "5e0308eef85f404c83e65f8e125f1efe": {
      "model_module": "@jupyter-widgets/controls",
      "model_module_version": "1.2.0",
      "model_name": "ButtonStyleModel",
      "state": {}
     },
     "5e0fc4d3249f42d6a60dcea2a8bec6bf": {
      "model_module": "@jupyter-widgets/controls",
      "model_module_version": "1.2.0",
      "model_name": "ButtonModel",
      "state": {
       "description": "Reflexivität",
       "layout": "IPY_MODEL_79545229a287471cb93a8e969e0217f4",
       "style": "IPY_MODEL_6975803b5d394c808f5c769eb7cfce71"
      }
     },
     "5e2d30c9bd214dd68d7b5c2eeed0f46c": {
      "model_module": "@jupyter-widgets/controls",
      "model_module_version": "1.2.0",
      "model_name": "VBoxModel",
      "state": {
       "children": [
        "IPY_MODEL_604a356c028b4c2ca01397e67ea174dd",
        "IPY_MODEL_76de1069ecfe4f92b581803b3dc38055",
        "IPY_MODEL_eba6bfcec7074bef932a3a5cc37ca3e4"
       ],
       "layout": "IPY_MODEL_bc85b37695a340eb9412504acb9b8773"
      }
     },
     "5e3deac7680e4fbab37f758c99543027": {
      "model_module": "@jupyter-widgets/controls",
      "model_module_version": "1.2.0",
      "model_name": "VBoxModel",
      "state": {
       "children": [
        "IPY_MODEL_a52a5af2b2144594b6c67d7fbf38849d",
        "IPY_MODEL_544d7de59f094b1c8e3d8422ebca16af",
        "IPY_MODEL_5c68c0dac0d447828202fdac793b2983",
        "IPY_MODEL_309fb07638ea4db5a1c23f7939a22093"
       ],
       "layout": "IPY_MODEL_9db860f6b8964b8492edc5b457ebfdfc"
      }
     },
     "5e3f7163a2304e0f9174df4b2cc6e66c": {
      "model_module": "@jupyter-widgets/base",
      "model_module_version": "1.0.0",
      "model_name": "LayoutModel",
      "state": {
       "justify_content": "center"
      }
     },
     "5e6b28ed32eb406e9ed2ef44743b5147": {
      "model_module": "@jupyter-widgets/base",
      "model_module_version": "1.0.0",
      "model_name": "LayoutModel",
      "state": {
       "width": "600px"
      }
     },
     "5ebdb2a80dd74cdd9f9084c7e608ed87": {
      "model_module": "@jupyter-widgets/base",
      "model_module_version": "1.0.0",
      "model_name": "LayoutModel",
      "state": {
       "width": "600px"
      }
     },
     "5ed32692225d4736bafbe2c02c1c3849": {
      "model_module": "@jupyter-widgets/base",
      "model_module_version": "1.0.0",
      "model_name": "LayoutModel",
      "state": {}
     },
     "5efc6af7cdc14cb1bad29c51e65d56dd": {
      "model_module": "@jupyter-widgets/controls",
      "model_module_version": "1.2.0",
      "model_name": "VBoxModel",
      "state": {
       "children": [
        "IPY_MODEL_97ef6ebce11b4aad84acbe5432eee3e4",
        "IPY_MODEL_46a184b1d7e04d84820085c2cf7bd04c",
        "IPY_MODEL_7654d0220fa147fbbf363af76ec087de",
        "IPY_MODEL_aa95cd716eb34393aba0c47e92cfacf0"
       ],
       "layout": "IPY_MODEL_e8d2a9ef86454b23a539146761103aa9"
      }
     },
     "5f1e250a18d94094b6885e56511605ab": {
      "model_module": "@jupyter-widgets/controls",
      "model_module_version": "1.2.0",
      "model_name": "HTMLModel",
      "state": {
       "layout": "IPY_MODEL_1020abd3cf6a4d9da67160b6b5b9bba4",
       "style": "IPY_MODEL_1cfd0981b58e4f059e25d96d8df5586f",
       "value": "<h4 style=\"font-size:14px;\">Welche Gesetzmäßigkeiten umfasst die Grammatik als Regelsystem?</h4>"
      }
     },
     "5f2859e8f2544e0fb18ae19bb4a34bc3": {
      "model_module": "@jupyter-widgets/base",
      "model_module_version": "1.0.0",
      "model_name": "LayoutModel",
      "state": {
       "width": "250px"
      }
     },
     "5f9ff872fe3a4f6da68cdc6bbb424680": {
      "model_module": "@jupyter-widgets/controls",
      "model_module_version": "1.2.0",
      "model_name": "VBoxModel",
      "state": {
       "children": [
        "IPY_MODEL_205f968efe1e405e807c34e56290817a",
        "IPY_MODEL_6145b8378b304b18a36c732befbf93ae",
        "IPY_MODEL_b2c619ba449042df9a8da529239a8f98",
        "IPY_MODEL_1b8e2becc13b4929a12cd975065f8cd6"
       ],
       "layout": "IPY_MODEL_a616842196764f169447d48ab2053a83"
      }
     },
     "5fbb28ae6da94c078d89cd8a5b1eee69": {
      "model_module": "@jupyter-widgets/controls",
      "model_module_version": "1.2.0",
      "model_name": "ButtonStyleModel",
      "state": {}
     },
     "5fbf8381b76b43ed89d821262a54e39d": {
      "model_module": "@jupyter-widgets/controls",
      "model_module_version": "1.2.0",
      "model_name": "VBoxModel",
      "state": {
       "children": [
        "IPY_MODEL_cda54de5b576466babdc97c1050adf8b",
        "IPY_MODEL_42a4dc646c034ba0b42a224d1f87f363",
        "IPY_MODEL_e197e75e76184466be74ff5f3b7f9c18",
        "IPY_MODEL_98e7365fc23a44fc8c25d861ceb822bf",
        "IPY_MODEL_647f81e1543b4ba0abc6039060f21a74"
       ],
       "layout": "IPY_MODEL_d979800af0c34ce7a8e5af07df7d5a9d"
      }
     },
     "5fc387be99994d0e84c01d6b4b23a97b": {
      "model_module": "@jupyter-widgets/controls",
      "model_module_version": "1.2.0",
      "model_name": "ButtonModel",
      "state": {
       "description": "Korrekt?",
       "layout": "IPY_MODEL_3203818fe91f4b4ba09f5b3901497e75",
       "style": "IPY_MODEL_4b09e60ea8964301b5d2ebd8480afe8b"
      }
     },
     "5fdbdfe4d3624dde8141393eaad0854e": {
      "model_module": "@jupyter-widgets/controls",
      "model_module_version": "1.2.0",
      "model_name": "HTMLModel",
      "state": {
       "layout": "IPY_MODEL_ad1b75b88c9a4755aa83b31b42ec05c2",
       "style": "IPY_MODEL_6cbdfe45c981444a9c5ae9e3fff88f8c",
       "value": "<h4 style=\"font-size:14px;\">Was ist der Ursprung der Ambiguität?</h4>"
      }
     },
     "5fffa93c99d2436baef6a5590780fb83": {
      "model_module": "@jupyter-widgets/base",
      "model_module_version": "1.0.0",
      "model_name": "LayoutModel",
      "state": {}
     },
     "60473c73f46a4cfa845408559ca5d0bc": {
      "model_module": "@jupyter-widgets/base",
      "model_module_version": "1.0.0",
      "model_name": "LayoutModel",
      "state": {
       "justify_content": "center"
      }
     },
     "604a356c028b4c2ca01397e67ea174dd": {
      "model_module": "@jupyter-widgets/controls",
      "model_module_version": "1.2.0",
      "model_name": "HTMLModel",
      "state": {
       "layout": "IPY_MODEL_992ef7972251414f9bea99ddfd2c5626",
       "style": "IPY_MODEL_df1ec0476f0840a18d7d202f43a9205b",
       "value": "<i>Vervollständigen Sie den Lückentext: </i>"
      }
     },
     "6096357b1f0f49c3af64f425eb2ddb6c": {
      "model_module": "@jupyter-widgets/base",
      "model_module_version": "1.0.0",
      "model_name": "LayoutModel",
      "state": {
       "width": "600px"
      }
     },
     "60e372fe1cd1470990a4f89e91b5e5b7": {
      "model_module": "@jupyter-widgets/controls",
      "model_module_version": "1.2.0",
      "model_name": "ButtonStyleModel",
      "state": {}
     },
     "60f3026821914baca29f5bdba4456fd7": {
      "model_module": "@jupyter-widgets/controls",
      "model_module_version": "1.2.0",
      "model_name": "HTMLModel",
      "state": {
       "layout": "IPY_MODEL_0084601013a34463bc25f516954db024",
       "style": "IPY_MODEL_cac64ce182e2463eba0e814413b72129",
       "value": "<h4 style=\"font-size:14px;\">Was ist der Fall, wenn die PP ein Adverbial ist?</h4>"
      }
     },
     "6145b8378b304b18a36c732befbf93ae": {
      "model_module": "@jupyter-widgets/controls",
      "model_module_version": "1.2.0",
      "model_name": "HTMLModel",
      "state": {
       "layout": "IPY_MODEL_fbb7470e56454202960474812d548c59",
       "style": "IPY_MODEL_decb6d12adc844c99bdca9ca57470745",
       "value": "<i>Wählen Sie die <ins>eine</ins> korrekte Antwort aus: </i>"
      }
     },
     "61687e063e164b32a6147de4168667c6": {
      "model_module": "@jupyter-widgets/base",
      "model_module_version": "1.0.0",
      "model_name": "LayoutModel",
      "state": {
       "justify_content": "center"
      }
     },
     "61af44fa53314413bf3a77d239fabc0c": {
      "model_module": "@jupyter-widgets/base",
      "model_module_version": "1.0.0",
      "model_name": "LayoutModel",
      "state": {
       "justify_content": "center"
      }
     },
     "62665616bd4d4d9b95b162faad02daa3": {
      "model_module": "@jupyter-widgets/base",
      "model_module_version": "1.0.0",
      "model_name": "LayoutModel",
      "state": {}
     },
     "62730ccb04ff4c408f0927136d3f0bb8": {
      "model_module": "@jupyter-widgets/controls",
      "model_module_version": "1.2.0",
      "model_name": "HTMLModel",
      "state": {
       "layout": "IPY_MODEL_bd8b07177c5d421381f758a786ef84d8",
       "style": "IPY_MODEL_447369a367e4486d8ae40bbedcbbc6d3",
       "value": "<h4 style=\"font-size:14px;\">Hinsichtlich welcher syntaktischen Grundprinzipien werden natürliche Sprachen mit formalen Methoden analysiert?</h4>"
      }
     },
     "6273663d56e142629f3f0581739395ae": {
      "model_module": "@jupyter-widgets/controls",
      "model_module_version": "1.2.0",
      "model_name": "DropdownModel",
      "state": {
       "_options_labels": [
        "Morphem",
        "Symbol",
        "Wort",
        " "
       ],
       "index": 3,
       "layout": "IPY_MODEL_0876f60d07f2452696b9cb535da7318f",
       "style": "IPY_MODEL_ae07e6e9221444bc8f7252261884b0fd"
      }
     },
     "627d5be8a0b74af48a6d8c48f7a59719": {
      "model_module": "@jupyter-widgets/controls",
      "model_module_version": "1.2.0",
      "model_name": "HTMLModel",
      "state": {
       "layout": "IPY_MODEL_728118aad9ae47509115b33d9b913847",
       "style": "IPY_MODEL_296de51e5781414e93181ed19ebedf0c",
       "value": "<h4 style=\"font-size:14px;\">Welche Vorteile hat die Modellierung der Satzstruktur mit Hilfe einer formalen Grammatik?</h4>"
      }
     },
     "6292fc8f4f2e4a9eb0cc484d1279411e": {
      "model_module": "@jupyter-widgets/controls",
      "model_module_version": "1.2.0",
      "model_name": "ButtonModel",
      "state": {
       "description": "Ambiguität",
       "layout": "IPY_MODEL_a9fff259efc5426c8a88e9dbca2b6e25",
       "style": "IPY_MODEL_afbc81e3b3dc4e2ea46b4e63ff290577"
      }
     },
     "62c1ea2523e64d71a07fc80dbd4f5b6f": {
      "model_module": "@jupyter-widgets/controls",
      "model_module_version": "1.2.0",
      "model_name": "DescriptionStyleModel",
      "state": {
       "description_width": ""
      }
     },
     "62f67939dd8842deae8f00ae5c9e47c7": {
      "model_module": "@jupyter-widgets/controls",
      "model_module_version": "1.2.0",
      "model_name": "VBoxModel",
      "state": {
       "children": [
        "IPY_MODEL_60f3026821914baca29f5bdba4456fd7",
        "IPY_MODEL_f7d71f015dfc41a592d440ef230897d2",
        "IPY_MODEL_c5e9657c11ad42319527f45a0210902e",
        "IPY_MODEL_d4208a149b0f450bae1ab7a8b4a2271e"
       ],
       "layout": "IPY_MODEL_3bc3a118148b46eeb957bcd19a5b1eca"
      }
     },
     "6338de493e6645228e61417d1f0b97bc": {
      "model_module": "@jupyter-widgets/controls",
      "model_module_version": "1.2.0",
      "model_name": "HBoxModel",
      "state": {
       "children": [
        "IPY_MODEL_35740b079dd14006b783c15a33aff562",
        "IPY_MODEL_a925649a96354d4888979b0f2d902a2a"
       ],
       "layout": "IPY_MODEL_934266510ac147689517edb7001971c9"
      }
     },
     "6338e6ea3bef415da852f2a74edecf04": {
      "model_module": "@jupyter-widgets/controls",
      "model_module_version": "1.2.0",
      "model_name": "ButtonStyleModel",
      "state": {}
     },
     "63e868c2d905492a83b1f8bf65d10e2e": {
      "model_module": "@jupyter-widgets/controls",
      "model_module_version": "1.2.0",
      "model_name": "VBoxModel",
      "state": {
       "children": [
        "IPY_MODEL_4952a4c9c2dd4b13842a29c4aea9b2eb",
        "IPY_MODEL_80ecd47115c248899a1270ad7571594c",
        "IPY_MODEL_b647e6985128469bbeceac649b7a909b",
        "IPY_MODEL_831da72084cc44d8bbd0c8a8b44f9b9a"
       ],
       "layout": "IPY_MODEL_0e301134235648d9ada892eec85b25a1"
      }
     },
     "64178301f3174b5d9eee8ceb901b3985": {
      "model_module": "@jupyter-widgets/controls",
      "model_module_version": "1.2.0",
      "model_name": "HTMLModel",
      "state": {
       "layout": "IPY_MODEL_0c92e2c5a77b48dcbc2711f7691558b0",
       "style": "IPY_MODEL_45f147267df843b0b1a648835ed50b9c",
       "value": "<h4 style=\"font-size:14px;\">Für die Blätter gilt: natürlichsprachliche Wörter sind eine Teilmenge aus dem Alphabet der</h4>"
      }
     },
     "64432b8ae6f8442e874c41675e2a6024": {
      "model_module": "@jupyter-widgets/controls",
      "model_module_version": "1.2.0",
      "model_name": "HTMLModel",
      "state": {
       "layout": "IPY_MODEL_660db8a0e4d942efa4684f61afcd6925",
       "style": "IPY_MODEL_73e5757b3adb408c90c0bf458381a573",
       "value": "<h4 style=\"font-size:14px;\">In welcher Form wird die syntaktische Struktur eines Satzes beim Aufruf von NLTK tree.draw() erstellt?</h4>"
      }
     },
     "646ba41c5e874da9984d3da971275c6a": {
      "model_module": "@jupyter-widgets/controls",
      "model_module_version": "1.2.0",
      "model_name": "ButtonModel",
      "state": {
       "description": "Keine der anderen Möglichkeiten",
       "layout": "IPY_MODEL_725167bc5cd84556bf4d64f1fcc5a092",
       "style": "IPY_MODEL_9dcc907ac5284cccb3769680e816d6ca"
      }
     },
     "647f81e1543b4ba0abc6039060f21a74": {
      "model_module": "@jupyter-widgets/controls",
      "model_module_version": "1.2.0",
      "model_name": "HBoxModel",
      "state": {
       "children": [
        "IPY_MODEL_ac871ce0699d47a2b9767d6f9043a525"
       ],
       "layout": "IPY_MODEL_0838b6fe8b9748cfb7a0d480a38bd116"
      }
     },
     "647fa655cac140a0b372ae632b4c1a76": {
      "model_module": "@jupyter-widgets/base",
      "model_module_version": "1.0.0",
      "model_name": "LayoutModel",
      "state": {}
     },
     "64a63f85359d4eb58ec32fea61d1a65c": {
      "model_module": "@jupyter-widgets/controls",
      "model_module_version": "1.2.0",
      "model_name": "ButtonModel",
      "state": {
       "description": "Reflexivität",
       "layout": "IPY_MODEL_79efe659200045278ff47d946c9f4f98",
       "style": "IPY_MODEL_ec0bf64b48904b8482c7681faf40be9a"
      }
     },
     "64b9c2b5b7de48bbaf6e860960a02c56": {
      "model_module": "@jupyter-widgets/base",
      "model_module_version": "1.0.0",
      "model_name": "LayoutModel",
      "state": {}
     },
     "6510133d8fec49a99ff6bc08325a1cc3": {
      "model_module": "@jupyter-widgets/base",
      "model_module_version": "1.0.0",
      "model_name": "LayoutModel",
      "state": {
       "justify_content": "center"
      }
     },
     "652ea62cf70a4591b59b2247950578ca": {
      "model_module": "@jupyter-widgets/controls",
      "model_module_version": "1.2.0",
      "model_name": "DescriptionStyleModel",
      "state": {
       "description_width": ""
      }
     },
     "657aaf07c99d4ed99bb44d562f1107d0": {
      "model_module": "@jupyter-widgets/controls",
      "model_module_version": "1.2.0",
      "model_name": "ButtonStyleModel",
      "state": {}
     },
     "6599f444a1594db09fa8cbd8b4f4e965": {
      "model_module": "@jupyter-widgets/base",
      "model_module_version": "1.0.0",
      "model_name": "LayoutModel",
      "state": {}
     },
     "659d8782ee2a44b18040b514f6fbf950": {
      "model_module": "@jupyter-widgets/base",
      "model_module_version": "1.0.0",
      "model_name": "LayoutModel",
      "state": {
       "justify_content": "center"
      }
     },
     "65c0a380ab9d496c85b8fb0fd34cb19d": {
      "model_module": "@jupyter-widgets/controls",
      "model_module_version": "1.2.0",
      "model_name": "DescriptionStyleModel",
      "state": {
       "description_width": ""
      }
     },
     "65d3ca40c51f400d94af9b3992c33479": {
      "model_module": "@jupyter-widgets/controls",
      "model_module_version": "1.2.0",
      "model_name": "DescriptionStyleModel",
      "state": {
       "description_width": "initial"
      }
     },
     "660db8a0e4d942efa4684f61afcd6925": {
      "model_module": "@jupyter-widgets/base",
      "model_module_version": "1.0.0",
      "model_name": "LayoutModel",
      "state": {
       "justify_content": "center"
      }
     },
     "661285d43fbc4b66ab726be54770b8a5": {
      "model_module": "@jupyter-widgets/base",
      "model_module_version": "1.0.0",
      "model_name": "LayoutModel",
      "state": {}
     },
     "664cd16d17014dc2a5f485a766eee5db": {
      "model_module": "@jupyter-widgets/controls",
      "model_module_version": "1.2.0",
      "model_name": "DescriptionStyleModel",
      "state": {
       "description_width": ""
      }
     },
     "6652516c9b7d43ad810bf69f642f1298": {
      "model_module": "@jupyter-widgets/controls",
      "model_module_version": "1.2.0",
      "model_name": "DescriptionStyleModel",
      "state": {
       "description_width": ""
      }
     },
     "66c399ff312646598d1c8f7168eca448": {
      "model_module": "@jupyter-widgets/controls",
      "model_module_version": "1.2.0",
      "model_name": "DescriptionStyleModel",
      "state": {
       "description_width": ""
      }
     },
     "66c3b22b777a477688ffee5eb393245d": {
      "model_module": "@jupyter-widgets/controls",
      "model_module_version": "1.2.0",
      "model_name": "CheckboxModel",
      "state": {
       "description": "indirektes Objekt",
       "disabled": false,
       "layout": "IPY_MODEL_3a16ed9ad1fc45b1be9c82f1f566ef58",
       "style": "IPY_MODEL_9627d768d57f48f7bf96ccb3422abe25",
       "value": false
      }
     },
     "6772172bf66a42448f1dddce638dc534": {
      "model_module": "@jupyter-widgets/controls",
      "model_module_version": "1.2.0",
      "model_name": "ButtonStyleModel",
      "state": {}
     },
     "67bff4e00f134f65884c479fe0070f80": {
      "model_module": "@jupyter-widgets/base",
      "model_module_version": "1.0.0",
      "model_name": "LayoutModel",
      "state": {
       "width": "600px"
      }
     },
     "682a4c7a68c94e8596c3944e8ebafcc2": {
      "model_module": "@jupyter-widgets/controls",
      "model_module_version": "1.2.0",
      "model_name": "DescriptionStyleModel",
      "state": {
       "description_width": "initial"
      }
     },
     "683940b8784f488c9ea472156d1595fc": {
      "model_module": "@jupyter-widgets/controls",
      "model_module_version": "1.2.0",
      "model_name": "VBoxModel",
      "state": {
       "children": [
        "IPY_MODEL_cb23c744f22140fc99de0f10435d05dc",
        "IPY_MODEL_8c7d43fa9f634f198c72681b763d769b",
        "IPY_MODEL_8d90db1739754f05b7638664d5bd48fb"
       ],
       "layout": "IPY_MODEL_d19eb79387fd4b0d9154abb62589fc22"
      }
     },
     "688a15241afe4ffe9100e57c11ec3b62": {
      "model_module": "@jupyter-widgets/base",
      "model_module_version": "1.0.0",
      "model_name": "LayoutModel",
      "state": {
       "width": "600px"
      }
     },
     "688a262a2dcd4543ae91a44de894fbf8": {
      "model_module": "@jupyter-widgets/controls",
      "model_module_version": "1.2.0",
      "model_name": "ButtonStyleModel",
      "state": {}
     },
     "68a38ea319854ddfa9c8ef6a29e8b8e3": {
      "model_module": "@jupyter-widgets/base",
      "model_module_version": "1.0.0",
      "model_name": "LayoutModel",
      "state": {
       "width": "250px"
      }
     },
     "690b25448bcb4267803da65fd1d61471": {
      "model_module": "@jupyter-widgets/base",
      "model_module_version": "1.0.0",
      "model_name": "LayoutModel",
      "state": {
       "width": "250px"
      }
     },
     "6975803b5d394c808f5c769eb7cfce71": {
      "model_module": "@jupyter-widgets/controls",
      "model_module_version": "1.2.0",
      "model_name": "ButtonStyleModel",
      "state": {}
     },
     "699d8bf194a247c9a7e6f93d91c8ae2d": {
      "model_module": "@jupyter-widgets/base",
      "model_module_version": "1.0.0",
      "model_name": "LayoutModel",
      "state": {
       "width": "250px"
      }
     },
     "69e35c843c0049f98c54d9d99da1583a": {
      "model_module": "@jupyter-widgets/controls",
      "model_module_version": "1.2.0",
      "model_name": "CheckboxModel",
      "state": {
       "description": "Abhängigkeitsstruktur",
       "disabled": false,
       "layout": "IPY_MODEL_92a9ce8645cd4e99a19d828f775227fb",
       "style": "IPY_MODEL_682a4c7a68c94e8596c3944e8ebafcc2",
       "value": false
      }
     },
     "6a854a04677b4b7ea10b74a996aa31c2": {
      "model_module": "@jupyter-widgets/controls",
      "model_module_version": "1.2.0",
      "model_name": "VBoxModel",
      "state": {
       "children": [
        "IPY_MODEL_d8dd27107d6846c9b10dd225a61bb500",
        "IPY_MODEL_b783e2a76e51484592d90ccfc51be165",
        "IPY_MODEL_fcf131833f794a9c8e39b455f6095abc",
        "IPY_MODEL_f969a23929584498ad3a6d27cce02750"
       ],
       "layout": "IPY_MODEL_e1a91f66044c4f4a9db544794b71bc77"
      }
     },
     "6abec17fc88240329c84f1b160c71353": {
      "model_module": "@jupyter-widgets/base",
      "model_module_version": "1.0.0",
      "model_name": "LayoutModel",
      "state": {
       "justify_content": "center"
      }
     },
     "6ae6c6fa08c94900933197f8375fa1bf": {
      "model_module": "@jupyter-widgets/controls",
      "model_module_version": "1.2.0",
      "model_name": "HTMLModel",
      "state": {
       "layout": "IPY_MODEL_3ef79472a6844148af2c46bc10e1f01d",
       "style": "IPY_MODEL_abfefece252c4974a05ecacb3a5fd5ea",
       "value": "<i>Wählen Sie die <ins>eine</ins> korrekte Antwort aus: </i>"
      }
     },
     "6b00fbe00d184511b896f2a6944b600d": {
      "model_module": "@jupyter-widgets/base",
      "model_module_version": "1.0.0",
      "model_name": "LayoutModel",
      "state": {}
     },
     "6b05546bca414aa1ad4b8ec33a530b08": {
      "model_module": "@jupyter-widgets/controls",
      "model_module_version": "1.2.0",
      "model_name": "DescriptionStyleModel",
      "state": {
       "description_width": ""
      }
     },
     "6b2064d79e8d4e2f8ea3000ddae64e4a": {
      "model_module": "@jupyter-widgets/base",
      "model_module_version": "1.0.0",
      "model_name": "LayoutModel",
      "state": {
       "width": "600px"
      }
     },
     "6b68e68367ee44c985716af4bb4b508e": {
      "model_module": "@jupyter-widgets/controls",
      "model_module_version": "1.2.0",
      "model_name": "CheckboxModel",
      "state": {
       "description": "Konstituenz",
       "disabled": false,
       "layout": "IPY_MODEL_a82f1f06b6774d25a16b79f4a6be3f84",
       "style": "IPY_MODEL_097baa259ff44d189135aece2685903c",
       "value": false
      }
     },
     "6b9bac5ead9e4ab7814d6f4b8c875a9e": {
      "model_module": "@jupyter-widgets/base",
      "model_module_version": "1.0.0",
      "model_name": "LayoutModel",
      "state": {
       "width": "600px"
      }
     },
     "6ba00a4f8e0b4edf86f211831e20893a": {
      "model_module": "@jupyter-widgets/base",
      "model_module_version": "1.0.0",
      "model_name": "LayoutModel",
      "state": {
       "justify_content": "center"
      }
     },
     "6bf112be3f3447db99f80f4bb164285f": {
      "model_module": "@jupyter-widgets/base",
      "model_module_version": "1.0.0",
      "model_name": "LayoutModel",
      "state": {}
     },
     "6c20c5e852194212a45269382321d735": {
      "model_module": "@jupyter-widgets/controls",
      "model_module_version": "1.2.0",
      "model_name": "ButtonModel",
      "state": {
       "description": "morphologisch ambige Formen",
       "layout": "IPY_MODEL_4272178dd9a74470addb9bed65eccf17",
       "style": "IPY_MODEL_2b75d98f698d4291a87b44a1bd28ead7"
      }
     },
     "6c316b565a984dc8950056093e41b789": {
      "model_module": "@jupyter-widgets/controls",
      "model_module_version": "1.2.0",
      "model_name": "DescriptionStyleModel",
      "state": {
       "description_width": ""
      }
     },
     "6cbdfe45c981444a9c5ae9e3fff88f8c": {
      "model_module": "@jupyter-widgets/controls",
      "model_module_version": "1.2.0",
      "model_name": "DescriptionStyleModel",
      "state": {
       "description_width": ""
      }
     },
     "6ce66cfa869b4fc580fe01c73384d6c9": {
      "model_module": "@jupyter-widgets/base",
      "model_module_version": "1.0.0",
      "model_name": "LayoutModel",
      "state": {
       "width": "250px"
      }
     },
     "6d08a5fa619a458190c2980c866d063b": {
      "model_module": "@jupyter-widgets/base",
      "model_module_version": "1.0.0",
      "model_name": "LayoutModel",
      "state": {}
     },
     "6d206d4ee50e48288014c577b7e13a98": {
      "model_module": "@jupyter-widgets/controls",
      "model_module_version": "1.2.0",
      "model_name": "VBoxModel",
      "state": {
       "children": [
        "IPY_MODEL_e267a9f74e774cb0b23f426fc56a1d8d",
        "IPY_MODEL_72f9c0bfefd545649ad0d14874324bfc",
        "IPY_MODEL_6338de493e6645228e61417d1f0b97bc",
        "IPY_MODEL_585fa4a4ed7b4f9887bb0ad48273e9c2"
       ],
       "layout": "IPY_MODEL_018d2e35dd7e49d588fb55d416161f70"
      }
     },
     "6d464c67029846eab8e5152e925008a3": {
      "model_module": "@jupyter-widgets/controls",
      "model_module_version": "1.2.0",
      "model_name": "ButtonStyleModel",
      "state": {}
     },
     "6d73e665c0284e279df675e497b06ee5": {
      "model_module": "@jupyter-widgets/controls",
      "model_module_version": "1.2.0",
      "model_name": "HTMLModel",
      "state": {
       "layout": "IPY_MODEL_28c9ad46144f4cc6ab4ae425fb10f770",
       "style": "IPY_MODEL_19faca5c8dc04cda9953b83c85a07472",
       "value": "<h4 style=\"font-size:14px;\">Konstituenz ist synonym zu:</h4>"
      }
     },
     "6dde505337824e4b9c3f2aac61afca1d": {
      "model_module": "@jupyter-widgets/base",
      "model_module_version": "1.0.0",
      "model_name": "LayoutModel",
      "state": {
       "width": "250px"
      }
     },
     "6e19768df7ee475fa2b7c6e67a34a72f": {
      "model_module": "@jupyter-widgets/controls",
      "model_module_version": "1.2.0",
      "model_name": "CheckboxModel",
      "state": {
       "description": "Abhängigkeitsstruktur",
       "disabled": false,
       "layout": "IPY_MODEL_2a3d5cd45fc14a9ba995bc55c882ea41",
       "style": "IPY_MODEL_1c43c40373cc461e9095a953af747ae9",
       "value": false
      }
     },
     "6e5f6fd761394e70bbfe6adfab47c32e": {
      "model_module": "@jupyter-widgets/controls",
      "model_module_version": "1.2.0",
      "model_name": "ButtonModel",
      "state": {
       "description": "Korrekt?",
       "layout": "IPY_MODEL_af2f08df5876490f8bc60fa0d7cc3cd6",
       "style": "IPY_MODEL_d671d06d52d14e4590eaa5a7db911a7e"
      }
     },
     "6e96bf78d3bc497cadca317f3749da27": {
      "model_module": "@jupyter-widgets/base",
      "model_module_version": "1.0.0",
      "model_name": "LayoutModel",
      "state": {}
     },
     "6eae6c5bf6dd43a7b9013fe898dcb8f7": {
      "model_module": "@jupyter-widgets/base",
      "model_module_version": "1.0.0",
      "model_name": "LayoutModel",
      "state": {
       "width": "250px"
      }
     },
     "6ec49b9e36ad40c5bae88d1134308ef1": {
      "model_module": "@jupyter-widgets/base",
      "model_module_version": "1.0.0",
      "model_name": "LayoutModel",
      "state": {
       "width": "250px"
      }
     },
     "6f476c2eea5640cc9462f3872208e80f": {
      "model_module": "@jupyter-widgets/controls",
      "model_module_version": "1.2.0",
      "model_name": "ButtonStyleModel",
      "state": {}
     },
     "6f89d956295a4e0db78f47d9f495e242": {
      "model_module": "@jupyter-widgets/controls",
      "model_module_version": "1.2.0",
      "model_name": "ButtonStyleModel",
      "state": {}
     },
     "6fa7e90b9e244c2e884bac76a801bf2e": {
      "model_module": "@jupyter-widgets/base",
      "model_module_version": "1.0.0",
      "model_name": "LayoutModel",
      "state": {}
     },
     "6fd123e1bd304163a979d16df017e316": {
      "model_module": "@jupyter-widgets/controls",
      "model_module_version": "1.2.0",
      "model_name": "HBoxModel",
      "state": {
       "children": [
        "IPY_MODEL_7205dffe8e4140f4a6eb0a663386d4cf",
        "IPY_MODEL_c6af95c1629c499ea88bf14bdb082cd4"
       ],
       "layout": "IPY_MODEL_f2b0026be3b245bdb7b9367792049a87"
      }
     },
     "6feaa94f74be414c879b5330a0f4ab2e": {
      "model_module": "@jupyter-widgets/base",
      "model_module_version": "1.0.0",
      "model_name": "LayoutModel",
      "state": {
       "justify_content": "center"
      }
     },
     "706c4cdf43dd4f1faeb1262738900d09": {
      "model_module": "@jupyter-widgets/base",
      "model_module_version": "1.0.0",
      "model_name": "LayoutModel",
      "state": {
       "width": "250px"
      }
     },
     "707310d8010347dcb8c11d91417d4c86": {
      "model_module": "@jupyter-widgets/controls",
      "model_module_version": "1.2.0",
      "model_name": "HBoxModel",
      "state": {
       "children": [
        "IPY_MODEL_de423993b9e44656b8b908e3dcd46293"
       ],
       "layout": "IPY_MODEL_c64166c9165d4a629402539ea91efea6"
      }
     },
     "70f55b8b6e714ff5961ab000c4253711": {
      "model_module": "@jupyter-widgets/controls",
      "model_module_version": "1.2.0",
      "model_name": "ButtonModel",
      "state": {
       "description": "Wortstruktur",
       "layout": "IPY_MODEL_0825156eab864d8f9ba4d47e2981ade0",
       "style": "IPY_MODEL_58ce1612c999401f85a26b104a975a4a"
      }
     },
     "7117ad1ee7da4790bdabc3f7d0e681a5": {
      "model_module": "@jupyter-widgets/base",
      "model_module_version": "1.0.0",
      "model_name": "LayoutModel",
      "state": {}
     },
     "7125005aa5b848938098c28d6c4002e1": {
      "model_module": "@jupyter-widgets/controls",
      "model_module_version": "1.2.0",
      "model_name": "ButtonModel",
      "state": {
       "description": "Keine der anderen Möglichkeiten",
       "layout": "IPY_MODEL_f58de4f2699d462289e2b7d52afc0ee2",
       "style": "IPY_MODEL_8311b659b4054054886e4f4f5c0f0464"
      }
     },
     "713f01254b1d48c4bf86f9cf9026e1ea": {
      "model_module": "@jupyter-widgets/controls",
      "model_module_version": "1.2.0",
      "model_name": "DescriptionStyleModel",
      "state": {
       "description_width": ""
      }
     },
     "7156266aa4364050890f37d6d8169a84": {
      "model_module": "@jupyter-widgets/controls",
      "model_module_version": "1.2.0",
      "model_name": "VBoxModel",
      "state": {
       "children": [
        "IPY_MODEL_c204bc863bf84769866560b3d802fda5",
        "IPY_MODEL_d4022104d8854cfebd35416742cc8b65",
        "IPY_MODEL_b2c125aa523d4b1cb1625b66a907a3e4",
        "IPY_MODEL_93186e97d9754b5bad802701e6caf81f",
        "IPY_MODEL_2849c100b75d4f78b7ead9a13fa65967"
       ],
       "layout": "IPY_MODEL_83067226d2804db997dfc1b837c33c24"
      }
     },
     "71bc6c2f2b8d4d1fb03492cd3c64edc4": {
      "model_module": "@jupyter-widgets/controls",
      "model_module_version": "1.2.0",
      "model_name": "CheckboxModel",
      "state": {
       "description": "Keine der Alternativen",
       "disabled": false,
       "layout": "IPY_MODEL_b60ffa7e6a7741b9a7e282f986143b92",
       "style": "IPY_MODEL_b0bf5aa20ed44589b7fcbfa7703288cd",
       "value": false
      }
     },
     "7205dffe8e4140f4a6eb0a663386d4cf": {
      "model_module": "@jupyter-widgets/controls",
      "model_module_version": "1.2.0",
      "model_name": "ButtonModel",
      "state": {
       "description": "Korrektheit",
       "layout": "IPY_MODEL_1a7cb69b4c72493e851868b187a5871e",
       "style": "IPY_MODEL_306efb276323493ca339517993399619"
      }
     },
     "720bb5568d9042b291d746ada0d869d0": {
      "model_module": "@jupyter-widgets/controls",
      "model_module_version": "1.2.0",
      "model_name": "ButtonStyleModel",
      "state": {}
     },
     "720fa9f42013404a9235bf6827d4416a": {
      "model_module": "@jupyter-widgets/base",
      "model_module_version": "1.0.0",
      "model_name": "LayoutModel",
      "state": {
       "justify_content": "center"
      }
     },
     "7210ad0aabdc4446b7d53f64e6f533ad": {
      "model_module": "@jupyter-widgets/controls",
      "model_module_version": "1.2.0",
      "model_name": "HTMLModel",
      "state": {
       "layout": "IPY_MODEL_1c79457dead84dfca0cc97eab2476487",
       "style": "IPY_MODEL_ceb649a914ee43d7ad16cba417a619e0",
       "value": "<h4 style=\"font-size:14px;\">Die Alternative <code>tree = parser.parse(sent)</code> ist weniger wünschenswert, da im Allgemeinen ________ Parse-Tree möglich ist.</h4>"
      }
     },
     "7231eca599d544d396d14267e4a7d9df": {
      "model_module": "@jupyter-widgets/controls",
      "model_module_version": "1.2.0",
      "model_name": "DescriptionStyleModel",
      "state": {
       "description_width": "initial"
      }
     },
     "725167bc5cd84556bf4d64f1fcc5a092": {
      "model_module": "@jupyter-widgets/base",
      "model_module_version": "1.0.0",
      "model_name": "LayoutModel",
      "state": {
       "width": "250px"
      }
     },
     "72799d71584049bfbe8021a954513db0": {
      "model_module": "@jupyter-widgets/controls",
      "model_module_version": "1.2.0",
      "model_name": "HTMLModel",
      "state": {
       "layout": "IPY_MODEL_84573e7b7fc94709b8036d04f26c7ec8",
       "style": "IPY_MODEL_fbb73bbb9bb54ca39b5d91a94dbf3d65",
       "value": "<i>Markieren Sie <ins>alle</ins> passenden Antworten: </i>"
      }
     },
     "728118aad9ae47509115b33d9b913847": {
      "model_module": "@jupyter-widgets/base",
      "model_module_version": "1.0.0",
      "model_name": "LayoutModel",
      "state": {}
     },
     "72a7dadefd4f49888ac8a128a1577f8e": {
      "model_module": "@jupyter-widgets/controls",
      "model_module_version": "1.2.0",
      "model_name": "HBoxModel",
      "state": {
       "children": [
        "IPY_MODEL_84b25a46b2254774a083f83bd0a62fd4",
        "IPY_MODEL_265c1ef479944bb38744c1c048a8c414"
       ],
       "layout": "IPY_MODEL_3708a93ff6be4a3ca63858975d97450a"
      }
     },
     "72f9c0bfefd545649ad0d14874324bfc": {
      "model_module": "@jupyter-widgets/controls",
      "model_module_version": "1.2.0",
      "model_name": "HTMLModel",
      "state": {
       "layout": "IPY_MODEL_1630e1424fb94d83a4783bd92935e35e",
       "style": "IPY_MODEL_4110acb3e1f8431183a184299155722f",
       "value": "<i>Wählen Sie die <ins>eine</ins> korrekte Antwort aus: </i>"
      }
     },
     "7310d4607b994e90a4a78ec109e9b877": {
      "model_module": "@jupyter-widgets/base",
      "model_module_version": "1.0.0",
      "model_name": "LayoutModel",
      "state": {}
     },
     "735ad52d0a60493fb8b5dbc07a142d70": {
      "model_module": "@jupyter-widgets/controls",
      "model_module_version": "1.2.0",
      "model_name": "ButtonModel",
      "state": {
       "description": "Klammernotation",
       "layout": "IPY_MODEL_0f34a2e26bb64306bcfe3332397fe907",
       "style": "IPY_MODEL_bb52fd1b1dce475994f871419d24775c"
      }
     },
     "736cb75905cf4160915dcf4bc31926a8": {
      "model_module": "@jupyter-widgets/controls",
      "model_module_version": "1.2.0",
      "model_name": "ButtonStyleModel",
      "state": {}
     },
     "739cfbb072fa44cf8c34c76f1d941c49": {
      "model_module": "@jupyter-widgets/controls",
      "model_module_version": "1.2.0",
      "model_name": "DropdownModel",
      "state": {
       "_options_labels": [
        "Oberbegriff",
        "Synonym",
        "Teilbereich",
        " "
       ],
       "index": 3,
       "layout": "IPY_MODEL_a43d8dd984a94240924dd10f973c9ea1",
       "style": "IPY_MODEL_62c1ea2523e64d71a07fc80dbd4f5b6f"
      }
     },
     "73af5690aa164515b913b62a4d27a410": {
      "model_module": "@jupyter-widgets/controls",
      "model_module_version": "1.2.0",
      "model_name": "ButtonModel",
      "state": {
       "description": "Korrekt?",
       "layout": "IPY_MODEL_e58f70f602b0452e97ef609fc855e9b9",
       "style": "IPY_MODEL_91551739881142f980ad4ffa721c0264"
      }
     },
     "73cfa4bc242944a0bba36ab49407e2de": {
      "model_module": "@jupyter-widgets/controls",
      "model_module_version": "1.2.0",
      "model_name": "ButtonStyleModel",
      "state": {}
     },
     "73e5757b3adb408c90c0bf458381a573": {
      "model_module": "@jupyter-widgets/controls",
      "model_module_version": "1.2.0",
      "model_name": "DescriptionStyleModel",
      "state": {
       "description_width": ""
      }
     },
     "7408538d1c024687ad552a81a608ebeb": {
      "model_module": "@jupyter-widgets/base",
      "model_module_version": "1.0.0",
      "model_name": "LayoutModel",
      "state": {}
     },
     "7437f26f7d324cd8a86be312b507bbd4": {
      "model_module": "@jupyter-widgets/controls",
      "model_module_version": "1.2.0",
      "model_name": "DescriptionStyleModel",
      "state": {
       "description_width": ""
      }
     },
     "74397c48676348378721cb847a34b7c8": {
      "model_module": "@jupyter-widgets/controls",
      "model_module_version": "1.2.0",
      "model_name": "DescriptionStyleModel",
      "state": {
       "description_width": ""
      }
     },
     "747dae68e6774dd2b8cf3b7fedc932b8": {
      "model_module": "@jupyter-widgets/controls",
      "model_module_version": "1.2.0",
      "model_name": "ButtonStyleModel",
      "state": {}
     },
     "748413d2b90e4c6a977a30d66386de09": {
      "model_module": "@jupyter-widgets/controls",
      "model_module_version": "1.2.0",
      "model_name": "ButtonModel",
      "state": {
       "description": "Baumdiagramm",
       "layout": "IPY_MODEL_a29dd4822f04456ebcd92e36ce264643",
       "style": "IPY_MODEL_8d23e339a57f4499a805fe5fa305c957"
      }
     },
     "74d43f2d897742aebfce89928e17f122": {
      "model_module": "@jupyter-widgets/base",
      "model_module_version": "1.0.0",
      "model_name": "LayoutModel",
      "state": {
       "width": "600px"
      }
     },
     "750ac100e02a459ba8fd6922dc4b4dd0": {
      "model_module": "@jupyter-widgets/base",
      "model_module_version": "1.0.0",
      "model_name": "LayoutModel",
      "state": {
       "width": "600px"
      }
     },
     "7583a353830e4bb9917d9622fdaf3f32": {
      "model_module": "@jupyter-widgets/base",
      "model_module_version": "1.0.0",
      "model_name": "LayoutModel",
      "state": {
       "width": "600px"
      }
     },
     "75acb82d9f4f4235b368364ddf422274": {
      "model_module": "@jupyter-widgets/controls",
      "model_module_version": "1.2.0",
      "model_name": "DescriptionStyleModel",
      "state": {
       "description_width": ""
      }
     },
     "75f55a414c4b43deb5972122fbe7ccf9": {
      "model_module": "@jupyter-widgets/base",
      "model_module_version": "1.0.0",
      "model_name": "LayoutModel",
      "state": {}
     },
     "7610cdd303d54189bed2c7825e81ab1e": {
      "model_module": "@jupyter-widgets/controls",
      "model_module_version": "1.2.0",
      "model_name": "VBoxModel",
      "state": {
       "children": [
        "IPY_MODEL_cd70cdf7ef6b46aaabdbb26ffc102dfe",
        "IPY_MODEL_9aa4fb8de86c42ce8673c363609adb94",
        "IPY_MODEL_cef54b396fb442f9b9e3d725c317e452",
        "IPY_MODEL_0f025d9189554156a3b4dcc44950db5a",
        "IPY_MODEL_daeadeb262184386b75608b9433d6c3b"
       ],
       "layout": "IPY_MODEL_afe321c377c54be49bfd9aa809496e33"
      }
     },
     "76371c8e7fda47fc8306b81f63324a8a": {
      "model_module": "@jupyter-widgets/controls",
      "model_module_version": "1.2.0",
      "model_name": "VBoxModel",
      "state": {
       "children": [
        "IPY_MODEL_6e19768df7ee475fa2b7c6e67a34a72f",
        "IPY_MODEL_a48e1ba2912149ec999f4237c65d4342",
        "IPY_MODEL_71bc6c2f2b8d4d1fb03492cd3c64edc4",
        "IPY_MODEL_255ceed104c84a068b11363fefc61066",
        "IPY_MODEL_aa047337b145491ea2b1f81b1fe9a870",
        "IPY_MODEL_d6a486434bb341328d38f75652547a8f"
       ],
       "layout": "IPY_MODEL_1e54945717df495496d7a0064882b806"
      }
     },
     "7654d0220fa147fbbf363af76ec087de": {
      "model_module": "@jupyter-widgets/controls",
      "model_module_version": "1.2.0",
      "model_name": "CheckboxModel",
      "state": {
       "description": "Präpositionalphrase",
       "disabled": false,
       "layout": "IPY_MODEL_7bb265c17f114729ac23d1ca6550cd67",
       "style": "IPY_MODEL_f96c30a5344a4fa396dfd490c29f5ae6",
       "value": false
      }
     },
     "767e8c455d4547019cc214d6a001efaa": {
      "model_module": "@jupyter-widgets/controls",
      "model_module_version": "1.2.0",
      "model_name": "ButtonModel",
      "state": {
       "description": "Baumdiagramm",
       "layout": "IPY_MODEL_17dd3dba97a44c1da77a7d26ec851246",
       "style": "IPY_MODEL_e804f2207d5b4245a8f988d7aac93cbe"
      }
     },
     "76bfa9991f05470ebb3a6f91bd6ba187": {
      "model_module": "@jupyter-widgets/base",
      "model_module_version": "1.0.0",
      "model_name": "LayoutModel",
      "state": {
       "justify_content": "center"
      }
     },
     "76de1069ecfe4f92b581803b3dc38055": {
      "model_module": "@jupyter-widgets/controls",
      "model_module_version": "1.2.0",
      "model_name": "BoxModel",
      "state": {
       "children": [
        "IPY_MODEL_acc97c2a9130401c8a4da9d17d1b4941",
        "IPY_MODEL_739cfbb072fa44cf8c34c76f1d941c49",
        "IPY_MODEL_a30154b4c99041b8a5781a483564a40b",
        "IPY_MODEL_f6ea2b1f2aaa41f9827439173b925fa0",
        "IPY_MODEL_43f2bcc9ad8b45829c298310b21ed956"
       ],
       "layout": "IPY_MODEL_b1dd02b1f37e4db394c723a46a62db42"
      }
     },
     "76e3b75a9d294b86aaf54af5f9cf87d7": {
      "model_module": "@jupyter-widgets/controls",
      "model_module_version": "1.2.0",
      "model_name": "HTMLModel",
      "state": {
       "layout": "IPY_MODEL_1f4fd26e4513492d889af19a16320218",
       "style": "IPY_MODEL_e1c2e9c0c81a43aeafe99c96b6604459",
       "value": "<h4 style=\"font-size:14px;\">Warum gibt die parse-Funktion des Skripts vermutlich eine Sequenz zurück?</h4>"
      }
     },
     "76f6cc9af7964e6893a543a954f0398d": {
      "model_module": "@jupyter-widgets/base",
      "model_module_version": "1.0.0",
      "model_name": "LayoutModel",
      "state": {
       "width": "250px"
      }
     },
     "774bc7c0dd564e168383c71a6fc961c8": {
      "model_module": "@jupyter-widgets/controls",
      "model_module_version": "1.2.0",
      "model_name": "DescriptionStyleModel",
      "state": {
       "description_width": ""
      }
     },
     "775ba5fea238465dbfda524ab5b9f5a5": {
      "model_module": "@jupyter-widgets/controls",
      "model_module_version": "1.2.0",
      "model_name": "ButtonStyleModel",
      "state": {}
     },
     "776e5aab887f4fbbae8329fc7de6111c": {
      "model_module": "@jupyter-widgets/controls",
      "model_module_version": "1.2.0",
      "model_name": "DescriptionStyleModel",
      "state": {
       "description_width": ""
      }
     },
     "77939b79fe43451c8470216bb9d910f0": {
      "model_module": "@jupyter-widgets/controls",
      "model_module_version": "1.2.0",
      "model_name": "HTMLModel",
      "state": {
       "layout": "IPY_MODEL_e92bd0dd139f4b3f8144d5bdd022673f",
       "style": "IPY_MODEL_774bc7c0dd564e168383c71a6fc961c8",
       "value": "<h4 style=\"font-size:14px;\">Zu welcher Phrase kann die Präpositionalphrase \"in my pajamas\" gehören?</h4>"
      }
     },
     "77dfb429abfe4f2fa169351263fa8b2a": {
      "model_module": "@jupyter-widgets/base",
      "model_module_version": "1.0.0",
      "model_name": "LayoutModel",
      "state": {
       "justify_content": "center"
      }
     },
     "78153bab293e4df2b4b049e1acb74c9e": {
      "model_module": "@jupyter-widgets/controls",
      "model_module_version": "1.2.0",
      "model_name": "ButtonStyleModel",
      "state": {}
     },
     "78c58af3cc17412fbbdd5ea5bf68265f": {
      "model_module": "@jupyter-widgets/base",
      "model_module_version": "1.0.0",
      "model_name": "LayoutModel",
      "state": {}
     },
     "791671dfdf9149cbb3c0844a47ab8f44": {
      "model_module": "@jupyter-widgets/base",
      "model_module_version": "1.0.0",
      "model_name": "LayoutModel",
      "state": {
       "width": "150px"
      }
     },
     "79545229a287471cb93a8e969e0217f4": {
      "model_module": "@jupyter-widgets/base",
      "model_module_version": "1.0.0",
      "model_name": "LayoutModel",
      "state": {
       "width": "250px"
      }
     },
     "79599f52f71d43c39b1b811b10355cb0": {
      "model_module": "@jupyter-widgets/base",
      "model_module_version": "1.0.0",
      "model_name": "LayoutModel",
      "state": {
       "width": "250px"
      }
     },
     "797253e5a0054da49607542931e017cd": {
      "model_module": "@jupyter-widgets/controls",
      "model_module_version": "1.2.0",
      "model_name": "ButtonStyleModel",
      "state": {}
     },
     "7978158462424496b7817806e6443dca": {
      "model_module": "@jupyter-widgets/controls",
      "model_module_version": "1.2.0",
      "model_name": "HTMLModel",
      "state": {
       "layout": "IPY_MODEL_7408538d1c024687ad552a81a608ebeb",
       "style": "IPY_MODEL_1b29d5a9393147449d465d35a8872b16",
       "value": "<h4 style=\"font-size:14px;\">Die Syntax ist ein</h4>"
      }
     },
     "797fd6425d3c49a39064dd3c52cb19c1": {
      "model_module": "@jupyter-widgets/controls",
      "model_module_version": "1.2.0",
      "model_name": "ButtonStyleModel",
      "state": {}
     },
     "799747a173a5406ca3f201305b50fb6d": {
      "model_module": "@jupyter-widgets/controls",
      "model_module_version": "1.2.0",
      "model_name": "CheckboxModel",
      "state": {
       "description": "Keine der Alternativen",
       "disabled": false,
       "layout": "IPY_MODEL_971f628be73c42bbabf196054098dc9f",
       "style": "IPY_MODEL_f9f45320867a4436a71da5cb4c192130",
       "value": false
      }
     },
     "79b0c4092ef64c1d9ec837a83ab5f1f6": {
      "model_module": "@jupyter-widgets/controls",
      "model_module_version": "1.2.0",
      "model_name": "DropdownModel",
      "state": {
       "_options_labels": [
        "Keine der Alternativen",
        "der Ort des Geschehens wird festgelegt",
        "die PP wird dem Substantiv beigefügt",
        "die im Verb ausgedrückte Tätigkeit wird modifiziert"
       ],
       "description": "Antwort:",
       "index": 0,
       "layout": "IPY_MODEL_7d732ae377dc4353a275a8c873fdd55d",
       "style": "IPY_MODEL_c550e56609574bb1ae8284b0a712e459"
      }
     },
     "79efe659200045278ff47d946c9f4f98": {
      "model_module": "@jupyter-widgets/base",
      "model_module_version": "1.0.0",
      "model_name": "LayoutModel",
      "state": {
       "width": "250px"
      }
     },
     "79fa76afa4854cb88ceda03f8034a907": {
      "model_module": "@jupyter-widgets/controls",
      "model_module_version": "1.2.0",
      "model_name": "HTMLModel",
      "state": {
       "layout": "IPY_MODEL_0643aca4d9f64ea9b38e132be96e6851",
       "style": "IPY_MODEL_50b312fc26b54d249ae0077e2826b8b9",
       "value": "<h4 style=\"font-size:14px;\">Welcher Grammatikbegriff liegt Satz 3 zugrunde?</h4>"
      }
     },
     "7a054ae0cc75423990c58b395e054c53": {
      "model_module": "@jupyter-widgets/base",
      "model_module_version": "1.0.0",
      "model_name": "LayoutModel",
      "state": {}
     },
     "7a077d33e5b94461828a54e7f83c9ed5": {
      "model_module": "@jupyter-widgets/controls",
      "model_module_version": "1.2.0",
      "model_name": "DescriptionStyleModel",
      "state": {
       "description_width": ""
      }
     },
     "7a1b5ecd3b00428aab770ff707a9dc93": {
      "model_module": "@jupyter-widgets/base",
      "model_module_version": "1.0.0",
      "model_name": "LayoutModel",
      "state": {
       "width": "600px"
      }
     },
     "7a2751c1d37b4578a931767cf98da6be": {
      "model_module": "@jupyter-widgets/base",
      "model_module_version": "1.0.0",
      "model_name": "LayoutModel",
      "state": {
       "width": "250px"
      }
     },
     "7ad1058f283c449aae9fceed61759305": {
      "model_module": "@jupyter-widgets/controls",
      "model_module_version": "1.2.0",
      "model_name": "ButtonModel",
      "state": {
       "description": "mehr als ein",
       "layout": "IPY_MODEL_444a1ca2ceb4423e838271d9c08d7b1e",
       "style": "IPY_MODEL_e860f68a18754ba689eeed9afd3a5346"
      }
     },
     "7adb06f0fcbd4e7aa31daecda9714701": {
      "model_module": "@jupyter-widgets/controls",
      "model_module_version": "1.2.0",
      "model_name": "HTMLModel",
      "state": {
       "layout": "IPY_MODEL_a873670192a946ccba80ad4dffa35cf6",
       "style": "IPY_MODEL_ba32a26455064881ac92c348535834a8",
       "value": "<i>Wählen Sie die <ins>eine</ins> korrekte Antwort aus: </i>"
      }
     },
     "7b219515dd644824a46c07349e72e069": {
      "model_module": "@jupyter-widgets/base",
      "model_module_version": "1.0.0",
      "model_name": "LayoutModel",
      "state": {
       "width": "600px"
      }
     },
     "7b6a663a595b401abcd3eb0ac57e2bc2": {
      "model_module": "@jupyter-widgets/controls",
      "model_module_version": "1.2.0",
      "model_name": "ButtonStyleModel",
      "state": {}
     },
     "7b8ab72e76224eaba28e26aa91c1aba1": {
      "model_module": "@jupyter-widgets/base",
      "model_module_version": "1.0.0",
      "model_name": "LayoutModel",
      "state": {
       "width": "600px"
      }
     },
     "7bb0e30c058d4fb9a8f38ee621d12ec9": {
      "model_module": "@jupyter-widgets/controls",
      "model_module_version": "1.2.0",
      "model_name": "ButtonModel",
      "state": {
       "description": "Korrekt?",
       "layout": "IPY_MODEL_e8671dfc00fc493780fbed69334c5e4f",
       "style": "IPY_MODEL_e5742d8fb5a54b71bf198c4d1e4d8258"
      }
     },
     "7bb265c17f114729ac23d1ca6550cd67": {
      "model_module": "@jupyter-widgets/base",
      "model_module_version": "1.0.0",
      "model_name": "LayoutModel",
      "state": {
       "width": "600px"
      }
     },
     "7bd38ae3c26249af80c4e4030d24691a": {
      "model_module": "@jupyter-widgets/controls",
      "model_module_version": "1.2.0",
      "model_name": "ButtonStyleModel",
      "state": {}
     },
     "7c2d6f95bdb541cea1e46d72da562a91": {
      "model_module": "@jupyter-widgets/controls",
      "model_module_version": "1.2.0",
      "model_name": "DescriptionStyleModel",
      "state": {
       "description_width": "initial"
      }
     },
     "7c4cdf5c0c7a494fa6999702318ded8e": {
      "model_module": "@jupyter-widgets/controls",
      "model_module_version": "1.2.0",
      "model_name": "ButtonStyleModel",
      "state": {}
     },
     "7ca4cd260f234757bf48825bcc54e3c7": {
      "model_module": "@jupyter-widgets/controls",
      "model_module_version": "1.2.0",
      "model_name": "HTMLModel",
      "state": {
       "layout": "IPY_MODEL_f82c167a33304235959fd460dca963f6",
       "style": "IPY_MODEL_652ea62cf70a4591b59b2247950578ca",
       "value": "<h4 style=\"font-size:14px;\">Was ist der Fall, wenn die PP ein Attribut ist?</h4>"
      }
     },
     "7cad723f7bee4b288e76d61f7f4f359b": {
      "model_module": "@jupyter-widgets/controls",
      "model_module_version": "1.2.0",
      "model_name": "HBoxModel",
      "state": {
       "children": [
        "IPY_MODEL_7e2b1e7e037a46e7af755b072750ae2f",
        "IPY_MODEL_affb8b25a8944e64bdc7446000ce59a6"
       ],
       "layout": "IPY_MODEL_4da645bce2714c80a0bb789c94482df9"
      }
     },
     "7cd9c60377a143919d11708ffa24e0a3": {
      "model_module": "@jupyter-widgets/base",
      "model_module_version": "1.0.0",
      "model_name": "LayoutModel",
      "state": {}
     },
     "7cecc3bde5ce414488971805f5450af5": {
      "model_module": "@jupyter-widgets/base",
      "model_module_version": "1.0.0",
      "model_name": "LayoutModel",
      "state": {
       "width": "250px"
      }
     },
     "7d15458b2f224775b193ce566fa6353c": {
      "model_module": "@jupyter-widgets/base",
      "model_module_version": "1.0.0",
      "model_name": "LayoutModel",
      "state": {
       "width": "500px"
      }
     },
     "7d6691ccc31d4361a9e780a515ca10ee": {
      "model_module": "@jupyter-widgets/controls",
      "model_module_version": "1.2.0",
      "model_name": "ButtonStyleModel",
      "state": {}
     },
     "7d6e76508a32477eb481e8c8ca577600": {
      "model_module": "@jupyter-widgets/base",
      "model_module_version": "1.0.0",
      "model_name": "LayoutModel",
      "state": {}
     },
     "7d732ae377dc4353a275a8c873fdd55d": {
      "model_module": "@jupyter-widgets/base",
      "model_module_version": "1.0.0",
      "model_name": "LayoutModel",
      "state": {
       "width": "500px"
      }
     },
     "7d86880918494fdb9f26cac2b4973c27": {
      "model_module": "@jupyter-widgets/controls",
      "model_module_version": "1.2.0",
      "model_name": "HTMLModel",
      "state": {
       "layout": "IPY_MODEL_f434d7fe1869458ab0f7933f593777fe",
       "style": "IPY_MODEL_ca9aa25c629e450f8a704e32fcecff8a",
       "value": "<i>Markieren Sie <ins>alle</ins> passenden Antworten: </i>"
      }
     },
     "7dea159de8944a36a7670bebe4a300eb": {
      "model_module": "@jupyter-widgets/base",
      "model_module_version": "1.0.0",
      "model_name": "LayoutModel",
      "state": {
       "justify_content": "center"
      }
     },
     "7e2b1e7e037a46e7af755b072750ae2f": {
      "model_module": "@jupyter-widgets/controls",
      "model_module_version": "1.2.0",
      "model_name": "ButtonModel",
      "state": {
       "description": "Ambiguität",
       "layout": "IPY_MODEL_4e9045210db145b4b76a93f36d31ca01",
       "style": "IPY_MODEL_8b50f6f6a2d84875bdca5bfad1afd5b4"
      }
     },
     "7e5808503c384ecd83298083079b53d7": {
      "model_module": "@jupyter-widgets/base",
      "model_module_version": "1.0.0",
      "model_name": "LayoutModel",
      "state": {
       "width": "250px"
      }
     },
     "7ebc96d192e04dc3b211275b35f5faa5": {
      "model_module": "@jupyter-widgets/controls",
      "model_module_version": "1.2.0",
      "model_name": "ButtonStyleModel",
      "state": {}
     },
     "7f0a21436a8843c393e8cc5db135bf97": {
      "model_module": "@jupyter-widgets/controls",
      "model_module_version": "1.2.0",
      "model_name": "ButtonModel",
      "state": {
       "description": "Korrekt?",
       "layout": "IPY_MODEL_f30f6060ca5f4bd39cab4944d91a3bb6",
       "style": "IPY_MODEL_9da3c77a5d7640298660356cd5cc2993"
      }
     },
     "7f3d171952f44b79af897b97b86d8aca": {
      "model_module": "@jupyter-widgets/controls",
      "model_module_version": "1.2.0",
      "model_name": "ButtonModel",
      "state": {
       "description": "Korrekt?",
       "layout": "IPY_MODEL_4c0e751d0ea8424091241f5cda57c80b",
       "style": "IPY_MODEL_922fabf8160f421680d5abe41dead1c2"
      }
     },
     "7fad4f071924432f9b84266cbdd02000": {
      "model_module": "@jupyter-widgets/controls",
      "model_module_version": "1.2.0",
      "model_name": "ButtonStyleModel",
      "state": {}
     },
     "7fccca3be1d9421290445ed3383f8f4a": {
      "model_module": "@jupyter-widgets/controls",
      "model_module_version": "1.2.0",
      "model_name": "ButtonStyleModel",
      "state": {}
     },
     "80b9144002af4e55a1e2ed3b73b608cd": {
      "model_module": "@jupyter-widgets/controls",
      "model_module_version": "1.2.0",
      "model_name": "ButtonStyleModel",
      "state": {}
     },
     "80ecd47115c248899a1270ad7571594c": {
      "model_module": "@jupyter-widgets/controls",
      "model_module_version": "1.2.0",
      "model_name": "HTMLModel",
      "state": {
       "layout": "IPY_MODEL_7dea159de8944a36a7670bebe4a300eb",
       "style": "IPY_MODEL_56b6b2c07e884aa8bfa892d43261bf36",
       "value": "<i>Markieren Sie <ins>alle</ins> passenden Antworten: </i>"
      }
     },
     "81579d994f9d478881115cbf0137deaf": {
      "model_module": "@jupyter-widgets/controls",
      "model_module_version": "1.2.0",
      "model_name": "ButtonModel",
      "state": {
       "description": "Phrasenstruktur",
       "layout": "IPY_MODEL_6eae6c5bf6dd43a7b9013fe898dcb8f7",
       "style": "IPY_MODEL_42a845148d484d3abc86366a2eb86858"
      }
     },
     "81afef7192bc40b6a234477e306d2694": {
      "model_module": "@jupyter-widgets/controls",
      "model_module_version": "1.2.0",
      "model_name": "DescriptionStyleModel",
      "state": {
       "description_width": ""
      }
     },
     "81c01a710e124c5c9ba1384d0c1c5901": {
      "model_module": "@jupyter-widgets/controls",
      "model_module_version": "1.2.0",
      "model_name": "HTMLModel",
      "state": {
       "layout": "IPY_MODEL_9f5f4e6b768f47cd8b70287d7f1808bb",
       "style": "IPY_MODEL_0ba967c2b3504c5e85c5de74fa0ad6e1",
       "value": "<h4 style=\"font-size:14px;\">Welche formalen Repräsentationen der syntaktischen Struktur eines natürlichsprachlichen Satzes haben Sie in der Vorlesung kennengelernt?</h4>"
      }
     },
     "81d96dd899cb411aa61798bbf13fb357": {
      "model_module": "@jupyter-widgets/controls",
      "model_module_version": "1.2.0",
      "model_name": "CheckboxModel",
      "state": {
       "description": "Argens",
       "disabled": false,
       "layout": "IPY_MODEL_c1cdd254f21a40089cbc4572f759ca76",
       "style": "IPY_MODEL_cc185af6d650445895a405f1cbcb44e2",
       "value": false
      }
     },
     "82cff0e888384f9fb4781e26154c4754": {
      "model_module": "@jupyter-widgets/controls",
      "model_module_version": "1.2.0",
      "model_name": "DescriptionStyleModel",
      "state": {
       "description_width": ""
      }
     },
     "82edb79d2dd44ffb9a004ef518c94c07": {
      "model_module": "@jupyter-widgets/controls",
      "model_module_version": "1.2.0",
      "model_name": "VBoxModel",
      "state": {
       "children": [
        "IPY_MODEL_76e3b75a9d294b86aaf54af5f9cf87d7",
        "IPY_MODEL_ab6ee6f7281e43b88c5ee3839a8fcbfa",
        "IPY_MODEL_7cad723f7bee4b288e76d61f7f4f359b",
        "IPY_MODEL_1b67f6662b9c47569f1e649f4acefc42"
       ],
       "layout": "IPY_MODEL_b106abb3bc8c4dfe8d6680f066d85331"
      }
     },
     "83067226d2804db997dfc1b837c33c24": {
      "model_module": "@jupyter-widgets/base",
      "model_module_version": "1.0.0",
      "model_name": "LayoutModel",
      "state": {}
     },
     "8311b659b4054054886e4f4f5c0f0464": {
      "model_module": "@jupyter-widgets/controls",
      "model_module_version": "1.2.0",
      "model_name": "ButtonStyleModel",
      "state": {}
     },
     "831da72084cc44d8bbd0c8a8b44f9b9a": {
      "model_module": "@jupyter-widgets/controls",
      "model_module_version": "1.2.0",
      "model_name": "ButtonModel",
      "state": {
       "description": "Korrekt?",
       "layout": "IPY_MODEL_8b1ee67243c2455497e96404795e68a7",
       "style": "IPY_MODEL_a86d470a01924df4b97977ef037dad1a"
      }
     },
     "836a2ed404b54995983839a772d76587": {
      "model_module": "@jupyter-widgets/controls",
      "model_module_version": "1.2.0",
      "model_name": "HBoxModel",
      "state": {
       "children": [
        "IPY_MODEL_3f8094a8c3094fd5a7ce791db8c205ff",
        "IPY_MODEL_6c20c5e852194212a45269382321d735"
       ],
       "layout": "IPY_MODEL_d76b751b6c2342599a33190245fb29ac"
      }
     },
     "83efd787fc614418928e81ceb3eb1c14": {
      "model_module": "@jupyter-widgets/controls",
      "model_module_version": "1.2.0",
      "model_name": "DescriptionStyleModel",
      "state": {
       "description_width": "initial"
      }
     },
     "84573e7b7fc94709b8036d04f26c7ec8": {
      "model_module": "@jupyter-widgets/base",
      "model_module_version": "1.0.0",
      "model_name": "LayoutModel",
      "state": {
       "justify_content": "center"
      }
     },
     "84b25a46b2254774a083f83bd0a62fd4": {
      "model_module": "@jupyter-widgets/controls",
      "model_module_version": "1.2.0",
      "model_name": "ButtonModel",
      "state": {
       "description": "Abhängigkeitsstruktur",
       "layout": "IPY_MODEL_85b1ded37de34568b372383aef888175",
       "style": "IPY_MODEL_720bb5568d9042b291d746ada0d869d0"
      }
     },
     "8586a3449e5e4ed38e6b199c2ec8abae": {
      "model_module": "@jupyter-widgets/controls",
      "model_module_version": "1.2.0",
      "model_name": "DescriptionStyleModel",
      "state": {
       "description_width": ""
      }
     },
     "85a87b4db2e040c999f7bcddd865df5a": {
      "model_module": "@jupyter-widgets/controls",
      "model_module_version": "1.2.0",
      "model_name": "ButtonStyleModel",
      "state": {}
     },
     "85ada8d7bd15417ba666edf021f31524": {
      "model_module": "@jupyter-widgets/base",
      "model_module_version": "1.0.0",
      "model_name": "LayoutModel",
      "state": {
       "justify_content": "center"
      }
     },
     "85b1ded37de34568b372383aef888175": {
      "model_module": "@jupyter-widgets/base",
      "model_module_version": "1.0.0",
      "model_name": "LayoutModel",
      "state": {
       "width": "250px"
      }
     },
     "85c48fc3654e4ebd91b7852ee8fc8aba": {
      "model_module": "@jupyter-widgets/controls",
      "model_module_version": "1.2.0",
      "model_name": "HBoxModel",
      "state": {
       "children": [
        "IPY_MODEL_d52d0b96ff1c4f81ba13fd05303efd90"
       ],
       "layout": "IPY_MODEL_a271352967b448b9bb5db0267c9bb681"
      }
     },
     "85f8984ef7174a34ad2a234fe4ae750e": {
      "model_module": "@jupyter-widgets/controls",
      "model_module_version": "1.2.0",
      "model_name": "ButtonStyleModel",
      "state": {}
     },
     "8605d44d8d174db69c55aaa7cc12ac80": {
      "model_module": "@jupyter-widgets/controls",
      "model_module_version": "1.2.0",
      "model_name": "ButtonStyleModel",
      "state": {}
     },
     "861763486d4e4190b5cf1e67aec169c3": {
      "model_module": "@jupyter-widgets/base",
      "model_module_version": "1.0.0",
      "model_name": "LayoutModel",
      "state": {}
     },
     "8639f50828464e29a85c89b21fb7f6e8": {
      "model_module": "@jupyter-widgets/controls",
      "model_module_version": "1.2.0",
      "model_name": "CheckboxModel",
      "state": {
       "description": "Keine der Alternativen",
       "disabled": false,
       "layout": "IPY_MODEL_e528f8f90e014ba2b98eb63d552a6174",
       "style": "IPY_MODEL_310eb7666d554dfaa577510af42cb401",
       "value": false
      }
     },
     "865b0af7ff214064a79c2ae1443c829a": {
      "model_module": "@jupyter-widgets/controls",
      "model_module_version": "1.2.0",
      "model_name": "HTMLModel",
      "state": {
       "layout": "IPY_MODEL_0346e2e27703482d8f0050697b6b9347",
       "style": "IPY_MODEL_0b6f6c996d474af199dd553691561b6d",
       "value": "<h4 style=\"font-size:14px;\">Welcher Grammatikbegriff liegt Satz 2 zugrunde?</h4>"
      }
     },
     "8695e6ba76694cb6a8e729d8103f8bd6": {
      "model_module": "@jupyter-widgets/controls",
      "model_module_version": "1.2.0",
      "model_name": "ButtonModel",
      "state": {
       "description": "Dependenz",
       "layout": "IPY_MODEL_d81e267486f84be28db8ed6ab74b397e",
       "style": "IPY_MODEL_46d129ec3cda468f841c32c33a608b90"
      }
     },
     "869e393f94754ffd8827196aafc56623": {
      "model_module": "@jupyter-widgets/controls",
      "model_module_version": "1.2.0",
      "model_name": "VBoxModel",
      "state": {
       "children": [
        "IPY_MODEL_627d5be8a0b74af48a6d8c48f7a59719",
        "IPY_MODEL_f70978f0a6074ed7aa52c62c69a7b562",
        "IPY_MODEL_dbbc566648ed453bb5a9342d7c4c0107",
        "IPY_MODEL_7bb0e30c058d4fb9a8f38ee621d12ec9"
       ],
       "layout": "IPY_MODEL_91e9006d4e084bf5ad1c46de6292beff"
      }
     },
     "86b294e994a6441bb57462299e5f8df8": {
      "model_module": "@jupyter-widgets/controls",
      "model_module_version": "1.2.0",
      "model_name": "ButtonStyleModel",
      "state": {}
     },
     "86bf2faff52c4f6c815c2c6d3693b32c": {
      "model_module": "@jupyter-widgets/controls",
      "model_module_version": "1.2.0",
      "model_name": "DescriptionStyleModel",
      "state": {
       "description_width": ""
      }
     },
     "86ff08da32b34bceb3be819bab8ddf6c": {
      "model_module": "@jupyter-widgets/base",
      "model_module_version": "1.0.0",
      "model_name": "LayoutModel",
      "state": {
       "width": "250px"
      }
     },
     "87081534965f4f90817b1ff7015cdd58": {
      "model_module": "@jupyter-widgets/controls",
      "model_module_version": "1.2.0",
      "model_name": "ButtonModel",
      "state": {
       "description": "formale Grammatik",
       "layout": "IPY_MODEL_cfa9b093d15d46048bffb2a63edf4d5a",
       "style": "IPY_MODEL_c9417c36114d42fd8cd7b5bc47edea4a"
      }
     },
     "87319cfa03f94cd4adc24754725993f3": {
      "model_module": "@jupyter-widgets/controls",
      "model_module_version": "1.2.0",
      "model_name": "CheckboxModel",
      "state": {
       "description": "Eine automatische Strukturanalyse wird möglich.",
       "disabled": false,
       "layout": "IPY_MODEL_5e6b28ed32eb406e9ed2ef44743b5147",
       "style": "IPY_MODEL_e7215af200c0465786d1f473340cdf39",
       "value": false
      }
     },
     "87807a6ace1842b284bec7f4c9b6caa9": {
      "model_module": "@jupyter-widgets/controls",
      "model_module_version": "1.2.0",
      "model_name": "BoxModel",
      "state": {
       "children": [
        "IPY_MODEL_7978158462424496b7817806e6443dca",
        "IPY_MODEL_099f4d1c8a764af28aac79d2bcd3d239",
        "IPY_MODEL_f1276af72a80481a92681bdeb8ecfc9b",
        "IPY_MODEL_9053912442a34336a203e73de59c2994",
        "IPY_MODEL_eeadf04269844f2e91371ccb76d257d0"
       ],
       "layout": "IPY_MODEL_ca6c23afcf7841a7a3f1551ba6c14eb2"
      }
     },
     "8785e32b99464512baf2a6a625cff64b": {
      "model_module": "@jupyter-widgets/controls",
      "model_module_version": "1.2.0",
      "model_name": "ButtonStyleModel",
      "state": {}
     },
     "87e33bc1f65841a6a586b0b6d26c85c9": {
      "model_module": "@jupyter-widgets/base",
      "model_module_version": "1.0.0",
      "model_name": "LayoutModel",
      "state": {}
     },
     "881fb7267fbd40b182a02b97e813145d": {
      "model_module": "@jupyter-widgets/base",
      "model_module_version": "1.0.0",
      "model_name": "LayoutModel",
      "state": {}
     },
     "88291bcfa5b8413988475717014e68b0": {
      "model_module": "@jupyter-widgets/base",
      "model_module_version": "1.0.0",
      "model_name": "LayoutModel",
      "state": {
       "width": "250px"
      }
     },
     "88402ddbbe51404ba20f4ca4146eec76": {
      "model_module": "@jupyter-widgets/controls",
      "model_module_version": "1.2.0",
      "model_name": "DescriptionStyleModel",
      "state": {
       "description_width": "initial"
      }
     },
     "8853206ab5b54230a922bebcaa187340": {
      "model_module": "@jupyter-widgets/base",
      "model_module_version": "1.0.0",
      "model_name": "LayoutModel",
      "state": {}
     },
     "88dedfd517e54359be75a259d2b1cdd6": {
      "model_module": "@jupyter-widgets/base",
      "model_module_version": "1.0.0",
      "model_name": "LayoutModel",
      "state": {
       "justify_content": "center"
      }
     },
     "8916ed0eebea4487a9bbb72c2d8cfbea": {
      "model_module": "@jupyter-widgets/controls",
      "model_module_version": "1.2.0",
      "model_name": "ButtonStyleModel",
      "state": {}
     },
     "89e2372ac87b40ccaf46da9959e620d7": {
      "model_module": "@jupyter-widgets/base",
      "model_module_version": "1.0.0",
      "model_name": "LayoutModel",
      "state": {
       "width": "250px"
      }
     },
     "8a2096aaa9224d0cb51bbe64c8605aba": {
      "model_module": "@jupyter-widgets/base",
      "model_module_version": "1.0.0",
      "model_name": "LayoutModel",
      "state": {
       "justify_content": "center"
      }
     },
     "8a38f9e8fe8e4ecc85718ca87cb5d2da": {
      "model_module": "@jupyter-widgets/controls",
      "model_module_version": "1.2.0",
      "model_name": "DescriptionStyleModel",
      "state": {
       "description_width": ""
      }
     },
     "8a9ed7b929c247f298c6c107f7e37bf9": {
      "model_module": "@jupyter-widgets/controls",
      "model_module_version": "1.2.0",
      "model_name": "HTMLModel",
      "state": {
       "layout": "IPY_MODEL_4ec034a93ded40b0abede3252a56f78e",
       "style": "IPY_MODEL_8586a3449e5e4ed38e6b199c2ec8abae",
       "value": "<i>Wählen Sie die <ins>eine</ins> korrekte Antwort aus: </i>"
      }
     },
     "8ac5b1d935e54a4dadfeabdb62f582b9": {
      "model_module": "@jupyter-widgets/controls",
      "model_module_version": "1.2.0",
      "model_name": "ButtonStyleModel",
      "state": {}
     },
     "8ad7724cbaa04e99b91f77243d232ff6": {
      "model_module": "@jupyter-widgets/controls",
      "model_module_version": "1.2.0",
      "model_name": "DescriptionStyleModel",
      "state": {
       "description_width": "initial"
      }
     },
     "8adc3637fc1e41c59c590399577bbaa5": {
      "model_module": "@jupyter-widgets/controls",
      "model_module_version": "1.2.0",
      "model_name": "HBoxModel",
      "state": {
       "children": [
        "IPY_MODEL_e9d73a06a0d345acb858ed1fcb92f6a9"
       ],
       "layout": "IPY_MODEL_a73cd193f89940a7a296db3998caeef6"
      }
     },
     "8adea599a4e349be9f564e09cce1d5be": {
      "model_module": "@jupyter-widgets/controls",
      "model_module_version": "1.2.0",
      "model_name": "CheckboxModel",
      "state": {
       "description": "Keine der Alternativen",
       "disabled": false,
       "layout": "IPY_MODEL_53f7403e611b4e38be92deec54977ae4",
       "style": "IPY_MODEL_5ba5ff4445cf4f2492b8a1de8c170778",
       "value": false
      }
     },
     "8b08b1af472847d69b4e4ad1fd1cd2ff": {
      "model_module": "@jupyter-widgets/controls",
      "model_module_version": "1.2.0",
      "model_name": "DescriptionStyleModel",
      "state": {
       "description_width": "initial"
      }
     },
     "8b1ee67243c2455497e96404795e68a7": {
      "model_module": "@jupyter-widgets/base",
      "model_module_version": "1.0.0",
      "model_name": "LayoutModel",
      "state": {
       "width": "250px"
      }
     },
     "8b50f6f6a2d84875bdca5bfad1afd5b4": {
      "model_module": "@jupyter-widgets/controls",
      "model_module_version": "1.2.0",
      "model_name": "ButtonStyleModel",
      "state": {}
     },
     "8b6db83991334680a84645020f078fb0": {
      "model_module": "@jupyter-widgets/controls",
      "model_module_version": "1.2.0",
      "model_name": "HTMLModel",
      "state": {
       "layout": "IPY_MODEL_5fffa93c99d2436baef6a5590780fb83",
       "style": "IPY_MODEL_ebd000b211384492a780991da7e9cd2d",
       "value": "<h4 style=\"font-size:14px;\">Hinsichtlich welcher syntaktischen Grundprinzipien werden natürliche Sprachen mit formalen Methoden analysiert?</h4>"
      }
     },
     "8b9171056d5d4867b473b85cd9ee3d19": {
      "model_module": "@jupyter-widgets/controls",
      "model_module_version": "1.2.0",
      "model_name": "ButtonStyleModel",
      "state": {}
     },
     "8b9180f929b44780ada5b7efb0f1d0a0": {
      "model_module": "@jupyter-widgets/controls",
      "model_module_version": "1.2.0",
      "model_name": "ButtonStyleModel",
      "state": {}
     },
     "8bc39aa79fbd4ad3bd4690a2978d4b94": {
      "model_module": "@jupyter-widgets/controls",
      "model_module_version": "1.2.0",
      "model_name": "CheckboxModel",
      "state": {
       "description": "Parser",
       "disabled": false,
       "layout": "IPY_MODEL_750ac100e02a459ba8fd6922dc4b4dd0",
       "style": "IPY_MODEL_baf340d1cb774333a6ce42c0257d3ebb",
       "value": false
      }
     },
     "8c1c66281d97471385f57dfdd705ca2e": {
      "model_module": "@jupyter-widgets/controls",
      "model_module_version": "1.2.0",
      "model_name": "HTMLModel",
      "state": {
       "layout": "IPY_MODEL_88dedfd517e54359be75a259d2b1cdd6",
       "style": "IPY_MODEL_e34e8b692228450296f2367f71f1de43",
       "value": "<i>Markieren Sie <ins>alle</ins> passenden Antworten: </i>"
      }
     },
     "8c46bcca93f6487286527ff679d780d7": {
      "model_module": "@jupyter-widgets/base",
      "model_module_version": "1.0.0",
      "model_name": "LayoutModel",
      "state": {
       "justify_content": "center"
      }
     },
     "8c7d43fa9f634f198c72681b763d769b": {
      "model_module": "@jupyter-widgets/controls",
      "model_module_version": "1.2.0",
      "model_name": "BoxModel",
      "state": {
       "children": [
        "IPY_MODEL_d2ac471486d14e949ef1a04ca40d759d",
        "IPY_MODEL_c2cfef5102864759a1ad01623eabd9c4",
        "IPY_MODEL_46849d950c794234b150313148267f5a",
        "IPY_MODEL_6273663d56e142629f3f0581739395ae",
        "IPY_MODEL_2d85d2d62cc4431ca0a62c5ac41c997b"
       ],
       "layout": "IPY_MODEL_0f7e14c837914b1e85b3da061b9222cb"
      }
     },
     "8c840a4ee4d145528c6fbbadc6d00ec1": {
      "model_module": "@jupyter-widgets/controls",
      "model_module_version": "1.2.0",
      "model_name": "DescriptionStyleModel",
      "state": {
       "description_width": ""
      }
     },
     "8c8bf801131a4a459727dd80cf49e2ed": {
      "model_module": "@jupyter-widgets/controls",
      "model_module_version": "1.2.0",
      "model_name": "DescriptionStyleModel",
      "state": {
       "description_width": "initial"
      }
     },
     "8cb003ef701f4577b58b5068e51e6405": {
      "model_module": "@jupyter-widgets/base",
      "model_module_version": "1.0.0",
      "model_name": "LayoutModel",
      "state": {
       "width": "600px"
      }
     },
     "8cfbd072d1e840c6ac1bd8f13f33b205": {
      "model_module": "@jupyter-widgets/base",
      "model_module_version": "1.0.0",
      "model_name": "LayoutModel",
      "state": {
       "width": "250px"
      }
     },
     "8d06d96e77784966821bd9627a0e6c7d": {
      "model_module": "@jupyter-widgets/controls",
      "model_module_version": "1.2.0",
      "model_name": "ButtonStyleModel",
      "state": {}
     },
     "8d0e58d3b9a24748a8ef6192ee1f7a1a": {
      "model_module": "@jupyter-widgets/controls",
      "model_module_version": "1.2.0",
      "model_name": "DescriptionStyleModel",
      "state": {
       "description_width": ""
      }
     },
     "8d23e339a57f4499a805fe5fa305c957": {
      "model_module": "@jupyter-widgets/controls",
      "model_module_version": "1.2.0",
      "model_name": "ButtonStyleModel",
      "state": {}
     },
     "8d24acaea70a4fabb7abf0de8eccc058": {
      "model_module": "@jupyter-widgets/base",
      "model_module_version": "1.0.0",
      "model_name": "LayoutModel",
      "state": {}
     },
     "8d4308f6c67d4977924214f87d04b98a": {
      "model_module": "@jupyter-widgets/base",
      "model_module_version": "1.0.0",
      "model_name": "LayoutModel",
      "state": {
       "width": "250px"
      }
     },
     "8d5017965482422eb9642ffe80670ade": {
      "model_module": "@jupyter-widgets/controls",
      "model_module_version": "1.2.0",
      "model_name": "HBoxModel",
      "state": {
       "children": [
        "IPY_MODEL_1eb2e80cb5774a3cba865b6b5624f2f1",
        "IPY_MODEL_0757ccfd8fad4a928faf1c6786194b68"
       ],
       "layout": "IPY_MODEL_647fa655cac140a0b372ae632b4c1a76"
      }
     },
     "8d90db1739754f05b7638664d5bd48fb": {
      "model_module": "@jupyter-widgets/controls",
      "model_module_version": "1.2.0",
      "model_name": "ButtonModel",
      "state": {
       "description": "Korrekt?",
       "layout": "IPY_MODEL_2ee93e710a5f474cb03ad9eef347bca1",
       "style": "IPY_MODEL_a791babe77c14da280d00a1cfee8bba7"
      }
     },
     "8d9df0cc89c64ed0ae9f2e034ea4f361": {
      "model_module": "@jupyter-widgets/controls",
      "model_module_version": "1.2.0",
      "model_name": "VBoxModel",
      "state": {
       "children": [
        "IPY_MODEL_be4f559574ee4dc4913185d7f5f99493",
        "IPY_MODEL_4dcfe84cabb844438af6be0e291b7fb3",
        "IPY_MODEL_f2c32a429f8e43f9b443d0cc21fb0b73",
        "IPY_MODEL_fcd75f41dc2747ad86fde27f9782ef75"
       ],
       "layout": "IPY_MODEL_0c0af69c11a34b6982e1096fb4430f2c"
      }
     },
     "8dc68a551c6f4ea9983e2b46abbb6fa5": {
      "model_module": "@jupyter-widgets/controls",
      "model_module_version": "1.2.0",
      "model_name": "DescriptionStyleModel",
      "state": {
       "description_width": ""
      }
     },
     "8deb3926b18a42298276b41ed23eae60": {
      "model_module": "@jupyter-widgets/controls",
      "model_module_version": "1.2.0",
      "model_name": "HBoxModel",
      "state": {
       "children": [
        "IPY_MODEL_2d0b9cc5e4ef4d2a908a798155f19444",
        "IPY_MODEL_8695e6ba76694cb6a8e729d8103f8bd6"
       ],
       "layout": "IPY_MODEL_29c151cba9314daabe166eb8c2de3db5"
      }
     },
     "8e13cae0915f41adb97110906be884ff": {
      "model_module": "@jupyter-widgets/base",
      "model_module_version": "1.0.0",
      "model_name": "LayoutModel",
      "state": {
       "width": "250px"
      }
     },
     "8e56f71335db48bcb424c22146f873bf": {
      "model_module": "@jupyter-widgets/base",
      "model_module_version": "1.0.0",
      "model_name": "LayoutModel",
      "state": {}
     },
     "8e90fb180516492fb0500fe8c55d673f": {
      "model_module": "@jupyter-widgets/controls",
      "model_module_version": "1.2.0",
      "model_name": "HBoxModel",
      "state": {
       "children": [
        "IPY_MODEL_9e3a2959a5e94f0781c5b66292d44115",
        "IPY_MODEL_b2affc40a72142b5bec6fa666dad7e77"
       ],
       "layout": "IPY_MODEL_cfc4e283adde4f4a9e62c46dc937ce17"
      }
     },
     "8f2a940ac0ac4410893532d00a7911c8": {
      "model_module": "@jupyter-widgets/base",
      "model_module_version": "1.0.0",
      "model_name": "LayoutModel",
      "state": {
       "width": "250px"
      }
     },
     "8f48c69e0e984b108f85945567afa88c": {
      "model_module": "@jupyter-widgets/controls",
      "model_module_version": "1.2.0",
      "model_name": "VBoxModel",
      "state": {
       "children": [
        "IPY_MODEL_6d73e665c0284e279df675e497b06ee5",
        "IPY_MODEL_4f7b2dbf3d824d64a2568e57e9a5780a",
        "IPY_MODEL_e23b0f9914c74dbf8f706dc8710d91c1",
        "IPY_MODEL_a28ffc56403347679ac16a393107cc94",
        "IPY_MODEL_aa1b1460ec2c470ebb5bceae3e062d4d"
       ],
       "layout": "IPY_MODEL_5431458c8b864b1fb6bc3cb8433d9a9d"
      }
     },
     "8f7bac7e96954d938dbd16a83d1800e9": {
      "model_module": "@jupyter-widgets/controls",
      "model_module_version": "1.2.0",
      "model_name": "ButtonModel",
      "state": {
       "description": "Keine der anderen Möglichkeiten",
       "layout": "IPY_MODEL_79599f52f71d43c39b1b811b10355cb0",
       "style": "IPY_MODEL_07649b8d1d9b4496b7f10ed36d98e468"
      }
     },
     "8f98ea1053f4427ba7a031f444675be4": {
      "model_module": "@jupyter-widgets/controls",
      "model_module_version": "1.2.0",
      "model_name": "VBoxModel",
      "state": {
       "children": [
        "IPY_MODEL_b57ed17148fd4a4abf8eb09f4de14f07",
        "IPY_MODEL_a07b4fb413d848bc8b1c4ba6c75bff11",
        "IPY_MODEL_3961b03eca60418abdc31797e6ae3ad5",
        "IPY_MODEL_fc82d52cee9c46909b444db227d9452f",
        "IPY_MODEL_707310d8010347dcb8c11d91417d4c86"
       ],
       "layout": "IPY_MODEL_c9252893fbad465892cc6b9f3222fe54"
      }
     },
     "8f9dfbb908244927852e790ee8154bab": {
      "model_module": "@jupyter-widgets/controls",
      "model_module_version": "1.2.0",
      "model_name": "ButtonModel",
      "state": {
       "description": "genau ein",
       "layout": "IPY_MODEL_9fda87b5863c4ceea4ef26fb2b145d57",
       "style": "IPY_MODEL_1b670773b956403b94385e58401c0279"
      }
     },
     "9005a03bd7f64824ab4636c5d1c79115": {
      "model_module": "@jupyter-widgets/controls",
      "model_module_version": "1.2.0",
      "model_name": "VBoxModel",
      "state": {
       "children": [
        "IPY_MODEL_81c01a710e124c5c9ba1384d0c1c5901",
        "IPY_MODEL_affbf3033b1840278a83f08c27b34733",
        "IPY_MODEL_28c35ed73afa4b72a509b227081fd9ad",
        "IPY_MODEL_7f3d171952f44b79af897b97b86d8aca"
       ],
       "layout": "IPY_MODEL_11b00b1494194d18807a49f5b08a72ae"
      }
     },
     "903e7e10f7394103bc061fd86aea4946": {
      "model_module": "@jupyter-widgets/base",
      "model_module_version": "1.0.0",
      "model_name": "LayoutModel",
      "state": {}
     },
     "9053912442a34336a203e73de59c2994": {
      "model_module": "@jupyter-widgets/controls",
      "model_module_version": "1.2.0",
      "model_name": "DropdownModel",
      "state": {
       "_options_labels": [
        "morphologischen",
        "phonologischen",
        "semantischen",
        "syntaktischen",
        " "
       ],
       "index": 4,
       "layout": "IPY_MODEL_240f9de6cc504a22a2fbb8dca06d9dfa",
       "style": "IPY_MODEL_dd3e772e04e64c419d27c59b55e262f3"
      }
     },
     "90691bdbf03f4de987e626972c3e0ccb": {
      "model_module": "@jupyter-widgets/controls",
      "model_module_version": "1.2.0",
      "model_name": "DescriptionStyleModel",
      "state": {
       "description_width": "initial"
      }
     },
     "90776859bf394cd1b8174419a20244c0": {
      "model_module": "@jupyter-widgets/controls",
      "model_module_version": "1.2.0",
      "model_name": "DescriptionStyleModel",
      "state": {
       "description_width": ""
      }
     },
     "90ab369c2e59473fa6157b0f4c427b46": {
      "model_module": "@jupyter-widgets/base",
      "model_module_version": "1.0.0",
      "model_name": "LayoutModel",
      "state": {
       "justify_content": "center"
      }
     },
     "911e88742d6349fa82b21bb8420858c5": {
      "model_module": "@jupyter-widgets/base",
      "model_module_version": "1.0.0",
      "model_name": "LayoutModel",
      "state": {}
     },
     "91551739881142f980ad4ffa721c0264": {
      "model_module": "@jupyter-widgets/controls",
      "model_module_version": "1.2.0",
      "model_name": "ButtonStyleModel",
      "state": {}
     },
     "91e9006d4e084bf5ad1c46de6292beff": {
      "model_module": "@jupyter-widgets/base",
      "model_module_version": "1.0.0",
      "model_name": "LayoutModel",
      "state": {}
     },
     "922fabf8160f421680d5abe41dead1c2": {
      "model_module": "@jupyter-widgets/controls",
      "model_module_version": "1.2.0",
      "model_name": "ButtonStyleModel",
      "state": {}
     },
     "928bac5751ef4bfaa66002fb95023e91": {
      "model_module": "@jupyter-widgets/base",
      "model_module_version": "1.0.0",
      "model_name": "LayoutModel",
      "state": {}
     },
     "929be88c4952409bad34ee3c9b549349": {
      "model_module": "@jupyter-widgets/base",
      "model_module_version": "1.0.0",
      "model_name": "LayoutModel",
      "state": {
       "width": "600px"
      }
     },
     "929c1bc857e84ec8bebdb6abef03b4fe": {
      "model_module": "@jupyter-widgets/controls",
      "model_module_version": "1.2.0",
      "model_name": "DescriptionStyleModel",
      "state": {
       "description_width": "initial"
      }
     },
     "92a9ce8645cd4e99a19d828f775227fb": {
      "model_module": "@jupyter-widgets/base",
      "model_module_version": "1.0.0",
      "model_name": "LayoutModel",
      "state": {
       "width": "600px"
      }
     },
     "930c1a5fd8de4607b4f6eed60873ae46": {
      "model_module": "@jupyter-widgets/base",
      "model_module_version": "1.0.0",
      "model_name": "LayoutModel",
      "state": {}
     },
     "93186e97d9754b5bad802701e6caf81f": {
      "model_module": "@jupyter-widgets/controls",
      "model_module_version": "1.2.0",
      "model_name": "HBoxModel",
      "state": {
       "children": [
        "IPY_MODEL_451643b72aa549578ed6be852315d502",
        "IPY_MODEL_136a02994dd6442788ad890039846451"
       ],
       "layout": "IPY_MODEL_0b9f14e5f6454e588fc269457e578dd6"
      }
     },
     "9338f9096fff45b6b03b1c80516da592": {
      "model_module": "@jupyter-widgets/base",
      "model_module_version": "1.0.0",
      "model_name": "LayoutModel",
      "state": {
       "justify_content": "center"
      }
     },
     "934266510ac147689517edb7001971c9": {
      "model_module": "@jupyter-widgets/base",
      "model_module_version": "1.0.0",
      "model_name": "LayoutModel",
      "state": {}
     },
     "934e2aeefa41461a8b56e634e31831e1": {
      "model_module": "@jupyter-widgets/controls",
      "model_module_version": "1.2.0",
      "model_name": "DescriptionStyleModel",
      "state": {
       "description_width": ""
      }
     },
     "93596f0f2271488ea7c83ed4de2413bd": {
      "model_module": "@jupyter-widgets/base",
      "model_module_version": "1.0.0",
      "model_name": "LayoutModel",
      "state": {
       "width": "500px"
      }
     },
     "9369e170af2946ccb559a37a6c01afaf": {
      "model_module": "@jupyter-widgets/controls",
      "model_module_version": "1.2.0",
      "model_name": "DescriptionStyleModel",
      "state": {
       "description_width": "initial"
      }
     },
     "9378fdaf8789438e9c2d3fdda53d0552": {
      "model_module": "@jupyter-widgets/base",
      "model_module_version": "1.0.0",
      "model_name": "LayoutModel",
      "state": {
       "width": "250px"
      }
     },
     "9384931f1f994b94bbaa4d9f986e2df6": {
      "model_module": "@jupyter-widgets/controls",
      "model_module_version": "1.2.0",
      "model_name": "ButtonModel",
      "state": {
       "description": "Klammernotation",
       "layout": "IPY_MODEL_d982c51ab0324e4583337bf666a5929a",
       "style": "IPY_MODEL_23c12bbfdf5840378c3250da842334c6"
      }
     },
     "9393565f720340b08284235209c0eda7": {
      "model_module": "@jupyter-widgets/base",
      "model_module_version": "1.0.0",
      "model_name": "LayoutModel",
      "state": {}
     },
     "93c8d1139a294d4dbef8091ab94430a0": {
      "model_module": "@jupyter-widgets/base",
      "model_module_version": "1.0.0",
      "model_name": "LayoutModel",
      "state": {}
     },
     "941098838a42403698ea298466c5b175": {
      "model_module": "@jupyter-widgets/base",
      "model_module_version": "1.0.0",
      "model_name": "LayoutModel",
      "state": {}
     },
     "9439e7ce21ae45008e2616e29672df14": {
      "model_module": "@jupyter-widgets/controls",
      "model_module_version": "1.2.0",
      "model_name": "ButtonModel",
      "state": {
       "description": "Korrekt?",
       "layout": "IPY_MODEL_9f4ec00ad326481e990676619cfa692d",
       "style": "IPY_MODEL_8b9171056d5d4867b473b85cd9ee3d19"
      }
     },
     "94529279112e46c7bdd732a29f960f79": {
      "model_module": "@jupyter-widgets/controls",
      "model_module_version": "1.2.0",
      "model_name": "DescriptionStyleModel",
      "state": {
       "description_width": "initial"
      }
     },
     "9478ecb740c84a7abf3ad914e3c7fe43": {
      "model_module": "@jupyter-widgets/controls",
      "model_module_version": "1.2.0",
      "model_name": "ButtonModel",
      "state": {
       "description": "Dependenz",
       "layout": "IPY_MODEL_c7cd8260fd6f4259b23656a1f9b88474",
       "style": "IPY_MODEL_f4e9b9b7e2e1464b9fefd401144ddcb8"
      }
     },
     "94a1a84b1821408bb49f2e6e372a6682": {
      "model_module": "@jupyter-widgets/base",
      "model_module_version": "1.0.0",
      "model_name": "LayoutModel",
      "state": {
       "width": "600px"
      }
     },
     "94ccae3f7b8240a59e8fc69b2c54621a": {
      "model_module": "@jupyter-widgets/controls",
      "model_module_version": "1.2.0",
      "model_name": "DescriptionStyleModel",
      "state": {
       "description_width": "initial"
      }
     },
     "94e087c28a604a9097888ab8aca4186c": {
      "model_module": "@jupyter-widgets/controls",
      "model_module_version": "1.2.0",
      "model_name": "ButtonStyleModel",
      "state": {}
     },
     "954258f0b6ae4c32af9532d6aea85b5f": {
      "model_module": "@jupyter-widgets/base",
      "model_module_version": "1.0.0",
      "model_name": "LayoutModel",
      "state": {
       "width": "600px"
      }
     },
     "95ca31e7be94482f89da65bfa560191b": {
      "model_module": "@jupyter-widgets/controls",
      "model_module_version": "1.2.0",
      "model_name": "HBoxModel",
      "state": {
       "children": [
        "IPY_MODEL_5e0fc4d3249f42d6a60dcea2a8bec6bf",
        "IPY_MODEL_f6d3f094fa9f44898f34027375806e87"
       ],
       "layout": "IPY_MODEL_97f366400b774358a631300757872fea"
      }
     },
     "95e74c7b71c54dfaa86c902355f7b310": {
      "model_module": "@jupyter-widgets/base",
      "model_module_version": "1.0.0",
      "model_name": "LayoutModel",
      "state": {
       "justify_content": "center"
      }
     },
     "95f7ff4bc4df46eea26528f369aadf13": {
      "model_module": "@jupyter-widgets/controls",
      "model_module_version": "1.2.0",
      "model_name": "VBoxModel",
      "state": {
       "children": [
        "IPY_MODEL_69e35c843c0049f98c54d9d99da1583a",
        "IPY_MODEL_f97ce6a73665492aae90b8990b57167a",
        "IPY_MODEL_8639f50828464e29a85c89b21fb7f6e8",
        "IPY_MODEL_6b68e68367ee44c985716af4bb4b508e",
        "IPY_MODEL_19444a50986c4dfcacefca455d9a9578",
        "IPY_MODEL_b14fa4a233c543cfbdeaeb6a74070d2f"
       ],
       "layout": "IPY_MODEL_928bac5751ef4bfaa66002fb95023e91"
      }
     },
     "9627d768d57f48f7bf96ccb3422abe25": {
      "model_module": "@jupyter-widgets/controls",
      "model_module_version": "1.2.0",
      "model_name": "DescriptionStyleModel",
      "state": {
       "description_width": "initial"
      }
     },
     "96975f2490d6420995a96b84d8aa3776": {
      "model_module": "@jupyter-widgets/controls",
      "model_module_version": "1.2.0",
      "model_name": "HTMLModel",
      "state": {
       "layout": "IPY_MODEL_661285d43fbc4b66ab726be54770b8a5",
       "style": "IPY_MODEL_d467d609da7d42a39c82b0680e14aa3a",
       "value": "<h4 style=\"font-size:14px;\">Welche Hierachie-Ebenen lassen sich in der Beschreibung des Aufbaus sprachlicher Strukturen unterscheiden?</h4>"
      }
     },
     "96d68abcb725405a8f489ed4c170d9c8": {
      "model_module": "@jupyter-widgets/base",
      "model_module_version": "1.0.0",
      "model_name": "LayoutModel",
      "state": {}
     },
     "96f8c3ac26c846a692c0380cefc84933": {
      "model_module": "@jupyter-widgets/controls",
      "model_module_version": "1.2.0",
      "model_name": "HTMLModel",
      "state": {
       "layout": "IPY_MODEL_dc18c7a135824eac96e3dfe72fd877b4",
       "style": "IPY_MODEL_3d4d43ef257f4de98cbe366344c734dc",
       "value": "<h4 style=\"font-size:14px;\">In welcher Form wird die syntaktische Struktur eines Satzes beim Aufruf von NLTK tree.draw() erstellt?</h4>"
      }
     },
     "971f628be73c42bbabf196054098dc9f": {
      "model_module": "@jupyter-widgets/base",
      "model_module_version": "1.0.0",
      "model_name": "LayoutModel",
      "state": {
       "width": "600px"
      }
     },
     "97361df43323469d8f56d48c7d90f0c2": {
      "model_module": "@jupyter-widgets/controls",
      "model_module_version": "1.2.0",
      "model_name": "CheckboxModel",
      "state": {
       "description": "Partiens",
       "disabled": false,
       "layout": "IPY_MODEL_21036e9751b24005b0ae9474c70abf22",
       "style": "IPY_MODEL_7c2d6f95bdb541cea1e46d72da562a91",
       "value": false
      }
     },
     "975d42c91a764abb8f2076a1cea440e1": {
      "model_module": "@jupyter-widgets/base",
      "model_module_version": "1.0.0",
      "model_name": "LayoutModel",
      "state": {
       "justify_content": "center"
      }
     },
     "97ef6ebce11b4aad84acbe5432eee3e4": {
      "model_module": "@jupyter-widgets/controls",
      "model_module_version": "1.2.0",
      "model_name": "CheckboxModel",
      "state": {
       "description": "Adverbialphrase",
       "disabled": false,
       "layout": "IPY_MODEL_a7ab2d1e026d48059af24b96d4b98a83",
       "style": "IPY_MODEL_65d3ca40c51f400d94af9b3992c33479",
       "value": false
      }
     },
     "97f366400b774358a631300757872fea": {
      "model_module": "@jupyter-widgets/base",
      "model_module_version": "1.0.0",
      "model_name": "LayoutModel",
      "state": {}
     },
     "983588be91234e8091fdddcb12b79b36": {
      "model_module": "@jupyter-widgets/controls",
      "model_module_version": "1.2.0",
      "model_name": "CheckboxModel",
      "state": {
       "description": "Lautebene",
       "disabled": false,
       "layout": "IPY_MODEL_c7d7d4f8d0c444a3952cc179e79f43f3",
       "style": "IPY_MODEL_f7a5190a9a8f46e899d12a9472a56191",
       "value": false
      }
     },
     "986d695add364f97bb0a9c661cc388a6": {
      "model_module": "@jupyter-widgets/controls",
      "model_module_version": "1.2.0",
      "model_name": "ButtonStyleModel",
      "state": {}
     },
     "98dc149263a64c79abf10e1db8305402": {
      "model_module": "@jupyter-widgets/controls",
      "model_module_version": "1.2.0",
      "model_name": "HTMLModel",
      "state": {
       "layout": "IPY_MODEL_6510133d8fec49a99ff6bc08325a1cc3",
       "style": "IPY_MODEL_66c399ff312646598d1c8f7168eca448",
       "value": "<h4 style=\"font-size:14px;\">Dependenz ist synonym zu:</h4>"
      }
     },
     "98dd5db8c28848fb80dfb144d8e424ad": {
      "model_module": "@jupyter-widgets/base",
      "model_module_version": "1.0.0",
      "model_name": "LayoutModel",
      "state": {
       "width": "250px"
      }
     },
     "98e7365fc23a44fc8c25d861ceb822bf": {
      "model_module": "@jupyter-widgets/controls",
      "model_module_version": "1.2.0",
      "model_name": "HBoxModel",
      "state": {
       "children": [
        "IPY_MODEL_ce2fa4ef0ea34476a7a921c4778d1436",
        "IPY_MODEL_9a318500cc6f4519949324ff9808dbf8"
       ],
       "layout": "IPY_MODEL_5691c54deb96478286195f7c6ee36c78"
      }
     },
     "99207c4573b6482c87fc6c806d48a63b": {
      "model_module": "@jupyter-widgets/base",
      "model_module_version": "1.0.0",
      "model_name": "LayoutModel",
      "state": {}
     },
     "992ef7972251414f9bea99ddfd2c5626": {
      "model_module": "@jupyter-widgets/base",
      "model_module_version": "1.0.0",
      "model_name": "LayoutModel",
      "state": {
       "justify_content": "center"
      }
     },
     "996863c748c34812a5e4d40061c044b2": {
      "model_module": "@jupyter-widgets/controls",
      "model_module_version": "1.2.0",
      "model_name": "DescriptionStyleModel",
      "state": {
       "description_width": "initial"
      }
     },
     "99916180b0c740fd89ab3f8041e49f14": {
      "model_module": "@jupyter-widgets/controls",
      "model_module_version": "1.2.0",
      "model_name": "ButtonStyleModel",
      "state": {}
     },
     "99eb585f386646c7ae9c8e3f0c0f0eac": {
      "model_module": "@jupyter-widgets/controls",
      "model_module_version": "1.2.0",
      "model_name": "ButtonModel",
      "state": {
       "description": "Ambiguität",
       "layout": "IPY_MODEL_b0ce2bca3c8a46679895f0e390d7f29e",
       "style": "IPY_MODEL_1e1bea4c1c434c3c8b1e5c8b0679c404"
      }
     },
     "9a0171f1b7164dd8a280863bbcd0e7e9": {
      "model_module": "@jupyter-widgets/controls",
      "model_module_version": "1.2.0",
      "model_name": "CheckboxModel",
      "state": {
       "description": "Syntaxbaum",
       "disabled": false,
       "layout": "IPY_MODEL_4d8d99158d9d440a8de33f026a0d5996",
       "style": "IPY_MODEL_d9d193d8369a4508b0afdb7dd712b32d",
       "value": false
      }
     },
     "9a221a6ee1cf4b50920dc96b03c362e7": {
      "model_module": "@jupyter-widgets/controls",
      "model_module_version": "1.2.0",
      "model_name": "CheckboxModel",
      "state": {
       "description": "Präpositionalphrase",
       "disabled": false,
       "layout": "IPY_MODEL_2c822d3017044baf9e20c3b6ba20775d",
       "style": "IPY_MODEL_357913a66c1a42dc8aedda905e3a3efd",
       "value": false
      }
     },
     "9a2da0ddc53c4b92bec4e22288681d2c": {
      "model_module": "@jupyter-widgets/base",
      "model_module_version": "1.0.0",
      "model_name": "LayoutModel",
      "state": {}
     },
     "9a318500cc6f4519949324ff9808dbf8": {
      "model_module": "@jupyter-widgets/controls",
      "model_module_version": "1.2.0",
      "model_name": "ButtonModel",
      "state": {
       "description": "Wissen um Sprachstruktur",
       "layout": "IPY_MODEL_3fdc3b8d47ad4cea8e05e07ad23b8a98",
       "style": "IPY_MODEL_36199a29f4a94a83ad4600809f205326"
      }
     },
     "9a3b587ad5bc4a478eaf311fb90ed268": {
      "model_module": "@jupyter-widgets/controls",
      "model_module_version": "1.2.0",
      "model_name": "ButtonStyleModel",
      "state": {}
     },
     "9a45e65943054472ba7dc7a9865cd503": {
      "model_module": "@jupyter-widgets/base",
      "model_module_version": "1.0.0",
      "model_name": "LayoutModel",
      "state": {}
     },
     "9aa4fb8de86c42ce8673c363609adb94": {
      "model_module": "@jupyter-widgets/controls",
      "model_module_version": "1.2.0",
      "model_name": "CheckboxModel",
      "state": {
       "description": "Partiens",
       "disabled": false,
       "layout": "IPY_MODEL_c069e3aee77b4da4a255b2e0ac57bb18",
       "style": "IPY_MODEL_8b08b1af472847d69b4e4ad1fd1cd2ff",
       "value": false
      }
     },
     "9aaf50784e34473f8f5bcac34c87e26c": {
      "model_module": "@jupyter-widgets/base",
      "model_module_version": "1.0.0",
      "model_name": "LayoutModel",
      "state": {}
     },
     "9affc0af4ed24ad69891d1d232fc0126": {
      "model_module": "@jupyter-widgets/base",
      "model_module_version": "1.0.0",
      "model_name": "LayoutModel",
      "state": {
       "width": "250px"
      }
     },
     "9b189952c787489e980b91c70c0ac300": {
      "model_module": "@jupyter-widgets/controls",
      "model_module_version": "1.2.0",
      "model_name": "DescriptionStyleModel",
      "state": {
       "description_width": ""
      }
     },
     "9b8e3057c3bb4dd7b3d9a2f9470c2ac4": {
      "model_module": "@jupyter-widgets/base",
      "model_module_version": "1.0.0",
      "model_name": "LayoutModel",
      "state": {
       "align_content": "stretch",
       "align_items": "stretch",
       "display": "inline-flex",
       "flex": "flex-grow",
       "flex_flow": "row wrap",
       "justify_content": "flex-start"
      }
     },
     "9b9a96188fd34382baa00989422edd26": {
      "model_module": "@jupyter-widgets/controls",
      "model_module_version": "1.2.0",
      "model_name": "HTMLModel",
      "state": {
       "layout": "IPY_MODEL_dabf3193a09f4ba28a64bdd1263971e0",
       "style": "IPY_MODEL_3eba6b4c44dd4b5793ac86aad440a11d",
       "value": "<h4 style=\"font-size:14px;\">Welche formalen Repräsentationen der syntaktischen Struktur eines natürlichsprachlichen Satzes haben Sie in der Vorlesung kennengelernt?</h4>"
      }
     },
     "9bc61409304d4aef9c3f22119ec49d90": {
      "model_module": "@jupyter-widgets/controls",
      "model_module_version": "1.2.0",
      "model_name": "VBoxModel",
      "state": {
       "children": [
        "IPY_MODEL_45b880a66d5f44e68f1d74e3d93d3cc9",
        "IPY_MODEL_5388576391734e709715837bb0fa79d5",
        "IPY_MODEL_7610cdd303d54189bed2c7825e81ab1e",
        "IPY_MODEL_73af5690aa164515b913b62a4d27a410"
       ],
       "layout": "IPY_MODEL_10013176c692436cb65c1dc6ee7fd67c"
      }
     },
     "9c2e45b99ecd4b61b89bf422cb5c31a5": {
      "model_module": "@jupyter-widgets/controls",
      "model_module_version": "1.2.0",
      "model_name": "VBoxModel",
      "state": {
       "children": [
        "IPY_MODEL_7210ad0aabdc4446b7d53f64e6f533ad",
        "IPY_MODEL_bfecb0f18102462aa3f647d86f0508dd",
        "IPY_MODEL_cc55be61e14a4a5b84571bb23ba08053",
        "IPY_MODEL_8d5017965482422eb9642ffe80670ade"
       ],
       "layout": "IPY_MODEL_7310d4607b994e90a4a78ec109e9b877"
      }
     },
     "9c3cfb33fca041fc8450b35c98e24259": {
      "model_module": "@jupyter-widgets/base",
      "model_module_version": "1.0.0",
      "model_name": "LayoutModel",
      "state": {
       "width": "600px"
      }
     },
     "9c420ecfa22a4ca2bb2427b163a87460": {
      "model_module": "@jupyter-widgets/base",
      "model_module_version": "1.0.0",
      "model_name": "LayoutModel",
      "state": {
       "width": "250px"
      }
     },
     "9c7cf35185044ceda5938960d412c1d0": {
      "model_module": "@jupyter-widgets/base",
      "model_module_version": "1.0.0",
      "model_name": "LayoutModel",
      "state": {
       "width": "600px"
      }
     },
     "9d181fc6cf564b76822e5a1c15ae6ce6": {
      "model_module": "@jupyter-widgets/base",
      "model_module_version": "1.0.0",
      "model_name": "LayoutModel",
      "state": {
       "width": "250px"
      }
     },
     "9d1a083c9ced4b13b59f3de2a31b9d55": {
      "model_module": "@jupyter-widgets/controls",
      "model_module_version": "1.2.0",
      "model_name": "VBoxModel",
      "state": {
       "children": [
        "IPY_MODEL_d13aec039f094825b20847d8bf5a1f89",
        "IPY_MODEL_fec0e83b9f2543b2ae70fa03d36cbaf5",
        "IPY_MODEL_1014db22bad2416996a4f6e8a885ea23",
        "IPY_MODEL_5fc387be99994d0e84c01d6b4b23a97b"
       ],
       "layout": "IPY_MODEL_352a4ea19a7545b58bc9de8d8bcb07fd"
      }
     },
     "9d6a9141a09b404cb392133ab7cc8178": {
      "model_module": "@jupyter-widgets/base",
      "model_module_version": "1.0.0",
      "model_name": "LayoutModel",
      "state": {
       "justify_content": "center"
      }
     },
     "9da3c77a5d7640298660356cd5cc2993": {
      "model_module": "@jupyter-widgets/controls",
      "model_module_version": "1.2.0",
      "model_name": "ButtonStyleModel",
      "state": {}
     },
     "9db860f6b8964b8492edc5b457ebfdfc": {
      "model_module": "@jupyter-widgets/base",
      "model_module_version": "1.0.0",
      "model_name": "LayoutModel",
      "state": {}
     },
     "9dc3d61547d5459482c92a3ef550c419": {
      "model_module": "@jupyter-widgets/controls",
      "model_module_version": "1.2.0",
      "model_name": "ButtonModel",
      "state": {
       "description": "Wissen um Sprachstruktur",
       "layout": "IPY_MODEL_48d7af92515943ef9199be689eb1bb49",
       "style": "IPY_MODEL_1253311e2cde4db5b14ce9586559a90c"
      }
     },
     "9dcc907ac5284cccb3769680e816d6ca": {
      "model_module": "@jupyter-widgets/controls",
      "model_module_version": "1.2.0",
      "model_name": "ButtonStyleModel",
      "state": {}
     },
     "9dffafe618f24c86b706440d6440d8c1": {
      "model_module": "@jupyter-widgets/controls",
      "model_module_version": "1.2.0",
      "model_name": "ButtonModel",
      "state": {
       "description": "Korrekt?",
       "layout": "IPY_MODEL_31b1486657964ad7b8dcf1f6dd58af38",
       "style": "IPY_MODEL_b4a2c926afe94129b369245e30cd485a"
      }
     },
     "9e3a2959a5e94f0781c5b66292d44115": {
      "model_module": "@jupyter-widgets/controls",
      "model_module_version": "1.2.0",
      "model_name": "ButtonModel",
      "state": {
       "description": "Regelbuch",
       "layout": "IPY_MODEL_ced12347c0014f099e3aa9755e6584e0",
       "style": "IPY_MODEL_2562f045afb94a67ae0081db8c6f3835"
      }
     },
     "9e828510d93142c5ab35ea20980df08f": {
      "model_module": "@jupyter-widgets/base",
      "model_module_version": "1.0.0",
      "model_name": "LayoutModel",
      "state": {
       "justify_content": "center"
      }
     },
     "9e82dafb2d254f3e9fc9952bb68a91ab": {
      "model_module": "@jupyter-widgets/base",
      "model_module_version": "1.0.0",
      "model_name": "LayoutModel",
      "state": {}
     },
     "9f0907c8664d4414b8ff18134f356486": {
      "model_module": "@jupyter-widgets/base",
      "model_module_version": "1.0.0",
      "model_name": "LayoutModel",
      "state": {}
     },
     "9f4ec00ad326481e990676619cfa692d": {
      "model_module": "@jupyter-widgets/base",
      "model_module_version": "1.0.0",
      "model_name": "LayoutModel",
      "state": {
       "width": "250px"
      }
     },
     "9f5f4e6b768f47cd8b70287d7f1808bb": {
      "model_module": "@jupyter-widgets/base",
      "model_module_version": "1.0.0",
      "model_name": "LayoutModel",
      "state": {}
     },
     "9fd865cec82a4d289e4997df6d72f49c": {
      "model_module": "@jupyter-widgets/base",
      "model_module_version": "1.0.0",
      "model_name": "LayoutModel",
      "state": {}
     },
     "9fda87b5863c4ceea4ef26fb2b145d57": {
      "model_module": "@jupyter-widgets/base",
      "model_module_version": "1.0.0",
      "model_name": "LayoutModel",
      "state": {
       "width": "250px"
      }
     },
     "a00376cc1b294c569d5465b4608c3d2c": {
      "model_module": "@jupyter-widgets/base",
      "model_module_version": "1.0.0",
      "model_name": "LayoutModel",
      "state": {}
     },
     "a01147473b674b96ab746530bb4cc135": {
      "model_module": "@jupyter-widgets/base",
      "model_module_version": "1.0.0",
      "model_name": "LayoutModel",
      "state": {
       "width": "250px"
      }
     },
     "a0246a7e518f401094371ad912a39736": {
      "model_module": "@jupyter-widgets/base",
      "model_module_version": "1.0.0",
      "model_name": "LayoutModel",
      "state": {}
     },
     "a032320f3d72422ca2e02eb85561449e": {
      "model_module": "@jupyter-widgets/controls",
      "model_module_version": "1.2.0",
      "model_name": "HTMLModel",
      "state": {
       "layout": "IPY_MODEL_f5be8f9859f3480ba3e07d10859bffd0",
       "style": "IPY_MODEL_be529579e08e4d8ebd4a129d2dbdea4d",
       "value": "<h4 style=\"font-size:14px;\">Was ist der Fall, wenn die PP ein Adverbial ist?</h4>"
      }
     },
     "a07241bbee774d958e34b8842c5726f0": {
      "model_module": "@jupyter-widgets/controls",
      "model_module_version": "1.2.0",
      "model_name": "VBoxModel",
      "state": {
       "children": [
        "IPY_MODEL_54dcbc987fed4c46a0f9b9a9457215d0",
        "IPY_MODEL_72799d71584049bfbe8021a954513db0",
        "IPY_MODEL_5efc6af7cdc14cb1bad29c51e65d56dd",
        "IPY_MODEL_1be783c63eb24031876d0a8a1a356060"
       ],
       "layout": "IPY_MODEL_6d08a5fa619a458190c2980c866d063b"
      }
     },
     "a07b4fb413d848bc8b1c4ba6c75bff11": {
      "model_module": "@jupyter-widgets/controls",
      "model_module_version": "1.2.0",
      "model_name": "HTMLModel",
      "state": {
       "layout": "IPY_MODEL_dfdaafb981f048478d7577ab5ec09d19",
       "style": "IPY_MODEL_a4e51c771b2e4861b6ff3be0441f8240",
       "value": "<i>Wählen Sie die <ins>eine</ins> korrekte Antwort aus: </i>"
      }
     },
     "a0a2af1e5c534889b0dd8350fa11af0a": {
      "model_module": "@jupyter-widgets/controls",
      "model_module_version": "1.2.0",
      "model_name": "VBoxModel",
      "state": {
       "children": [
        "IPY_MODEL_c67f5f7e71bd4eaf9e172659dad4bd25",
        "IPY_MODEL_ff7f3110f55c44af89955c5eec8cd954",
        "IPY_MODEL_488305007cf343c6b7a31aab09714c7c",
        "IPY_MODEL_b721684187c74a0e9c65ffe9702465a7"
       ],
       "layout": "IPY_MODEL_4ce05517baa845eb96a4d1671f374071"
      }
     },
     "a0ac1ca74dcc44bb871724f59199b824": {
      "model_module": "@jupyter-widgets/base",
      "model_module_version": "1.0.0",
      "model_name": "LayoutModel",
      "state": {
       "width": "600px"
      }
     },
     "a0f51060cc4246939c4ba3d6c8b8fe91": {
      "model_module": "@jupyter-widgets/controls",
      "model_module_version": "1.2.0",
      "model_name": "HBoxModel",
      "state": {
       "children": [
        "IPY_MODEL_748413d2b90e4c6a977a30d66386de09",
        "IPY_MODEL_32754b5c2f07414698dc39622c2c983a"
       ],
       "layout": "IPY_MODEL_1ba9bfc329a749e3a9322223e93c3b3e"
      }
     },
     "a138bf1861824c2680e0b2621621d4de": {
      "model_module": "@jupyter-widgets/controls",
      "model_module_version": "1.2.0",
      "model_name": "DescriptionStyleModel",
      "state": {
       "description_width": ""
      }
     },
     "a1688bb060b647e3b21c5462efe18541": {
      "model_module": "@jupyter-widgets/controls",
      "model_module_version": "1.2.0",
      "model_name": "ButtonModel",
      "state": {
       "description": "Regelsystem",
       "layout": "IPY_MODEL_2b2834e3348e4242bb42ead430ee5d9d",
       "style": "IPY_MODEL_8ac5b1d935e54a4dadfeabdb62f582b9"
      }
     },
     "a1d6c15a64574ff2adcaf9825dca84e7": {
      "model_module": "@jupyter-widgets/controls",
      "model_module_version": "1.2.0",
      "model_name": "ButtonModel",
      "state": {
       "description": "Korrekt?",
       "layout": "IPY_MODEL_c6a42bba93d54bae95738b3ab9359aad",
       "style": "IPY_MODEL_8916ed0eebea4487a9bbb72c2d8cfbea"
      }
     },
     "a1d9555f34ff40d9b58f76bacab01db9": {
      "model_module": "@jupyter-widgets/controls",
      "model_module_version": "1.2.0",
      "model_name": "ButtonStyleModel",
      "state": {}
     },
     "a1f9440cd6bf49fe98dec7aaf0bde91e": {
      "model_module": "@jupyter-widgets/base",
      "model_module_version": "1.0.0",
      "model_name": "LayoutModel",
      "state": {
       "justify_content": "center"
      }
     },
     "a237441476054f4ca13f9719b185ca05": {
      "model_module": "@jupyter-widgets/controls",
      "model_module_version": "1.2.0",
      "model_name": "CheckboxModel",
      "state": {
       "description": "Satzebene",
       "disabled": false,
       "layout": "IPY_MODEL_9c7cf35185044ceda5938960d412c1d0",
       "style": "IPY_MODEL_a46fca88894c47b99744b920158f4696",
       "value": false
      }
     },
     "a271352967b448b9bb5db0267c9bb681": {
      "model_module": "@jupyter-widgets/base",
      "model_module_version": "1.0.0",
      "model_name": "LayoutModel",
      "state": {}
     },
     "a28ffc56403347679ac16a393107cc94": {
      "model_module": "@jupyter-widgets/controls",
      "model_module_version": "1.2.0",
      "model_name": "HBoxModel",
      "state": {
       "children": [
        "IPY_MODEL_dc2eed1760e64ecbb2e605e358028cea",
        "IPY_MODEL_faef21a5b402428fa3a930699319ebc4"
       ],
       "layout": "IPY_MODEL_53c4ca33f239436f959f189d0260c6bc"
      }
     },
     "a29dd4822f04456ebcd92e36ce264643": {
      "model_module": "@jupyter-widgets/base",
      "model_module_version": "1.0.0",
      "model_name": "LayoutModel",
      "state": {
       "width": "250px"
      }
     },
     "a2af4e3cdb76453c82ba3be6136a83bf": {
      "model_module": "@jupyter-widgets/controls",
      "model_module_version": "1.2.0",
      "model_name": "VBoxModel",
      "state": {
       "children": [
        "IPY_MODEL_d2fbca68581443beb3ddf4d200a7fc63",
        "IPY_MODEL_8a9ed7b929c247f298c6c107f7e37bf9",
        "IPY_MODEL_dee559c9ecd347238422f68fb6a7bdc4",
        "IPY_MODEL_f6e06fd045b64bfe81ad3d73d28c4202"
       ],
       "layout": "IPY_MODEL_62665616bd4d4d9b95b162faad02daa3"
      }
     },
     "a2e8ce05c8ae4dabb2036689919f0dec": {
      "model_module": "@jupyter-widgets/base",
      "model_module_version": "1.0.0",
      "model_name": "LayoutModel",
      "state": {
       "width": "250px"
      }
     },
     "a30154b4c99041b8a5781a483564a40b": {
      "model_module": "@jupyter-widgets/controls",
      "model_module_version": "1.2.0",
      "model_name": "HTMLModel",
      "state": {
       "layout": "IPY_MODEL_78c58af3cc17412fbbdd5ea5bf68265f",
       "style": "IPY_MODEL_e3ae43fdcdb14750a33f1088066f8c43",
       "value": "<h4 style=\"font-size:14px;\">der Grammatik, der sich auf die</h4>"
      }
     },
     "a31a8443aaf84a5c8fd467c067422a4e": {
      "model_module": "@jupyter-widgets/controls",
      "model_module_version": "1.2.0",
      "model_name": "DescriptionStyleModel",
      "state": {
       "description_width": "initial"
      }
     },
     "a32bef61a1434152a0ac4e14a85fb153": {
      "model_module": "@jupyter-widgets/base",
      "model_module_version": "1.0.0",
      "model_name": "LayoutModel",
      "state": {
       "width": "600px"
      }
     },
     "a360b6979c514447b34909f1376c9b36": {
      "model_module": "@jupyter-widgets/controls",
      "model_module_version": "1.2.0",
      "model_name": "DescriptionStyleModel",
      "state": {
       "description_width": "initial"
      }
     },
     "a4151a32f27f4132b9a9ae8de84f3a52": {
      "model_module": "@jupyter-widgets/base",
      "model_module_version": "1.0.0",
      "model_name": "LayoutModel",
      "state": {
       "justify_content": "center"
      }
     },
     "a4270402fbd7469cb94aa4d4a4f92d03": {
      "model_module": "@jupyter-widgets/controls",
      "model_module_version": "1.2.0",
      "model_name": "VBoxModel",
      "state": {
       "children": [
        "IPY_MODEL_3e775acc3f554d209ea5759861607876",
        "IPY_MODEL_4cd62ad72f7648b59d88b66d0c030d6c",
        "IPY_MODEL_8adea599a4e349be9f564e09cce1d5be",
        "IPY_MODEL_40d309ab08b9413c9579e669bc571211",
        "IPY_MODEL_23164cd682014114836c3422e9381c1f"
       ],
       "layout": "IPY_MODEL_470d4c078dde460a82ed008261524496"
      }
     },
     "a42a7871840c4fee88b22fd85831cc1a": {
      "model_module": "@jupyter-widgets/controls",
      "model_module_version": "1.2.0",
      "model_name": "ButtonModel",
      "state": {
       "description": "Abhängigkeitsstruktur",
       "layout": "IPY_MODEL_5d5553fe9353466dafdfe52ea0aa9a05",
       "style": "IPY_MODEL_d56f510c1b3b4df1bdae6c006dcd5281"
      }
     },
     "a43d8dd984a94240924dd10f973c9ea1": {
      "model_module": "@jupyter-widgets/base",
      "model_module_version": "1.0.0",
      "model_name": "LayoutModel",
      "state": {
       "width": "150px"
      }
     },
     "a45ef4b4b07b45e79bd71f70f535a44e": {
      "model_module": "@jupyter-widgets/controls",
      "model_module_version": "1.2.0",
      "model_name": "ButtonModel",
      "state": {
       "description": "Korrekt?",
       "layout": "IPY_MODEL_9c420ecfa22a4ca2bb2427b163a87460",
       "style": "IPY_MODEL_657aaf07c99d4ed99bb44d562f1107d0"
      }
     },
     "a466a1016b2f45388c8d5df0131df014": {
      "model_module": "@jupyter-widgets/base",
      "model_module_version": "1.0.0",
      "model_name": "LayoutModel",
      "state": {
       "width": "250px"
      }
     },
     "a46fca88894c47b99744b920158f4696": {
      "model_module": "@jupyter-widgets/controls",
      "model_module_version": "1.2.0",
      "model_name": "DescriptionStyleModel",
      "state": {
       "description_width": "initial"
      }
     },
     "a48e1ba2912149ec999f4237c65d4342": {
      "model_module": "@jupyter-widgets/controls",
      "model_module_version": "1.2.0",
      "model_name": "CheckboxModel",
      "state": {
       "description": "Dependenz",
       "disabled": false,
       "layout": "IPY_MODEL_e5dc71606b3f435084a01bc2f7700d3e",
       "style": "IPY_MODEL_94ccae3f7b8240a59e8fc69b2c54621a",
       "value": false
      }
     },
     "a4e51c771b2e4861b6ff3be0441f8240": {
      "model_module": "@jupyter-widgets/controls",
      "model_module_version": "1.2.0",
      "model_name": "DescriptionStyleModel",
      "state": {
       "description_width": ""
      }
     },
     "a4fe2bf4c1b145499800ad231b341b9b": {
      "model_module": "@jupyter-widgets/controls",
      "model_module_version": "1.2.0",
      "model_name": "DescriptionStyleModel",
      "state": {
       "description_width": ""
      }
     },
     "a52a5af2b2144594b6c67d7fbf38849d": {
      "model_module": "@jupyter-widgets/controls",
      "model_module_version": "1.2.0",
      "model_name": "HTMLModel",
      "state": {
       "layout": "IPY_MODEL_28d2f27dd16746208d7728a5f58983a2",
       "style": "IPY_MODEL_58fae21847e84905b6f8dbc81584ba5e",
       "value": "<h4 style=\"font-size:14px;\">Bei einer solchen Analyse wird welche ja/nein-Entscheidung unweigerlich getroffen?</h4>"
      }
     },
     "a53dac9fdf674cad8a09b227c26bae93": {
      "model_module": "@jupyter-widgets/controls",
      "model_module_version": "1.2.0",
      "model_name": "DescriptionStyleModel",
      "state": {
       "description_width": "initial"
      }
     },
     "a5b1c5cd8e374ea7a681becbc1044233": {
      "model_module": "@jupyter-widgets/base",
      "model_module_version": "1.0.0",
      "model_name": "LayoutModel",
      "state": {}
     },
     "a616842196764f169447d48ab2053a83": {
      "model_module": "@jupyter-widgets/base",
      "model_module_version": "1.0.0",
      "model_name": "LayoutModel",
      "state": {}
     },
     "a633c0cab916440c866d6d44814b637a": {
      "model_module": "@jupyter-widgets/controls",
      "model_module_version": "1.2.0",
      "model_name": "HTMLModel",
      "state": {
       "layout": "IPY_MODEL_f4a71dd6dfe04a049908d4314e6031a8",
       "style": "IPY_MODEL_099655e2b0e84767804f32b3fbd09fa0",
       "value": "<h4 style=\"font-size:14px;\">In welcher Form wird die syntaktische Struktur eines Satzes beim Aufruf von NLTK print(tree) erstellt?</h4>"
      }
     },
     "a6565ad46f34494ea2bf27ad83cba3a4": {
      "model_module": "@jupyter-widgets/base",
      "model_module_version": "1.0.0",
      "model_name": "LayoutModel",
      "state": {
       "width": "500px"
      }
     },
     "a65e67876ee6449d83484d4d60e12be2": {
      "model_module": "@jupyter-widgets/controls",
      "model_module_version": "1.2.0",
      "model_name": "VBoxModel",
      "state": {
       "children": [
        "IPY_MODEL_d3f6f3e715ef4c5f80031766a64f6030",
        "IPY_MODEL_2682b6d5fdcf4b95890459f0478fd441",
        "IPY_MODEL_003d4fa1ce2648e99bb1ab95d0b41f9b",
        "IPY_MODEL_7f0a21436a8843c393e8cc5db135bf97"
       ],
       "layout": "IPY_MODEL_d6fe454dac0b43e5b89c3513f42536b2"
      }
     },
     "a6ab103043e4456c9d83e832e38f225d": {
      "model_module": "@jupyter-widgets/controls",
      "model_module_version": "1.2.0",
      "model_name": "ButtonModel",
      "state": {
       "description": "Korrekt?",
       "layout": "IPY_MODEL_cefb5a0acea9434f98cc9cf1677a3a08",
       "style": "IPY_MODEL_b6213ee0390642ad8d3f9b31a6f2a160"
      }
     },
     "a6f894dfa6be4c6181b30f9c99737bde": {
      "model_module": "@jupyter-widgets/controls",
      "model_module_version": "1.2.0",
      "model_name": "ButtonStyleModel",
      "state": {}
     },
     "a6fd0167f4e6493f9ca252cd5fa8a2d7": {
      "model_module": "@jupyter-widgets/base",
      "model_module_version": "1.0.0",
      "model_name": "LayoutModel",
      "state": {
       "justify_content": "center"
      }
     },
     "a73cd193f89940a7a296db3998caeef6": {
      "model_module": "@jupyter-widgets/base",
      "model_module_version": "1.0.0",
      "model_name": "LayoutModel",
      "state": {}
     },
     "a74efcd56e4c4415874fafcb76c05848": {
      "model_module": "@jupyter-widgets/base",
      "model_module_version": "1.0.0",
      "model_name": "LayoutModel",
      "state": {}
     },
     "a75a4907b8904cb793ba565f31bf5885": {
      "model_module": "@jupyter-widgets/controls",
      "model_module_version": "1.2.0",
      "model_name": "HTMLModel",
      "state": {
       "layout": "IPY_MODEL_5ba650c8a83d435780379aa31f6b09a3",
       "style": "IPY_MODEL_3829ca82418648729413e7c52981669d",
       "value": "<i>Wählen Sie die <ins>eine</ins> korrekte Antwort aus: </i>"
      }
     },
     "a7604e7927984edf92937e3259d0c21d": {
      "model_module": "@jupyter-widgets/base",
      "model_module_version": "1.0.0",
      "model_name": "LayoutModel",
      "state": {}
     },
     "a78198ccfda54abeb161c41e029d1edd": {
      "model_module": "@jupyter-widgets/controls",
      "model_module_version": "1.2.0",
      "model_name": "CheckboxModel",
      "state": {
       "description": "Adverbialphrase",
       "disabled": false,
       "layout": "IPY_MODEL_7b219515dd644824a46c07349e72e069",
       "style": "IPY_MODEL_36b11295af3743f7a44ad22b401f35a2",
       "value": false
      }
     },
     "a791babe77c14da280d00a1cfee8bba7": {
      "model_module": "@jupyter-widgets/controls",
      "model_module_version": "1.2.0",
      "model_name": "ButtonStyleModel",
      "state": {}
     },
     "a7ab2d1e026d48059af24b96d4b98a83": {
      "model_module": "@jupyter-widgets/base",
      "model_module_version": "1.0.0",
      "model_name": "LayoutModel",
      "state": {
       "width": "600px"
      }
     },
     "a80877a99a2142b58951962b91ef41bc": {
      "model_module": "@jupyter-widgets/controls",
      "model_module_version": "1.2.0",
      "model_name": "CheckboxModel",
      "state": {
       "description": "Phrasenebene",
       "disabled": false,
       "layout": "IPY_MODEL_e3f413f8266542fd9afc7deeae1cccc5",
       "style": "IPY_MODEL_ad39fbc9846749528394d9cc01095903",
       "value": false
      }
     },
     "a82f1f06b6774d25a16b79f4a6be3f84": {
      "model_module": "@jupyter-widgets/base",
      "model_module_version": "1.0.0",
      "model_name": "LayoutModel",
      "state": {
       "width": "600px"
      }
     },
     "a86d470a01924df4b97977ef037dad1a": {
      "model_module": "@jupyter-widgets/controls",
      "model_module_version": "1.2.0",
      "model_name": "ButtonStyleModel",
      "state": {}
     },
     "a873670192a946ccba80ad4dffa35cf6": {
      "model_module": "@jupyter-widgets/base",
      "model_module_version": "1.0.0",
      "model_name": "LayoutModel",
      "state": {
       "justify_content": "center"
      }
     },
     "a890c4e714684d8ebe0d74eaf917a031": {
      "model_module": "@jupyter-widgets/base",
      "model_module_version": "1.0.0",
      "model_name": "LayoutModel",
      "state": {
       "width": "250px"
      }
     },
     "a925649a96354d4888979b0f2d902a2a": {
      "model_module": "@jupyter-widgets/controls",
      "model_module_version": "1.2.0",
      "model_name": "ButtonModel",
      "state": {
       "description": "kein",
       "layout": "IPY_MODEL_e5bd1352baf44662a42ee7642dc59f07",
       "style": "IPY_MODEL_3058650674c9472cad70135403f28cb4"
      }
     },
     "a9f8b0d70a764f08a14dd6c6f962e66b": {
      "model_module": "@jupyter-widgets/controls",
      "model_module_version": "1.2.0",
      "model_name": "ButtonModel",
      "state": {
       "description": "Keine der anderen Möglichkeiten",
       "layout": "IPY_MODEL_6dde505337824e4b9c3f2aac61afca1d",
       "style": "IPY_MODEL_b5f8caed5f4740a9bab9037f0fc09ace"
      }
     },
     "a9fff259efc5426c8a88e9dbca2b6e25": {
      "model_module": "@jupyter-widgets/base",
      "model_module_version": "1.0.0",
      "model_name": "LayoutModel",
      "state": {
       "width": "250px"
      }
     },
     "aa047337b145491ea2b1f81b1fe9a870": {
      "model_module": "@jupyter-widgets/controls",
      "model_module_version": "1.2.0",
      "model_name": "CheckboxModel",
      "state": {
       "description": "Phrasenstruktur",
       "disabled": false,
       "layout": "IPY_MODEL_6096357b1f0f49c3af64f425eb2ddb6c",
       "style": "IPY_MODEL_3751c5592df049ebb2075f89c585be42",
       "value": false
      }
     },
     "aa13c05c96444851903497938dc28954": {
      "model_module": "@jupyter-widgets/base",
      "model_module_version": "1.0.0",
      "model_name": "LayoutModel",
      "state": {}
     },
     "aa1b1460ec2c470ebb5bceae3e062d4d": {
      "model_module": "@jupyter-widgets/controls",
      "model_module_version": "1.2.0",
      "model_name": "HBoxModel",
      "state": {
       "children": [
        "IPY_MODEL_1f15318b65e247ae8a628d89b1ac0c6b"
       ],
       "layout": "IPY_MODEL_fd40bc713a734034b594d9b57a3e3a5a"
      }
     },
     "aa6885724387456284b8aef6904a498d": {
      "model_module": "@jupyter-widgets/controls",
      "model_module_version": "1.2.0",
      "model_name": "HBoxModel",
      "state": {
       "children": [
        "IPY_MODEL_409adcb42b364cf8a645a91778ac8087",
        "IPY_MODEL_dd097a78ecdd4afcbb4c20ff2667e116"
       ],
       "layout": "IPY_MODEL_cddbc136ca8c4ae3b8f946fceb8f4216"
      }
     },
     "aa95cd716eb34393aba0c47e92cfacf0": {
      "model_module": "@jupyter-widgets/controls",
      "model_module_version": "1.2.0",
      "model_name": "CheckboxModel",
      "state": {
       "description": "Verbalphrase",
       "disabled": false,
       "layout": "IPY_MODEL_4ad648b9a83b4de9937f702e0cf148ef",
       "style": "IPY_MODEL_7231eca599d544d396d14267e4a7d9df",
       "value": false
      }
     },
     "ab07ca27cab04217a247c897ae0575b9": {
      "model_module": "@jupyter-widgets/controls",
      "model_module_version": "1.2.0",
      "model_name": "VBoxModel",
      "state": {
       "children": [
        "IPY_MODEL_d30d02e84fdb4f4eadfef6c5c098a9ab",
        "IPY_MODEL_f16e97219bb646fdbae953e60f522320",
        "IPY_MODEL_3895bbf686f144d1aed23a0fcce3a3eb"
       ],
       "layout": "IPY_MODEL_903e7e10f7394103bc061fd86aea4946"
      }
     },
     "ab6ee6f7281e43b88c5ee3839a8fcbfa": {
      "model_module": "@jupyter-widgets/controls",
      "model_module_version": "1.2.0",
      "model_name": "HTMLModel",
      "state": {
       "layout": "IPY_MODEL_5e3f7163a2304e0f9174df4b2cc6e66c",
       "style": "IPY_MODEL_e2e3702f2a6f465c879eb77ab75ebad1",
       "value": "<i>Wählen Sie die <ins>eine</ins> korrekte Antwort aus: </i>"
      }
     },
     "aba2730d3ba348958d5ed98ce4165e37": {
      "model_module": "@jupyter-widgets/controls",
      "model_module_version": "1.2.0",
      "model_name": "DescriptionStyleModel",
      "state": {
       "description_width": ""
      }
     },
     "abc3736c7ea14e588f6e2f79d77a6aeb": {
      "model_module": "@jupyter-widgets/base",
      "model_module_version": "1.0.0",
      "model_name": "LayoutModel",
      "state": {
       "width": "250px"
      }
     },
     "abc7da05c3ad4bbe9cf0fa1899c9465a": {
      "model_module": "@jupyter-widgets/base",
      "model_module_version": "1.0.0",
      "model_name": "LayoutModel",
      "state": {
       "width": "600px"
      }
     },
     "abfefece252c4974a05ecacb3a5fd5ea": {
      "model_module": "@jupyter-widgets/controls",
      "model_module_version": "1.2.0",
      "model_name": "DescriptionStyleModel",
      "state": {
       "description_width": ""
      }
     },
     "ac1108ade5504c9a81b5b919ef2c01d2": {
      "model_module": "@jupyter-widgets/controls",
      "model_module_version": "1.2.0",
      "model_name": "VBoxModel",
      "state": {
       "children": [
        "IPY_MODEL_5053610a9a054e84b80c543b6f369adc",
        "IPY_MODEL_bcc9df094ed44d1a9592f443662c254f",
        "IPY_MODEL_a0f51060cc4246939c4ba3d6c8b8fe91",
        "IPY_MODEL_cc35bd2c9e2240f9b3f3198c47d4266e"
       ],
       "layout": "IPY_MODEL_96d68abcb725405a8f489ed4c170d9c8"
      }
     },
     "ac2f4bb099f440dabac95dde723309a0": {
      "model_module": "@jupyter-widgets/base",
      "model_module_version": "1.0.0",
      "model_name": "LayoutModel",
      "state": {
       "width": "250px"
      }
     },
     "ac8152d8d18a4a48b1b1b1808b63fdc6": {
      "model_module": "@jupyter-widgets/base",
      "model_module_version": "1.0.0",
      "model_name": "LayoutModel",
      "state": {
       "width": "600px"
      }
     },
     "ac871ce0699d47a2b9767d6f9043a525": {
      "model_module": "@jupyter-widgets/controls",
      "model_module_version": "1.2.0",
      "model_name": "ButtonModel",
      "state": {
       "description": "formale Grammatik",
       "layout": "IPY_MODEL_e552e5b9efb6446e842136918f8e06ba",
       "style": "IPY_MODEL_0acf9d656d464ae6a6101e1a12c56f23"
      }
     },
     "ac8cd8096e2d479f9ef3f3dfe4fc9c8c": {
      "model_module": "@jupyter-widgets/controls",
      "model_module_version": "1.2.0",
      "model_name": "ButtonStyleModel",
      "state": {}
     },
     "acc97c2a9130401c8a4da9d17d1b4941": {
      "model_module": "@jupyter-widgets/controls",
      "model_module_version": "1.2.0",
      "model_name": "HTMLModel",
      "state": {
       "layout": "IPY_MODEL_9f0907c8664d4414b8ff18134f356486",
       "style": "IPY_MODEL_f4c6d41cde7a45a99667d235e779c017",
       "value": "<h4 style=\"font-size:14px;\">Die Syntax ist ein</h4>"
      }
     },
     "acd4c41bbb0f41258bc26c32bff86093": {
      "model_module": "@jupyter-widgets/controls",
      "model_module_version": "1.2.0",
      "model_name": "ButtonModel",
      "state": {
       "description": "Wortstruktur",
       "layout": "IPY_MODEL_285ff4434b1c405ab9671f2f7a44d91b",
       "style": "IPY_MODEL_747dae68e6774dd2b8cf3b7fedc932b8"
      }
     },
     "acdb0cdaf92d40c792ac5301f2bb4fcb": {
      "model_module": "@jupyter-widgets/base",
      "model_module_version": "1.0.0",
      "model_name": "LayoutModel",
      "state": {
       "justify_content": "center"
      }
     },
     "ad1b75b88c9a4755aa83b31b42ec05c2": {
      "model_module": "@jupyter-widgets/base",
      "model_module_version": "1.0.0",
      "model_name": "LayoutModel",
      "state": {
       "justify_content": "center"
      }
     },
     "ad1e448a354745b39b1859b333aa5347": {
      "model_module": "@jupyter-widgets/controls",
      "model_module_version": "1.2.0",
      "model_name": "ButtonModel",
      "state": {
       "description": "andere Gründe",
       "layout": "IPY_MODEL_c9b3060bf5654debb57f05d5dcf20dc9",
       "style": "IPY_MODEL_01ddb0823dcf47348f1f9b64192b1adc"
      }
     },
     "ad39fbc9846749528394d9cc01095903": {
      "model_module": "@jupyter-widgets/controls",
      "model_module_version": "1.2.0",
      "model_name": "DescriptionStyleModel",
      "state": {
       "description_width": "initial"
      }
     },
     "ad8e6b8847204cefb6090a5ba55953df": {
      "model_module": "@jupyter-widgets/controls",
      "model_module_version": "1.2.0",
      "model_name": "HBoxModel",
      "state": {
       "children": [
        "IPY_MODEL_bcf5cbba0a0d4991854697c6cd0a428c",
        "IPY_MODEL_38f9dba8e3dd45b98ec8aa4dcc8b4086"
       ],
       "layout": "IPY_MODEL_7117ad1ee7da4790bdabc3f7d0e681a5"
      }
     },
     "adca18d50ebf425bad8cbbabd07e89db": {
      "model_module": "@jupyter-widgets/controls",
      "model_module_version": "1.2.0",
      "model_name": "DescriptionStyleModel",
      "state": {
       "description_width": "initial"
      }
     },
     "add0116d9e264976bf0c3feadc22e95e": {
      "model_module": "@jupyter-widgets/base",
      "model_module_version": "1.0.0",
      "model_name": "LayoutModel",
      "state": {}
     },
     "ae07e6e9221444bc8f7252261884b0fd": {
      "model_module": "@jupyter-widgets/controls",
      "model_module_version": "1.2.0",
      "model_name": "DescriptionStyleModel",
      "state": {
       "description_width": ""
      }
     },
     "ae08444739de418482cadcb40288dc0b": {
      "model_module": "@jupyter-widgets/base",
      "model_module_version": "1.0.0",
      "model_name": "LayoutModel",
      "state": {}
     },
     "ae61e62f71ca451ba60d5f65ff70387e": {
      "model_module": "@jupyter-widgets/base",
      "model_module_version": "1.0.0",
      "model_name": "LayoutModel",
      "state": {
       "width": "250px"
      }
     },
     "ae90e1312aa14ddeb6c9918a0a6b4e76": {
      "model_module": "@jupyter-widgets/controls",
      "model_module_version": "1.2.0",
      "model_name": "HBoxModel",
      "state": {
       "children": [
        "IPY_MODEL_6292fc8f4f2e4a9eb0cc484d1279411e",
        "IPY_MODEL_146cd41ac1da492fa8134a076c0e0d19"
       ],
       "layout": "IPY_MODEL_f3515807dda54ed0a5e2b4716a921d77"
      }
     },
     "af120197d8a345fc9086817851deb9a0": {
      "model_module": "@jupyter-widgets/controls",
      "model_module_version": "1.2.0",
      "model_name": "VBoxModel",
      "state": {
       "children": [
        "IPY_MODEL_29b27d8af6d94ddbbd56b7e0620bac97",
        "IPY_MODEL_27011ae2ca6b4be1aa677f9412ecc1c9",
        "IPY_MODEL_ae90e1312aa14ddeb6c9918a0a6b4e76",
        "IPY_MODEL_55e838374b7a4cd4b9e79f7ab922e354"
       ],
       "layout": "IPY_MODEL_6b00fbe00d184511b896f2a6944b600d"
      }
     },
     "af2f08df5876490f8bc60fa0d7cc3cd6": {
      "model_module": "@jupyter-widgets/base",
      "model_module_version": "1.0.0",
      "model_name": "LayoutModel",
      "state": {
       "width": "250px"
      }
     },
     "af7fdcb72cdc494782672a0b643d6c0c": {
      "model_module": "@jupyter-widgets/controls",
      "model_module_version": "1.2.0",
      "model_name": "DescriptionStyleModel",
      "state": {
       "description_width": "initial"
      }
     },
     "afbc81e3b3dc4e2ea46b4e63ff290577": {
      "model_module": "@jupyter-widgets/controls",
      "model_module_version": "1.2.0",
      "model_name": "ButtonStyleModel",
      "state": {}
     },
     "afe321c377c54be49bfd9aa809496e33": {
      "model_module": "@jupyter-widgets/base",
      "model_module_version": "1.0.0",
      "model_name": "LayoutModel",
      "state": {}
     },
     "affb8b25a8944e64bdc7446000ce59a6": {
      "model_module": "@jupyter-widgets/controls",
      "model_module_version": "1.2.0",
      "model_name": "ButtonModel",
      "state": {
       "description": "Dependenz",
       "layout": "IPY_MODEL_8e13cae0915f41adb97110906be884ff",
       "style": "IPY_MODEL_5586263bcffa4483b56c6d94c2e17831"
      }
     },
     "affbf3033b1840278a83f08c27b34733": {
      "model_module": "@jupyter-widgets/controls",
      "model_module_version": "1.2.0",
      "model_name": "HTMLModel",
      "state": {
       "layout": "IPY_MODEL_9338f9096fff45b6b03b1c80516da592",
       "style": "IPY_MODEL_4bb343b41d83496fa87f658f257c9931",
       "value": "<i>Markieren Sie <ins>alle</ins> passenden Antworten: </i>"
      }
     },
     "b036192fa32c44a09f463326f7f67ee0": {
      "model_module": "@jupyter-widgets/controls",
      "model_module_version": "1.2.0",
      "model_name": "DescriptionStyleModel",
      "state": {
       "description_width": "initial"
      }
     },
     "b0466c6c514d46b0b28ed8a44d632f80": {
      "model_module": "@jupyter-widgets/controls",
      "model_module_version": "1.2.0",
      "model_name": "HTMLModel",
      "state": {
       "layout": "IPY_MODEL_b4b94825b82d469cb8a00f426bdd406d",
       "style": "IPY_MODEL_d6f5f03999f7414684ca9893e5dfaed3",
       "value": "<i>Wählen Sie die <ins>eine</ins> korrekte Antwort aus: </i>"
      }
     },
     "b09a4f4fee9446f7a1a17fa207e59fb8": {
      "model_module": "@jupyter-widgets/controls",
      "model_module_version": "1.2.0",
      "model_name": "HBoxModel",
      "state": {
       "children": [
        "IPY_MODEL_8f7bac7e96954d938dbd16a83d1800e9"
       ],
       "layout": "IPY_MODEL_ef5cde3b0b4d42fd9a27d5835cddf89d"
      }
     },
     "b0ba9ffdfa3d45cd82e3e83cb20442cb": {
      "model_module": "@jupyter-widgets/controls",
      "model_module_version": "1.2.0",
      "model_name": "ButtonStyleModel",
      "state": {}
     },
     "b0bf5aa20ed44589b7fcbfa7703288cd": {
      "model_module": "@jupyter-widgets/controls",
      "model_module_version": "1.2.0",
      "model_name": "DescriptionStyleModel",
      "state": {
       "description_width": "initial"
      }
     },
     "b0ce2bca3c8a46679895f0e390d7f29e": {
      "model_module": "@jupyter-widgets/base",
      "model_module_version": "1.0.0",
      "model_name": "LayoutModel",
      "state": {
       "width": "250px"
      }
     },
     "b106abb3bc8c4dfe8d6680f066d85331": {
      "model_module": "@jupyter-widgets/base",
      "model_module_version": "1.0.0",
      "model_name": "LayoutModel",
      "state": {}
     },
     "b14fa4a233c543cfbdeaeb6a74070d2f": {
      "model_module": "@jupyter-widgets/controls",
      "model_module_version": "1.2.0",
      "model_name": "CheckboxModel",
      "state": {
       "description": "Wortstruktur",
       "disabled": false,
       "layout": "IPY_MODEL_a32bef61a1434152a0ac4e14a85fb153",
       "style": "IPY_MODEL_1dfd166745134199bbb406dcad41f849",
       "value": false
      }
     },
     "b1799af181784e1e83fcd9be1b124970": {
      "model_module": "@jupyter-widgets/base",
      "model_module_version": "1.0.0",
      "model_name": "LayoutModel",
      "state": {
       "width": "600px"
      }
     },
     "b1a7fe5500a34c0fad3bceecee9940dd": {
      "model_module": "@jupyter-widgets/base",
      "model_module_version": "1.0.0",
      "model_name": "LayoutModel",
      "state": {}
     },
     "b1dd02b1f37e4db394c723a46a62db42": {
      "model_module": "@jupyter-widgets/base",
      "model_module_version": "1.0.0",
      "model_name": "LayoutModel",
      "state": {
       "align_content": "stretch",
       "align_items": "stretch",
       "display": "inline-flex",
       "flex": "flex-grow",
       "flex_flow": "row wrap",
       "justify_content": "flex-start"
      }
     },
     "b255863a53b4468688ec04f2672afd8b": {
      "model_module": "@jupyter-widgets/controls",
      "model_module_version": "1.2.0",
      "model_name": "ButtonModel",
      "state": {
       "description": "Korrekt?",
       "layout": "IPY_MODEL_1bd3c454c4b0456ab9b68fa5a6bf1689",
       "style": "IPY_MODEL_24db4fbebed542bab78e1ad3fcb5f57f"
      }
     },
     "b2affc40a72142b5bec6fa666dad7e77": {
      "model_module": "@jupyter-widgets/controls",
      "model_module_version": "1.2.0",
      "model_name": "ButtonModel",
      "state": {
       "description": "Regelsystem",
       "layout": "IPY_MODEL_158667e0ab954c9f8eed922e55767905",
       "style": "IPY_MODEL_472c6118dc6943e0b76cf26796130279"
      }
     },
     "b2c125aa523d4b1cb1625b66a907a3e4": {
      "model_module": "@jupyter-widgets/controls",
      "model_module_version": "1.2.0",
      "model_name": "HBoxModel",
      "state": {
       "children": [
        "IPY_MODEL_31335df183884c7cb57d248b242f9fcd",
        "IPY_MODEL_4bbdfdc77da74bd3af498c60458a6332"
       ],
       "layout": "IPY_MODEL_119ef0346eef461497a084756edf7eda"
      }
     },
     "b2c619ba449042df9a8da529239a8f98": {
      "model_module": "@jupyter-widgets/controls",
      "model_module_version": "1.2.0",
      "model_name": "DropdownModel",
      "state": {
       "_options_labels": [
        "Keine der Alternativen",
        "der Ort des Geschehens wird festgelegt",
        "die PP wird dem Substantiv beigefügt",
        "die im Verb ausgedrückte Tätigkeit wird modifiziert"
       ],
       "description": "Antwort:",
       "index": 0,
       "layout": "IPY_MODEL_a6565ad46f34494ea2bf27ad83cba3a4",
       "style": "IPY_MODEL_ff796ce5cde848a29b02ce56277a9744"
      }
     },
     "b32423f906a5405b9804222f3191300a": {
      "model_module": "@jupyter-widgets/controls",
      "model_module_version": "1.2.0",
      "model_name": "DescriptionStyleModel",
      "state": {
       "description_width": ""
      }
     },
     "b3c8be9448c746468a0597844fdadcc9": {
      "model_module": "@jupyter-widgets/base",
      "model_module_version": "1.0.0",
      "model_name": "LayoutModel",
      "state": {
       "width": "250px"
      }
     },
     "b43b8af5cb0f44f1890384e52661daca": {
      "model_module": "@jupyter-widgets/controls",
      "model_module_version": "1.2.0",
      "model_name": "VBoxModel",
      "state": {
       "children": [
        "IPY_MODEL_41b7649ed2034e3da23d45ab89c1d85d",
        "IPY_MODEL_f7f1bcafe5f243e08d21dc979fab992b",
        "IPY_MODEL_3ab6e6eae3ea44af9f28e7ae70e51e39",
        "IPY_MODEL_fbc6fd97411f485a8449c480a5c27b7e"
       ],
       "layout": "IPY_MODEL_0a9782fa9e4645939162b684d3fdb758"
      }
     },
     "b43fd6384dc64dbfa3cf11848ca1218b": {
      "model_module": "@jupyter-widgets/controls",
      "model_module_version": "1.2.0",
      "model_name": "HBoxModel",
      "state": {
       "children": [
        "IPY_MODEL_bfc880d3070d4e948cd1e4952f2cf133",
        "IPY_MODEL_0ae13bc6711e4cc2a769484bd4b2dc76"
       ],
       "layout": "IPY_MODEL_24c53abea300477e934195a6039f8bc7"
      }
     },
     "b45b5e318e5a4d0fb8c66c12c96d60a9": {
      "model_module": "@jupyter-widgets/controls",
      "model_module_version": "1.2.0",
      "model_name": "DescriptionStyleModel",
      "state": {
       "description_width": "initial"
      }
     },
     "b4a2c926afe94129b369245e30cd485a": {
      "model_module": "@jupyter-widgets/controls",
      "model_module_version": "1.2.0",
      "model_name": "ButtonStyleModel",
      "state": {}
     },
     "b4b94825b82d469cb8a00f426bdd406d": {
      "model_module": "@jupyter-widgets/base",
      "model_module_version": "1.0.0",
      "model_name": "LayoutModel",
      "state": {
       "justify_content": "center"
      }
     },
     "b4d2fe19968f45b1bb21c4bab4fc3458": {
      "model_module": "@jupyter-widgets/base",
      "model_module_version": "1.0.0",
      "model_name": "LayoutModel",
      "state": {
       "justify_content": "center"
      }
     },
     "b563d5a3f1da4b7f8a0b443812220ff5": {
      "model_module": "@jupyter-widgets/controls",
      "model_module_version": "1.2.0",
      "model_name": "VBoxModel",
      "state": {
       "children": [
        "IPY_MODEL_e4893685e57646f19903d52056746042",
        "IPY_MODEL_21acbdd6ffa348cb869aa94d049affb0",
        "IPY_MODEL_a80877a99a2142b58951962b91ef41bc",
        "IPY_MODEL_a237441476054f4ca13f9719b185ca05",
        "IPY_MODEL_d3ebf9e0039644838971a3028f32e326"
       ],
       "layout": "IPY_MODEL_f99b6381bd4b462ab14a16189c729d2c"
      }
     },
     "b5687c8efeb544ea9c4ccb74a5225112": {
      "model_module": "@jupyter-widgets/controls",
      "model_module_version": "1.2.0",
      "model_name": "DescriptionStyleModel",
      "state": {
       "description_width": ""
      }
     },
     "b57ed17148fd4a4abf8eb09f4de14f07": {
      "model_module": "@jupyter-widgets/controls",
      "model_module_version": "1.2.0",
      "model_name": "HTMLModel",
      "state": {
       "layout": "IPY_MODEL_0146e723906346238c6e8b613b5c34c3",
       "style": "IPY_MODEL_ee04a6df6be8479fa1e1174c4cdc54e0",
       "value": "<h4 style=\"font-size:14px;\">Welcher Grammatikbegriff liegt Satz 1 zugrunde?</h4>"
      }
     },
     "b5dcdfec435943e38310faa3b4243d31": {
      "model_module": "@jupyter-widgets/controls",
      "model_module_version": "1.2.0",
      "model_name": "HBoxModel",
      "state": {
       "children": [
        "IPY_MODEL_dfee773ddd3c46b7a4898fe1e4d69cb9"
       ],
       "layout": "IPY_MODEL_5270c41ca1cc49ca890a6d1fc4675db6"
      }
     },
     "b5e013f854164e5d8e786b33b7530909": {
      "model_module": "@jupyter-widgets/controls",
      "model_module_version": "1.2.0",
      "model_name": "DescriptionStyleModel",
      "state": {
       "description_width": ""
      }
     },
     "b5f8caed5f4740a9bab9037f0fc09ace": {
      "model_module": "@jupyter-widgets/controls",
      "model_module_version": "1.2.0",
      "model_name": "ButtonStyleModel",
      "state": {}
     },
     "b60ffa7e6a7741b9a7e282f986143b92": {
      "model_module": "@jupyter-widgets/base",
      "model_module_version": "1.0.0",
      "model_name": "LayoutModel",
      "state": {
       "width": "600px"
      }
     },
     "b61c8bef553c4f659e51ae6c4bf5e161": {
      "model_module": "@jupyter-widgets/base",
      "model_module_version": "1.0.0",
      "model_name": "LayoutModel",
      "state": {
       "width": "250px"
      }
     },
     "b6213ee0390642ad8d3f9b31a6f2a160": {
      "model_module": "@jupyter-widgets/controls",
      "model_module_version": "1.2.0",
      "model_name": "ButtonStyleModel",
      "state": {}
     },
     "b647e6985128469bbeceac649b7a909b": {
      "model_module": "@jupyter-widgets/controls",
      "model_module_version": "1.2.0",
      "model_name": "VBoxModel",
      "state": {
       "children": [
        "IPY_MODEL_81d96dd899cb411aa61798bbf13fb357",
        "IPY_MODEL_97361df43323469d8f56d48c7d90f0c2",
        "IPY_MODEL_58c555ff19064087ad48e3d12f0e3757",
        "IPY_MODEL_4799acf423a8476aaf1e0a93ed32553a",
        "IPY_MODEL_66c3b22b777a477688ffee5eb393245d"
       ],
       "layout": "IPY_MODEL_a0246a7e518f401094371ad912a39736"
      }
     },
     "b6762a3c450d43d9a973ccad57ecef37": {
      "model_module": "@jupyter-widgets/controls",
      "model_module_version": "1.2.0",
      "model_name": "DescriptionStyleModel",
      "state": {
       "description_width": ""
      }
     },
     "b721684187c74a0e9c65ffe9702465a7": {
      "model_module": "@jupyter-widgets/controls",
      "model_module_version": "1.2.0",
      "model_name": "HBoxModel",
      "state": {
       "children": [
        "IPY_MODEL_646ba41c5e874da9984d3da971275c6a"
       ],
       "layout": "IPY_MODEL_ea6c93bff82948dcb74e89c850361396"
      }
     },
     "b7270461663e453b86f648c8bc838182": {
      "model_module": "@jupyter-widgets/controls",
      "model_module_version": "1.2.0",
      "model_name": "BoxModel",
      "state": {
       "children": [
        "IPY_MODEL_64178301f3174b5d9eee8ceb901b3985",
        "IPY_MODEL_45dbfb92e1a84dce8556d847be83807d",
        "IPY_MODEL_bdeb1aefefa646e0a1661792ecc1b46d",
        "IPY_MODEL_c2d6a072cd9949f8902a34b6e92bf9ee",
        "IPY_MODEL_c6e7db4fb8714572b03caaa13e813575"
       ],
       "layout": "IPY_MODEL_9b8e3057c3bb4dd7b3d9a2f9470c2ac4"
      }
     },
     "b72c6cc6748f475396cd4c8ad11f764f": {
      "model_module": "@jupyter-widgets/base",
      "model_module_version": "1.0.0",
      "model_name": "LayoutModel",
      "state": {
       "width": "250px"
      }
     },
     "b730bf2650cf4caabf4bb7e0dab63abf": {
      "model_module": "@jupyter-widgets/base",
      "model_module_version": "1.0.0",
      "model_name": "LayoutModel",
      "state": {
       "width": "600px"
      }
     },
     "b757279637484e37bbce3d9cbddbfe91": {
      "model_module": "@jupyter-widgets/base",
      "model_module_version": "1.0.0",
      "model_name": "LayoutModel",
      "state": {
       "justify_content": "center"
      }
     },
     "b783e2a76e51484592d90ccfc51be165": {
      "model_module": "@jupyter-widgets/controls",
      "model_module_version": "1.2.0",
      "model_name": "CheckboxModel",
      "state": {
       "description": "phonologische",
       "disabled": false,
       "layout": "IPY_MODEL_0cae697034874efca3ce72f27101252b",
       "style": "IPY_MODEL_4c6e367bc7724193b312d1899d9292dc",
       "value": false
      }
     },
     "b7ae77b85fce48c1b0113efb2246dcab": {
      "model_module": "@jupyter-widgets/controls",
      "model_module_version": "1.2.0",
      "model_name": "CheckboxModel",
      "state": {
       "description": "syntaktische",
       "disabled": false,
       "layout": "IPY_MODEL_f296791688904f72be246bef81bf3f1c",
       "style": "IPY_MODEL_2887bd1e67eb4577b83c7ebde7be9345",
       "value": false
      }
     },
     "b846c41190d34188a623adea59f26778": {
      "model_module": "@jupyter-widgets/controls",
      "model_module_version": "1.2.0",
      "model_name": "ButtonModel",
      "state": {
       "description": "Keine der anderen Möglichkeiten",
       "layout": "IPY_MODEL_b3c8be9448c746468a0597844fdadcc9",
       "style": "IPY_MODEL_cac200c076da4c358c7b7cdc2ec5629c"
      }
     },
     "b8e2eb2b43134d619a7c621da731a2ad": {
      "model_module": "@jupyter-widgets/controls",
      "model_module_version": "1.2.0",
      "model_name": "VBoxModel",
      "state": {
       "children": [
        "IPY_MODEL_f81ac5d36889448a970485f0d34b0b51",
        "IPY_MODEL_48fdfa05c2ef47ee98ec72668caaa038",
        "IPY_MODEL_6fd123e1bd304163a979d16df017e316",
        "IPY_MODEL_cd8cb1fffc46446399ad73f6f95739aa"
       ],
       "layout": "IPY_MODEL_5ed32692225d4736bafbe2c02c1c3849"
      }
     },
     "b8f6f411a7574cfe8670670f9472eff4": {
      "model_module": "@jupyter-widgets/controls",
      "model_module_version": "1.2.0",
      "model_name": "ButtonStyleModel",
      "state": {}
     },
     "b9443943149245449530e7fe6c5c076f": {
      "model_module": "@jupyter-widgets/controls",
      "model_module_version": "1.2.0",
      "model_name": "ButtonStyleModel",
      "state": {}
     },
     "b967bc2a330b4c27b785694a290334f6": {
      "model_module": "@jupyter-widgets/controls",
      "model_module_version": "1.2.0",
      "model_name": "DescriptionStyleModel",
      "state": {
       "description_width": "initial"
      }
     },
     "b99e0c8d34c546b3b25c304cc5ff35c8": {
      "model_module": "@jupyter-widgets/controls",
      "model_module_version": "1.2.0",
      "model_name": "DescriptionStyleModel",
      "state": {
       "description_width": ""
      }
     },
     "ba32a26455064881ac92c348535834a8": {
      "model_module": "@jupyter-widgets/controls",
      "model_module_version": "1.2.0",
      "model_name": "DescriptionStyleModel",
      "state": {
       "description_width": ""
      }
     },
     "baf340d1cb774333a6ce42c0257d3ebb": {
      "model_module": "@jupyter-widgets/controls",
      "model_module_version": "1.2.0",
      "model_name": "DescriptionStyleModel",
      "state": {
       "description_width": "initial"
      }
     },
     "bb37d9c5ce7a438593f3582c80ab16b2": {
      "model_module": "@jupyter-widgets/controls",
      "model_module_version": "1.2.0",
      "model_name": "ButtonStyleModel",
      "state": {}
     },
     "bb52fd1b1dce475994f871419d24775c": {
      "model_module": "@jupyter-widgets/controls",
      "model_module_version": "1.2.0",
      "model_name": "ButtonStyleModel",
      "state": {}
     },
     "bb5e12d2b0ca4bb1a78ad7defb09b6c1": {
      "model_module": "@jupyter-widgets/controls",
      "model_module_version": "1.2.0",
      "model_name": "ButtonModel",
      "state": {
       "description": "Regelbuch",
       "layout": "IPY_MODEL_22ac5f05c74847b8873ded145348e77e",
       "style": "IPY_MODEL_ac8cd8096e2d479f9ef3f3dfe4fc9c8c"
      }
     },
     "bb806d71c39c491498c5e73d8734c882": {
      "model_module": "@jupyter-widgets/controls",
      "model_module_version": "1.2.0",
      "model_name": "ButtonStyleModel",
      "state": {}
     },
     "bbfcf7caf0e24e52b423a99a1f04cf5b": {
      "model_module": "@jupyter-widgets/base",
      "model_module_version": "1.0.0",
      "model_name": "LayoutModel",
      "state": {
       "width": "600px"
      }
     },
     "bc3491dd150c4a1ba01ee903af26f4db": {
      "model_module": "@jupyter-widgets/base",
      "model_module_version": "1.0.0",
      "model_name": "LayoutModel",
      "state": {
       "width": "250px"
      }
     },
     "bc5d5da8eff14e7497f1bbaccd0dba11": {
      "model_module": "@jupyter-widgets/controls",
      "model_module_version": "1.2.0",
      "model_name": "DescriptionStyleModel",
      "state": {
       "description_width": ""
      }
     },
     "bc85b37695a340eb9412504acb9b8773": {
      "model_module": "@jupyter-widgets/base",
      "model_module_version": "1.0.0",
      "model_name": "LayoutModel",
      "state": {}
     },
     "bcc9df094ed44d1a9592f443662c254f": {
      "model_module": "@jupyter-widgets/controls",
      "model_module_version": "1.2.0",
      "model_name": "HTMLModel",
      "state": {
       "layout": "IPY_MODEL_9e828510d93142c5ab35ea20980df08f",
       "style": "IPY_MODEL_0e818688742a492b95bd229f496518fb",
       "value": "<i>Wählen Sie die <ins>eine</ins> korrekte Antwort aus: </i>"
      }
     },
     "bcf5cbba0a0d4991854697c6cd0a428c": {
      "model_module": "@jupyter-widgets/controls",
      "model_module_version": "1.2.0",
      "model_name": "ButtonModel",
      "state": {
       "description": "Theorie der Sprachstruktur",
       "layout": "IPY_MODEL_e14a3cdf9cbf4d959551973824618189",
       "style": "IPY_MODEL_6338e6ea3bef415da852f2a74edecf04"
      }
     },
     "bd0e126b563749fe97f86e98b9ee0aca": {
      "model_module": "@jupyter-widgets/base",
      "model_module_version": "1.0.0",
      "model_name": "LayoutModel",
      "state": {}
     },
     "bd8b07177c5d421381f758a786ef84d8": {
      "model_module": "@jupyter-widgets/base",
      "model_module_version": "1.0.0",
      "model_name": "LayoutModel",
      "state": {}
     },
     "bdeb1aefefa646e0a1661792ecc1b46d": {
      "model_module": "@jupyter-widgets/controls",
      "model_module_version": "1.2.0",
      "model_name": "HTMLModel",
      "state": {
       "layout": "IPY_MODEL_4bd7f5af42f7414db882fc2c2e818809",
       "style": "IPY_MODEL_cc8c21fcb02a4e8ab7cbbf60004cc28f",
       "value": "<h4 style=\"font-size:14px;\">der formalen Sprache; ein analysierter natürlichsprachlicher Satz ist ein in der formalen Grammatik ableitbares</h4>"
      }
     },
     "be4f559574ee4dc4913185d7f5f99493": {
      "model_module": "@jupyter-widgets/controls",
      "model_module_version": "1.2.0",
      "model_name": "HTMLModel",
      "state": {
       "layout": "IPY_MODEL_c1405364ebf24499938daad0c0697f7c",
       "style": "IPY_MODEL_a4fe2bf4c1b145499800ad231b341b9b",
       "value": "<h4 style=\"font-size:14px;\">In welcher Form wird die syntaktische Struktur eines Satzes beim Aufruf von NLTK tree.draw() erstellt?</h4>"
      }
     },
     "be529579e08e4d8ebd4a129d2dbdea4d": {
      "model_module": "@jupyter-widgets/controls",
      "model_module_version": "1.2.0",
      "model_name": "DescriptionStyleModel",
      "state": {
       "description_width": ""
      }
     },
     "beb5030fa9594f05b18bcae6fedc972c": {
      "model_module": "@jupyter-widgets/controls",
      "model_module_version": "1.2.0",
      "model_name": "CheckboxModel",
      "state": {
       "description": "Keine der Alternativen",
       "disabled": false,
       "layout": "IPY_MODEL_c68c1a973c7c45eb9dc827c639e8e9ff",
       "style": "IPY_MODEL_8c8bf801131a4a459727dd80cf49e2ed",
       "value": false
      }
     },
     "bf419b7b4301460b8e52c8068ef81a2e": {
      "model_module": "@jupyter-widgets/controls",
      "model_module_version": "1.2.0",
      "model_name": "VBoxModel",
      "state": {
       "children": [
        "IPY_MODEL_50c5e3e7293f441abb2cfaf11aad18bf",
        "IPY_MODEL_7adb06f0fcbd4e7aa31daecda9714701",
        "IPY_MODEL_594132ed2c6d4f829e96918c9bbd4b55",
        "IPY_MODEL_b43fd6384dc64dbfa3cf11848ca1218b"
       ],
       "layout": "IPY_MODEL_40efa21842234c37947149a8ad399a13"
      }
     },
     "bfc3c1a7de5d416c8c735d91214d9948": {
      "model_module": "@jupyter-widgets/base",
      "model_module_version": "1.0.0",
      "model_name": "LayoutModel",
      "state": {}
     },
     "bfc880d3070d4e948cd1e4952f2cf133": {
      "model_module": "@jupyter-widgets/controls",
      "model_module_version": "1.2.0",
      "model_name": "ButtonModel",
      "state": {
       "description": "mehr als ein",
       "layout": "IPY_MODEL_86ff08da32b34bceb3be819bab8ddf6c",
       "style": "IPY_MODEL_7d6691ccc31d4361a9e780a515ca10ee"
      }
     },
     "bfecb0f18102462aa3f647d86f0508dd": {
      "model_module": "@jupyter-widgets/controls",
      "model_module_version": "1.2.0",
      "model_name": "HTMLModel",
      "state": {
       "layout": "IPY_MODEL_3fbcb3e26b18488db2402b1419ffcc51",
       "style": "IPY_MODEL_e6b5921631f14b499507351d1ba62962",
       "value": "<i>Wählen Sie die <ins>eine</ins> korrekte Antwort aus: </i>"
      }
     },
     "c006bcc5bc9b4b97a5d856c8e2fb2295": {
      "model_module": "@jupyter-widgets/controls",
      "model_module_version": "1.2.0",
      "model_name": "ButtonModel",
      "state": {
       "description": "Dependenz",
       "layout": "IPY_MODEL_98dd5db8c28848fb80dfb144d8e424ad",
       "style": "IPY_MODEL_de0a09312b1f46c583b834c1a4197d3e"
      }
     },
     "c069e3aee77b4da4a255b2e0ac57bb18": {
      "model_module": "@jupyter-widgets/base",
      "model_module_version": "1.0.0",
      "model_name": "LayoutModel",
      "state": {
       "width": "600px"
      }
     },
     "c071324fdb214dfaa56292c5892b6795": {
      "model_module": "@jupyter-widgets/controls",
      "model_module_version": "1.2.0",
      "model_name": "DescriptionStyleModel",
      "state": {
       "description_width": ""
      }
     },
     "c08109d858cf4e2299386cb189fe9dcb": {
      "model_module": "@jupyter-widgets/controls",
      "model_module_version": "1.2.0",
      "model_name": "HTMLModel",
      "state": {
       "layout": "IPY_MODEL_77dfb429abfe4f2fa169351263fa8b2a",
       "style": "IPY_MODEL_7437f26f7d324cd8a86be312b507bbd4",
       "value": "<h4 style=\"font-size:14px;\">Dependenz ist synonym zu:</h4>"
      }
     },
     "c121bc7732b941e98f38ad2542a64450": {
      "model_module": "@jupyter-widgets/base",
      "model_module_version": "1.0.0",
      "model_name": "LayoutModel",
      "state": {
       "justify_content": "center"
      }
     },
     "c122d10c44b04687af5b8d70a7b788bc": {
      "model_module": "@jupyter-widgets/base",
      "model_module_version": "1.0.0",
      "model_name": "LayoutModel",
      "state": {
       "width": "600px"
      }
     },
     "c1405364ebf24499938daad0c0697f7c": {
      "model_module": "@jupyter-widgets/base",
      "model_module_version": "1.0.0",
      "model_name": "LayoutModel",
      "state": {
       "justify_content": "center"
      }
     },
     "c15d644b2ed14aeda9d1363398ebefe3": {
      "model_module": "@jupyter-widgets/controls",
      "model_module_version": "1.2.0",
      "model_name": "ButtonModel",
      "state": {
       "description": "Keine der anderen Möglichkeiten",
       "layout": "IPY_MODEL_dcaf65e6265f432b81b61201837357a8",
       "style": "IPY_MODEL_1d9a7ca4cfdd472dab1296b93f65493d"
      }
     },
     "c169219159db44108c9f0db2e8f5c55d": {
      "model_module": "@jupyter-widgets/base",
      "model_module_version": "1.0.0",
      "model_name": "LayoutModel",
      "state": {
       "width": "250px"
      }
     },
     "c1cdd254f21a40089cbc4572f759ca76": {
      "model_module": "@jupyter-widgets/base",
      "model_module_version": "1.0.0",
      "model_name": "LayoutModel",
      "state": {
       "width": "600px"
      }
     },
     "c204bc863bf84769866560b3d802fda5": {
      "model_module": "@jupyter-widgets/controls",
      "model_module_version": "1.2.0",
      "model_name": "HTMLModel",
      "state": {
       "layout": "IPY_MODEL_90ab369c2e59473fa6157b0f4c427b46",
       "style": "IPY_MODEL_d86b0182eb86431381af05fd3d1868af",
       "value": "<h4 style=\"font-size:14px;\">Welcher Grammatikbegriff liegt Satz 1 zugrunde?</h4>"
      }
     },
     "c2cfef5102864759a1ad01623eabd9c4": {
      "model_module": "@jupyter-widgets/controls",
      "model_module_version": "1.2.0",
      "model_name": "DropdownModel",
      "state": {
       "_options_labels": [
        "Grundsymbole",
        "Nicht-Terminale",
        " "
       ],
       "index": 2,
       "layout": "IPY_MODEL_43659e5704774d1986420bf587b282a0",
       "style": "IPY_MODEL_c071324fdb214dfaa56292c5892b6795"
      }
     },
     "c2d6a072cd9949f8902a34b6e92bf9ee": {
      "model_module": "@jupyter-widgets/controls",
      "model_module_version": "1.2.0",
      "model_name": "DropdownModel",
      "state": {
       "_options_labels": [
        "Morphem",
        "Symbol",
        "Wort",
        " "
       ],
       "index": 3,
       "layout": "IPY_MODEL_0a705da749cd4344a42b121ae2928c9a",
       "style": "IPY_MODEL_394f166a57214141af276363d29f96cd"
      }
     },
     "c312e55a0d7345ff9a1c981ca3a47333": {
      "model_module": "@jupyter-widgets/controls",
      "model_module_version": "1.2.0",
      "model_name": "ButtonStyleModel",
      "state": {}
     },
     "c320d39b410a45ada16002ea027f66ef": {
      "model_module": "@jupyter-widgets/controls",
      "model_module_version": "1.2.0",
      "model_name": "ButtonStyleModel",
      "state": {}
     },
     "c330397d65434b38ba0a8bfd4b8e539b": {
      "model_module": "@jupyter-widgets/controls",
      "model_module_version": "1.2.0",
      "model_name": "ButtonStyleModel",
      "state": {}
     },
     "c3d01b52a4bb43369633052330789c24": {
      "model_module": "@jupyter-widgets/base",
      "model_module_version": "1.0.0",
      "model_name": "LayoutModel",
      "state": {
       "width": "250px"
      }
     },
     "c4133eac8217476c824f9c9e4b226037": {
      "model_module": "@jupyter-widgets/base",
      "model_module_version": "1.0.0",
      "model_name": "LayoutModel",
      "state": {
       "width": "250px"
      }
     },
     "c472381cce404762b0ec2474ba646356": {
      "model_module": "@jupyter-widgets/base",
      "model_module_version": "1.0.0",
      "model_name": "LayoutModel",
      "state": {
       "width": "250px"
      }
     },
     "c4daf80950924041943f6da0a5c88db0": {
      "model_module": "@jupyter-widgets/controls",
      "model_module_version": "1.2.0",
      "model_name": "VBoxModel",
      "state": {
       "children": [
        "IPY_MODEL_8b6db83991334680a84645020f078fb0",
        "IPY_MODEL_1eb0fe1ee71a4eaca08dd3f9817ac533",
        "IPY_MODEL_76371c8e7fda47fc8306b81f63324a8a",
        "IPY_MODEL_6e5f6fd761394e70bbfe6adfab47c32e"
       ],
       "layout": "IPY_MODEL_47af09ab1ac348bcae5bffa8556ae897"
      }
     },
     "c4db2776d7f9406dbf8919c83bfbe3ce": {
      "model_module": "@jupyter-widgets/controls",
      "model_module_version": "1.2.0",
      "model_name": "DescriptionStyleModel",
      "state": {
       "description_width": ""
      }
     },
     "c4e976b7269d489eb2031775eb41ee84": {
      "model_module": "@jupyter-widgets/base",
      "model_module_version": "1.0.0",
      "model_name": "LayoutModel",
      "state": {
       "width": "250px"
      }
     },
     "c550e56609574bb1ae8284b0a712e459": {
      "model_module": "@jupyter-widgets/controls",
      "model_module_version": "1.2.0",
      "model_name": "DescriptionStyleModel",
      "state": {
       "description_width": ""
      }
     },
     "c5965b60e6834041b4babe0025f3362f": {
      "model_module": "@jupyter-widgets/controls",
      "model_module_version": "1.2.0",
      "model_name": "CheckboxModel",
      "state": {
       "description": "semantische",
       "disabled": false,
       "layout": "IPY_MODEL_bbfcf7caf0e24e52b423a99a1f04cf5b",
       "style": "IPY_MODEL_e33a4b45d04342eeb40b816d88bcf684",
       "value": false
      }
     },
     "c5e9657c11ad42319527f45a0210902e": {
      "model_module": "@jupyter-widgets/controls",
      "model_module_version": "1.2.0",
      "model_name": "DropdownModel",
      "state": {
       "_options_labels": [
        "Keine der Alternativen",
        "der Ort des Geschehens wird festgelegt",
        "die PP wird dem Substantiv beigefügt",
        "die im Verb ausgedrückte Tätigkeit wird modifiziert"
       ],
       "description": "Antwort:",
       "index": 0,
       "layout": "IPY_MODEL_93596f0f2271488ea7c83ed4de2413bd",
       "style": "IPY_MODEL_7a077d33e5b94461828a54e7f83c9ed5"
      }
     },
     "c64166c9165d4a629402539ea91efea6": {
      "model_module": "@jupyter-widgets/base",
      "model_module_version": "1.0.0",
      "model_name": "LayoutModel",
      "state": {}
     },
     "c666cbf13350414c8400f3a62359ceba": {
      "model_module": "@jupyter-widgets/controls",
      "model_module_version": "1.2.0",
      "model_name": "DescriptionStyleModel",
      "state": {
       "description_width": "initial"
      }
     },
     "c67f5f7e71bd4eaf9e172659dad4bd25": {
      "model_module": "@jupyter-widgets/controls",
      "model_module_version": "1.2.0",
      "model_name": "HTMLModel",
      "state": {
       "layout": "IPY_MODEL_61af44fa53314413bf3a77d239fabc0c",
       "style": "IPY_MODEL_fd4aea6fed8b4eeb8ee241fa3375223a",
       "value": "<h4 style=\"font-size:14px;\">In welcher Form wird die syntaktische Struktur eines Satzes beim Aufruf von NLTK print(tree) erstellt?</h4>"
      }
     },
     "c68c1a973c7c45eb9dc827c639e8e9ff": {
      "model_module": "@jupyter-widgets/base",
      "model_module_version": "1.0.0",
      "model_name": "LayoutModel",
      "state": {
       "width": "600px"
      }
     },
     "c6a42bba93d54bae95738b3ab9359aad": {
      "model_module": "@jupyter-widgets/base",
      "model_module_version": "1.0.0",
      "model_name": "LayoutModel",
      "state": {
       "width": "250px"
      }
     },
     "c6af95c1629c499ea88bf14bdb082cd4": {
      "model_module": "@jupyter-widgets/controls",
      "model_module_version": "1.2.0",
      "model_name": "ButtonModel",
      "state": {
       "description": "Sinnhaftigkeit",
       "layout": "IPY_MODEL_253f69f24d9543d8b69295309c3b9e5a",
       "style": "IPY_MODEL_c330397d65434b38ba0a8bfd4b8e539b"
      }
     },
     "c6e7db4fb8714572b03caaa13e813575": {
      "model_module": "@jupyter-widgets/controls",
      "model_module_version": "1.2.0",
      "model_name": "HTMLModel",
      "state": {
       "layout": "IPY_MODEL_1a2ff921cd604037bde7345720e8e418",
       "style": "IPY_MODEL_713f01254b1d48c4bf86f9cf9026e1ea",
       "value": "<h4 style=\"font-size:14px;\">der formalen Sprache.</h4>"
      }
     },
     "c7242cf9d9f64933a7629fc28f6f08b4": {
      "model_module": "@jupyter-widgets/controls",
      "model_module_version": "1.2.0",
      "model_name": "DescriptionStyleModel",
      "state": {
       "description_width": "initial"
      }
     },
     "c7972a5d21a441059d345f07950b7ea9": {
      "model_module": "@jupyter-widgets/base",
      "model_module_version": "1.0.0",
      "model_name": "LayoutModel",
      "state": {}
     },
     "c7a5234a5a354316892224114a004b76": {
      "model_module": "@jupyter-widgets/controls",
      "model_module_version": "1.2.0",
      "model_name": "ButtonStyleModel",
      "state": {}
     },
     "c7cd8260fd6f4259b23656a1f9b88474": {
      "model_module": "@jupyter-widgets/base",
      "model_module_version": "1.0.0",
      "model_name": "LayoutModel",
      "state": {
       "width": "250px"
      }
     },
     "c7d7d4f8d0c444a3952cc179e79f43f3": {
      "model_module": "@jupyter-widgets/base",
      "model_module_version": "1.0.0",
      "model_name": "LayoutModel",
      "state": {
       "width": "600px"
      }
     },
     "c882120f57164da7ae0e7b49d2020119": {
      "model_module": "@jupyter-widgets/base",
      "model_module_version": "1.0.0",
      "model_name": "LayoutModel",
      "state": {}
     },
     "c8cb8b0a54654186a9e02e596a413f95": {
      "model_module": "@jupyter-widgets/base",
      "model_module_version": "1.0.0",
      "model_name": "LayoutModel",
      "state": {
       "width": "600px"
      }
     },
     "c8d7510a1f5f4a4ab0350d991a3bd6c8": {
      "model_module": "@jupyter-widgets/controls",
      "model_module_version": "1.2.0",
      "model_name": "DescriptionStyleModel",
      "state": {
       "description_width": ""
      }
     },
     "c9252893fbad465892cc6b9f3222fe54": {
      "model_module": "@jupyter-widgets/base",
      "model_module_version": "1.0.0",
      "model_name": "LayoutModel",
      "state": {}
     },
     "c9417c36114d42fd8cd7b5bc47edea4a": {
      "model_module": "@jupyter-widgets/controls",
      "model_module_version": "1.2.0",
      "model_name": "ButtonStyleModel",
      "state": {}
     },
     "c979c2e2b71343efaf3ab5cad37b74f6": {
      "model_module": "@jupyter-widgets/base",
      "model_module_version": "1.0.0",
      "model_name": "LayoutModel",
      "state": {
       "width": "600px"
      }
     },
     "c9b3060bf5654debb57f05d5dcf20dc9": {
      "model_module": "@jupyter-widgets/base",
      "model_module_version": "1.0.0",
      "model_name": "LayoutModel",
      "state": {
       "width": "250px"
      }
     },
     "ca0df49e51f94a4383e09b6f35964cea": {
      "model_module": "@jupyter-widgets/base",
      "model_module_version": "1.0.0",
      "model_name": "LayoutModel",
      "state": {}
     },
     "ca1693655aea4efaa35bc3d17a1c593f": {
      "model_module": "@jupyter-widgets/base",
      "model_module_version": "1.0.0",
      "model_name": "LayoutModel",
      "state": {}
     },
     "ca3077ff0b3547d3ae01711022a2ad15": {
      "model_module": "@jupyter-widgets/controls",
      "model_module_version": "1.2.0",
      "model_name": "CheckboxModel",
      "state": {
       "description": "Phrasenebene",
       "disabled": false,
       "layout": "IPY_MODEL_688a15241afe4ffe9100e57c11ec3b62",
       "style": "IPY_MODEL_fb3a94f9362d4f2dae068a2212090ce3",
       "value": false
      }
     },
     "ca6c23afcf7841a7a3f1551ba6c14eb2": {
      "model_module": "@jupyter-widgets/base",
      "model_module_version": "1.0.0",
      "model_name": "LayoutModel",
      "state": {
       "align_content": "stretch",
       "align_items": "stretch",
       "display": "inline-flex",
       "flex": "flex-grow",
       "flex_flow": "row wrap",
       "justify_content": "flex-start"
      }
     },
     "ca9aa25c629e450f8a704e32fcecff8a": {
      "model_module": "@jupyter-widgets/controls",
      "model_module_version": "1.2.0",
      "model_name": "DescriptionStyleModel",
      "state": {
       "description_width": ""
      }
     },
     "cac200c076da4c358c7b7cdc2ec5629c": {
      "model_module": "@jupyter-widgets/controls",
      "model_module_version": "1.2.0",
      "model_name": "ButtonStyleModel",
      "state": {}
     },
     "cac64ce182e2463eba0e814413b72129": {
      "model_module": "@jupyter-widgets/controls",
      "model_module_version": "1.2.0",
      "model_name": "DescriptionStyleModel",
      "state": {
       "description_width": ""
      }
     },
     "caf2ee4487464bea9f3fcf97e9ac3c13": {
      "model_module": "@jupyter-widgets/base",
      "model_module_version": "1.0.0",
      "model_name": "LayoutModel",
      "state": {
       "width": "250px"
      }
     },
     "cb077da902264ab38b9188a358713043": {
      "model_module": "@jupyter-widgets/controls",
      "model_module_version": "1.2.0",
      "model_name": "CheckboxModel",
      "state": {
       "description": "Parsebaum",
       "disabled": false,
       "layout": "IPY_MODEL_12435bc35b8c4d658ec7368e596720c9",
       "style": "IPY_MODEL_996863c748c34812a5e4d40061c044b2",
       "value": false
      }
     },
     "cb16c34ca0e84c94a08f6fd1cad4d2cf": {
      "model_module": "@jupyter-widgets/base",
      "model_module_version": "1.0.0",
      "model_name": "LayoutModel",
      "state": {
       "justify_content": "center"
      }
     },
     "cb23c744f22140fc99de0f10435d05dc": {
      "model_module": "@jupyter-widgets/controls",
      "model_module_version": "1.2.0",
      "model_name": "HTMLModel",
      "state": {
       "layout": "IPY_MODEL_b4d2fe19968f45b1bb21c4bab4fc3458",
       "style": "IPY_MODEL_3990b96d2883407d9097f06405407dba",
       "value": "<i>Vervollständigen Sie den Lückentext: </i>"
      }
     },
     "cb2c20e4f5df4065a346383e0cf4da98": {
      "model_module": "@jupyter-widgets/controls",
      "model_module_version": "1.2.0",
      "model_name": "DescriptionStyleModel",
      "state": {
       "description_width": ""
      }
     },
     "cc185af6d650445895a405f1cbcb44e2": {
      "model_module": "@jupyter-widgets/controls",
      "model_module_version": "1.2.0",
      "model_name": "DescriptionStyleModel",
      "state": {
       "description_width": "initial"
      }
     },
     "cc35bd2c9e2240f9b3f3198c47d4266e": {
      "model_module": "@jupyter-widgets/controls",
      "model_module_version": "1.2.0",
      "model_name": "HBoxModel",
      "state": {
       "children": [
        "IPY_MODEL_fe8cd05c545b42af90aa05fb581ed756"
       ],
       "layout": "IPY_MODEL_8853206ab5b54230a922bebcaa187340"
      }
     },
     "cc55be61e14a4a5b84571bb23ba08053": {
      "model_module": "@jupyter-widgets/controls",
      "model_module_version": "1.2.0",
      "model_name": "HBoxModel",
      "state": {
       "children": [
        "IPY_MODEL_8f9dfbb908244927852e790ee8154bab",
        "IPY_MODEL_5919129c542b42ed88c197be317df4c8"
       ],
       "layout": "IPY_MODEL_246d48089a21414ca9f07e1ae0fcda6f"
      }
     },
     "cc69d1d088094f0fb082123d613d877a": {
      "model_module": "@jupyter-widgets/base",
      "model_module_version": "1.0.0",
      "model_name": "LayoutModel",
      "state": {
       "width": "600px"
      }
     },
     "cc8c21fcb02a4e8ab7cbbf60004cc28f": {
      "model_module": "@jupyter-widgets/controls",
      "model_module_version": "1.2.0",
      "model_name": "DescriptionStyleModel",
      "state": {
       "description_width": ""
      }
     },
     "cd25463a8c3941f18b7c7f2298b3fc08": {
      "model_module": "@jupyter-widgets/controls",
      "model_module_version": "1.2.0",
      "model_name": "VBoxModel",
      "state": {
       "children": [
        "IPY_MODEL_14d837b4d561451a8842268c8f3fa083",
        "IPY_MODEL_0da3bcc01b8b48afbce0b2ba642a797e",
        "IPY_MODEL_b43b8af5cb0f44f1890384e52661daca",
        "IPY_MODEL_a6ab103043e4456c9d83e832e38f225d"
       ],
       "layout": "IPY_MODEL_8d24acaea70a4fabb7abf0de8eccc058"
      }
     },
     "cd54b05c341d42c7a4ac1204c2293ee4": {
      "model_module": "@jupyter-widgets/base",
      "model_module_version": "1.0.0",
      "model_name": "LayoutModel",
      "state": {
       "width": "600px"
      }
     },
     "cd70cdf7ef6b46aaabdbb26ffc102dfe": {
      "model_module": "@jupyter-widgets/controls",
      "model_module_version": "1.2.0",
      "model_name": "CheckboxModel",
      "state": {
       "description": "Argens",
       "disabled": false,
       "layout": "IPY_MODEL_4408034cae934ceda5b3fe786f224259",
       "style": "IPY_MODEL_f2259be4ae604244bbef54a61120286b",
       "value": false
      }
     },
     "cd8cb1fffc46446399ad73f6f95739aa": {
      "model_module": "@jupyter-widgets/controls",
      "model_module_version": "1.2.0",
      "model_name": "HBoxModel",
      "state": {
       "children": [
        "IPY_MODEL_f583701e90bf4295acd71d7dc7f216c7",
        "IPY_MODEL_7125005aa5b848938098c28d6c4002e1"
       ],
       "layout": "IPY_MODEL_6e96bf78d3bc497cadca317f3749da27"
      }
     },
     "cda54de5b576466babdc97c1050adf8b": {
      "model_module": "@jupyter-widgets/controls",
      "model_module_version": "1.2.0",
      "model_name": "HTMLModel",
      "state": {
       "layout": "IPY_MODEL_03eeb8b0b76445fc8501fe8a3457015e",
       "style": "IPY_MODEL_c4db2776d7f9406dbf8919c83bfbe3ce",
       "value": "<h4 style=\"font-size:14px;\">Welcher Grammatikbegriff liegt Satz 3 zugrunde?</h4>"
      }
     },
     "cdb4972c55c7416dba9fbf7fb9e0d777": {
      "model_module": "@jupyter-widgets/base",
      "model_module_version": "1.0.0",
      "model_name": "LayoutModel",
      "state": {
       "width": "600px"
      }
     },
     "cddbc136ca8c4ae3b8f946fceb8f4216": {
      "model_module": "@jupyter-widgets/base",
      "model_module_version": "1.0.0",
      "model_name": "LayoutModel",
      "state": {}
     },
     "cde0f00bba004c878c6e24d8c122380d": {
      "model_module": "@jupyter-widgets/controls",
      "model_module_version": "1.2.0",
      "model_name": "ButtonModel",
      "state": {
       "description": "Wissen um Sprachstruktur",
       "layout": "IPY_MODEL_7cecc3bde5ce414488971805f5450af5",
       "style": "IPY_MODEL_73cfa4bc242944a0bba36ab49407e2de"
      }
     },
     "ce2fa4ef0ea34476a7a921c4778d1436": {
      "model_module": "@jupyter-widgets/controls",
      "model_module_version": "1.2.0",
      "model_name": "ButtonModel",
      "state": {
       "description": "Theorie der Sprachstruktur",
       "layout": "IPY_MODEL_abc3736c7ea14e588f6e2f79d77a6aeb",
       "style": "IPY_MODEL_5e0308eef85f404c83e65f8e125f1efe"
      }
     },
     "ceb649a914ee43d7ad16cba417a619e0": {
      "model_module": "@jupyter-widgets/controls",
      "model_module_version": "1.2.0",
      "model_name": "DescriptionStyleModel",
      "state": {
       "description_width": ""
      }
     },
     "ced12347c0014f099e3aa9755e6584e0": {
      "model_module": "@jupyter-widgets/base",
      "model_module_version": "1.0.0",
      "model_name": "LayoutModel",
      "state": {
       "width": "250px"
      }
     },
     "cef54b396fb442f9b9e3d725c317e452": {
      "model_module": "@jupyter-widgets/controls",
      "model_module_version": "1.2.0",
      "model_name": "CheckboxModel",
      "state": {
       "description": "Subjekt",
       "disabled": false,
       "layout": "IPY_MODEL_ef9193f92863429c966869e5f838730e",
       "style": "IPY_MODEL_54356b2c186e475eab4ffbdb0d0b9e60",
       "value": false
      }
     },
     "cefb5a0acea9434f98cc9cf1677a3a08": {
      "model_module": "@jupyter-widgets/base",
      "model_module_version": "1.0.0",
      "model_name": "LayoutModel",
      "state": {
       "width": "250px"
      }
     },
     "cf8f82d9cc8644a5a40750aa68c9de45": {
      "model_module": "@jupyter-widgets/controls",
      "model_module_version": "1.2.0",
      "model_name": "ButtonModel",
      "state": {
       "description": "Theorie der Sprachstruktur",
       "layout": "IPY_MODEL_f6d55486a1434bbea5dc3afcc5186293",
       "style": "IPY_MODEL_a6f894dfa6be4c6181b30f9c99737bde"
      }
     },
     "cfa9b093d15d46048bffb2a63edf4d5a": {
      "model_module": "@jupyter-widgets/base",
      "model_module_version": "1.0.0",
      "model_name": "LayoutModel",
      "state": {
       "width": "250px"
      }
     },
     "cfc4e283adde4f4a9e62c46dc937ce17": {
      "model_module": "@jupyter-widgets/base",
      "model_module_version": "1.0.0",
      "model_name": "LayoutModel",
      "state": {}
     },
     "cfd6fbf4caf845a6b0db44139f53ada2": {
      "model_module": "@jupyter-widgets/base",
      "model_module_version": "1.0.0",
      "model_name": "LayoutModel",
      "state": {}
     },
     "cff6b5be6fb3409095143881ee1b37c9": {
      "model_module": "@jupyter-widgets/controls",
      "model_module_version": "1.2.0",
      "model_name": "DescriptionStyleModel",
      "state": {
       "description_width": "initial"
      }
     },
     "d049f0da80374db58403363434acbd92": {
      "model_module": "@jupyter-widgets/controls",
      "model_module_version": "1.2.0",
      "model_name": "HTMLModel",
      "state": {
       "layout": "IPY_MODEL_941098838a42403698ea298466c5b175",
       "style": "IPY_MODEL_54257c26f41944af81ab6f748d05da74",
       "value": "<h4 style=\"font-size:14px;\">Mit welchen Mitteln werden natürliche Sprachen analysiert?</h4>"
      }
     },
     "d0877d3521cb4655bee4d87bf6d86cb4": {
      "model_module": "@jupyter-widgets/base",
      "model_module_version": "1.0.0",
      "model_name": "LayoutModel",
      "state": {
       "width": "250px"
      }
     },
     "d104268c028b444e9bb24970b78615a7": {
      "model_module": "@jupyter-widgets/controls",
      "model_module_version": "1.2.0",
      "model_name": "DescriptionStyleModel",
      "state": {
       "description_width": "initial"
      }
     },
     "d13aec039f094825b20847d8bf5a1f89": {
      "model_module": "@jupyter-widgets/controls",
      "model_module_version": "1.2.0",
      "model_name": "HTMLModel",
      "state": {
       "layout": "IPY_MODEL_d8149f9c6e214164b781a1994c2a51b0",
       "style": "IPY_MODEL_4c0b474c8e7f450b89e5ad392fbd29a5",
       "value": "<h4 style=\"font-size:14px;\">Mit welchen Mitteln werden natürliche Sprachen analysiert?</h4>"
      }
     },
     "d19eb79387fd4b0d9154abb62589fc22": {
      "model_module": "@jupyter-widgets/base",
      "model_module_version": "1.0.0",
      "model_name": "LayoutModel",
      "state": {}
     },
     "d1e23771027543539e4c39b4ee3a8536": {
      "model_module": "@jupyter-widgets/controls",
      "model_module_version": "1.2.0",
      "model_name": "CheckboxModel",
      "state": {
       "description": "Keine der Alternativen",
       "disabled": false,
       "layout": "IPY_MODEL_3d9bb6e1fe0542d8bb205622aeb38785",
       "style": "IPY_MODEL_29a8b162a9b642a2835e1e4268406e94",
       "value": false
      }
     },
     "d241b75794cb4f0ca23ac3eb0b1f4539": {
      "model_module": "@jupyter-widgets/base",
      "model_module_version": "1.0.0",
      "model_name": "LayoutModel",
      "state": {
       "width": "250px"
      }
     },
     "d25d54bbc0bf4593b54d3d22319c5d1a": {
      "model_module": "@jupyter-widgets/controls",
      "model_module_version": "1.2.0",
      "model_name": "HBoxModel",
      "state": {
       "children": [
        "IPY_MODEL_4a84bec8c27842029ce13103c7c91141",
        "IPY_MODEL_735ad52d0a60493fb8b5dbc07a142d70"
       ],
       "layout": "IPY_MODEL_a00376cc1b294c569d5465b4608c3d2c"
      }
     },
     "d290bbf6405d435091df29915b554aa9": {
      "model_module": "@jupyter-widgets/controls",
      "model_module_version": "1.2.0",
      "model_name": "ButtonModel",
      "state": {
       "description": "formale Grammatik",
       "layout": "IPY_MODEL_00bc5da4c6f14f1383dd513814edf6cb",
       "style": "IPY_MODEL_013a5bd3412d4324b638d46533764bcb"
      }
     },
     "d2a0134c8c514e7d9ed87c800f48bf1d": {
      "model_module": "@jupyter-widgets/controls",
      "model_module_version": "1.2.0",
      "model_name": "CheckboxModel",
      "state": {
       "description": "Ableitungsbaum",
       "disabled": false,
       "layout": "IPY_MODEL_01de99a656784ae797de2a2380d5d8fa",
       "style": "IPY_MODEL_3680b764db664b049f40d5454a4bb2df",
       "value": false
      }
     },
     "d2ac471486d14e949ef1a04ca40d759d": {
      "model_module": "@jupyter-widgets/controls",
      "model_module_version": "1.2.0",
      "model_name": "HTMLModel",
      "state": {
       "layout": "IPY_MODEL_ffb9984c851c4033b0953495856e7247",
       "style": "IPY_MODEL_a138bf1861824c2680e0b2621621d4de",
       "value": "<h4 style=\"font-size:14px;\">Für die Blätter gilt: natürlichsprachliche Wörter sind eine Teilmenge aus dem Alphabet der</h4>"
      }
     },
     "d2b717ddf2c3419880e5232689f7ec12": {
      "model_module": "@jupyter-widgets/controls",
      "model_module_version": "1.2.0",
      "model_name": "DescriptionStyleModel",
      "state": {
       "description_width": ""
      }
     },
     "d2e53a5f22e541108c36be057c5e3d0f": {
      "model_module": "@jupyter-widgets/controls",
      "model_module_version": "1.2.0",
      "model_name": "ButtonModel",
      "state": {
       "description": "Regelbuch",
       "layout": "IPY_MODEL_690b25448bcb4267803da65fd1d61471",
       "style": "IPY_MODEL_4a4ebd4fc5c34fb5ae4c3189c99f7c36"
      }
     },
     "d2fbca68581443beb3ddf4d200a7fc63": {
      "model_module": "@jupyter-widgets/controls",
      "model_module_version": "1.2.0",
      "model_name": "HTMLModel",
      "state": {
       "layout": "IPY_MODEL_6ba00a4f8e0b4edf86f211831e20893a",
       "style": "IPY_MODEL_ff4e649860a847acae535e8ab23329f8",
       "value": "<h4 style=\"font-size:14px;\">Was ist der Ursprung der Ambiguität?</h4>"
      }
     },
     "d30d02e84fdb4f4eadfef6c5c098a9ab": {
      "model_module": "@jupyter-widgets/controls",
      "model_module_version": "1.2.0",
      "model_name": "CheckboxModel",
      "state": {
       "description": "Eine automatische Strukturanalyse wird möglich.",
       "disabled": false,
       "layout": "IPY_MODEL_954258f0b6ae4c32af9532d6aea85b5f",
       "style": "IPY_MODEL_c7242cf9d9f64933a7629fc28f6f08b4",
       "value": false
      }
     },
     "d3325a694aac4c5c9abc97f4dbbc631b": {
      "model_module": "@jupyter-widgets/controls",
      "model_module_version": "1.2.0",
      "model_name": "ButtonModel",
      "state": {
       "description": "Regelsystem",
       "layout": "IPY_MODEL_c4e976b7269d489eb2031775eb41ee84",
       "style": "IPY_MODEL_3e46e7c77a1c4e49b0026172b27fcc00"
      }
     },
     "d3b57ea851474f168f445438d6a7aea4": {
      "model_module": "@jupyter-widgets/controls",
      "model_module_version": "1.2.0",
      "model_name": "ButtonModel",
      "state": {
       "description": "Theorie der Sprachstruktur",
       "layout": "IPY_MODEL_b72c6cc6748f475396cd4c8ad11f764f",
       "style": "IPY_MODEL_30a113e0d6b9401dba7260b8b02f016e"
      }
     },
     "d3ebf9e0039644838971a3028f32e326": {
      "model_module": "@jupyter-widgets/controls",
      "model_module_version": "1.2.0",
      "model_name": "CheckboxModel",
      "state": {
       "description": "Wortebene",
       "disabled": false,
       "layout": "IPY_MODEL_ec77307e113342b18fffd4e370d76e27",
       "style": "IPY_MODEL_49fd0ba0d498465aab97d6d9e2864264",
       "value": false
      }
     },
     "d3f6f3e715ef4c5f80031766a64f6030": {
      "model_module": "@jupyter-widgets/controls",
      "model_module_version": "1.2.0",
      "model_name": "HTMLModel",
      "state": {
       "layout": "IPY_MODEL_f71c8613a7f44ce28d3b800772697478",
       "style": "IPY_MODEL_c8d7510a1f5f4a4ab0350d991a3bd6c8",
       "value": "<h4 style=\"font-size:14px;\">Welche Gesetzmäßigkeiten umfasst die Grammatik als Regelsystem?</h4>"
      }
     },
     "d4022104d8854cfebd35416742cc8b65": {
      "model_module": "@jupyter-widgets/controls",
      "model_module_version": "1.2.0",
      "model_name": "HTMLModel",
      "state": {
       "layout": "IPY_MODEL_dc0954f1ddea46c6a05055ab9a6d7f06",
       "style": "IPY_MODEL_56376f4e4d814f88a60c4152ca46c698",
       "value": "<i>Wählen Sie die <ins>eine</ins> korrekte Antwort aus: </i>"
      }
     },
     "d402590f2db749a7ad09f8bb74bcbee0": {
      "model_module": "@jupyter-widgets/controls",
      "model_module_version": "1.2.0",
      "model_name": "DescriptionStyleModel",
      "state": {
       "description_width": ""
      }
     },
     "d413def1eb344e0f9c47633ed1c8f06f": {
      "model_module": "@jupyter-widgets/base",
      "model_module_version": "1.0.0",
      "model_name": "LayoutModel",
      "state": {
       "width": "600px"
      }
     },
     "d4208a149b0f450bae1ab7a8b4a2271e": {
      "model_module": "@jupyter-widgets/controls",
      "model_module_version": "1.2.0",
      "model_name": "ButtonModel",
      "state": {
       "description": "Korrekt?",
       "layout": "IPY_MODEL_7a2751c1d37b4578a931767cf98da6be",
       "style": "IPY_MODEL_52d7b60f868a49219a70b6375432fe9d"
      }
     },
     "d42904dcd0e0469b8acc235cb5fd9012": {
      "model_module": "@jupyter-widgets/controls",
      "model_module_version": "1.2.0",
      "model_name": "HTMLModel",
      "state": {
       "layout": "IPY_MODEL_f636b6cc9cb94c1495f6e7ac024f3d46",
       "style": "IPY_MODEL_cb2c20e4f5df4065a346383e0cf4da98",
       "value": "<i>Vervollständigen Sie den Lückentext: </i>"
      }
     },
     "d467d609da7d42a39c82b0680e14aa3a": {
      "model_module": "@jupyter-widgets/controls",
      "model_module_version": "1.2.0",
      "model_name": "DescriptionStyleModel",
      "state": {
       "description_width": ""
      }
     },
     "d4a66bfcb3ce4e88a98ac5fb08d24b01": {
      "model_module": "@jupyter-widgets/controls",
      "model_module_version": "1.2.0",
      "model_name": "DescriptionStyleModel",
      "state": {
       "description_width": ""
      }
     },
     "d52d0b96ff1c4f81ba13fd05303efd90": {
      "model_module": "@jupyter-widgets/controls",
      "model_module_version": "1.2.0",
      "model_name": "ButtonModel",
      "state": {
       "description": "Keine der anderen Möglichkeiten",
       "layout": "IPY_MODEL_f4aa1996f6e647a9b4eec1230a4a7523",
       "style": "IPY_MODEL_4f48f61a2cef46ee84c8a1fd3fee4aa7"
      }
     },
     "d53ba35a13a2456cb3564f0040ab3644": {
      "model_module": "@jupyter-widgets/base",
      "model_module_version": "1.0.0",
      "model_name": "LayoutModel",
      "state": {
       "width": "250px"
      }
     },
     "d550e613690945e89df37307b2ad9086": {
      "model_module": "@jupyter-widgets/controls",
      "model_module_version": "1.2.0",
      "model_name": "DescriptionStyleModel",
      "state": {
       "description_width": "initial"
      }
     },
     "d56f510c1b3b4df1bdae6c006dcd5281": {
      "model_module": "@jupyter-widgets/controls",
      "model_module_version": "1.2.0",
      "model_name": "ButtonStyleModel",
      "state": {}
     },
     "d621f40785fa410cbd84dfbd492a00cc": {
      "model_module": "@jupyter-widgets/base",
      "model_module_version": "1.0.0",
      "model_name": "LayoutModel",
      "state": {
       "width": "250px"
      }
     },
     "d671d06d52d14e4590eaa5a7db911a7e": {
      "model_module": "@jupyter-widgets/controls",
      "model_module_version": "1.2.0",
      "model_name": "ButtonStyleModel",
      "state": {}
     },
     "d67ed668ffc147a9af51a8efcf0c46ed": {
      "model_module": "@jupyter-widgets/base",
      "model_module_version": "1.0.0",
      "model_name": "LayoutModel",
      "state": {}
     },
     "d6a486434bb341328d38f75652547a8f": {
      "model_module": "@jupyter-widgets/controls",
      "model_module_version": "1.2.0",
      "model_name": "CheckboxModel",
      "state": {
       "description": "Wortstruktur",
       "disabled": false,
       "layout": "IPY_MODEL_4f8622fd6da84299ba81c7200f5330d2",
       "style": "IPY_MODEL_94529279112e46c7bdd732a29f960f79",
       "value": false
      }
     },
     "d6f5f03999f7414684ca9893e5dfaed3": {
      "model_module": "@jupyter-widgets/controls",
      "model_module_version": "1.2.0",
      "model_name": "DescriptionStyleModel",
      "state": {
       "description_width": ""
      }
     },
     "d6fe454dac0b43e5b89c3513f42536b2": {
      "model_module": "@jupyter-widgets/base",
      "model_module_version": "1.0.0",
      "model_name": "LayoutModel",
      "state": {}
     },
     "d76b751b6c2342599a33190245fb29ac": {
      "model_module": "@jupyter-widgets/base",
      "model_module_version": "1.0.0",
      "model_name": "LayoutModel",
      "state": {}
     },
     "d808347269854096894561250be552be": {
      "model_module": "@jupyter-widgets/base",
      "model_module_version": "1.0.0",
      "model_name": "LayoutModel",
      "state": {
       "justify_content": "center"
      }
     },
     "d8149f9c6e214164b781a1994c2a51b0": {
      "model_module": "@jupyter-widgets/base",
      "model_module_version": "1.0.0",
      "model_name": "LayoutModel",
      "state": {}
     },
     "d81e267486f84be28db8ed6ab74b397e": {
      "model_module": "@jupyter-widgets/base",
      "model_module_version": "1.0.0",
      "model_name": "LayoutModel",
      "state": {
       "width": "250px"
      }
     },
     "d86b0182eb86431381af05fd3d1868af": {
      "model_module": "@jupyter-widgets/controls",
      "model_module_version": "1.2.0",
      "model_name": "DescriptionStyleModel",
      "state": {
       "description_width": ""
      }
     },
     "d896eaef51d84c8f8d95252198649705": {
      "model_module": "@jupyter-widgets/controls",
      "model_module_version": "1.2.0",
      "model_name": "HBoxModel",
      "state": {
       "children": [
        "IPY_MODEL_a9f8b0d70a764f08a14dd6c6f962e66b"
       ],
       "layout": "IPY_MODEL_0a4bd3d446b04dc6a5b6a9761b67c8f6"
      }
     },
     "d8dd27107d6846c9b10dd225a61bb500": {
      "model_module": "@jupyter-widgets/controls",
      "model_module_version": "1.2.0",
      "model_name": "CheckboxModel",
      "state": {
       "description": "morphologische",
       "disabled": false,
       "layout": "IPY_MODEL_c979c2e2b71343efaf3ab5cad37b74f6",
       "style": "IPY_MODEL_b967bc2a330b4c27b785694a290334f6",
       "value": false
      }
     },
     "d97835b94c414b468dc6bfbb27514fa7": {
      "model_module": "@jupyter-widgets/base",
      "model_module_version": "1.0.0",
      "model_name": "LayoutModel",
      "state": {
       "width": "600px"
      }
     },
     "d979800af0c34ce7a8e5af07df7d5a9d": {
      "model_module": "@jupyter-widgets/base",
      "model_module_version": "1.0.0",
      "model_name": "LayoutModel",
      "state": {}
     },
     "d982c51ab0324e4583337bf666a5929a": {
      "model_module": "@jupyter-widgets/base",
      "model_module_version": "1.0.0",
      "model_name": "LayoutModel",
      "state": {
       "width": "250px"
      }
     },
     "d995338a57d044ab87750063a11df6aa": {
      "model_module": "@jupyter-widgets/base",
      "model_module_version": "1.0.0",
      "model_name": "LayoutModel",
      "state": {
       "width": "600px"
      }
     },
     "d9d193d8369a4508b0afdb7dd712b32d": {
      "model_module": "@jupyter-widgets/controls",
      "model_module_version": "1.2.0",
      "model_name": "DescriptionStyleModel",
      "state": {
       "description_width": "initial"
      }
     },
     "da049ea1b105407fb1be24edc3d5c7be": {
      "model_module": "@jupyter-widgets/controls",
      "model_module_version": "1.2.0",
      "model_name": "HTMLModel",
      "state": {
       "layout": "IPY_MODEL_cb16c34ca0e84c94a08f6fd1cad4d2cf",
       "style": "IPY_MODEL_4ee4cc52b3b2462b8b30173c04b29fcc",
       "value": "<i>Wählen Sie die <ins>eine</ins> korrekte Antwort aus: </i>"
      }
     },
     "dabf3193a09f4ba28a64bdd1263971e0": {
      "model_module": "@jupyter-widgets/base",
      "model_module_version": "1.0.0",
      "model_name": "LayoutModel",
      "state": {}
     },
     "daeadeb262184386b75608b9433d6c3b": {
      "model_module": "@jupyter-widgets/controls",
      "model_module_version": "1.2.0",
      "model_name": "CheckboxModel",
      "state": {
       "description": "indirektes Objekt",
       "disabled": false,
       "layout": "IPY_MODEL_6b2064d79e8d4e2f8ea3000ddae64e4a",
       "style": "IPY_MODEL_d104268c028b444e9bb24970b78615a7",
       "value": false
      }
     },
     "db7799be47244a4fac0525c45eceac80": {
      "model_module": "@jupyter-widgets/controls",
      "model_module_version": "1.2.0",
      "model_name": "VBoxModel",
      "state": {
       "children": [
        "IPY_MODEL_54a8d7f9735b47b9abc46405dd5aaa43",
        "IPY_MODEL_33fe63bef6f74dce9f9855d8dece6d8e",
        "IPY_MODEL_8e90fb180516492fb0500fe8c55d673f",
        "IPY_MODEL_aa6885724387456284b8aef6904a498d",
        "IPY_MODEL_54e8dcc8c72243698637909698ed4bec"
       ],
       "layout": "IPY_MODEL_8e56f71335db48bcb424c22146f873bf"
      }
     },
     "dbbc566648ed453bb5a9342d7c4c0107": {
      "model_module": "@jupyter-widgets/controls",
      "model_module_version": "1.2.0",
      "model_name": "VBoxModel",
      "state": {
       "children": [
        "IPY_MODEL_87319cfa03f94cd4adc24754725993f3",
        "IPY_MODEL_3ed7c470217649509b30fe8aa8cb1ed6",
        "IPY_MODEL_30af6bebc35d4f72b4b5aa8d4d434c40"
       ],
       "layout": "IPY_MODEL_f637b26ce3854020b18cec3632552588"
      }
     },
     "dc0954f1ddea46c6a05055ab9a6d7f06": {
      "model_module": "@jupyter-widgets/base",
      "model_module_version": "1.0.0",
      "model_name": "LayoutModel",
      "state": {
       "justify_content": "center"
      }
     },
     "dc18c7a135824eac96e3dfe72fd877b4": {
      "model_module": "@jupyter-widgets/base",
      "model_module_version": "1.0.0",
      "model_name": "LayoutModel",
      "state": {
       "justify_content": "center"
      }
     },
     "dc2eed1760e64ecbb2e605e358028cea": {
      "model_module": "@jupyter-widgets/controls",
      "model_module_version": "1.2.0",
      "model_name": "ButtonModel",
      "state": {
       "description": "Phrasenstruktur",
       "layout": "IPY_MODEL_487d3b31a8d14feda2302f422525fc0d",
       "style": "IPY_MODEL_b9443943149245449530e7fe6c5c076f"
      }
     },
     "dc305af3a8034f0c88e10693c4961ab4": {
      "model_module": "@jupyter-widgets/base",
      "model_module_version": "1.0.0",
      "model_name": "LayoutModel",
      "state": {
       "width": "600px"
      }
     },
     "dc42b775b4544524b6a813c438e26da8": {
      "model_module": "@jupyter-widgets/controls",
      "model_module_version": "1.2.0",
      "model_name": "HTMLModel",
      "state": {
       "layout": "IPY_MODEL_659d8782ee2a44b18040b514f6fbf950",
       "style": "IPY_MODEL_4b3e4590651a43349f6411e3ab997864",
       "value": "<h4 style=\"font-size:14px;\">Warum gibt die parse-Funktion des Skripts vermutlich eine Sequenz zurück?</h4>"
      }
     },
     "dc7c4b2889d8487a9dd902ac43e4b5c1": {
      "model_module": "@jupyter-widgets/base",
      "model_module_version": "1.0.0",
      "model_name": "LayoutModel",
      "state": {
       "width": "150px"
      }
     },
     "dcaf65e6265f432b81b61201837357a8": {
      "model_module": "@jupyter-widgets/base",
      "model_module_version": "1.0.0",
      "model_name": "LayoutModel",
      "state": {
       "width": "250px"
      }
     },
     "dcde80d04ee54ace93df472956af5f13": {
      "model_module": "@jupyter-widgets/controls",
      "model_module_version": "1.2.0",
      "model_name": "HTMLModel",
      "state": {
       "layout": "IPY_MODEL_eb1ffa512850433ca94406e241104771",
       "style": "IPY_MODEL_b99e0c8d34c546b3b25c304cc5ff35c8",
       "value": "<i>Wählen Sie die <ins>eine</ins> korrekte Antwort aus: </i>"
      }
     },
     "dcf91dc3b03947df996f1eb98644bc2b": {
      "model_module": "@jupyter-widgets/controls",
      "model_module_version": "1.2.0",
      "model_name": "HTMLModel",
      "state": {
       "layout": "IPY_MODEL_355fbf3333d142d6ae51809f86db6a52",
       "style": "IPY_MODEL_3c4ef58da8df44cd8114f521c81842a4",
       "value": "<h4 style=\"font-size:14px;\">Welche Hierachie-Ebenen lassen sich in der Beschreibung des Aufbaus sprachlicher Strukturen unterscheiden?</h4>"
      }
     },
     "dd097a78ecdd4afcbb4c20ff2667e116": {
      "model_module": "@jupyter-widgets/controls",
      "model_module_version": "1.2.0",
      "model_name": "ButtonModel",
      "state": {
       "description": "Wissen um Sprachstruktur",
       "layout": "IPY_MODEL_5b650d63703d44bd97340b4e481e5b7f",
       "style": "IPY_MODEL_007cdb5e40b24970915e651c22cf2808"
      }
     },
     "dd11b60145e24bf6b06c052f18d1f870": {
      "model_module": "@jupyter-widgets/controls",
      "model_module_version": "1.2.0",
      "model_name": "ButtonStyleModel",
      "state": {}
     },
     "dd2a0dda58db4d50ad6accd984315575": {
      "model_module": "@jupyter-widgets/controls",
      "model_module_version": "1.2.0",
      "model_name": "VBoxModel",
      "state": {
       "children": [
        "IPY_MODEL_a032320f3d72422ca2e02eb85561449e",
        "IPY_MODEL_569dbf6c78964bdf920eb748b0779ecb",
        "IPY_MODEL_18a875dd7f1f4846a96b835a4bc99d9a",
        "IPY_MODEL_121e223f56d140cdac929891460e1950"
       ],
       "layout": "IPY_MODEL_e7ec3327a4224a86ab847c4f7ad2426a"
      }
     },
     "dd3e772e04e64c419d27c59b55e262f3": {
      "model_module": "@jupyter-widgets/controls",
      "model_module_version": "1.2.0",
      "model_name": "DescriptionStyleModel",
      "state": {
       "description_width": ""
      }
     },
     "dd787b133a1b4832a3883c1cec4c6d50": {
      "model_module": "@jupyter-widgets/base",
      "model_module_version": "1.0.0",
      "model_name": "LayoutModel",
      "state": {
       "width": "250px"
      }
     },
     "ddabe6e8b36f4a21a1be70cdb75cd385": {
      "model_module": "@jupyter-widgets/controls",
      "model_module_version": "1.2.0",
      "model_name": "VBoxModel",
      "state": {
       "children": [
        "IPY_MODEL_f5e8b07dd45b40abaea590976372cec9",
        "IPY_MODEL_4dbcefc3ff1546a3ad9621790232ea94",
        "IPY_MODEL_79b0c4092ef64c1d9ec837a83ab5f1f6",
        "IPY_MODEL_a45ef4b4b07b45e79bd71f70f535a44e"
       ],
       "layout": "IPY_MODEL_00d244c9c1e1491fb857e449f6c014ac"
      }
     },
     "de0a09312b1f46c583b834c1a4197d3e": {
      "model_module": "@jupyter-widgets/controls",
      "model_module_version": "1.2.0",
      "model_name": "ButtonStyleModel",
      "state": {}
     },
     "de423993b9e44656b8b908e3dcd46293": {
      "model_module": "@jupyter-widgets/controls",
      "model_module_version": "1.2.0",
      "model_name": "ButtonModel",
      "state": {
       "description": "formale Grammatik",
       "layout": "IPY_MODEL_3f9148e0b99b4c1da4b95ffe71eb0e95",
       "style": "IPY_MODEL_29ef96b85a88424ca328ca04a6decc74"
      }
     },
     "de44c836b19640a7a3a22c0c5b51083c": {
      "model_module": "@jupyter-widgets/base",
      "model_module_version": "1.0.0",
      "model_name": "LayoutModel",
      "state": {
       "width": "250px"
      }
     },
     "deadbf22517c45e4963695a401cf7241": {
      "model_module": "@jupyter-widgets/base",
      "model_module_version": "1.0.0",
      "model_name": "LayoutModel",
      "state": {
       "width": "250px"
      }
     },
     "decb6d12adc844c99bdca9ca57470745": {
      "model_module": "@jupyter-widgets/controls",
      "model_module_version": "1.2.0",
      "model_name": "DescriptionStyleModel",
      "state": {
       "description_width": ""
      }
     },
     "dee559c9ecd347238422f68fb6a7bdc4": {
      "model_module": "@jupyter-widgets/controls",
      "model_module_version": "1.2.0",
      "model_name": "HBoxModel",
      "state": {
       "children": [
        "IPY_MODEL_fce809a3839a4dfbbfe37a9729017072",
        "IPY_MODEL_ad1e448a354745b39b1859b333aa5347"
       ],
       "layout": "IPY_MODEL_56eaacaad3834487b81ef40ef7edc80e"
      }
     },
     "def83cd71f5d4cadb905ca30a04bf21f": {
      "model_module": "@jupyter-widgets/controls",
      "model_module_version": "1.2.0",
      "model_name": "VBoxModel",
      "state": {
       "children": [
        "IPY_MODEL_983588be91234e8091fdddcb12b79b36",
        "IPY_MODEL_fe01a14402424a0189b505afc87cb7e7",
        "IPY_MODEL_ca3077ff0b3547d3ae01711022a2ad15",
        "IPY_MODEL_fb23120810294974834fb3bb274398a0",
        "IPY_MODEL_2efcf563d0c54064a809f0cf3f528d6b"
       ],
       "layout": "IPY_MODEL_e8bb61819beb41b38e6583817b1b10ea"
      }
     },
     "df1ec0476f0840a18d7d202f43a9205b": {
      "model_module": "@jupyter-widgets/controls",
      "model_module_version": "1.2.0",
      "model_name": "DescriptionStyleModel",
      "state": {
       "description_width": ""
      }
     },
     "df3c3560152a465fb26d2572156d4ef6": {
      "model_module": "@jupyter-widgets/controls",
      "model_module_version": "1.2.0",
      "model_name": "VBoxModel",
      "state": {
       "children": [
        "IPY_MODEL_62730ccb04ff4c408f0927136d3f0bb8",
        "IPY_MODEL_e850ac1e9a7048d7b5496d5e94629dad",
        "IPY_MODEL_95f7ff4bc4df46eea26528f369aadf13",
        "IPY_MODEL_2f7ed9487303488a889f0846e72222f5"
       ],
       "layout": "IPY_MODEL_c882120f57164da7ae0e7b49d2020119"
      }
     },
     "dfdaafb981f048478d7577ab5ec09d19": {
      "model_module": "@jupyter-widgets/base",
      "model_module_version": "1.0.0",
      "model_name": "LayoutModel",
      "state": {
       "justify_content": "center"
      }
     },
     "dfee773ddd3c46b7a4898fe1e4d69cb9": {
      "model_module": "@jupyter-widgets/controls",
      "model_module_version": "1.2.0",
      "model_name": "ButtonModel",
      "state": {
       "description": "Keine der anderen Möglichkeiten",
       "layout": "IPY_MODEL_ae61e62f71ca451ba60d5f65ff70387e",
       "style": "IPY_MODEL_6772172bf66a42448f1dddce638dc534"
      }
     },
     "e05e25653b244775ab9d781a6a118dc8": {
      "model_module": "@jupyter-widgets/controls",
      "model_module_version": "1.2.0",
      "model_name": "HBoxModel",
      "state": {
       "children": [
        "IPY_MODEL_2c55b8d1fba8498abc018c8298115539",
        "IPY_MODEL_70f55b8b6e714ff5961ab000c4253711"
       ],
       "layout": "IPY_MODEL_ae08444739de418482cadcb40288dc0b"
      }
     },
     "e0ed61669c994a98b80a1010359b1fb4": {
      "model_module": "@jupyter-widgets/controls",
      "model_module_version": "1.2.0",
      "model_name": "DescriptionStyleModel",
      "state": {
       "description_width": ""
      }
     },
     "e10224b8572d4ad695e3b3787e2c5330": {
      "model_module": "@jupyter-widgets/controls",
      "model_module_version": "1.2.0",
      "model_name": "ButtonModel",
      "state": {
       "description": "Sinnhaftigkeit",
       "layout": "IPY_MODEL_8cfbd072d1e840c6ac1bd8f13f33b205",
       "style": "IPY_MODEL_94e087c28a604a9097888ab8aca4186c"
      }
     },
     "e14a3cdf9cbf4d959551973824618189": {
      "model_module": "@jupyter-widgets/base",
      "model_module_version": "1.0.0",
      "model_name": "LayoutModel",
      "state": {
       "width": "250px"
      }
     },
     "e197e75e76184466be74ff5f3b7f9c18": {
      "model_module": "@jupyter-widgets/controls",
      "model_module_version": "1.2.0",
      "model_name": "HBoxModel",
      "state": {
       "children": [
        "IPY_MODEL_4938b5d7e69c49ec81f29930ef224192",
        "IPY_MODEL_327bd0fee4c24e799098e916597dc77e"
       ],
       "layout": "IPY_MODEL_cfd6fbf4caf845a6b0db44139f53ada2"
      }
     },
     "e1a91f66044c4f4a9db544794b71bc77": {
      "model_module": "@jupyter-widgets/base",
      "model_module_version": "1.0.0",
      "model_name": "LayoutModel",
      "state": {}
     },
     "e1c2e9c0c81a43aeafe99c96b6604459": {
      "model_module": "@jupyter-widgets/controls",
      "model_module_version": "1.2.0",
      "model_name": "DescriptionStyleModel",
      "state": {
       "description_width": ""
      }
     },
     "e23b0f9914c74dbf8f706dc8710d91c1": {
      "model_module": "@jupyter-widgets/controls",
      "model_module_version": "1.2.0",
      "model_name": "HBoxModel",
      "state": {
       "children": [
        "IPY_MODEL_1be96e508e984b0f9b7bd4ffc4e6674e",
        "IPY_MODEL_c006bcc5bc9b4b97a5d856c8e2fb2295"
       ],
       "layout": "IPY_MODEL_7d6e76508a32477eb481e8c8ca577600"
      }
     },
     "e267a9f74e774cb0b23f426fc56a1d8d": {
      "model_module": "@jupyter-widgets/controls",
      "model_module_version": "1.2.0",
      "model_name": "HTMLModel",
      "state": {
       "layout": "IPY_MODEL_6feaa94f74be414c879b5330a0f4ab2e",
       "style": "IPY_MODEL_1ab5b4259744429a8f6b52c765085b65",
       "value": "<h4 style=\"font-size:14px;\">Die Alternative <code>tree = parser.parse(sent)</code> ist weniger wünschenswert, da im Allgemeinen ________ Parse-Tree möglich ist.</h4>"
      }
     },
     "e2dc437fcc844f91936fdac857a1e097": {
      "model_module": "@jupyter-widgets/base",
      "model_module_version": "1.0.0",
      "model_name": "LayoutModel",
      "state": {
       "width": "250px"
      }
     },
     "e2e3702f2a6f465c879eb77ab75ebad1": {
      "model_module": "@jupyter-widgets/controls",
      "model_module_version": "1.2.0",
      "model_name": "DescriptionStyleModel",
      "state": {
       "description_width": ""
      }
     },
     "e32d9f1a6543481bbed331e8f316bf28": {
      "model_module": "@jupyter-widgets/base",
      "model_module_version": "1.0.0",
      "model_name": "LayoutModel",
      "state": {}
     },
     "e33a4b45d04342eeb40b816d88bcf684": {
      "model_module": "@jupyter-widgets/controls",
      "model_module_version": "1.2.0",
      "model_name": "DescriptionStyleModel",
      "state": {
       "description_width": "initial"
      }
     },
     "e34e8b692228450296f2367f71f1de43": {
      "model_module": "@jupyter-widgets/controls",
      "model_module_version": "1.2.0",
      "model_name": "DescriptionStyleModel",
      "state": {
       "description_width": ""
      }
     },
     "e39f86fd42c54d859195ae2f03985bb7": {
      "model_module": "@jupyter-widgets/base",
      "model_module_version": "1.0.0",
      "model_name": "LayoutModel",
      "state": {}
     },
     "e3ae43fdcdb14750a33f1088066f8c43": {
      "model_module": "@jupyter-widgets/controls",
      "model_module_version": "1.2.0",
      "model_name": "DescriptionStyleModel",
      "state": {
       "description_width": ""
      }
     },
     "e3f413f8266542fd9afc7deeae1cccc5": {
      "model_module": "@jupyter-widgets/base",
      "model_module_version": "1.0.0",
      "model_name": "LayoutModel",
      "state": {
       "width": "600px"
      }
     },
     "e400fc83742743bdaa390624f239c02d": {
      "model_module": "@jupyter-widgets/controls",
      "model_module_version": "1.2.0",
      "model_name": "ButtonModel",
      "state": {
       "description": "Korrekt?",
       "layout": "IPY_MODEL_e4acdb8d8d5a4739b820a75bd438863c",
       "style": "IPY_MODEL_21f2133b1c17479d8ad85eb0131ccb90"
      }
     },
     "e4893685e57646f19903d52056746042": {
      "model_module": "@jupyter-widgets/controls",
      "model_module_version": "1.2.0",
      "model_name": "CheckboxModel",
      "state": {
       "description": "Lautebene",
       "disabled": false,
       "layout": "IPY_MODEL_7583a353830e4bb9917d9622fdaf3f32",
       "style": "IPY_MODEL_f47f45647b694fd5b786afdd490bba32",
       "value": false
      }
     },
     "e4acdb8d8d5a4739b820a75bd438863c": {
      "model_module": "@jupyter-widgets/base",
      "model_module_version": "1.0.0",
      "model_name": "LayoutModel",
      "state": {
       "width": "250px"
      }
     },
     "e4b9d28db14847a38cd15fb2afa5c03c": {
      "model_module": "@jupyter-widgets/controls",
      "model_module_version": "1.2.0",
      "model_name": "HBoxModel",
      "state": {
       "children": [
        "IPY_MODEL_3c27e4586d624265a3d3c008eb769d4a",
        "IPY_MODEL_f90bc03ede0c4dc897032c4d0eaa6b95"
       ],
       "layout": "IPY_MODEL_4dfb7d9a6bb748a1a00580ec2375461f"
      }
     },
     "e51422f3037442109d174e42cc3dfef9": {
      "model_module": "@jupyter-widgets/controls",
      "model_module_version": "1.2.0",
      "model_name": "DescriptionStyleModel",
      "state": {
       "description_width": "initial"
      }
     },
     "e5204e132ec44fcba6bfae258dc65e35": {
      "model_module": "@jupyter-widgets/controls",
      "model_module_version": "1.2.0",
      "model_name": "VBoxModel",
      "state": {
       "children": [
        "IPY_MODEL_d42904dcd0e0469b8acc235cb5fd9012",
        "IPY_MODEL_b7270461663e453b86f648c8bc838182",
        "IPY_MODEL_f1aca42d290b4a289735c7fa86829c3b"
       ],
       "layout": "IPY_MODEL_6bf112be3f3447db99f80f4bb164285f"
      }
     },
     "e528f8f90e014ba2b98eb63d552a6174": {
      "model_module": "@jupyter-widgets/base",
      "model_module_version": "1.0.0",
      "model_name": "LayoutModel",
      "state": {
       "width": "600px"
      }
     },
     "e53221c9d3df4ee48d378951cd3cc854": {
      "model_module": "@jupyter-widgets/base",
      "model_module_version": "1.0.0",
      "model_name": "LayoutModel",
      "state": {
       "width": "250px"
      }
     },
     "e552e5b9efb6446e842136918f8e06ba": {
      "model_module": "@jupyter-widgets/base",
      "model_module_version": "1.0.0",
      "model_name": "LayoutModel",
      "state": {
       "width": "250px"
      }
     },
     "e5742d8fb5a54b71bf198c4d1e4d8258": {
      "model_module": "@jupyter-widgets/controls",
      "model_module_version": "1.2.0",
      "model_name": "ButtonStyleModel",
      "state": {}
     },
     "e58cf2cea3ee4b829f64bc7b1bdf2d3b": {
      "model_module": "@jupyter-widgets/controls",
      "model_module_version": "1.2.0",
      "model_name": "DescriptionStyleModel",
      "state": {
       "description_width": "initial"
      }
     },
     "e58f70f602b0452e97ef609fc855e9b9": {
      "model_module": "@jupyter-widgets/base",
      "model_module_version": "1.0.0",
      "model_name": "LayoutModel",
      "state": {
       "width": "250px"
      }
     },
     "e5a0a0b70f4a40e58b40120b7dbf689e": {
      "model_module": "@jupyter-widgets/base",
      "model_module_version": "1.0.0",
      "model_name": "LayoutModel",
      "state": {
       "width": "250px"
      }
     },
     "e5ba30e187bf46d49ca992c9b17a6f37": {
      "model_module": "@jupyter-widgets/controls",
      "model_module_version": "1.2.0",
      "model_name": "DropdownModel",
      "state": {
       "_options_labels": [
        "Keine der Alternativen",
        "der Ort des Geschehens wird festgelegt",
        "die PP wird dem Substantiv beigefügt",
        "die im Verb ausgedrückte Tätigkeit wird modifiziert"
       ],
       "description": "Antwort:",
       "index": 0,
       "layout": "IPY_MODEL_29498fc6553a41529d498c6dcfe16e7a",
       "style": "IPY_MODEL_061e61d052954b07898fcdcb1e499ae4"
      }
     },
     "e5bd1352baf44662a42ee7642dc59f07": {
      "model_module": "@jupyter-widgets/base",
      "model_module_version": "1.0.0",
      "model_name": "LayoutModel",
      "state": {
       "width": "250px"
      }
     },
     "e5dc71606b3f435084a01bc2f7700d3e": {
      "model_module": "@jupyter-widgets/base",
      "model_module_version": "1.0.0",
      "model_name": "LayoutModel",
      "state": {
       "width": "600px"
      }
     },
     "e6847e36d5b742b58cd43be153d903d7": {
      "model_module": "@jupyter-widgets/controls",
      "model_module_version": "1.2.0",
      "model_name": "DescriptionStyleModel",
      "state": {
       "description_width": "initial"
      }
     },
     "e6aa1f9f818247c38fb1074da05a1bc6": {
      "model_module": "@jupyter-widgets/controls",
      "model_module_version": "1.2.0",
      "model_name": "DescriptionStyleModel",
      "state": {
       "description_width": ""
      }
     },
     "e6b5921631f14b499507351d1ba62962": {
      "model_module": "@jupyter-widgets/controls",
      "model_module_version": "1.2.0",
      "model_name": "DescriptionStyleModel",
      "state": {
       "description_width": ""
      }
     },
     "e70b73df3f8f4858a281172e8bf16aa6": {
      "model_module": "@jupyter-widgets/base",
      "model_module_version": "1.0.0",
      "model_name": "LayoutModel",
      "state": {
       "width": "250px"
      }
     },
     "e7215af200c0465786d1f473340cdf39": {
      "model_module": "@jupyter-widgets/controls",
      "model_module_version": "1.2.0",
      "model_name": "DescriptionStyleModel",
      "state": {
       "description_width": "initial"
      }
     },
     "e7ec3327a4224a86ab847c4f7ad2426a": {
      "model_module": "@jupyter-widgets/base",
      "model_module_version": "1.0.0",
      "model_name": "LayoutModel",
      "state": {}
     },
     "e804f2207d5b4245a8f988d7aac93cbe": {
      "model_module": "@jupyter-widgets/controls",
      "model_module_version": "1.2.0",
      "model_name": "ButtonStyleModel",
      "state": {}
     },
     "e8433bd8219942b4b4c4ec39cd1dad6b": {
      "model_module": "@jupyter-widgets/controls",
      "model_module_version": "1.2.0",
      "model_name": "ButtonModel",
      "state": {
       "description": "formale Grammatik",
       "layout": "IPY_MODEL_68a38ea319854ddfa9c8ef6a29e8b8e3",
       "style": "IPY_MODEL_797253e5a0054da49607542931e017cd"
      }
     },
     "e850ac1e9a7048d7b5496d5e94629dad": {
      "model_module": "@jupyter-widgets/controls",
      "model_module_version": "1.2.0",
      "model_name": "HTMLModel",
      "state": {
       "layout": "IPY_MODEL_3f4969efbffb46039c362f5afc9ad4f0",
       "style": "IPY_MODEL_233b956418be441e95b7ab37dbe4b535",
       "value": "<i>Markieren Sie <ins>alle</ins> passenden Antworten: </i>"
      }
     },
     "e860f68a18754ba689eeed9afd3a5346": {
      "model_module": "@jupyter-widgets/controls",
      "model_module_version": "1.2.0",
      "model_name": "ButtonStyleModel",
      "state": {}
     },
     "e8671dfc00fc493780fbed69334c5e4f": {
      "model_module": "@jupyter-widgets/base",
      "model_module_version": "1.0.0",
      "model_name": "LayoutModel",
      "state": {
       "width": "250px"
      }
     },
     "e8a73e84b5c04e8594fd2ba6cf5add27": {
      "model_module": "@jupyter-widgets/base",
      "model_module_version": "1.0.0",
      "model_name": "LayoutModel",
      "state": {
       "justify_content": "center"
      }
     },
     "e8bb61819beb41b38e6583817b1b10ea": {
      "model_module": "@jupyter-widgets/base",
      "model_module_version": "1.0.0",
      "model_name": "LayoutModel",
      "state": {}
     },
     "e8c839317ed04f6a86872acdbd9b9584": {
      "model_module": "@jupyter-widgets/controls",
      "model_module_version": "1.2.0",
      "model_name": "DropdownModel",
      "state": {
       "_options_labels": [
        "Keine der Alternativen",
        "der Ort des Geschehens wird festgelegt",
        "die PP wird dem Substantiv beigefügt",
        "die im Verb ausgedrückte Tätigkeit wird modifiziert"
       ],
       "description": "Antwort:",
       "index": 0,
       "layout": "IPY_MODEL_094599f0a30049fbaf0b8cc21fb5816e",
       "style": "IPY_MODEL_f26ec89f6ad942a69fa2052e15ea6461"
      }
     },
     "e8d2a9ef86454b23a539146761103aa9": {
      "model_module": "@jupyter-widgets/base",
      "model_module_version": "1.0.0",
      "model_name": "LayoutModel",
      "state": {}
     },
     "e92bd0dd139f4b3f8144d5bdd022673f": {
      "model_module": "@jupyter-widgets/base",
      "model_module_version": "1.0.0",
      "model_name": "LayoutModel",
      "state": {}
     },
     "e92ef998fe36499da8e43ee5ea127b46": {
      "model_module": "@jupyter-widgets/base",
      "model_module_version": "1.0.0",
      "model_name": "LayoutModel",
      "state": {
       "width": "250px"
      }
     },
     "e937f64872fd4948a89c5bfbd2036990": {
      "model_module": "@jupyter-widgets/base",
      "model_module_version": "1.0.0",
      "model_name": "LayoutModel",
      "state": {
       "width": "250px"
      }
     },
     "e9b0e4bb13624b6b91e89d5245f8127d": {
      "model_module": "@jupyter-widgets/controls",
      "model_module_version": "1.2.0",
      "model_name": "ButtonModel",
      "state": {
       "description": "Keine der anderen Möglichkeiten",
       "layout": "IPY_MODEL_7e5808503c384ecd83298083079b53d7",
       "style": "IPY_MODEL_19e7bccc55d94307811e699fe7837e2e"
      }
     },
     "e9d73a06a0d345acb858ed1fcb92f6a9": {
      "model_module": "@jupyter-widgets/controls",
      "model_module_version": "1.2.0",
      "model_name": "ButtonModel",
      "state": {
       "description": "Keine der anderen Möglichkeiten",
       "layout": "IPY_MODEL_0fb67ee08b844712895d693a056919e4",
       "style": "IPY_MODEL_9a3b587ad5bc4a478eaf311fb90ed268"
      }
     },
     "ea6c93bff82948dcb74e89c850361396": {
      "model_module": "@jupyter-widgets/base",
      "model_module_version": "1.0.0",
      "model_name": "LayoutModel",
      "state": {}
     },
     "ead6045d95cc437883afe3322022447c": {
      "model_module": "@jupyter-widgets/base",
      "model_module_version": "1.0.0",
      "model_name": "LayoutModel",
      "state": {
       "width": "250px"
      }
     },
     "eb1ffa512850433ca94406e241104771": {
      "model_module": "@jupyter-widgets/base",
      "model_module_version": "1.0.0",
      "model_name": "LayoutModel",
      "state": {
       "justify_content": "center"
      }
     },
     "eba6bfcec7074bef932a3a5cc37ca3e4": {
      "model_module": "@jupyter-widgets/controls",
      "model_module_version": "1.2.0",
      "model_name": "ButtonModel",
      "state": {
       "description": "Korrekt?",
       "layout": "IPY_MODEL_a890c4e714684d8ebe0d74eaf917a031",
       "style": "IPY_MODEL_4bc6b8d835ae4d6383e997c30b0275fd"
      }
     },
     "ebc8cfd139bf428696f692b9cb4f3eb9": {
      "model_module": "@jupyter-widgets/base",
      "model_module_version": "1.0.0",
      "model_name": "LayoutModel",
      "state": {
       "width": "250px"
      }
     },
     "ebd000b211384492a780991da7e9cd2d": {
      "model_module": "@jupyter-widgets/controls",
      "model_module_version": "1.2.0",
      "model_name": "DescriptionStyleModel",
      "state": {
       "description_width": ""
      }
     },
     "ec0bf64b48904b8482c7681faf40be9a": {
      "model_module": "@jupyter-widgets/controls",
      "model_module_version": "1.2.0",
      "model_name": "ButtonStyleModel",
      "state": {}
     },
     "ec34d14c43594128a7c592416729c987": {
      "model_module": "@jupyter-widgets/base",
      "model_module_version": "1.0.0",
      "model_name": "LayoutModel",
      "state": {}
     },
     "ec77307e113342b18fffd4e370d76e27": {
      "model_module": "@jupyter-widgets/base",
      "model_module_version": "1.0.0",
      "model_name": "LayoutModel",
      "state": {
       "width": "600px"
      }
     },
     "eca1c5793cbc4a10b4c58770c2dc3301": {
      "model_module": "@jupyter-widgets/controls",
      "model_module_version": "1.2.0",
      "model_name": "ButtonModel",
      "state": {
       "description": "Baumdiagramm",
       "layout": "IPY_MODEL_c472381cce404762b0ec2474ba646356",
       "style": "IPY_MODEL_7b6a663a595b401abcd3eb0ac57e2bc2"
      }
     },
     "ed968ed3343b46ffa9c0dc05a4ac44d2": {
      "model_module": "@jupyter-widgets/controls",
      "model_module_version": "1.2.0",
      "model_name": "DescriptionStyleModel",
      "state": {
       "description_width": ""
      }
     },
     "ee04a6df6be8479fa1e1174c4cdc54e0": {
      "model_module": "@jupyter-widgets/controls",
      "model_module_version": "1.2.0",
      "model_name": "DescriptionStyleModel",
      "state": {
       "description_width": ""
      }
     },
     "ee48aede38fa4b3e923bca1098eb5652": {
      "model_module": "@jupyter-widgets/base",
      "model_module_version": "1.0.0",
      "model_name": "LayoutModel",
      "state": {}
     },
     "eeadf04269844f2e91371ccb76d257d0": {
      "model_module": "@jupyter-widgets/controls",
      "model_module_version": "1.2.0",
      "model_name": "HTMLModel",
      "state": {
       "layout": "IPY_MODEL_49b0983432054fafac6aea2f390e3268",
       "style": "IPY_MODEL_6652516c9b7d43ad810bf69f642f1298",
       "value": "<h4 style=\"font-size:14px;\">Regularitäten bezieht.</h4>"
      }
     },
     "ef5cde3b0b4d42fd9a27d5835cddf89d": {
      "model_module": "@jupyter-widgets/base",
      "model_module_version": "1.0.0",
      "model_name": "LayoutModel",
      "state": {}
     },
     "ef6b343dc83a4e67bc62dc3a8e48d447": {
      "model_module": "@jupyter-widgets/controls",
      "model_module_version": "1.2.0",
      "model_name": "ButtonStyleModel",
      "state": {}
     },
     "ef9193f92863429c966869e5f838730e": {
      "model_module": "@jupyter-widgets/base",
      "model_module_version": "1.0.0",
      "model_name": "LayoutModel",
      "state": {
       "width": "600px"
      }
     },
     "f1276af72a80481a92681bdeb8ecfc9b": {
      "model_module": "@jupyter-widgets/controls",
      "model_module_version": "1.2.0",
      "model_name": "HTMLModel",
      "state": {
       "layout": "IPY_MODEL_b1a7fe5500a34c0fad3bceecee9940dd",
       "style": "IPY_MODEL_6c316b565a984dc8950056093e41b789",
       "value": "<h4 style=\"font-size:14px;\">der Grammatik, der sich auf die</h4>"
      }
     },
     "f16e97219bb646fdbae953e60f522320": {
      "model_module": "@jupyter-widgets/controls",
      "model_module_version": "1.2.0",
      "model_name": "CheckboxModel",
      "state": {
       "description": "Eine endliche Menge an Sätzen kann mit unendlichen Mitteln beschrieben werden.",
       "disabled": false,
       "layout": "IPY_MODEL_281f4f38c4fe4699965e07235f329acc",
       "style": "IPY_MODEL_1245ff2214a043c8816f5c5f3c643469",
       "value": false
      }
     },
     "f1aca42d290b4a289735c7fa86829c3b": {
      "model_module": "@jupyter-widgets/controls",
      "model_module_version": "1.2.0",
      "model_name": "ButtonModel",
      "state": {
       "description": "Korrekt?",
       "layout": "IPY_MODEL_e937f64872fd4948a89c5bfbd2036990",
       "style": "IPY_MODEL_b0ba9ffdfa3d45cd82e3e83cb20442cb"
      }
     },
     "f2145d034e7d45ec9499785a5fcee81b": {
      "model_module": "@jupyter-widgets/controls",
      "model_module_version": "1.2.0",
      "model_name": "DescriptionStyleModel",
      "state": {
       "description_width": ""
      }
     },
     "f2259be4ae604244bbef54a61120286b": {
      "model_module": "@jupyter-widgets/controls",
      "model_module_version": "1.2.0",
      "model_name": "DescriptionStyleModel",
      "state": {
       "description_width": "initial"
      }
     },
     "f26ec89f6ad942a69fa2052e15ea6461": {
      "model_module": "@jupyter-widgets/controls",
      "model_module_version": "1.2.0",
      "model_name": "DescriptionStyleModel",
      "state": {
       "description_width": ""
      }
     },
     "f296791688904f72be246bef81bf3f1c": {
      "model_module": "@jupyter-widgets/base",
      "model_module_version": "1.0.0",
      "model_name": "LayoutModel",
      "state": {
       "width": "600px"
      }
     },
     "f2b0026be3b245bdb7b9367792049a87": {
      "model_module": "@jupyter-widgets/base",
      "model_module_version": "1.0.0",
      "model_name": "LayoutModel",
      "state": {}
     },
     "f2b9fb016bf74223847b693ae21b4a46": {
      "model_module": "@jupyter-widgets/controls",
      "model_module_version": "1.2.0",
      "model_name": "DescriptionStyleModel",
      "state": {
       "description_width": "initial"
      }
     },
     "f2c32a429f8e43f9b443d0cc21fb0b73": {
      "model_module": "@jupyter-widgets/controls",
      "model_module_version": "1.2.0",
      "model_name": "HBoxModel",
      "state": {
       "children": [
        "IPY_MODEL_767e8c455d4547019cc214d6a001efaa",
        "IPY_MODEL_9384931f1f994b94bbaa4d9f986e2df6"
       ],
       "layout": "IPY_MODEL_58673783cbe1496eb653032534fb29d4"
      }
     },
     "f30f6060ca5f4bd39cab4944d91a3bb6": {
      "model_module": "@jupyter-widgets/base",
      "model_module_version": "1.0.0",
      "model_name": "LayoutModel",
      "state": {
       "width": "250px"
      }
     },
     "f31a7a93588a48c29f32b1597e46d64c": {
      "model_module": "@jupyter-widgets/controls",
      "model_module_version": "1.2.0",
      "model_name": "CheckboxModel",
      "state": {
       "description": "Bäume",
       "disabled": false,
       "layout": "IPY_MODEL_abc7da05c3ad4bbe9cf0fa1899c9465a",
       "style": "IPY_MODEL_90691bdbf03f4de987e626972c3e0ccb",
       "value": false
      }
     },
     "f3515807dda54ed0a5e2b4716a921d77": {
      "model_module": "@jupyter-widgets/base",
      "model_module_version": "1.0.0",
      "model_name": "LayoutModel",
      "state": {}
     },
     "f351a1940b884527950e86bdf82dd9c3": {
      "model_module": "@jupyter-widgets/controls",
      "model_module_version": "1.2.0",
      "model_name": "ButtonModel",
      "state": {
       "description": "formale Grammatik",
       "layout": "IPY_MODEL_ead6045d95cc437883afe3322022447c",
       "style": "IPY_MODEL_86b294e994a6441bb57462299e5f8df8"
      }
     },
     "f3825f0cf20745da97cc43219325cc05": {
      "model_module": "@jupyter-widgets/controls",
      "model_module_version": "1.2.0",
      "model_name": "CheckboxModel",
      "state": {
       "description": "morphologische",
       "disabled": false,
       "layout": "IPY_MODEL_5193177595f646f3afa39edbbeffd05e",
       "style": "IPY_MODEL_2e5cdc9f87344189819fcb408495c77f",
       "value": false
      }
     },
     "f3e36488128a424592d245952abe037d": {
      "model_module": "@jupyter-widgets/controls",
      "model_module_version": "1.2.0",
      "model_name": "CheckboxModel",
      "state": {
       "description": "Nominalphrase",
       "disabled": false,
       "layout": "IPY_MODEL_227808b2b84b471685759fc728238a5a",
       "style": "IPY_MODEL_48d9d38fdec84f8fb2b011fef65e5d22",
       "value": false
      }
     },
     "f3f44617126848d4babb26e3adba15de": {
      "model_module": "@jupyter-widgets/controls",
      "model_module_version": "1.2.0",
      "model_name": "ButtonModel",
      "state": {
       "description": "lexikalische Ambiguität",
       "layout": "IPY_MODEL_29e42cfb0b0348da8fdeaeb8cdacf23d",
       "style": "IPY_MODEL_7fad4f071924432f9b84266cbdd02000"
      }
     },
     "f434d7fe1869458ab0f7933f593777fe": {
      "model_module": "@jupyter-widgets/base",
      "model_module_version": "1.0.0",
      "model_name": "LayoutModel",
      "state": {
       "justify_content": "center"
      }
     },
     "f441ce845fb5483a8e66b83abe8a82fc": {
      "model_module": "@jupyter-widgets/controls",
      "model_module_version": "1.2.0",
      "model_name": "ButtonModel",
      "state": {
       "description": "Keine der anderen Möglichkeiten",
       "layout": "IPY_MODEL_699d8bf194a247c9a7e6f93d91c8ae2d",
       "style": "IPY_MODEL_3d40aef961cf4ad29e32b259f1e8f9be"
      }
     },
     "f47f45647b694fd5b786afdd490bba32": {
      "model_module": "@jupyter-widgets/controls",
      "model_module_version": "1.2.0",
      "model_name": "DescriptionStyleModel",
      "state": {
       "description_width": "initial"
      }
     },
     "f489e8ff9ea44c30a2775c2cec0fa0e7": {
      "model_module": "@jupyter-widgets/controls",
      "model_module_version": "1.2.0",
      "model_name": "ButtonStyleModel",
      "state": {}
     },
     "f4a71dd6dfe04a049908d4314e6031a8": {
      "model_module": "@jupyter-widgets/base",
      "model_module_version": "1.0.0",
      "model_name": "LayoutModel",
      "state": {
       "justify_content": "center"
      }
     },
     "f4aa1996f6e647a9b4eec1230a4a7523": {
      "model_module": "@jupyter-widgets/base",
      "model_module_version": "1.0.0",
      "model_name": "LayoutModel",
      "state": {
       "width": "250px"
      }
     },
     "f4c6d41cde7a45a99667d235e779c017": {
      "model_module": "@jupyter-widgets/controls",
      "model_module_version": "1.2.0",
      "model_name": "DescriptionStyleModel",
      "state": {
       "description_width": ""
      }
     },
     "f4e42e7fff5947bda63664ca0423cbdf": {
      "model_module": "@jupyter-widgets/controls",
      "model_module_version": "1.2.0",
      "model_name": "HBoxModel",
      "state": {
       "children": [
        "IPY_MODEL_d3b57ea851474f168f445438d6a7aea4",
        "IPY_MODEL_9dc3d61547d5459482c92a3ef550c419"
       ],
       "layout": "IPY_MODEL_6fa7e90b9e244c2e884bac76a801bf2e"
      }
     },
     "f4e9b9b7e2e1464b9fefd401144ddcb8": {
      "model_module": "@jupyter-widgets/controls",
      "model_module_version": "1.2.0",
      "model_name": "ButtonStyleModel",
      "state": {}
     },
     "f583701e90bf4295acd71d7dc7f216c7": {
      "model_module": "@jupyter-widgets/controls",
      "model_module_version": "1.2.0",
      "model_name": "ButtonModel",
      "state": {
       "description": "Wohlgeformtheit",
       "layout": "IPY_MODEL_d53ba35a13a2456cb3564f0040ab3644",
       "style": "IPY_MODEL_8b9180f929b44780ada5b7efb0f1d0a0"
      }
     },
     "f58de4f2699d462289e2b7d52afc0ee2": {
      "model_module": "@jupyter-widgets/base",
      "model_module_version": "1.0.0",
      "model_name": "LayoutModel",
      "state": {
       "width": "250px"
      }
     },
     "f5bd20784c894cefbb56372e0a569575": {
      "model_module": "@jupyter-widgets/controls",
      "model_module_version": "1.2.0",
      "model_name": "ButtonStyleModel",
      "state": {}
     },
     "f5be8f9859f3480ba3e07d10859bffd0": {
      "model_module": "@jupyter-widgets/base",
      "model_module_version": "1.0.0",
      "model_name": "LayoutModel",
      "state": {}
     },
     "f5e8b07dd45b40abaea590976372cec9": {
      "model_module": "@jupyter-widgets/controls",
      "model_module_version": "1.2.0",
      "model_name": "HTMLModel",
      "state": {
       "layout": "IPY_MODEL_5d6467e94db64053ad521141875c7955",
       "style": "IPY_MODEL_e6aa1f9f818247c38fb1074da05a1bc6",
       "value": "<h4 style=\"font-size:14px;\">Was ist der Fall, wenn die PP ein Attribut ist?</h4>"
      }
     },
     "f61305e023de4ba189ce6baeb7ae405f": {
      "model_module": "@jupyter-widgets/controls",
      "model_module_version": "1.2.0",
      "model_name": "ButtonStyleModel",
      "state": {}
     },
     "f624a14e437e4108868b4d96003fb159": {
      "model_module": "@jupyter-widgets/base",
      "model_module_version": "1.0.0",
      "model_name": "LayoutModel",
      "state": {}
     },
     "f636b6cc9cb94c1495f6e7ac024f3d46": {
      "model_module": "@jupyter-widgets/base",
      "model_module_version": "1.0.0",
      "model_name": "LayoutModel",
      "state": {
       "justify_content": "center"
      }
     },
     "f637b26ce3854020b18cec3632552588": {
      "model_module": "@jupyter-widgets/base",
      "model_module_version": "1.0.0",
      "model_name": "LayoutModel",
      "state": {}
     },
     "f6d3f094fa9f44898f34027375806e87": {
      "model_module": "@jupyter-widgets/controls",
      "model_module_version": "1.2.0",
      "model_name": "ButtonModel",
      "state": {
       "description": "Keine der anderen Möglichkeiten",
       "layout": "IPY_MODEL_b61c8bef553c4f659e51ae6c4bf5e161",
       "style": "IPY_MODEL_506fad2ff5d74b4687187507a404f1f8"
      }
     },
     "f6d55486a1434bbea5dc3afcc5186293": {
      "model_module": "@jupyter-widgets/base",
      "model_module_version": "1.0.0",
      "model_name": "LayoutModel",
      "state": {
       "width": "250px"
      }
     },
     "f6e06fd045b64bfe81ad3d73d28c4202": {
      "model_module": "@jupyter-widgets/controls",
      "model_module_version": "1.2.0",
      "model_name": "HBoxModel",
      "state": {
       "children": [
        "IPY_MODEL_f3f44617126848d4babb26e3adba15de",
        "IPY_MODEL_0589bc78a52a4caca0e7bad7da67730a"
       ],
       "layout": "IPY_MODEL_38cd5b7100954dba8e79cf73687dc066"
      }
     },
     "f6ea2b1f2aaa41f9827439173b925fa0": {
      "model_module": "@jupyter-widgets/controls",
      "model_module_version": "1.2.0",
      "model_name": "DropdownModel",
      "state": {
       "_options_labels": [
        "morphologischen",
        "phonologischen",
        "semantischen",
        "syntaktischen",
        " "
       ],
       "index": 4,
       "layout": "IPY_MODEL_791671dfdf9149cbb3c0844a47ab8f44",
       "style": "IPY_MODEL_4a083cd39e884164bf1799992107a5e8"
      }
     },
     "f70978f0a6074ed7aa52c62c69a7b562": {
      "model_module": "@jupyter-widgets/controls",
      "model_module_version": "1.2.0",
      "model_name": "HTMLModel",
      "state": {
       "layout": "IPY_MODEL_e8a73e84b5c04e8594fd2ba6cf5add27",
       "style": "IPY_MODEL_86bf2faff52c4f6c815c2c6d3693b32c",
       "value": "<i>Markieren Sie <ins>alle</ins> passenden Antworten: </i>"
      }
     },
     "f71c8613a7f44ce28d3b800772697478": {
      "model_module": "@jupyter-widgets/base",
      "model_module_version": "1.0.0",
      "model_name": "LayoutModel",
      "state": {}
     },
     "f76be0565c8a4d02a160cfcc57e8c510": {
      "model_module": "@jupyter-widgets/controls",
      "model_module_version": "1.2.0",
      "model_name": "ButtonStyleModel",
      "state": {}
     },
     "f7a5190a9a8f46e899d12a9472a56191": {
      "model_module": "@jupyter-widgets/controls",
      "model_module_version": "1.2.0",
      "model_name": "DescriptionStyleModel",
      "state": {
       "description_width": "initial"
      }
     },
     "f7d71f015dfc41a592d440ef230897d2": {
      "model_module": "@jupyter-widgets/controls",
      "model_module_version": "1.2.0",
      "model_name": "HTMLModel",
      "state": {
       "layout": "IPY_MODEL_32780979b41a425f9ef5d3bd8d782733",
       "style": "IPY_MODEL_d402590f2db749a7ad09f8bb74bcbee0",
       "value": "<i>Wählen Sie die <ins>eine</ins> korrekte Antwort aus: </i>"
      }
     },
     "f7f1bcafe5f243e08d21dc979fab992b": {
      "model_module": "@jupyter-widgets/controls",
      "model_module_version": "1.2.0",
      "model_name": "CheckboxModel",
      "state": {
       "description": "Nominalphrase",
       "disabled": false,
       "layout": "IPY_MODEL_4cf12f0bca9c4887953cdb3db5fc0b34",
       "style": "IPY_MODEL_1c5cbc6092a84aeeb051f07771345874",
       "value": false
      }
     },
     "f81ac5d36889448a970485f0d34b0b51": {
      "model_module": "@jupyter-widgets/controls",
      "model_module_version": "1.2.0",
      "model_name": "HTMLModel",
      "state": {
       "layout": "IPY_MODEL_560268eeea1d401f84c83103a2f5757b",
       "style": "IPY_MODEL_530f10a31ff4484b846e39c8f7438ccf",
       "value": "<h4 style=\"font-size:14px;\">Bei einer solchen Analyse wird welche ja/nein-Entscheidung unweigerlich getroffen?</h4>"
      }
     },
     "f82c167a33304235959fd460dca963f6": {
      "model_module": "@jupyter-widgets/base",
      "model_module_version": "1.0.0",
      "model_name": "LayoutModel",
      "state": {}
     },
     "f8393af89f9a48be8fb719bb72c16414": {
      "model_module": "@jupyter-widgets/controls",
      "model_module_version": "1.2.0",
      "model_name": "ButtonModel",
      "state": {
       "description": "Reflexivität",
       "layout": "IPY_MODEL_25c2ce14eabb4b54ae7e2f772f2d6169",
       "style": "IPY_MODEL_6d464c67029846eab8e5152e925008a3"
      }
     },
     "f84a830ce021429da554330b0694141b": {
      "model_module": "@jupyter-widgets/base",
      "model_module_version": "1.0.0",
      "model_name": "LayoutModel",
      "state": {
       "width": "250px"
      }
     },
     "f88f66e7f03e4259a9e2a315af298052": {
      "model_module": "@jupyter-widgets/controls",
      "model_module_version": "1.2.0",
      "model_name": "ButtonStyleModel",
      "state": {}
     },
     "f8e1a14041744a9d9abc2bbfafc9a172": {
      "model_module": "@jupyter-widgets/controls",
      "model_module_version": "1.2.0",
      "model_name": "HTMLModel",
      "state": {
       "layout": "IPY_MODEL_24ebbef5acf94256a2bb80284edbc7fe",
       "style": "IPY_MODEL_27a047f3696f4d2fab8ea80d933dea1d",
       "value": "<i>Markieren Sie <ins>alle</ins> passenden Antworten: </i>"
      }
     },
     "f90bc03ede0c4dc897032c4d0eaa6b95": {
      "model_module": "@jupyter-widgets/controls",
      "model_module_version": "1.2.0",
      "model_name": "ButtonModel",
      "state": {
       "description": "andere Gründe",
       "layout": "IPY_MODEL_5a04275e7d624ae6b0d774fbd6461bcf",
       "style": "IPY_MODEL_8785e32b99464512baf2a6a625cff64b"
      }
     },
     "f94ccfd9f52b4a9c96cf58a42a37a477": {
      "model_module": "@jupyter-widgets/controls",
      "model_module_version": "1.2.0",
      "model_name": "DescriptionStyleModel",
      "state": {
       "description_width": ""
      }
     },
     "f964b6cfbdc74d03969c253c4194b29b": {
      "model_module": "@jupyter-widgets/controls",
      "model_module_version": "1.2.0",
      "model_name": "ButtonStyleModel",
      "state": {}
     },
     "f969a23929584498ad3a6d27cce02750": {
      "model_module": "@jupyter-widgets/controls",
      "model_module_version": "1.2.0",
      "model_name": "CheckboxModel",
      "state": {
       "description": "syntaktische",
       "disabled": false,
       "layout": "IPY_MODEL_1ab576ad04cd4b6fbcdcdc5a9a54cd83",
       "style": "IPY_MODEL_cff6b5be6fb3409095143881ee1b37c9",
       "value": false
      }
     },
     "f96c30a5344a4fa396dfd490c29f5ae6": {
      "model_module": "@jupyter-widgets/controls",
      "model_module_version": "1.2.0",
      "model_name": "DescriptionStyleModel",
      "state": {
       "description_width": "initial"
      }
     },
     "f97ce6a73665492aae90b8990b57167a": {
      "model_module": "@jupyter-widgets/controls",
      "model_module_version": "1.2.0",
      "model_name": "CheckboxModel",
      "state": {
       "description": "Dependenz",
       "disabled": false,
       "layout": "IPY_MODEL_a0ac1ca74dcc44bb871724f59199b824",
       "style": "IPY_MODEL_559c6065af1343b697e6531695f57bd8",
       "value": false
      }
     },
     "f99b6381bd4b462ab14a16189c729d2c": {
      "model_module": "@jupyter-widgets/base",
      "model_module_version": "1.0.0",
      "model_name": "LayoutModel",
      "state": {}
     },
     "f9bbc49c4c574576ae1f3f1b5e29f501": {
      "model_module": "@jupyter-widgets/controls",
      "model_module_version": "1.2.0",
      "model_name": "ButtonStyleModel",
      "state": {}
     },
     "f9bbc9a137434829a372a3bfd76b89fb": {
      "model_module": "@jupyter-widgets/controls",
      "model_module_version": "1.2.0",
      "model_name": "HTMLModel",
      "state": {
       "layout": "IPY_MODEL_fd51c5c9d9f746f48f3866885bc8cc4f",
       "style": "IPY_MODEL_b6762a3c450d43d9a973ccad57ecef37",
       "value": "<i>Markieren Sie <ins>alle</ins> passenden Antworten: </i>"
      }
     },
     "f9f45320867a4436a71da5cb4c192130": {
      "model_module": "@jupyter-widgets/controls",
      "model_module_version": "1.2.0",
      "model_name": "DescriptionStyleModel",
      "state": {
       "description_width": "initial"
      }
     },
     "fad802b6e26d4b409c929b53be0f73b8": {
      "model_module": "@jupyter-widgets/controls",
      "model_module_version": "1.2.0",
      "model_name": "DescriptionStyleModel",
      "state": {
       "description_width": ""
      }
     },
     "faef21a5b402428fa3a930699319ebc4": {
      "model_module": "@jupyter-widgets/controls",
      "model_module_version": "1.2.0",
      "model_name": "ButtonModel",
      "state": {
       "description": "Wortstruktur",
       "layout": "IPY_MODEL_bc3491dd150c4a1ba01ee903af26f4db",
       "style": "IPY_MODEL_1f67b9826b114005a70934eff4a12f64"
      }
     },
     "fb03af33f3b6412baca2bf34fd9444c6": {
      "model_module": "@jupyter-widgets/controls",
      "model_module_version": "1.2.0",
      "model_name": "ButtonModel",
      "state": {
       "description": "Korrekt?",
       "layout": "IPY_MODEL_3dc5fd05b1504a0eb5e26aae66d4b56a",
       "style": "IPY_MODEL_4ed9b41e683a41518eee934e03715ad5"
      }
     },
     "fb23120810294974834fb3bb274398a0": {
      "model_module": "@jupyter-widgets/controls",
      "model_module_version": "1.2.0",
      "model_name": "CheckboxModel",
      "state": {
       "description": "Satzebene",
       "disabled": false,
       "layout": "IPY_MODEL_7b8ab72e76224eaba28e26aa91c1aba1",
       "style": "IPY_MODEL_3fc31c7fd19444a3a46dec69c446d4c5",
       "value": false
      }
     },
     "fb2d4f4cb8044373ae7f69221fc0f70a": {
      "model_module": "@jupyter-widgets/base",
      "model_module_version": "1.0.0",
      "model_name": "LayoutModel",
      "state": {}
     },
     "fb3a94f9362d4f2dae068a2212090ce3": {
      "model_module": "@jupyter-widgets/controls",
      "model_module_version": "1.2.0",
      "model_name": "DescriptionStyleModel",
      "state": {
       "description_width": "initial"
      }
     },
     "fb63b7a7ab1547fd8636d81ff6c73a46": {
      "model_module": "@jupyter-widgets/base",
      "model_module_version": "1.0.0",
      "model_name": "LayoutModel",
      "state": {
       "width": "250px"
      }
     },
     "fb7cc35a42bb452e94cdc0af1869bfb3": {
      "model_module": "@jupyter-widgets/controls",
      "model_module_version": "1.2.0",
      "model_name": "ButtonModel",
      "state": {
       "description": "Korrekt?",
       "layout": "IPY_MODEL_306b960c964e4d81982c5d407f529748",
       "style": "IPY_MODEL_85f8984ef7174a34ad2a234fe4ae750e"
      }
     },
     "fb854700454a47b086c731951f1546de": {
      "model_module": "@jupyter-widgets/controls",
      "model_module_version": "1.2.0",
      "model_name": "VBoxModel",
      "state": {
       "children": [
        "IPY_MODEL_96975f2490d6420995a96b84d8aa3776",
        "IPY_MODEL_02ef5018a3654ba1912ee2e5ca9e7949",
        "IPY_MODEL_def83cd71f5d4cadb905ca30a04bf21f",
        "IPY_MODEL_33e4fe37c1cd4ecf9aa90214e2b789e3"
       ],
       "layout": "IPY_MODEL_aa13c05c96444851903497938dc28954"
      }
     },
     "fb9eaf34696346f0905004264db0d984": {
      "model_module": "@jupyter-widgets/controls",
      "model_module_version": "1.2.0",
      "model_name": "ButtonStyleModel",
      "state": {}
     },
     "fbb73bbb9bb54ca39b5d91a94dbf3d65": {
      "model_module": "@jupyter-widgets/controls",
      "model_module_version": "1.2.0",
      "model_name": "DescriptionStyleModel",
      "state": {
       "description_width": ""
      }
     },
     "fbb7470e56454202960474812d548c59": {
      "model_module": "@jupyter-widgets/base",
      "model_module_version": "1.0.0",
      "model_name": "LayoutModel",
      "state": {
       "justify_content": "center"
      }
     },
     "fbc6fd97411f485a8449c480a5c27b7e": {
      "model_module": "@jupyter-widgets/controls",
      "model_module_version": "1.2.0",
      "model_name": "CheckboxModel",
      "state": {
       "description": "Verbalphrase",
       "disabled": false,
       "layout": "IPY_MODEL_31d9a7b0bc674fde802e7db26a3f2e33",
       "style": "IPY_MODEL_b036192fa32c44a09f463326f7f67ee0",
       "value": false
      }
     },
     "fbe4f8908c5f4dca89a7e9e0244169b3": {
      "model_module": "@jupyter-widgets/controls",
      "model_module_version": "1.2.0",
      "model_name": "HTMLModel",
      "state": {
       "layout": "IPY_MODEL_d808347269854096894561250be552be",
       "style": "IPY_MODEL_d2b717ddf2c3419880e5232689f7ec12",
       "value": "<i>Vervollständigen Sie den Lückentext: </i>"
      }
     },
     "fbf759d75d8444fa81569e0efcbd8327": {
      "model_module": "@jupyter-widgets/base",
      "model_module_version": "1.0.0",
      "model_name": "LayoutModel",
      "state": {
       "justify_content": "center"
      }
     },
     "fc05074f8ff845a2b18a5a75c46df512": {
      "model_module": "@jupyter-widgets/controls",
      "model_module_version": "1.2.0",
      "model_name": "VBoxModel",
      "state": {
       "children": [
        "IPY_MODEL_f31a7a93588a48c29f32b1597e46d64c",
        "IPY_MODEL_240a7150c3fe4e5a86f35987d322e9ef",
        "IPY_MODEL_8bc39aa79fbd4ad3bd4690a2978d4b94",
        "IPY_MODEL_3618ebf98ff34a769f15e08a14aee167"
       ],
       "layout": "IPY_MODEL_f624a14e437e4108868b4d96003fb159"
      }
     },
     "fc12fdf68c374e3a9f354b0e77a67169": {
      "model_module": "@jupyter-widgets/controls",
      "model_module_version": "1.2.0",
      "model_name": "HBoxModel",
      "state": {
       "children": [
        "IPY_MODEL_a42a7871840c4fee88b22fd85831cc1a",
        "IPY_MODEL_05a71a705cfb4446a66f0dd97bcd58fc"
       ],
       "layout": "IPY_MODEL_1aa6b286558943b8a5cd6997e825d75d"
      }
     },
     "fc82d52cee9c46909b444db227d9452f": {
      "model_module": "@jupyter-widgets/controls",
      "model_module_version": "1.2.0",
      "model_name": "HBoxModel",
      "state": {
       "children": [
        "IPY_MODEL_cf8f82d9cc8644a5a40750aa68c9de45",
        "IPY_MODEL_cde0f00bba004c878c6e24d8c122380d"
       ],
       "layout": "IPY_MODEL_3112a701d7ab43ed9de1409d43202bb1"
      }
     },
     "fcc6ef917ab244e1a61bd37cb8368219": {
      "model_module": "@jupyter-widgets/base",
      "model_module_version": "1.0.0",
      "model_name": "LayoutModel",
      "state": {
       "width": "250px"
      }
     },
     "fcd75f41dc2747ad86fde27f9782ef75": {
      "model_module": "@jupyter-widgets/controls",
      "model_module_version": "1.2.0",
      "model_name": "HBoxModel",
      "state": {
       "children": [
        "IPY_MODEL_3700065308174d81b1a747e5352b1a70"
       ],
       "layout": "IPY_MODEL_e32d9f1a6543481bbed331e8f316bf28"
      }
     },
     "fce809a3839a4dfbbfe37a9729017072": {
      "model_module": "@jupyter-widgets/controls",
      "model_module_version": "1.2.0",
      "model_name": "ButtonModel",
      "state": {
       "description": "Strukturelle Ambiguität",
       "layout": "IPY_MODEL_76f6cc9af7964e6893a543a954f0398d",
       "style": "IPY_MODEL_f964b6cfbdc74d03969c253c4194b29b"
      }
     },
     "fcf131833f794a9c8e39b455f6095abc": {
      "model_module": "@jupyter-widgets/controls",
      "model_module_version": "1.2.0",
      "model_name": "CheckboxModel",
      "state": {
       "description": "semantische",
       "disabled": false,
       "layout": "IPY_MODEL_cd54b05c341d42c7a4ac1204c2293ee4",
       "style": "IPY_MODEL_e6847e36d5b742b58cd43be153d903d7",
       "value": false
      }
     },
     "fcfb3d8cd5c4461a85a8b46576c2e0f5": {
      "model_module": "@jupyter-widgets/controls",
      "model_module_version": "1.2.0",
      "model_name": "HTMLModel",
      "state": {
       "layout": "IPY_MODEL_85ada8d7bd15417ba666edf021f31524",
       "style": "IPY_MODEL_9b189952c787489e980b91c70c0ac300",
       "value": "<i>Markieren Sie <ins>alle</ins> passenden Antworten: </i>"
      }
     },
     "fd406862e8694d3f8f1ee3cd317884b5": {
      "model_module": "@jupyter-widgets/base",
      "model_module_version": "1.0.0",
      "model_name": "LayoutModel",
      "state": {}
     },
     "fd40bc713a734034b594d9b57a3e3a5a": {
      "model_module": "@jupyter-widgets/base",
      "model_module_version": "1.0.0",
      "model_name": "LayoutModel",
      "state": {}
     },
     "fd4aea6fed8b4eeb8ee241fa3375223a": {
      "model_module": "@jupyter-widgets/controls",
      "model_module_version": "1.2.0",
      "model_name": "DescriptionStyleModel",
      "state": {
       "description_width": ""
      }
     },
     "fd51c5c9d9f746f48f3866885bc8cc4f": {
      "model_module": "@jupyter-widgets/base",
      "model_module_version": "1.0.0",
      "model_name": "LayoutModel",
      "state": {
       "justify_content": "center"
      }
     },
     "fdd88ba746b246c2b12887555ca0c69c": {
      "model_module": "@jupyter-widgets/base",
      "model_module_version": "1.0.0",
      "model_name": "LayoutModel",
      "state": {}
     },
     "fdf15b2e689b481689847e5991669955": {
      "model_module": "@jupyter-widgets/controls",
      "model_module_version": "1.2.0",
      "model_name": "ButtonStyleModel",
      "state": {}
     },
     "fe01a14402424a0189b505afc87cb7e7": {
      "model_module": "@jupyter-widgets/controls",
      "model_module_version": "1.2.0",
      "model_name": "CheckboxModel",
      "state": {
       "description": "Morphemebene",
       "disabled": false,
       "layout": "IPY_MODEL_dc305af3a8034f0c88e10693c4961ab4",
       "style": "IPY_MODEL_adca18d50ebf425bad8cbbabd07e89db",
       "value": false
      }
     },
     "fe1f834fde5b4ffc9b14ac37d8f4a911": {
      "model_module": "@jupyter-widgets/controls",
      "model_module_version": "1.2.0",
      "model_name": "ButtonStyleModel",
      "state": {}
     },
     "fe6a156d1fec4e9ea5a5a7edcb2dee77": {
      "model_module": "@jupyter-widgets/controls",
      "model_module_version": "1.2.0",
      "model_name": "VBoxModel",
      "state": {
       "children": [
        "IPY_MODEL_07328ea108794e499405a9d69a382ffe",
        "IPY_MODEL_04ba59675abd491e9aa77360a5aa5c0b",
        "IPY_MODEL_8deb3926b18a42298276b41ed23eae60",
        "IPY_MODEL_10c61940e18d417ca6b7c92e19df1c2b",
        "IPY_MODEL_41435302563046108fe0c15bfe378952"
       ],
       "layout": "IPY_MODEL_861763486d4e4190b5cf1e67aec169c3"
      }
     },
     "fe8cd05c545b42af90aa05fb581ed756": {
      "model_module": "@jupyter-widgets/controls",
      "model_module_version": "1.2.0",
      "model_name": "ButtonModel",
      "state": {
       "description": "Keine der anderen Möglichkeiten",
       "layout": "IPY_MODEL_de44c836b19640a7a3a22c0c5b51083c",
       "style": "IPY_MODEL_379acf9df990486ca784cbfb01c3e0cb"
      }
     },
     "feae297c1dca4a4f8fc93ba949504d22": {
      "model_module": "@jupyter-widgets/controls",
      "model_module_version": "1.2.0",
      "model_name": "VBoxModel",
      "state": {
       "children": [
        "IPY_MODEL_c08109d858cf4e2299386cb189fe9dcb",
        "IPY_MODEL_18fab6b3d7724abeb29fc359dba6a55c",
        "IPY_MODEL_fc12fdf68c374e3a9f354b0e77a67169",
        "IPY_MODEL_47206dfdb8e64267a164ba08c75995d9",
        "IPY_MODEL_8adc3637fc1e41c59c590399577bbaa5"
       ],
       "layout": "IPY_MODEL_7cd9c60377a143919d11708ffa24e0a3"
      }
     },
     "fec0e83b9f2543b2ae70fa03d36cbaf5": {
      "model_module": "@jupyter-widgets/controls",
      "model_module_version": "1.2.0",
      "model_name": "HTMLModel",
      "state": {
       "layout": "IPY_MODEL_61687e063e164b32a6147de4168667c6",
       "style": "IPY_MODEL_81afef7192bc40b6a234477e306d2694",
       "value": "<i>Markieren Sie <ins>alle</ins> passenden Antworten: </i>"
      }
     },
     "ff4e649860a847acae535e8ab23329f8": {
      "model_module": "@jupyter-widgets/controls",
      "model_module_version": "1.2.0",
      "model_name": "DescriptionStyleModel",
      "state": {
       "description_width": ""
      }
     },
     "ff77445b4cf249df8f511fa66b2cad7d": {
      "model_module": "@jupyter-widgets/controls",
      "model_module_version": "1.2.0",
      "model_name": "CheckboxModel",
      "state": {
       "description": "Syntaxbaum",
       "disabled": false,
       "layout": "IPY_MODEL_45eef451ec1d439d84f650bc82dff91f",
       "style": "IPY_MODEL_d550e613690945e89df37307b2ad9086",
       "value": false
      }
     },
     "ff796ce5cde848a29b02ce56277a9744": {
      "model_module": "@jupyter-widgets/controls",
      "model_module_version": "1.2.0",
      "model_name": "DescriptionStyleModel",
      "state": {
       "description_width": ""
      }
     },
     "ff7f3110f55c44af89955c5eec8cd954": {
      "model_module": "@jupyter-widgets/controls",
      "model_module_version": "1.2.0",
      "model_name": "HTMLModel",
      "state": {
       "layout": "IPY_MODEL_acdb0cdaf92d40c792ac5301f2bb4fcb",
       "style": "IPY_MODEL_e0ed61669c994a98b80a1010359b1fb4",
       "value": "<i>Wählen Sie die <ins>eine</ins> korrekte Antwort aus: </i>"
      }
     },
     "ffb9984c851c4033b0953495856e7247": {
      "model_module": "@jupyter-widgets/base",
      "model_module_version": "1.0.0",
      "model_name": "LayoutModel",
      "state": {}
     },
     "ffdc25446e1b4d9bb6cf62759532de2a": {
      "model_module": "@jupyter-widgets/base",
      "model_module_version": "1.0.0",
      "model_name": "LayoutModel",
      "state": {
       "width": "600px"
      }
     }
    },
    "version_major": 2,
    "version_minor": 0
   }
  }
 },
 "nbformat": 4,
 "nbformat_minor": 2
}
