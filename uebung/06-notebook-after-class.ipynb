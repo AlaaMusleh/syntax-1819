{
 "cells": [
  {
   "cell_type": "markdown",
   "metadata": {
    "slideshow": {
     "slide_type": "slide"
    }
   },
   "source": [
    "***Vorlesung 'Syntax natürlicher Sprachen', WS 2018/19***\n",
    "\n",
    "---\n",
    "# Übung 6"
   ]
  },
  {
   "cell_type": "code",
   "execution_count": 1,
   "metadata": {
    "slideshow": {
     "slide_type": "fragment"
    }
   },
   "outputs": [],
   "source": [
    "from exercises_6 import *\n",
    "from questions import aufgabe\n",
    "from nltk.tree import Tree\n",
    "from nltk import FeatStruct\n",
    "from sklearn.metrics import accuracy_score"
   ]
  },
  {
   "cell_type": "markdown",
   "metadata": {
    "slideshow": {
     "slide_type": "slide"
    }
   },
   "source": [
    "---\n",
    "## Aufgabe 1: Kongruenz 1.0\n",
    "#### Betrachten Sie die folgenden Sätze. Offensichtlich besteht zwischen Artikel und Nomen einer Nominalphrase Kongruenz im Genus.\n",
    "####  Nutzen Sie Merkmalstrukturen in einem Python-Skript zur Überprüfung dieser Kongruenz. Ihr Skript sollte alle untenstehenden Beispiele korrekt als grammatisch/ungrammatisch klassifizieren können."
   ]
  },
  {
   "cell_type": "markdown",
   "metadata": {
    "slideshow": {
     "slide_type": "subslide"
    }
   },
   "source": [
    "  \n",
    "1. - *Der Löffel ist aus Silber.*\n",
    "   - *&ast; Der Gabel ist aus Silber.*\n",
    "   - *&ast; Der Messer ist aus Silber.* <p>\n",
    "    \n",
    "2. - *&ast; Die Löffel ist aus Silber.* \n",
    "   - *Die Gabel ist aus Silber.*\n",
    "   - *&ast; Die Messer ist aus Silber.* <p>\n",
    "   \n",
    "3. - *&ast; Das Löffel ist aus Silber.*\n",
    "   - *&ast; Das Gabel ist aus Silber.*\n",
    "   - *Das Messer ist aus Silber.*"
   ]
  },
  {
   "cell_type": "code",
   "execution_count": 2,
   "metadata": {
    "slideshow": {
     "slide_type": "subslide"
    }
   },
   "outputs": [],
   "source": [
    "test_cases = [\n",
    "    (det, noun)\n",
    "    for det in [\"der\", \"die\", \"das\"]\n",
    "    for noun in [\"Löffel\", \"Gabel\", \"Messer\"]\n",
    "]\n",
    "truth = [\n",
    "    True, False, False,\n",
    "    False, True, False,\n",
    "    False, False, True\n",
    "]"
   ]
  },
  {
   "cell_type": "code",
   "execution_count": 3,
   "metadata": {
    "slideshow": {
     "slide_type": "fragment"
    }
   },
   "outputs": [
    {
     "data": {
      "text/plain": [
       "[('der', 'Löffel'),\n",
       " ('der', 'Gabel'),\n",
       " ('der', 'Messer'),\n",
       " ('die', 'Löffel'),\n",
       " ('die', 'Gabel'),\n",
       " ('die', 'Messer'),\n",
       " ('das', 'Löffel'),\n",
       " ('das', 'Gabel'),\n",
       " ('das', 'Messer')]"
      ]
     },
     "execution_count": 3,
     "metadata": {},
     "output_type": "execute_result"
    }
   ],
   "source": [
    "test_cases"
   ]
  },
  {
   "cell_type": "code",
   "execution_count": 8,
   "metadata": {
    "slideshow": {
     "slide_type": "subslide"
    }
   },
   "outputs": [],
   "source": [
    "lexicon = {\n",
    "    \"der\": FeatStruct(GEN=\"mask\"),\n",
    "    \"die\": FeatStruct(GEN=\"fem\"),\n",
    "    \"das\": FeatStruct(GEN=\"neutr\"),\n",
    "    \"Messer\": FeatStruct(CAT=\"N\", GEN=\"neutr\"),\n",
    "    \"Gabel\": FeatStruct(CAT=\"N\", GEN=\"fem\"),\n",
    "    \"Löffel\": FeatStruct(CAT=\"N\", GEN=\"mask\")\n",
    "}\n",
    "\n",
    "def is_correct(det, noun):\n",
    "    # return lexicon[det] == lexicon[noun]\n",
    "    return lexicon[det].unify(lexicon[noun]) is not None"
   ]
  },
  {
   "cell_type": "code",
   "execution_count": 12,
   "metadata": {},
   "outputs": [
    {
     "data": {
      "text/plain": [
       "[CAT='N', GEN='mask']"
      ]
     },
     "execution_count": 12,
     "metadata": {},
     "output_type": "execute_result"
    }
   ],
   "source": [
    "lexicon[\"der\"].unify(lexicon[\"Löffel\"])"
   ]
  },
  {
   "cell_type": "code",
   "execution_count": 9,
   "metadata": {
    "scrolled": true,
    "slideshow": {
     "slide_type": "subslide"
    }
   },
   "outputs": [
    {
     "name": "stdout",
     "output_type": "stream",
     "text": [
      "Accuracy: 100.00 %\n"
     ]
    }
   ],
   "source": [
    "# Evaluation\n",
    "pred = []\n",
    "for nomPhr in test_cases:\n",
    "    pred.append(is_correct(*nomPhr))\n",
    "\n",
    "print(\"Accuracy: {:.2f} %\".format(accuracy_score(truth, pred)*100))"
   ]
  },
  {
   "cell_type": "markdown",
   "metadata": {
    "slideshow": {
     "slide_type": "slide"
    }
   },
   "source": [
    "---\n",
    "## Aufgabe 2: Semantische Merkmalstrukturen\n",
    "#### Implementieren Sie die folgenden Merkmalstrukturen als `nltk.FeatStruct` und schreiben Sie ein Programm, das für einen gegebenen Satz die richtige Merkmalstruktur aus dem Lexikon auswählt und die Lücken für Subjekt und Objekt des Satzes füllt. Geben Sie anschließend die vollständige Merkmalstruktur auf der Standardausgabe aus."
   ]
  },
  {
   "cell_type": "markdown",
   "metadata": {
    "slideshow": {
     "slide_type": "subslide"
    }
   },
   "source": [
    "$$\n",
    "\\left [ % draw the opening left bracket\n",
    "\\begin{array}{ll}   % begin a two column array\n",
    "   CAT & V \\\\\n",
    "   ORTH & \\text{folgt} \\\\\n",
    "   SYN &  \\left  [ \\begin{array}{ll}\n",
    "                        SBJ & \\boxed{1}\\\\\n",
    "                        OBJ & \\boxed{2} \\\\     \n",
    "                    \\end{array} \n",
    "           \\right  ]  \\\\\n",
    "   SEM   & \\left [ \\begin{array}{ll}\n",
    "                          AGT & \\boxed{1} \\\\\n",
    "                          PAT & \\boxed{2} \\\\\n",
    "                   \\end{array}\n",
    "           \\right ]\n",
    "\\end{array} % end the outer array\n",
    "\\right ]    % closing right bracket\n",
    "~~~~~~~~~~\n",
    "\\left [ % draw the opening left bracket\n",
    "\\begin{array}{ll}   % begin a two column array\n",
    "   CAT & V \\\\\n",
    "   ORTH & \\text{überraschte} \\\\\n",
    "   SYN &  \\left  [ \\begin{array}{ll}\n",
    "                        SBJ & \\boxed{1}\\\\\n",
    "                        OBJ & \\boxed{2} \\\\     \n",
    "                    \\end{array} \n",
    "           \\right  ]  \\\\\n",
    "   SEM   & \\left [ \\begin{array}{ll}\n",
    "                          SRC & \\boxed{1} \\\\\n",
    "                          EXP & \\boxed{2} \\\\\n",
    "                   \\end{array}\n",
    "           \\right ]\n",
    "\\end{array} % end the outer array\n",
    "\\right ]    % closing right bracket\n",
    "$$"
   ]
  },
  {
   "cell_type": "markdown",
   "metadata": {
    "slideshow": {
     "slide_type": "subslide"
    }
   },
   "source": [
    "#### _Anmerkung_: Sie dürfen annehmen, dass  wir es nur mit sehr einfachen Sätzen zu tun haben, in denen das Token direkt vor dem Verb dem Subjekt und das Token direkt danach dem Objekt entspricht.\n",
    "\n",
    "#### Testen Sie Ihr Programm mit den folgenden Sätzen:"
   ]
  },
  {
   "cell_type": "code",
   "execution_count": 13,
   "metadata": {
    "slideshow": {
     "slide_type": "fragment"
    }
   },
   "outputs": [],
   "source": [
    "sentences = [\n",
    "   \"@ARTEde folgt Dir jetzt!\",\n",
    "   \"Das überraschte mich doch sehr!\",\n",
    "   \"Wer folgt wem auf Twitter?\",\n",
    "   \"John überraschte Jane mit einer richtigen Antwort.\" \n",
    "]"
   ]
  },
  {
   "cell_type": "code",
   "execution_count": 27,
   "metadata": {
    "slideshow": {
     "slide_type": "subslide"
    }
   },
   "outputs": [],
   "source": [
    "lexicon = {\n",
    "    \"folgt\": FeatStruct(\"[CAT=V, ORTH=folgt,\"+\n",
    "                        \"SYN=[SBJ=?x, OBJ=?y],\"+\n",
    "                        \"SEM=[AGT=?x, PAT=?y]]\"\n",
    "                       ),\n",
    "    \"überraschte\": FeatStruct(\"[CAT=V, ORTH=ueberraschte,\"+\n",
    "                        \"SYN=[SBJ=?x, OBJ=?y],\"+\n",
    "                        \"SEM=[SRC=?x, EXP=?y]]\"\n",
    "                             )\n",
    "}"
   ]
  },
  {
   "cell_type": "code",
   "execution_count": 31,
   "metadata": {
    "slideshow": {
     "slide_type": "subslide"
    }
   },
   "outputs": [],
   "source": [
    "import nltk\n",
    "\n",
    "#  In: sentence as a string\n",
    "# Out: semantic feature structure\n",
    "def semantic_parse(sentence):\n",
    "    tokens = nltk.word_tokenize(sentence)\n",
    "    for idx, token in enumerate(tokens):\n",
    "        # gucken wo verb steht\n",
    "        if token in lexicon:\n",
    "            # verb-1 als subjekt, verb+1 als objekt\n",
    "            sbj = tokens[idx-1]\n",
    "            obj = tokens[idx+1]\n",
    "            return lexicon[token].unify(\n",
    "                FeatStruct(SYN=FeatStruct(SBJ=sbj, OBJ=obj))\n",
    "            )"
   ]
  },
  {
   "cell_type": "code",
   "execution_count": 32,
   "metadata": {
    "slideshow": {
     "slide_type": "subslide"
    }
   },
   "outputs": [
    {
     "name": "stdout",
     "output_type": "stream",
     "text": [
      "\n",
      "@ARTEde folgt Dir jetzt!\n",
      "[ CAT  = 'V'                ]\n",
      "[ ORTH = 'folgt'            ]\n",
      "[                           ]\n",
      "[ SEM  = [ AGT = 'ARTEde' ] ]\n",
      "[        [ PAT = 'Dir'    ] ]\n",
      "[                           ]\n",
      "[ SYN  = [ OBJ = 'Dir'    ] ]\n",
      "[        [ SBJ = 'ARTEde' ] ]\n",
      "\n",
      "Das überraschte mich doch sehr!\n",
      "[ CAT  = 'V'              ]\n",
      "[ ORTH = 'ueberraschte'   ]\n",
      "[                         ]\n",
      "[ SEM  = [ EXP = 'mich' ] ]\n",
      "[        [ SRC = 'Das'  ] ]\n",
      "[                         ]\n",
      "[ SYN  = [ OBJ = 'mich' ] ]\n",
      "[        [ SBJ = 'Das'  ] ]\n",
      "\n",
      "Wer folgt wem auf Twitter?\n",
      "[ CAT  = 'V'             ]\n",
      "[ ORTH = 'folgt'         ]\n",
      "[                        ]\n",
      "[ SEM  = [ AGT = 'Wer' ] ]\n",
      "[        [ PAT = 'wem' ] ]\n",
      "[                        ]\n",
      "[ SYN  = [ OBJ = 'wem' ] ]\n",
      "[        [ SBJ = 'Wer' ] ]\n",
      "\n",
      "John überraschte Jane mit einer richtigen Antwort.\n",
      "[ CAT  = 'V'              ]\n",
      "[ ORTH = 'ueberraschte'   ]\n",
      "[                         ]\n",
      "[ SEM  = [ EXP = 'Jane' ] ]\n",
      "[        [ SRC = 'John' ] ]\n",
      "[                         ]\n",
      "[ SYN  = [ OBJ = 'Jane' ] ]\n",
      "[        [ SBJ = 'John' ] ]\n"
     ]
    }
   ],
   "source": [
    "for sent in sentences:\n",
    "    fs = semantic_parse(sent)\n",
    "    print()\n",
    "    print(sent)\n",
    "    print(fs)"
   ]
  },
  {
   "cell_type": "markdown",
   "metadata": {
    "slideshow": {
     "slide_type": "slide"
    }
   },
   "source": [
    "---\n",
    "## Aufgabe 3: Adjektivdeklination\n",
    "\n",
    "#### Die Adjektivdeklination im Deutschen bereitet vielen Deutschlernern Schwierigkeiten. Stellen Sie sich vor, Sie wollten einem Deutschlerner plausibel machen, dass die Adjektivdeklination keine reine Willkür ist.\n",
    "\n",
    "#### Wählen Sie zur Illustration *das alte Bier* und *altes Bier*, und deklinieren Sie diese Nominalphrasen in allen vier Kasus.\n",
    "\n",
    "#### Auf welche Gesetzmäßigkeiten würden Sie hinweisen? \n",
    "\n",
    "#### Beantworten Sie auch die folgenden Fragen!"
   ]
  },
  {
   "cell_type": "markdown",
   "metadata": {
    "slideshow": {
     "slide_type": "subslide"
    }
   },
   "source": [
    "| Nominativ | altes Bier | das alte Bier\n",
    "| ---------- | ----------------- | ----------------- | \n",
    "| Genitiv | alten Biers | des alten Biers | \n",
    "| Dativ | altem Bier | dem alten Bier | \n",
    "| Akkusativ | altes Bier | das alte Bier |"
   ]
  },
  {
   "cell_type": "code",
   "execution_count": 33,
   "metadata": {
    "scrolled": false,
    "slideshow": {
     "slide_type": "subslide"
    }
   },
   "outputs": [
    {
     "data": {
      "application/vnd.jupyter.widget-view+json": {
       "model_id": "77ae296ead6040a384ed089f4cd714cc",
       "version_major": 2,
       "version_minor": 0
      },
      "text/plain": [
       "SingleChoice(children=(HTML(value='<h4 style=\"font-size:14px;\">Wie wird die Deklination der Nominalphrase <i>a…"
      ]
     },
     "metadata": {},
     "output_type": "display_data"
    },
    {
     "data": {
      "application/vnd.jupyter.widget-view+json": {
       "model_id": "0fb995c32a9e42aebc8d5d8cbdc486f8",
       "version_major": 2,
       "version_minor": 0
      },
      "text/plain": [
       "SingleChoice(children=(HTML(value='<h4 style=\"font-size:14px;\">Wie wird die Deklination der Nominalphrase <i>d…"
      ]
     },
     "metadata": {},
     "output_type": "display_data"
    },
    {
     "data": {
      "application/vnd.jupyter.widget-view+json": {
       "model_id": "feae216a628d4777a3b3df66e20265b7",
       "version_major": 2,
       "version_minor": 0
      },
      "text/plain": [
       "SingleChoice(children=(HTML(value='<h4 style=\"font-size:14px;\">Für die Deklination ist hier relevant, ob das A…"
      ]
     },
     "metadata": {},
     "output_type": "display_data"
    },
    {
     "data": {
      "application/vnd.jupyter.widget-view+json": {
       "model_id": "6eb11dc6fe4349058d67efeec1a10d4f",
       "version_major": 2,
       "version_minor": 0
      },
      "text/plain": [
       "MultipleChoice(children=(HTML(value='<h4 style=\"font-size:14px;\">Welche Aussagen über Adjektive stimmen?</h4>'…"
      ]
     },
     "metadata": {},
     "output_type": "display_data"
    },
    {
     "data": {
      "application/vnd.jupyter.widget-view+json": {
       "model_id": "05352a7bf53549b1a613ac60da56fd2b",
       "version_major": 2,
       "version_minor": 0
      },
      "text/plain": [
       "MultipleChoice(children=(HTML(value='<h4 style=\"font-size:14px;\">Welche Aussagen gelten für Nominalphrasen mit…"
      ]
     },
     "metadata": {},
     "output_type": "display_data"
    },
    {
     "data": {
      "application/vnd.jupyter.widget-view+json": {
       "model_id": "e5d02d12a7e84d8f816ccd68c39e8f0a",
       "version_major": 2,
       "version_minor": 0
      },
      "text/plain": [
       "MultipleChoice(children=(HTML(value='<h4 style=\"font-size:14px;\">Welche Aussagen gelten für den Fall, dass das…"
      ]
     },
     "metadata": {},
     "output_type": "display_data"
    }
   ],
   "source": [
    "aufgabe(blatt6_3)"
   ]
  },
  {
   "cell_type": "markdown",
   "metadata": {
    "slideshow": {
     "slide_type": "slide"
    }
   },
   "source": [
    "---\n",
    "## Aufgabe 4: Diathesen\n",
    "\n",
    "#### Erläutern Sie, welche syntaktischen und welche kommunikativ-funktionalen Unterschiede zwischen den folgenden beiden Sätzen bestehen.\n",
    "\n",
    "- *Hausmeister Meier ruft die Feuerwehr an.*\n",
    "- *Die Feuerwehr wird von Hausmeister Meier angerufen.*\n",
    "\n",
    "#### Beantworten Sie auch die folgenden Fragen."
   ]
  },
  {
   "cell_type": "code",
   "execution_count": 34,
   "metadata": {
    "slideshow": {
     "slide_type": "subslide"
    }
   },
   "outputs": [
    {
     "data": {
      "application/vnd.jupyter.widget-view+json": {
       "model_id": "5fca56bdfe354605a505bfcef1d82246",
       "version_major": 2,
       "version_minor": 0
      },
      "text/plain": [
       "SingleChoice(children=(HTML(value='<h4 style=\"font-size:14px;\">Schildern beide Sätze denselben Sachverhalt?</h…"
      ]
     },
     "metadata": {},
     "output_type": "display_data"
    },
    {
     "data": {
      "application/vnd.jupyter.widget-view+json": {
       "model_id": "042eae478a054fb5bdeb3fde6ca2499b",
       "version_major": 2,
       "version_minor": 0
      },
      "text/plain": [
       "MultipleChoice(children=(HTML(value='<h4 style=\"font-size:14px;\">Welche syntaktischen Unterschiede bestehen?</…"
      ]
     },
     "metadata": {},
     "output_type": "display_data"
    },
    {
     "data": {
      "application/vnd.jupyter.widget-view+json": {
       "model_id": "3b26b19327a849f1a6301b26185a6aa3",
       "version_major": 2,
       "version_minor": 0
      },
      "text/plain": [
       "MultipleChoice(children=(HTML(value='<h4 style=\"font-size:14px;\">Welche kommunikativ-funktionalen Unterschiede…"
      ]
     },
     "metadata": {},
     "output_type": "display_data"
    }
   ],
   "source": [
    "aufgabe(blatt6_4)"
   ]
  },
  {
   "cell_type": "markdown",
   "metadata": {
    "slideshow": {
     "slide_type": "slide"
    }
   },
   "source": [
    "---\n",
    "## Aufgabe 5: Semantische Hierarchie\n",
    "\n",
    "#### Vergleichen Sie die folgenden beiden Sätze:\n",
    "- *Peter zerreißt Paul die Hose*\n",
    "- *Die Hose zerreißt*\n",
    "\n",
    "#### Wie kann im Rahmen einer funktionalen Syntaxtheorie (vgl. die semantische Hierarchie <code> Ag > Pat > Rec > Ben > Instr > Loc > Time </code>) erklärt werden, dass hier im Subjekt jeweils eine andere semantische Funktion/Rolle steht?\n",
    "\n",
    "#### Beantworten Sie die folgenden Fragen."
   ]
  },
  {
   "cell_type": "code",
   "execution_count": 35,
   "metadata": {
    "slideshow": {
     "slide_type": "subslide"
    }
   },
   "outputs": [
    {
     "data": {
      "application/vnd.jupyter.widget-view+json": {
       "model_id": "9e89586baee8453abbc6ab009c61a972",
       "version_major": 2,
       "version_minor": 0
      },
      "text/plain": [
       "SingleChoice(children=(HTML(value='<h4 style=\"font-size:14px;\">Was ist der bevorzugte Kandidat zur Realisierun…"
      ]
     },
     "metadata": {},
     "output_type": "display_data"
    },
    {
     "data": {
      "application/vnd.jupyter.widget-view+json": {
       "model_id": "475705fce8f84d61a3d7487b8420e6a9",
       "version_major": 2,
       "version_minor": 0
      },
      "text/plain": [
       "MultipleChoice(children=(HTML(value='<h4 style=\"font-size:14px;\">Was passiert nach semantischer Hierarchie, we…"
      ]
     },
     "metadata": {},
     "output_type": "display_data"
    },
    {
     "data": {
      "application/vnd.jupyter.widget-view+json": {
       "model_id": "aade5af70ca74773ae4f8a102489e5df",
       "version_major": 2,
       "version_minor": 0
      },
      "text/plain": [
       "SingleChoice(children=(HTML(value='<h4 style=\"font-size:14px;\">Was ist im zweiten Satz das Subjekt?</h4>', lay…"
      ]
     },
     "metadata": {},
     "output_type": "display_data"
    }
   ],
   "source": [
    "aufgabe(blatt6_5)"
   ]
  },
  {
   "cell_type": "markdown",
   "metadata": {
    "slideshow": {
     "slide_type": "slide"
    }
   },
   "source": [
    "---\n",
    "## Aufgabe 6: Topik-Fokus\n",
    "\n",
    "#### Konstruieren Sie einen Satz, in dem die fokussierte Information am Satzanfang steht. Stellen Sie diesen Satz in einen Minimalkontext, um nachzuweisen, dass das satzeinleitende Glied in der Tat im Fokus steht.\n",
    "\n",
    "#### Ihr Satz könnte die Wörter *Affe* und *Tisch* beinhalten."
   ]
  },
  {
   "cell_type": "markdown",
   "metadata": {
    "slideshow": {
     "slide_type": "fragment"
    }
   },
   "source": [
    "Wer sitzt auf dem Tisch?\n",
    "Der Affe sitzt auf dem Tisch."
   ]
  },
  {
   "cell_type": "markdown",
   "metadata": {
    "slideshow": {
     "slide_type": "slide"
    }
   },
   "source": [
    "--- \n",
    "# Hausaufgaben"
   ]
  },
  {
   "cell_type": "markdown",
   "metadata": {
    "slideshow": {
     "slide_type": "slide"
    }
   },
   "source": [
    "---\n",
    "## Aufgabe 7: Kongruenz 2.0\n",
    "\n",
    "#### Wie wir in Aufgabe 1 gesehen haben, besteht zwischen Artikel und Nomen einer Nominalphrase Kongruenz. Durch den Satzkontext haben wir erzwungen, dass Numerus und Kasus der Beispiele immer konstant waren (Singular, Nominativ). Lassen wir diese Einschränkung weg, ergeben sich noch weitere grammatische Kombinationsmöglichkeiten.\n",
    "\n",
    "| - | Messer | Gabel | Löffel\n",
    "| --- | ----------------- | ----------------- | ----------------- |\n",
    "| der | Pl. Gen. | Sg. Gen./Dat. | Sg. Nom./Pl. Gen. |\n",
    "| des | * | * | * |\n",
    "| dem | Sg. Dat. | * | Sg. Dat. |\n",
    "| den | * | * | Sg. Akk. |\n",
    "| die | Pl. Nom./Akk. | Sg. Nom./Akk. | Pl. Nom./Akk. |\n",
    "| das | Sg. Nom./Akk. | * | * |"
   ]
  },
  {
   "cell_type": "markdown",
   "metadata": {
    "slideshow": {
     "slide_type": "subslide"
    }
   },
   "source": [
    "#### Betrachten Sie das folgende mit Merkmalstrukturen implementierte Vollformlexikon. Schreiben Sie darauf aufbauend ein Programm, dass alle 18 Kombinationen aus obenstehender Tabelle als grammatisch oder ungrammatisch klassifiziert und im ersten Fall die unifizierte(n) Merkmalstruktur(en) ausgibt."
   ]
  },
  {
   "cell_type": "code",
   "execution_count": null,
   "metadata": {
    "slideshow": {
     "slide_type": "subslide"
    }
   },
   "outputs": [],
   "source": [
    "lexicon = {\n",
    "    \"Messer\": [\n",
    "        FeatStruct(GEN=\"neu\", NUM=\"sg\", KAS=\"nom\"),\n",
    "        FeatStruct(GEN=\"neu\", NUM=\"sg\", KAS=\"akk\"),\n",
    "        FeatStruct(GEN=\"neu\", NUM=\"sg\", KAS=\"dat\"),\n",
    "        FeatStruct(GEN=\"neu\", NUM=\"pl\", KAS=\"nom\"),\n",
    "        FeatStruct(GEN=\"neu\", NUM=\"pl\", KAS=\"akk\"),\n",
    "        FeatStruct(GEN=\"neu\", NUM=\"pl\", KAS=\"gen\")\n",
    "    ],\n",
    "    \"Gabel\": [FeatStruct(NUM=\"sg\", GEN=\"fem\")],\n",
    "    \"Löffel\": [\n",
    "        FeatStruct(GEN=\"mas\", NUM=\"sg\", KAS=\"nom\"),\n",
    "        FeatStruct(GEN=\"mas\", NUM=\"sg\", KAS=\"akk\"),\n",
    "        FeatStruct(GEN=\"mas\", NUM=\"sg\", KAS=\"dat\"),\n",
    "        FeatStruct(GEN=\"mas\", NUM=\"pl\", KAS=\"nom\"),\n",
    "        FeatStruct(GEN=\"mas\", NUM=\"pl\", KAS=\"akk\"),\n",
    "        FeatStruct(GEN=\"mas\", NUM=\"pl\", KAS=\"gen\"),\n",
    "    ],\n",
    "\n",
    "    \"der\": [\n",
    "        FeatStruct(NUM=\"sg\", GEN=\"mas\", KAS=\"nom\"),\n",
    "        FeatStruct(NUM=\"sg\", GEN=\"fem\", KAS=\"dat\"),\n",
    "        FeatStruct(NUM=\"sg\", GEN=\"fem\", KAS=\"gen\"),\n",
    "        FeatStruct(NUM=\"pl\", KAS=\"gen\")\n",
    "    ],\n",
    "    \"des\": [\n",
    "        FeatStruct(NUM=\"sg\", GEN=\"mas\", KAS=\"gen\"),\n",
    "        FeatStruct(NUM=\"sg\", GEN=\"neu\", KAS=\"gen\")\n",
    "    ],\n",
    "    \"dem\": [\n",
    "        FeatStruct(NUM=\"sg\", GEN=\"mas\", KAS=\"dat\"),\n",
    "        FeatStruct(NUM=\"sg\", GEN=\"neu\", KAS=\"dat\"),\n",
    "    ],\n",
    "    \"den\": [\n",
    "        FeatStruct(NUM=\"sg\", GEN=\"mas\", KAS=\"akk\"),\n",
    "        FeatStruct(NUM=\"pl\", KAS=\"dat\"),\n",
    "    ],\n",
    "    \"die\": [\n",
    "        FeatStruct(NUM=\"sg\", GEN=\"fem\", KAS=\"nom\"),\n",
    "        FeatStruct(NUM=\"sg\", GEN=\"fem\", KAS=\"akk\"),\n",
    "        FeatStruct(NUM=\"pl\", KAS=\"nom\"),\n",
    "        FeatStruct(NUM=\"pl\", KAS=\"akk\")\n",
    "    ],\n",
    "    \"das\": [\n",
    "        FeatStruct(NUM=\"sg\", GEN=\"neu\", KAS=\"nom\"),\n",
    "        FeatStruct(NUM=\"sg\", GEN=\"neu\", KAS=\"akk\"),\n",
    "    ]\n",
    "}"
   ]
  },
  {
   "cell_type": "code",
   "execution_count": null,
   "metadata": {
    "slideshow": {
     "slide_type": "subslide"
    }
   },
   "outputs": [],
   "source": [
    "def predict(artikel, nomen):\n",
    "    return True\n",
    "    # == your code goes here == #"
   ]
  },
  {
   "cell_type": "code",
   "execution_count": null,
   "metadata": {
    "slideshow": {
     "slide_type": "subslide"
    }
   },
   "outputs": [],
   "source": [
    "test_cases = [\n",
    "    (det, noun)\n",
    "    for det in [\"der\", \"des\", \"dem\", \"den\", \"die\", \"das\"]\n",
    "    for noun in [\"Messer\", \"Löffel\", \"Gabel\"]\n",
    "]\n",
    "truth = [\n",
    "    True, True, True,\n",
    "    False, False, False,\n",
    "    True, True, False,\n",
    "    False, True, False,\n",
    "    True, True, True,\n",
    "    True, False, False\n",
    "]\n",
    "\n",
    "predictions = []\n",
    "for artikel, nomen in test_cases:\n",
    "    predictions.append(predict(artikel, nomen))\n",
    "\n",
    "print(\n",
    "    \"Accuracy: {:.0f}%\".format(\n",
    "        accuracy_score(truth, predictions)*100\n",
    "    )\n",
    ")"
   ]
  },
  {
   "cell_type": "markdown",
   "metadata": {
    "slideshow": {
     "slide_type": "slide"
    }
   },
   "source": [
    "---\n",
    "## Aufgabe 8: Deklinationsmuster\n",
    "\n",
    "#### Nach welchem Deklinationsmuster wurde in den folgenden Beispielen das Adjektiv dekliniert?\n",
    "\n",
    "- *du blöder Kerl*\n",
    "- *du dumme Gans*\n",
    "- *du albernes Huhn*\n",
    "\n",
    "#### Beantworten Sie auch die folgenden Fragen."
   ]
  },
  {
   "cell_type": "code",
   "execution_count": null,
   "metadata": {
    "slideshow": {
     "slide_type": "subslide"
    }
   },
   "outputs": [],
   "source": [
    "aufgabe(blatt6_8)"
   ]
  },
  {
   "cell_type": "markdown",
   "metadata": {
    "slideshow": {
     "slide_type": "slide"
    }
   },
   "source": [
    "---\n",
    "## Aufgabe 9: Fragen zu NLTK-Kapitel 9.1\n",
    "\n",
    "#### Lesen Sie das NLTK-Teilkapitel 9.1 (’Grammatical Features’).\n",
    "#### Beantworten Sie insbesondere folgende Fragen:"
   ]
  },
  {
   "cell_type": "markdown",
   "metadata": {
    "slideshow": {
     "slide_type": "subslide"
    }
   },
   "source": [
    "---\n",
    "### Aufgabe 9 a:\n",
    "\n",
    "#### Worin besteht der Unterschied zwischen dem Einsatz von *Features* im POS-Tagging gegenüber dem Einsatz von *Features* in formalen Grammatiken?"
   ]
  },
  {
   "cell_type": "code",
   "execution_count": null,
   "metadata": {
    "slideshow": {
     "slide_type": "fragment"
    }
   },
   "outputs": [],
   "source": [
    "aufgabe(blatt6_9a)"
   ]
  },
  {
   "cell_type": "markdown",
   "metadata": {
    "slideshow": {
     "slide_type": "subslide"
    }
   },
   "source": [
    "---\n",
    "### Aufgabe 9 b:"
   ]
  },
  {
   "cell_type": "code",
   "execution_count": null,
   "metadata": {
    "slideshow": {
     "slide_type": "fragment"
    }
   },
   "outputs": [],
   "source": [
    "aufgabe(blatt6_9b)"
   ]
  },
  {
   "cell_type": "markdown",
   "metadata": {
    "slideshow": {
     "slide_type": "subslide"
    }
   },
   "source": [
    "---\n",
    "### Aufgabe 9 c:"
   ]
  },
  {
   "cell_type": "code",
   "execution_count": null,
   "metadata": {
    "scrolled": true,
    "slideshow": {
     "slide_type": "fragment"
    }
   },
   "outputs": [],
   "source": [
    "aufgabe(blatt6_9c)"
   ]
  },
  {
   "cell_type": "markdown",
   "metadata": {
    "slideshow": {
     "slide_type": "slide"
    }
   },
   "source": [
    "---\n",
    "## Aufgabe 10: Fragen zu NLTK-Kapitel 9.2\n",
    "\n",
    "#### Lesen Sie das NLTK-Teilkapitel 9.2 (’Processing Feature Structures’): http://www.nltk.org/book/ch09.html.\n",
    "\n",
    "#### Beantworten Sie insbesondere folgende Fragen:"
   ]
  },
  {
   "cell_type": "markdown",
   "metadata": {
    "slideshow": {
     "slide_type": "subslide"
    }
   },
   "source": [
    "---\n",
    "### Aufgabe 10 a:\n",
    "#### Welchen Wert hat der feature path <code>(’spouse’, ’address’, ’number’)</code> in (22):(http://www.nltk.org/book/ch09.html#ex-dag03) ? Geben Sie einen zu diesem Pfad äquivalenten Pfad an."
   ]
  },
  {
   "cell_type": "code",
   "execution_count": null,
   "metadata": {
    "slideshow": {
     "slide_type": "subslide"
    }
   },
   "outputs": [],
   "source": [
    "aufgabe(blatt6_10a)"
   ]
  },
  {
   "cell_type": "markdown",
   "metadata": {
    "slideshow": {
     "slide_type": "subslide"
    }
   },
   "source": [
    "---\n",
    "### Aufgabe 10 b:\n",
    "\n",
    "#### Geben Sie zwei linguistische Merkmalstrukturen FS<sub>0</sub> und FS<sub>1</sub> an, die in einer Subsumptionsbeziehung stehen (FS<sub>0</sub> ⊑ FS<sub>1</sub> ). Was kommt nach (26), Kapitel 9.2.1, dabei heraus, wenn man solche zwei Merkmalstrukturen unifiziert?"
   ]
  },
  {
   "cell_type": "code",
   "execution_count": null,
   "metadata": {
    "slideshow": {
     "slide_type": "fragment"
    }
   },
   "outputs": [],
   "source": [
    "aufgabe(blatt6_10b)"
   ]
  },
  {
   "cell_type": "markdown",
   "metadata": {
    "slideshow": {
     "slide_type": "subslide"
    }
   },
   "source": [
    "---\n",
    "### Aufgabe 10 c:\n",
    "\n",
    "#### Geben Sie eine Merkmalstruktur mit einer zu FS<sub>1</sub> inkompatiblen Merkmalsausprägung an."
   ]
  },
  {
   "cell_type": "code",
   "execution_count": null,
   "metadata": {
    "slideshow": {
     "slide_type": "fragment"
    }
   },
   "outputs": [],
   "source": [
    "aufgabe(blatt6_10c)"
   ]
  },
  {
   "cell_type": "markdown",
   "metadata": {
    "slideshow": {
     "slide_type": "subslide"
    }
   },
   "source": [
    "---\n",
    "### Aufgabe 10 d:"
   ]
  },
  {
   "cell_type": "code",
   "execution_count": null,
   "metadata": {
    "slideshow": {
     "slide_type": "fragment"
    }
   },
   "outputs": [],
   "source": [
    "aufgabe(blatt6_10d)"
   ]
  },
  {
   "cell_type": "markdown",
   "metadata": {
    "slideshow": {
     "slide_type": "subslide"
    }
   },
   "source": [
    "---\n",
    "### Aufgabe 10 e:"
   ]
  },
  {
   "cell_type": "code",
   "execution_count": null,
   "metadata": {
    "slideshow": {
     "slide_type": "fragment"
    }
   },
   "outputs": [],
   "source": [
    "aufgabe(blatt6_10e)"
   ]
  }
 ],
 "metadata": {
  "kernelspec": {
   "display_name": "Python 3",
   "language": "python",
   "name": "python3"
  },
  "language_info": {
   "codemirror_mode": {
    "name": "ipython",
    "version": 3
   },
   "file_extension": ".py",
   "mimetype": "text/x-python",
   "name": "python",
   "nbconvert_exporter": "python",
   "pygments_lexer": "ipython3",
   "version": "3.6.6"
  },
  "widgets": {
   "application/vnd.jupyter.widget-state+json": {
    "state": {
     "00013b7b8d594254b24ac0fd44e1fed3": {
      "model_module": "@jupyter-widgets/base",
      "model_module_version": "1.1.0",
      "model_name": "LayoutModel",
      "state": {
       "justify_content": "center"
      }
     },
     "008d95c8e70d42ffbec4334dd4a8253f": {
      "model_module": "@jupyter-widgets/controls",
      "model_module_version": "1.4.0",
      "model_name": "VBoxModel",
      "state": {
       "children": [
        "IPY_MODEL_a38aa698d0c94f1c995cdeb639124bbd",
        "IPY_MODEL_247764b722a340868c224cc4507b320c",
        "IPY_MODEL_0dfadede813d4c3a84c4dd0cb30e5cdd"
       ],
       "layout": "IPY_MODEL_4786a18de55644dd85fe6c74f09ddeeb"
      }
     },
     "00dad81babf94e06a045ab770669f1e8": {
      "model_module": "@jupyter-widgets/controls",
      "model_module_version": "1.4.0",
      "model_name": "DescriptionStyleModel",
      "state": {
       "description_width": ""
      }
     },
     "00e07760d0a34a25809f79180d905e13": {
      "model_module": "@jupyter-widgets/controls",
      "model_module_version": "1.4.0",
      "model_name": "CheckboxModel",
      "state": {
       "description": "Keine der Alternativen",
       "disabled": false,
       "layout": "IPY_MODEL_764c27ed5e134149a099d7401dad7f61",
       "style": "IPY_MODEL_0d3217dd069f48d39a90e0c5c821ce9e",
       "value": false
      }
     },
     "00ea9eb1b3d249249ca170614df5df6c": {
      "model_module": "@jupyter-widgets/controls",
      "model_module_version": "1.4.0",
      "model_name": "DescriptionStyleModel",
      "state": {
       "description_width": ""
      }
     },
     "022026b48fb742408947edb662f6e312": {
      "model_module": "@jupyter-widgets/controls",
      "model_module_version": "1.4.0",
      "model_name": "DescriptionStyleModel",
      "state": {
       "description_width": "initial"
      }
     },
     "026cbf434a4c4ccfafb62ddf2432d33b": {
      "model_module": "@jupyter-widgets/controls",
      "model_module_version": "1.4.0",
      "model_name": "DescriptionStyleModel",
      "state": {
       "description_width": "initial"
      }
     },
     "0274a81efe66470cb780b125ce13a2cd": {
      "model_module": "@jupyter-widgets/base",
      "model_module_version": "1.1.0",
      "model_name": "LayoutModel",
      "state": {}
     },
     "03b31d1e330f415481c122ebce5da2d3": {
      "model_module": "@jupyter-widgets/base",
      "model_module_version": "1.1.0",
      "model_name": "LayoutModel",
      "state": {
       "width": "250px"
      }
     },
     "03be85a654044059b1d9b2764ac7e134": {
      "model_module": "@jupyter-widgets/controls",
      "model_module_version": "1.4.0",
      "model_name": "DescriptionStyleModel",
      "state": {
       "description_width": "initial"
      }
     },
     "042eae478a054fb5bdeb3fde6ca2499b": {
      "model_module": "@jupyter-widgets/controls",
      "model_module_version": "1.4.0",
      "model_name": "VBoxModel",
      "state": {
       "children": [
        "IPY_MODEL_f5aa5d6c179a4c09971743c72fad3f14",
        "IPY_MODEL_14e3b713dc4f44af949dccd012b0c889",
        "IPY_MODEL_87302441b6604aae835f15d2277111a4",
        "IPY_MODEL_1aa6f2cc316c4c81b65937dd3c93152f"
       ],
       "layout": "IPY_MODEL_1dea466b179440459f385183d37bed7d"
      }
     },
     "0483f61a95834bd88b65b31aa75140ca": {
      "model_module": "@jupyter-widgets/controls",
      "model_module_version": "1.4.0",
      "model_name": "ButtonStyleModel",
      "state": {}
     },
     "04baee00523249f6a74ebec58f72170b": {
      "model_module": "@jupyter-widgets/controls",
      "model_module_version": "1.4.0",
      "model_name": "CheckboxModel",
      "state": {
       "description": "!x",
       "disabled": false,
       "layout": "IPY_MODEL_503f8f23b99145c4be4f6e23264d770a",
       "style": "IPY_MODEL_65d56be3887b4d43a97fb0ed0dd06695",
       "value": false
      }
     },
     "05352a7bf53549b1a613ac60da56fd2b": {
      "model_module": "@jupyter-widgets/controls",
      "model_module_version": "1.4.0",
      "model_name": "VBoxModel",
      "state": {
       "children": [
        "IPY_MODEL_80f54efb60294bd2a02d3a5df0b47efa",
        "IPY_MODEL_b423151d46924e9bb1716570a43a9420",
        "IPY_MODEL_0950e4b48add49d28a53f0dcd793c2a2",
        "IPY_MODEL_ed9b886fcdf74be99f6205a490fdafe4"
       ],
       "layout": "IPY_MODEL_0827e395b4574363a75fa27faecbc65a"
      }
     },
     "0559483729484abc9361fdab01d1fa25": {
      "model_module": "@jupyter-widgets/base",
      "model_module_version": "1.1.0",
      "model_name": "LayoutModel",
      "state": {}
     },
     "0573e66e913646d282c7cb33f8a79da3": {
      "model_module": "@jupyter-widgets/controls",
      "model_module_version": "1.4.0",
      "model_name": "ButtonStyleModel",
      "state": {}
     },
     "05e0300585c343c7a1f4eb7333015536": {
      "model_module": "@jupyter-widgets/controls",
      "model_module_version": "1.4.0",
      "model_name": "HTMLModel",
      "state": {
       "layout": "IPY_MODEL_e3a29dc99467432dadc9731107413b10",
       "style": "IPY_MODEL_841d01efcc9e48dc8e60cd1ea9c54d95",
       "value": "<i>Markieren Sie <ins>alle</ins> passenden Antworten: </i>"
      }
     },
     "06095fb5c76c4199b515f97bc4769ea2": {
      "model_module": "@jupyter-widgets/controls",
      "model_module_version": "1.4.0",
      "model_name": "DescriptionStyleModel",
      "state": {
       "description_width": ""
      }
     },
     "06683546d7184390a67864f5d0dc9a07": {
      "model_module": "@jupyter-widgets/base",
      "model_module_version": "1.1.0",
      "model_name": "LayoutModel",
      "state": {
       "width": "600px"
      }
     },
     "06ed38574c2043b98d07748e45a8d382": {
      "model_module": "@jupyter-widgets/base",
      "model_module_version": "1.1.0",
      "model_name": "LayoutModel",
      "state": {}
     },
     "0740d3f76bfc4aae9e9b16d170c127a4": {
      "model_module": "@jupyter-widgets/base",
      "model_module_version": "1.1.0",
      "model_name": "LayoutModel",
      "state": {}
     },
     "07466325862544e8813ac28fd7bfc40c": {
      "model_module": "@jupyter-widgets/controls",
      "model_module_version": "1.4.0",
      "model_name": "BoxModel",
      "state": {
       "children": [
        "IPY_MODEL_a435ce6ab2ac4933bd3396f9eb731c55",
        "IPY_MODEL_a85b4e50874c40edaac42408554ba85d",
        "IPY_MODEL_6b43e7d9298c40a19654935a111355cd",
        "IPY_MODEL_c4084986ab3549d4a3b4f8761eb8a593",
        "IPY_MODEL_d8d962159e844d2a91597bcd917772ec",
        "IPY_MODEL_a5fb3cd9576d4b6a97f9efc7d45a8f38",
        "IPY_MODEL_52defd447f3d44ab94eec9314fe678e1",
        "IPY_MODEL_36ee97309ed54daf8cb7b2abaa0fd02c",
        "IPY_MODEL_e9c970669d5f417abb3aed5c73833d1a",
        "IPY_MODEL_134972bc2cfe45e584fc8cc031bc6014",
        "IPY_MODEL_1935edc772c64da3b76f4d73d66ff64b"
       ],
       "layout": "IPY_MODEL_f07194177e9e45a3a915aa22bac12d49"
      }
     },
     "0827e395b4574363a75fa27faecbc65a": {
      "model_module": "@jupyter-widgets/base",
      "model_module_version": "1.1.0",
      "model_name": "LayoutModel",
      "state": {}
     },
     "08a5ab57dd5d4886b35ee2ca2f12327a": {
      "model_module": "@jupyter-widgets/base",
      "model_module_version": "1.1.0",
      "model_name": "LayoutModel",
      "state": {
       "justify_content": "center"
      }
     },
     "0950e4b48add49d28a53f0dcd793c2a2": {
      "model_module": "@jupyter-widgets/controls",
      "model_module_version": "1.4.0",
      "model_name": "VBoxModel",
      "state": {
       "children": [
        "IPY_MODEL_ae114231639d4dcab71d40c2abb2e228",
        "IPY_MODEL_31b4dbab1905485db00499116ca975a5",
        "IPY_MODEL_a39c01517f194afb86080312fed5023e",
        "IPY_MODEL_5aef44b9d51648d59dd04d04b6f25e2f",
        "IPY_MODEL_7433f47a1d894cf0b01f08e57ef4a031"
       ],
       "layout": "IPY_MODEL_685a29e7d00a417dbb4f103182b70874"
      }
     },
     "097284aa0e654312a93ea7caeb8ebe63": {
      "model_module": "@jupyter-widgets/controls",
      "model_module_version": "1.4.0",
      "model_name": "ButtonStyleModel",
      "state": {
       "button_color": "lightgreen"
      }
     },
     "098021d393b046dca30157798b368113": {
      "model_module": "@jupyter-widgets/controls",
      "model_module_version": "1.4.0",
      "model_name": "ButtonStyleModel",
      "state": {}
     },
     "0a29756dc67749a78674072ec9356a64": {
      "model_module": "@jupyter-widgets/controls",
      "model_module_version": "1.4.0",
      "model_name": "DescriptionStyleModel",
      "state": {
       "description_width": ""
      }
     },
     "0a81c4da65c14e7fb885b71d19f539d0": {
      "model_module": "@jupyter-widgets/controls",
      "model_module_version": "1.4.0",
      "model_name": "ButtonStyleModel",
      "state": {}
     },
     "0a876f05f3ad4b06b44ee48477d12e0a": {
      "model_module": "@jupyter-widgets/controls",
      "model_module_version": "1.4.0",
      "model_name": "ButtonModel",
      "state": {
       "description": "Patiens",
       "layout": "IPY_MODEL_9717b5a04cbf43d888e13cf03efc73c2",
       "style": "IPY_MODEL_cf89b5d3ab5a481eb82a665985849c0c"
      }
     },
     "0d3217dd069f48d39a90e0c5c821ce9e": {
      "model_module": "@jupyter-widgets/controls",
      "model_module_version": "1.4.0",
      "model_name": "DescriptionStyleModel",
      "state": {
       "description_width": "initial"
      }
     },
     "0d631da6a21a49e4bdf01667aecd9993": {
      "model_module": "@jupyter-widgets/base",
      "model_module_version": "1.1.0",
      "model_name": "LayoutModel",
      "state": {
       "width": "250px"
      }
     },
     "0d924749ebc64d5090cec6618787e8f6": {
      "model_module": "@jupyter-widgets/base",
      "model_module_version": "1.1.0",
      "model_name": "LayoutModel",
      "state": {
       "width": "600px"
      }
     },
     "0dbdf01a791b4270aa29b453257b20d5": {
      "model_module": "@jupyter-widgets/controls",
      "model_module_version": "1.4.0",
      "model_name": "DescriptionStyleModel",
      "state": {
       "description_width": "initial"
      }
     },
     "0dd507ea61054c9e8e8485e4b9db83fd": {
      "model_module": "@jupyter-widgets/controls",
      "model_module_version": "1.4.0",
      "model_name": "DescriptionStyleModel",
      "state": {
       "description_width": ""
      }
     },
     "0dfadede813d4c3a84c4dd0cb30e5cdd": {
      "model_module": "@jupyter-widgets/controls",
      "model_module_version": "1.4.0",
      "model_name": "CheckboxModel",
      "state": {
       "description": "Es übernimmt immer das Patiens die Subjektfunktion.",
       "disabled": false,
       "layout": "IPY_MODEL_e007c6792ad74b65b07ad8bdf616a27e",
       "style": "IPY_MODEL_7b111e31c8394b8f851cf5e8c2025d11",
       "value": false
      }
     },
     "0e7d669715084725bc6c3537ad1d6e45": {
      "model_module": "@jupyter-widgets/controls",
      "model_module_version": "1.4.0",
      "model_name": "DescriptionStyleModel",
      "state": {
       "description_width": "initial"
      }
     },
     "0f561e3beb1a43bba84e7f7513d158a5": {
      "model_module": "@jupyter-widgets/base",
      "model_module_version": "1.1.0",
      "model_name": "LayoutModel",
      "state": {
       "width": "600px"
      }
     },
     "0fb995c32a9e42aebc8d5d8cbdc486f8": {
      "model_module": "@jupyter-widgets/controls",
      "model_module_version": "1.4.0",
      "model_name": "VBoxModel",
      "state": {
       "children": [
        "IPY_MODEL_c1cbffb7f8614206a7ad4884be403dd0",
        "IPY_MODEL_ce41686824f04ff5aa0b559f2649dbbd",
        "IPY_MODEL_b4d86e76c97243d19c43b29a34053d67",
        "IPY_MODEL_8633a58a8ccf48dd8cab365baa49ad76"
       ],
       "layout": "IPY_MODEL_bee20f3ec0504056b29ebf2ea8ee1ec3"
      }
     },
     "0fd5d2d486c84007afbe41011f29375f": {
      "model_module": "@jupyter-widgets/controls",
      "model_module_version": "1.4.0",
      "model_name": "VBoxModel",
      "state": {
       "children": [
        "IPY_MODEL_6ca932aea38a4642a90d7c6abe0987f8",
        "IPY_MODEL_abb80dca92294d74a8d5b06468499e6c",
        "IPY_MODEL_7f717e182b914698824bf751c29f6555",
        "IPY_MODEL_ce4ad1cd37d4424189bbeaaba62f6768"
       ],
       "layout": "IPY_MODEL_95e16a8a8cc1434b95625343760561c1"
      }
     },
     "1042ef7a260844bfbedaafdf5fc2a6a3": {
      "model_module": "@jupyter-widgets/controls",
      "model_module_version": "1.4.0",
      "model_name": "CheckboxModel",
      "state": {
       "description": "FS0 = [CAT = N, GEN = FEM], FS1 = [CAT = N, GEN = FEM]",
       "disabled": false,
       "layout": "IPY_MODEL_74e4d7ac2c1648bf8ae8cff1cf6cf735",
       "style": "IPY_MODEL_f79038df5e0e4782bacc49fa48daec4b",
       "value": false
      }
     },
     "108265daa0214954bd2fdb25bbe92955": {
      "model_module": "@jupyter-widgets/controls",
      "model_module_version": "1.4.0",
      "model_name": "ButtonStyleModel",
      "state": {}
     },
     "10e0d0560de944cc8723ab89170c8634": {
      "model_module": "@jupyter-widgets/controls",
      "model_module_version": "1.4.0",
      "model_name": "ButtonModel",
      "state": {
       "description": "Korrekt?",
       "layout": "IPY_MODEL_48a69f1fea1f4333982fd3204930e36a",
       "style": "IPY_MODEL_38c5f5d5c84b4733bd11646afc2a8497"
      }
     },
     "1113d136f87444e1b058e3a2d1e41a1b": {
      "model_module": "@jupyter-widgets/base",
      "model_module_version": "1.1.0",
      "model_name": "LayoutModel",
      "state": {
       "justify_content": "center"
      }
     },
     "11add416423e4b8899e2b1041279b88e": {
      "model_module": "@jupyter-widgets/base",
      "model_module_version": "1.1.0",
      "model_name": "LayoutModel",
      "state": {
       "justify_content": "center"
      }
     },
     "11dd46a734c846bb929b51cbe8cc7b1b": {
      "model_module": "@jupyter-widgets/base",
      "model_module_version": "1.1.0",
      "model_name": "LayoutModel",
      "state": {
       "width": "600px"
      }
     },
     "11e792abc8fd486d9e1f385b806ea118": {
      "model_module": "@jupyter-widgets/controls",
      "model_module_version": "1.4.0",
      "model_name": "HTMLModel",
      "state": {
       "layout": "IPY_MODEL_1c17117a40f3464492ebbc4a44c5ab65",
       "style": "IPY_MODEL_e458907d142a4c66b2e6820571f8aa7a",
       "value": "<i>Wählen Sie die <ins>eine</ins> korrekte Antwort aus: </i>"
      }
     },
     "134972bc2cfe45e584fc8cc031bc6014": {
      "model_module": "@jupyter-widgets/controls",
      "model_module_version": "1.4.0",
      "model_name": "DropdownModel",
      "state": {
       "_options_labels": [
        "Genusmarkierung",
        "Kasusmarkierung",
        " "
       ],
       "index": 2,
       "layout": "IPY_MODEL_14172ca0636b482ab98976eb0e735123",
       "style": "IPY_MODEL_89f76f9cb84a41c8988bfd0d9b58156d"
      }
     },
     "136cd6c5e54d47c4b79d955c859a402a": {
      "model_module": "@jupyter-widgets/controls",
      "model_module_version": "1.4.0",
      "model_name": "CheckboxModel",
      "state": {
       "description": "Ausrichtung der Empathie",
       "disabled": false,
       "layout": "IPY_MODEL_c62d06cb2bd544f1b543977cb2947860",
       "style": "IPY_MODEL_3a490d88dd6f4bb590d07fe92d046819",
       "value": false
      }
     },
     "13ab264f4d45496aba7b330f2f534ccf": {
      "model_module": "@jupyter-widgets/base",
      "model_module_version": "1.1.0",
      "model_name": "LayoutModel",
      "state": {
       "width": "600px"
      }
     },
     "14172ca0636b482ab98976eb0e735123": {
      "model_module": "@jupyter-widgets/base",
      "model_module_version": "1.1.0",
      "model_name": "LayoutModel",
      "state": {
       "width": "150px"
      }
     },
     "148acf2ca2524db9a097f55ac91f98be": {
      "model_module": "@jupyter-widgets/base",
      "model_module_version": "1.1.0",
      "model_name": "LayoutModel",
      "state": {
       "justify_content": "center"
      }
     },
     "148be133f7ca4db8a5d9658ee64479df": {
      "model_module": "@jupyter-widgets/controls",
      "model_module_version": "1.4.0",
      "model_name": "DescriptionStyleModel",
      "state": {
       "description_width": ""
      }
     },
     "14e3b713dc4f44af949dccd012b0c889": {
      "model_module": "@jupyter-widgets/controls",
      "model_module_version": "1.4.0",
      "model_name": "HTMLModel",
      "state": {
       "layout": "IPY_MODEL_6d862cc1112049b8bdeef1e345406ee9",
       "style": "IPY_MODEL_ddfd099fd94b4b91af720661eb8a3de0",
       "value": "<i>Markieren Sie <ins>alle</ins> passenden Antworten: </i>"
      }
     },
     "150a06964a2644d5a00ea3d5ddaf41e7": {
      "model_module": "@jupyter-widgets/controls",
      "model_module_version": "1.4.0",
      "model_name": "ButtonModel",
      "state": {
       "description": "Agens",
       "layout": "IPY_MODEL_b76973ead251402f938b61bf0fb55282",
       "style": "IPY_MODEL_77893b47cdf24a77b98fb271cd60c3b5"
      }
     },
     "15b53798d9f440e0a67d32c0cef9ab17": {
      "model_module": "@jupyter-widgets/controls",
      "model_module_version": "1.4.0",
      "model_name": "CheckboxModel",
      "state": {
       "description": "FS0 = [CAT = N, GEN = FEM], FS1 = [CAT = N, GEN = FEM]",
       "disabled": false,
       "layout": "IPY_MODEL_d8f09cc43567428f9e3ef66fb39515c2",
       "style": "IPY_MODEL_1f20d7399f924cd6b4481afa13dc4eb9",
       "value": false
      }
     },
     "15ef6e4eb4814a7782e12ac77aaa0d10": {
      "model_module": "@jupyter-widgets/controls",
      "model_module_version": "1.4.0",
      "model_name": "ButtonModel",
      "state": {
       "description": "Korrekt?",
       "layout": "IPY_MODEL_27cb6ad672714f7fab90013b4e16d469",
       "style": "IPY_MODEL_097284aa0e654312a93ea7caeb8ebe63"
      }
     },
     "164fce442b424c58bc4e702050e31f77": {
      "model_module": "@jupyter-widgets/controls",
      "model_module_version": "1.4.0",
      "model_name": "DescriptionStyleModel",
      "state": {
       "description_width": "initial"
      }
     },
     "166b306adb244ebab49ef9930b66b08c": {
      "model_module": "@jupyter-widgets/controls",
      "model_module_version": "1.4.0",
      "model_name": "HBoxModel",
      "state": {
       "children": [
        "IPY_MODEL_e02bb196478d4f6ab5b230197579f8f9",
        "IPY_MODEL_3a802c8cbac64562893d261b0834c131"
       ],
       "layout": "IPY_MODEL_8c1358abfcfb4cfa96598718fe50e301"
      }
     },
     "167573074ce547628b15c358e3dcc9d9": {
      "model_module": "@jupyter-widgets/base",
      "model_module_version": "1.1.0",
      "model_name": "LayoutModel",
      "state": {
       "width": "600px"
      }
     },
     "1689ddbfd44c4c0aaa22f395008138c0": {
      "model_module": "@jupyter-widgets/controls",
      "model_module_version": "1.4.0",
      "model_name": "CheckboxModel",
      "state": {
       "description": "'rue Pascal'; ('spouse', 'address', 'street')",
       "disabled": false,
       "layout": "IPY_MODEL_ddb923ce50934343b2321f949f4f9cd3",
       "style": "IPY_MODEL_bae9977d56024aa784e9c6bb1a883b79",
       "value": false
      }
     },
     "16e871c0bf8b4ae8a6a3db058851e573": {
      "model_module": "@jupyter-widgets/controls",
      "model_module_version": "1.4.0",
      "model_name": "DescriptionStyleModel",
      "state": {
       "description_width": "initial"
      }
     },
     "17f9373df2aa46dfb45b110369dd19ae": {
      "model_module": "@jupyter-widgets/base",
      "model_module_version": "1.1.0",
      "model_name": "LayoutModel",
      "state": {}
     },
     "1831328ae6c74f52b3cf2ac2e13db5e7": {
      "model_module": "@jupyter-widgets/controls",
      "model_module_version": "1.4.0",
      "model_name": "CheckboxModel",
      "state": {
       "description": "Sie werden aus der Eingabe extrahiert (feature extraction)",
       "disabled": false,
       "layout": "IPY_MODEL_63acd3940040473097b6ce511b58a082",
       "style": "IPY_MODEL_9de9b4cc93d347deb131fce63b884367",
       "value": false
      }
     },
     "18985dcb6a17479abdc8d09119d3eaee": {
      "model_module": "@jupyter-widgets/controls",
      "model_module_version": "1.4.0",
      "model_name": "VBoxModel",
      "state": {
       "children": [
        "IPY_MODEL_a9bc43c49b1247548e988b028221daf1",
        "IPY_MODEL_cb3c893a5c544722a9cfc02be18e2519",
        "IPY_MODEL_932d254bb3ba43bfbfedee4dc485b185"
       ],
       "layout": "IPY_MODEL_3df7a3a068fe43ad80004bddb925ca62"
      }
     },
     "1935edc772c64da3b76f4d73d66ff64b": {
      "model_module": "@jupyter-widgets/controls",
      "model_module_version": "1.4.0",
      "model_name": "HTMLModel",
      "state": {
       "layout": "IPY_MODEL_7f47236a5ab547d59d054f7a306e4e3d",
       "style": "IPY_MODEL_4183b3d41873454fbb14eae852a403e5",
       "value": "<h4 style=\"font-size:14px;\">übernehmen.</h4>"
      }
     },
     "193b6285638d4a669a8bc15823753d49": {
      "model_module": "@jupyter-widgets/base",
      "model_module_version": "1.1.0",
      "model_name": "LayoutModel",
      "state": {}
     },
     "1a9c8c7835714013b8fdaa6e2767d7a4": {
      "model_module": "@jupyter-widgets/base",
      "model_module_version": "1.1.0",
      "model_name": "LayoutModel",
      "state": {}
     },
     "1aa6f2cc316c4c81b65937dd3c93152f": {
      "model_module": "@jupyter-widgets/controls",
      "model_module_version": "1.4.0",
      "model_name": "ButtonModel",
      "state": {
       "description": "Korrekt?",
       "layout": "IPY_MODEL_d5828007c976476c991d5156deed6c1d",
       "style": "IPY_MODEL_cd96f6e27d084f7bbcd02d15e9fad42d"
      }
     },
     "1aefe94dd314417ba132fa9e87e61fe7": {
      "model_module": "@jupyter-widgets/controls",
      "model_module_version": "1.4.0",
      "model_name": "ButtonModel",
      "state": {
       "description": "tuple",
       "layout": "IPY_MODEL_9fa701364788443eab73c8ae274bea0d",
       "style": "IPY_MODEL_108265daa0214954bd2fdb25bbe92955"
      }
     },
     "1bd6889b5d4d4cb29d9df197b67b4bbc": {
      "model_module": "@jupyter-widgets/controls",
      "model_module_version": "1.4.0",
      "model_name": "VBoxModel",
      "state": {
       "children": [
        "IPY_MODEL_6206ad7ed009417fb51f24371e7dce12",
        "IPY_MODEL_a044ced764f24fb5aa8bca786c3c4920",
        "IPY_MODEL_23c434a829944920ac209a30dfab6095"
       ],
       "layout": "IPY_MODEL_bb938a02b7ae4da39fc73fda368de60a"
      }
     },
     "1c17117a40f3464492ebbc4a44c5ab65": {
      "model_module": "@jupyter-widgets/base",
      "model_module_version": "1.1.0",
      "model_name": "LayoutModel",
      "state": {
       "justify_content": "center"
      }
     },
     "1c87cb04ec6b42e5aa4fc021bb6958c7": {
      "model_module": "@jupyter-widgets/base",
      "model_module_version": "1.1.0",
      "model_name": "LayoutModel",
      "state": {}
     },
     "1c94f2dfb52d4212b604a0a7e534a800": {
      "model_module": "@jupyter-widgets/controls",
      "model_module_version": "1.4.0",
      "model_name": "ButtonModel",
      "state": {
       "description": "schwache Deklination",
       "layout": "IPY_MODEL_48841777f1674fc0a011d0fe2c9f2ddd",
       "style": "IPY_MODEL_24d1c5bc25fb48e8ba7d17bb4d7bf5f9"
      }
     },
     "1ce84e4704274a2ca3d7299d7ee72431": {
      "model_module": "@jupyter-widgets/base",
      "model_module_version": "1.1.0",
      "model_name": "LayoutModel",
      "state": {
       "justify_content": "center"
      }
     },
     "1da1d12381eb45d398c073d1d1bdcb1d": {
      "model_module": "@jupyter-widgets/controls",
      "model_module_version": "1.4.0",
      "model_name": "DescriptionStyleModel",
      "state": {
       "description_width": "initial"
      }
     },
     "1dea466b179440459f385183d37bed7d": {
      "model_module": "@jupyter-widgets/base",
      "model_module_version": "1.1.0",
      "model_name": "LayoutModel",
      "state": {}
     },
     "1e3d3dc1e07e41bb856b3742956549e1": {
      "model_module": "@jupyter-widgets/controls",
      "model_module_version": "1.4.0",
      "model_name": "ButtonStyleModel",
      "state": {}
     },
     "1e51272cb8374b4197fe4c7b3d554099": {
      "model_module": "@jupyter-widgets/controls",
      "model_module_version": "1.4.0",
      "model_name": "VBoxModel",
      "state": {
       "children": [
        "IPY_MODEL_f66733624cd44e4d882c70ac228d7f71",
        "IPY_MODEL_c3d42cb5b4384f9f97e37164d0351a55",
        "IPY_MODEL_1bd6889b5d4d4cb29d9df197b67b4bbc",
        "IPY_MODEL_b87efb2920a041f78a16a0f7d9b37871"
       ],
       "layout": "IPY_MODEL_c4fb4dff5577437e9804496b2ae7bafe"
      }
     },
     "1ecf310eb16741efbe68fed1f82f00ec": {
      "model_module": "@jupyter-widgets/controls",
      "model_module_version": "1.4.0",
      "model_name": "DescriptionStyleModel",
      "state": {
       "description_width": ""
      }
     },
     "1eff9c4732b44bc3af1d7792e5440a5b": {
      "model_module": "@jupyter-widgets/base",
      "model_module_version": "1.1.0",
      "model_name": "LayoutModel",
      "state": {}
     },
     "1f1345b475284bd0b3538485e44fb167": {
      "model_module": "@jupyter-widgets/controls",
      "model_module_version": "1.4.0",
      "model_name": "VBoxModel",
      "state": {
       "children": [
        "IPY_MODEL_7183e09b4df14a4bbec62d08f88b651d",
        "IPY_MODEL_8ab4b7f8d1d346fe8475c6b5b63833a4",
        "IPY_MODEL_637e5af9aa344d7fbfed0e3b56e1af3c"
       ],
       "layout": "IPY_MODEL_38890a3070a74e479d959e67af90de4c"
      }
     },
     "1f18154c6e744b56a25c9beac54380f8": {
      "model_module": "@jupyter-widgets/base",
      "model_module_version": "1.1.0",
      "model_name": "LayoutModel",
      "state": {
       "width": "250px"
      }
     },
     "1f20d7399f924cd6b4481afa13dc4eb9": {
      "model_module": "@jupyter-widgets/controls",
      "model_module_version": "1.4.0",
      "model_name": "DescriptionStyleModel",
      "state": {
       "description_width": "initial"
      }
     },
     "1fbf1796c5394994826d8725609456a3": {
      "model_module": "@jupyter-widgets/controls",
      "model_module_version": "1.4.0",
      "model_name": "HTMLModel",
      "state": {
       "layout": "IPY_MODEL_d1f8256c371d426ca0d80ae30c210a5f",
       "style": "IPY_MODEL_5f2b1b29a1764a41aa3638a6aa175973",
       "value": "<i>Wählen Sie die <ins>eine</ins> korrekte Antwort aus: </i>"
      }
     },
     "21423ba7f6c245c1a0a8a37ebdbbf6ee": {
      "model_module": "@jupyter-widgets/controls",
      "model_module_version": "1.4.0",
      "model_name": "ButtonModel",
      "state": {
       "description": "Patiens",
       "layout": "IPY_MODEL_f9567a0f8ed24ff7827a5e9c76fdd5fb",
       "style": "IPY_MODEL_5848c87b929d47c09c01254f59c4451a"
      }
     },
     "21a841e30cef496581f257caf2085aec": {
      "model_module": "@jupyter-widgets/controls",
      "model_module_version": "1.4.0",
      "model_name": "VBoxModel",
      "state": {
       "children": [
        "IPY_MODEL_828c969f88474fe4a13b920e77991886",
        "IPY_MODEL_94c8fcaece33405693ffa77eabdbbeba",
        "IPY_MODEL_550cc3efeb5c488eb10522193e78b3e5"
       ],
       "layout": "IPY_MODEL_dd83fcd241f24f58beb181d565739ddd"
      }
     },
     "21dd5d1c612044dda1fbc8310feb138d": {
      "model_module": "@jupyter-widgets/controls",
      "model_module_version": "1.4.0",
      "model_name": "ButtonModel",
      "state": {
       "description": "Korrekt?",
       "layout": "IPY_MODEL_54bc9c6e93034473ba9348f3f5d16d4e",
       "style": "IPY_MODEL_9bef2c1c360244f485dad6a5a133d02c"
      }
     },
     "225620a268c84f3e83a5f9cfb0a55f2a": {
      "model_module": "@jupyter-widgets/base",
      "model_module_version": "1.1.0",
      "model_name": "LayoutModel",
      "state": {
       "width": "600px"
      }
     },
     "228c30dbabd5417aaf82955a7fb5880e": {
      "model_module": "@jupyter-widgets/base",
      "model_module_version": "1.1.0",
      "model_name": "LayoutModel",
      "state": {
       "width": "250px"
      }
     },
     "235a901ff5bb4d65b7da209f6b52aa74": {
      "model_module": "@jupyter-widgets/controls",
      "model_module_version": "1.4.0",
      "model_name": "ButtonModel",
      "state": {
       "description": "Agens",
       "layout": "IPY_MODEL_ab077d10a90d4825a98671edaf3e11ab",
       "style": "IPY_MODEL_c2e46096ff5248a287e4e865489686f9"
      }
     },
     "23bf726b06814c619f8c965559d048a5": {
      "model_module": "@jupyter-widgets/controls",
      "model_module_version": "1.4.0",
      "model_name": "HTMLModel",
      "state": {
       "layout": "IPY_MODEL_611446f7cdd64656b7c6bc9d7020c45c",
       "style": "IPY_MODEL_a073b0e2f5a6407da7b7078d93360bed",
       "value": "<h4 style=\"font-size:14px;\">Welche Beispiele erfüllen die obige Subsumptionsbeziehung?</h4>"
      }
     },
     "23c434a829944920ac209a30dfab6095": {
      "model_module": "@jupyter-widgets/controls",
      "model_module_version": "1.4.0",
      "model_name": "CheckboxModel",
      "state": {
       "description": "Es ist undefiniert.",
       "disabled": false,
       "layout": "IPY_MODEL_c4daed5bf1d3427ea2dcacc0a8028e94",
       "style": "IPY_MODEL_6d5f7055125f4afb9e89d7333d5f0905",
       "value": false
      }
     },
     "23cbaa8d80364466be5683ad7c0932f8": {
      "model_module": "@jupyter-widgets/base",
      "model_module_version": "1.1.0",
      "model_name": "LayoutModel",
      "state": {
       "width": "250px"
      }
     },
     "23d563a9d1464f2ab5213b459715f6b7": {
      "model_module": "@jupyter-widgets/controls",
      "model_module_version": "1.4.0",
      "model_name": "DescriptionStyleModel",
      "state": {
       "description_width": ""
      }
     },
     "241c9e6ac9d34d2e9303eebc8938e0e8": {
      "model_module": "@jupyter-widgets/controls",
      "model_module_version": "1.4.0",
      "model_name": "CheckboxModel",
      "state": {
       "description": "x!",
       "disabled": false,
       "layout": "IPY_MODEL_e1b4d3a93bab438985bba7ad55d71ec7",
       "style": "IPY_MODEL_8bb7b2d83a4b4a16a656de82765709af",
       "value": false
      }
     },
     "247764b722a340868c224cc4507b320c": {
      "model_module": "@jupyter-widgets/controls",
      "model_module_version": "1.4.0",
      "model_name": "CheckboxModel",
      "state": {
       "description": "Es muss immer ein Agens vorhanden sein.",
       "disabled": false,
       "layout": "IPY_MODEL_7c4cd710678a4399ad4ea0ed2951bf2b",
       "style": "IPY_MODEL_c09b58db683d4f79b626b9976440422a",
       "value": false
      }
     },
     "24d1c5bc25fb48e8ba7d17bb4d7bf5f9": {
      "model_module": "@jupyter-widgets/controls",
      "model_module_version": "1.4.0",
      "model_name": "ButtonStyleModel",
      "state": {}
     },
     "24e9bdc472a640789264b2aaaa210cf3": {
      "model_module": "@jupyter-widgets/controls",
      "model_module_version": "1.4.0",
      "model_name": "HTMLModel",
      "state": {
       "layout": "IPY_MODEL_355d0140cd254a659c2df3c49c67f4b1",
       "style": "IPY_MODEL_ab6b55ad87a840df8cc4f0b8e830bc89",
       "value": "<i>Markieren Sie <ins>alle</ins> passenden Antworten: </i>"
      }
     },
     "24fb64b781bb41a781d790189f73d113": {
      "model_module": "@jupyter-widgets/base",
      "model_module_version": "1.1.0",
      "model_name": "LayoutModel",
      "state": {
       "width": "600px"
      }
     },
     "2732eaa243704a9bbb87b87476654c23": {
      "model_module": "@jupyter-widgets/controls",
      "model_module_version": "1.4.0",
      "model_name": "DescriptionStyleModel",
      "state": {
       "description_width": "initial"
      }
     },
     "275b0e311e8e41f59653816f2e9c93ba": {
      "model_module": "@jupyter-widgets/base",
      "model_module_version": "1.1.0",
      "model_name": "LayoutModel",
      "state": {}
     },
     "27b6eb003ebb412c9decde3adeba99ff": {
      "model_module": "@jupyter-widgets/controls",
      "model_module_version": "1.4.0",
      "model_name": "DescriptionStyleModel",
      "state": {
       "description_width": ""
      }
     },
     "27cb6ad672714f7fab90013b4e16d469": {
      "model_module": "@jupyter-widgets/base",
      "model_module_version": "1.1.0",
      "model_name": "LayoutModel",
      "state": {
       "width": "250px"
      }
     },
     "28dda166ef84483199c95ca8aeda015d": {
      "model_module": "@jupyter-widgets/controls",
      "model_module_version": "1.4.0",
      "model_name": "ButtonStyleModel",
      "state": {}
     },
     "2a4eaaa986d8403396d2844cd6ed793f": {
      "model_module": "@jupyter-widgets/base",
      "model_module_version": "1.1.0",
      "model_name": "LayoutModel",
      "state": {
       "width": "250px"
      }
     },
     "2a96591ccb7c47df860fc9f611085c24": {
      "model_module": "@jupyter-widgets/controls",
      "model_module_version": "1.4.0",
      "model_name": "VBoxModel",
      "state": {
       "children": [
        "IPY_MODEL_72cda2e059f145f6a2b0c1cc14c64c69",
        "IPY_MODEL_b6e37c8ed013480e8ae4b3d78facf90a",
        "IPY_MODEL_9bb7fdfad88944eabea31167d79733b2"
       ],
       "layout": "IPY_MODEL_17f9373df2aa46dfb45b110369dd19ae"
      }
     },
     "2aed59ab257e4dfb8fe02b1180f41f54": {
      "model_module": "@jupyter-widgets/controls",
      "model_module_version": "1.4.0",
      "model_name": "ButtonModel",
      "state": {
       "description": "bestimmten",
       "layout": "IPY_MODEL_03b31d1e330f415481c122ebce5da2d3",
       "style": "IPY_MODEL_65048191c174405b9fda4616f6bfa00b"
      }
     },
     "2ea6be1310d948369164c622508a9a03": {
      "model_module": "@jupyter-widgets/controls",
      "model_module_version": "1.4.0",
      "model_name": "CheckboxModel",
      "state": {
       "description": "74; ('address', 'number')",
       "disabled": false,
       "layout": "IPY_MODEL_568c32cbbdf9463db0e04749d07450ab",
       "style": "IPY_MODEL_0dbdf01a791b4270aa29b453257b20d5",
       "value": false
      }
     },
     "2edcbb97c0724b438cad9e61223efa57": {
      "model_module": "@jupyter-widgets/controls",
      "model_module_version": "1.4.0",
      "model_name": "DescriptionStyleModel",
      "state": {
       "description_width": ""
      }
     },
     "2f49b50218ec44c39db34fd9a59da67e": {
      "model_module": "@jupyter-widgets/controls",
      "model_module_version": "1.4.0",
      "model_name": "HTMLModel",
      "state": {
       "layout": "IPY_MODEL_00013b7b8d594254b24ac0fd44e1fed3",
       "style": "IPY_MODEL_06095fb5c76c4199b515f97bc4769ea2",
       "value": "<i>Markieren Sie <ins>alle</ins> passenden Antworten: </i>"
      }
     },
     "2fa0dd740981481184a72dcf2da6642d": {
      "model_module": "@jupyter-widgets/base",
      "model_module_version": "1.1.0",
      "model_name": "LayoutModel",
      "state": {}
     },
     "30f0b95893e04c4c8041e132c84ea659": {
      "model_module": "@jupyter-widgets/base",
      "model_module_version": "1.1.0",
      "model_name": "LayoutModel",
      "state": {}
     },
     "3119fff9005a431bb90ee2d0705f7cb4": {
      "model_module": "@jupyter-widgets/base",
      "model_module_version": "1.1.0",
      "model_name": "LayoutModel",
      "state": {
       "justify_content": "center"
      }
     },
     "316ae13386f449e6b58ac0adfea2b9da": {
      "model_module": "@jupyter-widgets/controls",
      "model_module_version": "1.4.0",
      "model_name": "DescriptionStyleModel",
      "state": {
       "description_width": ""
      }
     },
     "31b4dbab1905485db00499116ca975a5": {
      "model_module": "@jupyter-widgets/controls",
      "model_module_version": "1.4.0",
      "model_name": "CheckboxModel",
      "state": {
       "description": "Der Artikel übernimmt die Genusmarkierung.",
       "disabled": false,
       "layout": "IPY_MODEL_a3b54aad55834377b3d4b7472ede7be2",
       "style": "IPY_MODEL_60ea7dab91414089841a0d33a6f4023f",
       "value": true
      }
     },
     "31c1899d7fbc4ca489154d0eea290bab": {
      "model_module": "@jupyter-widgets/controls",
      "model_module_version": "1.4.0",
      "model_name": "VBoxModel",
      "state": {
       "children": [
        "IPY_MODEL_c73f97a5023942c9ac13308e2e27df46",
        "IPY_MODEL_5318c2a1ca0e4ddab78fcbdbbd737785",
        "IPY_MODEL_15b53798d9f440e0a67d32c0cef9ab17",
        "IPY_MODEL_f7aba7001a8f4bfdaa2505c8ac358c3c",
        "IPY_MODEL_c244248646284c06b05ca3cc9274d3f6"
       ],
       "layout": "IPY_MODEL_0274a81efe66470cb780b125ce13a2cd"
      }
     },
     "320a962a1bb4471b8d92c7b47c4053a6": {
      "model_module": "@jupyter-widgets/base",
      "model_module_version": "1.1.0",
      "model_name": "LayoutModel",
      "state": {}
     },
     "32d115a0644e49b8a72e4096f3a3ae49": {
      "model_module": "@jupyter-widgets/controls",
      "model_module_version": "1.4.0",
      "model_name": "DescriptionStyleModel",
      "state": {
       "description_width": ""
      }
     },
     "330fe776f41d4c7cb264aaf59b65cf3e": {
      "model_module": "@jupyter-widgets/controls",
      "model_module_version": "1.4.0",
      "model_name": "VBoxModel",
      "state": {
       "children": [
        "IPY_MODEL_c5d59f43db6f4f45b5da90486712e1f4",
        "IPY_MODEL_e6be08086e8b4c1eabe018904fe107e7",
        "IPY_MODEL_4eabf1162c6a4791b165ea6d1c50182c",
        "IPY_MODEL_36f1ea92936f4e3bb634466e5982b2d3"
       ],
       "layout": "IPY_MODEL_ed7fc9ea73f845a298de85fe6a1a87ae"
      }
     },
     "3326e731837b41cc91ea04c877c411b7": {
      "model_module": "@jupyter-widgets/controls",
      "model_module_version": "1.4.0",
      "model_name": "ButtonModel",
      "state": {
       "description": "Benefaktiv",
       "layout": "IPY_MODEL_7cdb90511b9143e89b7ad13aa89cb6f2",
       "style": "IPY_MODEL_098021d393b046dca30157798b368113"
      }
     },
     "341bc9f88a7442d38ed574937015b251": {
      "model_module": "@jupyter-widgets/base",
      "model_module_version": "1.1.0",
      "model_name": "LayoutModel",
      "state": {}
     },
     "34ba1739b7b141e6b83ffe57ec80f4d7": {
      "model_module": "@jupyter-widgets/controls",
      "model_module_version": "1.4.0",
      "model_name": "DescriptionStyleModel",
      "state": {
       "description_width": ""
      }
     },
     "355d0140cd254a659c2df3c49c67f4b1": {
      "model_module": "@jupyter-widgets/base",
      "model_module_version": "1.1.0",
      "model_name": "LayoutModel",
      "state": {
       "justify_content": "center"
      }
     },
     "355f331183164914a77cc514bcce5cb2": {
      "model_module": "@jupyter-widgets/base",
      "model_module_version": "1.1.0",
      "model_name": "LayoutModel",
      "state": {
       "width": "600px"
      }
     },
     "36ee97309ed54daf8cb7b2abaa0fd02c": {
      "model_module": "@jupyter-widgets/controls",
      "model_module_version": "1.4.0",
      "model_name": "DropdownModel",
      "state": {
       "_options_labels": [
        "Genusmerkmale",
        "Kasusmerkmale",
        " "
       ],
       "index": 2,
       "layout": "IPY_MODEL_a947f816cfb7489fb87ce2f1d6018b06",
       "style": "IPY_MODEL_9c090189ee9e466c8201913a840fe777"
      }
     },
     "36f1ea92936f4e3bb634466e5982b2d3": {
      "model_module": "@jupyter-widgets/controls",
      "model_module_version": "1.4.0",
      "model_name": "ButtonModel",
      "state": {
       "description": "Korrekt?",
       "layout": "IPY_MODEL_76c4471d049c454e9d65e68224b9bb14",
       "style": "IPY_MODEL_83bbb55066094bc8b6e6f22bc7502a1d"
      }
     },
     "38890a3070a74e479d959e67af90de4c": {
      "model_module": "@jupyter-widgets/base",
      "model_module_version": "1.1.0",
      "model_name": "LayoutModel",
      "state": {}
     },
     "38c5f5d5c84b4733bd11646afc2a8497": {
      "model_module": "@jupyter-widgets/controls",
      "model_module_version": "1.4.0",
      "model_name": "ButtonStyleModel",
      "state": {}
     },
     "3938eaf29de846c4b05bc9d89692b307": {
      "model_module": "@jupyter-widgets/base",
      "model_module_version": "1.1.0",
      "model_name": "LayoutModel",
      "state": {
       "width": "600px"
      }
     },
     "39fbb1abb5b74479a2e2d6a1d9ef7112": {
      "model_module": "@jupyter-widgets/base",
      "model_module_version": "1.1.0",
      "model_name": "LayoutModel",
      "state": {
       "justify_content": "center"
      }
     },
     "3a490d88dd6f4bb590d07fe92d046819": {
      "model_module": "@jupyter-widgets/controls",
      "model_module_version": "1.4.0",
      "model_name": "DescriptionStyleModel",
      "state": {
       "description_width": "initial"
      }
     },
     "3a802c8cbac64562893d261b0834c131": {
      "model_module": "@jupyter-widgets/controls",
      "model_module_version": "1.4.0",
      "model_name": "ButtonModel",
      "state": {
       "description": "Lokativ",
       "layout": "IPY_MODEL_dd7aa266ad5a46d383b526c17e72dbd4",
       "style": "IPY_MODEL_fb8bbf98a41f4031ac9caf9b3971abe3"
      }
     },
     "3a825f38a95743ed8e2185358c8dab8b": {
      "model_module": "@jupyter-widgets/controls",
      "model_module_version": "1.4.0",
      "model_name": "DescriptionStyleModel",
      "state": {
       "description_width": ""
      }
     },
     "3a8ddabaac614237a10b3591bc0bd5f0": {
      "model_module": "@jupyter-widgets/controls",
      "model_module_version": "1.4.0",
      "model_name": "ButtonModel",
      "state": {
       "description": "dictionary",
       "layout": "IPY_MODEL_228c30dbabd5417aaf82955a7fb5880e",
       "style": "IPY_MODEL_d59ae997c5074ec0a0ea32720aac6ef7"
      }
     },
     "3ad097f0188f4b33a45ee2cf01c81a20": {
      "model_module": "@jupyter-widgets/controls",
      "model_module_version": "1.4.0",
      "model_name": "ButtonModel",
      "state": {
       "description": "Keine der anderen Möglichkeiten",
       "layout": "IPY_MODEL_d3d4cfc58a9441ad8281749e48fa797d",
       "style": "IPY_MODEL_c4a575c8eda74a7193ecfbcc48641adf"
      }
     },
     "3b26b19327a849f1a6301b26185a6aa3": {
      "model_module": "@jupyter-widgets/controls",
      "model_module_version": "1.4.0",
      "model_name": "VBoxModel",
      "state": {
       "children": [
        "IPY_MODEL_6369c34b15594789961f5045c4d3b0cb",
        "IPY_MODEL_7a455209c065404f8b554a27224e0eff",
        "IPY_MODEL_ad4cdcc742e74d3fa84d18ba6b1ec98b",
        "IPY_MODEL_15ef6e4eb4814a7782e12ac77aaa0d10"
       ],
       "layout": "IPY_MODEL_82785fd3850e46c68c0968194fe4a768"
      }
     },
     "3b980ec67041406e8c4e7529570e738b": {
      "model_module": "@jupyter-widgets/controls",
      "model_module_version": "1.4.0",
      "model_name": "VBoxModel",
      "state": {
       "children": [
        "IPY_MODEL_23bf726b06814c619f8c965559d048a5",
        "IPY_MODEL_05e0300585c343c7a1f4eb7333015536",
        "IPY_MODEL_88a1c35c5de34e118dc466ffbde71ff6",
        "IPY_MODEL_763989e72a294fea9c681696da2efc6e"
       ],
       "layout": "IPY_MODEL_d0b30ad7fe1e4b689778332b60a7fd37"
      }
     },
     "3d835379dcdf4f32bfee453be5cbf4e8": {
      "model_module": "@jupyter-widgets/controls",
      "model_module_version": "1.4.0",
      "model_name": "CheckboxModel",
      "state": {
       "description": "FS0 = [CAT = N], FS1 = [CAT = N, GEN = MASK]",
       "disabled": false,
       "layout": "IPY_MODEL_167573074ce547628b15c358e3dcc9d9",
       "style": "IPY_MODEL_d93a5b84a56748678e5cddc0ae96c096",
       "value": false
      }
     },
     "3d8a810b52694bc38e0623e98022b91e": {
      "model_module": "@jupyter-widgets/base",
      "model_module_version": "1.1.0",
      "model_name": "LayoutModel",
      "state": {
       "width": "250px"
      }
     },
     "3df7a3a068fe43ad80004bddb925ca62": {
      "model_module": "@jupyter-widgets/base",
      "model_module_version": "1.1.0",
      "model_name": "LayoutModel",
      "state": {}
     },
     "3e6eed81054840ec9d1233956f42aa8f": {
      "model_module": "@jupyter-widgets/base",
      "model_module_version": "1.1.0",
      "model_name": "LayoutModel",
      "state": {}
     },
     "3f47cda086e04b7499c9d10cceb34bc9": {
      "model_module": "@jupyter-widgets/controls",
      "model_module_version": "1.4.0",
      "model_name": "DescriptionStyleModel",
      "state": {
       "description_width": "initial"
      }
     },
     "3f548682f38a426f87f5f55f18c21bdb": {
      "model_module": "@jupyter-widgets/controls",
      "model_module_version": "1.4.0",
      "model_name": "HBoxModel",
      "state": {
       "children": [
        "IPY_MODEL_a5f0e5764bde4d198223f27c5792f1e1"
       ],
       "layout": "IPY_MODEL_e9e12540619447cb93e84e67151ea16c"
      }
     },
     "40935c2a22d1430fb6b7281e357868d7": {
      "model_module": "@jupyter-widgets/base",
      "model_module_version": "1.1.0",
      "model_name": "LayoutModel",
      "state": {}
     },
     "40a377bf392b409f83d42313574716b2": {
      "model_module": "@jupyter-widgets/base",
      "model_module_version": "1.1.0",
      "model_name": "LayoutModel",
      "state": {
       "width": "250px"
      }
     },
     "417306475dad404693d0b32c5b781500": {
      "model_module": "@jupyter-widgets/controls",
      "model_module_version": "1.4.0",
      "model_name": "HBoxModel",
      "state": {
       "children": [
        "IPY_MODEL_9c1c492eabaa4c0483aa5cea938abdc4",
        "IPY_MODEL_5be77375762f44a4a8fa66b40e2b5049"
       ],
       "layout": "IPY_MODEL_0559483729484abc9361fdab01d1fa25"
      }
     },
     "4183b3d41873454fbb14eae852a403e5": {
      "model_module": "@jupyter-widgets/controls",
      "model_module_version": "1.4.0",
      "model_name": "DescriptionStyleModel",
      "state": {
       "description_width": ""
      }
     },
     "43941d349a1b45ef8d50c24ab3a78491": {
      "model_module": "@jupyter-widgets/controls",
      "model_module_version": "1.4.0",
      "model_name": "ButtonStyleModel",
      "state": {}
     },
     "44d71b84547a4089b85fe25e0c1ed98d": {
      "model_module": "@jupyter-widgets/base",
      "model_module_version": "1.1.0",
      "model_name": "LayoutModel",
      "state": {
       "width": "600px"
      }
     },
     "453226a651564414953915bc63cbcb9d": {
      "model_module": "@jupyter-widgets/controls",
      "model_module_version": "1.4.0",
      "model_name": "ButtonStyleModel",
      "state": {
       "button_color": "lightgreen"
      }
     },
     "459d6be64e074777a8b7b7ef45bf2d95": {
      "model_module": "@jupyter-widgets/controls",
      "model_module_version": "1.4.0",
      "model_name": "ButtonStyleModel",
      "state": {
       "button_color": "lightgreen"
      }
     },
     "475705fce8f84d61a3d7487b8420e6a9": {
      "model_module": "@jupyter-widgets/controls",
      "model_module_version": "1.4.0",
      "model_name": "VBoxModel",
      "state": {
       "children": [
        "IPY_MODEL_dc9925a57c0d44ff86689f97836aa7b0",
        "IPY_MODEL_d0290185ee5a4c39b6583aebac0cdb35",
        "IPY_MODEL_008d95c8e70d42ffbec4334dd4a8253f",
        "IPY_MODEL_b9f54e95c5a04ac788a591535b8e2580"
       ],
       "layout": "IPY_MODEL_8f51227ff7bb49869a71f2478d53aa09"
      }
     },
     "4764af527e1e4939bf1d300c2c5c87e0": {
      "model_module": "@jupyter-widgets/controls",
      "model_module_version": "1.4.0",
      "model_name": "VBoxModel",
      "state": {
       "children": [
        "IPY_MODEL_e02b08af3daa4a9397fcd178750d0f2f",
        "IPY_MODEL_626b9d9294db4f02a5251fcf788525de",
        "IPY_MODEL_21a841e30cef496581f257caf2085aec",
        "IPY_MODEL_a9a37da1570d4af6909bba79cf288f4d"
       ],
       "layout": "IPY_MODEL_4a34cf71285542859365f95a9c189274"
      }
     },
     "4786a18de55644dd85fe6c74f09ddeeb": {
      "model_module": "@jupyter-widgets/base",
      "model_module_version": "1.1.0",
      "model_name": "LayoutModel",
      "state": {}
     },
     "485a732cef534ac3a401f0a211d2f94a": {
      "model_module": "@jupyter-widgets/controls",
      "model_module_version": "1.4.0",
      "model_name": "CheckboxModel",
      "state": {
       "description": "Subjekt-Demotion zu Adverbial",
       "disabled": false,
       "layout": "IPY_MODEL_6d7b969b1ece40f8afd5bf18a8825678",
       "style": "IPY_MODEL_a8e1c12b592a4a9e9d7617e90591c5e2",
       "value": true
      }
     },
     "48841777f1674fc0a011d0fe2c9f2ddd": {
      "model_module": "@jupyter-widgets/base",
      "model_module_version": "1.1.0",
      "model_name": "LayoutModel",
      "state": {
       "width": "250px"
      }
     },
     "48a69f1fea1f4333982fd3204930e36a": {
      "model_module": "@jupyter-widgets/base",
      "model_module_version": "1.1.0",
      "model_name": "LayoutModel",
      "state": {
       "width": "250px"
      }
     },
     "49b47d909aa84796b228bf3b2b588c54": {
      "model_module": "@jupyter-widgets/controls",
      "model_module_version": "1.4.0",
      "model_name": "DescriptionStyleModel",
      "state": {
       "description_width": ""
      }
     },
     "4a34cf71285542859365f95a9c189274": {
      "model_module": "@jupyter-widgets/base",
      "model_module_version": "1.1.0",
      "model_name": "LayoutModel",
      "state": {}
     },
     "4ab1bfb84b19457fb52952692014de5d": {
      "model_module": "@jupyter-widgets/base",
      "model_module_version": "1.1.0",
      "model_name": "LayoutModel",
      "state": {}
     },
     "4b8c4ff4b225485fac2d6a55de8d5c06": {
      "model_module": "@jupyter-widgets/controls",
      "model_module_version": "1.4.0",
      "model_name": "VBoxModel",
      "state": {
       "children": [
        "IPY_MODEL_9b713d5661d641b09761dd431142e6cf",
        "IPY_MODEL_07466325862544e8813ac28fd7bfc40c",
        "IPY_MODEL_10e0d0560de944cc8723ab89170c8634"
       ],
       "layout": "IPY_MODEL_79bbf2ab92e54c8bafddacf5542638d6"
      }
     },
     "4cd1b9d702604456b35358ff2515e694": {
      "model_module": "@jupyter-widgets/controls",
      "model_module_version": "1.4.0",
      "model_name": "ButtonStyleModel",
      "state": {}
     },
     "4d1b3413c59d40fdbe14ba56264238a8": {
      "model_module": "@jupyter-widgets/base",
      "model_module_version": "1.1.0",
      "model_name": "LayoutModel",
      "state": {}
     },
     "4d908a748d6d4b12ababcf92d2e7bc3f": {
      "model_module": "@jupyter-widgets/controls",
      "model_module_version": "1.4.0",
      "model_name": "DescriptionStyleModel",
      "state": {
       "description_width": ""
      }
     },
     "4e87528e759840989bc3cf99e3b5e349": {
      "model_module": "@jupyter-widgets/controls",
      "model_module_version": "1.4.0",
      "model_name": "CheckboxModel",
      "state": {
       "description": "Variable: <- (1)",
       "disabled": false,
       "layout": "IPY_MODEL_bde70312a75f48dba1e05f2dbd545131",
       "style": "IPY_MODEL_a5f82c162a34485babe7eff92ec7c796",
       "value": false
      }
     },
     "4e985179d0664740bfb31e43464535bf": {
      "model_module": "@jupyter-widgets/controls",
      "model_module_version": "1.4.0",
      "model_name": "CheckboxModel",
      "state": {
       "description": "Passivierung (Objekt-Promotion)",
       "disabled": false,
       "layout": "IPY_MODEL_7e2a1a2dc7964f1fbc19617083dbca51",
       "style": "IPY_MODEL_cb691ef0fae24c4b8bf6149d8fb957e6",
       "value": true
      }
     },
     "4eabf1162c6a4791b165ea6d1c50182c": {
      "model_module": "@jupyter-widgets/controls",
      "model_module_version": "1.4.0",
      "model_name": "DropdownModel",
      "state": {
       "_options_labels": [
        "1",
        "10",
        "2",
        "4",
        "6",
        "8",
        "Keine der Alternativen"
       ],
       "description": "Antwort:",
       "index": 0,
       "layout": "IPY_MODEL_a5f835d749454309b39189c048ac079f",
       "style": "IPY_MODEL_83070f6201804b479f318579aacdede4"
      }
     },
     "4f5919eab5ab4ea9b12fd14fe8a3a20e": {
      "model_module": "@jupyter-widgets/controls",
      "model_module_version": "1.4.0",
      "model_name": "HBoxModel",
      "state": {
       "children": [
        "IPY_MODEL_1c94f2dfb52d4212b604a0a7e534a800",
        "IPY_MODEL_d57b29c2faa04e91b680d19c29c98452"
       ],
       "layout": "IPY_MODEL_5d15f39572fb47e19672621d4debefaa"
      }
     },
     "4f7ac60eaceb4971b22b48ba90b6ec7e": {
      "model_module": "@jupyter-widgets/controls",
      "model_module_version": "1.4.0",
      "model_name": "DescriptionStyleModel",
      "state": {
       "description_width": "initial"
      }
     },
     "4f7cd19a5dd24f0aaaf3d273f7233703": {
      "model_module": "@jupyter-widgets/controls",
      "model_module_version": "1.4.0",
      "model_name": "CheckboxModel",
      "state": {
       "description": "Ausrichtung der Empathie",
       "disabled": false,
       "layout": "IPY_MODEL_efbc4e38fbca4c8c915326d020824549",
       "style": "IPY_MODEL_7c6a811dd85e41bcba110fef88206f5e",
       "value": true
      }
     },
     "4fb9cf7156b141b29024085fa4041a9a": {
      "model_module": "@jupyter-widgets/base",
      "model_module_version": "1.1.0",
      "model_name": "LayoutModel",
      "state": {
       "justify_content": "center"
      }
     },
     "4fceae635649424f8d09d99820f3026e": {
      "model_module": "@jupyter-widgets/controls",
      "model_module_version": "1.4.0",
      "model_name": "HTMLModel",
      "state": {
       "layout": "IPY_MODEL_30f0b95893e04c4c8041e132c84ea659",
       "style": "IPY_MODEL_76fa4e91cc904f99afaa6de593b2ffac",
       "value": "<h4 style=\"font-size:14px;\">Welche der Beispiele erfüllen die Subsumptionsbeziehung aus 10b nicht?</h4>"
      }
     },
     "503f8f23b99145c4be4f6e23264d770a": {
      "model_module": "@jupyter-widgets/base",
      "model_module_version": "1.1.0",
      "model_name": "LayoutModel",
      "state": {
       "width": "600px"
      }
     },
     "513c350d4f5040c09d00c92a43129531": {
      "model_module": "@jupyter-widgets/base",
      "model_module_version": "1.1.0",
      "model_name": "LayoutModel",
      "state": {}
     },
     "51f3ef909015444eb6622702e683e666": {
      "model_module": "@jupyter-widgets/controls",
      "model_module_version": "1.4.0",
      "model_name": "HTMLModel",
      "state": {
       "layout": "IPY_MODEL_1eff9c4732b44bc3af1d7792e5440a5b",
       "style": "IPY_MODEL_9cc49f71ad204153a5067ec256ad16b7",
       "value": "<h4 style=\"font-size:14px;\">Wie werden Features in formalen Grammatiken verwendet?</h4>"
      }
     },
     "52defd447f3d44ab94eec9314fe678e1": {
      "model_module": "@jupyter-widgets/controls",
      "model_module_version": "1.4.0",
      "model_name": "HTMLModel",
      "state": {
       "layout": "IPY_MODEL_7d1d0589cad54b7cba2b86d60fa960df",
       "style": "IPY_MODEL_6cf6cb00ff17457493606e49cfda6f88",
       "value": "<h4 style=\"font-size:14px;\">keine</h4>"
      }
     },
     "5313a578273a42f1b68fe6edc31652db": {
      "model_module": "@jupyter-widgets/controls",
      "model_module_version": "1.4.0",
      "model_name": "DescriptionStyleModel",
      "state": {
       "description_width": "initial"
      }
     },
     "5318c2a1ca0e4ddab78fcbdbbd737785": {
      "model_module": "@jupyter-widgets/controls",
      "model_module_version": "1.4.0",
      "model_name": "CheckboxModel",
      "state": {
       "description": "FS0 = [CAT = N, GEN = FEM], FS1 = [CAT = DET, GEN = FEM]",
       "disabled": false,
       "layout": "IPY_MODEL_71fde5cf4f624b5b9258088af62d5a10",
       "style": "IPY_MODEL_1da1d12381eb45d398c073d1d1bdcb1d",
       "value": false
      }
     },
     "540d6202e83d46189b1f048b07967a2e": {
      "model_module": "@jupyter-widgets/controls",
      "model_module_version": "1.4.0",
      "model_name": "HBoxModel",
      "state": {
       "children": [
        "IPY_MODEL_e98ad77c042542118abbf5e659f08ba0"
       ],
       "layout": "IPY_MODEL_543ac170d10c4dee889e53979d984c7c"
      }
     },
     "543ac170d10c4dee889e53979d984c7c": {
      "model_module": "@jupyter-widgets/base",
      "model_module_version": "1.1.0",
      "model_name": "LayoutModel",
      "state": {}
     },
     "548c206fce7e42499e6859674fb14219": {
      "model_module": "@jupyter-widgets/controls",
      "model_module_version": "1.4.0",
      "model_name": "DescriptionStyleModel",
      "state": {
       "description_width": "initial"
      }
     },
     "54bc9c6e93034473ba9348f3f5d16d4e": {
      "model_module": "@jupyter-widgets/base",
      "model_module_version": "1.1.0",
      "model_name": "LayoutModel",
      "state": {
       "width": "250px"
      }
     },
     "550cc3efeb5c488eb10522193e78b3e5": {
      "model_module": "@jupyter-widgets/controls",
      "model_module_version": "1.4.0",
      "model_name": "CheckboxModel",
      "state": {
       "description": "Sie werden neu eingefügt.",
       "disabled": false,
       "layout": "IPY_MODEL_24fb64b781bb41a781d790189f73d113",
       "style": "IPY_MODEL_b6f2a7146c7a4305b8c1646194f8ea2e",
       "value": false
      }
     },
     "55ddad23524f41a6b1768210024e8f5a": {
      "model_module": "@jupyter-widgets/controls",
      "model_module_version": "1.4.0",
      "model_name": "DescriptionStyleModel",
      "state": {
       "description_width": ""
      }
     },
     "55dec04649af4f6ba83f8c6330fcf879": {
      "model_module": "@jupyter-widgets/controls",
      "model_module_version": "1.4.0",
      "model_name": "DescriptionStyleModel",
      "state": {
       "description_width": ""
      }
     },
     "5621cad9c338403ab95a77dc4ee45e04": {
      "model_module": "@jupyter-widgets/controls",
      "model_module_version": "1.4.0",
      "model_name": "DescriptionStyleModel",
      "state": {
       "description_width": ""
      }
     },
     "568c32cbbdf9463db0e04749d07450ab": {
      "model_module": "@jupyter-widgets/base",
      "model_module_version": "1.1.0",
      "model_name": "LayoutModel",
      "state": {
       "width": "600px"
      }
     },
     "56d5fffe5ff34fb7b3beb11f6b4635d7": {
      "model_module": "@jupyter-widgets/controls",
      "model_module_version": "1.4.0",
      "model_name": "ButtonStyleModel",
      "state": {}
     },
     "56ed7e7cc9c247fb9002a99e40bab882": {
      "model_module": "@jupyter-widgets/base",
      "model_module_version": "1.1.0",
      "model_name": "LayoutModel",
      "state": {
       "justify_content": "center"
      }
     },
     "56fc223339664ab9b1e54dc4580d96b5": {
      "model_module": "@jupyter-widgets/controls",
      "model_module_version": "1.4.0",
      "model_name": "CheckboxModel",
      "state": {
       "description": "Passivierung (Objekt-Promotion)",
       "disabled": false,
       "layout": "IPY_MODEL_d837793109b34140a046494dff7fe966",
       "style": "IPY_MODEL_548c206fce7e42499e6859674fb14219",
       "value": false
      }
     },
     "57534e3a9df2447c9a03ad2857beb1b9": {
      "model_module": "@jupyter-widgets/base",
      "model_module_version": "1.1.0",
      "model_name": "LayoutModel",
      "state": {
       "width": "250px"
      }
     },
     "578f8a0005ef4f21ad632e7c0f606eba": {
      "model_module": "@jupyter-widgets/controls",
      "model_module_version": "1.4.0",
      "model_name": "HBoxModel",
      "state": {
       "children": [
        "IPY_MODEL_2aed59ab257e4dfb8fe02b1180f41f54",
        "IPY_MODEL_679c8fbc7c6a45b0aa0856e05a2ca50d"
       ],
       "layout": "IPY_MODEL_6cce65e793074d958757782ffdf96e4f"
      }
     },
     "57cf34e7785347f1898e89073178a837": {
      "model_module": "@jupyter-widgets/base",
      "model_module_version": "1.1.0",
      "model_name": "LayoutModel",
      "state": {
       "width": "250px"
      }
     },
     "5848c87b929d47c09c01254f59c4451a": {
      "model_module": "@jupyter-widgets/controls",
      "model_module_version": "1.4.0",
      "model_name": "ButtonStyleModel",
      "state": {}
     },
     "589d8188159c434bb2ea3007852628df": {
      "model_module": "@jupyter-widgets/controls",
      "model_module_version": "1.4.0",
      "model_name": "ButtonStyleModel",
      "state": {}
     },
     "591e1fbbe15c4690aeb850897f3abfa8": {
      "model_module": "@jupyter-widgets/base",
      "model_module_version": "1.1.0",
      "model_name": "LayoutModel",
      "state": {}
     },
     "594be9568d3947238a1847a134a03153": {
      "model_module": "@jupyter-widgets/controls",
      "model_module_version": "1.4.0",
      "model_name": "DescriptionStyleModel",
      "state": {
       "description_width": ""
      }
     },
     "598cd8e88cf342ab8721636a6809d782": {
      "model_module": "@jupyter-widgets/base",
      "model_module_version": "1.1.0",
      "model_name": "LayoutModel",
      "state": {
       "width": "250px"
      }
     },
     "59b05e864bb44be1b1c78366ca59f4aa": {
      "model_module": "@jupyter-widgets/controls",
      "model_module_version": "1.4.0",
      "model_name": "VBoxModel",
      "state": {
       "children": [
        "IPY_MODEL_c7bac7a7840c488b83cd371da9d0c628",
        "IPY_MODEL_adb4d10bd4b84632899ca59a7a5de5c0",
        "IPY_MODEL_a48ac7cf32364d39bdfd253e06ad1c67",
        "IPY_MODEL_21dd5d1c612044dda1fbc8310feb138d"
       ],
       "layout": "IPY_MODEL_1c87cb04ec6b42e5aa4fc021bb6958c7"
      }
     },
     "59b1e1b8d43044a1bd94f66eb9cf21d4": {
      "model_module": "@jupyter-widgets/controls",
      "model_module_version": "1.4.0",
      "model_name": "ButtonStyleModel",
      "state": {
       "button_color": "lightgreen"
      }
     },
     "59e669d5d9e040f2b352e58f6af1a0d7": {
      "model_module": "@jupyter-widgets/base",
      "model_module_version": "1.1.0",
      "model_name": "LayoutModel",
      "state": {}
     },
     "59ff92f19cc44a49b52042bc08d451a3": {
      "model_module": "@jupyter-widgets/controls",
      "model_module_version": "1.4.0",
      "model_name": "DescriptionStyleModel",
      "state": {
       "description_width": "initial"
      }
     },
     "5aef44b9d51648d59dd04d04b6f25e2f": {
      "model_module": "@jupyter-widgets/controls",
      "model_module_version": "1.4.0",
      "model_name": "CheckboxModel",
      "state": {
       "description": "Die Endungen von Adjektiv und Artikel stimmen überein.",
       "disabled": false,
       "layout": "IPY_MODEL_11dd46a734c846bb929b51cbe8cc7b1b",
       "style": "IPY_MODEL_2732eaa243704a9bbb87b87476654c23",
       "value": false
      }
     },
     "5b1a6384ab4a4e1883dd2ae069bcec76": {
      "model_module": "@jupyter-widgets/controls",
      "model_module_version": "1.4.0",
      "model_name": "DescriptionStyleModel",
      "state": {
       "description_width": ""
      }
     },
     "5be77375762f44a4a8fa66b40e2b5049": {
      "model_module": "@jupyter-widgets/controls",
      "model_module_version": "1.4.0",
      "model_name": "ButtonModel",
      "state": {
       "description": "Nein",
       "layout": "IPY_MODEL_8be8d19a778d468ba530dbfdf0333fe0",
       "style": "IPY_MODEL_e470e0db1b7a40dbb3a4f969f45a09fd"
      }
     },
     "5c2362eebabe492da087c4c8365439d0": {
      "model_module": "@jupyter-widgets/controls",
      "model_module_version": "1.4.0",
      "model_name": "DescriptionStyleModel",
      "state": {
       "description_width": ""
      }
     },
     "5cb30ab6b3bf431db9d9b068f6111890": {
      "model_module": "@jupyter-widgets/controls",
      "model_module_version": "1.4.0",
      "model_name": "VBoxModel",
      "state": {
       "children": [
        "IPY_MODEL_e106fc93a024461db340a1ebe23151e3",
        "IPY_MODEL_1fbf1796c5394994826d8725609456a3",
        "IPY_MODEL_7583fe3a8f454a4eb671b2ec9bc75fa6",
        "IPY_MODEL_792a53073b88460db19339bcf1d347ef"
       ],
       "layout": "IPY_MODEL_b80090eb159a4d68839253784eae1ea5"
      }
     },
     "5cd5ffb638f34d9096d0bdf1a87e6362": {
      "model_module": "@jupyter-widgets/base",
      "model_module_version": "1.1.0",
      "model_name": "LayoutModel",
      "state": {
       "justify_content": "center"
      }
     },
     "5d15f39572fb47e19672621d4debefaa": {
      "model_module": "@jupyter-widgets/base",
      "model_module_version": "1.1.0",
      "model_name": "LayoutModel",
      "state": {}
     },
     "5e01d17ecd26444faabd7b8914acff7e": {
      "model_module": "@jupyter-widgets/controls",
      "model_module_version": "1.4.0",
      "model_name": "ButtonModel",
      "state": {
       "description": "list",
       "layout": "IPY_MODEL_b25b9d9bc04749558476e0ab8a138107",
       "style": "IPY_MODEL_bb0be738181847998bdd085e9d32f909"
      }
     },
     "5ede819f8c084b3e890530d5fe9fc755": {
      "model_module": "@jupyter-widgets/base",
      "model_module_version": "1.1.0",
      "model_name": "LayoutModel",
      "state": {}
     },
     "5f2b1b29a1764a41aa3638a6aa175973": {
      "model_module": "@jupyter-widgets/controls",
      "model_module_version": "1.4.0",
      "model_name": "DescriptionStyleModel",
      "state": {
       "description_width": ""
      }
     },
     "5fca56bdfe354605a505bfcef1d82246": {
      "model_module": "@jupyter-widgets/controls",
      "model_module_version": "1.4.0",
      "model_name": "VBoxModel",
      "state": {
       "children": [
        "IPY_MODEL_fc63f8b4eb3e417aa872f5b9553e0c61",
        "IPY_MODEL_99a6e356d9d24fc4b147fb60edf50464",
        "IPY_MODEL_417306475dad404693d0b32c5b781500"
       ],
       "layout": "IPY_MODEL_0740d3f76bfc4aae9e9b16d170c127a4"
      }
     },
     "608428216b954e1aafcbecd7d5f490b6": {
      "model_module": "@jupyter-widgets/base",
      "model_module_version": "1.1.0",
      "model_name": "LayoutModel",
      "state": {
       "width": "250px"
      }
     },
     "60ea7dab91414089841a0d33a6f4023f": {
      "model_module": "@jupyter-widgets/controls",
      "model_module_version": "1.4.0",
      "model_name": "DescriptionStyleModel",
      "state": {
       "description_width": "initial"
      }
     },
     "611446f7cdd64656b7c6bc9d7020c45c": {
      "model_module": "@jupyter-widgets/base",
      "model_module_version": "1.1.0",
      "model_name": "LayoutModel",
      "state": {}
     },
     "61925dd980dc499fa120601d405c7b87": {
      "model_module": "@jupyter-widgets/base",
      "model_module_version": "1.1.0",
      "model_name": "LayoutModel",
      "state": {}
     },
     "6206ad7ed009417fb51f24371e7dce12": {
      "model_module": "@jupyter-widgets/controls",
      "model_module_version": "1.4.0",
      "model_name": "CheckboxModel",
      "state": {
       "description": "Es ist die allgemeinere Merkmalsstruktur.",
       "disabled": false,
       "layout": "IPY_MODEL_92250e25680f44978999fd998d5681ff",
       "style": "IPY_MODEL_b3cf852fca7c4a099e2c47a801869b76",
       "value": false
      }
     },
     "626b9d9294db4f02a5251fcf788525de": {
      "model_module": "@jupyter-widgets/controls",
      "model_module_version": "1.4.0",
      "model_name": "HTMLModel",
      "state": {
       "layout": "IPY_MODEL_11add416423e4b8899e2b1041279b88e",
       "style": "IPY_MODEL_e7869c19e84148b984d8f1bd467aa510",
       "value": "<i>Wählen Sie die <ins>eine</ins> korrekte Antwort aus: </i>"
      }
     },
     "6314e29b763b489dafa1169efebb5b49": {
      "model_module": "@jupyter-widgets/controls",
      "model_module_version": "1.4.0",
      "model_name": "HTMLModel",
      "state": {
       "layout": "IPY_MODEL_e4f523f88b394e5ca58b78dc92cb06b9",
       "style": "IPY_MODEL_00dad81babf94e06a045ab770669f1e8",
       "value": "<h4 style=\"font-size:14px;\">Wie wird die Deklination der Nominalphrase <i>altes Bier</i> auch bezeichnet?</h4>"
      }
     },
     "6369c34b15594789961f5045c4d3b0cb": {
      "model_module": "@jupyter-widgets/controls",
      "model_module_version": "1.4.0",
      "model_name": "HTMLModel",
      "state": {
       "layout": "IPY_MODEL_3e6eed81054840ec9d1233956f42aa8f",
       "style": "IPY_MODEL_c128c5181963456798e8b5bd3a780385",
       "value": "<h4 style=\"font-size:14px;\">Welche kommunikativ-funktionalen Unterschiede bestehen?</h4>"
      }
     },
     "637e5af9aa344d7fbfed0e3b56e1af3c": {
      "model_module": "@jupyter-widgets/controls",
      "model_module_version": "1.4.0",
      "model_name": "CheckboxModel",
      "state": {
       "description": "Das Fehlen des Artikels hat keine Auswirkungen auf das Adjektiv.",
       "disabled": false,
       "layout": "IPY_MODEL_13ab264f4d45496aba7b330f2f534ccf",
       "style": "IPY_MODEL_a302cc70e1cd43d7a5a542eedb8d3ab5",
       "value": false
      }
     },
     "63acd3940040473097b6ce511b58a082": {
      "model_module": "@jupyter-widgets/base",
      "model_module_version": "1.1.0",
      "model_name": "LayoutModel",
      "state": {
       "width": "600px"
      }
     },
     "64b668d660134341a0762665cab27038": {
      "model_module": "@jupyter-widgets/base",
      "model_module_version": "1.1.0",
      "model_name": "LayoutModel",
      "state": {
       "width": "150px"
      }
     },
     "64f3716a0c0d43e3b39d39876d858a4d": {
      "model_module": "@jupyter-widgets/controls",
      "model_module_version": "1.4.0",
      "model_name": "CheckboxModel",
      "state": {
       "description": "Perspektivierung",
       "disabled": false,
       "layout": "IPY_MODEL_786a66746a784ccda2c72e414e394f20",
       "style": "IPY_MODEL_95307ca130454aac8f241d78fad84a32",
       "value": false
      }
     },
     "65048191c174405b9fda4616f6bfa00b": {
      "model_module": "@jupyter-widgets/controls",
      "model_module_version": "1.4.0",
      "model_name": "ButtonStyleModel",
      "state": {
       "button_color": "lightgreen"
      }
     },
     "65d56be3887b4d43a97fb0ed0dd06695": {
      "model_module": "@jupyter-widgets/controls",
      "model_module_version": "1.4.0",
      "model_name": "DescriptionStyleModel",
      "state": {
       "description_width": "initial"
      }
     },
     "65e68ea1d8ff48b7ad9bd9d60dde0dc4": {
      "model_module": "@jupyter-widgets/base",
      "model_module_version": "1.1.0",
      "model_name": "LayoutModel",
      "state": {
       "width": "600px"
      }
     },
     "66c7c3de02f4452ebc58c4d5de1b0171": {
      "model_module": "@jupyter-widgets/base",
      "model_module_version": "1.1.0",
      "model_name": "LayoutModel",
      "state": {
       "width": "600px"
      }
     },
     "676b0dfcf0f04fdfb34dad8ecb04acdf": {
      "model_module": "@jupyter-widgets/controls",
      "model_module_version": "1.4.0",
      "model_name": "DescriptionStyleModel",
      "state": {
       "description_width": ""
      }
     },
     "677d876036144fbe93508f4e7f8b8ffd": {
      "model_module": "@jupyter-widgets/controls",
      "model_module_version": "1.4.0",
      "model_name": "DescriptionStyleModel",
      "state": {
       "description_width": "initial"
      }
     },
     "679c8fbc7c6a45b0aa0856e05a2ca50d": {
      "model_module": "@jupyter-widgets/controls",
      "model_module_version": "1.4.0",
      "model_name": "ButtonModel",
      "state": {
       "description": "unbestimmten",
       "layout": "IPY_MODEL_1f18154c6e744b56a25c9beac54380f8",
       "style": "IPY_MODEL_83d9e781c9b1491d8a6e0ecb7e92e301"
      }
     },
     "685a29e7d00a417dbb4f103182b70874": {
      "model_module": "@jupyter-widgets/base",
      "model_module_version": "1.1.0",
      "model_name": "LayoutModel",
      "state": {}
     },
     "68b976aac93b40719662571c70119342": {
      "model_module": "@jupyter-widgets/controls",
      "model_module_version": "1.4.0",
      "model_name": "ButtonModel",
      "state": {
       "description": "Korrekt?",
       "layout": "IPY_MODEL_23cbaa8d80364466be5683ad7c0932f8",
       "style": "IPY_MODEL_459d6be64e074777a8b7b7ef45bf2d95"
      }
     },
     "6b18ac658bab4156b4337b5bdc469498": {
      "model_module": "@jupyter-widgets/base",
      "model_module_version": "1.1.0",
      "model_name": "LayoutModel",
      "state": {
       "width": "600px"
      }
     },
     "6b346608dc304e92871cc236568e9630": {
      "model_module": "@jupyter-widgets/controls",
      "model_module_version": "1.4.0",
      "model_name": "DescriptionStyleModel",
      "state": {
       "description_width": ""
      }
     },
     "6b43e7d9298c40a19654935a111355cd": {
      "model_module": "@jupyter-widgets/controls",
      "model_module_version": "1.4.0",
      "model_name": "HTMLModel",
      "state": {
       "layout": "IPY_MODEL_341bc9f88a7442d38ed574937015b251",
       "style": "IPY_MODEL_148be133f7ca4db8a5d9658ee64479df",
       "value": "<h4 style=\"font-size:14px;\">wird das Adjektiv hier</h4>"
      }
     },
     "6bb1f76b4d64494391626793026a0aa5": {
      "model_module": "@jupyter-widgets/base",
      "model_module_version": "1.1.0",
      "model_name": "LayoutModel",
      "state": {
       "width": "600px"
      }
     },
     "6ca932aea38a4642a90d7c6abe0987f8": {
      "model_module": "@jupyter-widgets/controls",
      "model_module_version": "1.4.0",
      "model_name": "HTMLModel",
      "state": {
       "layout": "IPY_MODEL_06ed38574c2043b98d07748e45a8d382",
       "style": "IPY_MODEL_b32e4339438d4a5e8ce12f357a8a5ede",
       "value": "<h4 style=\"font-size:14px;\">Beantworten Sie die beiden obigen Fragen.</h4>"
      }
     },
     "6cce65e793074d958757782ffdf96e4f": {
      "model_module": "@jupyter-widgets/base",
      "model_module_version": "1.1.0",
      "model_name": "LayoutModel",
      "state": {}
     },
     "6cf6cb00ff17457493606e49cfda6f88": {
      "model_module": "@jupyter-widgets/controls",
      "model_module_version": "1.4.0",
      "model_name": "DescriptionStyleModel",
      "state": {
       "description_width": ""
      }
     },
     "6d349453836e41b191709444fccfdb00": {
      "model_module": "@jupyter-widgets/controls",
      "model_module_version": "1.4.0",
      "model_name": "DescriptionStyleModel",
      "state": {
       "description_width": ""
      }
     },
     "6d5f7055125f4afb9e89d7333d5f0905": {
      "model_module": "@jupyter-widgets/controls",
      "model_module_version": "1.4.0",
      "model_name": "DescriptionStyleModel",
      "state": {
       "description_width": "initial"
      }
     },
     "6d7b969b1ece40f8afd5bf18a8825678": {
      "model_module": "@jupyter-widgets/base",
      "model_module_version": "1.1.0",
      "model_name": "LayoutModel",
      "state": {
       "width": "600px"
      }
     },
     "6d862cc1112049b8bdeef1e345406ee9": {
      "model_module": "@jupyter-widgets/base",
      "model_module_version": "1.1.0",
      "model_name": "LayoutModel",
      "state": {
       "justify_content": "center"
      }
     },
     "6e4622c3f0874eb1b68cab18bd60c26a": {
      "model_module": "@jupyter-widgets/controls",
      "model_module_version": "1.4.0",
      "model_name": "DescriptionStyleModel",
      "state": {
       "description_width": ""
      }
     },
     "6eb11dc6fe4349058d67efeec1a10d4f": {
      "model_module": "@jupyter-widgets/controls",
      "model_module_version": "1.4.0",
      "model_name": "VBoxModel",
      "state": {
       "children": [
        "IPY_MODEL_dcd5d6c83ec340a28f2a1c910f8f5c87",
        "IPY_MODEL_d154343317004213ba95d3d7e0d7fccb",
        "IPY_MODEL_2a96591ccb7c47df860fc9f611085c24",
        "IPY_MODEL_aeb042b9b8434697b9582a7801718878"
       ],
       "layout": "IPY_MODEL_2fa0dd740981481184a72dcf2da6642d"
      }
     },
     "6f23b0fcbc3b463292425685a4ef9404": {
      "model_module": "@jupyter-widgets/controls",
      "model_module_version": "1.4.0",
      "model_name": "DescriptionStyleModel",
      "state": {
       "description_width": "initial"
      }
     },
     "7183e09b4df14a4bbec62d08f88b651d": {
      "model_module": "@jupyter-widgets/controls",
      "model_module_version": "1.4.0",
      "model_name": "CheckboxModel",
      "state": {
       "description": "Das Adjektiv übernimmt die Endungen des Artikels.",
       "disabled": false,
       "layout": "IPY_MODEL_06683546d7184390a67864f5d0dc9a07",
       "style": "IPY_MODEL_d98e358bb73d48a181d5c343e16b700c",
       "value": true
      }
     },
     "71bd46234651460d885a1f8fc40b3c2f": {
      "model_module": "@jupyter-widgets/controls",
      "model_module_version": "1.4.0",
      "model_name": "CheckboxModel",
      "state": {
       "description": "x?",
       "disabled": false,
       "layout": "IPY_MODEL_d154b46e6f4244619b918ab021cf5a95",
       "style": "IPY_MODEL_9b0868c0c93546e8b62b584b016b8b24",
       "value": false
      }
     },
     "71cf2443027c4ea5a8fedc544e76d8f2": {
      "model_module": "@jupyter-widgets/base",
      "model_module_version": "1.1.0",
      "model_name": "LayoutModel",
      "state": {
       "justify_content": "center"
      }
     },
     "71ed94b31ddd4779b2f1268c40f51fef": {
      "model_module": "@jupyter-widgets/controls",
      "model_module_version": "1.4.0",
      "model_name": "CheckboxModel",
      "state": {
       "description": "Perspektivierung",
       "disabled": false,
       "layout": "IPY_MODEL_bc1df56be6aa45afb5a11738b4988240",
       "style": "IPY_MODEL_a799aa77de6d42d981faa9318dba9f32",
       "value": true
      }
     },
     "71fde5cf4f624b5b9258088af62d5a10": {
      "model_module": "@jupyter-widgets/base",
      "model_module_version": "1.1.0",
      "model_name": "LayoutModel",
      "state": {
       "width": "600px"
      }
     },
     "72cda2e059f145f6a2b0c1cc14c64c69": {
      "model_module": "@jupyter-widgets/controls",
      "model_module_version": "1.4.0",
      "model_name": "CheckboxModel",
      "state": {
       "description": "Das Genus des Adjektivs ist lexikalisch fix definiert.",
       "disabled": false,
       "layout": "IPY_MODEL_d5a97e3b07564fe9b23ae6a0a05627e9",
       "style": "IPY_MODEL_16e871c0bf8b4ae8a6a3db058851e573",
       "value": false
      }
     },
     "72ffd1f4da4d48f69240c6d38b9d174a": {
      "model_module": "@jupyter-widgets/base",
      "model_module_version": "1.1.0",
      "model_name": "LayoutModel",
      "state": {
       "width": "600px"
      }
     },
     "7403dafe32d64ebfba25de84cb7ccb7b": {
      "model_module": "@jupyter-widgets/controls",
      "model_module_version": "1.4.0",
      "model_name": "HTMLModel",
      "state": {
       "layout": "IPY_MODEL_d46d83ee7d0c426fb958f25683f13a8f",
       "style": "IPY_MODEL_1ecf310eb16741efbe68fed1f82f00ec",
       "value": "<h4 style=\"font-size:14px;\">Für die Deklination ist hier relevant, ob das Adjektiv mit einem ____________ Artikel auftritt oder nicht.</h4>"
      }
     },
     "7433f47a1d894cf0b01f08e57ef4a031": {
      "model_module": "@jupyter-widgets/controls",
      "model_module_version": "1.4.0",
      "model_name": "CheckboxModel",
      "state": {
       "description": "Die Form des Adjektivs ist in jedem Kasus unterschiedlich.",
       "disabled": false,
       "layout": "IPY_MODEL_d18614ee9455431d924ffdfb459fc2d0",
       "style": "IPY_MODEL_6f23b0fcbc3b463292425685a4ef9404",
       "value": false
      }
     },
     "74dd18ab2d924f498f21890b34688217": {
      "model_module": "@jupyter-widgets/base",
      "model_module_version": "1.1.0",
      "model_name": "LayoutModel",
      "state": {}
     },
     "74e4d7ac2c1648bf8ae8cff1cf6cf735": {
      "model_module": "@jupyter-widgets/base",
      "model_module_version": "1.1.0",
      "model_name": "LayoutModel",
      "state": {
       "width": "600px"
      }
     },
     "7583fe3a8f454a4eb671b2ec9bc75fa6": {
      "model_module": "@jupyter-widgets/controls",
      "model_module_version": "1.4.0",
      "model_name": "VBoxModel",
      "state": {
       "children": [
        "IPY_MODEL_00e07760d0a34a25809f79180d905e13",
        "IPY_MODEL_1831328ae6c74f52b3cf2ac2e13db5e7",
        "IPY_MODEL_a2be479c16524cd189517c1bb8016b93"
       ],
       "layout": "IPY_MODEL_fe980841d29c42cf8247fdd3eb5ab35d"
      }
     },
     "75a41b4d2dab4330b5ee1b540d48478a": {
      "model_module": "@jupyter-widgets/base",
      "model_module_version": "1.1.0",
      "model_name": "LayoutModel",
      "state": {
       "width": "600px"
      }
     },
     "763989e72a294fea9c681696da2efc6e": {
      "model_module": "@jupyter-widgets/controls",
      "model_module_version": "1.4.0",
      "model_name": "ButtonModel",
      "state": {
       "description": "Korrekt?",
       "layout": "IPY_MODEL_aaa187f7b89048be8ecd75dfc3bce231",
       "style": "IPY_MODEL_28dda166ef84483199c95ca8aeda015d"
      }
     },
     "764c27ed5e134149a099d7401dad7f61": {
      "model_module": "@jupyter-widgets/base",
      "model_module_version": "1.1.0",
      "model_name": "LayoutModel",
      "state": {
       "width": "600px"
      }
     },
     "76c4471d049c454e9d65e68224b9bb14": {
      "model_module": "@jupyter-widgets/base",
      "model_module_version": "1.1.0",
      "model_name": "LayoutModel",
      "state": {
       "width": "250px"
      }
     },
     "76fa4e91cc904f99afaa6de593b2ffac": {
      "model_module": "@jupyter-widgets/controls",
      "model_module_version": "1.4.0",
      "model_name": "DescriptionStyleModel",
      "state": {
       "description_width": ""
      }
     },
     "77893b47cdf24a77b98fb271cd60c3b5": {
      "model_module": "@jupyter-widgets/controls",
      "model_module_version": "1.4.0",
      "model_name": "ButtonStyleModel",
      "state": {
       "button_color": "lightgreen"
      }
     },
     "77ae296ead6040a384ed089f4cd714cc": {
      "model_module": "@jupyter-widgets/controls",
      "model_module_version": "1.4.0",
      "model_name": "VBoxModel",
      "state": {
       "children": [
        "IPY_MODEL_6314e29b763b489dafa1169efebb5b49",
        "IPY_MODEL_11e792abc8fd486d9e1f385b806ea118",
        "IPY_MODEL_4f5919eab5ab4ea9b12fd14fe8a3a20e",
        "IPY_MODEL_3f548682f38a426f87f5f55f18c21bdb"
       ],
       "layout": "IPY_MODEL_e2f80cd0324f47609fbe668a345f3548"
      }
     },
     "7847f2d86e2a4282b14bc34a76c4338f": {
      "model_module": "@jupyter-widgets/base",
      "model_module_version": "1.1.0",
      "model_name": "LayoutModel",
      "state": {}
     },
     "786a66746a784ccda2c72e414e394f20": {
      "model_module": "@jupyter-widgets/base",
      "model_module_version": "1.1.0",
      "model_name": "LayoutModel",
      "state": {
       "width": "600px"
      }
     },
     "792a53073b88460db19339bcf1d347ef": {
      "model_module": "@jupyter-widgets/controls",
      "model_module_version": "1.4.0",
      "model_name": "ButtonModel",
      "state": {
       "description": "Korrekt?",
       "layout": "IPY_MODEL_0d631da6a21a49e4bdf01667aecd9993",
       "style": "IPY_MODEL_0573e66e913646d282c7cb33f8a79da3"
      }
     },
     "794a6353f75b49e0945e2e86aa56aff5": {
      "model_module": "@jupyter-widgets/base",
      "model_module_version": "1.1.0",
      "model_name": "LayoutModel",
      "state": {}
     },
     "79bbf2ab92e54c8bafddacf5542638d6": {
      "model_module": "@jupyter-widgets/base",
      "model_module_version": "1.1.0",
      "model_name": "LayoutModel",
      "state": {}
     },
     "7a455209c065404f8b554a27224e0eff": {
      "model_module": "@jupyter-widgets/controls",
      "model_module_version": "1.4.0",
      "model_name": "HTMLModel",
      "state": {
       "layout": "IPY_MODEL_1113d136f87444e1b058e3a2d1e41a1b",
       "style": "IPY_MODEL_fbeb475f50a349c5ba782b6d3bc7c158",
       "value": "<i>Markieren Sie <ins>alle</ins> passenden Antworten: </i>"
      }
     },
     "7a76d324959e43e9a5049fe0d1a357af": {
      "model_module": "@jupyter-widgets/base",
      "model_module_version": "1.1.0",
      "model_name": "LayoutModel",
      "state": {
       "width": "600px"
      }
     },
     "7ae6a01ab6d64449bdffff385cd94d14": {
      "model_module": "@jupyter-widgets/controls",
      "model_module_version": "1.4.0",
      "model_name": "HTMLModel",
      "state": {
       "layout": "IPY_MODEL_fe311877fc394158b5497b26bea11b42",
       "style": "IPY_MODEL_d62310382a994c839391bc08216a4f97",
       "value": "<i>Wählen Sie die <ins>eine</ins> korrekte Antwort aus: </i>"
      }
     },
     "7b111e31c8394b8f851cf5e8c2025d11": {
      "model_module": "@jupyter-widgets/controls",
      "model_module_version": "1.4.0",
      "model_name": "DescriptionStyleModel",
      "state": {
       "description_width": "initial"
      }
     },
     "7b973c8a1af242ce89864624ef49440e": {
      "model_module": "@jupyter-widgets/controls",
      "model_module_version": "1.4.0",
      "model_name": "DescriptionStyleModel",
      "state": {
       "description_width": "initial"
      }
     },
     "7c4cd710678a4399ad4ea0ed2951bf2b": {
      "model_module": "@jupyter-widgets/base",
      "model_module_version": "1.1.0",
      "model_name": "LayoutModel",
      "state": {
       "width": "600px"
      }
     },
     "7c6a811dd85e41bcba110fef88206f5e": {
      "model_module": "@jupyter-widgets/controls",
      "model_module_version": "1.4.0",
      "model_name": "DescriptionStyleModel",
      "state": {
       "description_width": "initial"
      }
     },
     "7cdb90511b9143e89b7ad13aa89cb6f2": {
      "model_module": "@jupyter-widgets/base",
      "model_module_version": "1.1.0",
      "model_name": "LayoutModel",
      "state": {
       "width": "250px"
      }
     },
     "7d1d0589cad54b7cba2b86d60fa960df": {
      "model_module": "@jupyter-widgets/base",
      "model_module_version": "1.1.0",
      "model_name": "LayoutModel",
      "state": {}
     },
     "7d24d9cddeb34abd8b9929728711f3c4": {
      "model_module": "@jupyter-widgets/base",
      "model_module_version": "1.1.0",
      "model_name": "LayoutModel",
      "state": {}
     },
     "7d6afdbfa9504fd1a19cb7b722db91bc": {
      "model_module": "@jupyter-widgets/controls",
      "model_module_version": "1.4.0",
      "model_name": "HTMLModel",
      "state": {
       "layout": "IPY_MODEL_5cd5ffb638f34d9096d0bdf1a87e6362",
       "style": "IPY_MODEL_55ddad23524f41a6b1768210024e8f5a",
       "value": "<h4 style=\"font-size:14px;\">Was ist der bevorzugte Kandidat zur Realisierung im Subjekt?</h4>"
      }
     },
     "7e2a1a2dc7964f1fbc19617083dbca51": {
      "model_module": "@jupyter-widgets/base",
      "model_module_version": "1.1.0",
      "model_name": "LayoutModel",
      "state": {
       "width": "600px"
      }
     },
     "7e4c93e5db1e433199c6ab856c2e7116": {
      "model_module": "@jupyter-widgets/base",
      "model_module_version": "1.1.0",
      "model_name": "LayoutModel",
      "state": {}
     },
     "7e990f8a9de4474b9840d1a01d6ee912": {
      "model_module": "@jupyter-widgets/controls",
      "model_module_version": "1.4.0",
      "model_name": "DescriptionStyleModel",
      "state": {
       "description_width": ""
      }
     },
     "7f47236a5ab547d59d054f7a306e4e3d": {
      "model_module": "@jupyter-widgets/base",
      "model_module_version": "1.1.0",
      "model_name": "LayoutModel",
      "state": {}
     },
     "7f508248afe84ef3aacf667aa3aa7267": {
      "model_module": "@jupyter-widgets/base",
      "model_module_version": "1.1.0",
      "model_name": "LayoutModel",
      "state": {
       "width": "250px"
      }
     },
     "7f717e182b914698824bf751c29f6555": {
      "model_module": "@jupyter-widgets/controls",
      "model_module_version": "1.4.0",
      "model_name": "VBoxModel",
      "state": {
       "children": [
        "IPY_MODEL_1689ddbfd44c4c0aaa22f395008138c0",
        "IPY_MODEL_813f0a8b23314732bd682ccb2fd8d2e0",
        "IPY_MODEL_2ea6be1310d948369164c622508a9a03"
       ],
       "layout": "IPY_MODEL_f602cbecff824beaa10e6ffc12c7dd62"
      }
     },
     "80adc789c03045dcbb1d806ae484e78a": {
      "model_module": "@jupyter-widgets/base",
      "model_module_version": "1.1.0",
      "model_name": "LayoutModel",
      "state": {
       "width": "600px"
      }
     },
     "80f54efb60294bd2a02d3a5df0b47efa": {
      "model_module": "@jupyter-widgets/controls",
      "model_module_version": "1.4.0",
      "model_name": "HTMLModel",
      "state": {
       "layout": "IPY_MODEL_c7b2bc2bff4f45b5b36a1364aabcdaad",
       "style": "IPY_MODEL_27b6eb003ebb412c9decde3adeba99ff",
       "value": "<h4 style=\"font-size:14px;\">Welche Aussagen gelten für Nominalphrasen mit bestimmtem Artikel?</h4>"
      }
     },
     "813f0a8b23314732bd682ccb2fd8d2e0": {
      "model_module": "@jupyter-widgets/controls",
      "model_module_version": "1.4.0",
      "model_name": "CheckboxModel",
      "state": {
       "description": "74; ( 'number', 'address')",
       "disabled": false,
       "layout": "IPY_MODEL_7a76d324959e43e9a5049fe0d1a357af",
       "style": "IPY_MODEL_82982b51c06a4bc5abf0c70d81602ceb",
       "value": false
      }
     },
     "82785fd3850e46c68c0968194fe4a768": {
      "model_module": "@jupyter-widgets/base",
      "model_module_version": "1.1.0",
      "model_name": "LayoutModel",
      "state": {}
     },
     "828c969f88474fe4a13b920e77991886": {
      "model_module": "@jupyter-widgets/controls",
      "model_module_version": "1.4.0",
      "model_name": "CheckboxModel",
      "state": {
       "description": "Sie werden aktualisiert.",
       "disabled": false,
       "layout": "IPY_MODEL_cb2c5f0c8dea45c9b64db3d95b27a72c",
       "style": "IPY_MODEL_d0790ed05e91435eb6a6d2bbf83fea08",
       "value": false
      }
     },
     "82982b51c06a4bc5abf0c70d81602ceb": {
      "model_module": "@jupyter-widgets/controls",
      "model_module_version": "1.4.0",
      "model_name": "DescriptionStyleModel",
      "state": {
       "description_width": "initial"
      }
     },
     "829b0a6ca9b348258320c390bf1c83d1": {
      "model_module": "@jupyter-widgets/base",
      "model_module_version": "1.1.0",
      "model_name": "LayoutModel",
      "state": {
       "width": "250px"
      }
     },
     "83070f6201804b479f318579aacdede4": {
      "model_module": "@jupyter-widgets/controls",
      "model_module_version": "1.4.0",
      "model_name": "DescriptionStyleModel",
      "state": {
       "description_width": ""
      }
     },
     "83bbb55066094bc8b6e6f22bc7502a1d": {
      "model_module": "@jupyter-widgets/controls",
      "model_module_version": "1.4.0",
      "model_name": "ButtonStyleModel",
      "state": {}
     },
     "83d2665935af4be4891e6e21e8d94446": {
      "model_module": "@jupyter-widgets/base",
      "model_module_version": "1.1.0",
      "model_name": "LayoutModel",
      "state": {}
     },
     "83d9e781c9b1491d8a6e0ecb7e92e301": {
      "model_module": "@jupyter-widgets/controls",
      "model_module_version": "1.4.0",
      "model_name": "ButtonStyleModel",
      "state": {}
     },
     "841d01efcc9e48dc8e60cd1ea9c54d95": {
      "model_module": "@jupyter-widgets/controls",
      "model_module_version": "1.4.0",
      "model_name": "DescriptionStyleModel",
      "state": {
       "description_width": ""
      }
     },
     "84ec93b43a10470089219fa189529d72": {
      "model_module": "@jupyter-widgets/base",
      "model_module_version": "1.1.0",
      "model_name": "LayoutModel",
      "state": {}
     },
     "8572b2bffe064681a56c735895094497": {
      "model_module": "@jupyter-widgets/base",
      "model_module_version": "1.1.0",
      "model_name": "LayoutModel",
      "state": {
       "width": "250px"
      }
     },
     "8585ed38dd444173b9b218587258bbae": {
      "model_module": "@jupyter-widgets/controls",
      "model_module_version": "1.4.0",
      "model_name": "HTMLModel",
      "state": {
       "layout": "IPY_MODEL_9a1a8aac7ebd49a5bb25d01cc3341bab",
       "style": "IPY_MODEL_55dec04649af4f6ba83f8c6330fcf879",
       "value": "<i>Wählen Sie die <ins>eine</ins> korrekte Antwort aus: </i>"
      }
     },
     "8633a58a8ccf48dd8cab365baa49ad76": {
      "model_module": "@jupyter-widgets/controls",
      "model_module_version": "1.4.0",
      "model_name": "HBoxModel",
      "state": {
       "children": [
        "IPY_MODEL_3ad097f0188f4b33a45ee2cf01c81a20"
       ],
       "layout": "IPY_MODEL_61925dd980dc499fa120601d405c7b87"
      }
     },
     "86d738f9544f49a39ee717286bbaee17": {
      "model_module": "@jupyter-widgets/controls",
      "model_module_version": "1.4.0",
      "model_name": "ButtonModel",
      "state": {
       "description": "Korrekt?",
       "layout": "IPY_MODEL_b726b4157ff04437b7f98c84e149a71e",
       "style": "IPY_MODEL_4cd1b9d702604456b35358ff2515e694"
      }
     },
     "87302441b6604aae835f15d2277111a4": {
      "model_module": "@jupyter-widgets/controls",
      "model_module_version": "1.4.0",
      "model_name": "VBoxModel",
      "state": {
       "children": [
        "IPY_MODEL_136cd6c5e54d47c4b79d955c859a402a",
        "IPY_MODEL_4e985179d0664740bfb31e43464535bf",
        "IPY_MODEL_64f3716a0c0d43e3b39d39876d858a4d",
        "IPY_MODEL_485a732cef534ac3a401f0a211d2f94a"
       ],
       "layout": "IPY_MODEL_275b0e311e8e41f59653816f2e9c93ba"
      }
     },
     "8778d25ce70440558b998d575f3405fe": {
      "model_module": "@jupyter-widgets/controls",
      "model_module_version": "1.4.0",
      "model_name": "DescriptionStyleModel",
      "state": {
       "description_width": ""
      }
     },
     "884f5f016df7409b975d00b07bc0fc45": {
      "model_module": "@jupyter-widgets/controls",
      "model_module_version": "1.4.0",
      "model_name": "HBoxModel",
      "state": {
       "children": [
        "IPY_MODEL_3a8ddabaac614237a10b3591bc0bd5f0",
        "IPY_MODEL_5e01d17ecd26444faabd7b8914acff7e"
       ],
       "layout": "IPY_MODEL_59e669d5d9e040f2b352e58f6af1a0d7"
      }
     },
     "88a1c35c5de34e118dc466ffbde71ff6": {
      "model_module": "@jupyter-widgets/controls",
      "model_module_version": "1.4.0",
      "model_name": "VBoxModel",
      "state": {
       "children": [
        "IPY_MODEL_c2e172d70ec64ccbbdcf985b25e5af3c",
        "IPY_MODEL_1042ef7a260844bfbedaafdf5fc2a6a3",
        "IPY_MODEL_ac23cc0feab14d67a508a32965f4e5dc",
        "IPY_MODEL_3d835379dcdf4f32bfee453be5cbf4e8"
       ],
       "layout": "IPY_MODEL_ffce896a47f54d90a19f07a6a9c8b8b1"
      }
     },
     "899e2018a3294bfd880a7d9055273d66": {
      "model_module": "@jupyter-widgets/controls",
      "model_module_version": "1.4.0",
      "model_name": "DescriptionStyleModel",
      "state": {
       "description_width": "initial"
      }
     },
     "89f76f9cb84a41c8988bfd0d9b58156d": {
      "model_module": "@jupyter-widgets/controls",
      "model_module_version": "1.4.0",
      "model_name": "DescriptionStyleModel",
      "state": {
       "description_width": ""
      }
     },
     "8a4f48921d1140e2951aa4f1961a21bc": {
      "model_module": "@jupyter-widgets/controls",
      "model_module_version": "1.4.0",
      "model_name": "DescriptionStyleModel",
      "state": {
       "description_width": ""
      }
     },
     "8a54163368e841aba53305f27a7a81e8": {
      "model_module": "@jupyter-widgets/base",
      "model_module_version": "1.1.0",
      "model_name": "LayoutModel",
      "state": {}
     },
     "8ab4b7f8d1d346fe8475c6b5b63833a4": {
      "model_module": "@jupyter-widgets/controls",
      "model_module_version": "1.4.0",
      "model_name": "CheckboxModel",
      "state": {
       "description": "Das Adjektiv übernimmt die Genus- und z.T. die Kasusmarkierung.",
       "disabled": false,
       "layout": "IPY_MODEL_355f331183164914a77cc514bcce5cb2",
       "style": "IPY_MODEL_0e7d669715084725bc6c3537ad1d6e45",
       "value": true
      }
     },
     "8bb7b2d83a4b4a16a656de82765709af": {
      "model_module": "@jupyter-widgets/controls",
      "model_module_version": "1.4.0",
      "model_name": "DescriptionStyleModel",
      "state": {
       "description_width": "initial"
      }
     },
     "8be8d19a778d468ba530dbfdf0333fe0": {
      "model_module": "@jupyter-widgets/base",
      "model_module_version": "1.1.0",
      "model_name": "LayoutModel",
      "state": {
       "width": "250px"
      }
     },
     "8c1358abfcfb4cfa96598718fe50e301": {
      "model_module": "@jupyter-widgets/base",
      "model_module_version": "1.1.0",
      "model_name": "LayoutModel",
      "state": {}
     },
     "8d52c6e57f2b4e66b028feb694cc8e19": {
      "model_module": "@jupyter-widgets/controls",
      "model_module_version": "1.4.0",
      "model_name": "ButtonModel",
      "state": {
       "description": "Locative",
       "layout": "IPY_MODEL_b7087748cdc34275bc4085a010473b92",
       "style": "IPY_MODEL_ebf03b4fce584491a41ba6847a0a8483"
      }
     },
     "8dce96db91d14446a3e7f0d317022a06": {
      "model_module": "@jupyter-widgets/controls",
      "model_module_version": "1.4.0",
      "model_name": "DescriptionStyleModel",
      "state": {
       "description_width": ""
      }
     },
     "8df8c5b381fa48e9a19cf896897f1de6": {
      "model_module": "@jupyter-widgets/base",
      "model_module_version": "1.1.0",
      "model_name": "LayoutModel",
      "state": {
       "justify_content": "center"
      }
     },
     "8e0015b8ccc74ae2bd23fa186593a248": {
      "model_module": "@jupyter-widgets/controls",
      "model_module_version": "1.4.0",
      "model_name": "VBoxModel",
      "state": {
       "children": [
        "IPY_MODEL_4fceae635649424f8d09d99820f3026e",
        "IPY_MODEL_24e9bdc472a640789264b2aaaa210cf3",
        "IPY_MODEL_31c1899d7fbc4ca489154d0eea290bab",
        "IPY_MODEL_d5ce78931ab648059ef22314dc8d43ad"
       ],
       "layout": "IPY_MODEL_92eade8b29564207b83d74e27de37364"
      }
     },
     "8f51227ff7bb49869a71f2478d53aa09": {
      "model_module": "@jupyter-widgets/base",
      "model_module_version": "1.1.0",
      "model_name": "LayoutModel",
      "state": {}
     },
     "92250e25680f44978999fd998d5681ff": {
      "model_module": "@jupyter-widgets/base",
      "model_module_version": "1.1.0",
      "model_name": "LayoutModel",
      "state": {
       "width": "600px"
      }
     },
     "92663015b5ac4923aafa0025cf5fec66": {
      "model_module": "@jupyter-widgets/base",
      "model_module_version": "1.1.0",
      "model_name": "LayoutModel",
      "state": {
       "width": "600px"
      }
     },
     "927d847bcb81428ca86e3690f3b60824": {
      "model_module": "@jupyter-widgets/base",
      "model_module_version": "1.1.0",
      "model_name": "LayoutModel",
      "state": {
       "justify_content": "center"
      }
     },
     "92eade8b29564207b83d74e27de37364": {
      "model_module": "@jupyter-widgets/base",
      "model_module_version": "1.1.0",
      "model_name": "LayoutModel",
      "state": {}
     },
     "932d254bb3ba43bfbfedee4dc485b185": {
      "model_module": "@jupyter-widgets/controls",
      "model_module_version": "1.4.0",
      "model_name": "CheckboxModel",
      "state": {
       "description": "Sie werden im Vorhinein deklariert (feature lexicon)",
       "disabled": false,
       "layout": "IPY_MODEL_66c7c3de02f4452ebc58c4d5de1b0171",
       "style": "IPY_MODEL_022026b48fb742408947edb662f6e312",
       "value": false
      }
     },
     "93d944e3386c4d448794084c13aa5923": {
      "model_module": "@jupyter-widgets/controls",
      "model_module_version": "1.4.0",
      "model_name": "HBoxModel",
      "state": {
       "children": [
        "IPY_MODEL_993fd7154c3a4f408e080db379243656",
        "IPY_MODEL_1aefe94dd314417ba132fa9e87e61fe7"
       ],
       "layout": "IPY_MODEL_84ec93b43a10470089219fa189529d72"
      }
     },
     "943d723ae8cc4319b17a278d7f13a0c9": {
      "model_module": "@jupyter-widgets/base",
      "model_module_version": "1.1.0",
      "model_name": "LayoutModel",
      "state": {}
     },
     "9451a7967ea24940ac8848b1bbcb8e1b": {
      "model_module": "@jupyter-widgets/base",
      "model_module_version": "1.1.0",
      "model_name": "LayoutModel",
      "state": {}
     },
     "9455d72a535246ae8c1dd52b75fd3a1a": {
      "model_module": "@jupyter-widgets/base",
      "model_module_version": "1.1.0",
      "model_name": "LayoutModel",
      "state": {}
     },
     "94ba0b60da9a4be4b2b3d878c895489e": {
      "model_module": "@jupyter-widgets/controls",
      "model_module_version": "1.4.0",
      "model_name": "HBoxModel",
      "state": {
       "children": [
        "IPY_MODEL_235a901ff5bb4d65b7da209f6b52aa74",
        "IPY_MODEL_3326e731837b41cc91ea04c877c411b7"
       ],
       "layout": "IPY_MODEL_4d1b3413c59d40fdbe14ba56264238a8"
      }
     },
     "94c8fcaece33405693ffa77eabdbbeba": {
      "model_module": "@jupyter-widgets/controls",
      "model_module_version": "1.4.0",
      "model_name": "CheckboxModel",
      "state": {
       "description": "Sie werden gelöscht.",
       "disabled": false,
       "layout": "IPY_MODEL_0f561e3beb1a43bba84e7f7513d158a5",
       "style": "IPY_MODEL_efe6fc7e62754780814f4c87ee76f606",
       "value": false
      }
     },
     "95307ca130454aac8f241d78fad84a32": {
      "model_module": "@jupyter-widgets/controls",
      "model_module_version": "1.4.0",
      "model_name": "DescriptionStyleModel",
      "state": {
       "description_width": "initial"
      }
     },
     "95d9cf30de0c4d0bbdf5d64df22d84c7": {
      "model_module": "@jupyter-widgets/controls",
      "model_module_version": "1.4.0",
      "model_name": "ButtonModel",
      "state": {
       "description": "starke Deklination",
       "layout": "IPY_MODEL_598cd8e88cf342ab8721636a6809d782",
       "style": "IPY_MODEL_acd154fc6e5c4d2db0ee422c2085009e"
      }
     },
     "95e16a8a8cc1434b95625343760561c1": {
      "model_module": "@jupyter-widgets/base",
      "model_module_version": "1.1.0",
      "model_name": "LayoutModel",
      "state": {}
     },
     "9606a3b2e9804318b10bd9153e125eeb": {
      "model_module": "@jupyter-widgets/controls",
      "model_module_version": "1.4.0",
      "model_name": "HTMLModel",
      "state": {
       "layout": "IPY_MODEL_4fb9cf7156b141b29024085fa4041a9a",
       "style": "IPY_MODEL_adf06600861a4b3c8a65529fc6cd15b4",
       "value": "<i>Wählen Sie die <ins>eine</ins> korrekte Antwort aus: </i>"
      }
     },
     "969e0bc81e6846f4b4b9b48c20ffa7a7": {
      "model_module": "@jupyter-widgets/controls",
      "model_module_version": "1.4.0",
      "model_name": "ButtonStyleModel",
      "state": {}
     },
     "9717b5a04cbf43d888e13cf03efc73c2": {
      "model_module": "@jupyter-widgets/base",
      "model_module_version": "1.1.0",
      "model_name": "LayoutModel",
      "state": {
       "width": "250px"
      }
     },
     "984efcbc54144d11b8d10c052b628bd4": {
      "model_module": "@jupyter-widgets/controls",
      "model_module_version": "1.4.0",
      "model_name": "ButtonStyleModel",
      "state": {
       "button_color": "lightgreen"
      }
     },
     "993fd7154c3a4f408e080db379243656": {
      "model_module": "@jupyter-widgets/controls",
      "model_module_version": "1.4.0",
      "model_name": "ButtonModel",
      "state": {
       "description": "stack",
       "layout": "IPY_MODEL_2a4eaaa986d8403396d2844cd6ed793f",
       "style": "IPY_MODEL_43941d349a1b45ef8d50c24ab3a78491"
      }
     },
     "99a6e356d9d24fc4b147fb60edf50464": {
      "model_module": "@jupyter-widgets/controls",
      "model_module_version": "1.4.0",
      "model_name": "HTMLModel",
      "state": {
       "layout": "IPY_MODEL_c45a2a774e7249a68c97f1c206cea6ba",
       "style": "IPY_MODEL_3a825f38a95743ed8e2185358c8dab8b",
       "value": "<i>Wählen Sie die <ins>eine</ins> korrekte Antwort aus: </i>"
      }
     },
     "9a1a8aac7ebd49a5bb25d01cc3341bab": {
      "model_module": "@jupyter-widgets/base",
      "model_module_version": "1.1.0",
      "model_name": "LayoutModel",
      "state": {
       "justify_content": "center"
      }
     },
     "9b0868c0c93546e8b62b584b016b8b24": {
      "model_module": "@jupyter-widgets/controls",
      "model_module_version": "1.4.0",
      "model_name": "DescriptionStyleModel",
      "state": {
       "description_width": "initial"
      }
     },
     "9b713d5661d641b09761dd431142e6cf": {
      "model_module": "@jupyter-widgets/controls",
      "model_module_version": "1.4.0",
      "model_name": "HTMLModel",
      "state": {
       "layout": "IPY_MODEL_c3c9d1fe229c4aa79e98b608e067be39",
       "style": "IPY_MODEL_b4a23e51fec5426ba406e6f76e8dbb9b",
       "value": "<i>Vervollständigen Sie den Lückentext: </i>"
      }
     },
     "9ba0fb8758ca44b7bff8ba581f855fa9": {
      "model_module": "@jupyter-widgets/controls",
      "model_module_version": "1.4.0",
      "model_name": "ButtonModel",
      "state": {
       "description": "Benefaktiv",
       "layout": "IPY_MODEL_e6877d4a873f4688a85339544559dc2d",
       "style": "IPY_MODEL_bcbf330e3b114c01aa3a567c1f22394d"
      }
     },
     "9bb7fdfad88944eabea31167d79733b2": {
      "model_module": "@jupyter-widgets/controls",
      "model_module_version": "1.4.0",
      "model_name": "CheckboxModel",
      "state": {
       "description": "Die Form vom Adjektiven hängt niemals von irgendeinem Genus ab.",
       "disabled": false,
       "layout": "IPY_MODEL_0d924749ebc64d5090cec6618787e8f6",
       "style": "IPY_MODEL_3f47cda086e04b7499c9d10cceb34bc9",
       "value": false
      }
     },
     "9bef2c1c360244f485dad6a5a133d02c": {
      "model_module": "@jupyter-widgets/controls",
      "model_module_version": "1.4.0",
      "model_name": "ButtonStyleModel",
      "state": {}
     },
     "9c090189ee9e466c8201913a840fe777": {
      "model_module": "@jupyter-widgets/controls",
      "model_module_version": "1.4.0",
      "model_name": "DescriptionStyleModel",
      "state": {
       "description_width": ""
      }
     },
     "9c1c492eabaa4c0483aa5cea938abdc4": {
      "model_module": "@jupyter-widgets/controls",
      "model_module_version": "1.4.0",
      "model_name": "ButtonModel",
      "state": {
       "description": "Ja",
       "layout": "IPY_MODEL_7f508248afe84ef3aacf667aa3aa7267",
       "style": "IPY_MODEL_c88cf42c04f741deb738dad4c5e7c2c0"
      }
     },
     "9c86b0e163d44ebd87be0b9b4eda30e1": {
      "model_module": "@jupyter-widgets/controls",
      "model_module_version": "1.4.0",
      "model_name": "DescriptionStyleModel",
      "state": {
       "description_width": ""
      }
     },
     "9cc49f71ad204153a5067ec256ad16b7": {
      "model_module": "@jupyter-widgets/controls",
      "model_module_version": "1.4.0",
      "model_name": "DescriptionStyleModel",
      "state": {
       "description_width": ""
      }
     },
     "9de2405f36aa4f3f948c019b33a97d7b": {
      "model_module": "@jupyter-widgets/controls",
      "model_module_version": "1.4.0",
      "model_name": "HTMLModel",
      "state": {
       "layout": "IPY_MODEL_8df8c5b381fa48e9a19cf896897f1de6",
       "style": "IPY_MODEL_7e990f8a9de4474b9840d1a01d6ee912",
       "value": "<i>Wählen Sie die <ins>eine</ins> korrekte Antwort aus: </i>"
      }
     },
     "9de9b4cc93d347deb131fce63b884367": {
      "model_module": "@jupyter-widgets/controls",
      "model_module_version": "1.4.0",
      "model_name": "DescriptionStyleModel",
      "state": {
       "description_width": "initial"
      }
     },
     "9e4b2b1210ef4b8cb5565c0107f68340": {
      "model_module": "@jupyter-widgets/controls",
      "model_module_version": "1.4.0",
      "model_name": "HBoxModel",
      "state": {
       "children": [
        "IPY_MODEL_cf1f0af995f24b2b83f07a5ed7c3d811"
       ],
       "layout": "IPY_MODEL_8a54163368e841aba53305f27a7a81e8"
      }
     },
     "9e89586baee8453abbc6ab009c61a972": {
      "model_module": "@jupyter-widgets/controls",
      "model_module_version": "1.4.0",
      "model_name": "VBoxModel",
      "state": {
       "children": [
        "IPY_MODEL_7d6afdbfa9504fd1a19cb7b722db91bc",
        "IPY_MODEL_9de2405f36aa4f3f948c019b33a97d7b",
        "IPY_MODEL_b0341f82695a486b8c32a2b0ca3f8983",
        "IPY_MODEL_e188c79e240a462b92d01b6145dd7700",
        "IPY_MODEL_ffec40677cc543b688981f97e26830da",
        "IPY_MODEL_540d6202e83d46189b1f048b07967a2e"
       ],
       "layout": "IPY_MODEL_40935c2a22d1430fb6b7281e357868d7"
      }
     },
     "9f04f9d402304000827e0e6e50dd274e": {
      "model_module": "@jupyter-widgets/controls",
      "model_module_version": "1.4.0",
      "model_name": "ButtonStyleModel",
      "state": {}
     },
     "9fa701364788443eab73c8ae274bea0d": {
      "model_module": "@jupyter-widgets/base",
      "model_module_version": "1.1.0",
      "model_name": "LayoutModel",
      "state": {
       "width": "250px"
      }
     },
     "a014006e30eb444a8d42f19e21a069a5": {
      "model_module": "@jupyter-widgets/controls",
      "model_module_version": "1.4.0",
      "model_name": "ButtonStyleModel",
      "state": {
       "button_color": "lightgreen"
      }
     },
     "a044ced764f24fb5aa8bca786c3c4920": {
      "model_module": "@jupyter-widgets/controls",
      "model_module_version": "1.4.0",
      "model_name": "CheckboxModel",
      "state": {
       "description": "Es ist die spezifischere Merkmalsstruktur.",
       "disabled": false,
       "layout": "IPY_MODEL_ce23d74ac2c543a9a67cc9ad85dae2fd",
       "style": "IPY_MODEL_4f7ac60eaceb4971b22b48ba90b6ec7e",
       "value": false
      }
     },
     "a073b0e2f5a6407da7b7078d93360bed": {
      "model_module": "@jupyter-widgets/controls",
      "model_module_version": "1.4.0",
      "model_name": "DescriptionStyleModel",
      "state": {
       "description_width": ""
      }
     },
     "a2be479c16524cd189517c1bb8016b93": {
      "model_module": "@jupyter-widgets/controls",
      "model_module_version": "1.4.0",
      "model_name": "CheckboxModel",
      "state": {
       "description": "Sie werden im Vorhinein deklariert (feature lexicon)",
       "disabled": false,
       "layout": "IPY_MODEL_bad25bc58ec541c4879ba5d7b3645b2f",
       "style": "IPY_MODEL_b79b2e718cf647e7abd98298447e3527",
       "value": false
      }
     },
     "a302cc70e1cd43d7a5a542eedb8d3ab5": {
      "model_module": "@jupyter-widgets/controls",
      "model_module_version": "1.4.0",
      "model_name": "DescriptionStyleModel",
      "state": {
       "description_width": "initial"
      }
     },
     "a349cee5a73444198a9dcd6bda18c4d0": {
      "model_module": "@jupyter-widgets/base",
      "model_module_version": "1.1.0",
      "model_name": "LayoutModel",
      "state": {
       "width": "600px"
      }
     },
     "a38aa698d0c94f1c995cdeb639124bbd": {
      "model_module": "@jupyter-widgets/controls",
      "model_module_version": "1.4.0",
      "model_name": "CheckboxModel",
      "state": {
       "description": "Eine rangiedrigere Rolle übernimmt die Subjektfunktion.",
       "disabled": false,
       "layout": "IPY_MODEL_75a41b4d2dab4330b5ee1b540d48478a",
       "style": "IPY_MODEL_899e2018a3294bfd880a7d9055273d66",
       "value": true
      }
     },
     "a39c01517f194afb86080312fed5023e": {
      "model_module": "@jupyter-widgets/controls",
      "model_module_version": "1.4.0",
      "model_name": "CheckboxModel",
      "state": {
       "description": "Der Artikel übernimmt z. T. die Kasusmarkierung.",
       "disabled": false,
       "layout": "IPY_MODEL_a497f8e34e8d4d9ebe18a6cd8b6fc4e7",
       "style": "IPY_MODEL_c3a95dc4c0b740acab12299b7791d147",
       "value": true
      }
     },
     "a3b54aad55834377b3d4b7472ede7be2": {
      "model_module": "@jupyter-widgets/base",
      "model_module_version": "1.1.0",
      "model_name": "LayoutModel",
      "state": {
       "width": "600px"
      }
     },
     "a435ce6ab2ac4933bd3396f9eb731c55": {
      "model_module": "@jupyter-widgets/controls",
      "model_module_version": "1.4.0",
      "model_name": "HTMLModel",
      "state": {
       "layout": "IPY_MODEL_9455d72a535246ae8c1dd52b75fd3a1a",
       "style": "IPY_MODEL_6d349453836e41b191709444fccfdb00",
       "value": "<h4 style=\"font-size:14px;\">In Verbindung mit einem</h4>"
      }
     },
     "a48ac7cf32364d39bdfd253e06ad1c67": {
      "model_module": "@jupyter-widgets/controls",
      "model_module_version": "1.4.0",
      "model_name": "VBoxModel",
      "state": {
       "children": [
        "IPY_MODEL_04baee00523249f6a74ebec58f72170b",
        "IPY_MODEL_c73f1598398142e2882f31bb1571a642",
        "IPY_MODEL_e7c70aabe3c4455994eb9e82670d27ae",
        "IPY_MODEL_4e87528e759840989bc3cf99e3b5e349",
        "IPY_MODEL_241c9e6ac9d34d2e9303eebc8938e0e8",
        "IPY_MODEL_71bd46234651460d885a1f8fc40b3c2f"
       ],
       "layout": "IPY_MODEL_74dd18ab2d924f498f21890b34688217"
      }
     },
     "a497f8e34e8d4d9ebe18a6cd8b6fc4e7": {
      "model_module": "@jupyter-widgets/base",
      "model_module_version": "1.1.0",
      "model_name": "LayoutModel",
      "state": {
       "width": "600px"
      }
     },
     "a58a5c90c6d94550a4a266e4385bbba9": {
      "model_module": "@jupyter-widgets/base",
      "model_module_version": "1.1.0",
      "model_name": "LayoutModel",
      "state": {}
     },
     "a59de5c8e2094700913bdf02d1bfb796": {
      "model_module": "@jupyter-widgets/controls",
      "model_module_version": "1.4.0",
      "model_name": "HTMLModel",
      "state": {
       "layout": "IPY_MODEL_71cf2443027c4ea5a8fedc544e76d8f2",
       "style": "IPY_MODEL_32d115a0644e49b8a72e4096f3a3ae49",
       "value": "<i>Wählen Sie die <ins>eine</ins> korrekte Antwort aus: </i>"
      }
     },
     "a5f0e5764bde4d198223f27c5792f1e1": {
      "model_module": "@jupyter-widgets/controls",
      "model_module_version": "1.4.0",
      "model_name": "ButtonModel",
      "state": {
       "description": "Keine der anderen Möglichkeiten",
       "layout": "IPY_MODEL_f8f55738f4904182a8e7c80a372c4ae2",
       "style": "IPY_MODEL_1e3d3dc1e07e41bb856b3742956549e1"
      }
     },
     "a5f82c162a34485babe7eff92ec7c796": {
      "model_module": "@jupyter-widgets/controls",
      "model_module_version": "1.4.0",
      "model_name": "DescriptionStyleModel",
      "state": {
       "description_width": "initial"
      }
     },
     "a5f835d749454309b39189c048ac079f": {
      "model_module": "@jupyter-widgets/base",
      "model_module_version": "1.1.0",
      "model_name": "LayoutModel",
      "state": {
       "width": "500px"
      }
     },
     "a5fb3cd9576d4b6a97f9efc7d45a8f38": {
      "model_module": "@jupyter-widgets/controls",
      "model_module_version": "1.4.0",
      "model_name": "DropdownModel",
      "state": {
       "_options_labels": [
        "Adverbiale",
        "Nomen",
        "Personalpronomina",
        " "
       ],
       "index": 3,
       "layout": "IPY_MODEL_ecd8d2ff708f4bb58e831ef4f8c40976",
       "style": "IPY_MODEL_594be9568d3947238a1847a134a03153"
      }
     },
     "a6e8ddae8a5040d59653f6e72820c885": {
      "model_module": "@jupyter-widgets/controls",
      "model_module_version": "1.4.0",
      "model_name": "ButtonModel",
      "state": {
       "description": "schwache Deklination",
       "layout": "IPY_MODEL_8572b2bffe064681a56c735895094497",
       "style": "IPY_MODEL_984efcbc54144d11b8d10c052b628bd4"
      }
     },
     "a799aa77de6d42d981faa9318dba9f32": {
      "model_module": "@jupyter-widgets/controls",
      "model_module_version": "1.4.0",
      "model_name": "DescriptionStyleModel",
      "state": {
       "description_width": "initial"
      }
     },
     "a85b4e50874c40edaac42408554ba85d": {
      "model_module": "@jupyter-widgets/controls",
      "model_module_version": "1.4.0",
      "model_name": "DropdownModel",
      "state": {
       "_options_labels": [
        "Adverbial",
        "Nomen",
        "Personalpronomen",
        " "
       ],
       "index": 3,
       "layout": "IPY_MODEL_64b668d660134341a0762665cab27038",
       "style": "IPY_MODEL_6e4622c3f0874eb1b68cab18bd60c26a"
      }
     },
     "a8e1c12b592a4a9e9d7617e90591c5e2": {
      "model_module": "@jupyter-widgets/controls",
      "model_module_version": "1.4.0",
      "model_name": "DescriptionStyleModel",
      "state": {
       "description_width": "initial"
      }
     },
     "a947f816cfb7489fb87ce2f1d6018b06": {
      "model_module": "@jupyter-widgets/base",
      "model_module_version": "1.1.0",
      "model_name": "LayoutModel",
      "state": {
       "width": "150px"
      }
     },
     "a9a37da1570d4af6909bba79cf288f4d": {
      "model_module": "@jupyter-widgets/controls",
      "model_module_version": "1.4.0",
      "model_name": "ButtonModel",
      "state": {
       "description": "Korrekt?",
       "layout": "IPY_MODEL_ac1da870a4f148139b5553dd4f2f05e6",
       "style": "IPY_MODEL_ee41f52d63044996b9085e3ec0eda57d"
      }
     },
     "a9bc43c49b1247548e988b028221daf1": {
      "model_module": "@jupyter-widgets/controls",
      "model_module_version": "1.4.0",
      "model_name": "CheckboxModel",
      "state": {
       "description": "Keine der Alternativen",
       "disabled": false,
       "layout": "IPY_MODEL_225620a268c84f3e83a5f9cfb0a55f2a",
       "style": "IPY_MODEL_59ff92f19cc44a49b52042bc08d451a3",
       "value": false
      }
     },
     "aa5a0b18ced244bb81ff13697a6103b1": {
      "model_module": "@jupyter-widgets/controls",
      "model_module_version": "1.4.0",
      "model_name": "DescriptionStyleModel",
      "state": {
       "description_width": ""
      }
     },
     "aa9568fd70d446e790c497cbabd559cc": {
      "model_module": "@jupyter-widgets/base",
      "model_module_version": "1.1.0",
      "model_name": "LayoutModel",
      "state": {
       "width": "250px"
      }
     },
     "aaa187f7b89048be8ecd75dfc3bce231": {
      "model_module": "@jupyter-widgets/base",
      "model_module_version": "1.1.0",
      "model_name": "LayoutModel",
      "state": {
       "width": "250px"
      }
     },
     "aade5af70ca74773ae4f8a102489e5df": {
      "model_module": "@jupyter-widgets/controls",
      "model_module_version": "1.4.0",
      "model_name": "VBoxModel",
      "state": {
       "children": [
        "IPY_MODEL_c585cdfc5926437d889c56c083386180",
        "IPY_MODEL_8585ed38dd444173b9b218587258bbae",
        "IPY_MODEL_94ba0b60da9a4be4b2b3d878c895489e",
        "IPY_MODEL_166b306adb244ebab49ef9930b66b08c",
        "IPY_MODEL_c06edc000cfa42379f4723e2183ae308",
        "IPY_MODEL_9e4b2b1210ef4b8cb5565c0107f68340"
       ],
       "layout": "IPY_MODEL_daa3d272677c4dbc892e5181c1214927"
      }
     },
     "ab077d10a90d4825a98671edaf3e11ab": {
      "model_module": "@jupyter-widgets/base",
      "model_module_version": "1.1.0",
      "model_name": "LayoutModel",
      "state": {
       "width": "250px"
      }
     },
     "ab6b55ad87a840df8cc4f0b8e830bc89": {
      "model_module": "@jupyter-widgets/controls",
      "model_module_version": "1.4.0",
      "model_name": "DescriptionStyleModel",
      "state": {
       "description_width": ""
      }
     },
     "abb80dca92294d74a8d5b06468499e6c": {
      "model_module": "@jupyter-widgets/controls",
      "model_module_version": "1.4.0",
      "model_name": "HTMLModel",
      "state": {
       "layout": "IPY_MODEL_56ed7e7cc9c247fb9002a99e40bab882",
       "style": "IPY_MODEL_0a29756dc67749a78674072ec9356a64",
       "value": "<i>Wählen Sie die <ins>eine</ins> korrekte Antwort aus: </i>"
      }
     },
     "ac0734257e1844619f61026b9e99a633": {
      "model_module": "@jupyter-widgets/controls",
      "model_module_version": "1.4.0",
      "model_name": "ButtonStyleModel",
      "state": {}
     },
     "ac1da870a4f148139b5553dd4f2f05e6": {
      "model_module": "@jupyter-widgets/base",
      "model_module_version": "1.1.0",
      "model_name": "LayoutModel",
      "state": {
       "width": "250px"
      }
     },
     "ac23cc0feab14d67a508a32965f4e5dc": {
      "model_module": "@jupyter-widgets/controls",
      "model_module_version": "1.4.0",
      "model_name": "CheckboxModel",
      "state": {
       "description": "FS0 = [CAT = N, GEN = MASK], FS1 = [CAT = N]",
       "disabled": false,
       "layout": "IPY_MODEL_6bb1f76b4d64494391626793026a0aa5",
       "style": "IPY_MODEL_026cbf434a4c4ccfafb62ddf2432d33b",
       "value": false
      }
     },
     "acd154fc6e5c4d2db0ee422c2085009e": {
      "model_module": "@jupyter-widgets/controls",
      "model_module_version": "1.4.0",
      "model_name": "ButtonStyleModel",
      "state": {}
     },
     "ad4cdcc742e74d3fa84d18ba6b1ec98b": {
      "model_module": "@jupyter-widgets/controls",
      "model_module_version": "1.4.0",
      "model_name": "VBoxModel",
      "state": {
       "children": [
        "IPY_MODEL_4f7cd19a5dd24f0aaaf3d273f7233703",
        "IPY_MODEL_56fc223339664ab9b1e54dc4580d96b5",
        "IPY_MODEL_71ed94b31ddd4779b2f1268c40f51fef",
        "IPY_MODEL_f56bff7bbaab465d8dd63cd396adabdf"
       ],
       "layout": "IPY_MODEL_bd0f71d8a5624c4f885958c0791abcd3"
      }
     },
     "adb4d10bd4b84632899ca59a7a5de5c0": {
      "model_module": "@jupyter-widgets/controls",
      "model_module_version": "1.4.0",
      "model_name": "HTMLModel",
      "state": {
       "layout": "IPY_MODEL_148acf2ca2524db9a097f55ac91f98be",
       "style": "IPY_MODEL_8dce96db91d14446a3e7f0d317022a06",
       "value": "<i>Markieren Sie <ins>alle</ins> passenden Antworten: </i>"
      }
     },
     "adf06600861a4b3c8a65529fc6cd15b4": {
      "model_module": "@jupyter-widgets/controls",
      "model_module_version": "1.4.0",
      "model_name": "DescriptionStyleModel",
      "state": {
       "description_width": ""
      }
     },
     "ae114231639d4dcab71d40c2abb2e228": {
      "model_module": "@jupyter-widgets/controls",
      "model_module_version": "1.4.0",
      "model_name": "CheckboxModel",
      "state": {
       "description": "Das Adjektiv tritt nur in zwei verschiedenen Formen auf.",
       "disabled": false,
       "layout": "IPY_MODEL_80adc789c03045dcbb1d806ae484e78a",
       "style": "IPY_MODEL_e92913e9ccbf477f990bc24d4cf84e43",
       "value": true
      }
     },
     "ae1da5c2128f4e9aa9e3d71dcb682836": {
      "model_module": "@jupyter-widgets/base",
      "model_module_version": "1.1.0",
      "model_name": "LayoutModel",
      "state": {}
     },
     "aeb042b9b8434697b9582a7801718878": {
      "model_module": "@jupyter-widgets/controls",
      "model_module_version": "1.4.0",
      "model_name": "ButtonModel",
      "state": {
       "description": "Korrekt?",
       "layout": "IPY_MODEL_aa9568fd70d446e790c497cbabd559cc",
       "style": "IPY_MODEL_a014006e30eb444a8d42f19e21a069a5"
      }
     },
     "b0341f82695a486b8c32a2b0ca3f8983": {
      "model_module": "@jupyter-widgets/controls",
      "model_module_version": "1.4.0",
      "model_name": "HBoxModel",
      "state": {
       "children": [
        "IPY_MODEL_150a06964a2644d5a00ea3d5ddaf41e7",
        "IPY_MODEL_9ba0fb8758ca44b7bff8ba581f855fa9"
       ],
       "layout": "IPY_MODEL_4ab1bfb84b19457fb52952692014de5d"
      }
     },
     "b0e5ac48833a4f7baa6b945ccee09bb4": {
      "model_module": "@jupyter-widgets/base",
      "model_module_version": "1.1.0",
      "model_name": "LayoutModel",
      "state": {}
     },
     "b24627e6f96042a38d2e9d9e33748f44": {
      "model_module": "@jupyter-widgets/controls",
      "model_module_version": "1.4.0",
      "model_name": "ButtonStyleModel",
      "state": {
       "button_color": "lightgreen"
      }
     },
     "b25b9d9bc04749558476e0ab8a138107": {
      "model_module": "@jupyter-widgets/base",
      "model_module_version": "1.1.0",
      "model_name": "LayoutModel",
      "state": {
       "width": "250px"
      }
     },
     "b300344650f6459b9e2e7ea3ec6a3c27": {
      "model_module": "@jupyter-widgets/controls",
      "model_module_version": "1.4.0",
      "model_name": "ButtonModel",
      "state": {
       "description": "Instrument",
       "layout": "IPY_MODEL_608428216b954e1aafcbecd7d5f490b6",
       "style": "IPY_MODEL_56d5fffe5ff34fb7b3beb11f6b4635d7"
      }
     },
     "b32e4339438d4a5e8ce12f357a8a5ede": {
      "model_module": "@jupyter-widgets/controls",
      "model_module_version": "1.4.0",
      "model_name": "DescriptionStyleModel",
      "state": {
       "description_width": ""
      }
     },
     "b3bd4eaf2551476fbf8d8caa2ff15745": {
      "model_module": "@jupyter-widgets/controls",
      "model_module_version": "1.4.0",
      "model_name": "HTMLModel",
      "state": {
       "layout": "IPY_MODEL_83d2665935af4be4891e6e21e8d94446",
       "style": "IPY_MODEL_49b47d909aa84796b228bf3b2b588c54",
       "value": "<h4 style=\"font-size:14px;\">Welche Aussagen gelten für den Fall, dass das Adjektiv in einer NP ohne Artikel auftritt? (vgl. <i>altes Bier</i>)</h4>"
      }
     },
     "b3cf852fca7c4a099e2c47a801869b76": {
      "model_module": "@jupyter-widgets/controls",
      "model_module_version": "1.4.0",
      "model_name": "DescriptionStyleModel",
      "state": {
       "description_width": "initial"
      }
     },
     "b423151d46924e9bb1716570a43a9420": {
      "model_module": "@jupyter-widgets/controls",
      "model_module_version": "1.4.0",
      "model_name": "HTMLModel",
      "state": {
       "layout": "IPY_MODEL_be15ef6006d84a93898d18c67f9c6383",
       "style": "IPY_MODEL_e63dcfbc08a3423983ff6c03f3af475c",
       "value": "<i>Markieren Sie <ins>alle</ins> passenden Antworten: </i>"
      }
     },
     "b4a23e51fec5426ba406e6f76e8dbb9b": {
      "model_module": "@jupyter-widgets/controls",
      "model_module_version": "1.4.0",
      "model_name": "DescriptionStyleModel",
      "state": {
       "description_width": ""
      }
     },
     "b4d86e76c97243d19c43b29a34053d67": {
      "model_module": "@jupyter-widgets/controls",
      "model_module_version": "1.4.0",
      "model_name": "HBoxModel",
      "state": {
       "children": [
        "IPY_MODEL_a6e8ddae8a5040d59653f6e72820c885",
        "IPY_MODEL_95d9cf30de0c4d0bbdf5d64df22d84c7"
       ],
       "layout": "IPY_MODEL_7847f2d86e2a4282b14bc34a76c4338f"
      }
     },
     "b54190d3c3a24d69b97e9616c66b04f5": {
      "model_module": "@jupyter-widgets/base",
      "model_module_version": "1.1.0",
      "model_name": "LayoutModel",
      "state": {
       "width": "250px"
      }
     },
     "b6e37c8ed013480e8ae4b3d78facf90a": {
      "model_module": "@jupyter-widgets/controls",
      "model_module_version": "1.4.0",
      "model_name": "CheckboxModel",
      "state": {
       "description": "Die Form des Adjektivs richtet sich nach dem Genus des Substantivs.",
       "disabled": false,
       "layout": "IPY_MODEL_92663015b5ac4923aafa0025cf5fec66",
       "style": "IPY_MODEL_5313a578273a42f1b68fe6edc31652db",
       "value": true
      }
     },
     "b6f2a7146c7a4305b8c1646194f8ea2e": {
      "model_module": "@jupyter-widgets/controls",
      "model_module_version": "1.4.0",
      "model_name": "DescriptionStyleModel",
      "state": {
       "description_width": "initial"
      }
     },
     "b7087748cdc34275bc4085a010473b92": {
      "model_module": "@jupyter-widgets/base",
      "model_module_version": "1.1.0",
      "model_name": "LayoutModel",
      "state": {
       "width": "250px"
      }
     },
     "b726b4157ff04437b7f98c84e149a71e": {
      "model_module": "@jupyter-widgets/base",
      "model_module_version": "1.1.0",
      "model_name": "LayoutModel",
      "state": {
       "width": "250px"
      }
     },
     "b76973ead251402f938b61bf0fb55282": {
      "model_module": "@jupyter-widgets/base",
      "model_module_version": "1.1.0",
      "model_name": "LayoutModel",
      "state": {
       "width": "250px"
      }
     },
     "b79b2e718cf647e7abd98298447e3527": {
      "model_module": "@jupyter-widgets/controls",
      "model_module_version": "1.4.0",
      "model_name": "DescriptionStyleModel",
      "state": {
       "description_width": "initial"
      }
     },
     "b80090eb159a4d68839253784eae1ea5": {
      "model_module": "@jupyter-widgets/base",
      "model_module_version": "1.1.0",
      "model_name": "LayoutModel",
      "state": {}
     },
     "b87efb2920a041f78a16a0f7d9b37871": {
      "model_module": "@jupyter-widgets/controls",
      "model_module_version": "1.4.0",
      "model_name": "ButtonModel",
      "state": {
       "description": "Korrekt?",
       "layout": "IPY_MODEL_3d8a810b52694bc38e0623e98022b91e",
       "style": "IPY_MODEL_969e0bc81e6846f4b4b9b48c20ffa7a7"
      }
     },
     "b9f54e95c5a04ac788a591535b8e2580": {
      "model_module": "@jupyter-widgets/controls",
      "model_module_version": "1.4.0",
      "model_name": "ButtonModel",
      "state": {
       "description": "Korrekt?",
       "layout": "IPY_MODEL_d0e52bcf1e144d9f94ed796bb9b76ce3",
       "style": "IPY_MODEL_59b1e1b8d43044a1bd94f66eb9cf21d4"
      }
     },
     "bad25bc58ec541c4879ba5d7b3645b2f": {
      "model_module": "@jupyter-widgets/base",
      "model_module_version": "1.1.0",
      "model_name": "LayoutModel",
      "state": {
       "width": "600px"
      }
     },
     "bae9977d56024aa784e9c6bb1a883b79": {
      "model_module": "@jupyter-widgets/controls",
      "model_module_version": "1.4.0",
      "model_name": "DescriptionStyleModel",
      "state": {
       "description_width": "initial"
      }
     },
     "bb0be738181847998bdd085e9d32f909": {
      "model_module": "@jupyter-widgets/controls",
      "model_module_version": "1.4.0",
      "model_name": "ButtonStyleModel",
      "state": {}
     },
     "bb938a02b7ae4da39fc73fda368de60a": {
      "model_module": "@jupyter-widgets/base",
      "model_module_version": "1.1.0",
      "model_name": "LayoutModel",
      "state": {}
     },
     "bc1df56be6aa45afb5a11738b4988240": {
      "model_module": "@jupyter-widgets/base",
      "model_module_version": "1.1.0",
      "model_name": "LayoutModel",
      "state": {
       "width": "600px"
      }
     },
     "bcbf330e3b114c01aa3a567c1f22394d": {
      "model_module": "@jupyter-widgets/controls",
      "model_module_version": "1.4.0",
      "model_name": "ButtonStyleModel",
      "state": {}
     },
     "bd0f71d8a5624c4f885958c0791abcd3": {
      "model_module": "@jupyter-widgets/base",
      "model_module_version": "1.1.0",
      "model_name": "LayoutModel",
      "state": {}
     },
     "bde70312a75f48dba1e05f2dbd545131": {
      "model_module": "@jupyter-widgets/base",
      "model_module_version": "1.1.0",
      "model_name": "LayoutModel",
      "state": {
       "width": "600px"
      }
     },
     "be15ef6006d84a93898d18c67f9c6383": {
      "model_module": "@jupyter-widgets/base",
      "model_module_version": "1.1.0",
      "model_name": "LayoutModel",
      "state": {
       "justify_content": "center"
      }
     },
     "bee20f3ec0504056b29ebf2ea8ee1ec3": {
      "model_module": "@jupyter-widgets/base",
      "model_module_version": "1.1.0",
      "model_name": "LayoutModel",
      "state": {}
     },
     "c06edc000cfa42379f4723e2183ae308": {
      "model_module": "@jupyter-widgets/controls",
      "model_module_version": "1.4.0",
      "model_name": "HBoxModel",
      "state": {
       "children": [
        "IPY_MODEL_0a876f05f3ad4b06b44ee48477d12e0a",
        "IPY_MODEL_f8fb3ef356a149a589ae770734770cdc"
       ],
       "layout": "IPY_MODEL_c45b0aef2a1a4dfca3318867f6129e18"
      }
     },
     "c0971ea0b09a4f3a8caa202918485894": {
      "model_module": "@jupyter-widgets/base",
      "model_module_version": "1.1.0",
      "model_name": "LayoutModel",
      "state": {
       "justify_content": "center"
      }
     },
     "c09b58db683d4f79b626b9976440422a": {
      "model_module": "@jupyter-widgets/controls",
      "model_module_version": "1.4.0",
      "model_name": "DescriptionStyleModel",
      "state": {
       "description_width": "initial"
      }
     },
     "c128c5181963456798e8b5bd3a780385": {
      "model_module": "@jupyter-widgets/controls",
      "model_module_version": "1.4.0",
      "model_name": "DescriptionStyleModel",
      "state": {
       "description_width": ""
      }
     },
     "c1cbffb7f8614206a7ad4884be403dd0": {
      "model_module": "@jupyter-widgets/controls",
      "model_module_version": "1.4.0",
      "model_name": "HTMLModel",
      "state": {
       "layout": "IPY_MODEL_08a5ab57dd5d4886b35ee2ca2f12327a",
       "style": "IPY_MODEL_ebe46bf7772a418f9f958a364ccb5dd5",
       "value": "<h4 style=\"font-size:14px;\">Wie wird die Deklination der Nominalphrase <i>das alte Bier</i> auch bezeichnet?</h4>"
      }
     },
     "c240f2115ada418299a03d9c21696f3d": {
      "model_module": "@jupyter-widgets/base",
      "model_module_version": "1.1.0",
      "model_name": "LayoutModel",
      "state": {
       "width": "600px"
      }
     },
     "c244248646284c06b05ca3cc9274d3f6": {
      "model_module": "@jupyter-widgets/controls",
      "model_module_version": "1.4.0",
      "model_name": "CheckboxModel",
      "state": {
       "description": "FS0 = [CAT = N], FS1 = [CAT = N, GEN = MASK]",
       "disabled": false,
       "layout": "IPY_MODEL_a349cee5a73444198a9dcd6bda18c4d0",
       "style": "IPY_MODEL_f4287ac1441440dc97418933fe89085a",
       "value": false
      }
     },
     "c2a82eb711af422d9d815172628f5e1c": {
      "model_module": "@jupyter-widgets/base",
      "model_module_version": "1.1.0",
      "model_name": "LayoutModel",
      "state": {
       "width": "250px"
      }
     },
     "c2e172d70ec64ccbbdcf985b25e5af3c": {
      "model_module": "@jupyter-widgets/controls",
      "model_module_version": "1.4.0",
      "model_name": "CheckboxModel",
      "state": {
       "description": "FS0 = [CAT = N, GEN = FEM], FS1 = [CAT = DET, GEN = FEM]",
       "disabled": false,
       "layout": "IPY_MODEL_e6e1acb61d8e461eb86679d39d97537b",
       "style": "IPY_MODEL_e13e3064c26d4992b6c0517934c8f9cf",
       "value": false
      }
     },
     "c2e46096ff5248a287e4e865489686f9": {
      "model_module": "@jupyter-widgets/controls",
      "model_module_version": "1.4.0",
      "model_name": "ButtonStyleModel",
      "state": {}
     },
     "c3a95dc4c0b740acab12299b7791d147": {
      "model_module": "@jupyter-widgets/controls",
      "model_module_version": "1.4.0",
      "model_name": "DescriptionStyleModel",
      "state": {
       "description_width": "initial"
      }
     },
     "c3c9d1fe229c4aa79e98b608e067be39": {
      "model_module": "@jupyter-widgets/base",
      "model_module_version": "1.1.0",
      "model_name": "LayoutModel",
      "state": {
       "justify_content": "center"
      }
     },
     "c3d42cb5b4384f9f97e37164d0351a55": {
      "model_module": "@jupyter-widgets/controls",
      "model_module_version": "1.4.0",
      "model_name": "HTMLModel",
      "state": {
       "layout": "IPY_MODEL_d5e9121446ea4ea4a5b0efbbd9eedbf8",
       "style": "IPY_MODEL_8778d25ce70440558b998d575f3405fe",
       "value": "<i>Wählen Sie die <ins>eine</ins> korrekte Antwort aus: </i>"
      }
     },
     "c4084986ab3549d4a3b4f8761eb8a593": {
      "model_module": "@jupyter-widgets/controls",
      "model_module_version": "1.4.0",
      "model_name": "DropdownModel",
      "state": {
       "_options_labels": [
        "nicht",
        "schwach",
        "stark",
        " "
       ],
       "index": 3,
       "layout": "IPY_MODEL_f7e0e4ed8c964171b535c84be576bd1f",
       "style": "IPY_MODEL_5b1a6384ab4a4e1883dd2ae069bcec76"
      }
     },
     "c45a2a774e7249a68c97f1c206cea6ba": {
      "model_module": "@jupyter-widgets/base",
      "model_module_version": "1.1.0",
      "model_name": "LayoutModel",
      "state": {
       "justify_content": "center"
      }
     },
     "c45b0aef2a1a4dfca3318867f6129e18": {
      "model_module": "@jupyter-widgets/base",
      "model_module_version": "1.1.0",
      "model_name": "LayoutModel",
      "state": {}
     },
     "c4a575c8eda74a7193ecfbcc48641adf": {
      "model_module": "@jupyter-widgets/controls",
      "model_module_version": "1.4.0",
      "model_name": "ButtonStyleModel",
      "state": {}
     },
     "c4daed5bf1d3427ea2dcacc0a8028e94": {
      "model_module": "@jupyter-widgets/base",
      "model_module_version": "1.1.0",
      "model_name": "LayoutModel",
      "state": {
       "width": "600px"
      }
     },
     "c4fb4dff5577437e9804496b2ae7bafe": {
      "model_module": "@jupyter-widgets/base",
      "model_module_version": "1.1.0",
      "model_name": "LayoutModel",
      "state": {}
     },
     "c4fe0237b8b74c008d59f9f639cca5b2": {
      "model_module": "@jupyter-widgets/controls",
      "model_module_version": "1.4.0",
      "model_name": "ButtonStyleModel",
      "state": {}
     },
     "c585cdfc5926437d889c56c083386180": {
      "model_module": "@jupyter-widgets/controls",
      "model_module_version": "1.4.0",
      "model_name": "HTMLModel",
      "state": {
       "layout": "IPY_MODEL_39fbb1abb5b74479a2e2d6a1d9ef7112",
       "style": "IPY_MODEL_23d563a9d1464f2ab5213b459715f6b7",
       "value": "<h4 style=\"font-size:14px;\">Was ist im zweiten Satz das Subjekt?</h4>"
      }
     },
     "c5d59f43db6f4f45b5da90486712e1f4": {
      "model_module": "@jupyter-widgets/controls",
      "model_module_version": "1.4.0",
      "model_name": "HTMLModel",
      "state": {
       "layout": "IPY_MODEL_193b6285638d4a669a8bc15823753d49",
       "style": "IPY_MODEL_8a4f48921d1140e2951aa4f1961a21bc",
       "value": "<h4 style=\"font-size:14px;\">Um welchen Faktor erhöht sich die Regelanzahl, wenn man Kongruenz (Agreement) in Numerus und Person durch Integration von Merkmalen in die Kategoriensymbole einer CFG modelliert (S → NP_1_SG VP_1_SG usw.)?</h4>"
      }
     },
     "c62d06cb2bd544f1b543977cb2947860": {
      "model_module": "@jupyter-widgets/base",
      "model_module_version": "1.1.0",
      "model_name": "LayoutModel",
      "state": {
       "width": "600px"
      }
     },
     "c6586e03edad41d6b95f8c1bd0a24e84": {
      "model_module": "@jupyter-widgets/controls",
      "model_module_version": "1.4.0",
      "model_name": "ButtonModel",
      "state": {
       "description": "Recipient",
       "layout": "IPY_MODEL_57cf34e7785347f1898e89073178a837",
       "style": "IPY_MODEL_f936b33abad94bd5ae30035ca3cf7a88"
      }
     },
     "c6cad750da1b4dc7884d329272699f47": {
      "model_module": "@jupyter-widgets/base",
      "model_module_version": "1.1.0",
      "model_name": "LayoutModel",
      "state": {
       "justify_content": "center"
      }
     },
     "c73f1598398142e2882f31bb1571a642": {
      "model_module": "@jupyter-widgets/controls",
      "model_module_version": "1.4.0",
      "model_name": "CheckboxModel",
      "state": {
       "description": "?x",
       "disabled": false,
       "layout": "IPY_MODEL_c240f2115ada418299a03d9c21696f3d",
       "style": "IPY_MODEL_164fce442b424c58bc4e702050e31f77",
       "value": false
      }
     },
     "c73f97a5023942c9ac13308e2e27df46": {
      "model_module": "@jupyter-widgets/controls",
      "model_module_version": "1.4.0",
      "model_name": "CheckboxModel",
      "state": {
       "description": "FS0 = [CAT = DET], FS1 = [CAT = N, GEN = MASK]",
       "disabled": false,
       "layout": "IPY_MODEL_6b18ac658bab4156b4337b5bdc469498",
       "style": "IPY_MODEL_ec59591fc7294c3796aa0fa8bed97fb0",
       "value": false
      }
     },
     "c7b2bc2bff4f45b5b36a1364aabcdaad": {
      "model_module": "@jupyter-widgets/base",
      "model_module_version": "1.1.0",
      "model_name": "LayoutModel",
      "state": {}
     },
     "c7bac7a7840c488b83cd371da9d0c628": {
      "model_module": "@jupyter-widgets/controls",
      "model_module_version": "1.4.0",
      "model_name": "HTMLModel",
      "state": {
       "layout": "IPY_MODEL_ef1405c2dfa4490cba55141f34edb821",
       "style": "IPY_MODEL_2edcbb97c0724b438cad9e61223efa57",
       "value": "<h4 style=\"font-size:14px;\">Wie läßt sich im NLTK ein äquivalenter Pfad definieren?</h4>"
      }
     },
     "c88cf42c04f741deb738dad4c5e7c2c0": {
      "model_module": "@jupyter-widgets/controls",
      "model_module_version": "1.4.0",
      "model_name": "ButtonStyleModel",
      "state": {
       "button_color": "lightgreen"
      }
     },
     "cb2c5f0c8dea45c9b64db3d95b27a72c": {
      "model_module": "@jupyter-widgets/base",
      "model_module_version": "1.1.0",
      "model_name": "LayoutModel",
      "state": {
       "width": "600px"
      }
     },
     "cb3c893a5c544722a9cfc02be18e2519": {
      "model_module": "@jupyter-widgets/controls",
      "model_module_version": "1.4.0",
      "model_name": "CheckboxModel",
      "state": {
       "description": "Sie werden aus der Eingabe extrahiert (feature extraction)",
       "disabled": false,
       "layout": "IPY_MODEL_44d71b84547a4089b85fe25e0c1ed98d",
       "style": "IPY_MODEL_03be85a654044059b1d9b2764ac7e134",
       "value": false
      }
     },
     "cb68120201974362b87118927fc776c2": {
      "model_module": "@jupyter-widgets/controls",
      "model_module_version": "1.4.0",
      "model_name": "HTMLModel",
      "state": {
       "layout": "IPY_MODEL_c6cad750da1b4dc7884d329272699f47",
       "style": "IPY_MODEL_f00e590bb6c54784a70dea6ab7873f0c",
       "value": "<h4 style=\"font-size:14px;\">Welche native python-Datenstruktur bietet sich für die Deklaration von Merkmalstrukturen als Menge von Attribut-Wert-Paaren an?</h4>"
      }
     },
     "cb691ef0fae24c4b8bf6149d8fb957e6": {
      "model_module": "@jupyter-widgets/controls",
      "model_module_version": "1.4.0",
      "model_name": "DescriptionStyleModel",
      "state": {
       "description_width": "initial"
      }
     },
     "cd96f6e27d084f7bbcd02d15e9fad42d": {
      "model_module": "@jupyter-widgets/controls",
      "model_module_version": "1.4.0",
      "model_name": "ButtonStyleModel",
      "state": {
       "button_color": "lightgreen"
      }
     },
     "ce23d74ac2c543a9a67cc9ad85dae2fd": {
      "model_module": "@jupyter-widgets/base",
      "model_module_version": "1.1.0",
      "model_name": "LayoutModel",
      "state": {
       "width": "600px"
      }
     },
     "ce291455f4d444ee96a4fd2d1784e2d2": {
      "model_module": "@jupyter-widgets/base",
      "model_module_version": "1.1.0",
      "model_name": "LayoutModel",
      "state": {
       "justify_content": "center"
      }
     },
     "ce41686824f04ff5aa0b559f2649dbbd": {
      "model_module": "@jupyter-widgets/controls",
      "model_module_version": "1.4.0",
      "model_name": "HTMLModel",
      "state": {
       "layout": "IPY_MODEL_3119fff9005a431bb90ee2d0705f7cb4",
       "style": "IPY_MODEL_6b346608dc304e92871cc236568e9630",
       "value": "<i>Wählen Sie die <ins>eine</ins> korrekte Antwort aus: </i>"
      }
     },
     "ce4ad1cd37d4424189bbeaaba62f6768": {
      "model_module": "@jupyter-widgets/controls",
      "model_module_version": "1.4.0",
      "model_name": "ButtonModel",
      "state": {
       "description": "Korrekt?",
       "layout": "IPY_MODEL_b54190d3c3a24d69b97e9616c66b04f5",
       "style": "IPY_MODEL_ac0734257e1844619f61026b9e99a633"
      }
     },
     "cf1f0af995f24b2b83f07a5ed7c3d811": {
      "model_module": "@jupyter-widgets/controls",
      "model_module_version": "1.4.0",
      "model_name": "ButtonModel",
      "state": {
       "description": "Zeitangabe",
       "layout": "IPY_MODEL_57534e3a9df2447c9a03ad2857beb1b9",
       "style": "IPY_MODEL_589d8188159c434bb2ea3007852628df"
      }
     },
     "cf89b5d3ab5a481eb82a665985849c0c": {
      "model_module": "@jupyter-widgets/controls",
      "model_module_version": "1.4.0",
      "model_name": "ButtonStyleModel",
      "state": {
       "button_color": "lightgreen"
      }
     },
     "d0290185ee5a4c39b6583aebac0cdb35": {
      "model_module": "@jupyter-widgets/controls",
      "model_module_version": "1.4.0",
      "model_name": "HTMLModel",
      "state": {
       "layout": "IPY_MODEL_1ce84e4704274a2ca3d7299d7ee72431",
       "style": "IPY_MODEL_d84c18ecf8ab4a76b9aa3c03a7637300",
       "value": "<i>Markieren Sie <ins>alle</ins> passenden Antworten: </i>"
      }
     },
     "d0790ed05e91435eb6a6d2bbf83fea08": {
      "model_module": "@jupyter-widgets/controls",
      "model_module_version": "1.4.0",
      "model_name": "DescriptionStyleModel",
      "state": {
       "description_width": "initial"
      }
     },
     "d0b30ad7fe1e4b689778332b60a7fd37": {
      "model_module": "@jupyter-widgets/base",
      "model_module_version": "1.1.0",
      "model_name": "LayoutModel",
      "state": {}
     },
     "d0e52bcf1e144d9f94ed796bb9b76ce3": {
      "model_module": "@jupyter-widgets/base",
      "model_module_version": "1.1.0",
      "model_name": "LayoutModel",
      "state": {
       "width": "250px"
      }
     },
     "d154343317004213ba95d3d7e0d7fccb": {
      "model_module": "@jupyter-widgets/controls",
      "model_module_version": "1.4.0",
      "model_name": "HTMLModel",
      "state": {
       "layout": "IPY_MODEL_ce291455f4d444ee96a4fd2d1784e2d2",
       "style": "IPY_MODEL_0dd507ea61054c9e8e8485e4b9db83fd",
       "value": "<i>Markieren Sie <ins>alle</ins> passenden Antworten: </i>"
      }
     },
     "d154b46e6f4244619b918ab021cf5a95": {
      "model_module": "@jupyter-widgets/base",
      "model_module_version": "1.1.0",
      "model_name": "LayoutModel",
      "state": {
       "width": "600px"
      }
     },
     "d18614ee9455431d924ffdfb459fc2d0": {
      "model_module": "@jupyter-widgets/base",
      "model_module_version": "1.1.0",
      "model_name": "LayoutModel",
      "state": {
       "width": "600px"
      }
     },
     "d1f8256c371d426ca0d80ae30c210a5f": {
      "model_module": "@jupyter-widgets/base",
      "model_module_version": "1.1.0",
      "model_name": "LayoutModel",
      "state": {
       "justify_content": "center"
      }
     },
     "d3d4cfc58a9441ad8281749e48fa797d": {
      "model_module": "@jupyter-widgets/base",
      "model_module_version": "1.1.0",
      "model_name": "LayoutModel",
      "state": {
       "width": "250px"
      }
     },
     "d46d83ee7d0c426fb958f25683f13a8f": {
      "model_module": "@jupyter-widgets/base",
      "model_module_version": "1.1.0",
      "model_name": "LayoutModel",
      "state": {
       "justify_content": "center"
      }
     },
     "d57b29c2faa04e91b680d19c29c98452": {
      "model_module": "@jupyter-widgets/controls",
      "model_module_version": "1.4.0",
      "model_name": "ButtonModel",
      "state": {
       "description": "starke Deklination",
       "layout": "IPY_MODEL_e8cb5cfbedb54aff8120c98d32ba8935",
       "style": "IPY_MODEL_453226a651564414953915bc63cbcb9d"
      }
     },
     "d5828007c976476c991d5156deed6c1d": {
      "model_module": "@jupyter-widgets/base",
      "model_module_version": "1.1.0",
      "model_name": "LayoutModel",
      "state": {
       "width": "250px"
      }
     },
     "d59ae997c5074ec0a0ea32720aac6ef7": {
      "model_module": "@jupyter-widgets/controls",
      "model_module_version": "1.4.0",
      "model_name": "ButtonStyleModel",
      "state": {}
     },
     "d5a97e3b07564fe9b23ae6a0a05627e9": {
      "model_module": "@jupyter-widgets/base",
      "model_module_version": "1.1.0",
      "model_name": "LayoutModel",
      "state": {
       "width": "600px"
      }
     },
     "d5ce78931ab648059ef22314dc8d43ad": {
      "model_module": "@jupyter-widgets/controls",
      "model_module_version": "1.4.0",
      "model_name": "ButtonModel",
      "state": {
       "description": "Korrekt?",
       "layout": "IPY_MODEL_c2a82eb711af422d9d815172628f5e1c",
       "style": "IPY_MODEL_0a81c4da65c14e7fb885b71d19f539d0"
      }
     },
     "d5e9121446ea4ea4a5b0efbbd9eedbf8": {
      "model_module": "@jupyter-widgets/base",
      "model_module_version": "1.1.0",
      "model_name": "LayoutModel",
      "state": {
       "justify_content": "center"
      }
     },
     "d62310382a994c839391bc08216a4f97": {
      "model_module": "@jupyter-widgets/controls",
      "model_module_version": "1.4.0",
      "model_name": "DescriptionStyleModel",
      "state": {
       "description_width": ""
      }
     },
     "d837793109b34140a046494dff7fe966": {
      "model_module": "@jupyter-widgets/base",
      "model_module_version": "1.1.0",
      "model_name": "LayoutModel",
      "state": {
       "width": "600px"
      }
     },
     "d84c18ecf8ab4a76b9aa3c03a7637300": {
      "model_module": "@jupyter-widgets/controls",
      "model_module_version": "1.4.0",
      "model_name": "DescriptionStyleModel",
      "state": {
       "description_width": ""
      }
     },
     "d8d962159e844d2a91597bcd917772ec": {
      "model_module": "@jupyter-widgets/controls",
      "model_module_version": "1.4.0",
      "model_name": "HTMLModel",
      "state": {
       "layout": "IPY_MODEL_5ede819f8c084b3e890530d5fe9fc755",
       "style": "IPY_MODEL_4d908a748d6d4b12ababcf92d2e7bc3f",
       "value": "<h4 style=\"font-size:14px;\">dekliniert. Dies mag daran liegen, dass die</h4>"
      }
     },
     "d8f09cc43567428f9e3ef66fb39515c2": {
      "model_module": "@jupyter-widgets/base",
      "model_module_version": "1.1.0",
      "model_name": "LayoutModel",
      "state": {
       "width": "600px"
      }
     },
     "d93a5b84a56748678e5cddc0ae96c096": {
      "model_module": "@jupyter-widgets/controls",
      "model_module_version": "1.4.0",
      "model_name": "DescriptionStyleModel",
      "state": {
       "description_width": "initial"
      }
     },
     "d98e358bb73d48a181d5c343e16b700c": {
      "model_module": "@jupyter-widgets/controls",
      "model_module_version": "1.4.0",
      "model_name": "DescriptionStyleModel",
      "state": {
       "description_width": "initial"
      }
     },
     "daa3d272677c4dbc892e5181c1214927": {
      "model_module": "@jupyter-widgets/base",
      "model_module_version": "1.1.0",
      "model_name": "LayoutModel",
      "state": {}
     },
     "dc9925a57c0d44ff86689f97836aa7b0": {
      "model_module": "@jupyter-widgets/controls",
      "model_module_version": "1.4.0",
      "model_name": "HTMLModel",
      "state": {
       "layout": "IPY_MODEL_591e1fbbe15c4690aeb850897f3abfa8",
       "style": "IPY_MODEL_676b0dfcf0f04fdfb34dad8ecb04acdf",
       "value": "<h4 style=\"font-size:14px;\">Was passiert nach semantischer Hierarchie, wenn kein Agens vorhanden ist?</h4>"
      }
     },
     "dcd5d6c83ec340a28f2a1c910f8f5c87": {
      "model_module": "@jupyter-widgets/controls",
      "model_module_version": "1.4.0",
      "model_name": "HTMLModel",
      "state": {
       "layout": "IPY_MODEL_7d24d9cddeb34abd8b9929728711f3c4",
       "style": "IPY_MODEL_00ea9eb1b3d249249ca170614df5df6c",
       "value": "<h4 style=\"font-size:14px;\">Welche Aussagen über Adjektive stimmen?</h4>"
      }
     },
     "dd7aa266ad5a46d383b526c17e72dbd4": {
      "model_module": "@jupyter-widgets/base",
      "model_module_version": "1.1.0",
      "model_name": "LayoutModel",
      "state": {
       "width": "250px"
      }
     },
     "dd83fcd241f24f58beb181d565739ddd": {
      "model_module": "@jupyter-widgets/base",
      "model_module_version": "1.1.0",
      "model_name": "LayoutModel",
      "state": {}
     },
     "ddb923ce50934343b2321f949f4f9cd3": {
      "model_module": "@jupyter-widgets/base",
      "model_module_version": "1.1.0",
      "model_name": "LayoutModel",
      "state": {
       "width": "600px"
      }
     },
     "ddfd099fd94b4b91af720661eb8a3de0": {
      "model_module": "@jupyter-widgets/controls",
      "model_module_version": "1.4.0",
      "model_name": "DescriptionStyleModel",
      "state": {
       "description_width": ""
      }
     },
     "e007c6792ad74b65b07ad8bdf616a27e": {
      "model_module": "@jupyter-widgets/base",
      "model_module_version": "1.1.0",
      "model_name": "LayoutModel",
      "state": {
       "width": "600px"
      }
     },
     "e02b08af3daa4a9397fcd178750d0f2f": {
      "model_module": "@jupyter-widgets/controls",
      "model_module_version": "1.4.0",
      "model_name": "HTMLModel",
      "state": {
       "layout": "IPY_MODEL_943d723ae8cc4319b17a278d7f13a0c9",
       "style": "IPY_MODEL_5c2362eebabe492da087c4c8365439d0",
       "value": "<h4 style=\"font-size:14px;\">Im Falle, dass im Zuge einer Unifikation Informationen zum Wert eines Pfades x hinzugefügt werden, wie verändern sich die Werte aller zu x äquivalenten Pfade?</h4>"
      }
     },
     "e02bb196478d4f6ab5b230197579f8f9": {
      "model_module": "@jupyter-widgets/controls",
      "model_module_version": "1.4.0",
      "model_name": "ButtonModel",
      "state": {
       "description": "Instrument",
       "layout": "IPY_MODEL_40a377bf392b409f83d42313574716b2",
       "style": "IPY_MODEL_9f04f9d402304000827e0e6e50dd274e"
      }
     },
     "e106fc93a024461db340a1ebe23151e3": {
      "model_module": "@jupyter-widgets/controls",
      "model_module_version": "1.4.0",
      "model_name": "HTMLModel",
      "state": {
       "layout": "IPY_MODEL_513c350d4f5040c09d00c92a43129531",
       "style": "IPY_MODEL_5621cad9c338403ab95a77dc4ee45e04",
       "value": "<h4 style=\"font-size:14px;\">Wie werden Features beim POS-Tagging verwendet?</h4>"
      }
     },
     "e13e3064c26d4992b6c0517934c8f9cf": {
      "model_module": "@jupyter-widgets/controls",
      "model_module_version": "1.4.0",
      "model_name": "DescriptionStyleModel",
      "state": {
       "description_width": "initial"
      }
     },
     "e188c79e240a462b92d01b6145dd7700": {
      "model_module": "@jupyter-widgets/controls",
      "model_module_version": "1.4.0",
      "model_name": "HBoxModel",
      "state": {
       "children": [
        "IPY_MODEL_b300344650f6459b9e2e7ea3ec6a3c27",
        "IPY_MODEL_8d52c6e57f2b4e66b028feb694cc8e19"
       ],
       "layout": "IPY_MODEL_ae1da5c2128f4e9aa9e3d71dcb682836"
      }
     },
     "e1b4d3a93bab438985bba7ad55d71ec7": {
      "model_module": "@jupyter-widgets/base",
      "model_module_version": "1.1.0",
      "model_name": "LayoutModel",
      "state": {
       "width": "600px"
      }
     },
     "e2f80cd0324f47609fbe668a345f3548": {
      "model_module": "@jupyter-widgets/base",
      "model_module_version": "1.1.0",
      "model_name": "LayoutModel",
      "state": {}
     },
     "e3a29dc99467432dadc9731107413b10": {
      "model_module": "@jupyter-widgets/base",
      "model_module_version": "1.1.0",
      "model_name": "LayoutModel",
      "state": {
       "justify_content": "center"
      }
     },
     "e458907d142a4c66b2e6820571f8aa7a": {
      "model_module": "@jupyter-widgets/controls",
      "model_module_version": "1.4.0",
      "model_name": "DescriptionStyleModel",
      "state": {
       "description_width": ""
      }
     },
     "e470e0db1b7a40dbb3a4f969f45a09fd": {
      "model_module": "@jupyter-widgets/controls",
      "model_module_version": "1.4.0",
      "model_name": "ButtonStyleModel",
      "state": {}
     },
     "e4f523f88b394e5ca58b78dc92cb06b9": {
      "model_module": "@jupyter-widgets/base",
      "model_module_version": "1.1.0",
      "model_name": "LayoutModel",
      "state": {
       "justify_content": "center"
      }
     },
     "e5d02d12a7e84d8f816ccd68c39e8f0a": {
      "model_module": "@jupyter-widgets/controls",
      "model_module_version": "1.4.0",
      "model_name": "VBoxModel",
      "state": {
       "children": [
        "IPY_MODEL_b3bd4eaf2551476fbf8d8caa2ff15745",
        "IPY_MODEL_2f49b50218ec44c39db34fd9a59da67e",
        "IPY_MODEL_1f1345b475284bd0b3538485e44fb167",
        "IPY_MODEL_68b976aac93b40719662571c70119342"
       ],
       "layout": "IPY_MODEL_1a9c8c7835714013b8fdaa6e2767d7a4"
      }
     },
     "e63dcfbc08a3423983ff6c03f3af475c": {
      "model_module": "@jupyter-widgets/controls",
      "model_module_version": "1.4.0",
      "model_name": "DescriptionStyleModel",
      "state": {
       "description_width": ""
      }
     },
     "e6877d4a873f4688a85339544559dc2d": {
      "model_module": "@jupyter-widgets/base",
      "model_module_version": "1.1.0",
      "model_name": "LayoutModel",
      "state": {
       "width": "250px"
      }
     },
     "e6be08086e8b4c1eabe018904fe107e7": {
      "model_module": "@jupyter-widgets/controls",
      "model_module_version": "1.4.0",
      "model_name": "HTMLModel",
      "state": {
       "layout": "IPY_MODEL_c0971ea0b09a4f3a8caa202918485894",
       "style": "IPY_MODEL_34ba1739b7b141e6b83ffe57ec80f4d7",
       "value": "<i>Wählen Sie die <ins>eine</ins> korrekte Antwort aus: </i>"
      }
     },
     "e6e1acb61d8e461eb86679d39d97537b": {
      "model_module": "@jupyter-widgets/base",
      "model_module_version": "1.1.0",
      "model_name": "LayoutModel",
      "state": {
       "width": "600px"
      }
     },
     "e727e193c6ff4422b61a4938164cbe55": {
      "model_module": "@jupyter-widgets/base",
      "model_module_version": "1.1.0",
      "model_name": "LayoutModel",
      "state": {
       "width": "250px"
      }
     },
     "e7869c19e84148b984d8f1bd467aa510": {
      "model_module": "@jupyter-widgets/controls",
      "model_module_version": "1.4.0",
      "model_name": "DescriptionStyleModel",
      "state": {
       "description_width": ""
      }
     },
     "e7c70aabe3c4455994eb9e82670d27ae": {
      "model_module": "@jupyter-widgets/controls",
      "model_module_version": "1.4.0",
      "model_name": "CheckboxModel",
      "state": {
       "description": "Variable: -> (1)",
       "disabled": false,
       "layout": "IPY_MODEL_3938eaf29de846c4b05bc9d89692b307",
       "style": "IPY_MODEL_677d876036144fbe93508f4e7f8b8ffd",
       "value": false
      }
     },
     "e8cb5cfbedb54aff8120c98d32ba8935": {
      "model_module": "@jupyter-widgets/base",
      "model_module_version": "1.1.0",
      "model_name": "LayoutModel",
      "state": {
       "width": "250px"
      }
     },
     "e92913e9ccbf477f990bc24d4cf84e43": {
      "model_module": "@jupyter-widgets/controls",
      "model_module_version": "1.4.0",
      "model_name": "DescriptionStyleModel",
      "state": {
       "description_width": "initial"
      }
     },
     "e98ad77c042542118abbf5e659f08ba0": {
      "model_module": "@jupyter-widgets/controls",
      "model_module_version": "1.4.0",
      "model_name": "ButtonModel",
      "state": {
       "description": "Time",
       "layout": "IPY_MODEL_829b0a6ca9b348258320c390bf1c83d1",
       "style": "IPY_MODEL_0483f61a95834bd88b65b31aa75140ca"
      }
     },
     "e9c970669d5f417abb3aed5c73833d1a": {
      "model_module": "@jupyter-widgets/controls",
      "model_module_version": "1.4.0",
      "model_name": "HTMLModel",
      "state": {
       "layout": "IPY_MODEL_b0e5ac48833a4f7baa6b945ccee09bb4",
       "style": "IPY_MODEL_aa5a0b18ced244bb81ff13697a6103b1",
       "value": "<h4 style=\"font-size:14px;\">realisieren. Das Adjektiv muss also, wie auch beim Fehlen des bestimmten Artikels, die</h4>"
      }
     },
     "e9e12540619447cb93e84e67151ea16c": {
      "model_module": "@jupyter-widgets/base",
      "model_module_version": "1.1.0",
      "model_name": "LayoutModel",
      "state": {}
     },
     "eb46e93c648043e7a8d148ff1a276412": {
      "model_module": "@jupyter-widgets/base",
      "model_module_version": "1.1.0",
      "model_name": "LayoutModel",
      "state": {}
     },
     "ebe46bf7772a418f9f958a364ccb5dd5": {
      "model_module": "@jupyter-widgets/controls",
      "model_module_version": "1.4.0",
      "model_name": "DescriptionStyleModel",
      "state": {
       "description_width": ""
      }
     },
     "ebf03b4fce584491a41ba6847a0a8483": {
      "model_module": "@jupyter-widgets/controls",
      "model_module_version": "1.4.0",
      "model_name": "ButtonStyleModel",
      "state": {}
     },
     "ec59591fc7294c3796aa0fa8bed97fb0": {
      "model_module": "@jupyter-widgets/controls",
      "model_module_version": "1.4.0",
      "model_name": "DescriptionStyleModel",
      "state": {
       "description_width": "initial"
      }
     },
     "ecd8d2ff708f4bb58e831ef4f8c40976": {
      "model_module": "@jupyter-widgets/base",
      "model_module_version": "1.1.0",
      "model_name": "LayoutModel",
      "state": {
       "width": "150px"
      }
     },
     "ed7fc9ea73f845a298de85fe6a1a87ae": {
      "model_module": "@jupyter-widgets/base",
      "model_module_version": "1.1.0",
      "model_name": "LayoutModel",
      "state": {}
     },
     "ed9b886fcdf74be99f6205a490fdafe4": {
      "model_module": "@jupyter-widgets/controls",
      "model_module_version": "1.4.0",
      "model_name": "ButtonModel",
      "state": {
       "description": "Korrekt?",
       "layout": "IPY_MODEL_e727e193c6ff4422b61a4938164cbe55",
       "style": "IPY_MODEL_b24627e6f96042a38d2e9d9e33748f44"
      }
     },
     "ee41f52d63044996b9085e3ec0eda57d": {
      "model_module": "@jupyter-widgets/controls",
      "model_module_version": "1.4.0",
      "model_name": "ButtonStyleModel",
      "state": {}
     },
     "ef1405c2dfa4490cba55141f34edb821": {
      "model_module": "@jupyter-widgets/base",
      "model_module_version": "1.1.0",
      "model_name": "LayoutModel",
      "state": {}
     },
     "efbc4e38fbca4c8c915326d020824549": {
      "model_module": "@jupyter-widgets/base",
      "model_module_version": "1.1.0",
      "model_name": "LayoutModel",
      "state": {
       "width": "600px"
      }
     },
     "efe6fc7e62754780814f4c87ee76f606": {
      "model_module": "@jupyter-widgets/controls",
      "model_module_version": "1.4.0",
      "model_name": "DescriptionStyleModel",
      "state": {
       "description_width": "initial"
      }
     },
     "f00e590bb6c54784a70dea6ab7873f0c": {
      "model_module": "@jupyter-widgets/controls",
      "model_module_version": "1.4.0",
      "model_name": "DescriptionStyleModel",
      "state": {
       "description_width": ""
      }
     },
     "f07194177e9e45a3a915aa22bac12d49": {
      "model_module": "@jupyter-widgets/base",
      "model_module_version": "1.1.0",
      "model_name": "LayoutModel",
      "state": {
       "align_content": "stretch",
       "align_items": "stretch",
       "display": "inline-flex",
       "flex": "flex-grow",
       "flex_flow": "row wrap",
       "justify_content": "flex-start"
      }
     },
     "f337fa5d252b46789004743af13abab9": {
      "model_module": "@jupyter-widgets/controls",
      "model_module_version": "1.4.0",
      "model_name": "DescriptionStyleModel",
      "state": {
       "description_width": ""
      }
     },
     "f4287ac1441440dc97418933fe89085a": {
      "model_module": "@jupyter-widgets/controls",
      "model_module_version": "1.4.0",
      "model_name": "DescriptionStyleModel",
      "state": {
       "description_width": "initial"
      }
     },
     "f56610a3cbf04f729f181240b8b7787e": {
      "model_module": "@jupyter-widgets/base",
      "model_module_version": "1.1.0",
      "model_name": "LayoutModel",
      "state": {
       "width": "250px"
      }
     },
     "f56bff7bbaab465d8dd63cd396adabdf": {
      "model_module": "@jupyter-widgets/controls",
      "model_module_version": "1.4.0",
      "model_name": "CheckboxModel",
      "state": {
       "description": "Subjekt-Demotion zu Adverbial",
       "disabled": false,
       "layout": "IPY_MODEL_72ffd1f4da4d48f69240c6d38b9d174a",
       "style": "IPY_MODEL_fd84b1e1ae5945d7bd92272c7e78cea9",
       "value": false
      }
     },
     "f5aa5d6c179a4c09971743c72fad3f14": {
      "model_module": "@jupyter-widgets/controls",
      "model_module_version": "1.4.0",
      "model_name": "HTMLModel",
      "state": {
       "layout": "IPY_MODEL_7e4c93e5db1e433199c6ab856c2e7116",
       "style": "IPY_MODEL_9c86b0e163d44ebd87be0b9b4eda30e1",
       "value": "<h4 style=\"font-size:14px;\">Welche syntaktischen Unterschiede bestehen?</h4>"
      }
     },
     "f602cbecff824beaa10e6ffc12c7dd62": {
      "model_module": "@jupyter-widgets/base",
      "model_module_version": "1.1.0",
      "model_name": "LayoutModel",
      "state": {}
     },
     "f66733624cd44e4d882c70ac228d7f71": {
      "model_module": "@jupyter-widgets/controls",
      "model_module_version": "1.4.0",
      "model_name": "HTMLModel",
      "state": {
       "layout": "IPY_MODEL_a58a5c90c6d94550a4a266e4385bbba9",
       "style": "IPY_MODEL_f337fa5d252b46789004743af13abab9",
       "value": "<h4 style=\"font-size:14px;\">Was gilt immer für das Ergebnis der Unifikation solcher Merkmalstrukturen?</h4>"
      }
     },
     "f67709e322354d2aa7694374f26dca5a": {
      "model_module": "@jupyter-widgets/controls",
      "model_module_version": "1.4.0",
      "model_name": "VBoxModel",
      "state": {
       "children": [
        "IPY_MODEL_51f3ef909015444eb6622702e683e666",
        "IPY_MODEL_a59de5c8e2094700913bdf02d1bfb796",
        "IPY_MODEL_18985dcb6a17479abdc8d09119d3eaee",
        "IPY_MODEL_86d738f9544f49a39ee717286bbaee17"
       ],
       "layout": "IPY_MODEL_320a962a1bb4471b8d92c7b47c4053a6"
      }
     },
     "f79038df5e0e4782bacc49fa48daec4b": {
      "model_module": "@jupyter-widgets/controls",
      "model_module_version": "1.4.0",
      "model_name": "DescriptionStyleModel",
      "state": {
       "description_width": "initial"
      }
     },
     "f7aba7001a8f4bfdaa2505c8ac358c3c": {
      "model_module": "@jupyter-widgets/controls",
      "model_module_version": "1.4.0",
      "model_name": "CheckboxModel",
      "state": {
       "description": "FS0 = [CAT = N, GEN = MASK], FS1 = [CAT = N]",
       "disabled": false,
       "layout": "IPY_MODEL_65e68ea1d8ff48b7ad9bd9d60dde0dc4",
       "style": "IPY_MODEL_7b973c8a1af242ce89864624ef49440e",
       "value": false
      }
     },
     "f7e0e4ed8c964171b535c84be576bd1f": {
      "model_module": "@jupyter-widgets/base",
      "model_module_version": "1.1.0",
      "model_name": "LayoutModel",
      "state": {
       "width": "150px"
      }
     },
     "f8f55738f4904182a8e7c80a372c4ae2": {
      "model_module": "@jupyter-widgets/base",
      "model_module_version": "1.1.0",
      "model_name": "LayoutModel",
      "state": {
       "width": "250px"
      }
     },
     "f8fb3ef356a149a589ae770734770cdc": {
      "model_module": "@jupyter-widgets/controls",
      "model_module_version": "1.4.0",
      "model_name": "ButtonModel",
      "state": {
       "description": "Recipient",
       "layout": "IPY_MODEL_f56610a3cbf04f729f181240b8b7787e",
       "style": "IPY_MODEL_c4fe0237b8b74c008d59f9f639cca5b2"
      }
     },
     "f936b33abad94bd5ae30035ca3cf7a88": {
      "model_module": "@jupyter-widgets/controls",
      "model_module_version": "1.4.0",
      "model_name": "ButtonStyleModel",
      "state": {}
     },
     "f9567a0f8ed24ff7827a5e9c76fdd5fb": {
      "model_module": "@jupyter-widgets/base",
      "model_module_version": "1.1.0",
      "model_name": "LayoutModel",
      "state": {
       "width": "250px"
      }
     },
     "fada315b15304d1ca601032657497e6f": {
      "model_module": "@jupyter-widgets/controls",
      "model_module_version": "1.4.0",
      "model_name": "VBoxModel",
      "state": {
       "children": [
        "IPY_MODEL_cb68120201974362b87118927fc776c2",
        "IPY_MODEL_9606a3b2e9804318b10bd9153e125eeb",
        "IPY_MODEL_884f5f016df7409b975d00b07bc0fc45",
        "IPY_MODEL_93d944e3386c4d448794084c13aa5923"
       ],
       "layout": "IPY_MODEL_eb46e93c648043e7a8d148ff1a276412"
      }
     },
     "fb8bbf98a41f4031ac9caf9b3971abe3": {
      "model_module": "@jupyter-widgets/controls",
      "model_module_version": "1.4.0",
      "model_name": "ButtonStyleModel",
      "state": {}
     },
     "fbeb475f50a349c5ba782b6d3bc7c158": {
      "model_module": "@jupyter-widgets/controls",
      "model_module_version": "1.4.0",
      "model_name": "DescriptionStyleModel",
      "state": {
       "description_width": ""
      }
     },
     "fc63f8b4eb3e417aa872f5b9553e0c61": {
      "model_module": "@jupyter-widgets/controls",
      "model_module_version": "1.4.0",
      "model_name": "HTMLModel",
      "state": {
       "layout": "IPY_MODEL_927d847bcb81428ca86e3690f3b60824",
       "style": "IPY_MODEL_316ae13386f449e6b58ac0adfea2b9da",
       "value": "<h4 style=\"font-size:14px;\">Schildern beide Sätze denselben Sachverhalt?</h4>"
      }
     },
     "fd84b1e1ae5945d7bd92272c7e78cea9": {
      "model_module": "@jupyter-widgets/controls",
      "model_module_version": "1.4.0",
      "model_name": "DescriptionStyleModel",
      "state": {
       "description_width": "initial"
      }
     },
     "fe311877fc394158b5497b26bea11b42": {
      "model_module": "@jupyter-widgets/base",
      "model_module_version": "1.1.0",
      "model_name": "LayoutModel",
      "state": {
       "justify_content": "center"
      }
     },
     "fe980841d29c42cf8247fdd3eb5ab35d": {
      "model_module": "@jupyter-widgets/base",
      "model_module_version": "1.1.0",
      "model_name": "LayoutModel",
      "state": {}
     },
     "feae216a628d4777a3b3df66e20265b7": {
      "model_module": "@jupyter-widgets/controls",
      "model_module_version": "1.4.0",
      "model_name": "VBoxModel",
      "state": {
       "children": [
        "IPY_MODEL_7403dafe32d64ebfba25de84cb7ccb7b",
        "IPY_MODEL_7ae6a01ab6d64449bdffff385cd94d14",
        "IPY_MODEL_578f8a0005ef4f21ad632e7c0f606eba"
       ],
       "layout": "IPY_MODEL_9451a7967ea24940ac8848b1bbcb8e1b"
      }
     },
     "ffce896a47f54d90a19f07a6a9c8b8b1": {
      "model_module": "@jupyter-widgets/base",
      "model_module_version": "1.1.0",
      "model_name": "LayoutModel",
      "state": {}
     },
     "ffec40677cc543b688981f97e26830da": {
      "model_module": "@jupyter-widgets/controls",
      "model_module_version": "1.4.0",
      "model_name": "HBoxModel",
      "state": {
       "children": [
        "IPY_MODEL_21423ba7f6c245c1a0a8a37ebdbbf6ee",
        "IPY_MODEL_c6586e03edad41d6b95f8c1bd0a24e84"
       ],
       "layout": "IPY_MODEL_794a6353f75b49e0945e2e86aa56aff5"
      }
     }
    },
    "version_major": 2,
    "version_minor": 0
   }
  }
 },
 "nbformat": 4,
 "nbformat_minor": 2
}
