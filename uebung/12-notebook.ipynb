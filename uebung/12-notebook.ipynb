{
 "cells": [
  {
   "cell_type": "markdown",
   "metadata": {},
   "source": [
    "***Vorlesung 'Syntax natürlicher Sprachen', WS 2018/19***\n",
    "\n",
    "---\n",
    "# Übung 12"
   ]
  },
  {
   "cell_type": "code",
   "execution_count": 1,
   "metadata": {},
   "outputs": [],
   "source": [
    "from exercises_12 import *\n",
    "from questions import aufgabe\n",
    "import nltk\n",
    "from nltk.corpus import treebank\n",
    "from nltk.grammar import ProbabilisticProduction, PCFG"
   ]
  },
  {
   "cell_type": "markdown",
   "metadata": {},
   "source": [
    "---\n",
    "## Aufgabe 1: Grammatikinduktion\n",
    "\n",
    "#### In dieser Aufgabe soll vollautomatisch aus Daten (Syntaxbäumen) eine probabilistische, kontextfreie Grammatik erzeugt werden.\n",
    "\n",
    "#### Füllen Sie die Lücken und versuchen Sie mithilfe Ihrer automatisch erstellten Grammatik die folgenden Sätze zu parsen:"
   ]
  },
  {
   "cell_type": "code",
   "execution_count": 2,
   "metadata": {},
   "outputs": [],
   "source": [
    "test_sentences = [\n",
    "    \"the men saw a car .\",\n",
    "    \"the woman gave the man a book .\",\n",
    "    \"she gave a book to the man .\",\n",
    "    \"yesterday , all my trouble seemed so far away .\"\n",
    "]"
   ]
  },
  {
   "cell_type": "code",
   "execution_count": 3,
   "metadata": {},
   "outputs": [],
   "source": [
    "# Production count: the number of times a given production occurs\n",
    "pcount = {}\n",
    "\n",
    "# LHS-count: counts the number of times a given lhs occurs\n",
    "lcount = {}\n",
    "\n",
    "for tree in []:\n",
    "    pass\n",
    "        \n",
    "productions = [\n",
    "    ProbabilisticProduction(\n",
    "        p.lhs(), p.rhs(),\n",
    "        prob=None\n",
    "    )\n",
    "    for p in pcount\n",
    "]\n",
    "\n",
    "start = nltk.Nonterminal('S')\n",
    "# grammar = PCFG(start, productions)\n",
    "# parser = nltk.ViterbiParser(grammar)"
   ]
  },
  {
   "cell_type": "markdown",
   "metadata": {},
   "source": [
    "---\n",
    "## Aufgabe 2: Informationsextraktion per Syntaxanalyse\n",
    "\n",
    "#### Gegenstand dieser Aufgabe ist eine anwendungsnahe Möglichkeit, Ergebnisse einer Syntaxanalyse weiterzuverarbeiten. Aus den syntaktischen Abhängigkeiten eines Textes soll (unter Zuhilfenahme einiger Normalisierungsschritte) eine semantische Repräsentation der im Text enthaltenen Informationen gewonnen werden.\n",
    "\n",
    "#### Für die syntaktische Analyse soll der `DependencyParser` der Stanford CoreNLP Suite verwendet werden. Die semantische Repräsentation eines Satzes sei ein zweistelliges, logisches Prädikat, dessen Argumente durch Subjekt und Objekt gefüllt sind. (Bei Fehlen eines der beiden Elemente soll `None` geschrieben werden.)\n",
    "\n",
    "#### Folgendes Beispiel illustriert das gewünschte Ergebnis:\n",
    "\n",
    "#### Eingabe:\n",
    "\n",
    "    I shot an elephant in my pajamas.\n",
    "    The elephant was seen by a giraffe in the desert.\n",
    "    The bird I need is a raven.\n",
    "    The man who saw the raven laughed out loud.\n",
    "\n",
    "#### Ausgabe:\n",
    "\n",
    "    shot(I, elephant)\n",
    "    seen(giraffe, elephant)\n",
    "    need(I, bird)\n",
    "    raven(bird, None)\n",
    "    saw(man, raven)\n",
    "    laughed(man, None)"
   ]
  },
  {
   "cell_type": "markdown",
   "metadata": {},
   "source": [
    "#### Beachten Sie, dass `PATH_TO_CORE` in folgender Code-Zelle Ihrem System entsprechend angepasst werden muss!"
   ]
  },
  {
   "cell_type": "code",
   "execution_count": 4,
   "metadata": {},
   "outputs": [],
   "source": [
    "import warnings\n",
    "warnings.filterwarnings('ignore')"
   ]
  },
  {
   "cell_type": "code",
   "execution_count": 5,
   "metadata": {},
   "outputs": [],
   "source": [
    "from nltk.parse.stanford import StanfordDependencyParser\n",
    "import os\n",
    "\n",
    "PATH_TO_CORE = os.path.join(os.getenv(\"HOME\"), \"nltk_data\", \"stanford-corenlp-full-2018-10-05\")\n",
    "jar = os.path.join(PATH_TO_CORE, \"stanford-corenlp-3.9.2.jar\")\n",
    "model = os.path.join(PATH_TO_CORE,\"stanford-corenlp-3.9.2-models.jar\")\n",
    "\n",
    "dep_parser = StanfordDependencyParser(\n",
    "    jar, model,\n",
    "    model_path=\"edu/stanford/nlp/models/lexparser/englishPCFG.ser.gz\"\n",
    ")"
   ]
  },
  {
   "cell_type": "code",
   "execution_count": 6,
   "metadata": {},
   "outputs": [],
   "source": [
    "def generate_predicates_for_sentence(sentence):\n",
    "    for result in dep_parser.raw_parse(sentence):\n",
    "        for triple in result.triples():\n",
    "            print(*triple)\n",
    "    return []"
   ]
  },
  {
   "cell_type": "code",
   "execution_count": 7,
   "metadata": {},
   "outputs": [
    {
     "name": "stdout",
     "output_type": "stream",
     "text": [
      "('shot', 'VBD') nsubj ('I', 'PRP')\n",
      "('shot', 'VBD') dobj ('elephant', 'NN')\n",
      "('elephant', 'NN') det ('an', 'DT')\n",
      "('shot', 'VBD') nmod ('pajamas', 'NNS')\n",
      "('pajamas', 'NNS') case ('in', 'IN')\n",
      "('pajamas', 'NNS') nmod:poss ('my', 'PRP$')\n"
     ]
    }
   ],
   "source": [
    "for pred in generate_predicates_for_sentence(\n",
    "    \"I shot an elephant in my pajamas.\"\n",
    "):\n",
    "    print(pred)"
   ]
  },
  {
   "cell_type": "code",
   "execution_count": 8,
   "metadata": {},
   "outputs": [],
   "source": [
    "def generate_predicates_for_text(text):\n",
    "    predicates = []\n",
    "    for sent in nltk.tokenize.sent_tokenize(text):\n",
    "        predicates.extend(generate_predicates_for_sentence(sent))\n",
    "    return predicates"
   ]
  },
  {
   "cell_type": "code",
   "execution_count": 9,
   "metadata": {},
   "outputs": [
    {
     "name": "stdout",
     "output_type": "stream",
     "text": [
      "('shot', 'VBD') nsubj ('I', 'PRP')\n",
      "('shot', 'VBD') dobj ('elephant', 'NN')\n",
      "('elephant', 'NN') det ('an', 'DT')\n",
      "('shot', 'VBD') nmod ('pajamas', 'NNS')\n",
      "('pajamas', 'NNS') case ('in', 'IN')\n",
      "('pajamas', 'NNS') nmod:poss ('my', 'PRP$')\n",
      "('seen', 'VBN') nsubjpass ('elephant', 'NN')\n",
      "('elephant', 'NN') det ('The', 'DT')\n",
      "('seen', 'VBN') auxpass ('was', 'VBD')\n",
      "('seen', 'VBN') nmod ('giraffe', 'NN')\n",
      "('giraffe', 'NN') case ('by', 'IN')\n",
      "('giraffe', 'NN') det ('a', 'DT')\n",
      "('raven', 'NN') nsubj ('bird', 'NN')\n",
      "('bird', 'NN') det ('The', 'DT')\n",
      "('bird', 'NN') acl:relcl ('need', 'VBP')\n",
      "('need', 'VBP') nsubj ('I', 'PRP')\n",
      "('raven', 'NN') cop ('is', 'VBZ')\n",
      "('raven', 'NN') det ('a', 'DT')\n",
      "('laughed', 'VBD') nsubj ('man', 'NN')\n",
      "('man', 'NN') det ('The', 'DT')\n",
      "('man', 'NN') acl:relcl ('saw', 'VBD')\n",
      "('saw', 'VBD') nsubj ('who', 'WP')\n",
      "('saw', 'VBD') dobj ('raven', 'NN')\n",
      "('raven', 'NN') det ('the', 'DT')\n",
      "('laughed', 'VBD') compound:prt ('out', 'RP')\n",
      "('laughed', 'VBD') advmod ('loud', 'JJ')\n"
     ]
    }
   ],
   "source": [
    "text = \"\"\"\n",
    "I shot an elephant in my pajamas.\n",
    "The elephant was seen by a giraffe.\n",
    "The bird I need is a raven.\n",
    "The man who saw the raven laughed out loud.\n",
    "\"\"\"\n",
    "\n",
    "for pred in generate_predicates_for_text(text):\n",
    "    print(pred)"
   ]
  },
  {
   "cell_type": "markdown",
   "metadata": {},
   "source": [
    "--- \n",
    "# Hausaufgaben"
   ]
  },
  {
   "cell_type": "markdown",
   "metadata": {},
   "source": [
    "---\n",
    "## Aufgabe 3: Parent Annotation\n",
    "\n",
    "#### *Parent Annotation* kann die Performanz einer CFG wesentlich verbessern. Schreiben Sie eine Funktion, die einen gegebenen Syntaxbaum dieser Optimierung unterzieht. Auf diese Art und Weise transformierte Bäume können dann wiederum zur Grammatikinduktion verwendet werden.\n",
    "\n",
    "#### `parentHistory` soll dabei die Anzahl der Vorgänger sein, die zusätzlich zum direkten Elternknoten berücksichtigt werden. (Die Berücksichtigung dieses Parameters ist optional.)\n",
    "\n",
    "#### `parentChar` soll ein Trennzeichen sein, das bei den neuen Knotenlabels zwischen dem ursprünglichen Knotenlabel und der Liste von Vorgängern eingefügt wird."
   ]
  },
  {
   "cell_type": "code",
   "execution_count": 10,
   "metadata": {},
   "outputs": [],
   "source": [
    "def parent_annotation(tree, parentHistory=0, parentChar=\"^\"):\n",
    "    pass"
   ]
  },
  {
   "cell_type": "code",
   "execution_count": 11,
   "metadata": {},
   "outputs": [],
   "source": [
    "test_tree = nltk.Tree(\n",
    "    \"S\",\n",
    "    [\n",
    "        nltk.Tree(\"NP\", [\n",
    "            nltk.Tree(\"DET\", []),\n",
    "            nltk.Tree(\"N\", [])\n",
    "        ]),\n",
    "        nltk.Tree(\"VP\", [\n",
    "            nltk.Tree(\"V\", []),\n",
    "            nltk.Tree(\"NP\", [\n",
    "                nltk.Tree(\"DET\", []),\n",
    "                nltk.Tree(\"N\", [])\n",
    "            ])\n",
    "        ])\n",
    "    ]\n",
    ")\n",
    "\n",
    "parent_annotation(\n",
    "   test_tree\n",
    ")"
   ]
  },
  {
   "cell_type": "markdown",
   "metadata": {},
   "source": [
    "---\n",
    "## Aufgabe 4: Mehr Semantik für IE\n",
    "\n",
    "#### Zusätzlich zu den in Aufgabe 2 behandelten Konstruktionen sollen jetzt auch negierte und komplexe Sätze mit Konjunktionen sinnvoll verarbeitet werden.\n",
    "\n",
    "#### Eingabe:\n",
    "\n",
    "    I see an elephant.\n",
    "    You didn't see the elephant.\n",
    "    Peter saw the elephant and drank wine.\n",
    "    \n",
    "#### Gewünschte Ausgabe:\n",
    "\n",
    "    see(I, elephant)\n",
    "    not_see(You, elephant)\n",
    "    saw(Peter, elephant)\n",
    "    drank(Peter, wine)\n",
    "    \n",
    "#### Kopieren Sie am besten Ihren aktuellen Stand von oben herunter und fügen Sie Ihre Erweiterungen dann hier ein.    "
   ]
  },
  {
   "cell_type": "code",
   "execution_count": 12,
   "metadata": {},
   "outputs": [],
   "source": [
    "def generate_predicates_for_sentence(sentence):\n",
    "    pass\n",
    "def generate_predicates_for_text(text):\n",
    "    pass"
   ]
  },
  {
   "cell_type": "code",
   "execution_count": 13,
   "metadata": {},
   "outputs": [],
   "source": [
    "text = \"\"\"\n",
    "I see an elephant.\n",
    "You didn't see the elephant.\n",
    "Peter saw the elephant and drank wine.\n",
    "\"\"\""
   ]
  },
  {
   "cell_type": "markdown",
   "metadata": {},
   "source": [
    "---\n",
    "## Aufgabe 5: NLTK-Kapitel zu PCFGs\n",
    "\n",
    "#### In folgenden NLTK-Kapiteln wird das Parsing mit Probabilistischen kontextfreien Grammatiken behandelt:\n",
    "- Teilkapitel 8.6 (’Grammar Development’): http://www.nltk.org/book/ch08.html\n",
    "- Teilkapitel 2.12 und 2.13 (’Grammar Induction’ und ’Normal Forms’) des Zusatzkapitels zu Kapitel 8: http://www.nltk.org/book/ch08-extras.html\n",
    "- (Teilkapitel 2.9-2.11 des Zusatzkapitels zu Kapitel 8 behandelt Probabilistische ’Chart Parsing’-Algorithmen: http://www.nltk.org/book/ch08-extras.html)\n",
    "\n",
    "#### Beantworten Sie folgende Fragen zu Teilkapitel 8.6.2 (’Pernicious Ambiguity’):"
   ]
  },
  {
   "cell_type": "markdown",
   "metadata": {},
   "source": [
    "---\n",
    "### Aufgabe 5 a:\n",
    "\n",
    "#### Welche zwei Faktoren führen bei der syntaktischen Analyse natürlicher Sprache mittels formaler Grammatiken zu mehr Ambiguität (Anzahl an Ableitungen)?"
   ]
  },
  {
   "cell_type": "code",
   "execution_count": 14,
   "metadata": {},
   "outputs": [
    {
     "data": {
      "application/vnd.jupyter.widget-view+json": {
       "model_id": "a75f43a23d024459ae7879f860343c2e",
       "version_major": 2,
       "version_minor": 0
      },
      "text/plain": [
       "MultipleChoice(children=(HTML(value='<h4 style=\"font-size:14px;\">Welche zwei Faktoren führen bei der syntaktis…"
      ]
     },
     "metadata": {},
     "output_type": "display_data"
    }
   ],
   "source": [
    "aufgabe(blatt12_5a)"
   ]
  },
  {
   "cell_type": "markdown",
   "metadata": {},
   "source": [
    "---\n",
    "### Aufgabe 5 b:\n"
   ]
  },
  {
   "cell_type": "code",
   "execution_count": 15,
   "metadata": {},
   "outputs": [
    {
     "data": {
      "application/vnd.jupyter.widget-view+json": {
       "model_id": "d761440293f74fddb8fdd62e820c3c11",
       "version_major": 2,
       "version_minor": 0
      },
      "text/plain": [
       "MultipleChoice(children=(HTML(value='<h4 style=\"font-size:14px;\">Welche zwei Arten von Ambiguität unterscheide…"
      ]
     },
     "metadata": {},
     "output_type": "display_data"
    }
   ],
   "source": [
    "aufgabe(blatt12_5b)"
   ]
  }
 ],
 "metadata": {
  "kernelspec": {
   "display_name": "Python 3",
   "language": "python",
   "name": "python3"
  },
  "language_info": {
   "codemirror_mode": {
    "name": "ipython",
    "version": 3
   },
   "file_extension": ".py",
   "mimetype": "text/x-python",
   "name": "python",
   "nbconvert_exporter": "python",
   "pygments_lexer": "ipython3",
   "version": "3.6.6"
  },
  "widgets": {
   "application/vnd.jupyter.widget-state+json": {
    "state": {
     "038fee618f63444ebc9f854f8680b430": {
      "model_module": "@jupyter-widgets/controls",
      "model_module_version": "1.4.0",
      "model_name": "DescriptionStyleModel",
      "state": {
       "description_width": "initial"
      }
     },
     "057810c22d9c4f9a8e9183751b917f22": {
      "model_module": "@jupyter-widgets/base",
      "model_module_version": "1.1.0",
      "model_name": "LayoutModel",
      "state": {
       "width": "600px"
      }
     },
     "06bb63a69185447aa3a88a5021746289": {
      "model_module": "@jupyter-widgets/base",
      "model_module_version": "1.1.0",
      "model_name": "LayoutModel",
      "state": {}
     },
     "0869f88f16104247b389c3bf75a26d24": {
      "model_module": "@jupyter-widgets/controls",
      "model_module_version": "1.4.0",
      "model_name": "CheckboxModel",
      "state": {
       "description": "kürzere Sätze",
       "disabled": false,
       "layout": "IPY_MODEL_ac3c369022544c02a4b6742915872418",
       "style": "IPY_MODEL_4254c589410846c383b766d5ca01c259",
       "value": false
      }
     },
     "0875126280084fb3b7031d7463be98f2": {
      "model_module": "@jupyter-widgets/controls",
      "model_module_version": "1.4.0",
      "model_name": "DescriptionStyleModel",
      "state": {
       "description_width": "initial"
      }
     },
     "0a67cdb9f02549cba18d86c4f1991de0": {
      "model_module": "@jupyter-widgets/controls",
      "model_module_version": "1.4.0",
      "model_name": "ButtonModel",
      "state": {
       "description": "Korrekt?",
       "layout": "IPY_MODEL_c731a99164604203965e52078d71333d",
       "style": "IPY_MODEL_369ac3254ac949819eaf4c2e3eb60649"
      }
     },
     "0adc07243c0044bf8c73d33a1ec3bfb5": {
      "model_module": "@jupyter-widgets/base",
      "model_module_version": "1.1.0",
      "model_name": "LayoutModel",
      "state": {
       "width": "600px"
      }
     },
     "0ffe8980be244e34a00d59eef29b5f62": {
      "model_module": "@jupyter-widgets/base",
      "model_module_version": "1.1.0",
      "model_name": "LayoutModel",
      "state": {}
     },
     "10683d0b19b147cdb0d92c22d6652f13": {
      "model_module": "@jupyter-widgets/base",
      "model_module_version": "1.1.0",
      "model_name": "LayoutModel",
      "state": {
       "width": "250px"
      }
     },
     "11206b3bc4f54b418a0c36a3a19a9fee": {
      "model_module": "@jupyter-widgets/controls",
      "model_module_version": "1.4.0",
      "model_name": "CheckboxModel",
      "state": {
       "description": "lexikalische Ambiguität",
       "disabled": false,
       "layout": "IPY_MODEL_6a497985dc4e43c8b156538bbbf896b3",
       "style": "IPY_MODEL_038fee618f63444ebc9f854f8680b430",
       "value": false
      }
     },
     "12a71890b4dc454d94875d4a4587d1a6": {
      "model_module": "@jupyter-widgets/controls",
      "model_module_version": "1.4.0",
      "model_name": "VBoxModel",
      "state": {
       "children": [
        "IPY_MODEL_faeb029082644b8d848ab6f001c78b02",
        "IPY_MODEL_e46ce42583624823b9d012ff61c23ca1",
        "IPY_MODEL_999c4d73918d4bf698a4d1a205f74c62",
        "IPY_MODEL_470de447147d4dc59d197507678a4a77"
       ],
       "layout": "IPY_MODEL_2fb3ffea615d43209b94a3fdbdf1e976"
      }
     },
     "12f6ea141a0c4388b80778aea5ea8fcc": {
      "model_module": "@jupyter-widgets/base",
      "model_module_version": "1.1.0",
      "model_name": "LayoutModel",
      "state": {
       "justify_content": "center"
      }
     },
     "1411c2de37c34192a78ba428ec04c82d": {
      "model_module": "@jupyter-widgets/base",
      "model_module_version": "1.1.0",
      "model_name": "LayoutModel",
      "state": {}
     },
     "1448ee3ebde941c4a4ddf48a38659ab0": {
      "model_module": "@jupyter-widgets/controls",
      "model_module_version": "1.4.0",
      "model_name": "DescriptionStyleModel",
      "state": {
       "description_width": "initial"
      }
     },
     "1690ce5c6086478c9c867ad616cb0771": {
      "model_module": "@jupyter-widgets/controls",
      "model_module_version": "1.4.0",
      "model_name": "CheckboxModel",
      "state": {
       "description": "Zunahme der Anzahl von Regeln",
       "disabled": false,
       "layout": "IPY_MODEL_dd0cb8ebdb454fe59ccb83aff51f31fd",
       "style": "IPY_MODEL_e61e9ba33d52493882007c6072dc809c",
       "value": true
      }
     },
     "1d3c3221345e483caffd3d87b0efcc86": {
      "model_module": "@jupyter-widgets/base",
      "model_module_version": "1.1.0",
      "model_name": "LayoutModel",
      "state": {}
     },
     "1fce46871e59403a91a5611663f22fe3": {
      "model_module": "@jupyter-widgets/base",
      "model_module_version": "1.1.0",
      "model_name": "LayoutModel",
      "state": {
       "justify_content": "center"
      }
     },
     "23dc3fe7b534478f9bcb7f0a79cfde2f": {
      "model_module": "@jupyter-widgets/controls",
      "model_module_version": "1.4.0",
      "model_name": "CheckboxModel",
      "state": {
       "description": "strukturelle Ambiguität",
       "disabled": false,
       "layout": "IPY_MODEL_f5b1067394ae4e8b8bad9c85b2a501f7",
       "style": "IPY_MODEL_6c7d6cb414774219b5ddf5160de86855",
       "value": false
      }
     },
     "2d15c17b924b4399bda81db5666cb215": {
      "model_module": "@jupyter-widgets/controls",
      "model_module_version": "1.4.0",
      "model_name": "DescriptionStyleModel",
      "state": {
       "description_width": "initial"
      }
     },
     "2f88ce5c2eff4dbea4cb2434cd5c900c": {
      "model_module": "@jupyter-widgets/base",
      "model_module_version": "1.1.0",
      "model_name": "LayoutModel",
      "state": {
       "width": "600px"
      }
     },
     "2fb3ffea615d43209b94a3fdbdf1e976": {
      "model_module": "@jupyter-widgets/base",
      "model_module_version": "1.1.0",
      "model_name": "LayoutModel",
      "state": {}
     },
     "32b144bd8e364f07914a77b285fdc822": {
      "model_module": "@jupyter-widgets/controls",
      "model_module_version": "1.4.0",
      "model_name": "CheckboxModel",
      "state": {
       "description": "Zunahme der Anzahl von Regeln",
       "disabled": false,
       "layout": "IPY_MODEL_76b92abfd24d4423b38bd592dad7f51b",
       "style": "IPY_MODEL_649eb8b5cb6e47c3a0c125851ec40b6a",
       "value": false
      }
     },
     "353776230168400489a25e1cd87f8c7b": {
      "model_module": "@jupyter-widgets/controls",
      "model_module_version": "1.4.0",
      "model_name": "ButtonModel",
      "state": {
       "description": "Korrekt?",
       "layout": "IPY_MODEL_e0d95579bcfa49e38e9ef2bdd44900f6",
       "style": "IPY_MODEL_44f3ee1b10dc44438e48cf422f8efac0"
      }
     },
     "367b290daaec4672b6f88f3426cca66c": {
      "model_module": "@jupyter-widgets/controls",
      "model_module_version": "1.4.0",
      "model_name": "VBoxModel",
      "state": {
       "children": [
        "IPY_MODEL_3d7b018339d84c6697bcf5d5731b881c",
        "IPY_MODEL_bf82392acc5142f29fda9ffa4a88698a",
        "IPY_MODEL_11206b3bc4f54b418a0c36a3a19a9fee",
        "IPY_MODEL_23dc3fe7b534478f9bcb7f0a79cfde2f"
       ],
       "layout": "IPY_MODEL_e997bbf0b5f340848e3feeef420e00cb"
      }
     },
     "369ac3254ac949819eaf4c2e3eb60649": {
      "model_module": "@jupyter-widgets/controls",
      "model_module_version": "1.4.0",
      "model_name": "ButtonStyleModel",
      "state": {}
     },
     "3912113ffa214644805a7c1aeb7899ca": {
      "model_module": "@jupyter-widgets/controls",
      "model_module_version": "1.4.0",
      "model_name": "CheckboxModel",
      "state": {
       "description": "längere Sätze",
       "disabled": false,
       "layout": "IPY_MODEL_a2a466a15ffd4b399ebb3f7c7d468381",
       "style": "IPY_MODEL_b44cb0b9bc8a42d98aeadfae88de14aa",
       "value": true
      }
     },
     "3d7b018339d84c6697bcf5d5731b881c": {
      "model_module": "@jupyter-widgets/controls",
      "model_module_version": "1.4.0",
      "model_name": "CheckboxModel",
      "state": {
       "description": "Attachment-Ambiguität",
       "disabled": false,
       "layout": "IPY_MODEL_2f88ce5c2eff4dbea4cb2434cd5c900c",
       "style": "IPY_MODEL_4c36f5b4339b4fbb80d050867e22f510",
       "value": false
      }
     },
     "4156b80fc8eb4766be3b0df228ca9051": {
      "model_module": "@jupyter-widgets/base",
      "model_module_version": "1.1.0",
      "model_name": "LayoutModel",
      "state": {
       "width": "600px"
      }
     },
     "4254c589410846c383b766d5ca01c259": {
      "model_module": "@jupyter-widgets/controls",
      "model_module_version": "1.4.0",
      "model_name": "DescriptionStyleModel",
      "state": {
       "description_width": "initial"
      }
     },
     "44f3ee1b10dc44438e48cf422f8efac0": {
      "model_module": "@jupyter-widgets/controls",
      "model_module_version": "1.4.0",
      "model_name": "ButtonStyleModel",
      "state": {}
     },
     "46fd846ad5dc488b98042841f9076ca5": {
      "model_module": "@jupyter-widgets/base",
      "model_module_version": "1.1.0",
      "model_name": "LayoutModel",
      "state": {
       "justify_content": "center"
      }
     },
     "470de447147d4dc59d197507678a4a77": {
      "model_module": "@jupyter-widgets/controls",
      "model_module_version": "1.4.0",
      "model_name": "ButtonModel",
      "state": {
       "description": "Korrekt?",
       "layout": "IPY_MODEL_10683d0b19b147cdb0d92c22d6652f13",
       "style": "IPY_MODEL_9ae762ba3d314258a752a87bbd3e5c1d"
      }
     },
     "492b8eff50424966a811cbb2b20621f6": {
      "model_module": "@jupyter-widgets/controls",
      "model_module_version": "1.4.0",
      "model_name": "HTMLModel",
      "state": {
       "layout": "IPY_MODEL_eb4118aa0ddd45118cfec72d87927282",
       "style": "IPY_MODEL_9de4d861178b413bbbff4710b70037d3",
       "value": "<i>Wählen Sie die zwei korrekten Antworten aus.</i>"
      }
     },
     "49b048f070f64b3488c93202a05dcba5": {
      "model_module": "@jupyter-widgets/controls",
      "model_module_version": "1.4.0",
      "model_name": "DescriptionStyleModel",
      "state": {
       "description_width": ""
      }
     },
     "4c36f5b4339b4fbb80d050867e22f510": {
      "model_module": "@jupyter-widgets/controls",
      "model_module_version": "1.4.0",
      "model_name": "DescriptionStyleModel",
      "state": {
       "description_width": "initial"
      }
     },
     "4dc9fdadadd94c03b5cad6191ee0c439": {
      "model_module": "@jupyter-widgets/controls",
      "model_module_version": "1.4.0",
      "model_name": "HTMLModel",
      "state": {
       "layout": "IPY_MODEL_1411c2de37c34192a78ba428ec04c82d",
       "style": "IPY_MODEL_752ed3e886ba43a7941cfc8728395aa5",
       "value": "<h4 style=\"font-size:14px;\">Welche zwei Faktoren führen bei der syntaktischen Analyse natürlicher Sprache mittels formaler Grammatiken zu mehr Ambiguität (Anzahl an Ableitungen)?</h4>"
      }
     },
     "54989be193bc43e4ad24af8d68ee71eb": {
      "model_module": "@jupyter-widgets/controls",
      "model_module_version": "1.4.0",
      "model_name": "ButtonStyleModel",
      "state": {
       "button_color": "lightgreen"
      }
     },
     "5538cf0f86ac45a29fc36f17b706048a": {
      "model_module": "@jupyter-widgets/controls",
      "model_module_version": "1.4.0",
      "model_name": "DescriptionStyleModel",
      "state": {
       "description_width": "initial"
      }
     },
     "569b8534d5ee4bd383ce2fa15b0e00c2": {
      "model_module": "@jupyter-widgets/controls",
      "model_module_version": "1.4.0",
      "model_name": "DescriptionStyleModel",
      "state": {
       "description_width": ""
      }
     },
     "5adf3963b53b4ddfb1a780a411754384": {
      "model_module": "@jupyter-widgets/controls",
      "model_module_version": "1.4.0",
      "model_name": "DescriptionStyleModel",
      "state": {
       "description_width": ""
      }
     },
     "5b9ac8c808884f77800738fee074d2ce": {
      "model_module": "@jupyter-widgets/controls",
      "model_module_version": "1.4.0",
      "model_name": "CheckboxModel",
      "state": {
       "description": "kürzere Sätze",
       "disabled": false,
       "layout": "IPY_MODEL_0adc07243c0044bf8c73d33a1ec3bfb5",
       "style": "IPY_MODEL_2d15c17b924b4399bda81db5666cb215",
       "value": false
      }
     },
     "5d2292d072cf44ec8c8168865665bd1e": {
      "model_module": "@jupyter-widgets/controls",
      "model_module_version": "1.4.0",
      "model_name": "DescriptionStyleModel",
      "state": {
       "description_width": "initial"
      }
     },
     "5ef33a1ea9944b148fd72c68d1fed047": {
      "model_module": "@jupyter-widgets/base",
      "model_module_version": "1.1.0",
      "model_name": "LayoutModel",
      "state": {
       "width": "600px"
      }
     },
     "649eb8b5cb6e47c3a0c125851ec40b6a": {
      "model_module": "@jupyter-widgets/controls",
      "model_module_version": "1.4.0",
      "model_name": "DescriptionStyleModel",
      "state": {
       "description_width": "initial"
      }
     },
     "67ef6a880aab420c9a667a9ee03cdf20": {
      "model_module": "@jupyter-widgets/base",
      "model_module_version": "1.1.0",
      "model_name": "LayoutModel",
      "state": {}
     },
     "6a497985dc4e43c8b156538bbbf896b3": {
      "model_module": "@jupyter-widgets/base",
      "model_module_version": "1.1.0",
      "model_name": "LayoutModel",
      "state": {
       "width": "600px"
      }
     },
     "6c7d6cb414774219b5ddf5160de86855": {
      "model_module": "@jupyter-widgets/controls",
      "model_module_version": "1.4.0",
      "model_name": "DescriptionStyleModel",
      "state": {
       "description_width": "initial"
      }
     },
     "6d707ed8d60747b0a31d29099b5b81bf": {
      "model_module": "@jupyter-widgets/controls",
      "model_module_version": "1.4.0",
      "model_name": "DescriptionStyleModel",
      "state": {
       "description_width": "initial"
      }
     },
     "752ed3e886ba43a7941cfc8728395aa5": {
      "model_module": "@jupyter-widgets/controls",
      "model_module_version": "1.4.0",
      "model_name": "DescriptionStyleModel",
      "state": {
       "description_width": ""
      }
     },
     "76b92abfd24d4423b38bd592dad7f51b": {
      "model_module": "@jupyter-widgets/base",
      "model_module_version": "1.1.0",
      "model_name": "LayoutModel",
      "state": {
       "width": "600px"
      }
     },
     "7aba5e935a2f4acd9d7fb5722693ae6b": {
      "model_module": "@jupyter-widgets/controls",
      "model_module_version": "1.4.0",
      "model_name": "CheckboxModel",
      "state": {
       "description": "Abnahme der Anzahl von Regeln",
       "disabled": false,
       "layout": "IPY_MODEL_057810c22d9c4f9a8e9183751b917f22",
       "style": "IPY_MODEL_93d2ab7017a64f5a899b0e214d155ec2",
       "value": false
      }
     },
     "8c86e7d3e78b4937939a1c6f584ff204": {
      "model_module": "@jupyter-widgets/base",
      "model_module_version": "1.1.0",
      "model_name": "LayoutModel",
      "state": {
       "width": "600px"
      }
     },
     "8c8a12f3e6ef4fca9b5ddaae5e28f2b9": {
      "model_module": "@jupyter-widgets/controls",
      "model_module_version": "1.4.0",
      "model_name": "ButtonModel",
      "state": {
       "description": "Korrekt?",
       "layout": "IPY_MODEL_b758b672af6d4a48bcf9dec82729022d",
       "style": "IPY_MODEL_54989be193bc43e4ad24af8d68ee71eb"
      }
     },
     "8d99b85260b349a28a5a7bfbf65dfe15": {
      "model_module": "@jupyter-widgets/controls",
      "model_module_version": "1.4.0",
      "model_name": "CheckboxModel",
      "state": {
       "description": "Abnahme der Anzahl von Regeln",
       "disabled": false,
       "layout": "IPY_MODEL_5ef33a1ea9944b148fd72c68d1fed047",
       "style": "IPY_MODEL_0875126280084fb3b7031d7463be98f2",
       "value": false
      }
     },
     "8de5994c02a44d7ab31a43c52ecea3fb": {
      "model_module": "@jupyter-widgets/base",
      "model_module_version": "1.1.0",
      "model_name": "LayoutModel",
      "state": {
       "width": "600px"
      }
     },
     "8e5eb2484a4343c48082476bc9e7781a": {
      "model_module": "@jupyter-widgets/controls",
      "model_module_version": "1.4.0",
      "model_name": "VBoxModel",
      "state": {
       "children": [
        "IPY_MODEL_8d99b85260b349a28a5a7bfbf65dfe15",
        "IPY_MODEL_32b144bd8e364f07914a77b285fdc822",
        "IPY_MODEL_5b9ac8c808884f77800738fee074d2ce",
        "IPY_MODEL_f787c6a3049e4633b2c7614e99ac2710"
       ],
       "layout": "IPY_MODEL_90398b2671c143de8c27e647f31d71f6"
      }
     },
     "90398b2671c143de8c27e647f31d71f6": {
      "model_module": "@jupyter-widgets/base",
      "model_module_version": "1.1.0",
      "model_name": "LayoutModel",
      "state": {}
     },
     "93d2ab7017a64f5a899b0e214d155ec2": {
      "model_module": "@jupyter-widgets/controls",
      "model_module_version": "1.4.0",
      "model_name": "DescriptionStyleModel",
      "state": {
       "description_width": "initial"
      }
     },
     "94bac248d3b74bbbae0126c7c5cd3f0d": {
      "model_module": "@jupyter-widgets/controls",
      "model_module_version": "1.4.0",
      "model_name": "HTMLModel",
      "state": {
       "layout": "IPY_MODEL_1d3c3221345e483caffd3d87b0efcc86",
       "style": "IPY_MODEL_49b048f070f64b3488c93202a05dcba5",
       "value": "<h4 style=\"font-size:14px;\">Welche zwei Arten von Ambiguität unterscheidet man hier?</h4>"
      }
     },
     "999c4d73918d4bf698a4d1a205f74c62": {
      "model_module": "@jupyter-widgets/controls",
      "model_module_version": "1.4.0",
      "model_name": "VBoxModel",
      "state": {
       "children": [
        "IPY_MODEL_d9cda01968774f92a3f9ba3679bb2280",
        "IPY_MODEL_b26e181f30b84892b376c8112092b384",
        "IPY_MODEL_b67ca3baf97d428594eb46483fbad5b5",
        "IPY_MODEL_d250abd7f2fd47f395a6d5145f27fb86"
       ],
       "layout": "IPY_MODEL_06bb63a69185447aa3a88a5021746289"
      }
     },
     "9ae762ba3d314258a752a87bbd3e5c1d": {
      "model_module": "@jupyter-widgets/controls",
      "model_module_version": "1.4.0",
      "model_name": "ButtonStyleModel",
      "state": {
       "button_color": "lightgreen"
      }
     },
     "9d9e3a03598e47e58c78a44ba1f1a55b": {
      "model_module": "@jupyter-widgets/controls",
      "model_module_version": "1.4.0",
      "model_name": "VBoxModel",
      "state": {
       "children": [
        "IPY_MODEL_7aba5e935a2f4acd9d7fb5722693ae6b",
        "IPY_MODEL_1690ce5c6086478c9c867ad616cb0771",
        "IPY_MODEL_0869f88f16104247b389c3bf75a26d24",
        "IPY_MODEL_3912113ffa214644805a7c1aeb7899ca"
       ],
       "layout": "IPY_MODEL_b498832a7359490d82f29e3d13a0b88c"
      }
     },
     "9de4d861178b413bbbff4710b70037d3": {
      "model_module": "@jupyter-widgets/controls",
      "model_module_version": "1.4.0",
      "model_name": "DescriptionStyleModel",
      "state": {
       "description_width": ""
      }
     },
     "a1dea17e2b7d4ac989784d2e2afe5bed": {
      "model_module": "@jupyter-widgets/controls",
      "model_module_version": "1.4.0",
      "model_name": "DescriptionStyleModel",
      "state": {
       "description_width": "initial"
      }
     },
     "a2a466a15ffd4b399ebb3f7c7d468381": {
      "model_module": "@jupyter-widgets/base",
      "model_module_version": "1.1.0",
      "model_name": "LayoutModel",
      "state": {
       "width": "600px"
      }
     },
     "a4bd2119f3c145d19bdf81e03e0069d2": {
      "model_module": "@jupyter-widgets/base",
      "model_module_version": "1.1.0",
      "model_name": "LayoutModel",
      "state": {
       "width": "600px"
      }
     },
     "a75f43a23d024459ae7879f860343c2e": {
      "model_module": "@jupyter-widgets/controls",
      "model_module_version": "1.4.0",
      "model_name": "VBoxModel",
      "state": {
       "children": [
        "IPY_MODEL_4dc9fdadadd94c03b5cad6191ee0c439",
        "IPY_MODEL_f2d2de8dff8f42d082a4b148bf6e5bfa",
        "IPY_MODEL_8e5eb2484a4343c48082476bc9e7781a",
        "IPY_MODEL_353776230168400489a25e1cd87f8c7b"
       ],
       "layout": "IPY_MODEL_0ffe8980be244e34a00d59eef29b5f62"
      }
     },
     "ac3c369022544c02a4b6742915872418": {
      "model_module": "@jupyter-widgets/base",
      "model_module_version": "1.1.0",
      "model_name": "LayoutModel",
      "state": {
       "width": "600px"
      }
     },
     "b229f0c6bc8445728c03c2ef06fa3611": {
      "model_module": "@jupyter-widgets/base",
      "model_module_version": "1.1.0",
      "model_name": "LayoutModel",
      "state": {}
     },
     "b26e181f30b84892b376c8112092b384": {
      "model_module": "@jupyter-widgets/controls",
      "model_module_version": "1.4.0",
      "model_name": "CheckboxModel",
      "state": {
       "description": "Koordinierungsambigutiät",
       "disabled": false,
       "layout": "IPY_MODEL_f005948f3caf49d3b07c8bd765d9e3d3",
       "style": "IPY_MODEL_d8a4dfca7da7494c9c1a534ab1e50be8",
       "value": false
      }
     },
     "b44cb0b9bc8a42d98aeadfae88de14aa": {
      "model_module": "@jupyter-widgets/controls",
      "model_module_version": "1.4.0",
      "model_name": "DescriptionStyleModel",
      "state": {
       "description_width": "initial"
      }
     },
     "b498832a7359490d82f29e3d13a0b88c": {
      "model_module": "@jupyter-widgets/base",
      "model_module_version": "1.1.0",
      "model_name": "LayoutModel",
      "state": {}
     },
     "b67ca3baf97d428594eb46483fbad5b5": {
      "model_module": "@jupyter-widgets/controls",
      "model_module_version": "1.4.0",
      "model_name": "CheckboxModel",
      "state": {
       "description": "lexikalische Ambiguität",
       "disabled": false,
       "layout": "IPY_MODEL_bf7bcef70ae045bfb84b9cd9daf353aa",
       "style": "IPY_MODEL_a1dea17e2b7d4ac989784d2e2afe5bed",
       "value": true
      }
     },
     "b758b672af6d4a48bcf9dec82729022d": {
      "model_module": "@jupyter-widgets/base",
      "model_module_version": "1.1.0",
      "model_name": "LayoutModel",
      "state": {
       "width": "250px"
      }
     },
     "bbbf77649850420fa71bb043306d5e28": {
      "model_module": "@jupyter-widgets/controls",
      "model_module_version": "1.4.0",
      "model_name": "HTMLModel",
      "state": {
       "layout": "IPY_MODEL_b229f0c6bc8445728c03c2ef06fa3611",
       "style": "IPY_MODEL_569b8534d5ee4bd383ce2fa15b0e00c2",
       "value": "<h4 style=\"font-size:14px;\">Welche zwei Faktoren führen bei der syntaktischen Analyse natürlicher Sprache mittels formaler Grammatiken zu mehr Ambiguität (Anzahl an Ableitungen)?</h4>"
      }
     },
     "bf7bcef70ae045bfb84b9cd9daf353aa": {
      "model_module": "@jupyter-widgets/base",
      "model_module_version": "1.1.0",
      "model_name": "LayoutModel",
      "state": {
       "width": "600px"
      }
     },
     "bf82392acc5142f29fda9ffa4a88698a": {
      "model_module": "@jupyter-widgets/controls",
      "model_module_version": "1.4.0",
      "model_name": "CheckboxModel",
      "state": {
       "description": "Koordinierungsambigutiät",
       "disabled": false,
       "layout": "IPY_MODEL_8c86e7d3e78b4937939a1c6f584ff204",
       "style": "IPY_MODEL_5d2292d072cf44ec8c8168865665bd1e",
       "value": false
      }
     },
     "c731a99164604203965e52078d71333d": {
      "model_module": "@jupyter-widgets/base",
      "model_module_version": "1.1.0",
      "model_name": "LayoutModel",
      "state": {
       "width": "250px"
      }
     },
     "ce57ddad64b74341951a831a8b39aabc": {
      "model_module": "@jupyter-widgets/controls",
      "model_module_version": "1.4.0",
      "model_name": "DescriptionStyleModel",
      "state": {
       "description_width": ""
      }
     },
     "d02bb77620ce42649caa05b32f1d0d5e": {
      "model_module": "@jupyter-widgets/controls",
      "model_module_version": "1.4.0",
      "model_name": "VBoxModel",
      "state": {
       "children": [
        "IPY_MODEL_bbbf77649850420fa71bb043306d5e28",
        "IPY_MODEL_eb01101482dc4f00945af11e50ae9336",
        "IPY_MODEL_9d9e3a03598e47e58c78a44ba1f1a55b",
        "IPY_MODEL_8c8a12f3e6ef4fca9b5ddaae5e28f2b9"
       ],
       "layout": "IPY_MODEL_67ef6a880aab420c9a667a9ee03cdf20"
      }
     },
     "d250abd7f2fd47f395a6d5145f27fb86": {
      "model_module": "@jupyter-widgets/controls",
      "model_module_version": "1.4.0",
      "model_name": "CheckboxModel",
      "state": {
       "description": "strukturelle Ambiguität",
       "disabled": false,
       "layout": "IPY_MODEL_4156b80fc8eb4766be3b0df228ca9051",
       "style": "IPY_MODEL_1448ee3ebde941c4a4ddf48a38659ab0",
       "value": true
      }
     },
     "d761440293f74fddb8fdd62e820c3c11": {
      "model_module": "@jupyter-widgets/controls",
      "model_module_version": "1.4.0",
      "model_name": "VBoxModel",
      "state": {
       "children": [
        "IPY_MODEL_94bac248d3b74bbbae0126c7c5cd3f0d",
        "IPY_MODEL_492b8eff50424966a811cbb2b20621f6",
        "IPY_MODEL_367b290daaec4672b6f88f3426cca66c",
        "IPY_MODEL_0a67cdb9f02549cba18d86c4f1991de0"
       ],
       "layout": "IPY_MODEL_e70dcd6e61c14bb5890d8edb364fd3d2"
      }
     },
     "d8a4dfca7da7494c9c1a534ab1e50be8": {
      "model_module": "@jupyter-widgets/controls",
      "model_module_version": "1.4.0",
      "model_name": "DescriptionStyleModel",
      "state": {
       "description_width": "initial"
      }
     },
     "d9cda01968774f92a3f9ba3679bb2280": {
      "model_module": "@jupyter-widgets/controls",
      "model_module_version": "1.4.0",
      "model_name": "CheckboxModel",
      "state": {
       "description": "Attachment-Ambiguität",
       "disabled": false,
       "layout": "IPY_MODEL_8de5994c02a44d7ab31a43c52ecea3fb",
       "style": "IPY_MODEL_5538cf0f86ac45a29fc36f17b706048a",
       "value": false
      }
     },
     "daec7eb1549342caa8007e7309f60129": {
      "model_module": "@jupyter-widgets/controls",
      "model_module_version": "1.4.0",
      "model_name": "DescriptionStyleModel",
      "state": {
       "description_width": ""
      }
     },
     "dd0cb8ebdb454fe59ccb83aff51f31fd": {
      "model_module": "@jupyter-widgets/base",
      "model_module_version": "1.1.0",
      "model_name": "LayoutModel",
      "state": {
       "width": "600px"
      }
     },
     "e0d95579bcfa49e38e9ef2bdd44900f6": {
      "model_module": "@jupyter-widgets/base",
      "model_module_version": "1.1.0",
      "model_name": "LayoutModel",
      "state": {
       "width": "250px"
      }
     },
     "e46ce42583624823b9d012ff61c23ca1": {
      "model_module": "@jupyter-widgets/controls",
      "model_module_version": "1.4.0",
      "model_name": "HTMLModel",
      "state": {
       "layout": "IPY_MODEL_46fd846ad5dc488b98042841f9076ca5",
       "style": "IPY_MODEL_ce57ddad64b74341951a831a8b39aabc",
       "value": "<i>Wählen Sie die zwei korrekten Antworten aus.</i>"
      }
     },
     "e61e9ba33d52493882007c6072dc809c": {
      "model_module": "@jupyter-widgets/controls",
      "model_module_version": "1.4.0",
      "model_name": "DescriptionStyleModel",
      "state": {
       "description_width": "initial"
      }
     },
     "e70dcd6e61c14bb5890d8edb364fd3d2": {
      "model_module": "@jupyter-widgets/base",
      "model_module_version": "1.1.0",
      "model_name": "LayoutModel",
      "state": {}
     },
     "e997bbf0b5f340848e3feeef420e00cb": {
      "model_module": "@jupyter-widgets/base",
      "model_module_version": "1.1.0",
      "model_name": "LayoutModel",
      "state": {}
     },
     "eb01101482dc4f00945af11e50ae9336": {
      "model_module": "@jupyter-widgets/controls",
      "model_module_version": "1.4.0",
      "model_name": "HTMLModel",
      "state": {
       "layout": "IPY_MODEL_12f6ea141a0c4388b80778aea5ea8fcc",
       "style": "IPY_MODEL_5adf3963b53b4ddfb1a780a411754384",
       "value": "<i>Wählen Sie die zwei korrekten Antworten aus.</i>"
      }
     },
     "eb4118aa0ddd45118cfec72d87927282": {
      "model_module": "@jupyter-widgets/base",
      "model_module_version": "1.1.0",
      "model_name": "LayoutModel",
      "state": {
       "justify_content": "center"
      }
     },
     "f005948f3caf49d3b07c8bd765d9e3d3": {
      "model_module": "@jupyter-widgets/base",
      "model_module_version": "1.1.0",
      "model_name": "LayoutModel",
      "state": {
       "width": "600px"
      }
     },
     "f2d2de8dff8f42d082a4b148bf6e5bfa": {
      "model_module": "@jupyter-widgets/controls",
      "model_module_version": "1.4.0",
      "model_name": "HTMLModel",
      "state": {
       "layout": "IPY_MODEL_1fce46871e59403a91a5611663f22fe3",
       "style": "IPY_MODEL_daec7eb1549342caa8007e7309f60129",
       "value": "<i>Wählen Sie die zwei korrekten Antworten aus.</i>"
      }
     },
     "f5b1067394ae4e8b8bad9c85b2a501f7": {
      "model_module": "@jupyter-widgets/base",
      "model_module_version": "1.1.0",
      "model_name": "LayoutModel",
      "state": {
       "width": "600px"
      }
     },
     "f787c6a3049e4633b2c7614e99ac2710": {
      "model_module": "@jupyter-widgets/controls",
      "model_module_version": "1.4.0",
      "model_name": "CheckboxModel",
      "state": {
       "description": "längere Sätze",
       "disabled": false,
       "layout": "IPY_MODEL_a4bd2119f3c145d19bdf81e03e0069d2",
       "style": "IPY_MODEL_6d707ed8d60747b0a31d29099b5b81bf",
       "value": false
      }
     },
     "f97a7a77ce0a4a709047ec2ea5f6b7f9": {
      "model_module": "@jupyter-widgets/controls",
      "model_module_version": "1.4.0",
      "model_name": "DescriptionStyleModel",
      "state": {
       "description_width": ""
      }
     },
     "faeb029082644b8d848ab6f001c78b02": {
      "model_module": "@jupyter-widgets/controls",
      "model_module_version": "1.4.0",
      "model_name": "HTMLModel",
      "state": {
       "layout": "IPY_MODEL_fb588679b63b4d7591fa08c5daad727d",
       "style": "IPY_MODEL_f97a7a77ce0a4a709047ec2ea5f6b7f9",
       "value": "<h4 style=\"font-size:14px;\">Welche zwei Arten von Ambiguität unterscheidet man hier?</h4>"
      }
     },
     "fb588679b63b4d7591fa08c5daad727d": {
      "model_module": "@jupyter-widgets/base",
      "model_module_version": "1.1.0",
      "model_name": "LayoutModel",
      "state": {}
     }
    },
    "version_major": 2,
    "version_minor": 0
   }
  }
 },
 "nbformat": 4,
 "nbformat_minor": 2
}
